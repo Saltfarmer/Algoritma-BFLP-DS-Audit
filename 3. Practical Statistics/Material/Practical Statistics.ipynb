{
 "cells": [
  {
   "cell_type": "markdown",
   "metadata": {},
   "source": [
    "**Coursebook: Practical Statistics**\n",
    "\n",
    "- Bagian 2 Audit Analytics untuk Bank Rakyat Indonesia\n",
    "- Durasi: 7 Jam\n",
    "- *Last Updated*: December 2023\n",
    "\n",
    "___\n",
    "\n",
    "- *Coursebook* ini disusun dan dikurasi oleh tim produk dan instruktur dari [Algoritma Data Science School](https://algorit.ma/)"
   ]
  },
  {
   "cell_type": "markdown",
   "metadata": {},
   "source": [
    "# Background\n",
    "\n",
    "*Coursebook* ini merupakan bagian dari **BRI Audit Analytics** yang disiapkan oleh [Algoritma](https://algorit.ma). *Coursebook* ini ditujukan hanya untuk khalayak terbatas, yaitu individu dan organisasi yang menerima *coursebook* ini langsung dari organisasi pelatihan. Tidak boleh direproduksi, didistribusikan, diterjemahkan, atau diadaptasi dalam bentuk apapun di luar individu dan organisasi ini tanpa izin.\n",
    "\n",
    "Algoritma adalah pusat pendidikan *data science* yang berbasis di Jakarta. Kami menyelenggarakan *workshop* dan program pelatihan untuk membantu para profesional dan mahasiswa dalam menguasai berbagai sub-bidang *data science* yaitu: *data visualization, machine learning,* statistik, dan lain sebagainya.\n"
   ]
  },
  {
   "cell_type": "markdown",
   "metadata": {},
   "source": [
    "# Training Objectives\n",
    "\n",
    "**Descriptive Statistics**\n",
    "\n",
    "- Understanding 5 number summary\n",
    "- Central tendency measure\n",
    "- Measure of spread\n",
    "- Variable relationship\n",
    "- Z Score and Central Limit Theorem\n",
    "\n",
    "**Inferential Statistics**\n",
    "\n",
    "- Probability Density Function\n",
    "- Data distributions\n",
    "- Hypothesis test\n",
    "- Error and confidence intervals"
   ]
  },
  {
   "cell_type": "markdown",
   "metadata": {},
   "source": [
    "# Practical Statistics\n",
    "\n",
    "Practical Statistics merupakan salah satu bagian penting dalam pengolahan data sehingga mendukung *busines case* yang ingin diangkat. Practical Statistics berisi kaidah statistika yang banyak diterapkan dalam praktik data science agar dapat **memahami dan mengolah data dengan tepat**. \n",
    "\n",
    "Secara umum, Practical Statistics terbagi 2, masing-masing membantu kita dalam hal tertentu:\n",
    "\n",
    "* **Descriptive Statistics**: meringkas informasi dalam data agar terambil insight secara cepat. Nilai-nilai yang didapatkan merupakan rangkuman dari data, tujuannya untuk menggambarkan keadaan data secara umum.\n",
    "\n",
    "* **Inferential Statistics**: menyimpulkan sesuatu tentang kondisi di lapangan, berdasarkan data yang kita punya (sample -> population).\n",
    "\n",
    "![](assets/PS.png)"
   ]
  },
  {
   "cell_type": "markdown",
   "metadata": {},
   "source": [
    "Untuk lebih memahami *practical statistics*, mari kita melakukan analisis menggunakan data asli."
   ]
  },
  {
   "cell_type": "code",
   "execution_count": 1,
   "metadata": {},
   "outputs": [],
   "source": [
    "import pandas as pd\n",
    "import numpy as np #perhitungan statistik\n",
    "import matplotlib.pyplot as plt # untuk visualisasi\n",
    "import math # perhitungan statistik\n",
    "from scipy import stats #untuk perhitungan statistik\n",
    "import seaborn as sns # untuk visualisasi"
   ]
  },
  {
   "cell_type": "markdown",
   "metadata": {},
   "source": [
    "# Study Case: Credit Card Balance Analysis\n",
    "\n",
    "**1. Business Question**\n",
    "\n",
    "Credit Card Balance Analysis, atau Analisis Saldo Kartu Kredit, dilakukan sebagai bagian dari analisis debitur dalam sebuah perusahaan kartu kredit. Hasil analisis dapat menentukan debitur mana yang memiliki risiko pembayaran kredit yang tinggi, atau bagaimana behavior debitur. Selain itu, menggabungkan data saldo kredit dengan informasi seperti limit kredit dapat membantu menghitung pemanfaatan kredit kartu, informasi yang berpengaruh pada Rating kredit seorang pemegang kartu.\n",
    "\n",
    "Asumsi data:\n",
    "\n",
    "- Balance dihitung sebagai jumlah semua transaksi selama periode penagihan/billing cycle. Sebagai contoh, jika seorang pemegang kartu mengeluarkan `$400`, `$500`, dan `$600` dalam 3 bulan, maka saldo rata-rata akan dicatat sebagai `$500`.\n",
    "\n",
    "Kita sebagai tim data diminta untuk **menganalisa performa Credit Card Balance** nasabah. Data tersimpan dalam folder data_input dengan nama file `credit_card.csv`, gunakan `stringAsFactors = T` supaya kolom bernilai string berubah langsung menjadi tipe factor."
   ]
  },
  {
   "cell_type": "markdown",
   "metadata": {},
   "source": [
    "**2. Read Data**"
   ]
  },
  {
   "cell_type": "code",
   "execution_count": 2,
   "metadata": {},
   "outputs": [
    {
     "data": {
      "text/html": [
       "<div>\n",
       "<style scoped>\n",
       "    .dataframe tbody tr th:only-of-type {\n",
       "        vertical-align: middle;\n",
       "    }\n",
       "\n",
       "    .dataframe tbody tr th {\n",
       "        vertical-align: top;\n",
       "    }\n",
       "\n",
       "    .dataframe thead th {\n",
       "        text-align: right;\n",
       "    }\n",
       "</style>\n",
       "<table border=\"1\" class=\"dataframe\">\n",
       "  <thead>\n",
       "    <tr style=\"text-align: right;\">\n",
       "      <th></th>\n",
       "      <th>Income</th>\n",
       "      <th>Limit</th>\n",
       "      <th>Rating</th>\n",
       "      <th>Cards</th>\n",
       "      <th>Age</th>\n",
       "      <th>Education</th>\n",
       "      <th>Gender</th>\n",
       "      <th>Student</th>\n",
       "      <th>Married</th>\n",
       "      <th>Ethnicity</th>\n",
       "      <th>Balance</th>\n",
       "    </tr>\n",
       "  </thead>\n",
       "  <tbody>\n",
       "    <tr>\n",
       "      <th>0</th>\n",
       "      <td>14.891</td>\n",
       "      <td>3606</td>\n",
       "      <td>283</td>\n",
       "      <td>2</td>\n",
       "      <td>34</td>\n",
       "      <td>11</td>\n",
       "      <td>Male</td>\n",
       "      <td>No</td>\n",
       "      <td>Yes</td>\n",
       "      <td>Caucasian</td>\n",
       "      <td>333</td>\n",
       "    </tr>\n",
       "    <tr>\n",
       "      <th>1</th>\n",
       "      <td>106.025</td>\n",
       "      <td>6645</td>\n",
       "      <td>483</td>\n",
       "      <td>3</td>\n",
       "      <td>82</td>\n",
       "      <td>15</td>\n",
       "      <td>Female</td>\n",
       "      <td>Yes</td>\n",
       "      <td>Yes</td>\n",
       "      <td>Asian</td>\n",
       "      <td>903</td>\n",
       "    </tr>\n",
       "    <tr>\n",
       "      <th>2</th>\n",
       "      <td>104.593</td>\n",
       "      <td>7075</td>\n",
       "      <td>514</td>\n",
       "      <td>4</td>\n",
       "      <td>71</td>\n",
       "      <td>11</td>\n",
       "      <td>Male</td>\n",
       "      <td>No</td>\n",
       "      <td>No</td>\n",
       "      <td>Asian</td>\n",
       "      <td>580</td>\n",
       "    </tr>\n",
       "    <tr>\n",
       "      <th>3</th>\n",
       "      <td>148.924</td>\n",
       "      <td>9504</td>\n",
       "      <td>681</td>\n",
       "      <td>3</td>\n",
       "      <td>36</td>\n",
       "      <td>11</td>\n",
       "      <td>Female</td>\n",
       "      <td>No</td>\n",
       "      <td>No</td>\n",
       "      <td>Asian</td>\n",
       "      <td>964</td>\n",
       "    </tr>\n",
       "    <tr>\n",
       "      <th>4</th>\n",
       "      <td>55.882</td>\n",
       "      <td>4897</td>\n",
       "      <td>357</td>\n",
       "      <td>2</td>\n",
       "      <td>68</td>\n",
       "      <td>16</td>\n",
       "      <td>Male</td>\n",
       "      <td>No</td>\n",
       "      <td>Yes</td>\n",
       "      <td>Caucasian</td>\n",
       "      <td>331</td>\n",
       "    </tr>\n",
       "  </tbody>\n",
       "</table>\n",
       "</div>"
      ],
      "text/plain": [
       "    Income  Limit  Rating  Cards  Age  Education  Gender Student Married   \n",
       "0   14.891   3606     283      2   34         11    Male      No     Yes  \\\n",
       "1  106.025   6645     483      3   82         15  Female     Yes     Yes   \n",
       "2  104.593   7075     514      4   71         11    Male      No      No   \n",
       "3  148.924   9504     681      3   36         11  Female      No      No   \n",
       "4   55.882   4897     357      2   68         16    Male      No     Yes   \n",
       "\n",
       "   Ethnicity  Balance  \n",
       "0  Caucasian      333  \n",
       "1      Asian      903  \n",
       "2      Asian      580  \n",
       "3      Asian      964  \n",
       "4  Caucasian      331  "
      ]
     },
     "execution_count": 2,
     "metadata": {},
     "output_type": "execute_result"
    }
   ],
   "source": [
    "cc = pd.read_csv('data_input/CC.csv')\n",
    "cc.head()"
   ]
  },
  {
   "cell_type": "markdown",
   "metadata": {},
   "source": [
    "**Deskripsi Kolom**\n",
    "\n",
    "- `Income`: Besaran gaji nasabah per tahun (dalam $10000)\n",
    "- `Limit` : Besaran kredit limit\n",
    "- `Rating` : Skor yang diberikan kepada individu berdasarkan kelayakan kreditnya. Semakin besar maka semakin baik\n",
    "- `Cards` : Jumlah banyaknya kartu kredit yang dimiliki oleh nasabah\n",
    "- `Age` : Usia nasabah\n",
    "- `Education` : Level/lamanya pendidikan yang ditempuh oleh nasabah\n",
    "- `Gender`: Jenis kelamin nasabah\n",
    "    - Male\n",
    "    - Female\n",
    "- `Student` : Apakah nasabah seorang pelajar atau bukan\n",
    "    - Yes $\\rightarrow$ Pelajar\n",
    "    - No $\\rightarrow$ Bukan pelajar\n",
    "- `Married`: Status pernikahan\n",
    "    - Yes $\\rightarrow$ Sudah menikah\n",
    "    - No $\\rightarrow$ Belum menikah\n",
    "- `Ethnicity`: Etnis nasabah\n",
    "    - African American\n",
    "    - Asian\n",
    "    - Caucasian\n",
    "- `Balance`: Rata-rata jumlah saldo kartu kredit"
   ]
  },
  {
   "cell_type": "markdown",
   "metadata": {},
   "source": [
    "# Descriptive Statistics\n",
    "\n",
    "Descriptive Statistics membantu kita **menggambarkan karakteristik** dari data, sehingga berguna dalam proses **Exploratory Data Analysis (EDA)**. Terdapat 3 hal pada descriptive statistics:\n",
    "\n",
    "- Ukuran pemusatan data (Measure of Central Tendency)\n",
    "- Ukuran penyebaran data (Measure of Spread)\n",
    "- Hubungan antar data (Variable Relationship)"
   ]
  },
  {
   "cell_type": "markdown",
   "metadata": {},
   "source": [
    "## Measure of Central Tendency\n",
    "\n",
    "Ukuran pemusatan data adalah **suatu nilai yang cukup untuk mewakili seluruh nilai pada data**.\n",
    "\n",
    "### Mean\n",
    "\n",
    "Cara paling umum untuk membuat perkiraan nilai tunggal dari data yang banyak adalah dengan merata-ratakannya.\n",
    "\n",
    "* Formula: $$\\frac{\\sum{x_i}}{n}$$\n",
    "* Fungsi pada Python: `mean()`\n",
    "\n",
    "**Contoh:**\n",
    "\n",
    "Berapa rata-rata `Rating` atau skor yang diberikan kepada nasabah berdasarkan kelayakan kreditnya?"
   ]
  },
  {
   "cell_type": "code",
   "execution_count": 14,
   "metadata": {},
   "outputs": [],
   "source": [
    "# code here\n",
    "\n",
    "\n",
    "# end of the code"
   ]
  },
  {
   "cell_type": "markdown",
   "metadata": {},
   "source": [
    "* Sifat nilai mean: **sensitif terhadap outlier**\n",
    "\n",
    "> Outlier adalah nilai ekstrim yang jauh dari observasi lainnya. Kurang tepat apabila menggunakan nilai mean yang diketahui ada data outliernya."
   ]
  },
  {
   "cell_type": "markdown",
   "metadata": {},
   "source": [
    "**Contoh lain:**\n",
    "\n",
    "Ada sebuah Kantor Cabang BRI di daerah Bekasi yang merekap jumlah pengunjung per bulan. \n",
    "\n",
    "Dengan nilai mean:\n"
   ]
  },
  {
   "cell_type": "code",
   "execution_count": 7,
   "metadata": {},
   "outputs": [],
   "source": [
    "# data pengunjung\n",
    "pengunjung = pd.Series([55, 50, 40, 70, 60, 45, 35, 35, 60, 1000, 250, 70])"
   ]
  },
  {
   "cell_type": "code",
   "execution_count": 13,
   "metadata": {},
   "outputs": [],
   "source": [
    "# rata-rata pengunjung\n",
    "\n",
    "\n",
    "# end of the code"
   ]
  },
  {
   "cell_type": "markdown",
   "metadata": {},
   "source": [
    "Apakah nilai mean di atas dapat diandalkan? _____\n",
    "\n",
    "> Nilai mean tidak dapat diandalkan karena terdapat outlier\n",
    "\n",
    "Masalah ini dapat diatasi oleh nilai **median**."
   ]
  },
  {
   "cell_type": "markdown",
   "metadata": {},
   "source": [
    "### Median\n",
    "\n",
    "Median atau nilai tengah diperoleh dengan mengurutkan data terlebih dahulu kemudian mencari nilai tengah dari data.\n",
    "\n",
    "- Baik untuk data yang memiliki **outlier** atau berdistribusi **skewed** (condong kiri/kanan)\n",
    "- Fungsi pada Python: `median()`\n",
    "\n",
    "Mari hitung ulang nilai pusat dari `pengunjung` menggunakan median:"
   ]
  },
  {
   "cell_type": "code",
   "execution_count": 9,
   "metadata": {},
   "outputs": [
    {
     "data": {
      "text/plain": [
       "147.5"
      ]
     },
     "execution_count": 9,
     "metadata": {},
     "output_type": "execute_result"
    }
   ],
   "source": [
    "# median\n",
    "\n",
    "\n",
    "# end of the code"
   ]
  },
  {
   "cell_type": "code",
   "execution_count": 10,
   "metadata": {},
   "outputs": [
    {
     "data": {
      "text/plain": [
       "147.5"
      ]
     },
     "execution_count": 10,
     "metadata": {},
     "output_type": "execute_result"
    }
   ],
   "source": [
    "# bandingkan dengan mean\n",
    "\n",
    "\n",
    "# end of the code"
   ]
  },
  {
   "cell_type": "markdown",
   "metadata": {},
   "source": [
    "Untuk nilai desimal, apabila tidak sesuai dengan konteks bisnis (Pengunjung), chaining hasil dengan fungsi rounding `round()`"
   ]
  },
  {
   "cell_type": "code",
   "execution_count": 11,
   "metadata": {},
   "outputs": [
    {
     "data": {
      "text/plain": [
       "148.0"
      ]
     },
     "execution_count": 11,
     "metadata": {},
     "output_type": "execute_result"
    }
   ],
   "source": [
    "pengunjung.mean().round()"
   ]
  },
  {
   "cell_type": "markdown",
   "metadata": {},
   "source": [
    "### Modus (Mode)\n",
    "\n",
    "Modus berguna untuk mencari nilai yang paling sering muncul (frekuensi tertinggi).\n",
    "\n",
    "- Modus digunakan untuk data kategorik\n",
    "- Fungsi pada Python: `mode()`\n",
    "\n",
    "**Contoh:**\n",
    "\n",
    "Berasal dari `Ethnicity` mana nasabah di Bank tersebut paling banyak berasal? "
   ]
  },
  {
   "cell_type": "code",
   "execution_count": 12,
   "metadata": {},
   "outputs": [
    {
     "data": {
      "text/plain": [
       "0    Caucasian\n",
       "Name: Ethnicity, dtype: object"
      ]
     },
     "execution_count": 12,
     "metadata": {},
     "output_type": "execute_result"
    }
   ],
   "source": [
    "cc['Ethnicity'].mode()"
   ]
  },
  {
   "cell_type": "markdown",
   "metadata": {},
   "source": [
    "> Modus untuk `Ethnicity` adalah ____"
   ]
  },
  {
   "cell_type": "markdown",
   "metadata": {},
   "source": [
    "### Knowledge Check\n",
    "\n",
    "Dari pernyataan berikut, jawablah benar atau salah. Apabila salah tuliskan pernyataan yang benar.\n",
    "\n",
    "1. Median adalah pusat data yang hanya melibatkan sebagian data dalam perhitungannya.\n",
    "\n",
    "- [ ] Benar\n",
    "- [ ] Salah\n",
    "\n",
    "2. Mean adalah pusat data yang sensitif terhadap outlier.\n",
    "\n",
    "- [ ] Benar\n",
    "- [ ] Salah\n",
    "\n",
    "3. Nilai pusat data yang cocok untuk tipe data kategorik adalah modus.\n",
    "\n",
    "- [ ] Benar\n",
    "- [ ] Salah"
   ]
  },
  {
   "cell_type": "markdown",
   "metadata": {},
   "source": [
    "## Measure of Spread\n",
    "\n",
    "Ukuran penyebaran data mewakili seberapa menyebar atau beragam data kita.\n",
    "\n",
    "### Variance\n",
    "\n",
    "Variance menggambarkan seberapa beragam suatu data numerik tunggal menyebar dari pusat datanya\n",
    "\n",
    "- Formula variance:\n",
    "\n",
    "$$var = \\frac{\\sum(X_i - \\bar{X})^2}{n-1}$$\n",
    "\n",
    "- Variance tidak dapat diinterpretasikan karena satuannya dalam kuadrat.\n",
    "- Fungsi di Python: `var()`\n",
    "\n",
    "![](assets/var.PNG)"
   ]
  },
  {
   "cell_type": "markdown",
   "metadata": {},
   "source": [
    "**Contoh:**\n",
    "\n",
    "Bank BRI sedang dalam rencana membuka kantor cabang baru. Bank BRI menyeleksi daerah mana yang cocok untuk cabang baru mereka. Mereka mengumpulkan informasi harga sewa bangunan di daerah A dan B sebagai berikut: "
   ]
  },
  {
   "cell_type": "code",
   "execution_count": 15,
   "metadata": {},
   "outputs": [],
   "source": [
    "# harga dalam satuan juta\n",
    "harga_A = pd.Series([400,410,420,400,410,420,400,410,420,400,410,420,400]) \n",
    "harga_B = pd.Series([130,430,650,540,460,320,380,550,650,470,330,140,270]) "
   ]
  },
  {
   "cell_type": "markdown",
   "metadata": {},
   "source": [
    "Bandingkan rata-rata harga bangunan kedua daerah:"
   ]
  },
  {
   "cell_type": "code",
   "execution_count": 19,
   "metadata": {},
   "outputs": [],
   "source": [
    "# code here\n",
    "\n",
    "\n",
    "# end of the code"
   ]
  },
  {
   "cell_type": "markdown",
   "metadata": {},
   "source": [
    "Mari bandingkan dari sisi lain, yaitu tingkat keberagaman data (variance). Daerah mana yang harganya lebih bervariasi?"
   ]
  },
  {
   "cell_type": "code",
   "execution_count": 18,
   "metadata": {},
   "outputs": [],
   "source": [
    "# code here\n",
    "\n",
    "\n",
    "# end of the code"
   ]
  },
  {
   "cell_type": "markdown",
   "metadata": {},
   "source": [
    "Daerah manakah yang lebih baik untuk dijadikan area perkantoran?\n",
    "\n",
    "> ..."
   ]
  },
  {
   "cell_type": "markdown",
   "metadata": {},
   "source": [
    "**Karakteristik Variance**\n",
    "\n",
    "- Skala variance dari 0 sampai tak hingga. Semakin besar nilainya maka artinya semakin menyebar dari pusat datanya (mean).\n",
    "\n",
    "- Variance memiliki satuan kuadrat, sehingga tidak dapat langsung diinterpretasikan. Biasanya digunakan untuk membandingkan dengan nilai var lain dengan satuan yang sama.\n",
    "\n",
    "- **Nilai variansi sangat bergantung dengan skala data**. Hati-hati apabila membandingkan antar variabel yang berbeda skala."
   ]
  },
  {
   "cell_type": "markdown",
   "metadata": {},
   "source": [
    "### Standard Deviation\n",
    "\n",
    "Standard deviation menggambarkan **seberapa jauh simpangan nilai yang dianggap umum, dihitung dari titik pusat (mean) nya.** Kita dapat menentukan apakah suatu nilai dikatakan menyimpang dari rata-rata namun masih dikatakan umum, atau sudah tidak umum. \n",
    "\n",
    "Karena dihitung dengan **mengakarkan variance**, satuannya sudah sesuai dengan data asli dan bisa diinterpretasikan.\n",
    "\n",
    "* Formula standar deviasi: $$sd = \\sqrt{var}$$\n",
    "* Fungsi di Python: `std()`"
   ]
  },
  {
   "cell_type": "code",
   "execution_count": 20,
   "metadata": {},
   "outputs": [],
   "source": [
    "# standar deviasi harga_A & harga_B\n",
    "\n",
    "\n",
    "# end of code"
   ]
  },
  {
   "cell_type": "code",
   "execution_count": 21,
   "metadata": {},
   "outputs": [],
   "source": [
    "# tinjau nilai mean harga_A & harga_B\n",
    "\n",
    "\n",
    "# end of the code"
   ]
  },
  {
   "cell_type": "markdown",
   "metadata": {},
   "source": [
    "**Interpretasi nilai normal/wajar : mean +- sd** (karena satuan mean dan sd sama, yaitu jutaan rupiah)\n",
    "\n",
    "- Harga sewa pada daerah A umumnya jatuh pada interval ____\n",
    "- Harga sewa pada daerah B umumnya jatuh pada interval ____"
   ]
  },
  {
   "cell_type": "markdown",
   "metadata": {},
   "source": [
    "**Business question**\n",
    "\n",
    "Apabila kita ditawarkan suatu bangunan di daerah B dengan harga 800, apakah harga tersebut masih wajar? Apakah sebaiknya kita membeli bangunan tersebut? Hubungkan dengan nilai mean dan standar deviasi yang diperoleh.\n",
    "\n",
    "Hitung range \"harga normal\" daerah B:"
   ]
  },
  {
   "cell_type": "code",
   "execution_count": null,
   "metadata": {},
   "outputs": [],
   "source": [
    "# code here\n",
    "\n",
    "\n",
    "# end of the code"
   ]
  },
  {
   "cell_type": "markdown",
   "metadata": {},
   "source": [
    "> ..."
   ]
  },
  {
   "cell_type": "markdown",
   "metadata": {},
   "source": [
    "### Range using `boxplot()`\n",
    "\n",
    "Distribusi data numerik pada umumnya divisualisasikan dengan `boxplot()`, yang meliputi komponen:\n",
    "\n",
    "- Box: menggambarkan Q1, Q2 (median), dan Q3\n",
    "  + Kuartil 1 (Q1): nilai ke 25%\n",
    "  + Kuartil 2 (Q2 atau median): nilai ke 50% (nilai tengah)\n",
    "  + Kuartil 3 (Q3): nilai ke 75%\n",
    "  + Interquartile Range (IQR): selisih antara Q3 dan Q1\n",
    "- Whisker: pagar bawah dan atas (PENTING: hati-hati, nilai ini bukan nilai minimum dan maksimum data)\n",
    "- Data outliers: nilai ekstrim data yang berada di luar pagar bawah dan atas\n",
    "\n",
    "![](assets/boxplot.PNG)"
   ]
  },
  {
   "cell_type": "markdown",
   "metadata": {},
   "source": [
    "Beberapa hal yang harus diperhatikan dalam boxplot:\n",
    "\n",
    "- Banyaknya data dari Q1 ke nilai minimum (bukan pagar bawah) adalah 25%\n",
    "- Banyaknya data dari Q1 ke Q2 adalah 25%\n",
    "- Banyaknya data dari Q2 ke Q3 adalah 25%\n",
    "- Banyaknya data dari Q3 ke nilai maksimum (bukan pagar atas) adalah 25%\n",
    "\n",
    "Insight yang dapat diperoleh dari boxplot:\n",
    "\n",
    "1. Pusat data dengan median (Q2)\n",
    "2. Sebaran data dengan IQR (lebar kotak)\n",
    "3. Outlier, nilai ekstrim pada data\n",
    "4. Bentuk distribusi data:\n",
    "  + box yang berada ditengah = **distribusi normal**\n",
    "  + box yang mendekati batas bawah = **distribusi skewed kanan**\n",
    "  + box yang mendekati batas atas = **distribusi skewed kiri**\n",
    "\n",
    "**Contoh:**\n",
    "\n",
    "Visualisasikan sebaran data `Rating` dari data `cc`! Analisis informasi yang didapatkan."
   ]
  },
  {
   "cell_type": "code",
   "execution_count": 23,
   "metadata": {},
   "outputs": [
    {
     "data": {
      "image/png": "[encoded data removed]",
      "text/plain": [
       "<Figure size 640x480 with 1 Axes>"
      ]
     },
     "metadata": {},
     "output_type": "display_data"
    }
   ],
   "source": [
    "cc['Rating'].plot.box();"
   ]
  },
  {
   "cell_type": "markdown",
   "metadata": {},
   "source": [
    "- Apakah data memiliki outlier?\n",
    "\n",
    "> ...\n",
    "\n",
    "- Central tendency (mean, median, modus) mana yang cocok dipakai untuk data ini?\n",
    "\n",
    "> ...\n",
    "\n",
    "- Bagaimana bentuk distribusi data?\n",
    "\n",
    "> ..."
   ]
  },
  {
   "cell_type": "markdown",
   "metadata": {},
   "source": [
    "## Variable Relationship\n",
    "\n",
    "Karena pada data kita punya banyak kolom atau variabel, kita juga ingin tahu hubungan antar variabel dalam data kita.\n",
    "\n",
    "Ukuran yang digunakan untuk melihat **hubungan linear** antara dua variabel numerik.\n",
    "\n",
    "### Covariance\n",
    "\n",
    "Covariance menunjukkan bagaimana variansi 2 data (variable yang berbeda) bergerak bersamaan\n",
    "\n",
    "* Formula Covariance: $$Cov(X, Y) = \\frac{1}{n-1}\\sum\\limits^n_{i=1}(X_i - \\mu_X)(Y_i - \\mu_Y)$$\n",
    "* Fungsi di Python: `cov()`\n",
    "\n",
    "![](assets/covariance-positive-vs-negative.jpg)"
   ]
  },
  {
   "cell_type": "markdown",
   "metadata": {},
   "source": [
    "- Nilai covariance positif mengindikasikan pergerakan nilai yang searah / berbanding lurus.\n",
    "- Nilai covariance negatif mengindikasikan pergerakan nilai yang berbalik arah.\n",
    "\n",
    "**Contoh:**\n",
    "\n",
    "Hitunglah covariance antara `Income` dengan `Rating` pada data `cc` . Bagaimana hubungannya?"
   ]
  },
  {
   "cell_type": "code",
   "execution_count": null,
   "metadata": {},
   "outputs": [],
   "source": [
    "# code here\n",
    "\n",
    "\n",
    "# end of code"
   ]
  },
  {
   "cell_type": "markdown",
   "metadata": {},
   "source": [
    "Interpretasi nilai: ___\n",
    "\n",
    "> Kelemahan: Seperti variance, covariance tidak memiliki batasan nilai untuk mengukur kekuatan hubungan antar dua variabel (-inf s.d inf), sehingga kita hanya bisa mengetahui apakah hubungannya positif atau negatif. Oleh karena itu, hadir **correlation**."
   ]
  },
  {
   "cell_type": "markdown",
   "metadata": {},
   "source": [
    "### Correlation\n",
    "\n",
    "Correlation memampatkan nilai covariance dari -inf s.d inf menjadi **-1 s.d 1** sehingga bisa diukur kekuatan hubungan antar data (variable).\n",
    "\n",
    "* Formula Correlation: \n",
    "\n",
    "$$Cor(X,Y) = \\frac{Cov(X,Y)}{\\sqrt{Var(X)Var(Y)}}$$\n",
    "* Fungsi di Python: `corr()`\n",
    "\n",
    "- Nilai korelasi mengindikasikan kekuatan hubungan antara dua variable numerik sebagai berikut:\n",
    "![](assets/correlation-coef.jpg)"
   ]
  },
  {
   "cell_type": "markdown",
   "metadata": {},
   "source": [
    "Bila korelasi dua variable numerik mendekati:\n",
    "  - -1 artinya korelasi negatif kuat\n",
    "  - 0 artinya tidak berkorelasi\n",
    "  - 1 artinya korelasi positif kuat\n",
    "\n",
    "**Contoh:**\n",
    "\n",
    "Adakah korelasi antara `Income` dengan `Rating` pada data `cc` . Bagaimana hubungan dan kekuatannya?\n"
   ]
  },
  {
   "cell_type": "code",
   "execution_count": null,
   "metadata": {},
   "outputs": [],
   "source": [
    "# code here\n",
    "\n",
    "\n",
    "# end of code"
   ]
  },
  {
   "cell_type": "markdown",
   "metadata": {},
   "source": [
    "Jawaban: ___"
   ]
  },
  {
   "cell_type": "markdown",
   "metadata": {},
   "source": [
    "Visualisasi korelasi dengan scatter plot:"
   ]
  },
  {
   "cell_type": "code",
   "execution_count": 25,
   "metadata": {},
   "outputs": [
    {
     "data": {
      "image/png": "[encoded data removed]",
      "text/plain": [
       "<Figure size 640x480 with 1 Axes>"
      ]
     },
     "metadata": {},
     "output_type": "display_data"
    }
   ],
   "source": [
    "cc.plot.scatter(x='Income',\n",
    "                y='Rating');"
   ]
  },
  {
   "cell_type": "markdown",
   "metadata": {},
   "source": [
    "Ilustrasi correlation:\n",
    "\n",
    "![](assets/correlation.png)"
   ]
  },
  {
   "cell_type": "markdown",
   "metadata": {},
   "source": [
    "### Knowledge Check\n",
    "\n",
    "Dari pernyataan berikut, jawablah benar atau salah. Apabila salah, tuliskan pernyataan yang benar.\n",
    "\n",
    "1. Ketika korelasi variabel A dan B bernilai -1 artinya tidak ada korelasi antara nilai A dan B.\n",
    "\n",
    "- [ ] Benar\n",
    "- [ ] Salah\n",
    "\n",
    "2. Scatter plot dapat digunakan untuk menggambarkan hubungan antara dua variabel numerik.\n",
    "\n",
    "- [ ] Benar\n",
    "- [ ] Salah"
   ]
  },
  {
   "cell_type": "markdown",
   "metadata": {},
   "source": [
    "# Inferential Statistics\n",
    "\n",
    "Inferential Statistics membantu kita **menarik kesimpulan tentang keseluruhan data (populasi) dengan menggunakan sebagian informasinya saja (sampel)**\n",
    "\n",
    "![](assets/statistical_cycle.png)\n",
    "\n",
    "Setiap data memiliki distribusi. Distribusi data yang spresial dan berperan dalam inferential statistics adalah **distribusi normal**"
   ]
  },
  {
   "cell_type": "markdown",
   "metadata": {},
   "source": [
    "## Normal Distribution\n",
    "\n",
    "![](assets/normal-distribution.jpg)\n",
    "\n",
    "Karakteristik:\n",
    "\n",
    "- Kurva membentuk lonceng simetris, artinya puncaknya adalah titik pusat (mean = median)\n",
    "- Luas area dibawah kurva = 1 (menyatakan probabilitas)\n",
    "- Persebaran data:\n",
    "  + 68% data berada di rentang +- 1 standar deviasi dari mean\n",
    "  + 95% data berada di rentang +- 2 standar deviasi dari mean\n",
    "  + 99.7% data berada di rentang +- 3 standar deviasi dari mean\n",
    "- **Standar normal baku** adalah distribusi normal dimana mean = 0 dan standar deviasi = 1. \n",
    "\n",
    "Distribusi normal banyak digunakan pada inferensial statistik karena dicetuskannya **Central Limit Theorem**.\n",
    "\n",
    "> Semakin bertambahnya jumlah sampel yang diambil secara acak, maka **distribusi rata-rata sampel** akan mengikuti distribusi normal\n",
    "\n",
    "Karakteristik distribusi normal inilah yang dimanfaatkan untuk penghitungan inferensial statistik:\n",
    "\n",
    "- **Menghitung Probabilitas:**\n",
    "  + Probability Mass Function -> diskrit/kategorik\n",
    "  + Probability Density Function -> kontinu/numerik\n",
    "- **Membuat Confidence Interval**\n",
    "- **Uji Hipotesis**"
   ]
  },
  {
   "cell_type": "markdown",
   "metadata": {},
   "source": [
    "## Probability Mass Function\n",
    "\n",
    "* Menghitung peluang untuk data diskrit, contoh:\n",
    "  + peluang hujan/tidak hujan\n",
    "  + peluang produk yang terjual\n",
    "  + peluang nasabah good credit/bad credit\n",
    "  \n",
    "* Formula: jumlah kejadian terjadi dibagi dengan jumlah kejadian total\n",
    "\n",
    "**Contoh:**\n",
    "\n",
    "Terdapat 100 nasabah dari sebuah Bank, 90 diantaranya merupakan nasabah dengan status good (good credit), sedangkan sisanya sebanyak 90 adalah status bad (bad credit). Berapakah peluang nasabah bad credit?\n"
   ]
  },
  {
   "cell_type": "code",
   "execution_count": null,
   "metadata": {},
   "outputs": [],
   "source": [
    "# code here\n",
    "\n",
    "\n",
    "# end of code"
   ]
  },
  {
   "cell_type": "markdown",
   "metadata": {},
   "source": [
    "## Probability Density Function\n",
    "\n",
    "- Menghitung probability data **kontinu**. Data kontinu merupakan data yang memiliki nilai dalam rentang tertentu, dan bisa memiliki angka desimal atau pecahan, contohnya:\n",
    "  + tinggi badan\n",
    "  + rating nasabah\n",
    "  + profit/revenue\n",
    "\n",
    "- Tahapan:\n",
    "  1. Hitung Z-score (ubah nilai data asli ke standar normal baku = Z-score standardization)\n",
    "  2. hitung peluang berdasarkan Z-score dengan menggunakan fungsi `pnorm()`\n",
    "\n",
    "\n",
    "-  Formula Z-score:\n",
    "\n",
    "$$Z = \\frac{x-\\mu}{\\sigma}$$\n",
    "\n",
    "Keterangan:\n",
    "\n",
    "- Z = Z-score\n",
    "- x = titik data\n",
    "- $\\mu$ = mean\n",
    "- $\\sigma$ = standar deviasi\n",
    "\n",
    "> Z-score merupakan sebuah nilai yang merepresentasikan **berapa standard deviasi data tersebut menyimpang dari rata-ratanya**\n",
    "  "
   ]
  },
  {
   "cell_type": "markdown",
   "metadata": {},
   "source": [
    "**Contoh**\n",
    "\n",
    "Tinggi badan pria dewasa di Indonesia berdistribusi normal dengan rata-rata 165 cm dan standar deviasi 10 cm. Berapa peluang pria dewasa di Indonesia memiliki tinggi badan > 180 cm?\n",
    "\n",
    "Diketahui:\n",
    "\n",
    "- mean = 165\n",
    "- stdev = 10\n",
    "- titik data = 180cm "
   ]
  },
  {
   "cell_type": "code",
   "execution_count": 28,
   "metadata": {},
   "outputs": [],
   "source": [
    "mean = 165\n",
    "std = 10\n",
    "titik_data = 180"
   ]
  },
  {
   "cell_type": "code",
   "execution_count": null,
   "metadata": {},
   "outputs": [],
   "source": [
    "# code here\n",
    "from scipy.stats import norm\n",
    "\n",
    "# hitung Z-score lalu ubah jadi peluang\n",
    "Z_score = ...."
   ]
  },
  {
   "cell_type": "code",
   "execution_count": null,
   "metadata": {},
   "outputs": [],
   "source": [
    "# menghitung peluang\n",
    "peluang = ...."
   ]
  },
  {
   "cell_type": "markdown",
   "metadata": {},
   "source": [
    "Insight: Peluang pria dewasa di Indonesia memiliki tinggi badan > 180 cm ____"
   ]
  },
  {
   "cell_type": "markdown",
   "metadata": {},
   "source": [
    "## Confidence Interval\n",
    "\n",
    "Confidence interval (selang kepercayaan) berguna untuk menduga nilai mean populasi dengan sebuah interval. Menebak dengan sebuah interval akan meminimalisir error dibandingkan hanya dengan menebak satu nilai.\n",
    "\n",
    "-  Formula: \n",
    "\n",
    "$$CI = \\bar{x} \\pm Z_{\\frac{\\alpha}{2}}*SE$$\n",
    "\n",
    "- Keterangan: \n",
    "  + $\\bar{x}$ = rata-rata sampel\n",
    "  + $Z_{\\frac{\\alpha}{2}}$ = Z-score ketika alpha/2\n",
    "  + $\\alpha$ = tingkat error yang ditolerasi\n",
    "  + tingkat kepercayaan = 1-$\\alpha$\n",
    "  + SE = standard error\n",
    "  \n",
    "SE mengukur kebaikan sampel dalam mewakilkan populasi. Semakin kecil, maka sampel semakin representatif (baik).\n",
    "\n",
    "$$SE = \\frac{\\sigma}{\\sqrt n}$$\n",
    "\n",
    "- Ket: \n",
    "  + $\\sigma$ = standar deviasi populasi\n",
    "  + $n$ = jumlah sampel"
   ]
  },
  {
   "cell_type": "markdown",
   "metadata": {},
   "source": [
    "* Tahapan:\n",
    "  + hitung mean sampel\n",
    "  + hitung standar deviasi sampel & SE\n",
    "  + tentukan tingkat kepercayaan & $\\alpha$\n",
    "  + tentukan Z alpha/2\n",
    "  + hitung confidence interval"
   ]
  },
  {
   "cell_type": "markdown",
   "metadata": {},
   "source": [
    "**Contoh**\n",
    "\n",
    "Dari data `cc` yang berisikan sampel **400 nasabah** suatu Bank diketahui memiliki rata-rata `Balance` kredit sebesar **520**. Semisal diketahui Bank tersebut memiliki standard deviasi populasi untuk Balance sebesar **465**.\n",
    "\n",
    "Berapakah confidence interval untuk rata-rata Balance seluruh nasabah? Gunakan tingkat kepercayaan 95%!\n",
    "\n",
    "1. Diketahui:\n",
    "\n",
    "- mean sampel = ___  \n",
    "- stdev populasi = ___\n",
    "- jumlah sampel (n) = ___\n",
    "\n",
    "2. Hitung nilai SE\n"
   ]
  },
  {
   "cell_type": "code",
   "execution_count": null,
   "metadata": {},
   "outputs": [],
   "source": [
    "# code here\n",
    "import math\n",
    "from scipy import stats\n",
    "\n",
    "# std populasi dibagi akar n\n",
    "SE = ..."
   ]
  },
  {
   "cell_type": "markdown",
   "metadata": {},
   "source": [
    "2. Tentukan tingkat kepercayaan dan alpha\n",
    "\n",
    "- Tingkat kepercayaan: 95%\n",
    "- alpha (tingkat error): 100% - 95% = 5%, artinya kita mentoleransi error sebesar 5%, bahwa mungkin saja rata-rata Balance nasabah aslinya terletak di luar Confidence Interval"
   ]
  },
  {
   "cell_type": "code",
   "execution_count": null,
   "metadata": {},
   "outputs": [],
   "source": [
    "alpha = \n",
    "\n",
    "print('alpha: ', alpha)"
   ]
  },
  {
   "cell_type": "markdown",
   "metadata": {},
   "source": [
    "3. Hitung Z alpha/2\n",
    "\n",
    "alpha dibagi 2 karena ingin membuat batas bawah dan batas atas (dalam dunia statistika dikenal sebagai two-tailed)"
   ]
  },
  {
   "cell_type": "code",
   "execution_count": null,
   "metadata": {},
   "outputs": [],
   "source": [
    "# code here\n",
    "from scipy.stats import norm\n",
    "\n",
    "# luas di bawah kurva - kedua bagian hijau\n",
    "Z = ...."
   ]
  },
  {
   "cell_type": "markdown",
   "metadata": {},
   "source": [
    "4. Hitung confidence interval\n",
    "\n",
    "`CI = mean -+ (Z * SE)`"
   ]
  },
  {
   "cell_type": "code",
   "execution_count": null,
   "metadata": {},
   "outputs": [],
   "source": [
    "lower = mean - (Z*SE)\n",
    "upper = mean + (Z*SE)"
   ]
  },
  {
   "cell_type": "markdown",
   "metadata": {},
   "source": [
    "Kesimpulan: ___"
   ]
  },
  {
   "cell_type": "markdown",
   "metadata": {},
   "source": [
    "## Hypothesis Testing\n",
    "\n",
    "Uji hipotesis bertujuan untuk menguji **dugaan**. Uji hipotesis sering disebut juga sebagai **uji signifikansi** yang digunakan untuk menguji apakah suatu treatment memberikan perubahan/pengaruh signifikan terhadap suatu kondisi.\n",
    "\n",
    "Istilah-istilah:\n",
    "\n",
    "- Hipotesis: dugaan sementara yang harus diuji\n",
    "  + $H_0$ / null hypothesis: \n",
    "    * kondisi awal\n",
    "    * memiliki unsur kesamaan (=, >=, <=)\n",
    "  + $H_1$ / alternative hypothesis: \n",
    "    * kontradiktif dengan $H_0$\n",
    "    \n",
    "- $\\alpha$:\n",
    "  + tingkat signifikansi yaitu tingkat error yang masih bisa ditoleransi\n",
    "  + umumnya 0.05\n",
    "- $1-\\alpha$: tingkat kepercayaan\n",
    "\n",
    "- $p-value$:\n",
    "  + hasil perhitungan statistik yang menunjukkan peluang data sampel terjadi dengan kondisi H0.\n",
    "\n",
    "Pengambilan kesimpulan:\n",
    "\n",
    "- Jika $p-value$ < $\\alpha$, maka tolak $H_0$ -> terima h1\n",
    "- Jika $p-value$ > $\\alpha$, maka gagal tolak $H_0$ -> terima h0"
   ]
  },
  {
   "cell_type": "markdown",
   "metadata": {},
   "source": [
    "**Contoh Hipotesis**\n",
    "\n",
    "1. Hipotesis dua arah (!=)\n",
    "\n",
    "- $H_0$ : Rata-rata saldo rekening tidak berbeda secara signifikan antara nasabah yang menggunakan layanan internet banking dan yang tidak menggunakan layanan tersebut. (=)\n",
    "- $H_1$ : Rata-rata saldo rekening **berbeda secara signifikan** antara nasabah yang menggunakan layanan internet banking dan yang tidak menggunakan layanan tersebut. (!=)\n",
    "\n",
    "2. Hipotesis satu arah (<)\n",
    "\n",
    "- $H_0$ : Penambahan teller tidak memberikan perbedaan durasi pembayaran (>=)\n",
    "- $H_1$ : Penambahan teller **menurunkan** durasi pembayaran (<)\n",
    "\n",
    "3. Hipotesis satu arah (>)\n",
    "\n",
    "* $H_0$: Penerapan diskon tidak memberikan perbedaan jumlah pembelian produk (<=)\n",
    "* $H_1$: Penerapan diskon **meningkatkan** jumlah pembelian produk (>)"
   ]
  },
  {
   "cell_type": "markdown",
   "metadata": {},
   "source": [
    "### Z-Test\n",
    "\n",
    "Uji hipotesis yang menggunakan Z-test bila:\n",
    "\n",
    "- standar deviasi populasi diketahui\n",
    "- jumlah sampel banyak (n > 30)"
   ]
  },
  {
   "cell_type": "markdown",
   "metadata": {},
   "source": [
    "**Contoh**\n",
    "\n",
    "BRI merupakan salah satu Bank terbaik di Indonesia. Bila diketahui rata-rata likes dari suatu post di platform mereka sebesar **14000** likes dengan standar deviasi **5000** likes.\n",
    "\n",
    "Demi meningkatkan likes dari tiap post, BRI memutuskan untuk menggunakan influencer sebagai brand ambassador pemasaran produk. Setelah menggunakan influencer, diambil **50** postingan acak yang ternyata memiliki rata-rata likes **17500**.\n",
    "\n",
    "Sebagai tim marketing, lakukan analisis apakah menggunakan jasa influencer secara signifikan meningkatkan customer engagement (dari sisi rata-rata jumlah likes) atau tidak? Gunakan tingkat kepercayaan **95%**.\n"
   ]
  },
  {
   "cell_type": "markdown",
   "metadata": {},
   "source": [
    "Jawaban:\n",
    "\n",
    "**I. Tentukan hipotesis**\n",
    "\n",
    "- $H_0$: \n",
    "- $H_1$: \n"
   ]
  },
  {
   "cell_type": "markdown",
   "metadata": {},
   "source": [
    "**II. Hitung nilai statistik**\n",
    "\n",
    "Diketahui deskriptif statistiknya:\n",
    "\n",
    "- mean populasi   = \n",
    "- stdev populasi  = \n",
    "- n               = \n",
    "- mean sampel     = \n",
    "\n",
    "Ditentukan oleh user:\n",
    "\n",
    "- tingkat kepercayaan = \n",
    "- alpha               = \n"
   ]
  },
  {
   "cell_type": "code",
   "execution_count": null,
   "metadata": {},
   "outputs": [],
   "source": [
    "# nilai statistic descriptive\n",
    "mean_populasi = \n",
    "std_populasi = \n",
    "n = \n",
    "mean_sample = \n",
    "\n",
    "print('mean_populasi: ', mean_populasi)\n",
    "print('std_populasi: ', std_populasi)\n",
    "print('n: ', n)\n",
    "print('mean_sample: ', mean_sample)"
   ]
  },
  {
   "cell_type": "markdown",
   "metadata": {},
   "source": [
    "$$Z = \\frac{\\bar X-\\mu}{SE}$$\n",
    "\n",
    "Z = (rata2 sampel - rata2 populasi) / standar error\n",
    "\n",
    "$$SE = \\frac{\\sigma}{\\sqrt n}$$\n",
    "\n",
    "Standar error = standar deviasi populasi / akar dari banyak sampel"
   ]
  },
  {
   "cell_type": "code",
   "execution_count": null,
   "metadata": {},
   "outputs": [],
   "source": [
    "# menghitung nilai SE\n",
    "SE =\n",
    "\n",
    "# menghitung nilai z\n",
    "Z = "
   ]
  },
  {
   "cell_type": "code",
   "execution_count": null,
   "metadata": {},
   "outputs": [],
   "source": [
    "p_value = "
   ]
  },
  {
   "cell_type": "markdown",
   "metadata": {},
   "source": [
    "Gunakan fungsi `ztest()` untuk menghitung z-statistics dan p-value.\n",
    "\n",
    "```python\n",
    "zstats, pval = ztest(x1=...,\n",
    "                     value = ...,\n",
    "                     alternative = ...)\n",
    "```\n",
    "parameter:\n",
    "\n",
    "- `x1` : number of observations\n",
    "- `value` : rata-rata dari x1 di $H_0$\n",
    "- `alternative` :\n",
    "   - jika $H_1$ tidak sama (!=) dengan nilai tertentu, isi dengan `two-sided`\n",
    "   - jika $H_{1}$ lebih besar (>) dari suatu nilai, gunakan `larger`\n",
    "   - jika $H_{1}$ lebih kecil (<) dari suatu nilai, gunakan `smaller`"
   ]
  },
  {
   "cell_type": "code",
   "execution_count": null,
   "metadata": {},
   "outputs": [],
   "source": [
    "from statsmodels.stats.weightstats import ztest \n",
    "\n",
    "z_test = "
   ]
  },
  {
   "cell_type": "markdown",
   "metadata": {},
   "source": [
    "![](assets/p-value.PNG)"
   ]
  },
  {
   "cell_type": "markdown",
   "metadata": {},
   "source": [
    "**c. Bandingkan P-value dengan alpha**\n",
    "\n",
    "Pengambilan kesimpulan:\n",
    "\n",
    "* Jika $p-value$ < $\\alpha$, maka tolak $H_0$ \n",
    "* Jika $p-value$ > $\\alpha$, maka gagal tolak $H_0$\n",
    "\n",
    "p-value = ___ (>/<) alpha = 0.05"
   ]
  },
  {
   "cell_type": "markdown",
   "metadata": {},
   "source": [
    "**IV. Kesimpulan**\n",
    "\n",
    "> ...\n"
   ]
  },
  {
   "cell_type": "markdown",
   "metadata": {},
   "source": [
    "### T-test\n",
    "\n",
    "Uji hipotesis menggunakan T-test jika:\n",
    "\n",
    "* standar deviasi populasi tidak diketahui atau\n",
    "* jumlah sampel sedikit (n <= 30)\n",
    "\n",
    "Bentuk t-distribution mirip dengan normal distribution, hanya saja lebih landai ketika jumlah sampel sedikit:"
   ]
  },
  {
   "cell_type": "markdown",
   "metadata": {},
   "source": [
    "![](assets/t-distribution.jpg)"
   ]
  },
  {
   "cell_type": "markdown",
   "metadata": {},
   "source": [
    "**Contoh Kasus**\n",
    "\n",
    "Mari kita asumsikan Bank BRI memiliki dua kelompok nasabah bank, yaitu kelompok yang memiliki behavior scoring tinggi dan kelompok yang memiliki behavior scoring rendah. \n",
    "\n",
    "Diketahui data saldo rekening antara kedua kelompok sebagai berikut:"
   ]
  },
  {
   "cell_type": "code",
   "execution_count": 30,
   "metadata": {},
   "outputs": [],
   "source": [
    "behavior_score_high = pd.Series([30.4, 52.7, 70.6, 55.7, 56.3, 34.2, 59.6, 42.3, 21.1, 50.5, 12.2, 58.6, 12.0, 56.1, 49.4, 60.9, 60.0, 35.3, 15.0, 50.3])\n",
    "\n",
    "behavior_score_low = pd.Series([6.5, 13.3, 6.8, 9.2, 10.0, 1.5, 21.7, 16.2, 5.9, 25.0, 18.4, 12.6, 22.2, 22.0, 21.6, 20.5, 19.4, 14.5, 12.6, 12.0])\n"
   ]
  },
  {
   "cell_type": "markdown",
   "metadata": {},
   "source": [
    "Tujuan kita adalah menguji **apakah terdapat perbedaan signifikan dalam rata-rata saldo rekening antara kedua kelompok tersebut?**\n",
    "\n",
    "Jawab:\n",
    "\n",
    "**I. Tentukan hipotesis**\n",
    "\n",
    "- $H_0$: Rata-rata saldo rekening antara kelompok dengan behavior scoring tinggi dan kelompok dengan behavior scoring rendah tidak berbeda secara signifikan. \n",
    "- $H_1$: Terdapat perbedaan signifikan dalam rata-rata saldo rekening antara kedua kelompok."
   ]
  },
  {
   "cell_type": "markdown",
   "metadata": {},
   "source": [
    "**II. Hitung P-value dengan [`ttest_ind()`](https://docs.scipy.org/doc/scipy/reference/generated/scipy.stats.ttest_ind.html)**\n",
    "\n",
    "Gunakan fungsi `ttest_ind()` untuk menghitung t-statistics dan p-value dua independent sample\n",
    "\n",
    "```python\n",
    "t_stats, pval = ttest_ind(a= ...,\n",
    "                          b= ...,\n",
    "                          alternative = ...)\n",
    "```\n",
    "\n",
    "parameter:\n",
    "\n",
    "- `a` : data atau observasi sampel berbentuk Series atau array\n",
    "- `b` : data atau observasi sampel berbentuk Series atau array\n",
    "- `alternative` : tergantung hypothesis alternative ($H_1$)\n",
    "    - jika $H_1$ tidak sama  (!=) dengan nilai tertentu, isi dengan `two-sided`\n",
    "    - jika $H_1$ lebih besar (>) dengan nilai tertentu, isi dengan `less`\n",
    "    - Jika $H_1$ lebih besar (<) dengan nilai tertentu, isi dengan `greater` "
   ]
  },
  {
   "cell_type": "code",
   "execution_count": null,
   "metadata": {},
   "outputs": [],
   "source": [
    "# code here\n",
    "from scipy import stats\n",
    "\n",
    "t_test = "
   ]
  },
  {
   "cell_type": "markdown",
   "metadata": {},
   "source": [
    "**III. Bandingkan P-value dengan alpha**\n",
    "\n",
    "Dalam membuat keputusan uji statistik, kita dapat membandingan p-value dengan alpha:\n",
    "\n",
    "- selang kepercayaan = 95%\n",
    "- alpha = 5% -> 0.05\n",
    "\n",
    "p-value = ___ (>/<) alpha = 0.05, maka ___\n"
   ]
  },
  {
   "cell_type": "markdown",
   "metadata": {},
   "source": [
    "**IV. Kesimpulan**\n",
    "\n",
    "Dengan menggunakan tingkat kepercayaan 95% dapat disimpulkan ___"
   ]
  },
  {
   "cell_type": "markdown",
   "metadata": {},
   "source": [
    "**Summary penggunaan hipotesis testing:**\n",
    "\n",
    "![](assets/uji_hipotesis_mean.png)"
   ]
  },
  {
   "cell_type": "markdown",
   "metadata": {},
   "source": [
    "# Further Readings\n",
    "\n",
    "- Descriptive Statistics: https://courses.lumenlearning.com/suny-natural-resources-biometrics/chapter/chapter-1-descriptive-statistics-and-the-normal-distribution/\n",
    "\n",
    "- Dealing with small data set: https://measuringu.com/small-n/\n",
    "\n",
    "- t-Distribution and some case examples: https://stattrek.com/probability-distributions/t-distribution.aspx"
   ]
  }
 ],
 "metadata": {
  "kernelspec": {
   "display_name": "Python 3 (ipykernel)",
   "language": "python",
   "name": "python3"
  },
  "language_info": {
   "codemirror_mode": {
    "name": "ipython",
    "version": 3
   },
   "file_extension": ".py",
   "mimetype": "text/x-python",
   "name": "python",
   "nbconvert_exporter": "python",
   "pygments_lexer": "ipython3",
   "version": "3.9.6"
  },
  "toc": {
   "base_numbering": 1,
   "nav_menu": {},
   "number_sections": false,
   "sideBar": true,
   "skip_h1_title": false,
   "title_cell": "Table of Contents",
   "title_sidebar": "Contents",
   "toc_cell": false,
   "toc_position": {},
   "toc_section_display": true,
   "toc_window_display": false
  }
 },
 "nbformat": 4,
 "nbformat_minor": 2
}
