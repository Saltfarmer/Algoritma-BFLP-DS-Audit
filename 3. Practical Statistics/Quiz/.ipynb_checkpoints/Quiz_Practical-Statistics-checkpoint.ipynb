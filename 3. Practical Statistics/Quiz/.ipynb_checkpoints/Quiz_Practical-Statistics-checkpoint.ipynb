{
 "cells": [
  {
   "cell_type": "code",
   "execution_count": null,
   "metadata": {},
   "outputs": [],
   "source": [
    "# libraries\n",
    "import pandas as pd\n",
    "import numpy as np\n",
    "import matplotlib.pyplot as plt\n",
    "import math\n",
    "from scipy import stats\n",
    "\n",
    "# display setup\n",
    "pd.set_option('display.float_format', lambda x: '%.3f' % x)\n",
    "\n",
    "import warnings\n",
    "warnings.filterwarnings('ignore')"
   ]
  },
  {
   "cell_type": "markdown",
   "metadata": {},
   "source": [
    "1. Dalam statistika deskriptif, jenis pengukuran yang umum digunakan untuk menjelaskan distribusi/sebaran dari data adalah...\n",
    "    - [ ] Probability\n",
    "    - [ ] Mean\n",
    "    - [ ] Standard Deviation\n",
    "    - [ ] Correlation"
   ]
  },
  {
   "cell_type": "markdown",
   "metadata": {},
   "source": [
    "----"
   ]
  },
  {
   "cell_type": "markdown",
   "metadata": {},
   "source": [
    "Gunakan data `retail.csv`, sebuah data historis transaksi dari sebuah retail untuk menjawab pertanyaan nomor 2 - 4!"
   ]
  },
  {
   "cell_type": "code",
   "execution_count": null,
   "metadata": {},
   "outputs": [],
   "source": [
    "retail = pd.read_csv(\"data/retail.csv\",\n",
    "                     encoding=\"latin\",\n",
    "                     index_col=0)\n",
    "retail.head(2)"
   ]
  },
  {
   "cell_type": "markdown",
   "metadata": {},
   "source": [
    "2.  Berdasarkan data tersebut, bagaimana hubungan antara variabel jumlah barang (`Quantity`) dan diskon (`Discount`) ?\n",
    "    - [ ] Korelasi = 1; Ketika diskon bertambah, jumlah barang yang terjual juga bertambah.\n",
    "    - [ ] Korelasi = -1; Ketika diskon bertambah, jumlah barang yang terjual berkurang.\n",
    "    - [ ] Korelasi mendekati 0; Ketika diskon bertambah, jumlah barang yang terjual tidak mengalami perubahan.\n",
    "    - [ ] Korelasi mendekati 0; Ketika diskon berkurang, jumlah barang yang terjual ikut berkurang.\n",
    "    "
   ]
  },
  {
   "cell_type": "markdown",
   "metadata": {},
   "source": [
    "3. Buatlah sebuah boxplot untuk melihat sebaran dari jumlah barang (`Quantity`) yang terjual di setiap transaksi. Berdasarkan boxplot tersebut, pernyataan yang **SALAH** adalah...\n",
    "    - [ ] Dalam 1 transaksi, paling banyak customer membeli sebanyak 9 unit barang yang sama\n",
    "    - [ ] Dalam 1 transaksi, paling banyak customer membeli sebanyak 14 unit barang yang sama\n",
    "    - [ ] Berdasarkan data, customer relatif membeli 3 barang yang sama pada setiap transaksi.\n",
    "    - [ ] Berdasarkan data, customer relatif membeli 2 sampai 5 barang yang sama pada setiap transaksi."
   ]
  },
  {
   "cell_type": "markdown",
   "metadata": {},
   "source": [
    "4. Buatlah ringkasan statistik untuk melihat statistik deskriptif pada kolom numerik. Berdasarkan ringkasan statistiknya, pernyataan yang **SALAH** adalah...\n",
    "    - [ ] Ada transaksi yang membuat perusahaan merugi sebesar -6599.978\n",
    "    - [ ] Diskon terbesar yang pernah diberikan adalah sebesar 80%\n",
    "    - [ ] Sangat umum jika ada transaksi penjualan diatas 508.68 (data outlier)\n",
    "    - [ ] Rata-rata customer membeli 3 unit barang yang sama pada setiap transaksi"
   ]
  },
  {
   "cell_type": "markdown",
   "metadata": {},
   "source": [
    "5. Perusahaan retail tersebut ingin memberikan promosi untuk meningkatkan jumlah penjualan. Berdasarkan seluruh data historis, Anda mendapatkan nilai Sales dari perusahaan tersebut berdistribusi normal dengan rata-rata sebesar 47,858.35 dan standar deviasi sebesar 25,195. Satu bulan setelah promosi berjalan, Anda mendapatkan nilai Sales sebesar 53,777. Apakah promosi tersebut meningkatkan Sales dari perusahaan secara signifikan? Lakukan Z-test dengan confidence interval sebesar 95%!\n",
    "    - [ ] Gagal tolak H0, promosi tersebut **tidak** meningkatkan Sales secara signifikan\n",
    "    - [ ] Gagal tolak H0, promosi tersebut meningkatkan Sales secara signifikan\n",
    "    - [ ] Tolak H0, promosi tersebut **tidak** meningkatkan Sales secara signifikan\n",
    "    - [ ] Tolak H0, promosi tersebut meningkatkan Sales secara signifikan"
   ]
  },
  {
   "cell_type": "markdown",
   "metadata": {},
   "source": [
    "6. Manakah pernyataan mengenai statistika inferensial berikut yang **SALAH**?\n",
    "    - [ ] Tahapan T-test maupun Z-test sama saja, yang membedakan hanya distribusi yang digunakan.\n",
    "    - [ ] Standarisasi nilai sebuah variabel tidak akan mengubah distribusi dari variabel tersebut.\n",
    "    - [ ] T-test digunakan ketika jumlah sample yang dimiliki lebih kecil dari 30 observasi.\n",
    "    - [ ] Nilai Alpha pada pengujian hipotesis mutlak sebesar 0.05."
   ]
  }
 ],
 "metadata": {
  "kernelspec": {
   "display_name": "smm_dadp",
   "language": "python",
   "name": "smm_dadp"
  },
  "language_info": {
   "codemirror_mode": {
    "name": "ipython",
    "version": 3
   },
   "file_extension": ".py",
   "mimetype": "text/x-python",
   "name": "python",
   "nbconvert_exporter": "python",
   "pygments_lexer": "ipython3",
   "version": "3.9.13"
  },
  "latex_envs": {
   "LaTeX_envs_menu_present": true,
   "autoclose": false,
   "autocomplete": true,
   "bibliofile": "biblio.bib",
   "cite_by": "apalike",
   "current_citInitial": 1,
   "eqLabelWithNumbers": true,
   "eqNumInitial": 1,
   "hotkeys": {
    "equation": "Ctrl-E",
    "itemize": "Ctrl-I"
   },
   "labels_anchors": false,
   "latex_user_defs": false,
   "report_style_numbering": false,
   "user_envs_cfg": false
  },
  "toc": {
   "base_numbering": 1,
   "nav_menu": {},
   "number_sections": true,
   "sideBar": true,
   "skip_h1_title": false,
   "title_cell": "Table of Contents",
   "title_sidebar": "Contents",
   "toc_cell": false,
   "toc_position": {},
   "toc_section_display": true,
   "toc_window_display": false
  }
 },
 "nbformat": 4,
 "nbformat_minor": 4
}
