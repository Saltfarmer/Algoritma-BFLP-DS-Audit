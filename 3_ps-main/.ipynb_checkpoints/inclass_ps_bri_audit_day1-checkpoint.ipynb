{
 "cells": [
  {
   "cell_type": "markdown",
   "metadata": {},
   "source": [
    "**Coursebook: Practical Statistics**\n",
    "\n",
    "This notebook was made based on main materials `Practical Statistics.ipynb`\n",
    "\n",
    "Version: BRI Audit Analytics - January 2024\n",
    "\n",
    "___\n"
   ]
  },
  {
   "cell_type": "markdown",
   "metadata": {},
   "source": [
    "# Training Objectives\n",
    "\n",
    "**Descriptive Statistics**\n",
    "\n",
    "- Understanding 5 number summary\n",
    "- Central tendency measure\n",
    "- Measure of spread\n",
    "- Variable relationship\n",
    "- Z Score and Central Limit Theorem\n",
    "\n",
    "**Inferential Statistics**\n",
    "\n",
    "- Probability Density Function\n",
    "- Data distributions\n",
    "- Hypothesis test\n",
    "- Error and confidence intervals"
   ]
  },
  {
   "cell_type": "markdown",
   "metadata": {},
   "source": [
    "# Practical Statistics\n",
    "\n",
    "Practical Statistics merupakan salah satu bagian penting dalam pengolahan data sehingga mendukung *busines case* yang ingin diangkat. Practical Statistics berisi kaidah statistika yang banyak diterapkan dalam praktik data science agar dapat **memahami dan mengolah data dengan tepat**. \n",
    "\n",
    "Secara umum, Practical Statistics terbagi 2, masing-masing membantu kita dalam hal tertentu:\n",
    "\n",
    "* **Descriptive Statistics**: meringkas informasi dalam data agar terambil insight secara cepat. Nilai-nilai yang didapatkan merupakan rangkuman dari data, tujuannya untuk menggambarkan keadaan data secara umum.\n",
    "\n",
    "* **Inferential Statistics**: menyimpulkan sesuatu tentang kondisi di lapangan, berdasarkan data yang kita punya (sample -> population).\n",
    "\n",
    "![](assets/PS.png)"
   ]
  },
  {
   "cell_type": "markdown",
   "metadata": {},
   "source": [
    "Untuk lebih memahami *practical statistics*, mari kita melakukan analisis menggunakan data asli."
   ]
  },
  {
   "cell_type": "code",
   "execution_count": 1,
   "metadata": {
    "execution": {
     "iopub.execute_input": "2024-01-05T00:36:24.140818Z",
     "iopub.status.busy": "2024-01-05T00:36:24.139813Z",
     "iopub.status.idle": "2024-01-05T00:36:27.001300Z",
     "shell.execute_reply": "2024-01-05T00:36:27.001300Z",
     "shell.execute_reply.started": "2024-01-05T00:36:24.140818Z"
    }
   },
   "outputs": [],
   "source": [
    "import pandas as pd\n",
    "import numpy as np #perhitungan statistik\n",
    "import matplotlib.pyplot as plt # untuk visualisasi\n",
    "import math # perhitungan statistik\n",
    "from scipy import stats #untuk perhitungan statistik\n",
    "import seaborn as sns # untuk visualisasi\n",
    "\n",
    "pd.set_option('display.float_format', '{:.2f}'.format) # suppress scientific notation\n",
    "np.set_printoptions(suppress=True) # suppress scientific notation"
   ]
  },
  {
   "cell_type": "markdown",
   "metadata": {},
   "source": [
    "# Study Case: Credit Card Balance Analysis\n",
    "\n",
    "**1. Business Question**\n",
    "\n",
    "Credit Card Balance Analysis, atau Analisis Saldo Kartu Kredit, dilakukan sebagai bagian dari analisis debitur dalam sebuah perusahaan kartu kredit. Hasil analisis dapat menentukan debitur mana yang memiliki risiko pembayaran kredit yang tinggi, atau bagaimana behavior debitur. Selain itu, menggabungkan data saldo kredit dengan informasi seperti limit kredit dapat membantu menghitung pemanfaatan kredit kartu, informasi yang berpengaruh pada Rating kredit seorang pemegang kartu.\n",
    "\n",
    "Asumsi data:\n",
    "\n",
    "- Balance dihitung sebagai jumlah semua transaksi selama periode penagihan/billing cycle. Sebagai contoh, jika seorang pemegang kartu mengeluarkan `$400`, `$500`, dan `$600` dalam 3 bulan, maka saldo rata-rata akan dicatat sebagai `$500`.\n",
    "\n",
    "Kita sebagai tim data diminta untuk **menganalisa performa Credit Card Balance** nasabah. Data tersimpan dalam folder data_input dengan nama file `credit_card.csv`, gunakan `stringAsFactors = T` supaya kolom bernilai string berubah langsung menjadi tipe factor."
   ]
  },
  {
   "cell_type": "markdown",
   "metadata": {},
   "source": [
    "**2. Read Data**"
   ]
  },
  {
   "cell_type": "code",
   "execution_count": 2,
   "metadata": {
    "execution": {
     "iopub.execute_input": "2024-01-05T00:39:29.302298Z",
     "iopub.status.busy": "2024-01-05T00:39:29.301304Z",
     "iopub.status.idle": "2024-01-05T00:39:29.349662Z",
     "shell.execute_reply": "2024-01-05T00:39:29.348657Z",
     "shell.execute_reply.started": "2024-01-05T00:39:29.302298Z"
    }
   },
   "outputs": [
    {
     "data": {
      "text/html": [
       "<div>\n",
       "<style scoped>\n",
       "    .dataframe tbody tr th:only-of-type {\n",
       "        vertical-align: middle;\n",
       "    }\n",
       "\n",
       "    .dataframe tbody tr th {\n",
       "        vertical-align: top;\n",
       "    }\n",
       "\n",
       "    .dataframe thead th {\n",
       "        text-align: right;\n",
       "    }\n",
       "</style>\n",
       "<table border=\"1\" class=\"dataframe\">\n",
       "  <thead>\n",
       "    <tr style=\"text-align: right;\">\n",
       "      <th></th>\n",
       "      <th>Income</th>\n",
       "      <th>Limit</th>\n",
       "      <th>Rating</th>\n",
       "      <th>Cards</th>\n",
       "      <th>Age</th>\n",
       "      <th>Education</th>\n",
       "      <th>Gender</th>\n",
       "      <th>Student</th>\n",
       "      <th>Married</th>\n",
       "      <th>Ethnicity</th>\n",
       "      <th>Balance</th>\n",
       "    </tr>\n",
       "  </thead>\n",
       "  <tbody>\n",
       "    <tr>\n",
       "      <th>0</th>\n",
       "      <td>14.89</td>\n",
       "      <td>3606</td>\n",
       "      <td>283</td>\n",
       "      <td>2</td>\n",
       "      <td>34</td>\n",
       "      <td>11</td>\n",
       "      <td>Male</td>\n",
       "      <td>No</td>\n",
       "      <td>Yes</td>\n",
       "      <td>Caucasian</td>\n",
       "      <td>333</td>\n",
       "    </tr>\n",
       "    <tr>\n",
       "      <th>1</th>\n",
       "      <td>106.03</td>\n",
       "      <td>6645</td>\n",
       "      <td>483</td>\n",
       "      <td>3</td>\n",
       "      <td>82</td>\n",
       "      <td>15</td>\n",
       "      <td>Female</td>\n",
       "      <td>Yes</td>\n",
       "      <td>Yes</td>\n",
       "      <td>Asian</td>\n",
       "      <td>903</td>\n",
       "    </tr>\n",
       "    <tr>\n",
       "      <th>2</th>\n",
       "      <td>104.59</td>\n",
       "      <td>7075</td>\n",
       "      <td>514</td>\n",
       "      <td>4</td>\n",
       "      <td>71</td>\n",
       "      <td>11</td>\n",
       "      <td>Male</td>\n",
       "      <td>No</td>\n",
       "      <td>No</td>\n",
       "      <td>Asian</td>\n",
       "      <td>580</td>\n",
       "    </tr>\n",
       "    <tr>\n",
       "      <th>3</th>\n",
       "      <td>148.92</td>\n",
       "      <td>9504</td>\n",
       "      <td>681</td>\n",
       "      <td>3</td>\n",
       "      <td>36</td>\n",
       "      <td>11</td>\n",
       "      <td>Female</td>\n",
       "      <td>No</td>\n",
       "      <td>No</td>\n",
       "      <td>Asian</td>\n",
       "      <td>964</td>\n",
       "    </tr>\n",
       "    <tr>\n",
       "      <th>4</th>\n",
       "      <td>55.88</td>\n",
       "      <td>4897</td>\n",
       "      <td>357</td>\n",
       "      <td>2</td>\n",
       "      <td>68</td>\n",
       "      <td>16</td>\n",
       "      <td>Male</td>\n",
       "      <td>No</td>\n",
       "      <td>Yes</td>\n",
       "      <td>Caucasian</td>\n",
       "      <td>331</td>\n",
       "    </tr>\n",
       "  </tbody>\n",
       "</table>\n",
       "</div>"
      ],
      "text/plain": [
       "   Income  Limit  Rating  Cards  Age  Education  Gender Student Married  \\\n",
       "0   14.89   3606     283      2   34         11    Male      No     Yes   \n",
       "1  106.03   6645     483      3   82         15  Female     Yes     Yes   \n",
       "2  104.59   7075     514      4   71         11    Male      No      No   \n",
       "3  148.92   9504     681      3   36         11  Female      No      No   \n",
       "4   55.88   4897     357      2   68         16    Male      No     Yes   \n",
       "\n",
       "   Ethnicity  Balance  \n",
       "0  Caucasian      333  \n",
       "1      Asian      903  \n",
       "2      Asian      580  \n",
       "3      Asian      964  \n",
       "4  Caucasian      331  "
      ]
     },
     "execution_count": 2,
     "metadata": {},
     "output_type": "execute_result"
    }
   ],
   "source": [
    "cc = pd.read_csv('data_input/CC.csv')\n",
    "cc.head()"
   ]
  },
  {
   "cell_type": "markdown",
   "metadata": {},
   "source": [
    "**Deskripsi Kolom**\n",
    "\n",
    "- `Income`: Besaran gaji nasabah per tahun (dalam $10000)\n",
    "- `Limit` : Besaran kredit limit\n",
    "- `Rating` : Skor yang diberikan kepada individu berdasarkan kelayakan kreditnya. Semakin besar maka semakin baik\n",
    "- `Cards` : Jumlah banyaknya kartu kredit yang dimiliki oleh nasabah\n",
    "- `Age` : Usia nasabah\n",
    "- `Education` : Level/lamanya pendidikan yang ditempuh oleh nasabah\n",
    "- `Gender`: Jenis kelamin nasabah\n",
    "    - Male\n",
    "    - Female\n",
    "- `Student` : Apakah nasabah seorang pelajar atau bukan\n",
    "    - Yes $\\rightarrow$ Pelajar\n",
    "    - No $\\rightarrow$ Bukan pelajar\n",
    "- `Married`: Status pernikahan\n",
    "    - Yes $\\rightarrow$ Sudah menikah\n",
    "    - No $\\rightarrow$ Belum menikah\n",
    "- `Ethnicity`: Etnis nasabah\n",
    "    - African American\n",
    "    - Asian\n",
    "    - Caucasian\n",
    "- `Balance`: Rata-rata jumlah saldo kartu kredit"
   ]
  },
  {
   "cell_type": "markdown",
   "metadata": {},
   "source": [
    "# Descriptive Statistics\n",
    "\n",
    "Descriptive Statistics membantu kita **menggambarkan karakteristik** dari data, sehingga berguna dalam proses **Exploratory Data Analysis (EDA)**. Terdapat 3 hal pada descriptive statistics:\n",
    "\n",
    "- Ukuran pemusatan data (Measure of Central Tendency)\n",
    "- Ukuran penyebaran data (Measure of Spread)\n",
    "- Hubungan antar data (Variable Relationship)"
   ]
  },
  {
   "cell_type": "markdown",
   "metadata": {},
   "source": [
    "## Measure of Central Tendency\n",
    "\n",
    "Ukuran pemusatan data adalah **suatu nilai yang cukup untuk mewakili seluruh nilai pada data**.\n",
    "\n",
    "### Mean\n",
    "\n",
    "Cara paling umum untuk membuat perkiraan nilai tunggal dari data yang banyak adalah dengan merata-ratakannya.\n",
    "\n",
    "* Formula: $$\\frac{\\sum{x_i}}{n}$$\n",
    "* Fungsi pada Python: `mean()`\n",
    "\n",
    "**Contoh:**\n",
    "\n",
    "Berapa rata-rata `Rating` atau skor yang diberikan kepada nasabah berdasarkan kelayakan kreditnya?"
   ]
  },
  {
   "cell_type": "code",
   "execution_count": 3,
   "metadata": {
    "execution": {
     "iopub.execute_input": "2024-01-05T00:40:17.893248Z",
     "iopub.status.busy": "2024-01-05T00:40:17.893248Z",
     "iopub.status.idle": "2024-01-05T00:40:17.904203Z",
     "shell.execute_reply": "2024-01-05T00:40:17.903202Z",
     "shell.execute_reply.started": "2024-01-05T00:40:17.893248Z"
    }
   },
   "outputs": [
    {
     "data": {
      "text/plain": [
       "354.94"
      ]
     },
     "execution_count": 3,
     "metadata": {},
     "output_type": "execute_result"
    }
   ],
   "source": [
    "# code here\n",
    "cc['Rating'].mean()"
   ]
  },
  {
   "cell_type": "markdown",
   "metadata": {},
   "source": [
    "* Sifat nilai mean: **sensitif terhadap outlier**\n",
    "\n",
    "> Outlier adalah nilai ekstrim yang jauh dari observasi lainnya. Kurang tepat apabila menggunakan nilai mean yang diketahui ada data outliernya."
   ]
  },
  {
   "cell_type": "markdown",
   "metadata": {},
   "source": [
    "**Contoh lain:**\n",
    "\n",
    "Ada sebuah Kantor Cabang BRI di daerah Bekasi yang merekap jumlah pengunjung per bulan. \n",
    "\n",
    "Dengan nilai mean:\n"
   ]
  },
  {
   "cell_type": "code",
   "execution_count": 4,
   "metadata": {
    "execution": {
     "iopub.execute_input": "2024-01-05T00:40:21.380865Z",
     "iopub.status.busy": "2024-01-05T00:40:21.380865Z",
     "iopub.status.idle": "2024-01-05T00:40:21.387906Z",
     "shell.execute_reply": "2024-01-05T00:40:21.386863Z",
     "shell.execute_reply.started": "2024-01-05T00:40:21.380865Z"
    }
   },
   "outputs": [],
   "source": [
    "# data pengunjung\n",
    "pengunjung = pd.Series([55, 50, 40, 70, 60, 45, 35, 35, 60, 1000, 250, 70])"
   ]
  },
  {
   "cell_type": "code",
   "execution_count": 5,
   "metadata": {
    "execution": {
     "iopub.execute_input": "2024-01-05T00:40:26.782070Z",
     "iopub.status.busy": "2024-01-05T00:40:26.782070Z",
     "iopub.status.idle": "2024-01-05T00:40:26.791068Z",
     "shell.execute_reply": "2024-01-05T00:40:26.790549Z",
     "shell.execute_reply.started": "2024-01-05T00:40:26.782070Z"
    }
   },
   "outputs": [
    {
     "data": {
      "text/plain": [
       "147.5"
      ]
     },
     "execution_count": 5,
     "metadata": {},
     "output_type": "execute_result"
    }
   ],
   "source": [
    "# rata-rata pengunjung\n",
    "pengunjung.mean()\n"
   ]
  },
  {
   "cell_type": "markdown",
   "metadata": {},
   "source": [
    "Apakah nilai mean di atas dapat diandalkan? _____\n",
    "\n",
    "> Nilai mean tidak dapat diandalkan karena terdapat outlier\n",
    "\n",
    "Masalah ini dapat diatasi oleh nilai **median**."
   ]
  },
  {
   "cell_type": "markdown",
   "metadata": {},
   "source": [
    "### Median\n",
    "\n",
    "Median atau nilai tengah diperoleh dengan mengurutkan data terlebih dahulu kemudian mencari nilai tengah dari data.\n",
    "\n",
    "- Baik untuk data yang memiliki **outlier** atau berdistribusi **skewed** (condong kiri/kanan)\n",
    "- Fungsi pada Python: `median()`\n",
    "\n",
    "Mari hitung ulang nilai pusat dari `pengunjung` menggunakan median:"
   ]
  },
  {
   "cell_type": "code",
   "execution_count": 6,
   "metadata": {
    "execution": {
     "iopub.execute_input": "2024-01-05T00:41:19.746226Z",
     "iopub.status.busy": "2024-01-05T00:41:19.745229Z",
     "iopub.status.idle": "2024-01-05T00:41:19.769624Z",
     "shell.execute_reply": "2024-01-05T00:41:19.767622Z",
     "shell.execute_reply.started": "2024-01-05T00:41:19.746226Z"
    }
   },
   "outputs": [
    {
     "data": {
      "text/plain": [
       "57.5"
      ]
     },
     "execution_count": 6,
     "metadata": {},
     "output_type": "execute_result"
    }
   ],
   "source": [
    "# median\n",
    "pengunjung.median()"
   ]
  },
  {
   "cell_type": "code",
   "execution_count": 7,
   "metadata": {
    "execution": {
     "iopub.execute_input": "2024-01-05T00:41:26.771186Z",
     "iopub.status.busy": "2024-01-05T00:41:26.771186Z",
     "iopub.status.idle": "2024-01-05T00:41:26.793088Z",
     "shell.execute_reply": "2024-01-05T00:41:26.792085Z",
     "shell.execute_reply.started": "2024-01-05T00:41:26.771186Z"
    }
   },
   "outputs": [
    {
     "data": {
      "text/plain": [
       "147.5"
      ]
     },
     "execution_count": 7,
     "metadata": {},
     "output_type": "execute_result"
    }
   ],
   "source": [
    "# bandingkan dengan mean\n",
    "pengunjung.mean()"
   ]
  },
  {
   "cell_type": "markdown",
   "metadata": {},
   "source": [
    "Untuk nilai desimal, apabila tidak sesuai dengan konteks bisnis (Pengunjung), **chaining** hasil dengan fungsi rounding `round()`"
   ]
  },
  {
   "cell_type": "code",
   "execution_count": 14,
   "metadata": {
    "execution": {
     "iopub.execute_input": "2024-01-05T00:44:21.702281Z",
     "iopub.status.busy": "2024-01-05T00:44:21.701281Z",
     "iopub.status.idle": "2024-01-05T00:44:21.714282Z",
     "shell.execute_reply": "2024-01-05T00:44:21.713278Z",
     "shell.execute_reply.started": "2024-01-05T00:44:21.702281Z"
    }
   },
   "outputs": [
    {
     "data": {
      "text/plain": [
       "148.0"
      ]
     },
     "execution_count": 14,
     "metadata": {},
     "output_type": "execute_result"
    }
   ],
   "source": [
    "pengunjung.mean().round()"
   ]
  },
  {
   "cell_type": "markdown",
   "metadata": {},
   "source": [
    "### Modus (Mode)\n",
    "\n",
    "Modus berguna untuk mencari nilai yang paling sering muncul (frekuensi tertinggi).\n",
    "\n",
    "- Modus digunakan untuk data kategorik\n",
    "- Fungsi pada Python: `mode()`\n",
    "\n",
    "**Contoh:**\n",
    "\n",
    "Berasal dari `Ethnicity` mana nasabah di Bank tersebut paling banyak berasal? "
   ]
  },
  {
   "cell_type": "code",
   "execution_count": 15,
   "metadata": {
    "execution": {
     "iopub.execute_input": "2024-01-05T00:45:56.920641Z",
     "iopub.status.busy": "2024-01-05T00:45:56.919639Z",
     "iopub.status.idle": "2024-01-05T00:45:56.938015Z",
     "shell.execute_reply": "2024-01-05T00:45:56.936018Z",
     "shell.execute_reply.started": "2024-01-05T00:45:56.920641Z"
    }
   },
   "outputs": [
    {
     "data": {
      "text/plain": [
       "0    Caucasian\n",
       "Name: Ethnicity, dtype: object"
      ]
     },
     "execution_count": 15,
     "metadata": {},
     "output_type": "execute_result"
    }
   ],
   "source": [
    "# code here\n",
    "cc['Ethnicity'].mode()"
   ]
  },
  {
   "cell_type": "markdown",
   "metadata": {},
   "source": [
    "> Modus untuk `Ethnicity` adalah ____"
   ]
  },
  {
   "cell_type": "markdown",
   "metadata": {},
   "source": [
    "### Knowledge Check\n",
    "\n",
    "Dari pernyataan berikut, jawablah benar atau salah. Apabila salah tuliskan pernyataan yang benar.\n",
    "\n",
    "1. Median adalah pusat data yang hanya melibatkan sebagian data dalam perhitungannya.\n",
    "\n",
    "    - [ ] Benar\n",
    "    - [x] Salah\n",
    "\n",
    "2. Mean adalah pusat data yang sensitif terhadap outlier.\n",
    "\n",
    "    - [x] Benar\n",
    "    - [ ] Salah\n",
    "\n",
    "3. Nilai pusat data yang cocok untuk tipe data kategorik adalah modus.\n",
    "\n",
    "    - [x] Benar\n",
    "    - [ ] Salah"
   ]
  },
  {
   "cell_type": "markdown",
   "metadata": {},
   "source": [
    "## Measure of Spread\n",
    "\n",
    "Ukuran penyebaran data mewakili seberapa menyebar atau beragam data kita.\n",
    "\n",
    "### Variance\n",
    "\n",
    "Variance menggambarkan seberapa beragam suatu data numerik tunggal menyebar dari pusat datanya\n",
    "\n",
    "- Formula variance:\n",
    "\n",
    "$$var = \\frac{\\sum(X_i - \\bar{X})^2}{n-1}$$\n",
    "\n",
    "- Variance tidak dapat diinterpretasikan karena satuannya dalam kuadrat.\n",
    "- Fungsi di Python: `var()`\n",
    "\n",
    "![](assets/var.PNG)"
   ]
  },
  {
   "cell_type": "markdown",
   "metadata": {},
   "source": [
    "**Contoh:**\n",
    "\n",
    "Bank BRI sedang dalam rencana membuka kantor cabang baru. Bank BRI menyeleksi daerah mana yang cocok untuk cabang baru mereka. Mereka mengumpulkan informasi harga sewa bangunan di daerah A dan B sebagai berikut: "
   ]
  },
  {
   "cell_type": "code",
   "execution_count": 16,
   "metadata": {
    "execution": {
     "iopub.execute_input": "2024-01-05T00:46:25.745306Z",
     "iopub.status.busy": "2024-01-05T00:46:25.745306Z",
     "iopub.status.idle": "2024-01-05T00:46:25.761893Z",
     "shell.execute_reply": "2024-01-05T00:46:25.760890Z",
     "shell.execute_reply.started": "2024-01-05T00:46:25.745306Z"
    }
   },
   "outputs": [],
   "source": [
    "# harga dalam satuan juta\n",
    "harga_A = pd.Series([400,410,420,400,410,420,400,410,420,400,410,420,400]) \n",
    "harga_B = pd.Series([130,430,650,540,460,320,380,550,650,470,330,140,270]) "
   ]
  },
  {
   "cell_type": "markdown",
   "metadata": {},
   "source": [
    "Bandingkan rata-rata harga bangunan kedua daerah:"
   ]
  },
  {
   "cell_type": "code",
   "execution_count": 17,
   "metadata": {
    "execution": {
     "iopub.execute_input": "2024-01-05T00:46:47.753491Z",
     "iopub.status.busy": "2024-01-05T00:46:47.752485Z",
     "iopub.status.idle": "2024-01-05T00:46:47.773299Z",
     "shell.execute_reply": "2024-01-05T00:46:47.771297Z",
     "shell.execute_reply.started": "2024-01-05T00:46:47.753491Z"
    }
   },
   "outputs": [
    {
     "name": "stdout",
     "output_type": "stream",
     "text": [
      "409.2307692307692\n",
      "409.2307692307692\n"
     ]
    }
   ],
   "source": [
    "# code here\n",
    "print(harga_A.mean())\n",
    "print(harga_B.mean())"
   ]
  },
  {
   "cell_type": "markdown",
   "metadata": {},
   "source": [
    "Mari bandingkan dari sisi lain, yaitu tingkat keberagaman data (variance). Daerah mana yang harganya lebih bervariasi?"
   ]
  },
  {
   "cell_type": "code",
   "execution_count": 18,
   "metadata": {
    "execution": {
     "iopub.execute_input": "2024-01-05T00:47:01.603715Z",
     "iopub.status.busy": "2024-01-05T00:47:01.602718Z",
     "iopub.status.idle": "2024-01-05T00:47:01.614715Z",
     "shell.execute_reply": "2024-01-05T00:47:01.613712Z",
     "shell.execute_reply.started": "2024-01-05T00:47:01.602718Z"
    }
   },
   "outputs": [
    {
     "name": "stdout",
     "output_type": "stream",
     "text": [
      "74.35897435897435\n",
      "28707.692307692312\n"
     ]
    }
   ],
   "source": [
    "# code here\n",
    "print(harga_A.var())\n",
    "print(harga_B.var())"
   ]
  },
  {
   "cell_type": "markdown",
   "metadata": {},
   "source": [
    "Daerah manakah yang lebih baik untuk dijadikan area perkantoran?\n",
    "\n",
    "> ..."
   ]
  },
  {
   "cell_type": "markdown",
   "metadata": {},
   "source": [
    "**Karakteristik Variance**\n",
    "\n",
    "- Skala variance dari 0 sampai tak hingga. Semakin besar nilainya maka artinya semakin menyebar dari pusat datanya (mean).\n",
    "\n",
    "- Variance memiliki satuan kuadrat, sehingga tidak dapat langsung diinterpretasikan. Biasanya digunakan untuk membandingkan dengan nilai var lain dengan satuan yang sama.\n",
    "\n",
    "- **Nilai variansi sangat bergantung dengan skala data**. Hati-hati apabila membandingkan antar variabel yang berbeda skala."
   ]
  },
  {
   "cell_type": "markdown",
   "metadata": {},
   "source": [
    "### Standard Deviation\n",
    "\n",
    "Standard deviation menggambarkan **seberapa jauh simpangan nilai yang dianggap umum, dihitung dari titik pusat (mean) nya.** Kita dapat menentukan apakah suatu nilai dikatakan menyimpang dari rata-rata namun masih dikatakan umum, atau sudah tidak umum. \n",
    "\n",
    "Karena dihitung dengan **mengakarkan variance**, satuannya sudah sesuai dengan data asli dan bisa diinterpretasikan.\n",
    "\n",
    "* Formula standar deviasi: $$sd = \\sqrt{var}$$\n",
    "* Fungsi di Python: `std()`"
   ]
  },
  {
   "cell_type": "code",
   "execution_count": 19,
   "metadata": {
    "execution": {
     "iopub.execute_input": "2024-01-05T00:52:33.780775Z",
     "iopub.status.busy": "2024-01-05T00:52:33.779776Z",
     "iopub.status.idle": "2024-01-05T00:52:33.789780Z",
     "shell.execute_reply": "2024-01-05T00:52:33.787798Z",
     "shell.execute_reply.started": "2024-01-05T00:52:33.780775Z"
    }
   },
   "outputs": [
    {
     "name": "stdout",
     "output_type": "stream",
     "text": [
      "8.623164985025761\n",
      "169.43344506824002\n"
     ]
    }
   ],
   "source": [
    "# standar deviasi harga_A & harga_B\n",
    "print(harga_A.std())\n",
    "print(harga_B.std())"
   ]
  },
  {
   "cell_type": "code",
   "execution_count": 20,
   "metadata": {
    "execution": {
     "iopub.execute_input": "2024-01-05T00:52:56.310884Z",
     "iopub.status.busy": "2024-01-05T00:52:56.310884Z",
     "iopub.status.idle": "2024-01-05T00:52:56.324886Z",
     "shell.execute_reply": "2024-01-05T00:52:56.323880Z",
     "shell.execute_reply.started": "2024-01-05T00:52:56.310884Z"
    }
   },
   "outputs": [
    {
     "name": "stdout",
     "output_type": "stream",
     "text": [
      "409.2307692307692\n",
      "409.2307692307692\n"
     ]
    }
   ],
   "source": [
    "# tinjau nilai mean harga_A & harga_B\n",
    "print(harga_A.mean())\n",
    "print(harga_B.mean())"
   ]
  },
  {
   "cell_type": "code",
   "execution_count": 22,
   "metadata": {
    "execution": {
     "iopub.execute_input": "2024-01-05T00:54:24.386194Z",
     "iopub.status.busy": "2024-01-05T00:54:24.385197Z",
     "iopub.status.idle": "2024-01-05T00:54:24.394924Z",
     "shell.execute_reply": "2024-01-05T00:54:24.394203Z",
     "shell.execute_reply.started": "2024-01-05T00:54:24.386194Z"
    }
   },
   "outputs": [
    {
     "name": "stdout",
     "output_type": "stream",
     "text": [
      "400.60760424574346 417.853934215795\n",
      "239.7973241625292 578.6642142990092\n"
     ]
    }
   ],
   "source": [
    "print(harga_A.mean()-harga_A.std(), harga_A.mean()+harga_A.std())\n",
    "print(harga_B.mean()-harga_B.std(), harga_B.mean()+harga_B.std())"
   ]
  },
  {
   "cell_type": "markdown",
   "metadata": {},
   "source": [
    "**Interpretasi nilai normal/wajar : mean +- sd** (karena satuan mean dan sd sama, yaitu jutaan rupiah)\n",
    "\n",
    "- Harga sewa pada daerah A umumnya jatuh pada interval 400.60760424574346 417.853934215795\n",
    "- Harga sewa pada daerah B umumnya jatuh pada interval 239.7973241625292 578.6642142990092"
   ]
  },
  {
   "cell_type": "markdown",
   "metadata": {},
   "source": [
    "**Business question**\n",
    "\n",
    "Apabila kita ditawarkan suatu bangunan di daerah B dengan harga 800, apakah harga tersebut masih wajar? Apakah sebaiknya kita membeli bangunan tersebut? Hubungkan dengan nilai mean dan standar deviasi yang diperoleh.\n",
    "\n",
    "Hitung range \"harga normal\" daerah B:"
   ]
  },
  {
   "cell_type": "code",
   "execution_count": 24,
   "metadata": {
    "execution": {
     "iopub.execute_input": "2024-01-05T00:55:40.728215Z",
     "iopub.status.busy": "2024-01-05T00:55:40.727213Z",
     "iopub.status.idle": "2024-01-05T00:55:40.735212Z",
     "shell.execute_reply": "2024-01-05T00:55:40.733214Z",
     "shell.execute_reply.started": "2024-01-05T00:55:40.727213Z"
    }
   },
   "outputs": [
    {
     "name": "stdout",
     "output_type": "stream",
     "text": [
      "239.7973241625292 - 578.6642142990092\n"
     ]
    }
   ],
   "source": [
    "# code here\n",
    "print(harga_B.mean()-harga_B.std(),'-', harga_B.mean()+harga_B.std())"
   ]
  },
  {
   "cell_type": "markdown",
   "metadata": {},
   "source": [
    "> ..."
   ]
  },
  {
   "cell_type": "markdown",
   "metadata": {},
   "source": [
    "### Range using `boxplot()`\n",
    "\n",
    "Distribusi data numerik pada umumnya divisualisasikan dengan `boxplot()`, yang meliputi komponen:\n",
    "\n",
    "- Box: menggambarkan Q1, Q2 (median), dan Q3\n",
    "  + Kuartil 1 (Q1): nilai ke 25%\n",
    "  + Kuartil 2 (Q2 atau median): nilai ke 50% (nilai tengah)\n",
    "  + Kuartil 3 (Q3): nilai ke 75%\n",
    "  + Interquartile Range (IQR): selisih antara Q3 dan Q1\n",
    "- Whisker: pagar bawah dan atas (PENTING: hati-hati, nilai ini bukan nilai minimum dan maksimum data)\n",
    "- Data outliers: nilai ekstrim data yang berada di luar pagar bawah dan atas\n",
    "\n",
    "![](assets/boxplot.PNG)"
   ]
  },
  {
   "cell_type": "markdown",
   "metadata": {},
   "source": [
    "Beberapa hal yang harus diperhatikan dalam boxplot:\n",
    "\n",
    "- Banyaknya data dari Q1 ke nilai minimum (bukan pagar bawah) adalah 25%\n",
    "- Banyaknya data dari Q1 ke Q2 adalah 25%\n",
    "- Banyaknya data dari Q2 ke Q3 adalah 25%\n",
    "- Banyaknya data dari Q3 ke nilai maksimum (bukan pagar atas) adalah 25%\n",
    "\n",
    "Insight yang dapat diperoleh dari boxplot:\n",
    "\n",
    "1. Pusat data dengan median (Q2)\n",
    "2. Sebaran data dengan IQR (lebar kotak)\n",
    "3. Outlier, nilai ekstrim pada data\n",
    "4. Bentuk distribusi data:\n",
    "  + box yang berada ditengah = **distribusi normal**\n",
    "  + box yang mendekati batas bawah = **distribusi skewed kanan**\n",
    "  + box yang mendekati batas atas = **distribusi skewed kiri**\n",
    "\n",
    "**Contoh:**\n",
    "\n",
    "Visualisasikan sebaran data `Rating` dari data `cc`! Analisis informasi yang didapatkan."
   ]
  },
  {
   "cell_type": "code",
   "execution_count": 57,
   "metadata": {
    "execution": {
     "iopub.execute_input": "2024-01-05T02:16:01.783297Z",
     "iopub.status.busy": "2024-01-05T02:16:01.782298Z",
     "iopub.status.idle": "2024-01-05T02:16:01.906816Z",
     "shell.execute_reply": "2024-01-05T02:16:01.905811Z",
     "shell.execute_reply.started": "2024-01-05T02:16:01.783297Z"
    }
   },
   "outputs": [
    {
     "data": {
      "text/plain": [
       "<Axes: >"
      ]
     },
     "execution_count": 57,
     "metadata": {},
     "output_type": "execute_result"
    },
    {
     "data": {
      "image/png": "[encoded data removed]",
      "text/plain": [
       "<Figure size 640x480 with 1 Axes>"
      ]
     },
     "metadata": {},
     "output_type": "display_data"
    }
   ],
   "source": [
    "cc['Rating'].plot.box(vert=False)"
   ]
  },
  {
   "cell_type": "code",
   "execution_count": 81,
   "metadata": {
    "execution": {
     "iopub.execute_input": "2024-01-05T02:58:55.738931Z",
     "iopub.status.busy": "2024-01-05T02:58:55.738931Z",
     "iopub.status.idle": "2024-01-05T02:58:55.768931Z",
     "shell.execute_reply": "2024-01-05T02:58:55.767931Z",
     "shell.execute_reply.started": "2024-01-05T02:58:55.738931Z"
    }
   },
   "outputs": [
    {
     "data": {
      "text/plain": [
       "[{'mean': 354.94,\n",
       "  'iqr': 190.0,\n",
       "  'cilo': 329.085,\n",
       "  'cihi': 358.915,\n",
       "  'whishi': 721,\n",
       "  'whislo': 93,\n",
       "  'fliers': array([949, 828, 728, 750, 805, 730, 817, 982, 754, 832, 747], dtype=int64),\n",
       "  'q1': 247.25,\n",
       "  'med': 344.0,\n",
       "  'q3': 437.25}]"
      ]
     },
     "execution_count": 81,
     "metadata": {},
     "output_type": "execute_result"
    }
   ],
   "source": [
    "from matplotlib.cbook import boxplot_stats\n",
    "\n",
    "bp_stats = boxplot_stats(cc['Rating'].values)\n",
    "\n",
    "bp_stats"
   ]
  },
  {
   "cell_type": "code",
   "execution_count": 71,
   "metadata": {
    "execution": {
     "iopub.execute_input": "2024-01-05T02:31:37.053195Z",
     "iopub.status.busy": "2024-01-05T02:31:37.053195Z",
     "iopub.status.idle": "2024-01-05T02:31:37.081877Z",
     "shell.execute_reply": "2024-01-05T02:31:37.080868Z",
     "shell.execute_reply.started": "2024-01-05T02:31:37.053195Z"
    }
   },
   "outputs": [
    {
     "data": {
      "text/html": [
       "<div>\n",
       "<style scoped>\n",
       "    .dataframe tbody tr th:only-of-type {\n",
       "        vertical-align: middle;\n",
       "    }\n",
       "\n",
       "    .dataframe tbody tr th {\n",
       "        vertical-align: top;\n",
       "    }\n",
       "\n",
       "    .dataframe thead th {\n",
       "        text-align: right;\n",
       "    }\n",
       "</style>\n",
       "<table border=\"1\" class=\"dataframe\">\n",
       "  <thead>\n",
       "    <tr style=\"text-align: right;\">\n",
       "      <th></th>\n",
       "      <th>Income</th>\n",
       "      <th>Limit</th>\n",
       "      <th>Rating</th>\n",
       "      <th>Cards</th>\n",
       "      <th>Age</th>\n",
       "      <th>Education</th>\n",
       "      <th>Gender</th>\n",
       "      <th>Student</th>\n",
       "      <th>Married</th>\n",
       "      <th>Ethnicity</th>\n",
       "      <th>Balance</th>\n",
       "    </tr>\n",
       "  </thead>\n",
       "  <tbody>\n",
       "    <tr>\n",
       "      <th>28</th>\n",
       "      <td>186.63</td>\n",
       "      <td>13414</td>\n",
       "      <td>949</td>\n",
       "      <td>2</td>\n",
       "      <td>41</td>\n",
       "      <td>14</td>\n",
       "      <td>Female</td>\n",
       "      <td>No</td>\n",
       "      <td>Yes</td>\n",
       "      <td>African American</td>\n",
       "      <td>1809</td>\n",
       "    </tr>\n",
       "    <tr>\n",
       "      <th>85</th>\n",
       "      <td>152.30</td>\n",
       "      <td>12066</td>\n",
       "      <td>828</td>\n",
       "      <td>4</td>\n",
       "      <td>41</td>\n",
       "      <td>12</td>\n",
       "      <td>Female</td>\n",
       "      <td>No</td>\n",
       "      <td>Yes</td>\n",
       "      <td>Asian</td>\n",
       "      <td>1779</td>\n",
       "    </tr>\n",
       "    <tr>\n",
       "      <th>139</th>\n",
       "      <td>107.84</td>\n",
       "      <td>10384</td>\n",
       "      <td>728</td>\n",
       "      <td>3</td>\n",
       "      <td>87</td>\n",
       "      <td>7</td>\n",
       "      <td>Male</td>\n",
       "      <td>No</td>\n",
       "      <td>No</td>\n",
       "      <td>African American</td>\n",
       "      <td>1597</td>\n",
       "    </tr>\n",
       "    <tr>\n",
       "      <th>174</th>\n",
       "      <td>121.83</td>\n",
       "      <td>10673</td>\n",
       "      <td>750</td>\n",
       "      <td>3</td>\n",
       "      <td>54</td>\n",
       "      <td>16</td>\n",
       "      <td>Male</td>\n",
       "      <td>No</td>\n",
       "      <td>No</td>\n",
       "      <td>African American</td>\n",
       "      <td>1573</td>\n",
       "    </tr>\n",
       "    <tr>\n",
       "      <th>184</th>\n",
       "      <td>158.89</td>\n",
       "      <td>11589</td>\n",
       "      <td>805</td>\n",
       "      <td>1</td>\n",
       "      <td>62</td>\n",
       "      <td>17</td>\n",
       "      <td>Female</td>\n",
       "      <td>No</td>\n",
       "      <td>Yes</td>\n",
       "      <td>Caucasian</td>\n",
       "      <td>1448</td>\n",
       "    </tr>\n",
       "    <tr>\n",
       "      <th>193</th>\n",
       "      <td>130.21</td>\n",
       "      <td>10088</td>\n",
       "      <td>730</td>\n",
       "      <td>7</td>\n",
       "      <td>39</td>\n",
       "      <td>19</td>\n",
       "      <td>Female</td>\n",
       "      <td>No</td>\n",
       "      <td>Yes</td>\n",
       "      <td>Caucasian</td>\n",
       "      <td>1426</td>\n",
       "    </tr>\n",
       "    <tr>\n",
       "      <th>293</th>\n",
       "      <td>140.67</td>\n",
       "      <td>11200</td>\n",
       "      <td>817</td>\n",
       "      <td>7</td>\n",
       "      <td>46</td>\n",
       "      <td>9</td>\n",
       "      <td>Male</td>\n",
       "      <td>No</td>\n",
       "      <td>Yes</td>\n",
       "      <td>African American</td>\n",
       "      <td>1677</td>\n",
       "    </tr>\n",
       "    <tr>\n",
       "      <th>323</th>\n",
       "      <td>182.73</td>\n",
       "      <td>13913</td>\n",
       "      <td>982</td>\n",
       "      <td>4</td>\n",
       "      <td>98</td>\n",
       "      <td>17</td>\n",
       "      <td>Male</td>\n",
       "      <td>No</td>\n",
       "      <td>Yes</td>\n",
       "      <td>Caucasian</td>\n",
       "      <td>1999</td>\n",
       "    </tr>\n",
       "    <tr>\n",
       "      <th>347</th>\n",
       "      <td>160.23</td>\n",
       "      <td>10748</td>\n",
       "      <td>754</td>\n",
       "      <td>2</td>\n",
       "      <td>69</td>\n",
       "      <td>17</td>\n",
       "      <td>Male</td>\n",
       "      <td>No</td>\n",
       "      <td>No</td>\n",
       "      <td>Caucasian</td>\n",
       "      <td>1192</td>\n",
       "    </tr>\n",
       "    <tr>\n",
       "      <th>355</th>\n",
       "      <td>180.68</td>\n",
       "      <td>11966</td>\n",
       "      <td>832</td>\n",
       "      <td>2</td>\n",
       "      <td>58</td>\n",
       "      <td>8</td>\n",
       "      <td>Female</td>\n",
       "      <td>No</td>\n",
       "      <td>Yes</td>\n",
       "      <td>African American</td>\n",
       "      <td>1405</td>\n",
       "    </tr>\n",
       "    <tr>\n",
       "      <th>390</th>\n",
       "      <td>135.12</td>\n",
       "      <td>10578</td>\n",
       "      <td>747</td>\n",
       "      <td>3</td>\n",
       "      <td>81</td>\n",
       "      <td>15</td>\n",
       "      <td>Female</td>\n",
       "      <td>No</td>\n",
       "      <td>Yes</td>\n",
       "      <td>Asian</td>\n",
       "      <td>1393</td>\n",
       "    </tr>\n",
       "  </tbody>\n",
       "</table>\n",
       "</div>"
      ],
      "text/plain": [
       "     Income  Limit  Rating  Cards  Age  Education  Gender Student Married  \\\n",
       "28   186.63  13414     949      2   41         14  Female      No     Yes   \n",
       "85   152.30  12066     828      4   41         12  Female      No     Yes   \n",
       "139  107.84  10384     728      3   87          7    Male      No      No   \n",
       "174  121.83  10673     750      3   54         16    Male      No      No   \n",
       "184  158.89  11589     805      1   62         17  Female      No     Yes   \n",
       "193  130.21  10088     730      7   39         19  Female      No     Yes   \n",
       "293  140.67  11200     817      7   46          9    Male      No     Yes   \n",
       "323  182.73  13913     982      4   98         17    Male      No     Yes   \n",
       "347  160.23  10748     754      2   69         17    Male      No      No   \n",
       "355  180.68  11966     832      2   58          8  Female      No     Yes   \n",
       "390  135.12  10578     747      3   81         15  Female      No     Yes   \n",
       "\n",
       "            Ethnicity  Balance  \n",
       "28   African American     1809  \n",
       "85              Asian     1779  \n",
       "139  African American     1597  \n",
       "174  African American     1573  \n",
       "184         Caucasian     1448  \n",
       "193         Caucasian     1426  \n",
       "293  African American     1677  \n",
       "323         Caucasian     1999  \n",
       "347         Caucasian     1192  \n",
       "355  African American     1405  \n",
       "390             Asian     1393  "
      ]
     },
     "execution_count": 71,
     "metadata": {},
     "output_type": "execute_result"
    }
   ],
   "source": [
    "cc[cc['Rating'].isin(bp_stats[0]['fliers'])]"
   ]
  },
  {
   "cell_type": "code",
   "execution_count": 59,
   "metadata": {
    "execution": {
     "iopub.execute_input": "2024-01-05T02:21:34.455851Z",
     "iopub.status.busy": "2024-01-05T02:21:34.455851Z",
     "iopub.status.idle": "2024-01-05T02:21:34.586840Z",
     "shell.execute_reply": "2024-01-05T02:21:34.585838Z",
     "shell.execute_reply.started": "2024-01-05T02:21:34.455851Z"
    }
   },
   "outputs": [
    {
     "data": {
      "image/png": "[encoded data removed]",
      "text/plain": [
       "<Figure size 640x480 with 1 Axes>"
      ]
     },
     "metadata": {},
     "output_type": "display_data"
    }
   ],
   "source": [
    "import matplotlib.pyplot as plt \n",
    "from scipy.stats import norm \n",
    "import statistics \n",
    "  \n",
    "# Plot between -10 and 10 with .001 steps. \n",
    "x_axis = cc['Rating'].sort_values()\n",
    "  \n",
    "# Calculating mean and standard deviation \n",
    "mean = statistics.mean(x_axis) \n",
    "sd = statistics.stdev(x_axis) \n",
    "  \n",
    "plt.plot(x_axis, norm.pdf(x_axis, mean, sd)) \n",
    "plt.show() "
   ]
  },
  {
   "cell_type": "markdown",
   "metadata": {},
   "source": [
    "- Apakah data memiliki outlier?\n",
    "\n",
    "> YA\n",
    "\n",
    "- Central tendency (mean, median, modus) mana yang cocok dipakai untuk data ini?\n",
    "\n",
    "> Median\n",
    "\n",
    "- Bagaimana bentuk distribusi data?\n",
    "\n",
    "> Mengekor panjang di nilai yang tinggi (Right skewed / Positive skewed)"
   ]
  },
  {
   "cell_type": "markdown",
   "metadata": {},
   "source": [
    "## Variable Relationship\n",
    "\n",
    "Karena pada data kita punya banyak kolom atau variabel, kita juga ingin tahu hubungan antar variabel dalam data kita.\n",
    "\n",
    "Ukuran yang digunakan untuk melihat **hubungan linear** antara dua variabel numerik.\n",
    "\n",
    "*Two variables is associated if distribution of one depends on the value of the other. We can look the association with visualization or statistic measure.*\n",
    "\n",
    "### [Scatter Plot](https://www.data-to-viz.com/graph/scatter.html)\n",
    "\n",
    "Sebuah scatterplot menampilkan hubungan antara 2 variabel numerik. Untuk setiap titik data, nilai variabel pertama direpresentasikan pada sumbu X, yang kedua pada sumbu Y."
   ]
  },
  {
   "cell_type": "markdown",
   "metadata": {},
   "source": [
    "Contoh: scatter plot antara data Rating dan Balance nasabah pada data `cc`:"
   ]
  },
  {
   "cell_type": "code",
   "execution_count": 28,
   "metadata": {
    "execution": {
     "iopub.execute_input": "2024-01-05T00:58:00.802951Z",
     "iopub.status.busy": "2024-01-05T00:58:00.801957Z",
     "iopub.status.idle": "2024-01-05T00:58:01.013750Z",
     "shell.execute_reply": "2024-01-05T00:58:01.012754Z",
     "shell.execute_reply.started": "2024-01-05T00:58:00.802951Z"
    }
   },
   "outputs": [
    {
     "data": {
      "text/plain": [
       "<Axes: xlabel='Rating', ylabel='Balance'>"
      ]
     },
     "execution_count": 28,
     "metadata": {},
     "output_type": "execute_result"
    },
    {
     "data": {
      "image/png": "[encoded data removed]",
      "text/plain": [
       "<Figure size 640x480 with 1 Axes>"
      ]
     },
     "metadata": {},
     "output_type": "display_data"
    }
   ],
   "source": [
    "# code here\n",
    "cc[['Rating', 'Balance']].plot(kind='scatter', x='Rating', y='Balance')"
   ]
  },
  {
   "cell_type": "markdown",
   "metadata": {},
   "source": [
    "Tips: Untuk memutuskan variabel mana yang akan ditempatkan pada sumbu x dan mana yang akan ditempatkan pada sumbu y, tampilkan variabel yang ingin Anda jelaskan atau prediksi sepanjang sumbu y.\n",
    "\n",
    "**Bagaimana cara mengetahui bahwa scatter plot memiliki asosiasi?**\n",
    "\n",
    "- tes visual: bandingkan dengan scatter plot lain dengan random data (tanpa pola). jika scatter plot asli terlihat ada pola, berarti ada asosiasi.\n",
    "\n",
    "**Bagaimana kita menentukan asosiasi/hubungannya?**\n",
    "\n",
    "- Arah: trend polanya naik, turun, atau keduanya?\n",
    "- Lengkungan: apakah polanya linier atau melengkung?\n",
    "- Variasi: Apakah titik-titiknya tersusun rapat di sepanjang pola?\n",
    "- Outliers/Pencilan: Apakah Anda menemukan sesuatu yang tidak terduga?"
   ]
  },
  {
   "cell_type": "code",
   "execution_count": 29,
   "metadata": {
    "execution": {
     "iopub.execute_input": "2024-01-05T00:58:08.398812Z",
     "iopub.status.busy": "2024-01-05T00:58:08.398812Z",
     "iopub.status.idle": "2024-01-05T00:58:08.700292Z",
     "shell.execute_reply": "2024-01-05T00:58:08.699296Z",
     "shell.execute_reply.started": "2024-01-05T00:58:08.398812Z"
    }
   },
   "outputs": [
    {
     "data": {
      "image/png": "[encoded data removed]",
      "text/plain": [
       "<Figure size 640x480 with 2 Axes>"
      ]
     },
     "metadata": {},
     "output_type": "display_data"
    }
   ],
   "source": [
    "# dummy random data\n",
    "X = np.random.randn(100)\n",
    "Y = np.random.randn(100)\n",
    "fig, (ax1, ax2) = plt.subplots(1, 2)\n",
    "ax1.scatter(X, Y)\n",
    "ax2.scatter(cc.Rating, cc.Balance);"
   ]
  },
  {
   "cell_type": "markdown",
   "metadata": {},
   "source": [
    "\n",
    "### Covariance\n",
    "\n",
    "Covariance menunjukkan bagaimana variansi 2 data (variable yang berbeda) bergerak bersamaan\n",
    "\n",
    "* Formula Covariance: $$Cov(X, Y) = \\frac{1}{n-1}\\sum\\limits^n_{i=1}(X_i - \\mu_X)(Y_i - \\mu_Y)$$\n",
    "* Fungsi di Python: `cov()`\n",
    "\n",
    "![](assets/covariance-positive-vs-negative.jpg)"
   ]
  },
  {
   "cell_type": "markdown",
   "metadata": {},
   "source": [
    "- Nilai covariance positif mengindikasikan pergerakan nilai yang searah / berbanding lurus.\n",
    "- Nilai covariance negatif mengindikasikan pergerakan nilai yang berbalik arah.\n",
    "\n",
    "**Contoh:**\n",
    "\n",
    "Hitunglah covariance antara `Income` dengan `Rating` pada data `cc` . Bagaimana hubungannya?"
   ]
  },
  {
   "cell_type": "code",
   "execution_count": 30,
   "metadata": {
    "execution": {
     "iopub.execute_input": "2024-01-05T00:58:43.567234Z",
     "iopub.status.busy": "2024-01-05T00:58:43.566235Z",
     "iopub.status.idle": "2024-01-05T00:58:43.622234Z",
     "shell.execute_reply": "2024-01-05T00:58:43.621232Z",
     "shell.execute_reply.started": "2024-01-05T00:58:43.567234Z"
    }
   },
   "outputs": [
    {
     "data": {
      "text/html": [
       "<div>\n",
       "<style scoped>\n",
       "    .dataframe tbody tr th:only-of-type {\n",
       "        vertical-align: middle;\n",
       "    }\n",
       "\n",
       "    .dataframe tbody tr th {\n",
       "        vertical-align: top;\n",
       "    }\n",
       "\n",
       "    .dataframe thead th {\n",
       "        text-align: right;\n",
       "    }\n",
       "</style>\n",
       "<table border=\"1\" class=\"dataframe\">\n",
       "  <thead>\n",
       "    <tr style=\"text-align: right;\">\n",
       "      <th></th>\n",
       "      <th>Income</th>\n",
       "      <th>Rating</th>\n",
       "    </tr>\n",
       "  </thead>\n",
       "  <tbody>\n",
       "    <tr>\n",
       "      <th>Income</th>\n",
       "      <td>1242.16</td>\n",
       "      <td>4315.49</td>\n",
       "    </tr>\n",
       "    <tr>\n",
       "      <th>Rating</th>\n",
       "      <td>4315.49</td>\n",
       "      <td>23939.56</td>\n",
       "    </tr>\n",
       "  </tbody>\n",
       "</table>\n",
       "</div>"
      ],
      "text/plain": [
       "        Income   Rating\n",
       "Income 1242.16  4315.49\n",
       "Rating 4315.49 23939.56"
      ]
     },
     "execution_count": 30,
     "metadata": {},
     "output_type": "execute_result"
    }
   ],
   "source": [
    "# code here\n",
    "cc[['Income', 'Rating']].cov()"
   ]
  },
  {
   "cell_type": "markdown",
   "metadata": {},
   "source": [
    "Interpretasi nilai: Covariance 4000 dan positif\n",
    "\n",
    "> Kelemahan: Seperti variance, covariance tidak memiliki batasan nilai untuk mengukur kekuatan hubungan antar dua variabel (-inf s.d inf), sehingga kita hanya bisa mengetahui apakah hubungannya positif atau negatif. Oleh karena itu, hadir **correlation**."
   ]
  },
  {
   "cell_type": "markdown",
   "metadata": {},
   "source": [
    "### Correlation\n",
    "\n",
    "Correlation memampatkan nilai covariance dari -inf s.d inf menjadi **-1 s.d 1** sehingga bisa diukur kekuatan hubungan antar data (variable).\n",
    "\n",
    "* Formula Correlation: \n",
    "\n",
    "$$Cor(X,Y) = \\frac{Cov(X,Y)}{\\sqrt{Var(X)Var(Y)}}$$\n",
    "* Fungsi di Python: `corr()`\n",
    "\n",
    "- Nilai korelasi mengindikasikan kekuatan hubungan antara dua variable numerik sebagai berikut:\n",
    "![](assets/correlation-coef.jpg)"
   ]
  },
  {
   "cell_type": "markdown",
   "metadata": {},
   "source": [
    "Bila korelasi dua variable numerik mendekati:\n",
    "  - -1 artinya korelasi negatif kuat\n",
    "  - 0 artinya tidak berkorelasi\n",
    "  - 1 artinya korelasi positif kuat\n",
    "\n",
    "**Contoh:**\n",
    "\n",
    "Adakah korelasi antara `Income` dengan `Rating` pada data `cc` . Bagaimana hubungan dan kekuatannya?\n"
   ]
  },
  {
   "cell_type": "code",
   "execution_count": 31,
   "metadata": {
    "execution": {
     "iopub.execute_input": "2024-01-05T01:05:27.019148Z",
     "iopub.status.busy": "2024-01-05T01:05:27.018150Z",
     "iopub.status.idle": "2024-01-05T01:05:27.044142Z",
     "shell.execute_reply": "2024-01-05T01:05:27.042141Z",
     "shell.execute_reply.started": "2024-01-05T01:05:27.019148Z"
    }
   },
   "outputs": [
    {
     "data": {
      "text/html": [
       "<div>\n",
       "<style scoped>\n",
       "    .dataframe tbody tr th:only-of-type {\n",
       "        vertical-align: middle;\n",
       "    }\n",
       "\n",
       "    .dataframe tbody tr th {\n",
       "        vertical-align: top;\n",
       "    }\n",
       "\n",
       "    .dataframe thead th {\n",
       "        text-align: right;\n",
       "    }\n",
       "</style>\n",
       "<table border=\"1\" class=\"dataframe\">\n",
       "  <thead>\n",
       "    <tr style=\"text-align: right;\">\n",
       "      <th></th>\n",
       "      <th>Income</th>\n",
       "      <th>Rating</th>\n",
       "    </tr>\n",
       "  </thead>\n",
       "  <tbody>\n",
       "    <tr>\n",
       "      <th>Income</th>\n",
       "      <td>1.00</td>\n",
       "      <td>0.79</td>\n",
       "    </tr>\n",
       "    <tr>\n",
       "      <th>Rating</th>\n",
       "      <td>0.79</td>\n",
       "      <td>1.00</td>\n",
       "    </tr>\n",
       "  </tbody>\n",
       "</table>\n",
       "</div>"
      ],
      "text/plain": [
       "        Income  Rating\n",
       "Income    1.00    0.79\n",
       "Rating    0.79    1.00"
      ]
     },
     "execution_count": 31,
     "metadata": {},
     "output_type": "execute_result"
    }
   ],
   "source": [
    "# code here\n",
    "cc[['Income', 'Rating']].corr()"
   ]
  },
  {
   "cell_type": "markdown",
   "metadata": {},
   "source": [
    "Jawaban: Korelasi positif dan cukup tinggi"
   ]
  },
  {
   "cell_type": "markdown",
   "metadata": {},
   "source": [
    "Visualisasi korelasi dengan scatter plot:"
   ]
  },
  {
   "cell_type": "code",
   "execution_count": 32,
   "metadata": {
    "execution": {
     "iopub.execute_input": "2024-01-05T01:05:44.021278Z",
     "iopub.status.busy": "2024-01-05T01:05:44.020288Z",
     "iopub.status.idle": "2024-01-05T01:05:44.174809Z",
     "shell.execute_reply": "2024-01-05T01:05:44.174809Z",
     "shell.execute_reply.started": "2024-01-05T01:05:44.021278Z"
    }
   },
   "outputs": [
    {
     "data": {
      "image/png": "[encoded data removed]",
      "text/plain": [
       "<Figure size 640x480 with 1 Axes>"
      ]
     },
     "metadata": {},
     "output_type": "display_data"
    }
   ],
   "source": [
    "cc.plot.scatter(x='Income',\n",
    "                y='Rating');"
   ]
  },
  {
   "cell_type": "markdown",
   "metadata": {},
   "source": [
    "[Optional] Visualisasi korelasi dengan heatmap:"
   ]
  },
  {
   "cell_type": "code",
   "execution_count": 86,
   "metadata": {
    "execution": {
     "iopub.execute_input": "2024-01-05T03:28:59.129789Z",
     "iopub.status.busy": "2024-01-05T03:28:59.129789Z",
     "iopub.status.idle": "2024-01-05T03:28:59.480557Z",
     "shell.execute_reply": "2024-01-05T03:28:59.479549Z",
     "shell.execute_reply.started": "2024-01-05T03:28:59.129789Z"
    }
   },
   "outputs": [
    {
     "data": {
      "image/png": "[encoded data removed]",
      "text/plain": [
       "<Figure size 640x480 with 2 Axes>"
      ]
     },
     "metadata": {},
     "output_type": "display_data"
    }
   ],
   "source": [
    "sns.heatmap(cc.select_dtypes(include='number').corr(), # nilai korelasi\n",
    "            annot=True,   # anotasi angka di dalam kotak heatmap\n",
    "            fmt=\".3f\",    # format 3 angka dibelakang koma \n",
    "            cmap='Blues'); # warna heatmap"
   ]
  },
  {
   "cell_type": "markdown",
   "metadata": {},
   "source": [
    "Ilustrasi correlation:\n",
    "\n",
    "![](assets/correlation.png)"
   ]
  },
  {
   "cell_type": "markdown",
   "metadata": {},
   "source": [
    "### Knowledge Check\n",
    "\n",
    "Dari pernyataan berikut, jawablah benar atau salah. Apabila salah, tuliskan pernyataan yang benar.\n",
    "\n",
    "1. Ketika korelasi variabel A dan B bernilai -1 artinya tidak ada korelasi antara nilai A dan B.\n",
    "\n",
    "    - [ ] Benar\n",
    "    - [x] Salah\n",
    "\n",
    "2. Scatter plot dapat digunakan untuk menggambarkan hubungan antara dua variabel numerik.\n",
    "\n",
    "    - [X] Benar\n",
    "    - [ ] Salah"
   ]
  },
  {
   "cell_type": "markdown",
   "metadata": {},
   "source": [
    "**Quick Summary Descriptive Statistics**\n",
    "\n",
    "- **Central Tendency** = Mean, Median, Mode\n",
    "  + Untuk data numerik: Mean, Median\n",
    "    - Ketika terdapat outlier: Median\n",
    "    - Ketika tidak terdapat outlier: Mean\n",
    "  + Untuk data kategorik : Mode\n",
    "  \n",
    "- **Measure of Spread** = Variance, Standard Deviation\n",
    "  + Variance Sulit diinterpretasi secara sendirinya\n",
    "  + Standard deviation memiliki satuan data asli, sehingga bisa diinterpretasi\n",
    "  + Range dan IQR dapat divisualisasikan dengan Boxplot\n",
    "  \n",
    "- **Variable Relationship**: Covariance, Correlation\n",
    "  + Covariance hanya bisa dilihat nilai positif dan negatifnya. \n",
    "    - Rangenya `-inf` s.d `inf`\n",
    "  + Correlation digunakan untuk mengukur kekuatan hubungan\n",
    "    - Rangenya -1 s.d 1\n",
    "    - semakin mendekati -1 $\\rightarrow$ Korelasi berbanding terbalik\n",
    "    - semakin mendekati 1 $\\rightarrow$ Korelasi berbanding lurus\n",
    "    - semakin mendekati 0 $\\rightarrow$ Tidak ada korelasi\n",
    "\n",
    "---"
   ]
  },
  {
   "cell_type": "markdown",
   "metadata": {},
   "source": [
    "# Inferential Statistics\n",
    "\n",
    "Inferential Statistics membantu kita **menarik kesimpulan tentang keseluruhan data (populasi) dengan menggunakan sebagian informasinya saja (sampel)**\n",
    "\n",
    "![](assets/statistical_cycle.png)\n",
    "\n",
    "Setiap data memiliki distribusi. Distribusi data yang spresial dan berperan dalam inferential statistics adalah **distribusi normal**"
   ]
  },
  {
   "cell_type": "markdown",
   "metadata": {},
   "source": [
    "## Normal Distribution\n",
    "\n",
    "![](assets/normal-distribution.jpg)\n",
    "\n",
    "Karakteristik:\n",
    "\n",
    "- Kurva membentuk lonceng simetris, artinya puncaknya adalah titik pusat (mean = median)\n",
    "- Luas area dibawah kurva = 1 (menyatakan probabilitas)\n",
    "- Persebaran data:\n",
    "  + 68% data berada di rentang +- 1 standar deviasi dari mean\n",
    "  + 95% data berada di rentang +- 2 standar deviasi dari mean\n",
    "  + 99.7% data berada di rentang +- 3 standar deviasi dari mean\n",
    "- **Standar normal baku** adalah distribusi normal dimana mean = 0 dan standar deviasi = 1. \n",
    "\n",
    "Distribusi normal banyak digunakan pada inferensial statistik karena dicetuskannya **Central Limit Theorem**.\n",
    "\n",
    "> Semakin bertambahnya jumlah sampel yang diambil secara acak, maka **distribusi rata-rata sampel** akan mengikuti distribusi normal\n",
    "\n",
    "Karakteristik distribusi normal inilah yang dimanfaatkan untuk penghitungan inferensial statistik:\n",
    "\n",
    "- **Menghitung Probabilitas:**\n",
    "  + Probability Mass Function $\\rightarrow$ diskrit/kategorik\n",
    "  + Probability Density Function $\\rightarrow$ kontinu/numerik\n",
    "- **Membuat Confidence Interval**\n",
    "- **Uji Hipotesis**"
   ]
  },
  {
   "cell_type": "markdown",
   "metadata": {},
   "source": [
    "## Probability Mass Function\n",
    "\n",
    "* Menghitung peluang untuk data diskrit, contoh:\n",
    "  + peluang hujan/tidak hujan\n",
    "  + peluang produk yang terjual\n",
    "  + peluang nasabah good credit/bad credit\n",
    "  \n",
    "* Formula: jumlah kejadian terjadi dibagi dengan jumlah kejadian total\n",
    "\n",
    "**Contoh:**\n",
    "\n",
    "Terdapat 100 nasabah dari sebuah Bank, 90 diantaranya merupakan nasabah dengan status good (good credit), sedangkan sisanya sebanyak 90 adalah status bad (bad credit). Berapakah peluang nasabah bad credit?\n"
   ]
  },
  {
   "cell_type": "code",
   "execution_count": null,
   "metadata": {},
   "outputs": [],
   "source": [
    "# code here\n"
   ]
  },
  {
   "cell_type": "markdown",
   "metadata": {},
   "source": [
    "## Probability Density Function\n",
    "\n",
    "- Menghitung probability data **kontinu**. Data kontinu merupakan data yang memiliki nilai dalam rentang tertentu, dan bisa memiliki angka desimal atau pecahan, contohnya:\n",
    "  + tinggi badan\n",
    "  + rating nasabah\n",
    "  + profit/revenue\n",
    "\n",
    "- Tahapan:\n",
    "  1. Hitung Z-score (ubah nilai data asli ke standar normal baku = Z-score standardization)\n",
    "  2. hitung peluang berdasarkan Z-score dengan menggunakan fungsi `pnorm()`\n",
    "\n",
    "\n",
    "-  Formula Z-score:\n",
    "\n",
    "$$Z = \\frac{x-\\mu}{\\sigma}$$\n",
    "\n",
    "Keterangan:\n",
    "\n",
    "- Z = Z-score\n",
    "- x = titik data\n",
    "- $\\mu$ = mean\n",
    "- $\\sigma$ = standar deviasi\n",
    "\n",
    "> Z-score merupakan sebuah nilai yang merepresentasikan **berapa standard deviasi data tersebut menyimpang dari rata-ratanya**\n",
    "  "
   ]
  },
  {
   "cell_type": "markdown",
   "metadata": {},
   "source": [
    "**Contoh**\n",
    "\n",
    "Tinggi badan pria dewasa di Indonesia berdistribusi normal dengan rata-rata 165 cm dan standar deviasi 10 cm. Berapa peluang pria dewasa di Indonesia memiliki tinggi badan > 180 cm?\n",
    "\n",
    "Diketahui:\n",
    "\n",
    "- mean = 165\n",
    "- stdev = 10\n",
    "- titik data = 180cm "
   ]
  },
  {
   "cell_type": "code",
   "execution_count": 96,
   "metadata": {
    "execution": {
     "iopub.execute_input": "2024-01-05T04:03:04.048469Z",
     "iopub.status.busy": "2024-01-05T04:03:04.047458Z",
     "iopub.status.idle": "2024-01-05T04:03:04.061479Z",
     "shell.execute_reply": "2024-01-05T04:03:04.060473Z",
     "shell.execute_reply.started": "2024-01-05T04:03:04.048469Z"
    }
   },
   "outputs": [],
   "source": [
    "mean = 165\n",
    "std = 10\n",
    "titik_data = 180"
   ]
  },
  {
   "cell_type": "code",
   "execution_count": 97,
   "metadata": {
    "execution": {
     "iopub.execute_input": "2024-01-05T04:03:04.898621Z",
     "iopub.status.busy": "2024-01-05T04:03:04.890980Z",
     "iopub.status.idle": "2024-01-05T04:03:04.915957Z",
     "shell.execute_reply": "2024-01-05T04:03:04.913954Z",
     "shell.execute_reply.started": "2024-01-05T04:03:04.898621Z"
    }
   },
   "outputs": [
    {
     "data": {
      "text/plain": [
       "1.5"
      ]
     },
     "execution_count": 97,
     "metadata": {},
     "output_type": "execute_result"
    }
   ],
   "source": [
    "# code here\n",
    "from scipy.stats import norm\n",
    "\n",
    "# hitung Z-score lalu ubah jadi peluang\n",
    "Z_score = (titik_data - mean) / std\n",
    "Z_score"
   ]
  },
  {
   "cell_type": "markdown",
   "metadata": {},
   "source": [
    "Menghitung peluang dengan [`norm.cdf()`](https://docs.scipy.org/doc/scipy/reference/generated/scipy.stats.norm.html)"
   ]
  },
  {
   "cell_type": "code",
   "execution_count": 100,
   "metadata": {
    "execution": {
     "iopub.execute_input": "2024-01-05T04:05:59.338497Z",
     "iopub.status.busy": "2024-01-05T04:05:59.337502Z",
     "iopub.status.idle": "2024-01-05T04:05:59.349756Z",
     "shell.execute_reply": "2024-01-05T04:05:59.348754Z",
     "shell.execute_reply.started": "2024-01-05T04:05:59.338497Z"
    }
   },
   "outputs": [
    {
     "data": {
      "text/plain": [
       "0.06680720126885809"
      ]
     },
     "execution_count": 100,
     "metadata": {},
     "output_type": "execute_result"
    }
   ],
   "source": [
    "# menghitung peluang\n",
    "peluang = 1 - norm.cdf(Z_score) # Karena yang dicari peluang dibagian kanan data > 180\n",
    "peluang"
   ]
  },
  {
   "cell_type": "code",
   "execution_count": 104,
   "metadata": {
    "execution": {
     "iopub.execute_input": "2024-01-05T04:08:19.022114Z",
     "iopub.status.busy": "2024-01-05T04:08:19.021119Z",
     "iopub.status.idle": "2024-01-05T04:08:19.344917Z",
     "shell.execute_reply": "2024-01-05T04:08:19.343911Z",
     "shell.execute_reply.started": "2024-01-05T04:08:19.022114Z"
    }
   },
   "outputs": [
    {
     "data": {
      "image/png": "[encoded data removed]",
      "text/plain": [
       "<Figure size 640x480 with 1 Axes>"
      ]
     },
     "metadata": {},
     "output_type": "display_data"
    }
   ],
   "source": [
    "# membuat dummy normal distribution\n",
    "x = np.linspace(-3, 3, 1000000)\n",
    "y = norm.pdf(x)\n",
    "\n",
    "# Plotting\n",
    "plt.ylabel('Density')\n",
    "plt.xlabel('Standard Deviations')\n",
    "plt.plot(x, y);\n",
    "plt.axvline(x.mean(), color = \"red\", linestyle = \"--\"); #garis rata-rata"
   ]
  },
  {
   "cell_type": "markdown",
   "metadata": {},
   "source": [
    "*Cumulative distribution function of the given Random Variable* $\\rightarrow$ cdf adalah fungsi yang digunakan untuk menghitung area/luas di bawah kurva dari titik z sampai ujung kiri kurva\n",
    "\n",
    "Ditanya: Berapa peluang pria dewasa di Indonesia memiliki tinggi badan > 180 cm?"
   ]
  },
  {
   "cell_type": "code",
   "execution_count": 101,
   "metadata": {
    "execution": {
     "iopub.execute_input": "2024-01-05T04:06:06.840595Z",
     "iopub.status.busy": "2024-01-05T04:06:06.840595Z",
     "iopub.status.idle": "2024-01-05T04:06:06.848585Z",
     "shell.execute_reply": "2024-01-05T04:06:06.847584Z",
     "shell.execute_reply.started": "2024-01-05T04:06:06.840595Z"
    }
   },
   "outputs": [
    {
     "data": {
      "text/plain": [
       "0.06680720126885809"
      ]
     },
     "execution_count": 101,
     "metadata": {},
     "output_type": "execute_result"
    }
   ],
   "source": [
    "# menghitung peluang area yang ditanya\n",
    "1 - norm.cdf((180-mean)/std)"
   ]
  },
  {
   "cell_type": "markdown",
   "metadata": {},
   "source": [
    "Insight: Peluang pria dewasa di Indonesia memiliki tinggi badan > 180 cm > 94.52%"
   ]
  },
  {
   "cell_type": "markdown",
   "metadata": {},
   "source": [
    "**Dive deeper!**\r\n",
    "\r\n",
    "Rata-rata income wanita dewasa = 10 juta dengan standar deviasi = 3 juta.\r\n",
    "\r\n",
    "Peluang wanita dewasa di indonesia yang rata-rata incomenya < 5 juta?\r\n"
   ]
  },
  {
   "cell_type": "code",
   "execution_count": 109,
   "metadata": {
    "execution": {
     "iopub.execute_input": "2024-01-05T04:18:36.409216Z",
     "iopub.status.busy": "2024-01-05T04:18:36.408216Z",
     "iopub.status.idle": "2024-01-05T04:18:36.420570Z",
     "shell.execute_reply": "2024-01-05T04:18:36.419576Z",
     "shell.execute_reply.started": "2024-01-05T04:18:36.409216Z"
    }
   },
   "outputs": [
    {
     "name": "stdout",
     "output_type": "stream",
     "text": [
      "Peluang wanita dewasa di indonesia yang rata-rata incomenya < 5 juta adalah 0.0477903522728147\n"
     ]
    }
   ],
   "source": [
    "print(\"Peluang wanita dewasa di indonesia yang rata-rata incomenya < 5 juta adalah\" , norm.cdf((5000000 - 10000000) / 3000000))"
   ]
  },
  {
   "cell_type": "markdown",
   "metadata": {},
   "source": [
    "## Confidence Interval\n",
    "\n",
    "Confidence interval (selang kepercayaan) berguna untuk menduga nilai mean populasi dengan sebuah interval. Menebak dengan sebuah interval akan meminimalisir error dibandingkan hanya dengan menebak satu nilai.\n",
    "\n",
    "-  Formula: \n",
    "\n",
    "$$CI = \\bar{x} \\pm Z_{\\frac{\\alpha}{2}}*SE$$\n",
    "\n",
    "- Keterangan: \n",
    "  + $\\bar{x}$ = rata-rata sampel\n",
    "  + $Z_{\\frac{\\alpha}{2}}$ = Z-score ketika alpha/2\n",
    "  + $\\alpha$ = tingkat error yang ditolerasi\n",
    "  + tingkat kepercayaan = 1-$\\alpha$\n",
    "  + SE = standard error\n",
    "  \n",
    "SE mengukur kebaikan sampel dalam mewakilkan populasi. Semakin kecil, maka sampel semakin representatif (baik).\n",
    "\n",
    "$$SE = \\frac{\\sigma}{\\sqrt n}$$\n",
    "\n",
    "- Ket: \n",
    "  + $\\sigma$ = standar deviasi populasi\n",
    "  + $n$ = jumlah sampel"
   ]
  },
  {
   "cell_type": "markdown",
   "metadata": {},
   "source": [
    "* Tahapan:\n",
    "  + hitung mean sampel\n",
    "  + hitung standar deviasi sampel & SE\n",
    "  + tentukan tingkat kepercayaan & $\\alpha$\n",
    "  + tentukan Z alpha/2\n",
    "  + hitung confidence interval"
   ]
  },
  {
   "cell_type": "markdown",
   "metadata": {},
   "source": [
    "**Contoh**\n",
    "\n",
    "Dari data `cc` yang berisikan sampel **400 nasabah** suatu Bank diketahui memiliki rata-rata `Balance` kredit sebesar **520**. Semisal diketahui Bank tersebut memiliki standard deviasi populasi untuk Balance sebesar **465**.\n",
    "\n",
    "Berapakah confidence interval untuk rata-rata Balance seluruh nasabah? Gunakan tingkat kepercayaan 95%!\n",
    "\n",
    "1. Diketahui:\n",
    "\n",
    "- mean sampel = 520  \n",
    "- stdev populasi = 465\n",
    "- jumlah sampel (n) = 400\n",
    "\n",
    "2. Hitung nilai SE\n"
   ]
  },
  {
   "cell_type": "code",
   "execution_count": 51,
   "metadata": {
    "execution": {
     "iopub.execute_input": "2024-01-05T02:04:23.638246Z",
     "iopub.status.busy": "2024-01-05T02:04:23.638246Z",
     "iopub.status.idle": "2024-01-05T02:04:23.658245Z",
     "shell.execute_reply": "2024-01-05T02:04:23.656246Z",
     "shell.execute_reply.started": "2024-01-05T02:04:23.638246Z"
    }
   },
   "outputs": [
    {
     "data": {
      "text/plain": [
       "26.0"
      ]
     },
     "execution_count": 51,
     "metadata": {},
     "output_type": "execute_result"
    }
   ],
   "source": [
    "# code here\n",
    "import math\n",
    "from scipy import stats\n",
    "\n",
    "# std populasi dibagi akar n\n",
    "SE = 520 / (400**0.5)\n",
    "SE"
   ]
  },
  {
   "cell_type": "markdown",
   "metadata": {},
   "source": [
    "2. Tentukan tingkat kepercayaan dan alpha\n",
    "\n",
    "- Tingkat kepercayaan: 95%\n",
    "- alpha (tingkat error): 100% - 95% = 5%, artinya kita mentoleransi error sebesar 5%, bahwa mungkin saja rata-rata Balance nasabah aslinya terletak di luar Confidence Interval"
   ]
  },
  {
   "cell_type": "code",
   "execution_count": 52,
   "metadata": {
    "execution": {
     "iopub.execute_input": "2024-01-05T02:05:48.877183Z",
     "iopub.status.busy": "2024-01-05T02:05:48.876188Z",
     "iopub.status.idle": "2024-01-05T02:05:48.884615Z",
     "shell.execute_reply": "2024-01-05T02:05:48.883606Z",
     "shell.execute_reply.started": "2024-01-05T02:05:48.877183Z"
    }
   },
   "outputs": [
    {
     "name": "stdout",
     "output_type": "stream",
     "text": [
      "alpha:  0.05\n"
     ]
    }
   ],
   "source": [
    "alpha = 0.05\n",
    "\n",
    "print('alpha: ', alpha)"
   ]
  },
  {
   "cell_type": "markdown",
   "metadata": {},
   "source": [
    "3. Hitung Z alpha/2\n",
    "\n",
    "alpha dibagi 2 karena ingin membuat batas bawah dan batas atas (dalam dunia statistika dikenal sebagai two-tailed)"
   ]
  },
  {
   "cell_type": "code",
   "execution_count": 53,
   "metadata": {
    "execution": {
     "iopub.execute_input": "2024-01-05T02:05:56.203962Z",
     "iopub.status.busy": "2024-01-05T02:05:56.203962Z",
     "iopub.status.idle": "2024-01-05T02:05:56.214959Z",
     "shell.execute_reply": "2024-01-05T02:05:56.213958Z",
     "shell.execute_reply.started": "2024-01-05T02:05:56.203962Z"
    }
   },
   "outputs": [],
   "source": [
    "# code here\n",
    "from scipy.stats import norm\n",
    "\n",
    "# luas di bawah kurva - kedua bagian hijau\n",
    "Z = alpha/2"
   ]
  },
  {
   "cell_type": "markdown",
   "metadata": {},
   "source": [
    "**Notes:**\n",
    "\n",
    "- `norm.cdf()` untuk mencari peluang (x) dari sebuah titik/nilai z di distribusi normal baku (q)\n",
    "- `norm.ppf()` untuk mencari titik/nilai z di disribusi normal baku (q) dari sebuah peluang (x)\n",
    "\n",
    "![](assets/two-tailed.png)"
   ]
  },
  {
   "cell_type": "markdown",
   "metadata": {},
   "source": [
    "4. Hitung confidence interval\n",
    "\n",
    "`CI = mean -+ (Z * SE)`"
   ]
  },
  {
   "cell_type": "code",
   "execution_count": 56,
   "metadata": {
    "execution": {
     "iopub.execute_input": "2024-01-05T02:06:17.265577Z",
     "iopub.status.busy": "2024-01-05T02:06:17.264595Z",
     "iopub.status.idle": "2024-01-05T02:06:17.274570Z",
     "shell.execute_reply": "2024-01-05T02:06:17.273055Z",
     "shell.execute_reply.started": "2024-01-05T02:06:17.265577Z"
    }
   },
   "outputs": [
    {
     "name": "stdout",
     "output_type": "stream",
     "text": [
      "164.35 165.65\n"
     ]
    }
   ],
   "source": [
    "lower = mean - (Z*SE)\n",
    "upper = mean + (Z*SE)\n",
    "print(lower, upper)"
   ]
  },
  {
   "cell_type": "markdown",
   "metadata": {},
   "source": [
    "Kesimpulan: Confidence Interval rata-rata 164.35-165.65"
   ]
  },
  {
   "cell_type": "markdown",
   "metadata": {},
   "source": [
    "## Hypothesis Testing\n",
    "\n",
    "Uji hipotesis bertujuan untuk menguji **dugaan**. Uji hipotesis sering disebut juga sebagai **uji signifikansi** yang digunakan untuk menguji apakah suatu treatment memberikan perubahan/pengaruh signifikan terhadap suatu kondisi.\n",
    "\n",
    "Istilah-istilah:\n",
    "\n",
    "- Hipotesis: dugaan sementara yang harus diuji\n",
    "  + $H_0$ / null hypothesis: \n",
    "    * kondisi awal\n",
    "    * memiliki unsur kesamaan (=, >=, <=)\n",
    "  + $H_1$ / alternative hypothesis: \n",
    "    * kontradiktif dengan $H_0$\n",
    "    \n",
    "- $\\alpha$:\n",
    "  + tingkat signifikansi yaitu tingkat error yang masih bisa ditoleransi\n",
    "  + umumnya 0.05\n",
    "- $1-\\alpha$: tingkat kepercayaan\n",
    "\n",
    "- $p-value$:\n",
    "  + hasil perhitungan statistik yang menunjukkan peluang data sampel terjadi dengan kondisi H0.\n",
    "\n",
    "Pengambilan kesimpulan:\n",
    "\n",
    "- Jika $p-value$ < $\\alpha$, maka tolak $H_0$ -> terima h1\n",
    "- Jika $p-value$ > $\\alpha$, maka gagal tolak $H_0$ -> terima h0"
   ]
  },
  {
   "cell_type": "markdown",
   "metadata": {},
   "source": [
    "**Contoh Hipotesis**\n",
    "\n",
    "1. Hipotesis dua arah (!=)\n",
    "\n",
    "- $H_0$ : Rata-rata saldo rekening tidak berbeda secara signifikan antara nasabah yang menggunakan layanan internet banking dan yang tidak menggunakan layanan tersebut. (=)\n",
    "- $H_1$ : Rata-rata saldo rekening **berbeda secara signifikan** antara nasabah yang menggunakan layanan internet banking dan yang tidak menggunakan layanan tersebut. (!=)\n",
    "\n",
    "2. Hipotesis satu arah (<)\n",
    "\n",
    "- $H_0$ : Penambahan teller tidak memberikan perbedaan durasi pembayaran (>=)\n",
    "- $H_1$ : Penambahan teller **menurunkan** durasi pembayaran (<)\n",
    "\n",
    "3. Hipotesis satu arah (>)\n",
    "\n",
    "* $H_0$: Penerapan diskon tidak memberikan perbedaan jumlah pembelian produk (<=)\n",
    "* $H_1$: Penerapan diskon **meningkatkan** jumlah pembelian produk (>)"
   ]
  },
  {
   "cell_type": "markdown",
   "metadata": {},
   "source": [
    "### Z-Test\n",
    "\n",
    "Uji hipotesis yang menggunakan Z-test bila:\n",
    "\n",
    "- standar deviasi populasi diketahui\n",
    "- jumlah sampel banyak (n > 30)"
   ]
  },
  {
   "cell_type": "markdown",
   "metadata": {},
   "source": [
    "**Contoh**\n",
    "\n",
    "BRI merupakan salah satu Bank terbaik di Indonesia. Bila diketahui rata-rata likes dari suatu post di platform mereka sebesar **14000** likes dengan standar deviasi **5000** likes.\n",
    "\n",
    "Demi meningkatkan likes dari tiap post, BRI memutuskan untuk menggunakan influencer sebagai brand ambassador pemasaran produk. Setelah menggunakan influencer, diambil **50** postingan acak yang ternyata memiliki rata-rata likes **17500**.\n",
    "\n",
    "Sebagai tim marketing, lakukan analisis apakah menggunakan jasa influencer secara signifikan meningkatkan customer engagement (dari sisi rata-rata jumlah likes) atau tidak? Gunakan tingkat kepercayaan **95%**.\n"
   ]
  },
  {
   "cell_type": "markdown",
   "metadata": {},
   "source": [
    "Jawaban:\n",
    "\n",
    "**I. Tentukan hipotesis**\n",
    "\n",
    "- $H_0$: Tidak meningkatkan customer engagement\n",
    "- $H_1$: Meningkatkan customer engagement\n"
   ]
  },
  {
   "cell_type": "markdown",
   "metadata": {},
   "source": [
    "**II. Hitung nilai statistik**\n",
    "\n",
    "Diketahui deskriptif statistiknya:\n",
    "\n",
    "- mean populasi   = 14000\n",
    "- stdev populasi  = 5000\n",
    "- n               = 50\n",
    "- mean sampel     = 17500\n",
    "\n",
    "Ditentukan oleh user:\n",
    "\n",
    "- tingkat kepercayaan = 95%\n",
    "- alpha               = 5%\n"
   ]
  },
  {
   "cell_type": "code",
   "execution_count": 89,
   "metadata": {
    "execution": {
     "iopub.execute_input": "2024-01-05T03:54:44.920677Z",
     "iopub.status.busy": "2024-01-05T03:54:44.919677Z",
     "iopub.status.idle": "2024-01-05T03:54:44.939675Z",
     "shell.execute_reply": "2024-01-05T03:54:44.938668Z",
     "shell.execute_reply.started": "2024-01-05T03:54:44.920677Z"
    }
   },
   "outputs": [
    {
     "name": "stdout",
     "output_type": "stream",
     "text": [
      "mean_populasi:  14000\n",
      "std_populasi:  5000\n",
      "n:  50\n",
      "mean_sample:  17500\n"
     ]
    }
   ],
   "source": [
    "# nilai statistic descriptive\n",
    "mean_populasi = 14000\n",
    "std_populasi = 5000\n",
    "n = 50\n",
    "mean_sample = 17500\n",
    "\n",
    "print('mean_populasi: ', mean_populasi)\n",
    "print('std_populasi: ', std_populasi)\n",
    "print('n: ', n)\n",
    "print('mean_sample: ', mean_sample)"
   ]
  },
  {
   "cell_type": "markdown",
   "metadata": {},
   "source": [
    "$$Z = \\frac{\\bar X-\\mu}{SE}$$\n",
    "\n",
    "Z = (rata2 sampel - rata2 populasi) / standar error\n",
    "\n",
    "$$SE = \\frac{\\sigma}{\\sqrt n}$$\n",
    "\n",
    "Standar error = standar deviasi populasi / akar dari banyak sampel"
   ]
  },
  {
   "cell_type": "code",
   "execution_count": 113,
   "metadata": {
    "execution": {
     "iopub.execute_input": "2024-01-05T07:16:11.715836Z",
     "iopub.status.busy": "2024-01-05T07:16:11.715836Z",
     "iopub.status.idle": "2024-01-05T07:16:11.728830Z",
     "shell.execute_reply": "2024-01-05T07:16:11.727829Z",
     "shell.execute_reply.started": "2024-01-05T07:16:11.715836Z"
    }
   },
   "outputs": [
    {
     "name": "stdout",
     "output_type": "stream",
     "text": [
      "707.1067811865476 4.949747468305833\n"
     ]
    }
   ],
   "source": [
    "# menghitung nilai SE\n",
    "SE = std_populasi / (n**0.5)\n",
    "\n",
    "# menghitung nilai z\n",
    "Z = (mean_sample - mean_populasi) / SE\n",
    "print(SE, Z)"
   ]
  },
  {
   "cell_type": "markdown",
   "metadata": {},
   "source": [
    "SE mengukur kebaikan sampel dalam mewakilkan populasi. Semakin kecil, maka sampel semakin representatif (baik).\n",
    "\n",
    "Z-score merupakan sebuah nilai yang merepresentasikan **berapa standard deviasi data tersebut menyimpang dari rata-ratanya**"
   ]
  },
  {
   "cell_type": "code",
   "execution_count": 114,
   "metadata": {
    "execution": {
     "iopub.execute_input": "2024-01-05T07:18:38.603834Z",
     "iopub.status.busy": "2024-01-05T07:18:38.602822Z",
     "iopub.status.idle": "2024-01-05T07:18:38.624823Z",
     "shell.execute_reply": "2024-01-05T07:18:38.622819Z",
     "shell.execute_reply.started": "2024-01-05T07:18:38.603834Z"
    }
   },
   "outputs": [
    {
     "data": {
      "text/plain": [
       "3.7154918619553e-07"
      ]
     },
     "execution_count": 114,
     "metadata": {},
     "output_type": "execute_result"
    }
   ],
   "source": [
    "# luas keseluruhan daerah di bawah kurva - luas Z\n",
    "p_value = 1 - norm.cdf(Z)\n",
    "p_value"
   ]
  },
  {
   "cell_type": "code",
   "execution_count": 115,
   "metadata": {
    "execution": {
     "iopub.execute_input": "2024-01-05T07:18:41.320813Z",
     "iopub.status.busy": "2024-01-05T07:18:41.320813Z",
     "iopub.status.idle": "2024-01-05T07:18:41.326815Z",
     "shell.execute_reply": "2024-01-05T07:18:41.325813Z",
     "shell.execute_reply.started": "2024-01-05T07:18:41.320813Z"
    }
   },
   "outputs": [
    {
     "name": "stdout",
     "output_type": "stream",
     "text": [
      "The result is: 0.0000003715\n"
     ]
    }
   ],
   "source": [
    "#formatting the result\n",
    "result=f'{p_value:.10f}'\n",
    "print(\"The result is:\",result)"
   ]
  },
  {
   "cell_type": "markdown",
   "metadata": {},
   "source": [
    "Daerah/area yang kita ingin cari dilihat dari tanda ketidaksamaan di hipotesis alternatif yaitu:\n",
    "\n",
    "* $H_1$: Penggunaan influencer meningkatkan customer engagement (>)\n",
    "\n",
    "![](assets/p-value.PNG)"
   ]
  },
  {
   "cell_type": "markdown",
   "metadata": {},
   "source": [
    "**c. Bandingkan P-value dengan alpha**\n",
    "\n",
    "Pengambilan kesimpulan:\n",
    "\n",
    "* Jika $p-value$ < $\\alpha$, maka tolak $H_0$ \n",
    "* Jika $p-value$ > $\\alpha$, maka gagal tolak $H_0$\n",
    "\n",
    "p-value = 0.0000003715 < alpha = 0.05 maka tolak $H_0$ dan terima $H_1$ terjadi peningkatan signifikan"
   ]
  },
  {
   "cell_type": "markdown",
   "metadata": {},
   "source": [
    "**IV. Kesimpulan**\n",
    "\n",
    "> Tolak null Hypthesis, terjadi peningkatan signifikan\n"
   ]
  },
  {
   "cell_type": "markdown",
   "metadata": {},
   "source": [
    "**[Additional]: Menggunakan fungsi [`ztest()`](https://www.statsmodels.org/devel/generated/statsmodels.stats.weightstats.ztest.html)**\n",
    "\n",
    "Gunakan fungsi `ztest()` untuk menghitung z-statistics dan p-value jika data disimpan dalam bentuk Dataframe.\n",
    "\n",
    "```python\n",
    "zstats, pval = ztest(x1=...,\n",
    "                     value = ...,\n",
    "                     alternative = ...)\n",
    "```\n",
    "parameter :\n",
    "- `x1` : number of observations\n",
    "- `value` : rata-rata dari x1 di $H_0$\n",
    "- `alternative` :\n",
    "   - jika $H_1$ tidak sama (!=) dengan nilai tertentu, isi dengan `two-sided`\n",
    "   - jika $H_{1}$ lebih besar (>) dari suatu nilai, gunakan `larger`\n",
    "   - jika $H_{1}$ lebih kecil (<) dari suatu nilai, gunakan `smaller`"
   ]
  },
  {
   "cell_type": "markdown",
   "metadata": {},
   "source": [
    "Contoh aplikasi:\n",
    "\n",
    "```python\n",
    "from statsmodels.stats.weightstats import ztest \n",
    "\n",
    "mean_data = nama_dataframe['nama spesifik kolom'].mean()\n",
    "z_test = ztest(x1=nama_dataframe['nama spesifik kolom'], # data kita\n",
    "               value=mean_data,  #rata-rata \n",
    "               alternative='larger')\n",
    "\n",
    "p_value = z_test[1] # ambil nilai p_value dari z_test\n",
    "\n",
    "```"
   ]
  },
  {
   "cell_type": "code",
   "execution_count": 120,
   "metadata": {
    "execution": {
     "iopub.execute_input": "2024-01-05T07:29:20.619478Z",
     "iopub.status.busy": "2024-01-05T07:29:20.618483Z",
     "iopub.status.idle": "2024-01-05T07:29:20.635477Z",
     "shell.execute_reply": "2024-01-05T07:29:20.634474Z",
     "shell.execute_reply.started": "2024-01-05T07:29:20.619478Z"
    }
   },
   "outputs": [
    {
     "data": {
      "text/plain": [
       "0.5"
      ]
     },
     "execution_count": 120,
     "metadata": {},
     "output_type": "execute_result"
    }
   ],
   "source": [
    "from statsmodels.stats.weightstats import ztest \n",
    "\n",
    "mean_data = cc['Rating'].mean()\n",
    "z_test = ztest(x1=cc['Rating'], # data kita\n",
    "               value=mean_data,  #rata-rata \n",
    "               alternative='larger') #Pemmilihan alternative hypothesisnya\n",
    "\n",
    "p_value = z_test[1] # ambil nilai p_value dari z_test\n",
    "p_value"
   ]
  },
  {
   "cell_type": "markdown",
   "metadata": {},
   "source": [
    "### T-test\n",
    "\n",
    "Uji hipotesis menggunakan T-test jika:\n",
    "\n",
    "* standar deviasi populasi tidak diketahui atau\n",
    "* jumlah sampel sedikit (n <= 30)\n",
    "\n",
    "Bentuk t-distribution mirip dengan normal distribution, hanya saja lebih landai ketika jumlah sampel sedikit:"
   ]
  },
  {
   "cell_type": "markdown",
   "metadata": {},
   "source": [
    "![](assets/t-distribution.jpg)"
   ]
  },
  {
   "cell_type": "markdown",
   "metadata": {},
   "source": [
    "**Contoh Kasus**\n",
    "\n",
    "Mari kita asumsikan Bank BRI memiliki dua kelompok nasabah bank, yaitu kelompok yang memiliki behavior scoring tinggi dan kelompok yang memiliki behavior scoring rendah. \n",
    "\n",
    "Diketahui data saldo rekening antara kedua kelompok sebagai berikut:"
   ]
  },
  {
   "cell_type": "code",
   "execution_count": 122,
   "metadata": {
    "execution": {
     "iopub.execute_input": "2024-01-05T07:29:29.044337Z",
     "iopub.status.busy": "2024-01-05T07:29:29.044337Z",
     "iopub.status.idle": "2024-01-05T07:29:29.061217Z",
     "shell.execute_reply": "2024-01-05T07:29:29.060222Z",
     "shell.execute_reply.started": "2024-01-05T07:29:29.044337Z"
    }
   },
   "outputs": [],
   "source": [
    "behavior_score_high = pd.Series([30.4, 52.7, 70.6, 55.7, 56.3, 34.2, 59.6, 42.3, 21.1, 50.5, 12.2, 58.6, 12.0, 56.1, 49.4, 60.9, 60.0, 35.3, 15.0, 50.3])\n",
    "\n",
    "behavior_score_low = pd.Series([6.5, 13.3, 6.8, 9.2, 10.0, 1.5, 21.7, 16.2, 5.9, 25.0, 18.4, 12.6, 22.2, 22.0, 21.6, 20.5, 19.4, 14.5, 12.6, 12.0])"
   ]
  },
  {
   "cell_type": "markdown",
   "metadata": {},
   "source": [
    "Tujuan kita adalah menguji **apakah terdapat perbedaan signifikan dalam rata-rata saldo rekening antara kedua kelompok tersebut?**\n",
    "\n",
    "Jawab:\n",
    "\n",
    "**I. Tentukan hipotesis**\n",
    "\n",
    "- $H_0$: Rata-rata saldo rekening antara kelompok dengan behavior scoring tinggi dan kelompok dengan behavior scoring rendah tidak berbeda secara signifikan. \n",
    "- $H_1$: Terdapat perbedaan signifikan dalam rata-rata saldo rekening antara kedua kelompok."
   ]
  },
  {
   "cell_type": "markdown",
   "metadata": {},
   "source": [
    "**II. Hitung P-value dengan [`ttest_ind()`](https://docs.scipy.org/doc/scipy/reference/generated/scipy.stats.ttest_ind.html)**\n",
    "\n",
    "Gunakan fungsi `ttest_ind()` untuk menghitung t-statistics dan p-value dua independent sample\n",
    "\n",
    "```python\n",
    "t_stats, pval = ttest_ind(a= ...,\n",
    "                          b= ...,\n",
    "                          alternative = ...)\n",
    "```\n",
    "\n",
    "parameter:\n",
    "\n",
    "- `a` : data atau observasi sampel berbentuk Series atau array\n",
    "- `b` : data atau observasi sampel berbentuk Series atau array\n",
    "- `alternative` : tergantung hypothesis alternative ($H_1$)\n",
    "    - jika $H_1$ tidak sama  (!=) dengan nilai tertentu, isi dengan `two-sided`\n",
    "    - jika $H_1$ kurang dari (<) dengan nilai tertentu, isi dengan `less`\n",
    "    - Jika $H_1$ lebih besar (>) dengan nilai tertentu, isi dengan `greater` "
   ]
  },
  {
   "cell_type": "code",
   "execution_count": 126,
   "metadata": {
    "execution": {
     "iopub.execute_input": "2024-01-05T07:31:30.477850Z",
     "iopub.status.busy": "2024-01-05T07:31:30.477330Z",
     "iopub.status.idle": "2024-01-05T07:31:30.489859Z",
     "shell.execute_reply": "2024-01-05T07:31:30.488857Z",
     "shell.execute_reply.started": "2024-01-05T07:31:30.477850Z"
    }
   },
   "outputs": [
    {
     "data": {
      "text/plain": [
       "3.087655217734725e-08"
      ]
     },
     "execution_count": 126,
     "metadata": {},
     "output_type": "execute_result"
    }
   ],
   "source": [
    "# code here\n",
    "from scipy import stats\n",
    "\n",
    "t_test = stats.ttest_ind(behavior_score_high, behavior_score_low, alternative= 'two-sided')\n",
    "p_value = t_test[1]\n",
    "p_value"
   ]
  },
  {
   "cell_type": "code",
   "execution_count": 127,
   "metadata": {
    "execution": {
     "iopub.execute_input": "2024-01-05T07:31:33.997846Z",
     "iopub.status.busy": "2024-01-05T07:31:33.996838Z",
     "iopub.status.idle": "2024-01-05T07:31:34.022828Z",
     "shell.execute_reply": "2024-01-05T07:31:34.021828Z",
     "shell.execute_reply.started": "2024-01-05T07:31:33.997846Z"
    }
   },
   "outputs": [
    {
     "name": "stdout",
     "output_type": "stream",
     "text": [
      "The result is= 0.0000000309\n"
     ]
    }
   ],
   "source": [
    "#formatting the result\n",
    "result=f'{p_value:.10f}'\n",
    "print(\"The result is=\",result)"
   ]
  },
  {
   "cell_type": "markdown",
   "metadata": {},
   "source": [
    "**III. Bandingkan P-value dengan alpha**\n",
    "\n",
    "Dalam membuat keputusan uji statistik, kita dapat membandingan p-value dengan alpha:\n",
    "\n",
    "- selang kepercayaan = 95%\n",
    "- alpha = 5% -> 0.05\n",
    "\n",
    "p-value = 0.0000000309 < alpha = 0.05, maka $H_0$ ditolak\n"
   ]
  },
  {
   "cell_type": "markdown",
   "metadata": {},
   "source": [
    "**IV. Kesimpulan**\n",
    "\n",
    "Dengan menggunakan tingkat kepercayaan 95% dapat disimpulkan penentuan $H_0$ ditolak"
   ]
  },
  {
   "cell_type": "markdown",
   "metadata": {},
   "source": [
    "**Summary penggunaan hipotesis testing:**\n",
    "\n",
    "![](assets/uji_hipotesis_mean.png)"
   ]
  },
  {
   "cell_type": "markdown",
   "metadata": {},
   "source": [
    "# Further Readings\n",
    "\n",
    "- Descriptive Statistics: https://courses.lumenlearning.com/suny-natural-resources-biometrics/chapter/chapter-1-descriptive-statistics-and-the-normal-distribution/\n",
    "\n",
    "- Dealing with small data set: https://measuringu.com/small-n/\n",
    "\n",
    "- t-Distribution and some case examples: https://stattrek.com/probability-distributions/t-distribution.aspx"
   ]
  }
 ],
 "metadata": {
  "kernelspec": {
   "display_name": "Python 3 (ipykernel)",
   "language": "python",
   "name": "python3"
  },
  "language_info": {
   "codemirror_mode": {
    "name": "ipython",
    "version": 3
   },
   "file_extension": ".py",
   "mimetype": "text/x-python",
   "name": "python",
   "nbconvert_exporter": "python",
   "pygments_lexer": "ipython3",
   "version": "3.8.18"
  },
  "toc": {
   "base_numbering": 1,
   "nav_menu": {},
   "number_sections": false,
   "sideBar": true,
   "skip_h1_title": false,
   "title_cell": "Table of Contents",
   "title_sidebar": "Contents",
   "toc_cell": false,
   "toc_position": {},
   "toc_section_display": true,
   "toc_window_display": false
  }
 },
 "nbformat": 4,
 "nbformat_minor": 4
}
