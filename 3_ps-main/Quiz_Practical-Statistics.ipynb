{
 "cells": [
  {
   "cell_type": "code",
   "execution_count": 1,
   "metadata": {
    "execution": {
     "iopub.execute_input": "2024-01-05T08:43:16.977941Z",
     "iopub.status.busy": "2024-01-05T08:43:16.976943Z",
     "iopub.status.idle": "2024-01-05T08:43:19.066886Z",
     "shell.execute_reply": "2024-01-05T08:43:19.066886Z",
     "shell.execute_reply.started": "2024-01-05T08:43:16.977941Z"
    }
   },
   "outputs": [],
   "source": [
    "# libraries\n",
    "import pandas as pd\n",
    "import numpy as np\n",
    "import matplotlib.pyplot as plt\n",
    "import math\n",
    "from scipy import stats\n",
    "\n",
    "# display setup\n",
    "pd.set_option('display.float_format', lambda x: '%.3f' % x)\n",
    "\n",
    "import warnings\n",
    "warnings.filterwarnings('ignore')"
   ]
  },
  {
   "cell_type": "markdown",
   "metadata": {},
   "source": [
    "1. Dalam statistika deskriptif, jenis pengukuran yang umum digunakan untuk menjelaskan distribusi/sebaran dari data adalah...\n",
    "    - [ ] Probability\n",
    "    - [ ] Mean\n",
    "    - [ ] Standard Deviation\n",
    "    - [ ] Correlation"
   ]
  },
  {
   "cell_type": "markdown",
   "metadata": {},
   "source": [
    "----"
   ]
  },
  {
   "cell_type": "markdown",
   "metadata": {},
   "source": [
    "Gunakan data `retail.csv`, sebuah data historis transaksi dari sebuah retail untuk menjawab pertanyaan nomor 2 - 4!"
   ]
  },
  {
   "cell_type": "code",
   "execution_count": 2,
   "metadata": {
    "execution": {
     "iopub.execute_input": "2024-01-05T08:43:53.577182Z",
     "iopub.status.busy": "2024-01-05T08:43:53.577182Z",
     "iopub.status.idle": "2024-01-05T08:43:53.645194Z",
     "shell.execute_reply": "2024-01-05T08:43:53.643182Z",
     "shell.execute_reply.started": "2024-01-05T08:43:53.577182Z"
    }
   },
   "outputs": [
    {
     "data": {
      "text/html": [
       "<div>\n",
       "<style scoped>\n",
       "    .dataframe tbody tr th:only-of-type {\n",
       "        vertical-align: middle;\n",
       "    }\n",
       "\n",
       "    .dataframe tbody tr th {\n",
       "        vertical-align: top;\n",
       "    }\n",
       "\n",
       "    .dataframe thead th {\n",
       "        text-align: right;\n",
       "    }\n",
       "</style>\n",
       "<table border=\"1\" class=\"dataframe\">\n",
       "  <thead>\n",
       "    <tr style=\"text-align: right;\">\n",
       "      <th></th>\n",
       "      <th>Order ID</th>\n",
       "      <th>Order Date</th>\n",
       "      <th>Ship Date</th>\n",
       "      <th>Ship Mode</th>\n",
       "      <th>Customer ID</th>\n",
       "      <th>Segment</th>\n",
       "      <th>Product ID</th>\n",
       "      <th>Category</th>\n",
       "      <th>Sub-Category</th>\n",
       "      <th>Product Name</th>\n",
       "      <th>Sales</th>\n",
       "      <th>Quantity</th>\n",
       "      <th>Discount</th>\n",
       "      <th>Profit</th>\n",
       "    </tr>\n",
       "    <tr>\n",
       "      <th>Row ID</th>\n",
       "      <th></th>\n",
       "      <th></th>\n",
       "      <th></th>\n",
       "      <th></th>\n",
       "      <th></th>\n",
       "      <th></th>\n",
       "      <th></th>\n",
       "      <th></th>\n",
       "      <th></th>\n",
       "      <th></th>\n",
       "      <th></th>\n",
       "      <th></th>\n",
       "      <th></th>\n",
       "      <th></th>\n",
       "    </tr>\n",
       "  </thead>\n",
       "  <tbody>\n",
       "    <tr>\n",
       "      <th>1</th>\n",
       "      <td>CA-2016-152156</td>\n",
       "      <td>11/8/16</td>\n",
       "      <td>11/11/16</td>\n",
       "      <td>Second Class</td>\n",
       "      <td>CG-12520</td>\n",
       "      <td>Consumer</td>\n",
       "      <td>FUR-BO-10001798</td>\n",
       "      <td>Furniture</td>\n",
       "      <td>Bookcases</td>\n",
       "      <td>Bush Somerset Collection Bookcase</td>\n",
       "      <td>261.960</td>\n",
       "      <td>2</td>\n",
       "      <td>0.000</td>\n",
       "      <td>41.914</td>\n",
       "    </tr>\n",
       "    <tr>\n",
       "      <th>2</th>\n",
       "      <td>CA-2016-152156</td>\n",
       "      <td>11/8/16</td>\n",
       "      <td>11/11/16</td>\n",
       "      <td>Second Class</td>\n",
       "      <td>CG-12520</td>\n",
       "      <td>Consumer</td>\n",
       "      <td>FUR-CH-10000454</td>\n",
       "      <td>Furniture</td>\n",
       "      <td>Chairs</td>\n",
       "      <td>Hon Deluxe Fabric Upholstered Stacking Chairs,...</td>\n",
       "      <td>731.940</td>\n",
       "      <td>3</td>\n",
       "      <td>0.000</td>\n",
       "      <td>219.582</td>\n",
       "    </tr>\n",
       "  </tbody>\n",
       "</table>\n",
       "</div>"
      ],
      "text/plain": [
       "              Order ID Order Date Ship Date     Ship Mode Customer ID  \\\n",
       "Row ID                                                                  \n",
       "1       CA-2016-152156    11/8/16  11/11/16  Second Class    CG-12520   \n",
       "2       CA-2016-152156    11/8/16  11/11/16  Second Class    CG-12520   \n",
       "\n",
       "         Segment       Product ID   Category Sub-Category  \\\n",
       "Row ID                                                      \n",
       "1       Consumer  FUR-BO-10001798  Furniture    Bookcases   \n",
       "2       Consumer  FUR-CH-10000454  Furniture       Chairs   \n",
       "\n",
       "                                             Product Name   Sales  Quantity  \\\n",
       "Row ID                                                                        \n",
       "1                       Bush Somerset Collection Bookcase 261.960         2   \n",
       "2       Hon Deluxe Fabric Upholstered Stacking Chairs,... 731.940         3   \n",
       "\n",
       "        Discount  Profit  \n",
       "Row ID                    \n",
       "1          0.000  41.914  \n",
       "2          0.000 219.582  "
      ]
     },
     "execution_count": 2,
     "metadata": {},
     "output_type": "execute_result"
    }
   ],
   "source": [
    "retail = pd.read_csv(\"data/retail.csv\",\n",
    "                     encoding=\"latin\",\n",
    "                     index_col=0)\n",
    "retail.head(2)"
   ]
  },
  {
   "cell_type": "code",
   "execution_count": 4,
   "metadata": {
    "execution": {
     "iopub.execute_input": "2024-01-05T08:44:36.886291Z",
     "iopub.status.busy": "2024-01-05T08:44:36.885285Z",
     "iopub.status.idle": "2024-01-05T08:44:36.905020Z",
     "shell.execute_reply": "2024-01-05T08:44:36.904019Z",
     "shell.execute_reply.started": "2024-01-05T08:44:36.886291Z"
    }
   },
   "outputs": [
    {
     "data": {
      "text/html": [
       "<div>\n",
       "<style scoped>\n",
       "    .dataframe tbody tr th:only-of-type {\n",
       "        vertical-align: middle;\n",
       "    }\n",
       "\n",
       "    .dataframe tbody tr th {\n",
       "        vertical-align: top;\n",
       "    }\n",
       "\n",
       "    .dataframe thead th {\n",
       "        text-align: right;\n",
       "    }\n",
       "</style>\n",
       "<table border=\"1\" class=\"dataframe\">\n",
       "  <thead>\n",
       "    <tr style=\"text-align: right;\">\n",
       "      <th></th>\n",
       "      <th>Quantity</th>\n",
       "      <th>Discount</th>\n",
       "    </tr>\n",
       "  </thead>\n",
       "  <tbody>\n",
       "    <tr>\n",
       "      <th>Quantity</th>\n",
       "      <td>1.000</td>\n",
       "      <td>0.009</td>\n",
       "    </tr>\n",
       "    <tr>\n",
       "      <th>Discount</th>\n",
       "      <td>0.009</td>\n",
       "      <td>1.000</td>\n",
       "    </tr>\n",
       "  </tbody>\n",
       "</table>\n",
       "</div>"
      ],
      "text/plain": [
       "          Quantity  Discount\n",
       "Quantity     1.000     0.009\n",
       "Discount     0.009     1.000"
      ]
     },
     "execution_count": 4,
     "metadata": {},
     "output_type": "execute_result"
    }
   ],
   "source": [
    "retail[['Quantity', 'Discount']].corr()"
   ]
  },
  {
   "cell_type": "markdown",
   "metadata": {},
   "source": [
    "2.  Berdasarkan data tersebut, bagaimana hubungan antara variabel jumlah barang (`Quantity`) dan diskon (`Discount`) ?\n",
    "    - [ ] Korelasi = 1; Ketika diskon bertambah, jumlah barang yang terjual juga bertambah.\n",
    "    - [ ] Korelasi = -1; Ketika diskon bertambah, jumlah barang yang terjual berkurang.\n",
    "    - [ ] Korelasi mendekati 0; Ketika diskon bertambah, jumlah barang yang terjual tidak mengalami perubahan.\n",
    "    - [ ] Korelasi mendekati 0; Ketika diskon berkurang, jumlah barang yang terjual ikut berkurang.\n",
    "    "
   ]
  },
  {
   "cell_type": "code",
   "execution_count": 7,
   "metadata": {
    "execution": {
     "iopub.execute_input": "2024-01-05T08:45:28.904764Z",
     "iopub.status.busy": "2024-01-05T08:45:28.903765Z",
     "iopub.status.idle": "2024-01-05T08:45:29.098508Z",
     "shell.execute_reply": "2024-01-05T08:45:29.097496Z",
     "shell.execute_reply.started": "2024-01-05T08:45:28.904764Z"
    }
   },
   "outputs": [
    {
     "data": {
      "text/plain": [
       "<Axes: >"
      ]
     },
     "execution_count": 7,
     "metadata": {},
     "output_type": "execute_result"
    },
    {
     "data": {
      "image/png": "[encoded data removed]",
      "text/plain": [
       "<Figure size 640x480 with 1 Axes>"
      ]
     },
     "metadata": {},
     "output_type": "display_data"
    }
   ],
   "source": [
    "retail['Quantity'].plot(kind='box')"
   ]
  },
  {
   "cell_type": "markdown",
   "metadata": {},
   "source": [
    "3. Buatlah sebuah boxplot untuk melihat sebaran dari jumlah barang (`Quantity`) yang terjual di setiap transaksi. Berdasarkan boxplot tersebut, pernyataan yang **SALAH** adalah...\n",
    "    - [ ] Dalam 1 transaksi, paling banyak customer membeli sebanyak 9 unit barang yang sama\n",
    "    - [ ] Dalam 1 transaksi, paling banyak customer membeli sebanyak 14 unit barang yang sama\n",
    "    - [ ] Berdasarkan data, customer relatif membeli 3 barang yang sama pada setiap transaksi.\n",
    "    - [ ] Berdasarkan data, customer relatif membeli 2 sampai 5 barang yang sama pada setiap transaksi."
   ]
  },
  {
   "cell_type": "code",
   "execution_count": 9,
   "metadata": {
    "execution": {
     "iopub.execute_input": "2024-01-05T08:47:45.464555Z",
     "iopub.status.busy": "2024-01-05T08:47:45.463557Z",
     "iopub.status.idle": "2024-01-05T08:47:45.498261Z",
     "shell.execute_reply": "2024-01-05T08:47:45.497260Z",
     "shell.execute_reply.started": "2024-01-05T08:47:45.464555Z"
    }
   },
   "outputs": [
    {
     "data": {
      "text/html": [
       "<div>\n",
       "<style scoped>\n",
       "    .dataframe tbody tr th:only-of-type {\n",
       "        vertical-align: middle;\n",
       "    }\n",
       "\n",
       "    .dataframe tbody tr th {\n",
       "        vertical-align: top;\n",
       "    }\n",
       "\n",
       "    .dataframe thead th {\n",
       "        text-align: right;\n",
       "    }\n",
       "</style>\n",
       "<table border=\"1\" class=\"dataframe\">\n",
       "  <thead>\n",
       "    <tr style=\"text-align: right;\">\n",
       "      <th></th>\n",
       "      <th>Sales</th>\n",
       "      <th>Quantity</th>\n",
       "      <th>Discount</th>\n",
       "      <th>Profit</th>\n",
       "    </tr>\n",
       "  </thead>\n",
       "  <tbody>\n",
       "    <tr>\n",
       "      <th>count</th>\n",
       "      <td>9994.000</td>\n",
       "      <td>9994.000</td>\n",
       "      <td>9994.000</td>\n",
       "      <td>9994.000</td>\n",
       "    </tr>\n",
       "    <tr>\n",
       "      <th>mean</th>\n",
       "      <td>229.858</td>\n",
       "      <td>3.790</td>\n",
       "      <td>0.156</td>\n",
       "      <td>28.657</td>\n",
       "    </tr>\n",
       "    <tr>\n",
       "      <th>std</th>\n",
       "      <td>623.245</td>\n",
       "      <td>2.225</td>\n",
       "      <td>0.206</td>\n",
       "      <td>234.260</td>\n",
       "    </tr>\n",
       "    <tr>\n",
       "      <th>min</th>\n",
       "      <td>0.444</td>\n",
       "      <td>1.000</td>\n",
       "      <td>0.000</td>\n",
       "      <td>-6599.978</td>\n",
       "    </tr>\n",
       "    <tr>\n",
       "      <th>25%</th>\n",
       "      <td>17.280</td>\n",
       "      <td>2.000</td>\n",
       "      <td>0.000</td>\n",
       "      <td>1.729</td>\n",
       "    </tr>\n",
       "    <tr>\n",
       "      <th>50%</th>\n",
       "      <td>54.490</td>\n",
       "      <td>3.000</td>\n",
       "      <td>0.200</td>\n",
       "      <td>8.666</td>\n",
       "    </tr>\n",
       "    <tr>\n",
       "      <th>75%</th>\n",
       "      <td>209.940</td>\n",
       "      <td>5.000</td>\n",
       "      <td>0.200</td>\n",
       "      <td>29.364</td>\n",
       "    </tr>\n",
       "    <tr>\n",
       "      <th>max</th>\n",
       "      <td>22638.480</td>\n",
       "      <td>14.000</td>\n",
       "      <td>0.800</td>\n",
       "      <td>8399.976</td>\n",
       "    </tr>\n",
       "  </tbody>\n",
       "</table>\n",
       "</div>"
      ],
      "text/plain": [
       "          Sales  Quantity  Discount    Profit\n",
       "count  9994.000  9994.000  9994.000  9994.000\n",
       "mean    229.858     3.790     0.156    28.657\n",
       "std     623.245     2.225     0.206   234.260\n",
       "min       0.444     1.000     0.000 -6599.978\n",
       "25%      17.280     2.000     0.000     1.729\n",
       "50%      54.490     3.000     0.200     8.666\n",
       "75%     209.940     5.000     0.200    29.364\n",
       "max   22638.480    14.000     0.800  8399.976"
      ]
     },
     "execution_count": 9,
     "metadata": {},
     "output_type": "execute_result"
    }
   ],
   "source": [
    "retail.select_dtypes(exclude='object').describe()"
   ]
  },
  {
   "cell_type": "markdown",
   "metadata": {},
   "source": [
    "4. Buatlah ringkasan statistik untuk melihat statistik deskriptif pada kolom numerik. Berdasarkan ringkasan statistiknya, pernyataan yang **SALAH** adalah...\n",
    "    - [ ] Ada transaksi yang membuat perusahaan merugi sebesar -6599.978\n",
    "    - [ ] Diskon terbesar yang pernah diberikan adalah sebesar 80%\n",
    "    - [ ] Sangat umum jika ada transaksi penjualan diatas 508.68 (data outlier)\n",
    "    - [ ] Rata-rata customer membeli 3 unit barang yang sama pada setiap transaksi"
   ]
  },
  {
   "cell_type": "code",
   "execution_count": 11,
   "metadata": {
    "execution": {
     "iopub.execute_input": "2024-01-05T08:51:04.408814Z",
     "iopub.status.busy": "2024-01-05T08:51:04.408814Z",
     "iopub.status.idle": "2024-01-05T08:51:04.426800Z",
     "shell.execute_reply": "2024-01-05T08:51:04.425800Z",
     "shell.execute_reply.started": "2024-01-05T08:51:04.408814Z"
    }
   },
   "outputs": [
    {
     "data": {
      "text/plain": [
       "0.407137868354138"
      ]
     },
     "execution_count": 11,
     "metadata": {},
     "output_type": "execute_result"
    }
   ],
   "source": [
    "# code here\n",
    "from scipy.stats import norm\n",
    "\n",
    "1 - norm.cdf((53777-47858.35)/25195)"
   ]
  },
  {
   "cell_type": "markdown",
   "metadata": {},
   "source": [
    "5. Perusahaan retail tersebut ingin memberikan promosi untuk meningkatkan jumlah penjualan. Berdasarkan seluruh data historis, Anda mendapatkan nilai Sales dari perusahaan tersebut berdistribusi normal dengan rata-rata sebesar 47,858.35 dan standar deviasi sebesar 25,195. Satu bulan setelah promosi berjalan, Anda mendapatkan nilai Sales sebesar 53,777. Apakah promosi tersebut meningkatkan Sales dari perusahaan secara signifikan? Lakukan Z-test dengan confidence interval sebesar 95%!\n",
    "    - [ ] Gagal tolak H0, promosi tersebut **tidak** meningkatkan Sales secara signifikan\n",
    "    - [ ] Gagal tolak H0, promosi tersebut meningkatkan Sales secara signifikan\n",
    "    - [ ] Tolak H0, promosi tersebut **tidak** meningkatkan Sales secara signifikan\n",
    "    - [ ] Tolak H0, promosi tersebut meningkatkan Sales secara signifikan"
   ]
  },
  {
   "cell_type": "code",
   "execution_count": null,
   "metadata": {},
   "outputs": [],
   "source": []
  },
  {
   "cell_type": "markdown",
   "metadata": {},
   "source": [
    "6. Manakah pernyataan mengenai statistika inferensial berikut yang **SALAH**?\n",
    "    - [ ] Tahapan T-test maupun Z-test sama saja, yang membedakan hanya distribusi yang digunakan.\n",
    "    - [ ] Standarisasi nilai sebuah variabel tidak akan mengubah distribusi dari variabel tersebut.\n",
    "    - [ ] T-test digunakan ketika jumlah sample yang dimiliki lebih kecil dari 30 observasi.\n",
    "    - [ ] Nilai Alpha pada pengujian hipotesis mutlak sebesar 0.05."
   ]
  }
 ],
 "metadata": {
  "kernelspec": {
   "display_name": "Python 3 (ipykernel)",
   "language": "python",
   "name": "python3"
  },
  "language_info": {
   "codemirror_mode": {
    "name": "ipython",
    "version": 3
   },
   "file_extension": ".py",
   "mimetype": "text/x-python",
   "name": "python",
   "nbconvert_exporter": "python",
   "pygments_lexer": "ipython3",
   "version": "3.8.18"
  },
  "latex_envs": {
   "LaTeX_envs_menu_present": true,
   "autoclose": false,
   "autocomplete": true,
   "bibliofile": "biblio.bib",
   "cite_by": "apalike",
   "current_citInitial": 1,
   "eqLabelWithNumbers": true,
   "eqNumInitial": 1,
   "hotkeys": {
    "equation": "Ctrl-E",
    "itemize": "Ctrl-I"
   },
   "labels_anchors": false,
   "latex_user_defs": false,
   "report_style_numbering": false,
   "user_envs_cfg": false
  },
  "toc": {
   "base_numbering": 1,
   "nav_menu": {},
   "number_sections": true,
   "sideBar": true,
   "skip_h1_title": false,
   "title_cell": "Table of Contents",
   "title_sidebar": "Contents",
   "toc_cell": false,
   "toc_position": {},
   "toc_section_display": true,
   "toc_window_display": false
  }
 },
 "nbformat": 4,
 "nbformat_minor": 4
}
