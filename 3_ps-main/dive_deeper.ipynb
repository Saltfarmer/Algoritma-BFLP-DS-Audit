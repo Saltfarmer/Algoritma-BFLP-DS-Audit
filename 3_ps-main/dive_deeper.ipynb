{
 "cells": [
  {
   "cell_type": "markdown",
   "metadata": {},
   "source": [
    "## Dive Deeper Practical Statistics"
   ]
  },
  {
   "cell_type": "markdown",
   "metadata": {},
   "source": [
    "Untuk setiap kasus yang ada jawablah beberapa pertanyaan di berikut:\n",
    "\n",
    "> 1. Tentukan jenis uji hipotesa yang akan digunakan\n",
    "> 2. Tentukan hipotesis nol dan hipotesis alternatif\n",
    "> 3. Bandingkan p-value dengan nilai alpha\n",
    "> 4. Tulislah kesimpulan Anda"
   ]
  },
  {
   "cell_type": "code",
   "execution_count": 2,
   "metadata": {
    "execution": {
     "iopub.execute_input": "2024-01-08T00:25:42.314056Z",
     "iopub.status.busy": "2024-01-08T00:25:42.314056Z",
     "iopub.status.idle": "2024-01-08T00:25:42.323055Z",
     "shell.execute_reply": "2024-01-08T00:25:42.322067Z",
     "shell.execute_reply.started": "2024-01-08T00:25:42.314056Z"
    }
   },
   "outputs": [],
   "source": [
    "# import library\n",
    "import pandas as pd\n",
    "import numpy as np\n",
    "from scipy import stats\n",
    "from scipy.stats import norm"
   ]
  },
  {
   "cell_type": "markdown",
   "metadata": {},
   "source": [
    "### Kasus 1\n",
    "\n",
    "Sebuah pabrik susu bubuk melakukan pengecekan terhadap berat produk mereka. Sebelumnya diketahui bahwa rata-rata berat bersih susu adalah **1000 gram** (tertera pada label produk) dan standar deviasi sebesar **30 gram**.\n",
    "\n",
    "Diambil sampel sebanyak **100 kaleng** dari yang beredar di pasaran dan diperoleh rata-rata berat bersih sebesar **995 gram**.\n",
    "\n",
    "Apakah benar bahwa berat bersih susu bubuk sudah sesuai dengan kriteria? Ujilah dengan **tingkat signifikansi 5%**."
   ]
  },
  {
   "cell_type": "code",
   "execution_count": 3,
   "metadata": {
    "execution": {
     "iopub.execute_input": "2024-01-08T00:28:05.039594Z",
     "iopub.status.busy": "2024-01-08T00:28:05.039594Z",
     "iopub.status.idle": "2024-01-08T00:28:05.058591Z",
     "shell.execute_reply": "2024-01-08T00:28:05.056599Z",
     "shell.execute_reply.started": "2024-01-08T00:28:05.039594Z"
    }
   },
   "outputs": [
    {
     "data": {
      "text/plain": [
       "0.0477903522728147"
      ]
     },
     "execution_count": 3,
     "metadata": {},
     "output_type": "execute_result"
    }
   ],
   "source": [
    "# code here\n",
    "mean_p = 1000\n",
    "std = 30\n",
    "n = 100\n",
    "mean_s = 995\n",
    "\n",
    "norm.cdf((mean_s - mean_p) * (n**0.5) / std)"
   ]
  },
  {
   "cell_type": "markdown",
   "metadata": {},
   "source": [
    "Tolak $H_0$"
   ]
  },
  {
   "cell_type": "markdown",
   "metadata": {},
   "source": [
    "### Kasus 2\n",
    "\n",
    "Quicker merupakan startup yang bertugas untuk membantu para startup lain mendapatkan dana hibah dari pemerintah. Umumnya, lama proses penyerahan berkas hingga dana dicairkan adalah **215 hari**. \n",
    "\n",
    "Dikumpulkan data durasi proses pencairan dana dari **10** perusahaan startup yang menggunakan jasa Quicker sebagai berikut: \n",
    "\n",
    "```py\n",
    "durasi_10 = [201, 200, 215, 212, 246, 220, 205, 195, 190, 200]\n",
    "```\n",
    "\n",
    "Apakah Quicker bisa secara signifikan mempercepat durasi pencairan dana hibah Gunakan tingkat kepercayaan 97%."
   ]
  },
  {
   "cell_type": "code",
   "execution_count": 4,
   "metadata": {
    "execution": {
     "iopub.execute_input": "2024-01-08T00:28:47.795425Z",
     "iopub.status.busy": "2024-01-08T00:28:47.794420Z",
     "iopub.status.idle": "2024-01-08T00:28:47.803679Z",
     "shell.execute_reply": "2024-01-08T00:28:47.802678Z",
     "shell.execute_reply.started": "2024-01-08T00:28:47.795425Z"
    }
   },
   "outputs": [],
   "source": [
    "durasi_10 = [201, 200, 215, 212, 246, 220, 205, 195, 190, 200]"
   ]
  },
  {
   "cell_type": "code",
   "execution_count": 21,
   "metadata": {
    "execution": {
     "iopub.execute_input": "2024-01-08T00:41:23.468152Z",
     "iopub.status.busy": "2024-01-08T00:41:23.468152Z",
     "iopub.status.idle": "2024-01-08T00:41:23.501111Z",
     "shell.execute_reply": "2024-01-08T00:41:23.500111Z",
     "shell.execute_reply.started": "2024-01-08T00:41:23.468152Z"
    }
   },
   "outputs": [
    {
     "data": {
      "text/plain": [
       "0.11344157395247455"
      ]
     },
     "execution_count": 21,
     "metadata": {},
     "output_type": "execute_result"
    }
   ],
   "source": [
    "# code here\n",
    "from statsmodels.stats.weightstats import ztest \n",
    "\n",
    "t_test = stats.ttest_1samp(a=durasi_10, # data kita\n",
    "               popmean=215,  #rata-rata \n",
    "               alternative='less') #Pemmilihan alternative hypothesisnya\n",
    "\n",
    "p_value = t_test[1] # ambil nilai p_value dari z_test\n",
    "p_value"
   ]
  },
  {
   "cell_type": "markdown",
   "metadata": {},
   "source": [
    "Gagal tolak $H_0$"
   ]
  },
  {
   "cell_type": "markdown",
   "metadata": {},
   "source": [
    "### Kasus 3"
   ]
  },
  {
   "cell_type": "markdown",
   "metadata": {},
   "source": [
    "Setelah 3 bulan beroperasi, ingin dimanfaatkan data historis untuk keperluan budget planning. Perusahaan berniat untuk memperkirakan kemungkinan keluarnya nilai **Harga Pokok Penjualan (HPP)** `cogs` **tertentu**.\n",
    "\n",
    "Jawablah pertanyaan berikut apabila diasumsikan `cogs` berdistribusi secara normal:\n",
    "\n",
    "1️⃣ Berapa peluang nilai `cogs` kurang dari 100?"
   ]
  },
  {
   "cell_type": "code",
   "execution_count": 7,
   "metadata": {
    "execution": {
     "iopub.execute_input": "2024-01-08T00:32:15.289656Z",
     "iopub.status.busy": "2024-01-08T00:32:15.288651Z",
     "iopub.status.idle": "2024-01-08T00:32:15.355039Z",
     "shell.execute_reply": "2024-01-08T00:32:15.354042Z",
     "shell.execute_reply.started": "2024-01-08T00:32:15.289656Z"
    }
   },
   "outputs": [
    {
     "data": {
      "text/html": [
       "<div>\n",
       "<style scoped>\n",
       "    .dataframe tbody tr th:only-of-type {\n",
       "        vertical-align: middle;\n",
       "    }\n",
       "\n",
       "    .dataframe tbody tr th {\n",
       "        vertical-align: top;\n",
       "    }\n",
       "\n",
       "    .dataframe thead th {\n",
       "        text-align: right;\n",
       "    }\n",
       "</style>\n",
       "<table border=\"1\" class=\"dataframe\">\n",
       "  <thead>\n",
       "    <tr style=\"text-align: right;\">\n",
       "      <th></th>\n",
       "      <th>invoice_id</th>\n",
       "      <th>branch</th>\n",
       "      <th>city</th>\n",
       "      <th>customer_type</th>\n",
       "      <th>gender</th>\n",
       "      <th>product_line</th>\n",
       "      <th>unit_price</th>\n",
       "      <th>quantity</th>\n",
       "      <th>tax_5</th>\n",
       "      <th>total</th>\n",
       "      <th>date</th>\n",
       "      <th>purchase_hour</th>\n",
       "      <th>payment</th>\n",
       "      <th>cogs</th>\n",
       "      <th>gross_marginpct</th>\n",
       "      <th>gross_income</th>\n",
       "      <th>rating</th>\n",
       "    </tr>\n",
       "  </thead>\n",
       "  <tbody>\n",
       "    <tr>\n",
       "      <th>877</th>\n",
       "      <td>608-05-3804</td>\n",
       "      <td>B</td>\n",
       "      <td>Mandalay</td>\n",
       "      <td>Member</td>\n",
       "      <td>Male</td>\n",
       "      <td>Electronic accessories</td>\n",
       "      <td>39.75</td>\n",
       "      <td>1</td>\n",
       "      <td>1.9875</td>\n",
       "      <td>41.7375</td>\n",
       "      <td>2019-02-25</td>\n",
       "      <td>20</td>\n",
       "      <td>Cash</td>\n",
       "      <td>39.75</td>\n",
       "      <td>4.761905</td>\n",
       "      <td>1.9875</td>\n",
       "      <td>6.1</td>\n",
       "    </tr>\n",
       "    <tr>\n",
       "      <th>525</th>\n",
       "      <td>719-89-8991</td>\n",
       "      <td>A</td>\n",
       "      <td>Yangon</td>\n",
       "      <td>Member</td>\n",
       "      <td>Female</td>\n",
       "      <td>Sports and travel</td>\n",
       "      <td>91.41</td>\n",
       "      <td>5</td>\n",
       "      <td>22.8525</td>\n",
       "      <td>479.9025</td>\n",
       "      <td>2019-02-25</td>\n",
       "      <td>16</td>\n",
       "      <td>Ewallet</td>\n",
       "      <td>457.05</td>\n",
       "      <td>4.761905</td>\n",
       "      <td>22.8525</td>\n",
       "      <td>7.1</td>\n",
       "    </tr>\n",
       "    <tr>\n",
       "      <th>17</th>\n",
       "      <td>765-26-6951</td>\n",
       "      <td>A</td>\n",
       "      <td>Yangon</td>\n",
       "      <td>Normal</td>\n",
       "      <td>Male</td>\n",
       "      <td>Sports and travel</td>\n",
       "      <td>72.61</td>\n",
       "      <td>6</td>\n",
       "      <td>21.7830</td>\n",
       "      <td>457.4430</td>\n",
       "      <td>2019-01-01</td>\n",
       "      <td>10</td>\n",
       "      <td>Credit card</td>\n",
       "      <td>435.66</td>\n",
       "      <td>4.761905</td>\n",
       "      <td>21.7830</td>\n",
       "      <td>6.9</td>\n",
       "    </tr>\n",
       "    <tr>\n",
       "      <th>213</th>\n",
       "      <td>656-16-1063</td>\n",
       "      <td>B</td>\n",
       "      <td>Mandalay</td>\n",
       "      <td>Normal</td>\n",
       "      <td>Male</td>\n",
       "      <td>Sports and travel</td>\n",
       "      <td>46.42</td>\n",
       "      <td>3</td>\n",
       "      <td>6.9630</td>\n",
       "      <td>146.2230</td>\n",
       "      <td>2019-01-04</td>\n",
       "      <td>13</td>\n",
       "      <td>Credit card</td>\n",
       "      <td>139.26</td>\n",
       "      <td>4.761905</td>\n",
       "      <td>6.9630</td>\n",
       "      <td>4.4</td>\n",
       "    </tr>\n",
       "    <tr>\n",
       "      <th>327</th>\n",
       "      <td>719-76-3868</td>\n",
       "      <td>C</td>\n",
       "      <td>Naypyitaw</td>\n",
       "      <td>Member</td>\n",
       "      <td>Male</td>\n",
       "      <td>Food and beverages</td>\n",
       "      <td>94.26</td>\n",
       "      <td>4</td>\n",
       "      <td>18.8520</td>\n",
       "      <td>395.8920</td>\n",
       "      <td>2019-03-12</td>\n",
       "      <td>16</td>\n",
       "      <td>Cash</td>\n",
       "      <td>377.04</td>\n",
       "      <td>4.761905</td>\n",
       "      <td>18.8520</td>\n",
       "      <td>8.6</td>\n",
       "    </tr>\n",
       "  </tbody>\n",
       "</table>\n",
       "</div>"
      ],
      "text/plain": [
       "      invoice_id branch       city customer_type  gender  \\\n",
       "877  608-05-3804      B   Mandalay        Member    Male   \n",
       "525  719-89-8991      A     Yangon        Member  Female   \n",
       "17   765-26-6951      A     Yangon        Normal    Male   \n",
       "213  656-16-1063      B   Mandalay        Normal    Male   \n",
       "327  719-76-3868      C  Naypyitaw        Member    Male   \n",
       "\n",
       "               product_line  unit_price  quantity    tax_5     total  \\\n",
       "877  Electronic accessories       39.75         1   1.9875   41.7375   \n",
       "525       Sports and travel       91.41         5  22.8525  479.9025   \n",
       "17        Sports and travel       72.61         6  21.7830  457.4430   \n",
       "213       Sports and travel       46.42         3   6.9630  146.2230   \n",
       "327      Food and beverages       94.26         4  18.8520  395.8920   \n",
       "\n",
       "           date  purchase_hour      payment    cogs  gross_marginpct  \\\n",
       "877  2019-02-25             20         Cash   39.75         4.761905   \n",
       "525  2019-02-25             16      Ewallet  457.05         4.761905   \n",
       "17   2019-01-01             10  Credit card  435.66         4.761905   \n",
       "213  2019-01-04             13  Credit card  139.26         4.761905   \n",
       "327  2019-03-12             16         Cash  377.04         4.761905   \n",
       "\n",
       "     gross_income  rating  \n",
       "877        1.9875     6.1  \n",
       "525       22.8525     7.1  \n",
       "17        21.7830     6.9  \n",
       "213        6.9630     4.4  \n",
       "327       18.8520     8.6  "
      ]
     },
     "execution_count": 7,
     "metadata": {},
     "output_type": "execute_result"
    }
   ],
   "source": [
    "# read dataset supermarket.csv\n",
    "supermarket = pd.read_csv('supermarket.csv')\n",
    "supermarket.sample(5)"
   ]
  },
  {
   "cell_type": "code",
   "execution_count": 10,
   "metadata": {
    "execution": {
     "iopub.execute_input": "2024-01-08T00:35:16.595272Z",
     "iopub.status.busy": "2024-01-08T00:35:16.595272Z",
     "iopub.status.idle": "2024-01-08T00:35:16.610593Z",
     "shell.execute_reply": "2024-01-08T00:35:16.609597Z",
     "shell.execute_reply.started": "2024-01-08T00:35:16.595272Z"
    }
   },
   "outputs": [
    {
     "name": "stdout",
     "output_type": "stream",
     "text": [
      "307.58738\n",
      "234.1765096199732\n",
      "-0.8864568881690028\n",
      "0.18768568789281542\n"
     ]
    }
   ],
   "source": [
    "## code here: soal 1\n",
    "\n",
    "# hitung mean\n",
    "mean_df = supermarket['cogs'].mean()\n",
    "print(mean_df)\n",
    "\n",
    "# hitung standar deviasi\n",
    "std_df = supermarket['cogs'].std()\n",
    "print(std_df)\n",
    "\n",
    "# 2. hitung z-score\n",
    "zscore = (100 - mean_df) / std_df\n",
    "print(zscore)\n",
    "\n",
    "# 3. ubah z-score menjadi peluang -> # hitung peluang cogs < 100\n",
    "print(norm.cdf(zscore))"
   ]
  },
  {
   "cell_type": "markdown",
   "metadata": {},
   "source": [
    "2️⃣ Berapa peluang nilai cogs di antara 150-500?"
   ]
  },
  {
   "cell_type": "code",
   "execution_count": 22,
   "metadata": {
    "execution": {
     "iopub.execute_input": "2024-01-08T00:44:23.568532Z",
     "iopub.status.busy": "2024-01-08T00:44:23.567540Z",
     "iopub.status.idle": "2024-01-08T00:44:23.580533Z",
     "shell.execute_reply": "2024-01-08T00:44:23.579536Z",
     "shell.execute_reply.started": "2024-01-08T00:44:23.568532Z"
    }
   },
   "outputs": [
    {
     "name": "stdout",
     "output_type": "stream",
     "text": [
      "0.20563624962261273\n",
      "0.2504918627249647\n",
      "0.5438718876524226\n"
     ]
    }
   ],
   "source": [
    "# hitung ppeluang batas atas\n",
    "print(1 - norm.cdf((500 - mean_df) / std_df))\n",
    "\n",
    "# hitung ppeluang batas bawah\n",
    "print(norm.cdf((150 - mean_df) / std_df))\n",
    "\n",
    "# hitung peluang\n",
    "print(1 - ((1 - norm.cdf((500 - mean_df) / std_df)) + (norm.cdf((150 - mean_df) / std_df))))"
   ]
  }
 ],
 "metadata": {
  "kernelspec": {
   "display_name": "Python 3 (ipykernel)",
   "language": "python",
   "name": "python3"
  },
  "language_info": {
   "codemirror_mode": {
    "name": "ipython",
    "version": 3
   },
   "file_extension": ".py",
   "mimetype": "text/x-python",
   "name": "python",
   "nbconvert_exporter": "python",
   "pygments_lexer": "ipython3",
   "version": "3.8.18"
  }
 },
 "nbformat": 4,
 "nbformat_minor": 4
}
