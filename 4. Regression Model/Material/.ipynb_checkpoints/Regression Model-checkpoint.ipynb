{
 "cells": [
  {
   "cell_type": "markdown",
   "id": "119295fc",
   "metadata": {},
   "source": [
    "**Coursebook: Regression Model**\n",
    "\n",
    "- Bagian 4 Audit Analytics untuk Bank Rakyat Indonesia\n",
    "- Durasi: 7 Jam\n",
    "- *Last Updated*: December 2023\n",
    "\n",
    "___\n",
    "\n",
    "\n",
    "- *Coursebook* ini disusun dan dikurasi oleh tim produk dan instruktur dari [Algoritma Data Science School](https://algorit.ma/)"
   ]
  },
  {
   "cell_type": "markdown",
   "id": "6f648782",
   "metadata": {},
   "source": [
    "# Background\n",
    "\n",
    "*Coursebook* ini merupakan bagian dari **BRI Audit Analytics** yang disiapkan oleh [Algoritma](https://algorit.ma). *Coursebook* ini ditujukan hanya untuk khalayak terbatas, yaitu individu dan organisasi yang menerima *coursebook* ini langsung dari organisasi pelatihan. Tidak boleh direproduksi, didistribusikan, diterjemahkan, atau diadaptasi dalam bentuk apapun di luar individu dan organisasi ini tanpa izin.\n",
    "Algoritma adalah pusat pendidikan *data science* yang berbasis di Jakarta. Kami menyelenggarakan *workshop* dan program pelatihan untuk membantu para profesional dan mahasiswa dalam menguasai berbagai sub-bidang *data science* yaitu: *data visualization, machine learning,* statistik, dan lain sebagainya."
   ]
  },
  {
   "cell_type": "markdown",
   "id": "93bfff9f",
   "metadata": {},
   "source": [
    "## Training Objectives\n",
    "\n",
    "Kita akan memulai dengan mempelajari apa itu *machine learning* secara umum dan mempelajari model regresi pertama Anda. Pada *coursebook* ini kita akan membahas:\n",
    "\n",
    "- **Data Preparation & Exploratory Data**  \n",
    "\n",
    "    - Data types inspection & preparation\n",
    "    - Statistics summary\n",
    "    - Correlation and distribution from several variables\n",
    "\n",
    "- **Data Pre-Processing**  \n",
    "\n",
    "    - Target & predictors separation\n",
    "    - Dummy Variables for Categorical Predictor\n",
    "    \n",
    "- **Linear Model**  \n",
    "\n",
    "    - Ordinary Least Square\n",
    "    - Linear Regression\n",
    "    - Linear Model Prediction\n",
    "    - Plotting Regression\n",
    "\n",
    "- **Interpreting Linear Models**\n",
    "\n",
    "    - Understanding Coefficients\n",
    "    - Estimates and standard error \n",
    "    - Confidence interval \n",
    "\n",
    "\n",
    "- **Model Assumptions and Evaluation**\n",
    "\n",
    "    - Model assumptions\n",
    "    - Model evaluation"
   ]
  },
  {
   "cell_type": "markdown",
   "id": "33589d6b",
   "metadata": {},
   "source": [
    "# Data Preparation"
   ]
  },
  {
   "cell_type": "markdown",
   "id": "80a19b96",
   "metadata": {},
   "source": [
    "Sebelum masuk ke topik utama pada coursebook ini, mari kita import terlebih dahulu beberapa library yang akan digunakan:"
   ]
  },
  {
   "cell_type": "code",
   "execution_count": 1,
   "id": "c747be6d",
   "metadata": {},
   "outputs": [],
   "source": [
    "import pandas as pd\n",
    "import numpy as np\n",
    "import matplotlib.pyplot as plt\n",
    "\n",
    "# suppress scientific notation\n",
    "np.set_printoptions(suppress=True) # numpy output\n",
    "pd.set_option('display.float_format', lambda x: '%.5f' % x) # pandas output\n",
    "\n",
    "# suppress warning\n",
    "import warnings\n",
    "warnings.filterwarnings(\"ignore\")\n",
    "\n",
    "%matplotlib inline"
   ]
  },
  {
   "cell_type": "markdown",
   "id": "89fccee5",
   "metadata": {},
   "source": [
    "Setelah menentukan library yang akan digunakan maka kita akan melakukan persiapan data terlebih dahulu."
   ]
  },
  {
   "cell_type": "code",
   "execution_count": 2,
   "id": "3764a1ee",
   "metadata": {
    "scrolled": true
   },
   "outputs": [
    {
     "data": {
      "text/html": [
       "<div>\n",
       "<style scoped>\n",
       "    .dataframe tbody tr th:only-of-type {\n",
       "        vertical-align: middle;\n",
       "    }\n",
       "\n",
       "    .dataframe tbody tr th {\n",
       "        vertical-align: top;\n",
       "    }\n",
       "\n",
       "    .dataframe thead th {\n",
       "        text-align: right;\n",
       "    }\n",
       "</style>\n",
       "<table border=\"1\" class=\"dataframe\">\n",
       "  <thead>\n",
       "    <tr style=\"text-align: right;\">\n",
       "      <th></th>\n",
       "      <th>Order.ID</th>\n",
       "      <th>Order.Date</th>\n",
       "      <th>Ship.Date</th>\n",
       "      <th>Ship.Mode</th>\n",
       "      <th>Customer.ID</th>\n",
       "      <th>Segment</th>\n",
       "      <th>Product.ID</th>\n",
       "      <th>Category</th>\n",
       "      <th>Sub.Category</th>\n",
       "      <th>Product.Name</th>\n",
       "      <th>Sales</th>\n",
       "      <th>Quantity</th>\n",
       "      <th>Discount</th>\n",
       "      <th>Profit</th>\n",
       "    </tr>\n",
       "  </thead>\n",
       "  <tbody>\n",
       "    <tr>\n",
       "      <th>0</th>\n",
       "      <td>CA-2015-137946</td>\n",
       "      <td>9/1/15</td>\n",
       "      <td>9/4/15</td>\n",
       "      <td>Second Class</td>\n",
       "      <td>DB-13615</td>\n",
       "      <td>Consumer</td>\n",
       "      <td>TEC-CO-10001449</td>\n",
       "      <td>Technology</td>\n",
       "      <td>Copiers</td>\n",
       "      <td>Hewlett Packard LaserJet 3310 Copier</td>\n",
       "      <td>959.98400</td>\n",
       "      <td>2</td>\n",
       "      <td>0.20000</td>\n",
       "      <td>335.99440</td>\n",
       "    </tr>\n",
       "    <tr>\n",
       "      <th>1</th>\n",
       "      <td>US-2014-135972</td>\n",
       "      <td>9/21/14</td>\n",
       "      <td>9/23/14</td>\n",
       "      <td>Second Class</td>\n",
       "      <td>JG-15115</td>\n",
       "      <td>Consumer</td>\n",
       "      <td>TEC-CO-10002313</td>\n",
       "      <td>Technology</td>\n",
       "      <td>Copiers</td>\n",
       "      <td>Canon PC1080F Personal Copier</td>\n",
       "      <td>1799.97000</td>\n",
       "      <td>3</td>\n",
       "      <td>0.00000</td>\n",
       "      <td>701.98830</td>\n",
       "    </tr>\n",
       "    <tr>\n",
       "      <th>2</th>\n",
       "      <td>CA-2017-117457</td>\n",
       "      <td>12/8/17</td>\n",
       "      <td>12/12/17</td>\n",
       "      <td>Standard Class</td>\n",
       "      <td>KH-16510</td>\n",
       "      <td>Consumer</td>\n",
       "      <td>TEC-CO-10004115</td>\n",
       "      <td>Technology</td>\n",
       "      <td>Copiers</td>\n",
       "      <td>Sharp AL-1530CS Digital Copier</td>\n",
       "      <td>1199.97600</td>\n",
       "      <td>3</td>\n",
       "      <td>0.20000</td>\n",
       "      <td>434.99130</td>\n",
       "    </tr>\n",
       "    <tr>\n",
       "      <th>3</th>\n",
       "      <td>CA-2017-127432</td>\n",
       "      <td>1/22/17</td>\n",
       "      <td>1/27/17</td>\n",
       "      <td>Standard Class</td>\n",
       "      <td>AD-10180</td>\n",
       "      <td>Home Office</td>\n",
       "      <td>TEC-CO-10003236</td>\n",
       "      <td>Technology</td>\n",
       "      <td>Copiers</td>\n",
       "      <td>Canon Image Class D660 Copier</td>\n",
       "      <td>2999.95000</td>\n",
       "      <td>5</td>\n",
       "      <td>0.00000</td>\n",
       "      <td>1379.97700</td>\n",
       "    </tr>\n",
       "    <tr>\n",
       "      <th>4</th>\n",
       "      <td>CA-2014-131450</td>\n",
       "      <td>8/8/14</td>\n",
       "      <td>8/15/14</td>\n",
       "      <td>Standard Class</td>\n",
       "      <td>LR-16915</td>\n",
       "      <td>Consumer</td>\n",
       "      <td>TEC-CO-10004115</td>\n",
       "      <td>Technology</td>\n",
       "      <td>Copiers</td>\n",
       "      <td>Sharp AL-1530CS Digital Copier</td>\n",
       "      <td>1199.97600</td>\n",
       "      <td>3</td>\n",
       "      <td>0.20000</td>\n",
       "      <td>434.99130</td>\n",
       "    </tr>\n",
       "  </tbody>\n",
       "</table>\n",
       "</div>"
      ],
      "text/plain": [
       "         Order.ID Order.Date Ship.Date       Ship.Mode Customer.ID  \\\n",
       "0  CA-2015-137946     9/1/15    9/4/15    Second Class    DB-13615   \n",
       "1  US-2014-135972    9/21/14   9/23/14    Second Class    JG-15115   \n",
       "2  CA-2017-117457    12/8/17  12/12/17  Standard Class    KH-16510   \n",
       "3  CA-2017-127432    1/22/17   1/27/17  Standard Class    AD-10180   \n",
       "4  CA-2014-131450     8/8/14   8/15/14  Standard Class    LR-16915   \n",
       "\n",
       "       Segment       Product.ID    Category Sub.Category  \\\n",
       "0     Consumer  TEC-CO-10001449  Technology      Copiers   \n",
       "1     Consumer  TEC-CO-10002313  Technology      Copiers   \n",
       "2     Consumer  TEC-CO-10004115  Technology      Copiers   \n",
       "3  Home Office  TEC-CO-10003236  Technology      Copiers   \n",
       "4     Consumer  TEC-CO-10004115  Technology      Copiers   \n",
       "\n",
       "                           Product.Name      Sales  Quantity  Discount  \\\n",
       "0  Hewlett Packard LaserJet 3310 Copier  959.98400         2   0.20000   \n",
       "1         Canon PC1080F Personal Copier 1799.97000         3   0.00000   \n",
       "2        Sharp AL-1530CS Digital Copier 1199.97600         3   0.20000   \n",
       "3         Canon Image Class D660 Copier 2999.95000         5   0.00000   \n",
       "4        Sharp AL-1530CS Digital Copier 1199.97600         3   0.20000   \n",
       "\n",
       "      Profit  \n",
       "0  335.99440  \n",
       "1  701.98830  \n",
       "2  434.99130  \n",
       "3 1379.97700  \n",
       "4  434.99130  "
      ]
     },
     "execution_count": 2,
     "metadata": {},
     "output_type": "execute_result"
    }
   ],
   "source": [
    "copiers = pd.read_csv(\"data_input/copiers.csv\")\n",
    "copiers.head()"
   ]
  },
  {
   "cell_type": "code",
   "execution_count": 3,
   "id": "a4b3cd75",
   "metadata": {},
   "outputs": [
    {
     "data": {
      "text/plain": [
       "(62, 14)"
      ]
     },
     "execution_count": 3,
     "metadata": {},
     "output_type": "execute_result"
    }
   ],
   "source": [
    "copiers.shape"
   ]
  },
  {
   "cell_type": "markdown",
   "id": "eed5afe7",
   "metadata": {},
   "source": [
    "Data di atas merupakan data historis transaksi dari suatu online retail, berikut deskripsi variabel dari data tersebut:\n",
    "\n",
    "- `Order.ID`     : ID transaksi\n",
    "- `Order.Date`   : Tanggal transaksi\n",
    "- `Ship.Date`    : Tanggal pengiriman barang\n",
    "- `Ship.Mode`    : Jenis pengiriman yang digunakan (Standard Class, Second Class, First Class, Same Day)\n",
    "- `Customer.ID`  : ID pelanggan\n",
    "- `Segment`      : Segmen pelanggan (Consumer, Corporate, Home Office)\n",
    "- `Product.ID`   : ID barang\n",
    "- `Category`     : Kategori barang\n",
    "- `Sub.Categoory`: Sub kategori barang\n",
    "- `Product.Name` : Nama barang\n",
    "- `Sales`        : Harga barang (USD)\n",
    "- `Quantity`     : Jumlah barang yang dibeli\n",
    "- `Discount`     : Potongan harga (%)\n",
    "- `Profit`       : Keuntungan yang diperoleh (USD)\n",
    "\n",
    "Berdasarkan informasi di atas, kita akan melihat tipe data pada seluruh variabel yang kita miliki:"
   ]
  },
  {
   "cell_type": "code",
   "execution_count": 4,
   "id": "af5e371b",
   "metadata": {},
   "outputs": [
    {
     "data": {
      "text/plain": [
       "Order.ID         object\n",
       "Order.Date       object\n",
       "Ship.Date        object\n",
       "Ship.Mode        object\n",
       "Customer.ID      object\n",
       "Segment          object\n",
       "Product.ID       object\n",
       "Category         object\n",
       "Sub.Category     object\n",
       "Product.Name     object\n",
       "Sales           float64\n",
       "Quantity          int64\n",
       "Discount        float64\n",
       "Profit          float64\n",
       "dtype: object"
      ]
     },
     "execution_count": 4,
     "metadata": {},
     "output_type": "execute_result"
    }
   ],
   "source": [
    "copiers.dtypes"
   ]
  },
  {
   "cell_type": "markdown",
   "id": "c8b6d1f5",
   "metadata": {},
   "source": [
    "Beberapa variabel yang nilainya berulang sebaiknya kita ubah terlebih dahulu ke dalam tipe kategori. Variabel-variabel ini diketahui berdasarkan keterangan data sebelumnya."
   ]
  },
  {
   "cell_type": "code",
   "execution_count": 5,
   "id": "2619ee64",
   "metadata": {},
   "outputs": [
    {
     "data": {
      "text/plain": [
       "Order.ID          object\n",
       "Order.Date        object\n",
       "Ship.Date         object\n",
       "Ship.Mode       category\n",
       "Customer.ID       object\n",
       "Segment         category\n",
       "Product.ID        object\n",
       "Category        category\n",
       "Sub.Category    category\n",
       "Product.Name      object\n",
       "Sales            float64\n",
       "Quantity           int64\n",
       "Discount         float64\n",
       "Profit           float64\n",
       "dtype: object"
      ]
     },
     "execution_count": 5,
     "metadata": {},
     "output_type": "execute_result"
    }
   ],
   "source": [
    "cat_var = [\"Ship.Mode\", \"Segment\", \"Category\", \"Sub.Category\"]\n",
    "\n",
    "copiers[cat_var] = copiers[cat_var].astype(\"category\")\n",
    "\n",
    "copiers.dtypes"
   ]
  },
  {
   "cell_type": "markdown",
   "id": "31e3583c",
   "metadata": {},
   "source": [
    "Setelah tipe datanya berubah, kita dapat melihat secara lebih mendetail informasi pada data kita. Hal pertama yang akan kita tinjau adalah deskripsi statistik dari data kita."
   ]
  },
  {
   "cell_type": "code",
   "execution_count": 6,
   "id": "30379ace",
   "metadata": {},
   "outputs": [
    {
     "data": {
      "text/html": [
       "<div>\n",
       "<style scoped>\n",
       "    .dataframe tbody tr th:only-of-type {\n",
       "        vertical-align: middle;\n",
       "    }\n",
       "\n",
       "    .dataframe tbody tr th {\n",
       "        vertical-align: top;\n",
       "    }\n",
       "\n",
       "    .dataframe thead th {\n",
       "        text-align: right;\n",
       "    }\n",
       "</style>\n",
       "<table border=\"1\" class=\"dataframe\">\n",
       "  <thead>\n",
       "    <tr style=\"text-align: right;\">\n",
       "      <th></th>\n",
       "      <th>Sales</th>\n",
       "      <th>Quantity</th>\n",
       "      <th>Discount</th>\n",
       "      <th>Profit</th>\n",
       "    </tr>\n",
       "  </thead>\n",
       "  <tbody>\n",
       "    <tr>\n",
       "      <th>count</th>\n",
       "      <td>62.00000</td>\n",
       "      <td>62.00000</td>\n",
       "      <td>62.00000</td>\n",
       "      <td>62.00000</td>\n",
       "    </tr>\n",
       "    <tr>\n",
       "      <th>mean</th>\n",
       "      <td>1331.10155</td>\n",
       "      <td>3.30645</td>\n",
       "      <td>0.16774</td>\n",
       "      <td>448.80549</td>\n",
       "    </tr>\n",
       "    <tr>\n",
       "      <th>std</th>\n",
       "      <td>966.49320</td>\n",
       "      <td>1.76104</td>\n",
       "      <td>0.12646</td>\n",
       "      <td>434.97181</td>\n",
       "    </tr>\n",
       "    <tr>\n",
       "      <th>min</th>\n",
       "      <td>299.99000</td>\n",
       "      <td>1.00000</td>\n",
       "      <td>0.00000</td>\n",
       "      <td>59.99800</td>\n",
       "    </tr>\n",
       "    <tr>\n",
       "      <th>25%</th>\n",
       "      <td>599.97250</td>\n",
       "      <td>2.00000</td>\n",
       "      <td>0.00000</td>\n",
       "      <td>161.99190</td>\n",
       "    </tr>\n",
       "    <tr>\n",
       "      <th>50%</th>\n",
       "      <td>979.98200</td>\n",
       "      <td>3.00000</td>\n",
       "      <td>0.20000</td>\n",
       "      <td>313.49215</td>\n",
       "    </tr>\n",
       "    <tr>\n",
       "      <th>75%</th>\n",
       "      <td>1749.95750</td>\n",
       "      <td>5.00000</td>\n",
       "      <td>0.20000</td>\n",
       "      <td>611.23825</td>\n",
       "    </tr>\n",
       "    <tr>\n",
       "      <th>max</th>\n",
       "      <td>4899.93000</td>\n",
       "      <td>8.00000</td>\n",
       "      <td>0.40000</td>\n",
       "      <td>2302.96710</td>\n",
       "    </tr>\n",
       "  </tbody>\n",
       "</table>\n",
       "</div>"
      ],
      "text/plain": [
       "           Sales  Quantity  Discount     Profit\n",
       "count   62.00000  62.00000  62.00000   62.00000\n",
       "mean  1331.10155   3.30645   0.16774  448.80549\n",
       "std    966.49320   1.76104   0.12646  434.97181\n",
       "min    299.99000   1.00000   0.00000   59.99800\n",
       "25%    599.97250   2.00000   0.00000  161.99190\n",
       "50%    979.98200   3.00000   0.20000  313.49215\n",
       "75%   1749.95750   5.00000   0.20000  611.23825\n",
       "max   4899.93000   8.00000   0.40000 2302.96710"
      ]
     },
     "execution_count": 6,
     "metadata": {},
     "output_type": "execute_result"
    }
   ],
   "source": [
    "copiers.describe()"
   ]
  },
  {
   "cell_type": "markdown",
   "id": "5c1addec",
   "metadata": {},
   "source": [
    "Secara default, metode `describe()` hanya akan menampilkan data-data dengan tipe numerik. Agar kita dapat melihat data dengan tipe kategorik maka kita gunakan parameter include."
   ]
  },
  {
   "cell_type": "code",
   "execution_count": 7,
   "id": "ee2dd19d",
   "metadata": {},
   "outputs": [
    {
     "data": {
      "text/html": [
       "<div>\n",
       "<style scoped>\n",
       "    .dataframe tbody tr th:only-of-type {\n",
       "        vertical-align: middle;\n",
       "    }\n",
       "\n",
       "    .dataframe tbody tr th {\n",
       "        vertical-align: top;\n",
       "    }\n",
       "\n",
       "    .dataframe thead th {\n",
       "        text-align: right;\n",
       "    }\n",
       "</style>\n",
       "<table border=\"1\" class=\"dataframe\">\n",
       "  <thead>\n",
       "    <tr style=\"text-align: right;\">\n",
       "      <th></th>\n",
       "      <th>Ship.Mode</th>\n",
       "      <th>Segment</th>\n",
       "      <th>Category</th>\n",
       "      <th>Sub.Category</th>\n",
       "    </tr>\n",
       "  </thead>\n",
       "  <tbody>\n",
       "    <tr>\n",
       "      <th>count</th>\n",
       "      <td>62</td>\n",
       "      <td>62</td>\n",
       "      <td>62</td>\n",
       "      <td>62</td>\n",
       "    </tr>\n",
       "    <tr>\n",
       "      <th>unique</th>\n",
       "      <td>4</td>\n",
       "      <td>3</td>\n",
       "      <td>1</td>\n",
       "      <td>1</td>\n",
       "    </tr>\n",
       "    <tr>\n",
       "      <th>top</th>\n",
       "      <td>Standard Class</td>\n",
       "      <td>Consumer</td>\n",
       "      <td>Technology</td>\n",
       "      <td>Copiers</td>\n",
       "    </tr>\n",
       "    <tr>\n",
       "      <th>freq</th>\n",
       "      <td>32</td>\n",
       "      <td>32</td>\n",
       "      <td>62</td>\n",
       "      <td>62</td>\n",
       "    </tr>\n",
       "  </tbody>\n",
       "</table>\n",
       "</div>"
      ],
      "text/plain": [
       "             Ship.Mode   Segment    Category Sub.Category\n",
       "count               62        62          62           62\n",
       "unique               4         3           1            1\n",
       "top     Standard Class  Consumer  Technology      Copiers\n",
       "freq                32        32          62           62"
      ]
     },
     "execution_count": 7,
     "metadata": {},
     "output_type": "execute_result"
    }
   ],
   "source": [
    "copiers.describe(include=\"category\")"
   ]
  },
  {
   "cell_type": "markdown",
   "id": "61e8509c",
   "metadata": {},
   "source": [
    "Sampai tahapan ini, kita telah mengubah tipe data dan melihat secara singkat deskripsi statistik dari data kita. Hal-hal tersebut merupakan tahapan penting sebelum kita dapat mengolah data kita ke tahap selanjutnya yaitu _machine learning_."
   ]
  },
  {
   "cell_type": "markdown",
   "id": "642ba855",
   "metadata": {},
   "source": [
    "# Introduction to Machine Learning"
   ]
  },
  {
   "cell_type": "markdown",
   "id": "7c1289da",
   "metadata": {},
   "source": [
    "_Machine learning_ pada dasarnya mengacu pada sub-bidang ilmu komputer yang \"memberikan kemampuan kepada komputer untuk belajar tanpa harus diprogram secara eksplisit\". Lebih sederhananya, hal ini berkaitan dengan teori dan aplikasi metode statistik dan matematika untuk mencapai tujuan tertentu tanpa mengikuti seperangkat aturan yang ditentukan secara kaku dan ketat.\n",
    "\n",
    "*Machine learning* yang paling umum dibagi menjadi dua jenis, yaitu **_supervised learning_** dan **_unsupervised learning_**. Perbedaan antara keduanya adalah ketika kita membahas **_supervised learning_**, maka kita berusaha melakukan prediksi dari suatu nilai karena dalam supervised learning data yang akan kita analisis memiliki target variabel.\n",
    "\n",
    "Data kita (yang umumnya berbentuk tabular) akan dipisahkan pada kasus supervised learning, menjadi target variable dan predictor variable:\n",
    "\n",
    "- **_Target Variable_**: Satu buah variabel/kolom yang ingin kita prediksi nilainya, biasa disebut juga sebagai dependent variable.\n",
    "- **_Predictor Variable_**: Variabel-variabel yang mempengaruhi target variabel atau nilai yang akan kita prediksi, biasa disebut juga sebagai independent variable.\n",
    "\n",
    "Ketika target variable bersifat numerik (seperti harga minyak, curah hujan, penjualan, tekanan darah, dll), umumnya kasus ini disebut sebagai \"regresi\". Hal ini berbeda dengan masalah \"klasifikasi\", istilah umum untuk ketika nilai target variable kita bersifat kategorikal (_loan defaults_, deteksi _email spam, handwriting recognition_, dll).\n",
    "\n",
    "Sementara itu, jika kita membahas tentang **_unsupervised learning_**, maka kita berusaha melakukan eksplorasi data karena data yang ingin kita proses tidak memiliki target variabel. Metode yang biasanya digunakan untuk menganalisis data menggunakan unsupervised learning adalah clustering atau data grouping.\n"
   ]
  },
  {
   "cell_type": "markdown",
   "id": "fc60492c",
   "metadata": {},
   "source": [
    "# Regression Model\n",
    "\n",
    "Metode _machine learning_ pertama yang akan kita pelajari yaitu model regresi. \n",
    "\n",
    "Penting untuk diingat bahwa model regresi tidak hanya digunakan dalam konteks _machine learning_ untuk prediksi numerik. Regresi, sebenarnya, merupakan \"workhorse of data science\" dan termasuk model yang paling praktis dan teoretis untuk dipahami dalam statistik. Model regresi linear merupakan metode statistik yang membentuk sebuah garis lurus berdasarkan data kita. Persamaan umumnya yaitu:\n",
    "\n",
    "$$\\hat Y=β_0+β_1X_1+β_2X_2+...+β_nX_n$$\n",
    "\n",
    "_Data scientist_ yang terlatih dengan baik dengan ilmu dasar ini akan mampu mengatasi berbagai masalah karena model regresi sering menghasilkan model yang sangat dapat diinterpretasi. Kita dapat (dan seharusnya) mempertimbangkannya sebagai metode statistik yang berguna pada kebanyakan kasus _data science_ yang paling umum."
   ]
  },
  {
   "cell_type": "markdown",
   "id": "067e4cb6",
   "metadata": {},
   "source": [
    "## Least Squares Regression\n",
    "\n",
    "Salah satu istilah yang akan Anda dengar dalam course ini adalah **least squares** (kuadrat terkecil). Jadi mari kita coba dan memahami intuisi tentang konsep penting ini melalui ilustrasi berikut. Kita akan melanjutkan dan membaca suatu data dan membuat histogram dari data tersebut."
   ]
  },
  {
   "cell_type": "code",
   "execution_count": 8,
   "id": "2878b70b",
   "metadata": {},
   "outputs": [
    {
     "data": {
      "image/png": "[encoded data removed]",
      "text/plain": [
       "<Figure size 640x480 with 1 Axes>"
      ]
     },
     "metadata": {},
     "output_type": "display_data"
    }
   ],
   "source": [
    "copiers.hist(column=['Sales']);"
   ]
  },
  {
   "cell_type": "markdown",
   "id": "f3891c2d",
   "metadata": {},
   "source": [
    "Ketika kita memiliki sebuah data (contoh: Profit mesin fotokopi) dengan distribusi penjualan seperti di atas dan kita ingin membuat perkiraan nilai yang paling representatif maka kita akan menghitung jumlah jarak kuadrat antara data yang kita perkirakan dengan data aslinya (_error_). Inilah konsep kuadrat terkecil atau _least square_. Tanpa informasi lain (variabel prediktor), _least square_ akan memprediksi nilai sebuah data dengan nilai rata-rata sampelnya.\n",
    "\n",
    "Karena hasil estimasi model kita tidak akan benar-benar tepat jatuh di nilai asli data kita, maka dengan meminimalisir rata-rata kuadrat dari _error_ adalah pendekatan yang masuk akal dilakukan. \n",
    "\n",
    "Pendekatan _least square_ ini merupakan dasar dari metode regresi linear. Regresi linear akan membuat satu buah garis yang paling representatif terhadap data kita, kondisi garis paling representatif ini berdasarkan jarak minimum seperti yang sudah dijelaskan di atas."
   ]
  },
  {
   "cell_type": "markdown",
   "id": "bc0a0a18-9336-4d0c-adf5-2992f86dac78",
   "metadata": {},
   "source": [
    "## Simple Linear Regression\n",
    "\n",
    "Secara sederhana, model regresi akan membuat satu buah garis linear yang berdasarkan gambaran data kita. Garis linear ini dituliskan pada persamaan $\\hat Y=β_0+β_1X_1$. \n",
    "\n",
    "Berdasarkan persamaan di atas, kita harus menentukan \"Y\" sebagai target variabel dan \"X\" sebagai prediktor. Pemilihan \"X\" atau prediktor ini umumnya didasari oleh hubungan linear antara prediktor dengan target (\"Y\"). Hal ini dapat kita tinjau dengan melihat nilai korelasi. Berikut adalah cara pengecekan korelasi menggunakan metode `.corr()`."
   ]
  },
  {
   "cell_type": "code",
   "execution_count": 9,
   "id": "d31603ec-af67-4f52-b949-aca6677099a3",
   "metadata": {},
   "outputs": [
    {
     "data": {
      "text/plain": [
       "Profit      1.00000\n",
       "Sales       0.93958\n",
       "Quantity    0.68599\n",
       "Discount   -0.43234\n",
       "Name: Profit, dtype: float64"
      ]
     },
     "execution_count": 9,
     "metadata": {},
     "output_type": "execute_result"
    }
   ],
   "source": [
    "copiers.corr(numeric_only=True).sort_values(\n",
    "   'Profit', ascending=False \n",
    ").loc[:,'Profit']"
   ]
  },
  {
   "cell_type": "markdown",
   "id": "d66d3f5f-6960-4a1f-b200-7c45327a4f3f",
   "metadata": {},
   "source": [
    "Pada kasus dalam pembelajaran regresi linear ini, kita akan berusaha memprediksi profit penjualan mesin fotokopi (`Profit`) dan variabel dengan korelasi paling tinggi berdasarkan hasil eksplorasi korelasi di atas adalah `Sales` yang merepresentasikan harga barang. Nilai korelasi yang tinggi dapat membantu metode kita untuk mendapatkan hasil yang baik karena regresi linear didasari hubungan linear prediktor dengan target.\n",
    "\n",
    "Oleh karena itu, pada kasus pertama kita yaitu regresi linear sederhana kita akan memprediksi `Profit`  berdasarkan `Sales`.\n",
    "\n",
    "Pembuatan model regresi linear di Python merupakan proses yang mudah. Kita akan memanggil fungsi `OLS()` dari library `statsmodels` dan menentukan dua parameter utama: \"Y\" atau target variabel dan \"X\" atau prediktor. Kedua parameter ini harus dipisahkan dan sebaiknya didefinisikan sebelum membuat model. \n",
    "\n",
    "*__Notes__: *Nama variabel \"Y\" dan \"X\" tidaklah baku, kita dapat menentukan sesuai kebutuhan kita.*"
   ]
  },
  {
   "cell_type": "code",
   "execution_count": 10,
   "id": "30958c4f",
   "metadata": {},
   "outputs": [
    {
     "data": {
      "text/plain": [
       "const   -114.06251\n",
       "Sales      0.42286\n",
       "dtype: float64"
      ]
     },
     "execution_count": 10,
     "metadata": {},
     "output_type": "execute_result"
    }
   ],
   "source": [
    "import statsmodels.api as sm\n",
    "\n",
    "Y = copiers['Profit']\n",
    "X_simple = sm.add_constant(copiers['Sales']) \n",
    "\n",
    "# fit the model\n",
    "lm_simple = sm.OLS(Y, X_simple).fit()\n",
    "lm_simple.params"
   ]
  },
  {
   "cell_type": "markdown",
   "id": "643abf99",
   "metadata": {},
   "source": [
    "*__Note__: *Tanpa sm.add_constant, `statsmodels` akan menggunakan asumsi $β_0 = 0$ pada persamaan $\\hat Y=β_0+β_1X_1$ sehingga nilai $β_0$ yang seharusnya dihitung berdasarkan data kita akan bernilai 0.*"
   ]
  },
  {
   "cell_type": "markdown",
   "id": "4c9670b4",
   "metadata": {},
   "source": [
    "Nilai yang dikeluarkan oleh `lm.params` adalah koefisien dari model linear yang dibuat. Nilai koefisien ini menggambarkan seberapa banyak pengaruh sebuah variabel terhadap target variabel kita. \n",
    "\n",
    "Jika kita lihat pada contoh di atas, kita memiliki nilai koefisien untuk variabel Tenure sebesar **0.423** dan karena nilai tersebut bertanda positif maka berdasarkan hubungan linear dari model kita dapat dikatakan bahwa dampak variabel tersebut terhadap Profit (target variabel) juga positif: semakin tinggi Sales maka semakin tinggi juga Profit. Sebaliknya, nilai koefisien negatif artinya kenaikan sebuah variabel akan menurunkan nilai targetnya.\n",
    "\n",
    "Selain informasi di atas, kita juga dapat menyimpulkan persamaan regresi linear untuk penggunaan bandwidth tahunan akan mengikuti persamaan umum $\\hat Y=β_0+β_1X_1$.\n",
    "\n",
    "Jika persamaan di atas dituliskan dengan bahasa yang lebih sederhana menjadi: \n",
    "`Estimated Profit = Intercept + Slope * Sales`\n",
    "dan jika nilai koefisien betanya kita masukkan ke dalam formula tersebut maka menjadi:\n",
    "`Estimated Profit = -114.06 + 0.423 * Sales`\n",
    "\n",
    "Dari persamaan tersebut kita dapat menyimpulkan bahwa **keuntungan diekspektasikan meningkat sebesar $0.423$ ketika sales meningkat $1$ satuan**. Jika nilai sales $0$ maka keuntungan diprediksi bernilai negatif (profit tanpa sales diperkirakan sebesar $-114.06$ USD)."
   ]
  },
  {
   "cell_type": "markdown",
   "id": "06a0c1bf",
   "metadata": {},
   "source": [
    "Apabila kita memiliki pelanggan dengan nilai Sales 910, berapakah prediksi Profit berdasarkan model linear kita?"
   ]
  },
  {
   "cell_type": "code",
   "execution_count": 11,
   "id": "a46de096",
   "metadata": {},
   "outputs": [
    {
     "data": {
      "text/plain": [
       "270.87"
      ]
     },
     "execution_count": 11,
     "metadata": {},
     "output_type": "execute_result"
    }
   ],
   "source": [
    "-114.06 + 0.423 * 910"
   ]
  },
  {
   "cell_type": "markdown",
   "id": "0df9f797",
   "metadata": {},
   "source": [
    "Ternyata berdasarkan formula model linear, kita ketahui bahwa penggunaan Profit kita senilai 270.87 USD. Hal ini cukup mudah kita lakukan ketika hanya memiliki satu variabel dan menebak satu pelanggan, akan tetapi akan sulit ketika keduanya sudah lebih dari satu. Oleh karena itu, `statsmodels` memiliki fungsi `*.predict()` yang dapat melakukan prediksi berdasarkan input data kita. Fungsi predict membutuhkan informasi yang sama dengan X yang masuk pada model machine learning kita sebagai parameter pertamanya. Pada kasus kita artinya dataframe dengan sebuah nilai konstanta dan nilai tenure."
   ]
  },
  {
   "cell_type": "code",
   "execution_count": 12,
   "id": "66800b78",
   "metadata": {},
   "outputs": [
    {
     "data": {
      "text/plain": [
       "array([270.73899142])"
      ]
     },
     "execution_count": 12,
     "metadata": {},
     "output_type": "execute_result"
    }
   ],
   "source": [
    "c=[1, 910]\n",
    "lm_simple.predict(c)"
   ]
  },
  {
   "cell_type": "markdown",
   "id": "34765896",
   "metadata": {},
   "source": [
    "Berikut ini adalah contoh penggunaan `*.predict()` pada dataframe yang barisnya lebih dari satu."
   ]
  },
  {
   "cell_type": "code",
   "execution_count": 13,
   "id": "e69832d0",
   "metadata": {},
   "outputs": [
    {
     "data": {
      "text/plain": [
       "0    291.87517\n",
       "1    647.07063\n",
       "2    393.35789\n",
       "3   1154.49273\n",
       "4    393.35789\n",
       "dtype: float64"
      ]
     },
     "execution_count": 13,
     "metadata": {},
     "output_type": "execute_result"
    }
   ],
   "source": [
    "lm_simple.predict(X_simple)[:5]"
   ]
  },
  {
   "cell_type": "markdown",
   "id": "8dae8f34",
   "metadata": {},
   "source": [
    "Hasil prediksi menggunakan `*.predict()` kepada data X kita akan menghasilkan nilai yang sama dengan nilai `*.fittedvalues` pada model kita."
   ]
  },
  {
   "cell_type": "code",
   "execution_count": 14,
   "id": "014a2d0e",
   "metadata": {},
   "outputs": [
    {
     "data": {
      "text/plain": [
       "0    291.87517\n",
       "1    647.07063\n",
       "2    393.35789\n",
       "3   1154.49273\n",
       "4    393.35789\n",
       "dtype: float64"
      ]
     },
     "execution_count": 14,
     "metadata": {},
     "output_type": "execute_result"
    }
   ],
   "source": [
    "lm_simple.fittedvalues[:5]"
   ]
  },
  {
   "cell_type": "markdown",
   "id": "1213e4bc",
   "metadata": {},
   "source": [
    "Dan berdasarkan informasi tersebut, marilah kita buat plot hubungan antara Sales dengan Profit tetapi dengan tambahan sebuah garis yang dihasilkan dari prediksi model linear kita:"
   ]
  },
  {
   "cell_type": "code",
   "execution_count": 15,
   "id": "143d15e0",
   "metadata": {},
   "outputs": [
    {
     "data": {
      "image/png": "[encoded data removed]",
      "text/plain": [
       "<Figure size 640x480 with 1 Axes>"
      ]
     },
     "metadata": {},
     "output_type": "display_data"
    }
   ],
   "source": [
    "plt.scatter(copiers['Sales'],  copiers['Profit']);\n",
    "plt.plot(copiers['Sales'], lm_simple.fittedvalues, c='r');\n",
    "plt.xlabel('Sales');\n",
    "plt.ylabel('Profit');\n",
    "plt.title('Sales vs. Profit');"
   ]
  },
  {
   "cell_type": "markdown",
   "id": "6840c549",
   "metadata": {},
   "source": [
    "Ternyata, garis tersebut adalah garis regresi terbaik untuk data asli kita. Garis ini telah disesuaikan dengan kondisi error karena titik-titik observasinya tidak diprediksi dengan sempurna oleh garis (meskipun mereka berada di sekitar garis), dan model linear kita telah memperkirakan garis ini untuk meminimalisir kesalahan kuadrat terkecil (**least square error**)."
   ]
  },
  {
   "cell_type": "markdown",
   "id": "85915191",
   "metadata": {},
   "source": [
    "Perhitungan error pada metode least square didasari oleh formula `(actual-estimation)**2).sum()` yang umumnya disebut sebagai **sum of squared errors** atau SSE. Kita dapat melihat nilai `actual-estimation` (error) ini menggunakan attribute `*.resid` pada model kita dan jika dihitung akan mendapatkan nilai SSE sebesar:"
   ]
  },
  {
   "cell_type": "code",
   "execution_count": 16,
   "id": "cddcd2f4",
   "metadata": {
    "scrolled": true
   },
   "outputs": [
    {
     "data": {
      "text/plain": [
       "1352542.6932553158"
      ]
     },
     "execution_count": 16,
     "metadata": {},
     "output_type": "execute_result"
    }
   ],
   "source": [
    "((lm_simple.resid)**2).sum()"
   ]
  },
  {
   "cell_type": "markdown",
   "id": "f398b777",
   "metadata": {},
   "source": [
    "Garis lurus yang dibentuk oleh model regresi linear merupakan hasil estimasi **dua parameter** yaitu titik ketika garis kita memotong sumbu y (Intercept) dan derajat kemiringan (Slope). Kedua nilai inilah yang ditunjukkan oleh `lm.params` atau nantinya muncul pada bagian **coef** yang merujuk pada \"beta coefficients\".\n",
    "\n",
    "Nilai tersebut akan muncul ketika kita melihat fungsi `*.summary()` dari model kita. Fungsi ini umumnya terdapat pada seluruh model yang dibentuk oleh library **statsmodels**."
   ]
  },
  {
   "cell_type": "code",
   "execution_count": 17,
   "id": "f3c6cfe0",
   "metadata": {
    "run_control": {
     "marked": false
    }
   },
   "outputs": [
    {
     "data": {
      "text/html": [
       "<table class=\"simpletable\">\n",
       "<caption>OLS Regression Results</caption>\n",
       "<tr>\n",
       "  <th>Dep. Variable:</th>         <td>Profit</td>      <th>  R-squared:         </th> <td>   0.883</td>\n",
       "</tr>\n",
       "<tr>\n",
       "  <th>Model:</th>                   <td>OLS</td>       <th>  Adj. R-squared:    </th> <td>   0.881</td>\n",
       "</tr>\n",
       "<tr>\n",
       "  <th>Method:</th>             <td>Least Squares</td>  <th>  F-statistic:       </th> <td>   452.0</td>\n",
       "</tr>\n",
       "<tr>\n",
       "  <th>Date:</th>             <td>Thu, 21 Dec 2023</td> <th>  Prob (F-statistic):</th> <td>1.27e-29</td>\n",
       "</tr>\n",
       "<tr>\n",
       "  <th>Time:</th>                 <td>18:01:02</td>     <th>  Log-Likelihood:    </th> <td> -397.68</td>\n",
       "</tr>\n",
       "<tr>\n",
       "  <th>No. Observations:</th>      <td>    62</td>      <th>  AIC:               </th> <td>   799.4</td>\n",
       "</tr>\n",
       "<tr>\n",
       "  <th>Df Residuals:</th>          <td>    60</td>      <th>  BIC:               </th> <td>   803.6</td>\n",
       "</tr>\n",
       "<tr>\n",
       "  <th>Df Model:</th>              <td>     1</td>      <th>                     </th>     <td> </td>   \n",
       "</tr>\n",
       "<tr>\n",
       "  <th>Covariance Type:</th>      <td>nonrobust</td>    <th>                     </th>     <td> </td>   \n",
       "</tr>\n",
       "</table>\n",
       "<table class=\"simpletable\">\n",
       "<tr>\n",
       "    <td></td>       <th>coef</th>     <th>std err</th>      <th>t</th>      <th>P>|t|</th>  <th>[0.025</th>    <th>0.975]</th>  \n",
       "</tr>\n",
       "<tr>\n",
       "  <th>const</th> <td> -114.0625</td> <td>   32.627</td> <td>   -3.496</td> <td> 0.001</td> <td> -179.327</td> <td>  -48.798</td>\n",
       "</tr>\n",
       "<tr>\n",
       "  <th>Sales</th> <td>    0.4229</td> <td>    0.020</td> <td>   21.260</td> <td> 0.000</td> <td>    0.383</td> <td>    0.463</td>\n",
       "</tr>\n",
       "</table>\n",
       "<table class=\"simpletable\">\n",
       "<tr>\n",
       "  <th>Omnibus:</th>       <td> 2.345</td> <th>  Durbin-Watson:     </th> <td>   2.295</td>\n",
       "</tr>\n",
       "<tr>\n",
       "  <th>Prob(Omnibus):</th> <td> 0.310</td> <th>  Jarque-Bera (JB):  </th> <td>   1.652</td>\n",
       "</tr>\n",
       "<tr>\n",
       "  <th>Skew:</th>          <td>-0.380</td> <th>  Prob(JB):          </th> <td>   0.438</td>\n",
       "</tr>\n",
       "<tr>\n",
       "  <th>Kurtosis:</th>      <td> 3.250</td> <th>  Cond. No.          </th> <td>2.81e+03</td>\n",
       "</tr>\n",
       "</table><br/><br/>Notes:<br/>[1] Standard Errors assume that the covariance matrix of the errors is correctly specified.<br/>[2] The condition number is large, 2.81e+03. This might indicate that there are<br/>strong multicollinearity or other numerical problems."
      ],
      "text/latex": [
       "\\begin{center}\n",
       "\\begin{tabular}{lclc}\n",
       "\\toprule\n",
       "\\textbf{Dep. Variable:}    &      Profit      & \\textbf{  R-squared:         } &     0.883   \\\\\n",
       "\\textbf{Model:}            &       OLS        & \\textbf{  Adj. R-squared:    } &     0.881   \\\\\n",
       "\\textbf{Method:}           &  Least Squares   & \\textbf{  F-statistic:       } &     452.0   \\\\\n",
       "\\textbf{Date:}             & Thu, 21 Dec 2023 & \\textbf{  Prob (F-statistic):} &  1.27e-29   \\\\\n",
       "\\textbf{Time:}             &     18:01:02     & \\textbf{  Log-Likelihood:    } &   -397.68   \\\\\n",
       "\\textbf{No. Observations:} &          62      & \\textbf{  AIC:               } &     799.4   \\\\\n",
       "\\textbf{Df Residuals:}     &          60      & \\textbf{  BIC:               } &     803.6   \\\\\n",
       "\\textbf{Df Model:}         &           1      & \\textbf{                     } &             \\\\\n",
       "\\textbf{Covariance Type:}  &    nonrobust     & \\textbf{                     } &             \\\\\n",
       "\\bottomrule\n",
       "\\end{tabular}\n",
       "\\begin{tabular}{lcccccc}\n",
       "               & \\textbf{coef} & \\textbf{std err} & \\textbf{t} & \\textbf{P$> |$t$|$} & \\textbf{[0.025} & \\textbf{0.975]}  \\\\\n",
       "\\midrule\n",
       "\\textbf{const} &    -114.0625  &       32.627     &    -3.496  &         0.001        &     -179.327    &      -48.798     \\\\\n",
       "\\textbf{Sales} &       0.4229  &        0.020     &    21.260  &         0.000        &        0.383    &        0.463     \\\\\n",
       "\\bottomrule\n",
       "\\end{tabular}\n",
       "\\begin{tabular}{lclc}\n",
       "\\textbf{Omnibus:}       &  2.345 & \\textbf{  Durbin-Watson:     } &    2.295  \\\\\n",
       "\\textbf{Prob(Omnibus):} &  0.310 & \\textbf{  Jarque-Bera (JB):  } &    1.652  \\\\\n",
       "\\textbf{Skew:}          & -0.380 & \\textbf{  Prob(JB):          } &    0.438  \\\\\n",
       "\\textbf{Kurtosis:}      &  3.250 & \\textbf{  Cond. No.          } & 2.81e+03  \\\\\n",
       "\\bottomrule\n",
       "\\end{tabular}\n",
       "%\\caption{OLS Regression Results}\n",
       "\\end{center}\n",
       "\n",
       "Notes: \\newline\n",
       " [1] Standard Errors assume that the covariance matrix of the errors is correctly specified. \\newline\n",
       " [2] The condition number is large, 2.81e+03. This might indicate that there are \\newline\n",
       " strong multicollinearity or other numerical problems."
      ],
      "text/plain": [
       "<class 'statsmodels.iolib.summary.Summary'>\n",
       "\"\"\"\n",
       "                            OLS Regression Results                            \n",
       "==============================================================================\n",
       "Dep. Variable:                 Profit   R-squared:                       0.883\n",
       "Model:                            OLS   Adj. R-squared:                  0.881\n",
       "Method:                 Least Squares   F-statistic:                     452.0\n",
       "Date:                Thu, 21 Dec 2023   Prob (F-statistic):           1.27e-29\n",
       "Time:                        18:01:02   Log-Likelihood:                -397.68\n",
       "No. Observations:                  62   AIC:                             799.4\n",
       "Df Residuals:                      60   BIC:                             803.6\n",
       "Df Model:                           1                                         \n",
       "Covariance Type:            nonrobust                                         \n",
       "==============================================================================\n",
       "                 coef    std err          t      P>|t|      [0.025      0.975]\n",
       "------------------------------------------------------------------------------\n",
       "const       -114.0625     32.627     -3.496      0.001    -179.327     -48.798\n",
       "Sales          0.4229      0.020     21.260      0.000       0.383       0.463\n",
       "==============================================================================\n",
       "Omnibus:                        2.345   Durbin-Watson:                   2.295\n",
       "Prob(Omnibus):                  0.310   Jarque-Bera (JB):                1.652\n",
       "Skew:                          -0.380   Prob(JB):                        0.438\n",
       "Kurtosis:                       3.250   Cond. No.                     2.81e+03\n",
       "==============================================================================\n",
       "\n",
       "Notes:\n",
       "[1] Standard Errors assume that the covariance matrix of the errors is correctly specified.\n",
       "[2] The condition number is large, 2.81e+03. This might indicate that there are\n",
       "strong multicollinearity or other numerical problems.\n",
       "\"\"\""
      ]
     },
     "execution_count": 17,
     "metadata": {},
     "output_type": "execute_result"
    }
   ],
   "source": [
    "lm_simple.summary()"
   ]
  },
  {
   "cell_type": "markdown",
   "id": "b46c6469",
   "metadata": {},
   "source": [
    "Untuk saat ini, mari kita fokus pada area berikut:"
   ]
  },
  {
   "cell_type": "code",
   "execution_count": 18,
   "metadata": {},
   "outputs": [
    {
     "data": {
      "text/html": [
       "<table class=\"simpletable\">\n",
       "<tr>\n",
       "    <td></td>       <th>coef</th>     <th>std err</th>      <th>t</th>      <th>P>|t|</th>  <th>[0.025</th>    <th>0.975]</th>  \n",
       "</tr>\n",
       "<tr>\n",
       "  <th>const</th> <td> -114.0625</td> <td>   32.627</td> <td>   -3.496</td> <td> 0.001</td> <td> -179.327</td> <td>  -48.798</td>\n",
       "</tr>\n",
       "<tr>\n",
       "  <th>Sales</th> <td>    0.4229</td> <td>    0.020</td> <td>   21.260</td> <td> 0.000</td> <td>    0.383</td> <td>    0.463</td>\n",
       "</tr>\n",
       "</table>"
      ],
      "text/latex": [
       "\\begin{center}\n",
       "\\begin{tabular}{lcccccc}\n",
       "\\toprule\n",
       "               & \\textbf{coef} & \\textbf{std err} & \\textbf{t} & \\textbf{P$> |$t$|$} & \\textbf{[0.025} & \\textbf{0.975]}  \\\\\n",
       "\\midrule\n",
       "\\textbf{const} &    -114.0625  &       32.627     &    -3.496  &         0.001        &     -179.327    &      -48.798     \\\\\n",
       "\\textbf{Sales} &       0.4229  &        0.020     &    21.260  &         0.000        &        0.383    &        0.463     \\\\\n",
       "\\bottomrule\n",
       "\\end{tabular}\n",
       "\\end{center}"
      ],
      "text/plain": [
       "<class 'statsmodels.iolib.table.SimpleTable'>"
      ]
     },
     "execution_count": 18,
     "metadata": {},
     "output_type": "execute_result"
    }
   ],
   "source": [
    "lm_simple.summary().tables[1]"
   ]
  },
  {
   "cell_type": "markdown",
   "id": "eb79948f",
   "metadata": {},
   "source": [
    "Berikut adalah penjelasan mendetail untuk setiap kolom pada output tersebut:\n",
    "\n",
    "- Pada kolom pertama output tersebut, kita dapat melihat terdapat dua baris yang merepresentasikan koefisien pada garis regresi kita. Nilai `coef` pada **const** merupakan intercept y dan pada **Sales** merupakan nilai slope. Titik ketika garis kita memotong sumbu y adalah sebesar -114.0625 dan derajat kemiringannya sebesar 0.4229. Koefisien derajat kemiringan diestimasi agar jarak vertikal antara titik asli data dan prediksi bernilai minimal.\n",
    "- Kolom kedua yaitu standard error (`std err`) merupakan estimasi standar deviasi dari masing-masing koefisien. Nilai ini mengindikasikan seberapa besar prediksi kita bervariasi pada seluruh sampel. Semakin kecil nilainya, maka dapat dikatakan nilai koefisien kita semakin akurat.\n",
    "- Nilai t-value (`t`) merupakan hasil perhitungan `coef` dibagi dengan `std err`."
   ]
  },
  {
   "cell_type": "code",
   "execution_count": 19,
   "id": "46041b82",
   "metadata": {},
   "outputs": [
    {
     "data": {
      "text/plain": [
       "-3.4959542710025437"
      ]
     },
     "execution_count": 19,
     "metadata": {},
     "output_type": "execute_result"
    }
   ],
   "source": [
    "# t-value pada const\n",
    "-114.0625/32.627"
   ]
  },
  {
   "cell_type": "markdown",
   "id": "16598e3e",
   "metadata": {},
   "source": [
    "- P-value (`P>|t|`) menunjukkan peluang untuk mendapatkan nilai t-value yang nilainya ekstrim. Nilai p-value yang lebih kecil dari 0.05 menunjukkan bahwa prediktor pada baris tersebut secara statistik berpengaruh signifikan terhadap model.\n",
    "- Confidence interval (`[0.025   0.975]`) mewakili rentang di mana koefisien kita kemungkinan besar akan berada (dengan kemungkinan 95%)."
   ]
  },
  {
   "cell_type": "markdown",
   "id": "eff8b959",
   "metadata": {},
   "source": [
    "Alasan kenapa kita sangat peduli terhadap pengujian statistik ini adalah karena dalam pemodelan regresi, kita berusaha menyelidiki apakah ada bukti yang cukup bahwa suatu variabel independent (atau \"variabel prediktor\") berbeda dengan 0. Artinya, kita ingin tahu apakah variabel seperti `Quantity`, `Discount`, dan jumlah `Ship.Mode` memiliki efek terhadap Profit.\n",
    "\n",
    "Menggunakan model regresi, kita ingin melihat apakah variabel-variabel tadi benar-benar mempengaruhi variabel target (Profit) atau apakah perbedaan yang muncul pada Profit hanya disebabkan oleh kebetulan dari random sampling.\n",
    "\n",
    "Hipotesis nol merupakan alasan kita mengamati perbedaan penggunaan bandwidth antar area, misalnya. Hal ini mungkin terjadi akibat kebetulan dari random sampling saja. Artinya jika kita mengambil sample dengan jumlah yang berbeda pada waktu yang berbeda, kita mungkin saja mendapatkan skenario berbeda atau bahkan kontradiktif dengan kondisi saat ini.\n",
    "\n",
    "Jika Anda telah mempelajari statistika inferential, kita ketahui bahwa *rule of thumb* untuk menolak hipotesis nol (H0) dan mendukung hipotesis alternatif (H1) memiliki threshold 0.05. \n",
    "\n",
    "*__Note__: Apabila Anda tertarik dengan konsep statistik di atas secara lebih mendalam, kami merekomendasikan sebuah copy buku PDF berjudul [The Elements of Statistical Learning: Data Mining, Inference, and Prediction](https://web.stanford.edu/~hastie/ElemStatLearn/download.html)*"
   ]
  },
  {
   "cell_type": "markdown",
   "id": "746c7f12",
   "metadata": {},
   "source": [
    "## R-Squared\n",
    "\n",
    "Sekarang, mari kita kembali melihat output `summary()` dari model kita."
   ]
  },
  {
   "cell_type": "code",
   "execution_count": 20,
   "id": "918e9ad8",
   "metadata": {},
   "outputs": [
    {
     "data": {
      "text/html": [
       "<table class=\"simpletable\">\n",
       "<caption>OLS Regression Results</caption>\n",
       "<tr>\n",
       "  <th>Dep. Variable:</th>         <td>Profit</td>      <th>  R-squared:         </th> <td>   0.883</td>\n",
       "</tr>\n",
       "<tr>\n",
       "  <th>Model:</th>                   <td>OLS</td>       <th>  Adj. R-squared:    </th> <td>   0.881</td>\n",
       "</tr>\n",
       "<tr>\n",
       "  <th>Method:</th>             <td>Least Squares</td>  <th>  F-statistic:       </th> <td>   452.0</td>\n",
       "</tr>\n",
       "<tr>\n",
       "  <th>Date:</th>             <td>Thu, 21 Dec 2023</td> <th>  Prob (F-statistic):</th> <td>1.27e-29</td>\n",
       "</tr>\n",
       "<tr>\n",
       "  <th>Time:</th>                 <td>18:01:02</td>     <th>  Log-Likelihood:    </th> <td> -397.68</td>\n",
       "</tr>\n",
       "<tr>\n",
       "  <th>No. Observations:</th>      <td>    62</td>      <th>  AIC:               </th> <td>   799.4</td>\n",
       "</tr>\n",
       "<tr>\n",
       "  <th>Df Residuals:</th>          <td>    60</td>      <th>  BIC:               </th> <td>   803.6</td>\n",
       "</tr>\n",
       "<tr>\n",
       "  <th>Df Model:</th>              <td>     1</td>      <th>                     </th>     <td> </td>   \n",
       "</tr>\n",
       "<tr>\n",
       "  <th>Covariance Type:</th>      <td>nonrobust</td>    <th>                     </th>     <td> </td>   \n",
       "</tr>\n",
       "</table>\n",
       "<table class=\"simpletable\">\n",
       "<tr>\n",
       "    <td></td>       <th>coef</th>     <th>std err</th>      <th>t</th>      <th>P>|t|</th>  <th>[0.025</th>    <th>0.975]</th>  \n",
       "</tr>\n",
       "<tr>\n",
       "  <th>const</th> <td> -114.0625</td> <td>   32.627</td> <td>   -3.496</td> <td> 0.001</td> <td> -179.327</td> <td>  -48.798</td>\n",
       "</tr>\n",
       "<tr>\n",
       "  <th>Sales</th> <td>    0.4229</td> <td>    0.020</td> <td>   21.260</td> <td> 0.000</td> <td>    0.383</td> <td>    0.463</td>\n",
       "</tr>\n",
       "</table>\n",
       "<table class=\"simpletable\">\n",
       "<tr>\n",
       "  <th>Omnibus:</th>       <td> 2.345</td> <th>  Durbin-Watson:     </th> <td>   2.295</td>\n",
       "</tr>\n",
       "<tr>\n",
       "  <th>Prob(Omnibus):</th> <td> 0.310</td> <th>  Jarque-Bera (JB):  </th> <td>   1.652</td>\n",
       "</tr>\n",
       "<tr>\n",
       "  <th>Skew:</th>          <td>-0.380</td> <th>  Prob(JB):          </th> <td>   0.438</td>\n",
       "</tr>\n",
       "<tr>\n",
       "  <th>Kurtosis:</th>      <td> 3.250</td> <th>  Cond. No.          </th> <td>2.81e+03</td>\n",
       "</tr>\n",
       "</table><br/><br/>Notes:<br/>[1] Standard Errors assume that the covariance matrix of the errors is correctly specified.<br/>[2] The condition number is large, 2.81e+03. This might indicate that there are<br/>strong multicollinearity or other numerical problems."
      ],
      "text/latex": [
       "\\begin{center}\n",
       "\\begin{tabular}{lclc}\n",
       "\\toprule\n",
       "\\textbf{Dep. Variable:}    &      Profit      & \\textbf{  R-squared:         } &     0.883   \\\\\n",
       "\\textbf{Model:}            &       OLS        & \\textbf{  Adj. R-squared:    } &     0.881   \\\\\n",
       "\\textbf{Method:}           &  Least Squares   & \\textbf{  F-statistic:       } &     452.0   \\\\\n",
       "\\textbf{Date:}             & Thu, 21 Dec 2023 & \\textbf{  Prob (F-statistic):} &  1.27e-29   \\\\\n",
       "\\textbf{Time:}             &     18:01:02     & \\textbf{  Log-Likelihood:    } &   -397.68   \\\\\n",
       "\\textbf{No. Observations:} &          62      & \\textbf{  AIC:               } &     799.4   \\\\\n",
       "\\textbf{Df Residuals:}     &          60      & \\textbf{  BIC:               } &     803.6   \\\\\n",
       "\\textbf{Df Model:}         &           1      & \\textbf{                     } &             \\\\\n",
       "\\textbf{Covariance Type:}  &    nonrobust     & \\textbf{                     } &             \\\\\n",
       "\\bottomrule\n",
       "\\end{tabular}\n",
       "\\begin{tabular}{lcccccc}\n",
       "               & \\textbf{coef} & \\textbf{std err} & \\textbf{t} & \\textbf{P$> |$t$|$} & \\textbf{[0.025} & \\textbf{0.975]}  \\\\\n",
       "\\midrule\n",
       "\\textbf{const} &    -114.0625  &       32.627     &    -3.496  &         0.001        &     -179.327    &      -48.798     \\\\\n",
       "\\textbf{Sales} &       0.4229  &        0.020     &    21.260  &         0.000        &        0.383    &        0.463     \\\\\n",
       "\\bottomrule\n",
       "\\end{tabular}\n",
       "\\begin{tabular}{lclc}\n",
       "\\textbf{Omnibus:}       &  2.345 & \\textbf{  Durbin-Watson:     } &    2.295  \\\\\n",
       "\\textbf{Prob(Omnibus):} &  0.310 & \\textbf{  Jarque-Bera (JB):  } &    1.652  \\\\\n",
       "\\textbf{Skew:}          & -0.380 & \\textbf{  Prob(JB):          } &    0.438  \\\\\n",
       "\\textbf{Kurtosis:}      &  3.250 & \\textbf{  Cond. No.          } & 2.81e+03  \\\\\n",
       "\\bottomrule\n",
       "\\end{tabular}\n",
       "%\\caption{OLS Regression Results}\n",
       "\\end{center}\n",
       "\n",
       "Notes: \\newline\n",
       " [1] Standard Errors assume that the covariance matrix of the errors is correctly specified. \\newline\n",
       " [2] The condition number is large, 2.81e+03. This might indicate that there are \\newline\n",
       " strong multicollinearity or other numerical problems."
      ],
      "text/plain": [
       "<class 'statsmodels.iolib.summary.Summary'>\n",
       "\"\"\"\n",
       "                            OLS Regression Results                            \n",
       "==============================================================================\n",
       "Dep. Variable:                 Profit   R-squared:                       0.883\n",
       "Model:                            OLS   Adj. R-squared:                  0.881\n",
       "Method:                 Least Squares   F-statistic:                     452.0\n",
       "Date:                Thu, 21 Dec 2023   Prob (F-statistic):           1.27e-29\n",
       "Time:                        18:01:02   Log-Likelihood:                -397.68\n",
       "No. Observations:                  62   AIC:                             799.4\n",
       "Df Residuals:                      60   BIC:                             803.6\n",
       "Df Model:                           1                                         \n",
       "Covariance Type:            nonrobust                                         \n",
       "==============================================================================\n",
       "                 coef    std err          t      P>|t|      [0.025      0.975]\n",
       "------------------------------------------------------------------------------\n",
       "const       -114.0625     32.627     -3.496      0.001    -179.327     -48.798\n",
       "Sales          0.4229      0.020     21.260      0.000       0.383       0.463\n",
       "==============================================================================\n",
       "Omnibus:                        2.345   Durbin-Watson:                   2.295\n",
       "Prob(Omnibus):                  0.310   Jarque-Bera (JB):                1.652\n",
       "Skew:                          -0.380   Prob(JB):                        0.438\n",
       "Kurtosis:                       3.250   Cond. No.                     2.81e+03\n",
       "==============================================================================\n",
       "\n",
       "Notes:\n",
       "[1] Standard Errors assume that the covariance matrix of the errors is correctly specified.\n",
       "[2] The condition number is large, 2.81e+03. This might indicate that there are\n",
       "strong multicollinearity or other numerical problems.\n",
       "\"\"\""
      ]
     },
     "execution_count": 20,
     "metadata": {},
     "output_type": "execute_result"
    }
   ],
   "source": [
    "lm_simple.summary()"
   ]
  },
  {
   "cell_type": "markdown",
   "id": "67efaa6d",
   "metadata": {},
   "source": [
    "Perhatikan pada bagian kanan atas, Anda dapat melihat sebuah informasi bernama **R-squared**. R-squared didefinisikan sebagai persentase dari varians total yang dijelaskan oleh hubungan linear dengan prediktor (variansi regresi / variansi total):\n",
    "\n",
    "$$R^2=1- \\frac {∑ \\limits_{i=1}^n (Y_i−\\hat Y)^2}{∑ \\limits_{i=1}^n(Y_i−\\bar Y)^2}$$\n",
    "\n",
    "Dengan kata lain, R-squared dapat dianggap sebagai suatu nilai yang merepresentasikan total variansi data yang diwakili oleh model. Dalam kasus ini, nilai r-squared adalah persentase dari variasi Profit yang dijelaskan oleh hubungan regresi linear dengan Sales. Karena merupakan nilai persentase, artinya nilai R-squared berada di antara 0 dan 1.\n",
    "\n",
    "Karena R-squared merupakan pengukuran statistik seberapa dekat data ke garis yang di-fit, kita ingin agar model kita memiliki nilai R-squared setinggi mungkin. Artinya model telah mempelajari data dengan baik (walaupun tidak selalu terjadi, tapi hal ini akan dibahas nanti). Kita juga dapat mengambil informasi R-squared dengan mengakses attribute `rsquared` pada model."
   ]
  },
  {
   "cell_type": "code",
   "execution_count": 21,
   "id": "b41acd99",
   "metadata": {},
   "outputs": [
    {
     "data": {
      "text/plain": [
       "0.8828077388598752"
      ]
     },
     "execution_count": 21,
     "metadata": {},
     "output_type": "execute_result"
    }
   ],
   "source": [
    "lm_simple.rsquared"
   ]
  },
  {
   "cell_type": "markdown",
   "id": "5e5f4269-4be9-4f38-94c2-9a8b2ba1bc12",
   "metadata": {},
   "source": [
    "## [Additional] Leverage vs. Influence\n",
    "\n",
    "Pada kebanyakan kasus, kita akan berhadapan dengan kondisi data yang memiliki nilai ekstrim atau outliers. Pada data kita kali ini kita akan meninjau kolom `Sales`:"
   ]
  },
  {
   "cell_type": "code",
   "execution_count": 22,
   "id": "085a0dd7-9a2c-4f46-b8b8-9e6d6a5718c7",
   "metadata": {},
   "outputs": [
    {
     "data": {
      "image/png": "[encoded data removed]",
      "text/plain": [
       "<Figure size 640x480 with 1 Axes>"
      ]
     },
     "metadata": {},
     "output_type": "display_data"
    }
   ],
   "source": [
    "copiers = pd.read_csv('data_input/copiers.csv')\n",
    "copiers['Sales'].hist();"
   ]
  },
  {
   "cell_type": "markdown",
   "id": "4394fc4e-d015-4933-af90-2d6eb62d28a3",
   "metadata": {},
   "source": [
    "Sekarang, mari kita buat sebuah model regresi linear sederhana untuk memprediksi `Profit` berdasarkan jumlah `Sales` data kita."
   ]
  },
  {
   "cell_type": "code",
   "execution_count": 23,
   "id": "6a3510d8-3486-44c7-a004-a8007cdf294b",
   "metadata": {},
   "outputs": [],
   "source": [
    "X = sm.add_constant(copiers['Sales'])\n",
    "Y = copiers['Profit']\n",
    "\n",
    "lm_outliers = sm.OLS(Y, X).fit()"
   ]
  },
  {
   "cell_type": "markdown",
   "id": "3ba1a701-0e45-44b2-8609-00ac34d28dd9",
   "metadata": {},
   "source": [
    "Sebagai perbandingan, mari kita buat model tanpa outlier dengan mengambil data yang memiliki `Sales` di bawah 4000 (angka kasar yang diambil berdasarkan histogram sebelumnya)."
   ]
  },
  {
   "cell_type": "code",
   "execution_count": 24,
   "id": "820f9356-e4a0-4ac6-b741-7aa4f8802769",
   "metadata": {},
   "outputs": [],
   "source": [
    "copiers_no = copiers[copiers[\"Sales\"] < 4000]\n",
    "\n",
    "X = sm.add_constant(copiers_no['Sales'])\n",
    "Y = copiers_no['Profit']\n",
    "\n",
    "lm_no = sm.OLS(Y, X).fit()"
   ]
  },
  {
   "cell_type": "markdown",
   "id": "f5f22bba-4d93-441b-9375-095e3d75fa20",
   "metadata": {},
   "source": [
    "Agar terlihat lebih jelas, kita akan membuat sebuah plot berdasarkan hasil kedua model di atas, berikut kodenya:"
   ]
  },
  {
   "cell_type": "code",
   "execution_count": 25,
   "id": "cd83dd50-f02c-413f-9317-f0979c1e8d38",
   "metadata": {},
   "outputs": [
    {
     "data": {
      "image/png": "[encoded data removed]",
      "text/plain": [
       "<Figure size 640x480 with 1 Axes>"
      ]
     },
     "metadata": {},
     "output_type": "display_data"
    }
   ],
   "source": [
    "plt.scatter(copiers['Sales'], copiers['Profit'])\n",
    "plt.plot(copiers['Sales'], lm_outliers.fittedvalues, c='purple')\n",
    "plt.plot(copiers_no['Sales'], lm_no.fittedvalues, c='orange')\n",
    "\n",
    "plt.xlabel('Sales')\n",
    "plt.ylabel('Profit')\n",
    "plt.title('Sales vs. Profit');"
   ]
  },
  {
   "cell_type": "markdown",
   "id": "6514cc91-02c1-4154-a0b9-b81f72d8569a",
   "metadata": {},
   "source": [
    "Perhatikan bahwa keberadaan outlier telah memengaruhi garis regresi kita, setidaknya terdapat pergeseran sudut antara garis berwarna ungu dengan garis berwarna jingga. Hal ini tentunya berdampak terhadap persamaan garis yang dibentuk dan kita bisa melihatnya dengan menampilkan kondisi konstanta kita serta R-squared kedua model untuk mengetahui kondisi mana yang lebih baik:"
   ]
  },
  {
   "cell_type": "code",
   "execution_count": 26,
   "id": "02c6760b-341b-4494-93e0-290c4375e835",
   "metadata": {},
   "outputs": [
    {
     "data": {
      "text/html": [
       "<div>\n",
       "<style scoped>\n",
       "    .dataframe tbody tr th:only-of-type {\n",
       "        vertical-align: middle;\n",
       "    }\n",
       "\n",
       "    .dataframe tbody tr th {\n",
       "        vertical-align: top;\n",
       "    }\n",
       "\n",
       "    .dataframe thead th {\n",
       "        text-align: right;\n",
       "    }\n",
       "</style>\n",
       "<table border=\"1\" class=\"dataframe\">\n",
       "  <thead>\n",
       "    <tr style=\"text-align: right;\">\n",
       "      <th></th>\n",
       "      <th>const</th>\n",
       "      <th>Sales slope</th>\n",
       "      <th>r-squared</th>\n",
       "    </tr>\n",
       "    <tr>\n",
       "      <th>condition</th>\n",
       "      <th></th>\n",
       "      <th></th>\n",
       "      <th></th>\n",
       "    </tr>\n",
       "  </thead>\n",
       "  <tbody>\n",
       "    <tr>\n",
       "      <th>outlier</th>\n",
       "      <td>-114.06251</td>\n",
       "      <td>0.42286</td>\n",
       "      <td>0.88281</td>\n",
       "    </tr>\n",
       "    <tr>\n",
       "      <th>without outlier</th>\n",
       "      <td>-83.54810</td>\n",
       "      <td>0.39444</td>\n",
       "      <td>0.85138</td>\n",
       "    </tr>\n",
       "  </tbody>\n",
       "</table>\n",
       "</div>"
      ],
      "text/plain": [
       "                     const  Sales slope  r-squared\n",
       "condition                                         \n",
       "outlier         -114.06251      0.42286    0.88281\n",
       "without outlier  -83.54810      0.39444    0.85138"
      ]
     },
     "execution_count": 26,
     "metadata": {},
     "output_type": "execute_result"
    }
   ],
   "source": [
    "pd.DataFrame(\n",
    "    {\"condition\": [\"outlier\", \"without outlier\"],\n",
    "     \"const\": [lm_outliers.params[0], lm_no.params[0]],\n",
    "     \"Sales slope\": [lm_outliers.params[1], lm_no.params[1]],\n",
    "     \"r-squared\": [lm_outliers.rsquared, lm_no.rsquared]}\n",
    ").set_index(\"condition\")"
   ]
  },
  {
   "cell_type": "markdown",
   "id": "a42c8e38-753f-4a9f-885c-38838dede6c7",
   "metadata": {},
   "source": [
    "Outlier dikatakan memiliki **_high leverage_** jika nilai prediktornya (sumbu x) jauh dari rata-rata nilai prediktor tersebut. Dengan kata lain, jika sebuah nilai jauh dari kumpulan data lainnya, kita dapat menyebut prediktor tersebut memiliki _high leverage_. Keberadaan sebuah _high leverage_ memiliki potensi untuk mempengaruhi koefisien model regresi kita, seperti yang ditunjukkan pada tabel di atas. \n",
    "\n",
    "Katakanlah terdapat sebuah titik outlier yang sesuai dengan garis regresi yang dibentuk berdasarkan data lainnya. Pada kondisi ini dapat dikatakan outlier tersebut memiliki **_low influence_**.\n",
    "\n",
    "Namun jika terdapat titik outlier lain yang memiliki _leverage_ yang sama (nilai x-nya sama jauhnya dari rata-rata pengamatan lainnya) dan menurunkan nilai R-squared secara signifikan serta merubah garis regresi dengan cukup jauh (ditunjukkan dengan perubahan nilai koefisien yang jauh), kita dapat menyebut kondisi ini sebagai **_high influence_**.\n",
    "\n",
    "Apabila outlier yang kita miliki memiliki _low influence_ dan meningkatkan nilai R-squared maka sebaiknya outlier ini tetap digunakan dalam analisis kita. Sementara jika terdapat kondisi _high influence_ maka sebaiknya kita tidak menggunakan outlier pada analisis regresi kita.\n",
    "\n",
    "Berdasarkan kedua kondisi di atas, tugas kitalah untuk mengidentifikasi kapan model regresi kita dipengaruhi oleh outlier yang secara buruk maupun baik. Kondisi ini dapat mengubah kemiringan garis yang dibentuk dan membuat analisis kita menjadi tidak berlaku."
   ]
  },
  {
   "cell_type": "markdown",
   "id": "151bdb7a",
   "metadata": {},
   "source": [
    "# Multiple Linear Regression\n",
    "\n",
    "Pada kasus sebelumnya, kita telah melakukan prediksi nilai y dengan input satu buah variabel x. Ingat kembali bahwa pada kasus tersebut y adalah `Profit` dan x adalah `Sales`. Model regresi ternyata tidak hanya bisa dibangun dari satu variabel prediktor saja, melainkan bisa memiliki banyak prediktor atau biasa disebut Multiple/Multivariate Linear Regression.\n",
    "\n",
    "Kita akan menggunakan data lain yaitu `crime.csv` pada kasus ini. Data ini merupakan data yang digunakan kriminologis untuk mempelajari tingkat kriminalitas berdasarkan berbagai macam faktor. Kita akan membaca data dan mengganti nama-nama kolomnya agar lebih jelas."
   ]
  },
  {
   "cell_type": "code",
   "execution_count": 27,
   "id": "f5a3a180",
   "metadata": {},
   "outputs": [
    {
     "data": {
      "text/html": [
       "<div>\n",
       "<style scoped>\n",
       "    .dataframe tbody tr th:only-of-type {\n",
       "        vertical-align: middle;\n",
       "    }\n",
       "\n",
       "    .dataframe tbody tr th {\n",
       "        vertical-align: top;\n",
       "    }\n",
       "\n",
       "    .dataframe thead th {\n",
       "        text-align: right;\n",
       "    }\n",
       "</style>\n",
       "<table border=\"1\" class=\"dataframe\">\n",
       "  <thead>\n",
       "    <tr style=\"text-align: right;\">\n",
       "      <th></th>\n",
       "      <th>percent_m</th>\n",
       "      <th>is_south</th>\n",
       "      <th>mean_education</th>\n",
       "      <th>police_exp60</th>\n",
       "      <th>police_exp59</th>\n",
       "      <th>labour_participation</th>\n",
       "      <th>m_per1000f</th>\n",
       "      <th>state_pop</th>\n",
       "      <th>nonwhites_per1000</th>\n",
       "      <th>unemploy_m24</th>\n",
       "      <th>unemploy_m39</th>\n",
       "      <th>gdp</th>\n",
       "      <th>inequality</th>\n",
       "      <th>prob_prison</th>\n",
       "      <th>time_prison</th>\n",
       "      <th>crime_rate</th>\n",
       "    </tr>\n",
       "  </thead>\n",
       "  <tbody>\n",
       "    <tr>\n",
       "      <th>1</th>\n",
       "      <td>151</td>\n",
       "      <td>1</td>\n",
       "      <td>91</td>\n",
       "      <td>58</td>\n",
       "      <td>56</td>\n",
       "      <td>510</td>\n",
       "      <td>950</td>\n",
       "      <td>33</td>\n",
       "      <td>301</td>\n",
       "      <td>108</td>\n",
       "      <td>41</td>\n",
       "      <td>394</td>\n",
       "      <td>261</td>\n",
       "      <td>0.08460</td>\n",
       "      <td>26.20110</td>\n",
       "      <td>791</td>\n",
       "    </tr>\n",
       "    <tr>\n",
       "      <th>2</th>\n",
       "      <td>143</td>\n",
       "      <td>0</td>\n",
       "      <td>113</td>\n",
       "      <td>103</td>\n",
       "      <td>95</td>\n",
       "      <td>583</td>\n",
       "      <td>1012</td>\n",
       "      <td>13</td>\n",
       "      <td>102</td>\n",
       "      <td>96</td>\n",
       "      <td>36</td>\n",
       "      <td>557</td>\n",
       "      <td>194</td>\n",
       "      <td>0.02960</td>\n",
       "      <td>25.29990</td>\n",
       "      <td>1635</td>\n",
       "    </tr>\n",
       "    <tr>\n",
       "      <th>3</th>\n",
       "      <td>142</td>\n",
       "      <td>1</td>\n",
       "      <td>89</td>\n",
       "      <td>45</td>\n",
       "      <td>44</td>\n",
       "      <td>533</td>\n",
       "      <td>969</td>\n",
       "      <td>18</td>\n",
       "      <td>219</td>\n",
       "      <td>94</td>\n",
       "      <td>33</td>\n",
       "      <td>318</td>\n",
       "      <td>250</td>\n",
       "      <td>0.08340</td>\n",
       "      <td>24.30060</td>\n",
       "      <td>578</td>\n",
       "    </tr>\n",
       "    <tr>\n",
       "      <th>4</th>\n",
       "      <td>136</td>\n",
       "      <td>0</td>\n",
       "      <td>121</td>\n",
       "      <td>149</td>\n",
       "      <td>141</td>\n",
       "      <td>577</td>\n",
       "      <td>994</td>\n",
       "      <td>157</td>\n",
       "      <td>80</td>\n",
       "      <td>102</td>\n",
       "      <td>39</td>\n",
       "      <td>673</td>\n",
       "      <td>167</td>\n",
       "      <td>0.01580</td>\n",
       "      <td>29.90120</td>\n",
       "      <td>1969</td>\n",
       "    </tr>\n",
       "    <tr>\n",
       "      <th>5</th>\n",
       "      <td>141</td>\n",
       "      <td>0</td>\n",
       "      <td>121</td>\n",
       "      <td>109</td>\n",
       "      <td>101</td>\n",
       "      <td>591</td>\n",
       "      <td>985</td>\n",
       "      <td>18</td>\n",
       "      <td>30</td>\n",
       "      <td>91</td>\n",
       "      <td>20</td>\n",
       "      <td>578</td>\n",
       "      <td>174</td>\n",
       "      <td>0.04140</td>\n",
       "      <td>21.29980</td>\n",
       "      <td>1234</td>\n",
       "    </tr>\n",
       "  </tbody>\n",
       "</table>\n",
       "</div>"
      ],
      "text/plain": [
       "   percent_m  is_south  mean_education  police_exp60  police_exp59  \\\n",
       "1        151         1              91            58            56   \n",
       "2        143         0             113           103            95   \n",
       "3        142         1              89            45            44   \n",
       "4        136         0             121           149           141   \n",
       "5        141         0             121           109           101   \n",
       "\n",
       "   labour_participation  m_per1000f  state_pop  nonwhites_per1000  \\\n",
       "1                   510         950         33                301   \n",
       "2                   583        1012         13                102   \n",
       "3                   533         969         18                219   \n",
       "4                   577         994        157                 80   \n",
       "5                   591         985         18                 30   \n",
       "\n",
       "   unemploy_m24  unemploy_m39  gdp  inequality  prob_prison  time_prison  \\\n",
       "1           108            41  394         261      0.08460     26.20110   \n",
       "2            96            36  557         194      0.02960     25.29990   \n",
       "3            94            33  318         250      0.08340     24.30060   \n",
       "4           102            39  673         167      0.01580     29.90120   \n",
       "5            91            20  578         174      0.04140     21.29980   \n",
       "\n",
       "   crime_rate  \n",
       "1         791  \n",
       "2        1635  \n",
       "3         578  \n",
       "4        1969  \n",
       "5        1234  "
      ]
     },
     "execution_count": 27,
     "metadata": {},
     "output_type": "execute_result"
    }
   ],
   "source": [
    "crime = pd.read_csv(\"data_input/crime.csv\", index_col=0)\n",
    "\n",
    "crime.columns = ['percent_m', 'is_south', 'mean_education', \n",
    "                 'police_exp60', 'police_exp59', 'labour_participation',\n",
    "                 'm_per1000f', 'state_pop', 'nonwhites_per1000', 'unemploy_m24',\n",
    "                 'unemploy_m39', 'gdp', 'inequality', 'prob_prison', 'time_prison',  \n",
    "                 'crime_rate']\n",
    "\n",
    "crime.head()"
   ]
  },
  {
   "cell_type": "markdown",
   "id": "db2435ec",
   "metadata": {},
   "source": [
    "Data ini dikumpulkan pada tahun 1960 dan deskripsi lengkapnya tidak benar-benar tersedia. Kita akan menggunakan deskripsi dari penulis library MASS. Variabel yang ada yaitu:\n",
    "\n",
    "- `percent_m`: percentage of males aged 14-24 \n",
    "- `is_south`: whether it is in a Southern state. 1 for Yes, 0 for No.\n",
    "- `mean_education`: mean years of schooling\n",
    "- `police_exp60`: police expenditure in 1960\n",
    "- `police_exp59`: police expenditure in 1959 - labour_participation: labour force participation rate\n",
    "- `m_per1000f`: number of males per 1000 females\n",
    "- `state_pop`: state population\n",
    "- `nonwhites_per1000`: number of non-whites resident per 1000 people\n",
    "- `unemploy_m24`: unemployment rate of urban males aged 14-24\n",
    "- `unemploy_m39`: unemployment rate of urban males aged 35-39\n",
    "- `gdp`: gross domestic product per head\n",
    "- `inequality`: income inequality\n",
    "- `prob_prison`: probability of imprisonment\n",
    "- `time_prison`: avg time served in prisons\n",
    "- `crime_rate`: crime rate in an unspecified category\n",
    "\n",
    "Pada kasus regresi linear, salah satu cara penentuan variabel yang baik digunakan adalah dengan melihat nilai korelasi antara setiap prediktor dengan target. Mari kita tinjau kondisi korelasi pada data kita."
   ]
  },
  {
   "cell_type": "code",
   "execution_count": 28,
   "id": "1ae8748e",
   "metadata": {},
   "outputs": [
    {
     "data": {
      "text/plain": [
       "crime_rate              1.00000\n",
       "police_exp60            0.68760\n",
       "police_exp59            0.66671\n",
       "gdp                     0.44132\n",
       "state_pop               0.33747\n",
       "mean_education          0.32283\n",
       "m_per1000f              0.21391\n",
       "labour_participation    0.18887\n",
       "unemploy_m39            0.17732\n",
       "time_prison             0.14987\n",
       "nonwhites_per1000       0.03260\n",
       "unemploy_m24           -0.05048\n",
       "percent_m              -0.08947\n",
       "is_south               -0.09064\n",
       "inequality             -0.17902\n",
       "prob_prison            -0.42742\n",
       "Name: crime_rate, dtype: float64"
      ]
     },
     "execution_count": 28,
     "metadata": {},
     "output_type": "execute_result"
    }
   ],
   "source": [
    "crime.corr(numeric_only=True).sort_values(\n",
    "   'crime_rate', ascending=False \n",
    ").loc[:,'crime_rate']"
   ]
  },
  {
   "cell_type": "markdown",
   "id": "08811f66",
   "metadata": {},
   "source": [
    "Pada hasil pengecekan korelasi di atas, dapat kita lihat bahwa nilai korelasi antara police_exp59 dan 60 dengan crime_rate cukup tinggi. Lalu variabel lain yang bisa dikatakan cukup kuat adalah gdp dan prob_prison. Ingat bahwa nilai korelasi dikatakan kuat berdasarkan besarnya. Sementara, tanda negatif atau positif di awal nilai menunjukkan arah korelasinya.\n",
    "\n",
    "Di luar variabel yang disebutkan di atas, mari kita coba gunakan beberapa variabel yang secara logika akan berdampak terhadap crime_rate seperti mean_education dan gdp."
   ]
  },
  {
   "cell_type": "code",
   "execution_count": 29,
   "id": "19083da0",
   "metadata": {},
   "outputs": [
    {
     "data": {
      "text/plain": [
       "const            -15.22189\n",
       "mean_education    -0.14901\n",
       "gdp                1.78165\n",
       "dtype: float64"
      ]
     },
     "execution_count": 29,
     "metadata": {},
     "output_type": "execute_result"
    }
   ],
   "source": [
    "Y = crime['crime_rate']\n",
    "X = sm.add_constant(crime[['mean_education', 'gdp']])\n",
    "\n",
    "lm_logic = sm.OLS(Y, X).fit()\n",
    "lm_logic.params"
   ]
  },
  {
   "cell_type": "markdown",
   "id": "26600d9d",
   "metadata": {},
   "source": [
    "Berdasarkan model multivariate di atas, persamaan regresi yang dibentuk dengan kondisi ketiga variabel berhubungan linear, estimasi penggunaan bandwidth dapat dituliskan sebagai:\n",
    "\n",
    "`Profit = -15.22 - 0.149 * mean_education + 1.78 * gdp`\n",
    "\n",
    "Jika kita memiliki informasi kondisi suatu lokasi dengan mean_education sebesar 100 dan gdp 600, maka estimasi crime_rate kita yaitu:"
   ]
  },
  {
   "cell_type": "code",
   "execution_count": 30,
   "id": "b52b0db7",
   "metadata": {},
   "outputs": [
    {
     "data": {
      "text/plain": [
       "1037.88"
      ]
     },
     "execution_count": 30,
     "metadata": {},
     "output_type": "execute_result"
    }
   ],
   "source": [
    "-15.22 - 0.149 * 100 + 1.78 * 600"
   ]
  },
  {
   "cell_type": "code",
   "execution_count": 31,
   "id": "4abe1ab7",
   "metadata": {},
   "outputs": [
    {
     "data": {
      "text/plain": [
       "array([1038.86656806])"
      ]
     },
     "execution_count": 31,
     "metadata": {},
     "output_type": "execute_result"
    }
   ],
   "source": [
    "lm_logic.predict([1, 100, 600])"
   ]
  },
  {
   "cell_type": "markdown",
   "id": "735fb62e",
   "metadata": {},
   "source": [
    "Berdasarkan informasi yang sudah dipelajari model, jika kita mengetahui kondisi suatu lokasi dengan kriteria di atas maka kita dapatkan estimasi crime_rate sebesar 1038.86."
   ]
  },
  {
   "cell_type": "markdown",
   "id": "b373acbc",
   "metadata": {},
   "source": [
    "## Adjusted R-Squared\n",
    "\n",
    "Penggunaan R-squared pada multivariate linear regression untuk melihat kesesuaian model dapat menyesatkan. Hal ini karena keterbatasan dari metrik R-squared yang nilainya akan selalu meningkat setiap bertambahnya jumlah prediktor. Apabila kita menambahkan variabel yang dengan nilai angka random, maka R-squared tidak akan berkurang. Akibatnya model dengan lebih banyak variabel prediktor mungkin terlihat lebih sesuai walaupun sebenarnya tidak demikian.\n",
    "\n",
    "Kelemahan R-squared tersebut diatasi dengan menggunakan **Adjusted R-squared**. Adjusted R-squared memungkinkan kita untuk membandingkan model regresi data crime dengan 4 variabel dan 3 variabel untuk mencari tahu apakah model 4 variabel mencapai R-squared yang lebih tinggi hanya karena memiliki lebih banyak prediktor atau apakah memang hasilnya lebih sesuai.\n",
    "\n",
    "Kita akan mencobanya dengan contoh berikut ini, yaitu dengan menggunakan tiga model yang prediktornya masing-masing berbeda jumlahnya. Nilai yang akan kita lihat nantinya adalah R-squared dan adjusted R-squared."
   ]
  },
  {
   "cell_type": "code",
   "execution_count": 32,
   "id": "6a1c31af",
   "metadata": {},
   "outputs": [
    {
     "data": {
      "text/html": [
       "<div>\n",
       "<style scoped>\n",
       "    .dataframe tbody tr th:only-of-type {\n",
       "        vertical-align: middle;\n",
       "    }\n",
       "\n",
       "    .dataframe tbody tr th {\n",
       "        vertical-align: top;\n",
       "    }\n",
       "\n",
       "    .dataframe thead th {\n",
       "        text-align: right;\n",
       "    }\n",
       "</style>\n",
       "<table border=\"1\" class=\"dataframe\">\n",
       "  <thead>\n",
       "    <tr style=\"text-align: right;\">\n",
       "      <th></th>\n",
       "      <th>model</th>\n",
       "      <th>r-squared</th>\n",
       "      <th>adj. r-squared</th>\n",
       "    </tr>\n",
       "  </thead>\n",
       "  <tbody>\n",
       "    <tr>\n",
       "      <th>0</th>\n",
       "      <td>model1</td>\n",
       "      <td>0.78145</td>\n",
       "      <td>0.77659</td>\n",
       "    </tr>\n",
       "    <tr>\n",
       "      <th>1</th>\n",
       "      <td>model2</td>\n",
       "      <td>0.81185</td>\n",
       "      <td>0.80330</td>\n",
       "    </tr>\n",
       "    <tr>\n",
       "      <th>2</th>\n",
       "      <td>model3</td>\n",
       "      <td>0.79388</td>\n",
       "      <td>0.77425</td>\n",
       "    </tr>\n",
       "  </tbody>\n",
       "</table>\n",
       "</div>"
      ],
      "text/plain": [
       "    model  r-squared  adj. r-squared\n",
       "0  model1    0.78145         0.77659\n",
       "1  model2    0.81185         0.80330\n",
       "2  model3    0.79388         0.77425"
      ]
     },
     "execution_count": 32,
     "metadata": {},
     "output_type": "execute_result"
    }
   ],
   "source": [
    "Y = crime['inequality']\n",
    "\n",
    "# model 1\n",
    "X_model1 = sm.add_constant(crime['gdp'])\n",
    "model1 = sm.OLS(Y, X_model1).fit()\n",
    "\n",
    "# model 2\n",
    "X_model2 = sm.add_constant(crime[['gdp','mean_education']])\n",
    "model2 = sm.OLS(Y, X_model2).fit()\n",
    "\n",
    "# model 3\n",
    "X_model3 = sm.add_constant(crime[['gdp','labour_participation','m_per1000f','time_prison']])\n",
    "model3 = sm.OLS(Y, X_model3).fit()\n",
    "\n",
    "# compare result\n",
    "pd.DataFrame({\n",
    "    'model': ['model1', 'model2', 'model3'],\n",
    "    'r-squared': [model1.rsquared, model2.rsquared, model3.rsquared],\n",
    "    'adj. r-squared': [model1.rsquared_adj, model2.rsquared_adj, model3.rsquared_adj]\n",
    "})"
   ]
  },
  {
   "cell_type": "markdown",
   "id": "7a2bc50e",
   "metadata": {},
   "source": [
    "`model1` memiliki satu buah variabel prediktor (`gdp`) dan nilai R-squared sebesar 0.78145 (adjusted R-squared of 0.77659). Jika kita menambahkan tiga prediktor lain (`labour_participation`, `m_per1000f`, `time_prison`) yaitu pada `model3`, nilai R-squared model kita meningkat menjadi 0.79388. Katakanlah R-squared mengindikasikan kualitas kesesuaian model, apakah hal ini berarti model3 merupakan model yang lebih baik dari model1? Jawabannya adalah tidak, karena dengan menambahkan tiga buah variabel, nilai adjusted R-squared kita berkurang menjadi 0.77425."
   ]
  },
  {
   "cell_type": "markdown",
   "id": "9df4faf0",
   "metadata": {},
   "source": [
    "Sebagai rangkuman, nilai R-squared menandakan seberapa baik model kita menggambarkan data asli. Nilai ini mengukur sejauh mana varian dalam variabel dependent kita (inequality) dapat dijelaskan oleh variabel independent (gdp, dll). Namun seiring dengan peningkatan jumlah variabel independent yang digunakan, nilai R-squared model kita juga akan meningkat karena gabungan informasi penting serta noise dari seluruh variabel.\n",
    "\n",
    "Di sisi lain, adjusted R-squared nilainya tidak meningkat seperti R-squared karena adanya faktor penyesuaian berdasarkan jumlah variabel prediktor dalam model kita. Nilai ini hanya akan meningkat ketika variabel baru benar-benar menghasilkan prediksi yang lebih baik. Meskipun detail matematis dari rumus adjusted R-squared di luar ranah _course_ ini, kita akan membahas bukti singkat bahwa nilai Adjusted R-squared dikenakan penalti berdasarkan jumlah prediktornya.\n",
    "\n",
    "Berikut ini adalah formula dari perhitungan adjusted R-squared:\n",
    "\n",
    "$$R^2_{adj} = 1-(1-R^2)\\frac{n-1}{n-p-1}$$\n",
    "\n",
    "Pada formula tersebut, diketahui bahwa _n_ adalah jumlah observasi dan _p_ adalah jumlah prediktor. Perhatikan bahwa jika nilai _p_ meningkat maka nilai di bagian pecahan akan menjadi lebih besar dan menurunkan nilai keseluruhan dari adjusted R-squared.\n",
    "\n",
    "Jika penjelasan di atas kurang jelas, kami telah menyediakan kode yang dapat diubah-ubah nilai jumlah prediktornya."
   ]
  },
  {
   "cell_type": "code",
   "execution_count": 33,
   "id": "e74656a4",
   "metadata": {},
   "outputs": [
    {
     "data": {
      "text/plain": [
       "0.7742470048366594"
      ]
     },
     "execution_count": 33,
     "metadata": {},
     "output_type": "execute_result"
    }
   ],
   "source": [
    "# jumlah prediktor\n",
    "no_of_preds = 4\n",
    "\n",
    "# perhitungan adjusted r-squared\n",
    "adjusted_model3 = 1 - (1-model3.rsquared) * (crime.shape[0]-1) / (crime.shape[0]-1-no_of_preds)\n",
    "\n",
    "adjusted_model3"
   ]
  },
  {
   "cell_type": "markdown",
   "id": "273ec737",
   "metadata": {},
   "source": [
    "# Encoding\n",
    "\n",
    "Sampai tahap ini, kita hanya bisa menggunakan variabel bertipe numerik sebagai prediktor pada model kita. Hal ini dikarenakan Python hanya mampu memproses informasi numerik sementara variabel bertipe kategorikal atau _object_ harus melalui tahap _pre-processing_ yang disebut dengan **_Encoding_**.\n",
    "\n",
    "Terdapat beberapa jenis _encoding_ yang dapat digunakan, tetapi pada _course_ ini kita hanya akan mempelajari satu jenis yaitu **_dummy variable encoding_**. _Dummy variable encoding_ adalah metode lanjutan dari jenis encoding lain bernama _one-hot encoding_ yang melakukan transformasi pada variabel kategorikal kita dan mengubahnya menjadi beberapa kolom sesuai jumlah kategori kita dengan informasi biner.\n",
    "\n",
    "Karena informasi dari _one-hot encoding_ ini bersifat redundan (berulang), maka salah satu kolomnya akan dibuang. Inilah yang disebut sebagai **_dummy variable encoding_**. Berikut adalah penggambaran dari penjelasan di atas.\n",
    "\n",
    "![](assets/one_hot-dummy.png)"
   ]
  },
  {
   "cell_type": "markdown",
   "id": "1b0b11f5",
   "metadata": {},
   "source": [
    "Untuk melakukan **_dummy variable encoding_** kita menggunakan fungsi  `.get_dummies()` dari library pandas. Kali ini kita akan kembali menggunakan data copiers kita dengan membuang beberapa variabel yang tidak terlalu penting untuk saat ini."
   ]
  },
  {
   "cell_type": "code",
   "execution_count": 35,
   "id": "0fcab804",
   "metadata": {},
   "outputs": [
    {
     "data": {
      "text/html": [
       "<div>\n",
       "<style scoped>\n",
       "    .dataframe tbody tr th:only-of-type {\n",
       "        vertical-align: middle;\n",
       "    }\n",
       "\n",
       "    .dataframe tbody tr th {\n",
       "        vertical-align: top;\n",
       "    }\n",
       "\n",
       "    .dataframe thead th {\n",
       "        text-align: right;\n",
       "    }\n",
       "</style>\n",
       "<table border=\"1\" class=\"dataframe\">\n",
       "  <thead>\n",
       "    <tr style=\"text-align: right;\">\n",
       "      <th></th>\n",
       "      <th>Sales</th>\n",
       "      <th>Quantity</th>\n",
       "      <th>Discount</th>\n",
       "      <th>Profit</th>\n",
       "      <th>Ship.Mode_Same Day</th>\n",
       "      <th>Ship.Mode_Second Class</th>\n",
       "      <th>Ship.Mode_Standard Class</th>\n",
       "      <th>Segment_Corporate</th>\n",
       "      <th>Segment_Home Office</th>\n",
       "    </tr>\n",
       "  </thead>\n",
       "  <tbody>\n",
       "    <tr>\n",
       "      <th>0</th>\n",
       "      <td>959.98400</td>\n",
       "      <td>2</td>\n",
       "      <td>0.20000</td>\n",
       "      <td>335.99440</td>\n",
       "      <td>0</td>\n",
       "      <td>1</td>\n",
       "      <td>0</td>\n",
       "      <td>0</td>\n",
       "      <td>0</td>\n",
       "    </tr>\n",
       "    <tr>\n",
       "      <th>1</th>\n",
       "      <td>1799.97000</td>\n",
       "      <td>3</td>\n",
       "      <td>0.00000</td>\n",
       "      <td>701.98830</td>\n",
       "      <td>0</td>\n",
       "      <td>1</td>\n",
       "      <td>0</td>\n",
       "      <td>0</td>\n",
       "      <td>0</td>\n",
       "    </tr>\n",
       "    <tr>\n",
       "      <th>2</th>\n",
       "      <td>1199.97600</td>\n",
       "      <td>3</td>\n",
       "      <td>0.20000</td>\n",
       "      <td>434.99130</td>\n",
       "      <td>0</td>\n",
       "      <td>0</td>\n",
       "      <td>1</td>\n",
       "      <td>0</td>\n",
       "      <td>0</td>\n",
       "    </tr>\n",
       "    <tr>\n",
       "      <th>3</th>\n",
       "      <td>2999.95000</td>\n",
       "      <td>5</td>\n",
       "      <td>0.00000</td>\n",
       "      <td>1379.97700</td>\n",
       "      <td>0</td>\n",
       "      <td>0</td>\n",
       "      <td>1</td>\n",
       "      <td>0</td>\n",
       "      <td>1</td>\n",
       "    </tr>\n",
       "    <tr>\n",
       "      <th>4</th>\n",
       "      <td>1199.97600</td>\n",
       "      <td>3</td>\n",
       "      <td>0.20000</td>\n",
       "      <td>434.99130</td>\n",
       "      <td>0</td>\n",
       "      <td>0</td>\n",
       "      <td>1</td>\n",
       "      <td>0</td>\n",
       "      <td>0</td>\n",
       "    </tr>\n",
       "  </tbody>\n",
       "</table>\n",
       "</div>"
      ],
      "text/plain": [
       "       Sales  Quantity  Discount     Profit  Ship.Mode_Same Day  \\\n",
       "0  959.98400         2   0.20000  335.99440                   0   \n",
       "1 1799.97000         3   0.00000  701.98830                   0   \n",
       "2 1199.97600         3   0.20000  434.99130                   0   \n",
       "3 2999.95000         5   0.00000 1379.97700                   0   \n",
       "4 1199.97600         3   0.20000  434.99130                   0   \n",
       "\n",
       "   Ship.Mode_Second Class  Ship.Mode_Standard Class  Segment_Corporate  \\\n",
       "0                       1                         0                  0   \n",
       "1                       1                         0                  0   \n",
       "2                       0                         1                  0   \n",
       "3                       0                         1                  0   \n",
       "4                       0                         1                  0   \n",
       "\n",
       "   Segment_Home Office  \n",
       "0                    0  \n",
       "1                    0  \n",
       "2                    0  \n",
       "3                    1  \n",
       "4                    0  "
      ]
     },
     "execution_count": 35,
     "metadata": {},
     "output_type": "execute_result"
    }
   ],
   "source": [
    "copiers_clean = copiers.drop(columns=[\"Order.ID\", \"Order.Date\", \"Ship.Date\", \n",
    "                                \"Customer.ID\", \"Product.ID\", \"Category\", \n",
    "                                \"Sub.Category\", \"Product.Name\"])\n",
    "cat_var = copiers_clean.select_dtypes(exclude='number').columns.to_list()\n",
    "\n",
    "copiers_enc = pd.get_dummies(copiers_clean, \n",
    "                               columns = cat_var,\n",
    "                               drop_first = True,\n",
    "                               dtype='int64')\n",
    "\n",
    "copiers_enc.head()"
   ]
  },
  {
   "cell_type": "markdown",
   "id": "e9add426",
   "metadata": {},
   "source": [
    "Setelah melalui tahap _encoding_ maka data kita sudah dapat digunakan untuk pembuatan model regresi. Pada kasus selanjutnya kita akan membuat model regresi menggunakan seluruh prediktor yang dimiliki oleh data kita."
   ]
  },
  {
   "cell_type": "code",
   "execution_count": 36,
   "id": "d6d21958",
   "metadata": {},
   "outputs": [
    {
     "data": {
      "text/html": [
       "<table class=\"simpletable\">\n",
       "<caption>OLS Regression Results</caption>\n",
       "<tr>\n",
       "  <th>Dep. Variable:</th>         <td>Profit</td>      <th>  R-squared:         </th> <td>   0.952</td>\n",
       "</tr>\n",
       "<tr>\n",
       "  <th>Model:</th>                   <td>OLS</td>       <th>  Adj. R-squared:    </th> <td>   0.944</td>\n",
       "</tr>\n",
       "<tr>\n",
       "  <th>Method:</th>             <td>Least Squares</td>  <th>  F-statistic:       </th> <td>   130.1</td>\n",
       "</tr>\n",
       "<tr>\n",
       "  <th>Date:</th>             <td>Thu, 21 Dec 2023</td> <th>  Prob (F-statistic):</th> <td>4.85e-32</td>\n",
       "</tr>\n",
       "<tr>\n",
       "  <th>Time:</th>                 <td>18:01:58</td>     <th>  Log-Likelihood:    </th> <td> -370.30</td>\n",
       "</tr>\n",
       "<tr>\n",
       "  <th>No. Observations:</th>      <td>    62</td>      <th>  AIC:               </th> <td>   758.6</td>\n",
       "</tr>\n",
       "<tr>\n",
       "  <th>Df Residuals:</th>          <td>    53</td>      <th>  BIC:               </th> <td>   777.7</td>\n",
       "</tr>\n",
       "<tr>\n",
       "  <th>Df Model:</th>              <td>     8</td>      <th>                     </th>     <td> </td>   \n",
       "</tr>\n",
       "<tr>\n",
       "  <th>Covariance Type:</th>      <td>nonrobust</td>    <th>                     </th>     <td> </td>   \n",
       "</tr>\n",
       "</table>\n",
       "<table class=\"simpletable\">\n",
       "<tr>\n",
       "              <td></td>                <th>coef</th>     <th>std err</th>      <th>t</th>      <th>P>|t|</th>  <th>[0.025</th>    <th>0.975]</th>  \n",
       "</tr>\n",
       "<tr>\n",
       "  <th>const</th>                    <td>   63.4520</td> <td>   55.064</td> <td>    1.152</td> <td> 0.254</td> <td>  -46.992</td> <td>  173.896</td>\n",
       "</tr>\n",
       "<tr>\n",
       "  <th>Sales</th>                    <td>    0.4212</td> <td>    0.025</td> <td>   16.701</td> <td> 0.000</td> <td>    0.371</td> <td>    0.472</td>\n",
       "</tr>\n",
       "<tr>\n",
       "  <th>Quantity</th>                 <td>  -13.4098</td> <td>   13.545</td> <td>   -0.990</td> <td> 0.327</td> <td>  -40.578</td> <td>   13.758</td>\n",
       "</tr>\n",
       "<tr>\n",
       "  <th>Discount</th>                 <td> -874.8310</td> <td>  117.023</td> <td>   -7.476</td> <td> 0.000</td> <td>-1109.550</td> <td> -640.112</td>\n",
       "</tr>\n",
       "<tr>\n",
       "  <th>Ship.Mode_Same Day</th>       <td>    9.1379</td> <td>   57.485</td> <td>    0.159</td> <td> 0.874</td> <td> -106.163</td> <td>  124.439</td>\n",
       "</tr>\n",
       "<tr>\n",
       "  <th>Ship.Mode_Second Class</th>   <td>   42.9716</td> <td>   43.926</td> <td>    0.978</td> <td> 0.332</td> <td>  -45.132</td> <td>  131.075</td>\n",
       "</tr>\n",
       "<tr>\n",
       "  <th>Ship.Mode_Standard Class</th> <td>   13.9212</td> <td>   38.335</td> <td>    0.363</td> <td> 0.718</td> <td>  -62.969</td> <td>   90.812</td>\n",
       "</tr>\n",
       "<tr>\n",
       "  <th>Segment_Corporate</th>        <td>    9.3012</td> <td>   31.294</td> <td>    0.297</td> <td> 0.767</td> <td>  -53.467</td> <td>   72.070</td>\n",
       "</tr>\n",
       "<tr>\n",
       "  <th>Segment_Home Office</th>      <td>  -30.7099</td> <td>   39.860</td> <td>   -0.770</td> <td> 0.444</td> <td> -110.660</td> <td>   49.240</td>\n",
       "</tr>\n",
       "</table>\n",
       "<table class=\"simpletable\">\n",
       "<tr>\n",
       "  <th>Omnibus:</th>       <td> 1.946</td> <th>  Durbin-Watson:     </th> <td>   2.172</td>\n",
       "</tr>\n",
       "<tr>\n",
       "  <th>Prob(Omnibus):</th> <td> 0.378</td> <th>  Jarque-Bera (JB):  </th> <td>   1.192</td>\n",
       "</tr>\n",
       "<tr>\n",
       "  <th>Skew:</th>          <td>-0.271</td> <th>  Prob(JB):          </th> <td>   0.551</td>\n",
       "</tr>\n",
       "<tr>\n",
       "  <th>Kurtosis:</th>      <td> 3.410</td> <th>  Cond. No.          </th> <td>1.55e+04</td>\n",
       "</tr>\n",
       "</table><br/><br/>Notes:<br/>[1] Standard Errors assume that the covariance matrix of the errors is correctly specified.<br/>[2] The condition number is large, 1.55e+04. This might indicate that there are<br/>strong multicollinearity or other numerical problems."
      ],
      "text/latex": [
       "\\begin{center}\n",
       "\\begin{tabular}{lclc}\n",
       "\\toprule\n",
       "\\textbf{Dep. Variable:}            &      Profit      & \\textbf{  R-squared:         } &     0.952   \\\\\n",
       "\\textbf{Model:}                    &       OLS        & \\textbf{  Adj. R-squared:    } &     0.944   \\\\\n",
       "\\textbf{Method:}                   &  Least Squares   & \\textbf{  F-statistic:       } &     130.1   \\\\\n",
       "\\textbf{Date:}                     & Thu, 21 Dec 2023 & \\textbf{  Prob (F-statistic):} &  4.85e-32   \\\\\n",
       "\\textbf{Time:}                     &     18:01:58     & \\textbf{  Log-Likelihood:    } &   -370.30   \\\\\n",
       "\\textbf{No. Observations:}         &          62      & \\textbf{  AIC:               } &     758.6   \\\\\n",
       "\\textbf{Df Residuals:}             &          53      & \\textbf{  BIC:               } &     777.7   \\\\\n",
       "\\textbf{Df Model:}                 &           8      & \\textbf{                     } &             \\\\\n",
       "\\textbf{Covariance Type:}          &    nonrobust     & \\textbf{                     } &             \\\\\n",
       "\\bottomrule\n",
       "\\end{tabular}\n",
       "\\begin{tabular}{lcccccc}\n",
       "                                   & \\textbf{coef} & \\textbf{std err} & \\textbf{t} & \\textbf{P$> |$t$|$} & \\textbf{[0.025} & \\textbf{0.975]}  \\\\\n",
       "\\midrule\n",
       "\\textbf{const}                     &      63.4520  &       55.064     &     1.152  &         0.254        &      -46.992    &      173.896     \\\\\n",
       "\\textbf{Sales}                     &       0.4212  &        0.025     &    16.701  &         0.000        &        0.371    &        0.472     \\\\\n",
       "\\textbf{Quantity}                  &     -13.4098  &       13.545     &    -0.990  &         0.327        &      -40.578    &       13.758     \\\\\n",
       "\\textbf{Discount}                  &    -874.8310  &      117.023     &    -7.476  &         0.000        &    -1109.550    &     -640.112     \\\\\n",
       "\\textbf{Ship.Mode\\_Same Day}       &       9.1379  &       57.485     &     0.159  &         0.874        &     -106.163    &      124.439     \\\\\n",
       "\\textbf{Ship.Mode\\_Second Class}   &      42.9716  &       43.926     &     0.978  &         0.332        &      -45.132    &      131.075     \\\\\n",
       "\\textbf{Ship.Mode\\_Standard Class} &      13.9212  &       38.335     &     0.363  &         0.718        &      -62.969    &       90.812     \\\\\n",
       "\\textbf{Segment\\_Corporate}        &       9.3012  &       31.294     &     0.297  &         0.767        &      -53.467    &       72.070     \\\\\n",
       "\\textbf{Segment\\_Home Office}      &     -30.7099  &       39.860     &    -0.770  &         0.444        &     -110.660    &       49.240     \\\\\n",
       "\\bottomrule\n",
       "\\end{tabular}\n",
       "\\begin{tabular}{lclc}\n",
       "\\textbf{Omnibus:}       &  1.946 & \\textbf{  Durbin-Watson:     } &    2.172  \\\\\n",
       "\\textbf{Prob(Omnibus):} &  0.378 & \\textbf{  Jarque-Bera (JB):  } &    1.192  \\\\\n",
       "\\textbf{Skew:}          & -0.271 & \\textbf{  Prob(JB):          } &    0.551  \\\\\n",
       "\\textbf{Kurtosis:}      &  3.410 & \\textbf{  Cond. No.          } & 1.55e+04  \\\\\n",
       "\\bottomrule\n",
       "\\end{tabular}\n",
       "%\\caption{OLS Regression Results}\n",
       "\\end{center}\n",
       "\n",
       "Notes: \\newline\n",
       " [1] Standard Errors assume that the covariance matrix of the errors is correctly specified. \\newline\n",
       " [2] The condition number is large, 1.55e+04. This might indicate that there are \\newline\n",
       " strong multicollinearity or other numerical problems."
      ],
      "text/plain": [
       "<class 'statsmodels.iolib.summary.Summary'>\n",
       "\"\"\"\n",
       "                            OLS Regression Results                            \n",
       "==============================================================================\n",
       "Dep. Variable:                 Profit   R-squared:                       0.952\n",
       "Model:                            OLS   Adj. R-squared:                  0.944\n",
       "Method:                 Least Squares   F-statistic:                     130.1\n",
       "Date:                Thu, 21 Dec 2023   Prob (F-statistic):           4.85e-32\n",
       "Time:                        18:01:58   Log-Likelihood:                -370.30\n",
       "No. Observations:                  62   AIC:                             758.6\n",
       "Df Residuals:                      53   BIC:                             777.7\n",
       "Df Model:                           8                                         \n",
       "Covariance Type:            nonrobust                                         \n",
       "============================================================================================\n",
       "                               coef    std err          t      P>|t|      [0.025      0.975]\n",
       "--------------------------------------------------------------------------------------------\n",
       "const                       63.4520     55.064      1.152      0.254     -46.992     173.896\n",
       "Sales                        0.4212      0.025     16.701      0.000       0.371       0.472\n",
       "Quantity                   -13.4098     13.545     -0.990      0.327     -40.578      13.758\n",
       "Discount                  -874.8310    117.023     -7.476      0.000   -1109.550    -640.112\n",
       "Ship.Mode_Same Day           9.1379     57.485      0.159      0.874    -106.163     124.439\n",
       "Ship.Mode_Second Class      42.9716     43.926      0.978      0.332     -45.132     131.075\n",
       "Ship.Mode_Standard Class    13.9212     38.335      0.363      0.718     -62.969      90.812\n",
       "Segment_Corporate            9.3012     31.294      0.297      0.767     -53.467      72.070\n",
       "Segment_Home Office        -30.7099     39.860     -0.770      0.444    -110.660      49.240\n",
       "==============================================================================\n",
       "Omnibus:                        1.946   Durbin-Watson:                   2.172\n",
       "Prob(Omnibus):                  0.378   Jarque-Bera (JB):                1.192\n",
       "Skew:                          -0.271   Prob(JB):                        0.551\n",
       "Kurtosis:                       3.410   Cond. No.                     1.55e+04\n",
       "==============================================================================\n",
       "\n",
       "Notes:\n",
       "[1] Standard Errors assume that the covariance matrix of the errors is correctly specified.\n",
       "[2] The condition number is large, 1.55e+04. This might indicate that there are\n",
       "strong multicollinearity or other numerical problems.\n",
       "\"\"\""
      ]
     },
     "execution_count": 36,
     "metadata": {},
     "output_type": "execute_result"
    }
   ],
   "source": [
    "Y = copiers_enc['Profit']\n",
    "X_enc = sm.add_constant(copiers_enc.drop(columns=['Profit']))\n",
    "\n",
    "lm_all = sm.OLS(Y, X_enc).fit()\n",
    "\n",
    "lm_all.summary()"
   ]
  },
  {
   "cell_type": "markdown",
   "id": "b2a61174",
   "metadata": {},
   "source": [
    "Ingat kembali bahwa kita dapat melakukan interpretasi pada nilai **coef** atau koefisien. Untuk variabel dengan tipe awal numerik, kita dapat menyimpulkan suatu koefisien sebagai berikut:\n",
    "\n",
    "- Profit diekspektasikan **meningkat** sebesar $0.4212$ USD setiap kenaikan `Sales`sebesar $1$ satuan.\n",
    "- Profit diekspektasikan **menurun** sebesar $874.8310$ USD ketika `Discount` yang diberikan naik $1$ tahun.\n",
    "\n",
    "Sementara untuk variabel dengan tipe awal kategorik, kita akan melakukan interpretasi yang berbeda dan ini berhubungan dengan _dummy variable encoding_ yang telah kita lakukan. Ingat kembali bahwa pada _dummy variable encoding_ kita membuang satu buah kategori untuk setiap kolomnya. Kolom yang terbuang ini secara default merupakan kategori dengan huruf alfabet yang paling awal muncul. Contohnya jika terdapat satu variabel dengan kategori High, Normal, dan Low maka kategori yang akan dihilangkan adalah High karena huruf H muncul lebih dahulu dibanding N dan L. \n",
    "\n",
    "Sebagai contoh kasus di data kita, variabel `Gender` memiliki tiga kategori yaitu Female, Male, dan Nonbinary. Kategori yang hilang pada variabel ini adalah Female tetapi informasinya sebenarnya ditangkap oleh koefisien **const**. Oleh karena itu, cara kita menginterpretasikan suatu variabel kategorik adalah dengan membandingkannya dengan kategori yang ditangkap oleh koefisien **const**:\n",
    "\n",
    "- Profit diekspektasikan **meningkat** sebesar $9.3$ USD ketika Segment bertipe `Home Office` dibandingkan dengan Segment bertipe `Consumer` dengan catatan variabel lain bernilai tetap.\n",
    "- Profit diekspektasikan **menurun** sebesar $30.71$ USD ketika Segment bertipe `Corporate` dibandingkan dengan Segment bertipe `Consumer` dengan catatan variabel lain bernilai tetap.\n",
    "- Profit diekspektasikan **meningkat** sebesar $42.97$ USD ketika Ship.Mode bertipe `Second Class` dibandingkan dengan Ship.Mode bertipe `First Class` dengan catatan variabel lain bernilai tetap."
   ]
  },
  {
   "cell_type": "markdown",
   "id": "c5e8a52d",
   "metadata": {},
   "source": [
    "# Regression Model Evaluation\n",
    "\n",
    "Pada beberapa kasus kita akan memilih beberapa model dengan skema yang berbeda, perbedaan yang normal terjadi adalah penggunaan jumlah variabel yang berbeda. Penting bagi kita untuk melakukan evaluasi berbagai performa model tersebut untuk menentukan model dengan kesalahan (_error_) terkecil. Berikut ini beberapa metrik untuk kita menghitung kesalahan/_error_: \n",
    "\n",
    "- [**_Mean Absolute Error_**](https://www.statsmodels.org/dev/generated/statsmodels.tools.eval_measures.meanabs) (MAE): Memperlakukan error dengan lebih ringan.\n",
    "$$MAE = \\frac{1}{N} \\sum_{i=1}^{N} \\left | y_{i} - \\hat{y} \\right |$$\n",
    "\n",
    "- [**_Root Mean Squared Error_**](https://www.statsmodels.org/dev/generated/statsmodels.tools.eval_measures.rmse) (RMSE): Memperlakukan error dengan lebih sensitif. Ketika nilai error besar, maka nilai RMSE akan semakin besar dan sebaliknya.\n",
    "$$RMSE = \\sqrt{\\frac{\\sum_i^{n}(Predicted_i-Actual_i)^2}{n}}$$\n",
    "\n",
    "- [**_Mean Absolute Percentage Error_**](https://scikit-learn.org/stable/modules/generated/sklearn.metrics.mean_absolute_percentage_error) (MAPE): Menunjukan seberapa besar penyimpangan error dalam bentuk persentase.\n",
    "$$MAPE = \\frac{1}{N} \\sum_{i=1}^{N} \\frac {\\left | y_{i} - \\hat{y} \\right |} {y}$$\n",
    "\n",
    "__Note__: RMSE digunakan ketika model yang dibuat memuat observasi outlier. Sedangkan, MAE digunakan ketika model yang dibuat tidak memuat observasi outlier. MAPE adalah metrik yang baik untuk interpretasi karena mudah dipahami. Ketiganya bisa diinterpretasikan dan metrik paling aman digunakan jika kita mengerti formula perhitungannya adalah RMSE.\n",
    "\n",
    "Pada kasus ini, kita akan meninjau model kita berdasarkan nilai RMSE-nya. Library `statsmodels` memiliki fungsi `rmse` yang dapat digunakan untuk menghitung nilai RMSE:"
   ]
  },
  {
   "cell_type": "code",
   "execution_count": 39,
   "id": "3d3f04d0",
   "metadata": {},
   "outputs": [
    {
     "data": {
      "text/html": [
       "<div>\n",
       "<style scoped>\n",
       "    .dataframe tbody tr th:only-of-type {\n",
       "        vertical-align: middle;\n",
       "    }\n",
       "\n",
       "    .dataframe tbody tr th {\n",
       "        vertical-align: top;\n",
       "    }\n",
       "\n",
       "    .dataframe thead th {\n",
       "        text-align: right;\n",
       "    }\n",
       "</style>\n",
       "<table border=\"1\" class=\"dataframe\">\n",
       "  <thead>\n",
       "    <tr style=\"text-align: right;\">\n",
       "      <th></th>\n",
       "      <th>RMSE</th>\n",
       "    </tr>\n",
       "  </thead>\n",
       "  <tbody>\n",
       "    <tr>\n",
       "      <th>Model 1</th>\n",
       "      <td>147.69971</td>\n",
       "    </tr>\n",
       "    <tr>\n",
       "      <th>Model 2</th>\n",
       "      <td>94.97767</td>\n",
       "    </tr>\n",
       "  </tbody>\n",
       "</table>\n",
       "</div>"
      ],
      "text/plain": [
       "             RMSE\n",
       "Model 1 147.69971\n",
       "Model 2  94.97767"
      ]
     },
     "execution_count": 39,
     "metadata": {},
     "output_type": "execute_result"
    }
   ],
   "source": [
    "from statsmodels.tools.eval_measures import rmse\n",
    "\n",
    "# predict data with different models\n",
    "y_simple = lm_simple.predict(X_simple)\n",
    "y_all = lm_all.predict(X_enc)\n",
    "\n",
    "# compare the rmse\n",
    "pd.DataFrame({'RMSE': [rmse(Y, y_simple), rmse(Y, y_all)]},\n",
    "             index= ['Model 1', 'Model 2'])"
   ]
  },
  {
   "cell_type": "markdown",
   "id": "970b2b06",
   "metadata": {},
   "source": [
    "#  Limitations of Regression Models\n",
    "\n",
    "Walaupun model regresi linear merupakan metode yang sangat _powerful_ untuk menyelesaikan berbagai masalah data science, metode ini masih memiliki batasan secara statistik.\n",
    "\n",
    "- Regresi linear baik untuk data yang memiliki hubungan linear antara prediktor dengan target.\n",
    "- Model regresi simple/multiple mungkin sensitif terhadap data outliers.\n",
    "- Model regresi simple/multiple mengasumsikan bahwa variabel prediktor tidak berkorelasi tinggi satu sama lain\n",
    "\n",
    "Oleh karena batasan tersebut, ketika membuat prediksi variabel target menggunakan regresi linear **kita harus memenuhi beberapa asumsi sebagai syarat agar model regresi yang kita tepat secara statistik**. Beberapa asumsi yang harus dipenuhi dalam model regresi linear adalah:\n",
    "\n",
    "1. _Linear prediction variables for target variables_\n",
    "2. _Normality of residuals_\n",
    "3. _Residuals have no heteroscedasticity_\n",
    "4. _Little to no multicollinearity_"
   ]
  },
  {
   "cell_type": "markdown",
   "id": "0cc58256",
   "metadata": {},
   "source": [
    "## Linearity\n",
    "\n",
    "**Dilakukan sebelum membuat model**. Untuk menguji apakah variabel target dan prediktor memiliki hubungan linear. Dapat dilihat dengan nilai **korelasi**. \n",
    "\n",
    "_Linearity_ artinya target variabel dengan prediktornya memiliki hubungan yang linear atau hubungannya bersifat garis lurus. Selain itu, efek atau nilai koefisien antar variabel bersifat additive. Jika _linearity_ ini tidak terpenuhi, maka otomatis semua nilai koefisien yang kita dapatkan tidak valid karena model berasumsi bahwa pola yang akan kita buat adalah linear."
   ]
  },
  {
   "cell_type": "markdown",
   "id": "827bb32f",
   "metadata": {},
   "source": [
    "## Normality of Residuals\n",
    "\n",
    "Ingat kembali bahwa kita akan selalu melihat perbedaan antara data target asli dengan hasil prediksi/_fitted values_ kita. Perbedaan ini sudah dibahas di atas dengan sebutan _error_ atau nama lainnya adalah residual. Asumsi _normality_ menyebutkan bahwa residual dari model regresi linear sebaiknya berdistribusi normal. Artinya residual banyak berkumpul di sekitar angka 0. Untuk mengecek apakah residual model kita berdistribusi normal terdapat beberapa uji statistik, salah satunya adalah Shapiro-Wilk test. Pengujian statistik ini memiliki uji hipotesis sebagai berikut:\n",
    "\n",
    "- $H_0$: Residual berdistribusi normal\n",
    "- $H_1$: Residual tidak berdistribusi normal\n",
    "\n",
    "Dalam melakukan pengujiannya kita akan dibantu library `scipy` dan memanfaatkan fungsi `shapiro()`. Untuk memanfaatkan fungsi tersebut, kita akan mengeluarkan nilai residu dari model yang sudah dibuat dengan menambahkan `.resid` pada objek model yang dibuat."
   ]
  },
  {
   "cell_type": "code",
   "execution_count": 40,
   "id": "047f675c",
   "metadata": {},
   "outputs": [
    {
     "data": {
      "text/html": [
       "<div>\n",
       "<style scoped>\n",
       "    .dataframe tbody tr th:only-of-type {\n",
       "        vertical-align: middle;\n",
       "    }\n",
       "\n",
       "    .dataframe tbody tr th {\n",
       "        vertical-align: top;\n",
       "    }\n",
       "\n",
       "    .dataframe thead th {\n",
       "        text-align: right;\n",
       "    }\n",
       "</style>\n",
       "<table border=\"1\" class=\"dataframe\">\n",
       "  <thead>\n",
       "    <tr style=\"text-align: right;\">\n",
       "      <th></th>\n",
       "      <th>statistic</th>\n",
       "      <th>pvalue</th>\n",
       "    </tr>\n",
       "  </thead>\n",
       "  <tbody>\n",
       "    <tr>\n",
       "      <th>0</th>\n",
       "      <td>0.98628</td>\n",
       "      <td>0.71771</td>\n",
       "    </tr>\n",
       "  </tbody>\n",
       "</table>\n",
       "</div>"
      ],
      "text/plain": [
       "   statistic  pvalue\n",
       "0    0.98628 0.71771"
      ]
     },
     "execution_count": 40,
     "metadata": {},
     "output_type": "execute_result"
    }
   ],
   "source": [
    "from scipy.stats import shapiro\n",
    "\n",
    "name = {0: 'Statistics',1: 'p-value'}\n",
    "pd.DataFrame({shapiro(lm_all.resid)}).rename(columns=name)"
   ]
  },
  {
   "cell_type": "markdown",
   "id": "56d566db",
   "metadata": {},
   "source": [
    "Pada uji statistik ini nilai yang perlu kita perhatikan adalah p-value sehingga dan nilai yang kita harapkan adalah p-value lebih besar dari alpha (0.05). Ketika kita mendapatkan nilai p-value > 0.05 maka uji hipotesis kita akan gagal menolak H0.\n",
    "\n",
    "Berdasarkan hasil dari Shapiro-Wilk test kita didapatkan nilai p-value > 0.05 artinya kita gagal tolak H0 yang menandakan residual model kita berdistribusi normal.\n",
    "\n",
    "Tetapi, terdapat sebuah catatan dari dokumentasi official fungsi ini yaitu jika data kita berjumlah lebih dari 5000 nilai statistik yang dihasilkan masih akurat tetapi tidak dengan nilai p-valuenya.\n",
    "\n",
    "Oleh karena itu, kita harus sadar akan keterbatasan metode ini dan menggunakan metode tambahan untuk memverifikasi hasil kita, seperti memeriksa distribusi data secara visual."
   ]
  },
  {
   "cell_type": "code",
   "execution_count": 41,
   "id": "137ae04d",
   "metadata": {},
   "outputs": [
    {
     "data": {
      "image/png": "[encoded data removed]",
      "text/plain": [
       "<Figure size 640x480 with 1 Axes>"
      ]
     },
     "metadata": {},
     "output_type": "display_data"
    }
   ],
   "source": [
    "lm_all.resid.hist();"
   ]
  },
  {
   "cell_type": "markdown",
   "id": "263dc24f",
   "metadata": {},
   "source": [
    "### [Optional] Interpret the Residual Normality Indicators from `sm` results\n",
    "\n",
    "Selain menggunakan Shapiro-Wilk test kita dapat juga melihat summary model untuk melihat normalitas dari residual data kita, yaitu dengan meninjau:\n",
    "\n",
    "- **Omnibus/Prob(Omnibus)** - Tes skewness dan kurtosis dari residual. Nilai yang mendekati 0 menunjukkan normalitas. Prob (Omnibus) melakukan uji statistik pada probabilitas residual yang terdistribusi normal. Nilai yang mendekati 1 menunjukkan probabilitas bahwa residual berdistribusi normal.\n",
    "\n",
    "- **Skew** – Mengukur kesimetrian data. Nilai yang mendekati 0 menunjukkan residual berdistribusi normal.\n",
    "\n",
    "- **Jarque-Bera/Prob(JB)** – \n",
    "Nilar 6 atau lebii menunjukkan bahwaresidualn tidakbterdistribusi normal dan hipotesis nol normalitas telah ditolak pada tingkat signifikansi 5 (alpha 0.05)%. Nilai yang mendekati 0 menunjukkan bahwa data terdistribusi normal.\n"
   ]
  },
  {
   "cell_type": "code",
   "execution_count": 42,
   "id": "9791457d",
   "metadata": {},
   "outputs": [
    {
     "data": {
      "text/html": [
       "<table class=\"simpletable\">\n",
       "<tr>\n",
       "  <th>Omnibus:</th>       <td> 1.946</td> <th>  Durbin-Watson:     </th> <td>   2.172</td>\n",
       "</tr>\n",
       "<tr>\n",
       "  <th>Prob(Omnibus):</th> <td> 0.378</td> <th>  Jarque-Bera (JB):  </th> <td>   1.192</td>\n",
       "</tr>\n",
       "<tr>\n",
       "  <th>Skew:</th>          <td>-0.271</td> <th>  Prob(JB):          </th> <td>   0.551</td>\n",
       "</tr>\n",
       "<tr>\n",
       "  <th>Kurtosis:</th>      <td> 3.410</td> <th>  Cond. No.          </th> <td>1.55e+04</td>\n",
       "</tr>\n",
       "</table>"
      ],
      "text/latex": [
       "\\begin{center}\n",
       "\\begin{tabular}{lclc}\n",
       "\\toprule\n",
       "\\textbf{Omnibus:}       &  1.946 & \\textbf{  Durbin-Watson:     } &    2.172  \\\\\n",
       "\\textbf{Prob(Omnibus):} &  0.378 & \\textbf{  Jarque-Bera (JB):  } &    1.192  \\\\\n",
       "\\textbf{Skew:}          & -0.271 & \\textbf{  Prob(JB):          } &    0.551  \\\\\n",
       "\\textbf{Kurtosis:}      &  3.410 & \\textbf{  Cond. No.          } & 1.55e+04  \\\\\n",
       "\\bottomrule\n",
       "\\end{tabular}\n",
       "\\end{center}"
      ],
      "text/plain": [
       "<class 'statsmodels.iolib.table.SimpleTable'>"
      ]
     },
     "execution_count": 42,
     "metadata": {},
     "output_type": "execute_result"
    }
   ],
   "source": [
    "lm_all.summary().tables[2]"
   ]
  },
  {
   "cell_type": "markdown",
   "id": "cd855868",
   "metadata": {},
   "source": [
    "## No-Heteroscedasticity\n",
    "\n",
    "Selain harus berdistribusi normal, residual kita juga harus bersifat homogen yang artinya tersebar tanpa pola. Jika data residual kita tidak membentuk pola, artinya model regresi linear kita sudah cukup menjelaskan data kita.\n",
    "\n",
    "Plot residual adalah sebuah plot yang menampilkan nilai residual pada sumbu y dan nilai _fitted values_ pada sumbu x. Pada plot tersebut kita dapat melihat apakah terdapat pola yang mengindikasikan pelanggaran pada asumsi model kita dan berpengaruh pada nilai standar error pada estimasi/koefisien prediktor.\n",
    "\n",
    "Plot yang diharapkan adalah plot yang memiliki titik-titik data yang menyebar secara acak di sekitar sumbu x. Hal ini tidak berarti model kita sempurna, tetapi model regresi yang kita pakai secara tepat menggambarkan variasi dalam variabel prediktor kita. Apabila nantinya terdapat pola tertentu maka model ini sebaiknya diperbaiki atau bisa dikatakan tidak memenuhi hubungan linear prediktor dengan target."
   ]
  },
  {
   "cell_type": "code",
   "execution_count": 43,
   "id": "f0d26c78",
   "metadata": {},
   "outputs": [
    {
     "data": {
      "image/png": "[encoded data removed]",
      "text/plain": [
       "<Figure size 640x480 with 1 Axes>"
      ]
     },
     "metadata": {},
     "output_type": "display_data"
    }
   ],
   "source": [
    "plt.scatter(x = copiers['Profit'], y = lm_all.resid);\n",
    "plt.axhline(y=0, color='r', linestyle='--');"
   ]
  },
  {
   "cell_type": "markdown",
   "id": "54a2b4d2",
   "metadata": {},
   "source": [
    "Karena jika melihat visualnya saja terkadang terdapat subjektivitas, kita juga bisa melakukan pengecekan menggunakan uji Breuch-Pagan. Pada uji Breuch-Pagan ini kita memiliki uji hipotesis berikut:\n",
    "\n",
    "- $H_0$: residual homogen(tidak membentuk sebuah pola/acak)\n",
    "- $H_1$: residual heteros (membentuk sebuah pola)\n",
    "\n",
    "Kita bisa menggunakan method `het_breuschpagan()` dari library `statsmodels`."
   ]
  },
  {
   "cell_type": "code",
   "execution_count": 44,
   "id": "d95ff866",
   "metadata": {},
   "outputs": [
    {
     "data": {
      "text/html": [
       "<div>\n",
       "<style scoped>\n",
       "    .dataframe tbody tr th:only-of-type {\n",
       "        vertical-align: middle;\n",
       "    }\n",
       "\n",
       "    .dataframe tbody tr th {\n",
       "        vertical-align: top;\n",
       "    }\n",
       "\n",
       "    .dataframe thead th {\n",
       "        text-align: right;\n",
       "    }\n",
       "</style>\n",
       "<table border=\"1\" class=\"dataframe\">\n",
       "  <thead>\n",
       "    <tr style=\"text-align: right;\">\n",
       "      <th></th>\n",
       "      <th>Lagrange multiplier statistic</th>\n",
       "      <th>p-value</th>\n",
       "      <th>f-value</th>\n",
       "      <th>f p-value</th>\n",
       "    </tr>\n",
       "  </thead>\n",
       "  <tbody>\n",
       "    <tr>\n",
       "      <th>0</th>\n",
       "      <td>21.53229</td>\n",
       "      <td>0.00586</td>\n",
       "      <td>3.52507</td>\n",
       "      <td>0.00245</td>\n",
       "    </tr>\n",
       "  </tbody>\n",
       "</table>\n",
       "</div>"
      ],
      "text/plain": [
       "   Lagrange multiplier statistic  p-value  f-value  f p-value\n",
       "0                       21.53229  0.00586  3.52507    0.00245"
      ]
     },
     "execution_count": 44,
     "metadata": {},
     "output_type": "execute_result"
    }
   ],
   "source": [
    "import statsmodels.stats.api as sms\n",
    "\n",
    "name = {0: 'Lagrange multiplier statistic',\n",
    "       1: 'p-value',\n",
    "       2: 'f-value',\n",
    "       3: 'f p-value'}\n",
    "\n",
    "pd.DataFrame({\n",
    "    sms.het_breuschpagan(lm_all.resid, lm_all.model.exog)\n",
    "}).rename(columns= name)"
   ]
  },
  {
   "cell_type": "markdown",
   "id": "eef4f3c2",
   "metadata": {},
   "source": [
    "Berdasarkan hasil dari uji Breuch-Pagan kita mendapatkan nilai p-value < 0.05 artinya kita tolak H0 yang menandakan residual model tidak berpola acak atau disebut sebagai _heteroscedastisity_."
   ]
  },
  {
   "cell_type": "markdown",
   "id": "5b47535e",
   "metadata": {},
   "source": [
    "## No Multicolinearity\n",
    "\n",
    "Dalam formula regresi linear, kita mengasumsikan bahwa tidak ada korelasi antara variabe prediktor agar dapat memiliki efek independen dari setiap variabel. Salah satu metode statistik yang dapat digunakan saat menilai _multicollinearity_ adalah Variance Inflation Factor (VIF). Secara sederhana, VIF adalah cara untuk mengukur efek _multicollinearity_ di antara prediktor dalam model kita."
   ]
  },
  {
   "cell_type": "code",
   "execution_count": 45,
   "id": "eb72699e",
   "metadata": {},
   "outputs": [
    {
     "data": {
      "text/plain": [
       "const      6.36132\n",
       "Sales      3.11759\n",
       "Quantity   3.00142\n",
       "Discount   1.13280\n",
       "dtype: float64"
      ]
     },
     "execution_count": 45,
     "metadata": {},
     "output_type": "execute_result"
    }
   ],
   "source": [
    "from statsmodels.stats.outliers_influence import variance_inflation_factor\n",
    "\n",
    "x = copiers.select_dtypes(include=\"number\").drop(columns=[\"Profit\"])\n",
    "xc = sm.add_constant(x)\n",
    "\n",
    "vif = [variance_inflation_factor(xc.values, i) for i in range(len(xc.columns))]\n",
    "pd.Series(data=vif, index=xc.columns).sort_values(ascending=False)"
   ]
  },
  {
   "cell_type": "markdown",
   "id": "e73b90bf",
   "metadata": {},
   "source": [
    "Keterbatasan dari berbagai model _machine learning_ adalah hal yang akan kita tinjau lagi seiring perjalanan pembelajaran kita. Kita tidak hanya akan belajar bagaimana mengidentifikasinya tetapi kita juga akan mempelajari berbagai teknik untuk mengatasinya, mencegah _overfitting/underfitting_, dan membuat diagnosis model menjadi bagian penting dari pembelajaran metode _machine learning_ ini."
   ]
  }
 ],
 "metadata": {
  "kernelspec": {
   "display_name": "dev",
   "language": "python",
   "name": "python3"
  },
  "language_info": {
   "codemirror_mode": {
    "name": "ipython",
    "version": 3
   },
   "file_extension": ".py",
   "mimetype": "text/x-python",
   "name": "python",
   "nbconvert_exporter": "python",
   "pygments_lexer": "ipython3",
   "version": "3.10.13"
  },
  "varInspector": {
   "cols": {
    "lenName": 16,
    "lenType": 16,
    "lenVar": 40
   },
   "kernels_config": {
    "python": {
     "delete_cmd_postfix": "",
     "delete_cmd_prefix": "del ",
     "library": "var_list.py",
     "varRefreshCmd": "print(var_dic_list())"
    },
    "r": {
     "delete_cmd_postfix": ") ",
     "delete_cmd_prefix": "rm(",
     "library": "var_list.r",
     "varRefreshCmd": "cat(var_dic_list()) "
    }
   },
   "types_to_exclude": [
    "module",
    "function",
    "builtin_function_or_method",
    "instance",
    "_Feature"
   ],
   "window_display": false
  }
 },
 "nbformat": 4,
 "nbformat_minor": 5
}
