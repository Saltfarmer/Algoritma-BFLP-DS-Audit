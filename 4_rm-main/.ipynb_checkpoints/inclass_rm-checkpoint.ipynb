{
 "cells": [
  {
   "cell_type": "markdown",
   "metadata": {},
   "source": [
    "**Inclass: Regression Model**\n",
    "- Durasi: 7 hours\n",
    "- _Last Updated_: Desember 2023\n",
    "\n",
    "___\n",
    "\n",
    "- Disusun dan dikurasi oleh tim produk dan instruktur [Algoritma Data Science School](https://algorit.ma)."
   ]
  },
  {
   "cell_type": "code",
   "execution_count": null,
   "metadata": {
    "ExecuteTime": {
     "end_time": "2021-12-02T09:24:56.204772Z",
     "start_time": "2021-12-02T09:24:53.159457Z"
    }
   },
   "outputs": [],
   "source": [
    "import pandas as pd\n",
    "import matplotlib.pyplot as plt\n",
    "import statsmodels.api as sm\n",
    "from helper import linearity_test"
   ]
  },
  {
   "cell_type": "markdown",
   "metadata": {},
   "source": [
    "# Introduction\n",
    "\n",
    "Machine learning bertujuan untuk membuat mesin yang belajar berdasarkan data. Machine learning terbagi dua:\n",
    "\n",
    "<img src=\"assets/supervised_unsupervised.png\" width=\"900\">\n",
    "\n",
    "\n",
    "**Supervised Learning**: \n",
    "\n",
    "* memiliki target variable. \n",
    "* untuk pembuatan model prediksi (y ~ x)\n",
    "* ada ground truth (label aktual) sehingga ada evaluasi model\n",
    "\n",
    "**Unsupervised Learning**: \n",
    "\n",
    "* tidak memiliki target variable. \n",
    "* untuk mencari pola dalam data sehingga menghasilkan informasi yang berguna/dapat diolah lebih lanjut. umumnya dipakai untuk tahap explanatory data analysis (EDA)/data pre-processing.\n",
    "* tidak ada ground truth sehingga tidak ada evaluasi model "
   ]
  },
  {
   "cell_type": "markdown",
   "metadata": {},
   "source": [
    "# Regression Model"
   ]
  },
  {
   "cell_type": "markdown",
   "metadata": {},
   "source": [
    "Regression model merupakan **Supervised Learning** karena data yang dibutuhkan harus memiliki target variabel (y). Target variabel dari Regression Model harus bertipe numerik, namun untuk prediktornya (x) boleh numerik/kategorik\n",
    "\n",
    "📝**Business Problem**\n",
    "\n",
    "Pemilihan variabel target biasanya dikaitkan dengan masalah bisnis yang ingin diselesaikan:\n",
    "\n",
    "1. Sebuah dealer mobil berusaha membangun sebuah model untuk memprediksi harga mobil untuk digunakan sebagai patokan ketika membuka harga transaksi. Untuk itu mereka mengembangkan sebuah model dengan:\n",
    "\n",
    "     * Variabel target: \n",
    "     * Variabel prediktor: \n",
    "\n",
    "2. Seorang mahasiswa pertanian diminta untuk melakukan analisis regresi untuk memprediksi produktivitas padi dari berbagai lahan di Pulau Jawa. Untuk itu ia mengembangkan sebuah model dengan:\n",
    "\n",
    "     * Variabel target:\n",
    "     * Variabel prediktor: "
   ]
  },
  {
   "cell_type": "markdown",
   "metadata": {},
   "source": [
    "# **Regression Modeling Workflow** - Predicting Property Sales Price: in Jakarta, Tangsel, and Depok Area\n",
    "\n",
    "Sebagai Tim Data di sebuah institusi perbankan, kita diminta untuk melakukan analisis untuk mengetahui prediksi harga properti untuk acuan dasar data credit KPR. \n",
    "\n",
    "Keinginan untuk memiliki properti sendiri merupakan impian banyak orang. Selain bisa dijadikan tempat tinggal, memiliki properti di Jakarta dan Depok adalah salah satu aset investasi yang menguntungkan karena harganya yang cenderung naik setiap tahunnya.  \n",
    "\n",
    "Dalam proses pencarian tempat tinggal idaman ini, beberapa orang mungkin saja mengalami hambatan, yaitu kesulitan dalam mencari tempat tinggal yang sesuai dengan spesifikasi yang diinginkan dan budget yang dimiliki. Banyak orang menemukan tempat tinggal dengan harga yang cukup mahal namun tidak sesuai dengan spesifikasi yang ditawarkan.\n",
    "\n",
    "***Apakah terdapat sistem yang dapat memberikan referensi harga properti?”*** menjadi tujuan analisis pada pembahasan analisis kita.\n",
    "\n",
    "## Simple Linear Regression\n",
    "\n",
    "Pada Simple Linear Regression, kita akan membuat model regresi dengan **satu buah variabel prediktor**. Formula untuk simple linear regression adalah\n",
    "\n",
    "Formula model simple linear regression:\n",
    "\n",
    "$$\n",
    "\\hat{y}=\\beta_0+\\beta_1.x_1\n",
    "$$\n",
    "\n",
    "dimana:\n",
    "- $\\hat{y}$ : nilai prediksi target variabel\n",
    "- $\\beta_0$ : nilai intercept (nilai target variabel ketika kita tidak memiliki prediktor sama sekali)\n",
    "- $\\beta_1$ : nilai slope (nilai kemiringan garis regresi / nilai kontribusi prediktor dalam menentukan target variabel)\n",
    "\n",
    "Bagaimanakah kita mendapatkan garis yang paling representatif terhadap data kita?\n",
    "\n",
    "> Regresi bekerja berdasarkan konsep **Ordinary Least Square** yang mencari persamaan garis linear dengan nilai **error terkecil**. Error adalah selisih nilai prediksi/nilai pada garis dengan nilai aktual.\n",
    "\n",
    "<!-- Note: Jika Anda membuka docstring (dokumentasi) untuk fungsi OLS() pada statsmodel, ada keterangan parameter `endog` dan `exog` yang dapat diakses pengertiannya secara lebih lanjut pada [dokumentasi berikut](https://www.statsmodels.org/stable/endog_exog.html) -->"
   ]
  },
  {
   "cell_type": "markdown",
   "metadata": {},
   "source": [
    "### 1. Import data\n",
    "\n",
    "Kita akan gunakan data `properti.csv` yang tersimpan di folder data_input. Data yang diambil adalah data hasil scrapping dari website https://www.rumah123.com/"
   ]
  },
  {
   "cell_type": "code",
   "execution_count": null,
   "metadata": {},
   "outputs": [],
   "source": [
    "# code ini untuk mengatur pemisah angka ribuan\n",
    "pd.options.display.float_format = '{:,.3f}'.format"
   ]
  },
  {
   "cell_type": "code",
   "execution_count": null,
   "metadata": {
    "ExecuteTime": {
     "end_time": "2021-12-02T09:24:56.236599Z",
     "start_time": "2021-12-02T09:24:56.210617Z"
    }
   },
   "outputs": [],
   "source": [
    "# Data\n",
    "properti = pd.read_csv(\"data_input/properti_jual.csv\")"
   ]
  },
  {
   "cell_type": "code",
   "execution_count": null,
   "metadata": {
    "scrolled": true
   },
   "outputs": [],
   "source": [
    "properti.head()"
   ]
  },
  {
   "cell_type": "markdown",
   "metadata": {},
   "source": [
    "Berikut deskripsi variabel dari data tersebut:\n",
    "- `K..Mandi`: Jumlah kamar mandi pada suatu properti\n",
    "\n",
    "- `K..Tidur`: Jumlah kamar tidur pada suatu properti\n",
    "\n",
    "- `L..Bangunan`: Luas bangunan properti (m2)\n",
    "\n",
    "- `Sertifikat`: Jenis sertifikat atas properti yang di jual\n",
    "    - `Sertifikat Hak Pakai`\n",
    "    - `Sertifikat Hak Sewa`\n",
    "    - `Sertifikat lainnya (PPJB, Girik, Adat, dll)`\n",
    "    - `Sertifikat PPJB`\n",
    "    - `Sertifikat Hak Milik`\n",
    "    \n",
    "- `Tipe.Properti`: Jenis properti yang dijual\n",
    "    - `Rumah`: Untuk tipe properti rumah\n",
    "    - `Apartemen`: Untuk tipe properti apartemen\n",
    "    \n",
    "- `Kota`: Lokasi kota tempat properti di jual\n",
    "    - `Depok`\n",
    "    - `Jakarta Selatan`\n",
    "    - `Jakarta Timur`\n",
    "    - `Jakarta Utara`\n",
    "    - `Jakarta Barat`\n",
    "    - `Jakarta Pusat`\n",
    "    - `Tangerang Selatan`\n",
    "- `Price`: Nominal harga properti yang dijual"
   ]
  },
  {
   "cell_type": "markdown",
   "metadata": {},
   "source": [
    "### 2. Inspect data berdasarkan tipe datanya"
   ]
  },
  {
   "cell_type": "code",
   "execution_count": null,
   "metadata": {
    "ExecuteTime": {
     "end_time": "2021-12-02T09:24:56.298417Z",
     "start_time": "2021-12-02T09:24:56.285784Z"
    }
   },
   "outputs": [],
   "source": [
    "## code here\n",
    "properti.dtypes"
   ]
  },
  {
   "cell_type": "markdown",
   "metadata": {},
   "source": [
    "Tipe data yang belum sesuai adalah : \n",
    "- ..."
   ]
  },
  {
   "cell_type": "code",
   "execution_count": null,
   "metadata": {
    "ExecuteTime": {
     "end_time": "2021-12-02T09:24:56.329398Z",
     "start_time": "2021-12-02T09:24:56.316450Z"
    },
    "hide_input": true
   },
   "outputs": [],
   "source": [
    "# Object nama kolom kategori\n",
    "cat_var = \n",
    "\n",
    "# Mengubah tipe data dari beberapa kolom\n"
   ]
  },
  {
   "cell_type": "code",
   "execution_count": null,
   "metadata": {},
   "outputs": [],
   "source": [
    "# Cek kembali hasil proses perubahan tipe data\n"
   ]
  },
  {
   "cell_type": "markdown",
   "metadata": {
    "hide_input": false
   },
   "source": [
    "### 3. Cek missing value"
   ]
  },
  {
   "cell_type": "markdown",
   "metadata": {},
   "source": [
    "Sangat penting untuk mengidentifikasi apakah terdapat missing value di dataset kita sebelum dilakukan pemodelan machine learning. \n",
    "> ❓ Karena missing value dapat mempengaruhi performa model secara signifikan\n",
    "\n",
    "#### Missing value ada disebabkan karena:\n",
    "1. Kesalahan koleksi data\n",
    "2. Permasalahan pada saat preprocessing\n",
    "3. Sesimple karena data tidak terkumpul oleh sebagian observasi\n",
    "\n",
    "Metode yang dapat dilakukan untuk mengetahui apakah pada data yang diolah memiliki nilai *missing* dengan menggunakan fungsi `isnull().sum()`."
   ]
  },
  {
   "cell_type": "code",
   "execution_count": null,
   "metadata": {
    "ExecuteTime": {
     "end_time": "2021-12-02T09:24:56.329398Z",
     "start_time": "2021-12-02T09:24:56.316450Z"
    }
   },
   "outputs": [],
   "source": [
    "## melihat nilai missing\n"
   ]
  },
  {
   "cell_type": "markdown",
   "metadata": {},
   "source": [
    "### 4. 🎯 Mendefinisikan Business Problem\n",
    "\n",
    "Dari pernyataan bisnis yang diajukan, **kita ingin melakukan prediksi harga properti berdasarkan Luas Bangunan**\n",
    "\n",
    "❓ Berdasarkan kolom-kolom data, mari kita coba tentukan kolom apa yang akan menjadi *target* dan *prediktor*?\n",
    "\n",
    "- Variabel target: \n",
    "- Variabel prediktor: "
   ]
  },
  {
   "cell_type": "markdown",
   "metadata": {},
   "source": [
    "### 5. Exploratory Data Analysis (EDA)"
   ]
  },
  {
   "cell_type": "markdown",
   "metadata": {},
   "source": [
    "* <u>**Descriptive Statistics**</u>\n",
    "\n",
    "Analisis statistik deskriptif digunakan untuk memberikan **gambaran awal mengenai distribusi dan perilaku data** dengan melihat nilai minimum, nilai maximum, rata – rata (mean), dan standar deviasi dari masing-masing variabel independen dan variabel dependen.\n",
    "\n",
    "Method `describe()` menampilkan 8 ringkasan statistika deskriptif. Secara default menampilkan ringkasan untuk kolom numerik."
   ]
  },
  {
   "cell_type": "code",
   "execution_count": null,
   "metadata": {},
   "outputs": [],
   "source": []
  },
  {
   "cell_type": "markdown",
   "metadata": {},
   "source": [
    "❓ Apakah ada hal yang menarik dari hasil describe di atas?"
   ]
  },
  {
   "cell_type": "markdown",
   "metadata": {},
   "source": [
    "* <u>**Cek korelasi antar variabel target dan prediktor**</u>\n",
    "\n",
    "Biasanya uji korelasi ini akan sangat berhubungan dengan uji regresi yang menunjukkan apakah masing-masing variabel saling berhubungan erat. Meskipun variabel tersebut saling berhubungan erat atau berkorelasi, belum tentu variabel tersebut saling mempengaruhi. \n",
    "\n",
    "Dalam analisis korelasi ini, output yang dihasilkan hanya dalam rentang **-1 sampai 1**\n",
    "\n",
    "- Bila korelasi dua variabel numerik **mendekati -1** artinya **korelasi negatif kuat**\n",
    "- Bila korelasi dua variabel numerik **mendekati 1** artinya **korelasi positif kuat**\n",
    "- Bila korelasi dua variabel numerik **mendekati 0** artinya **tidak berkorelasi**\n",
    "\n",
    "![korelasi](assets/correlation-coef.jpg)"
   ]
  },
  {
   "cell_type": "markdown",
   "metadata": {},
   "source": [
    "- Menggunakan nilai korelasi"
   ]
  },
  {
   "cell_type": "code",
   "execution_count": null,
   "metadata": {
    "ExecuteTime": {
     "end_time": "2021-12-02T09:24:57.348894Z",
     "start_time": "2021-12-02T09:24:57.335929Z"
    },
    "scrolled": false
   },
   "outputs": [],
   "source": [
    "properti['Price'].corr(properti['L..Bangunan'])"
   ]
  },
  {
   "cell_type": "markdown",
   "metadata": {},
   "source": [
    "- Menggunakan visualisasi"
   ]
  },
  {
   "cell_type": "code",
   "execution_count": null,
   "metadata": {
    "scrolled": true
   },
   "outputs": [],
   "source": [
    "properti.plot.scatter(x = 'L..Bangunan', y = 'Price')\n",
    "plt.show()"
   ]
  },
  {
   "cell_type": "markdown",
   "metadata": {},
   "source": [
    "* **Kesimpulan dari plot:**\n",
    "\n",
    "> \n",
    "\n",
    "Berdasarkan kesimpulan dan analisis yang sudah dilakukan, adakah yang perlu kita lakukan pada data kita?"
   ]
  },
  {
   "cell_type": "code",
   "execution_count": null,
   "metadata": {},
   "outputs": [],
   "source": []
  },
  {
   "cell_type": "markdown",
   "metadata": {},
   "source": [
    "* <u>**Identifikasi Outlier**</u>\n",
    "\n",
    "Dari hasil analisa statistik deskriptif belum diketahui apakah pada data yang kita miliki memiliki ***outlier*** atau tidak, maka dari itu mari coba kita lihat dengan menggunakan visualisasi ***Box Plot***.\n",
    "\n",
    "Visualisasi ***Box Plot*** dapat dibuat dengan menggunakan fungsi `boxplot()` dari `library matplotlib`. "
   ]
  },
  {
   "cell_type": "code",
   "execution_count": null,
   "metadata": {
    "scrolled": true
   },
   "outputs": [],
   "source": [
    "# Melihat nilai outlier\n",
    "properti.boxplot(column = 'L..Bangunan')"
   ]
  },
  {
   "cell_type": "markdown",
   "metadata": {},
   "source": [
    "### 6. Membuat Model Simple Linear Regression \n",
    "\n",
    "#### **6.1 Model dengan outlier** \n",
    "\n",
    "Dari tahapan EDA (checking outlier) dengan boxplot, diketahui bahwa variabel `L..Bangunan` memiliki nilai outlier.\n",
    "\n",
    "Selanjutnya jika kita ingin menjawab business problem yang kita miliki, yaitu kita ingin melakukan prediksi harga **Price** properti berdasarkan besaran **Luas Bangunan**. Kita akan memakai seluruh observasi yang ada terlebih dahulu.\n",
    "\n",
    "<u>**Tahapan 1 - Menentukan Target dan Prediktor**</u>\n",
    "   - Y   : `df['target']`\n",
    "   - X   : `sm.add_constant(df['prediktor'])`. Supaya intercept tidak dianggap 0"
   ]
  },
  {
   "cell_type": "code",
   "execution_count": null,
   "metadata": {
    "ExecuteTime": {
     "end_time": "2022-12-05T15:15:40.263857Z",
     "start_time": "2022-12-05T15:15:39.832295Z"
    },
    "hide_input": false,
    "scrolled": true
   },
   "outputs": [],
   "source": [
    "# membuat objek untuk prediktor (pilih kolom yang akan digunakan)\n",
    "X_data = \n",
    "\n",
    "# menambahkan intercept/add_constant\n",
    "X_data = sm.add_constant(...)\n",
    "\n",
    "# membuat objek target\n",
    "Y_data = "
   ]
  },
  {
   "cell_type": "markdown",
   "metadata": {},
   "source": [
    "<u> **Tahapan 2 - Membuat model Prediksi**</u>\n",
    "\n",
    "Untuk membuat model regresi linier di Python kita akan menggunakan fungsi `OLS()` dari package `statsmodels`.\n",
    "\n",
    "Syntax: `sm.OLS(target, prediktor).fit()`"
   ]
  },
  {
   "cell_type": "code",
   "execution_count": null,
   "metadata": {},
   "outputs": [],
   "source": [
    "# Membuat model\n",
    "lm_outlier = "
   ]
  },
  {
   "cell_type": "markdown",
   "metadata": {},
   "source": [
    "<u>**Tahapan 3 - Melihat hasil / menginterpretasikan model** </u>\n",
    "   - intercept dan slope: `model.params`\n",
    "   - summary model      : `model.summary()`  "
   ]
  },
  {
   "cell_type": "code",
   "execution_count": null,
   "metadata": {
    "scrolled": false
   },
   "outputs": [],
   "source": [
    "# Summary model\n"
   ]
  },
  {
   "cell_type": "markdown",
   "metadata": {},
   "source": [
    "\n",
    "📝 **Interpretasi model :**\n",
    "\n",
    "1. **Model linier regresi** untuk kasus prediksi harga properti di daerah Jakarta, Depok, dan Tangsel adalah:\n",
    "\n",
    "> `Price = b0 + b1*L..Bangunan`\n",
    "\n",
    "> `Price =  ... + ...*L..Bangunan`\n",
    "   - slope    : \n",
    "   - intercept: \n",
    "   \n",
    "2. **Signifikansi prediktor** (bandingkan nilai p-value dengan alpha)\n",
    "   - H0: Luas Bangunan tidak mempengaruhi Harga Properti\n",
    "   - H1: Luas Bangunan mempengaruhi Harga Properti\n",
    "   \n",
    "    **Note:** Ketika p-value < 0.05 (alpha) maka kesimpulannya adalah menolak H0 yang berarti Luas Bangunan signifikan berpengaruh terhadap Harga properti\n",
    "\n",
    "   > p-value : \n",
    "   \n",
    "   > Kesimpulan : \n",
    "   \n",
    "3. **Goodness of fit** (melihat nilai R-squared, dimana **0 ≤ $R^2$ ≤ 1**)\n",
    "   \n",
    "   Nilai R-Squared merepresentasikan % variasi dari data yang berhasil dijelaskan oleh model.\n",
    "   \n",
    "   - Semakin mendekati 1, mengindikasikan model semakin fit\n",
    "   - Semakin mendekati 0, mengindikasikan model tidak fit\n",
    "   \n",
    "   > R-Squared: \n",
    "   \n",
    "   > Kesimpulan :"
   ]
  },
  {
   "cell_type": "markdown",
   "metadata": {},
   "source": [
    "**[Optional] Other Information in Summary**\n",
    "\n",
    "1. Tabel 1, sisi kiri menyimpan informasi dasar dari model\n",
    "    - Dep. Variable   : Target variabel (Y)\n",
    "    - Model           : Model regresi linier\n",
    "    - Method          : Metode yang digunakan untuk membuat model regresi linier\n",
    "    - No. Observations:\tJumlah observasi yang digunakan ketika membuat model regresi linier\n",
    "    - DF Residuals    :\tDegrees of freedom error/residual (**No. Observations - parameter**)\n",
    "    - DF Model        :\tDegrees of freedom model (**jumlah prediktor**)\n",
    "\n",
    "\n",
    "2. Tabel 1, sisi kanan menyimpan informasi kebaikan model\n",
    "    - **R-squared**         : Goodness of fit\n",
    "    - **Adj. R-squared**    : Goodneess of fit untuk multiple linear regression\n",
    "    - F-statistic       : Statistik hitung dari F-test (uji simultan)\n",
    "    - Prob (F-statistic): p-value dari F-test \n",
    "        \n",
    "        a. H0 --> Tidak ada prediktor yang berpengaruh signifikan terhadap target\n",
    "        \n",
    "        b. H1 --> Min terdapat 1 prediktor yang berpengaruh signifikan terhadap target\n",
    "    - Log-likelihood    : Log dari nilai likelihood.\n",
    "    - AIC               : Akaike Information Criterion (information loss)\n",
    "    - BIC               : Bayesian Information Criterion (serupa dengan AIC, namun perhitungan nilainya berbeda)\n",
    "\n",
    "3. Tabel 2 menyimpan informasi dari koefisien regresi\n",
    "    - **coef**              : Estimasi koefisien\n",
    "    - std err               : Estimasi selisih nilai sampel terhadap populasi\n",
    "    - t                     : Statistik hitung dari t-test (uji parsial)\n",
    "    - **P > |t|**               : P-value dari t-test\n",
    "    - [95.0% Conf. Interval]: Confidence Interval (CI) 95%\n",
    "\n",
    "\n",
    "4. Tabel 3 menyimpan hasil uji statistik error/residual\n",
    "    - Omnibus\tD’Angostino’s test: Statistik hitung untuk pengujian **Skewness** dan **Kurtosis**\n",
    "    - Prob(Omnibus): p-value dari **Omnibus\tD’Angostino’s test**\n",
    "    - Skewness: Mengukur kecondongan distribusi error\n",
    "    - Kurtosis:\tMengukur keruncingan distribusi error\n",
    "    - Durbin-Watson: Statistik hitung pengujian autokorelasi\n",
    "    - Jarque-Bera:\tSerupa dengan **Omnibus\tD’Angostino’s test**, namun memiliki perhitungan yang berbeda\n",
    "    - Prob (JB): p-value dari **Jarque-Bera**\n",
    "    - Cond. No: Pengujian multicolinearity"
   ]
  },
  {
   "cell_type": "markdown",
   "metadata": {},
   "source": [
    "<u> **Tahapan 4 - Hasil Visualisasi 2 Dimensi** </u>\n",
    "    \n",
    "- hanya bisa untuk 1 variabel prediktor"
   ]
  },
  {
   "cell_type": "code",
   "execution_count": null,
   "metadata": {
    "ExecuteTime": {
     "end_time": "2021-12-02T07:32:43.696230Z",
     "start_time": "2021-12-02T07:32:43.542649Z"
    },
    "scrolled": true
   },
   "outputs": [],
   "source": [
    "# Plot scatter\n",
    "properti.plot.scatter(x='L..Bangunan', y='Price')\n",
    "\n",
    "# Plot garis linear model\n",
    "plt.plot(properti['L..Bangunan'], lm_outlier.fittedvalues, c='red')\n",
    "plt.show()"
   ]
  },
  {
   "cell_type": "markdown",
   "metadata": {},
   "source": [
    "<u>**Tahapan 5 - Melakukan Prediksi Model**</u>\n",
    "\n",
    "❓🏠 **Business Question**:\n",
    "Terdapat properti A dengan Luas Bangunan 90m2. Kita diminta untuk memprediksi harga properti A, berapakah harga prediksinya?"
   ]
  },
  {
   "cell_type": "code",
   "execution_count": null,
   "metadata": {
    "ExecuteTime": {
     "end_time": "2021-12-02T09:24:56.329398Z",
     "start_time": "2021-12-02T09:24:56.316450Z"
    }
   },
   "outputs": [],
   "source": [
    "## code here (manual)\n",
    "intercept = \n",
    "slope = \n",
    "\n",
    "house_price_new = \n",
    "house_price_new"
   ]
  },
  {
   "cell_type": "markdown",
   "metadata": {},
   "source": [
    "Untuk melakukan prediksi terhadap beberapa Luas bangunan, dapat menggunakan `model.predict()`\n",
    "\n",
    "Eg : Data properti dengan Luas Bangunan terbaru"
   ]
  },
  {
   "cell_type": "code",
   "execution_count": null,
   "metadata": {
    "ExecuteTime": {
     "end_time": "2021-12-02T07:32:43.728209Z",
     "start_time": "2021-12-02T07:32:43.714322Z"
    },
    "scrolled": false
   },
   "outputs": [],
   "source": [
    "new_house = pd.DataFrame({'L.B': (75, 320, 188, 60, 90)})\n",
    "new_house"
   ]
  },
  {
   "cell_type": "code",
   "execution_count": null,
   "metadata": {
    "ExecuteTime": {
     "end_time": "2021-12-02T09:24:56.329398Z",
     "start_time": "2021-12-02T09:24:56.316450Z"
    }
   },
   "outputs": [],
   "source": [
    "## code here\n",
    "# predict copiers datasest\n",
    "X_new = sm.add_constant(...)\n",
    "\n",
    "lm_outlier.predict(...)"
   ]
  },
  {
   "cell_type": "markdown",
   "metadata": {},
   "source": [
    "#### **6.2 Model tanpa outlier** "
   ]
  },
  {
   "cell_type": "markdown",
   "metadata": {},
   "source": [
    "Untuk membuat model tanpa outlier, langkah pertama yang harus dilakukan adalah melakukan filtering pada data. \n",
    "\n",
    "❓ Coba tinjau lagi nilai outlier pada data properti kita, kira-kira berapa threshold batas outlier yang dimiliki?"
   ]
  },
  {
   "cell_type": "code",
   "execution_count": null,
   "metadata": {
    "scrolled": true
   },
   "outputs": [],
   "source": [
    "# melihat nilai outlier kembali dengan boxplot\n",
    "properti.boxplot('L..Bangunan')"
   ]
  },
  {
   "cell_type": "markdown",
   "metadata": {},
   "source": [
    "Dalam kasus ini dikarenakan outlier `L..Bangunan` di atas 280 m2, maka data yang digunakan adalah data dengan `L..Bangunan` < 280 m2."
   ]
  },
  {
   "cell_type": "code",
   "execution_count": null,
   "metadata": {
    "ExecuteTime": {
     "end_time": "2021-12-02T09:24:56.329398Z",
     "start_time": "2021-12-02T09:24:56.316450Z"
    }
   },
   "outputs": [],
   "source": [
    "# remove outlier (membuang nilai outlier dengan L.B < 280m2)\n",
    "properti_new = properti[(properti['L..Bangunan'] < 280)]\n",
    "properti_new"
   ]
  },
  {
   "cell_type": "code",
   "execution_count": null,
   "metadata": {
    "ExecuteTime": {
     "end_time": "2021-12-02T07:32:43.851788Z",
     "start_time": "2021-12-02T07:32:43.823052Z"
    },
    "scrolled": true
   },
   "outputs": [],
   "source": [
    "# melakukan modeling dengan data baru \n",
    "# define predictor variable\n",
    "X_data_no = \n",
    "X_data_no = sm.add_constant(...)\n",
    "\n",
    "#define target variable\n",
    "Y_data_no = \n",
    "\n",
    "# build model with outlier\n",
    "lm_no_outlier = sm.OLS(..., ...).fit()\n",
    "\n",
    "lm_no_outlier.summary()"
   ]
  },
  {
   "cell_type": "markdown",
   "metadata": {},
   "source": [
    "📝 **Interpretasi model:**\n",
    "\n",
    "1. **Model linier regresi** untuk kasus prediksi harga properti di daerah Jakarta, Depok, dan Tangsel adalah:\n",
    "   > `Price = b0 + b1*L..Bangunan`\n",
    "   \n",
    "   > `Price =  ... + ...*L..Bangunan`\n",
    "   \n",
    "   - slope    : \n",
    "   - intercept:\n",
    "   \n",
    "2. **Signifikansi prediktor** (bandingkan nilai p-value dengan alpha)\n",
    "    - H0: Luas Bangunan tidak mempengaruhi Harga Properti\n",
    "    - H1: Luas Bangunan mempengaruhi Harga Properti\n",
    "    \n",
    "    **Note:** Ketika p-value < 0.05 (alpha) maka kesimpulannya adalah menolak H0\n",
    "    \n",
    "    > p-value :\n",
    "    \n",
    "    > Kesimpulan :\n",
    "   \n",
    "3. **Goodness of fit** (melihat nilai R-squared, dimana **0 ≤ $R^2$ ≤ 1**)\n",
    "   \n",
    "   Nilai R-Squared merepresentasikan % variasi dari data yang berhasil dijelaskan oleh model. **Formula**:  \n",
    "      \n",
    "   $R^2=1- \\frac {∑ \\limits_{i=1}^n (Y_i−\\hat Y)^2}{∑ \\limits_{i=1}^n(Y_i−\\bar Y)^2}$\n",
    "   \n",
    "   - Semakin mendekati 1, mengindikasikan model semakin fit\n",
    "   - Semakin mendekati 0, mengindikasikan model tidak fit\n",
    "   \n",
    "   > R-Squared: \n",
    "   \n",
    "   > Kesimpulan : "
   ]
  },
  {
   "cell_type": "code",
   "execution_count": null,
   "metadata": {
    "ExecuteTime": {
     "end_time": "2021-12-02T07:32:43.991329Z",
     "start_time": "2021-12-02T07:32:43.853661Z"
    },
    "scrolled": true
   },
   "outputs": [],
   "source": [
    "# visualize the result\n",
    "properti.plot.scatter(x='L..Bangunan', y='Price')\n",
    "# visualisasi model no_outlier\n",
    "plt.plot(properti_new['L..Bangunan'], lm_no_outlier.fittedvalues, c='black')\n",
    "# visualisasi model dengan outlier\n",
    "plt.plot(properti['L..Bangunan'], lm_outlier.fittedvalues, c='red')\n",
    "plt.show()"
   ]
  },
  {
   "cell_type": "markdown",
   "metadata": {},
   "source": [
    "## **Leverage vs. Influence**\n",
    "\n",
    "**Leverage** adalah nilai yang letaknya jauh dari letak observasi lainnya, sering disebut sebagai **outlier**. Nilai leverage dapat mempengaruhi model linier regresi atau pun tidak.\n",
    "\n",
    "- Ketika **leverage mempengaruhi (menurunkan R-Squared)** model linier regresi: **high influence**, sebaiknya **di-exclude** -> membuat model menjadi lebih jelek\n",
    "- Ketika **leverage tidak mempengaruhi (meningkatkan R-Squared)** model linier regresi: **low influence**, sebaiknya **di-include** -> membuat model menjadi lebih baik"
   ]
  },
  {
   "cell_type": "code",
   "execution_count": null,
   "metadata": {
    "ExecuteTime": {
     "end_time": "2021-12-02T07:32:44.006554Z",
     "start_time": "2021-12-02T07:32:43.993326Z"
    },
    "scrolled": false
   },
   "outputs": [],
   "source": [
    "print(\"R-Squared model dengan outlier :\", (lm_outlier.rsquared).round(2))\n",
    "print(\"R-Squared model tanpa outlier :\", (lm_no_outlier.rsquared).round(2))"
   ]
  },
  {
   "cell_type": "markdown",
   "metadata": {},
   "source": [
    "**Kesimpulan**: ..."
   ]
  },
  {
   "cell_type": "markdown",
   "metadata": {},
   "source": [
    "## Multiple Linear Regression\n",
    "\n",
    "Linear regression dengan **lebih dari satu prediktor** bisa meningkatkan performa model karena lebih banyak informasi yang dapat menjelaskan target.\n",
    "\n",
    "Formula multiple linear regression:\n",
    "\n",
    "$$\n",
    "\\hat{y}=\\beta_0+\\beta_1.x_1+...+\\beta_n.x_n\n",
    "$$\n",
    "\n",
    "dimana $\\hat{y}$ merupakan prediksi target variabel dan $x_1,...,x_n$ prediktor lainnya. \n",
    "\n",
    "Workflow pada simple linear regression dan multiple linear regression adalah sama. Berikut merupakan worklownya:"
   ]
  },
  {
   "cell_type": "markdown",
   "metadata": {},
   "source": [
    "### 1. Preparation Data\n",
    "\n",
    "Kita akan membuat multiple linear regression menggunakan data properti untuk memprediksi `Price` berdasarkan keseluruhan variabel.\n",
    "- y: Price\n",
    "- x: K..Mandi, K..Tidur, L..Bangunan, Sertifikat, Tipe.Properti, dan Kota"
   ]
  },
  {
   "cell_type": "markdown",
   "metadata": {},
   "source": [
    "#### 💡 Categorical Predictor: Dummy Variable Encoding\n",
    "\n",
    "Di Python, data input dan output untuk model *machine learning* harus berbentuk numeric. Ini berarti, ketika data kita mempunyai nilai kategorikal, harus di-*encode* menjadi numerik terlebih dahulu.\n",
    "\n",
    "Sebelum melakukan fitting model, kita harus mengubah **prediktor kategorik menjadi dummy variable**, dengan cara:\n",
    "\n",
    "- Dilakukan dengan menggunakan fungsi `pd.get_dummies()`\n",
    "- **One hot encoding** = mengubah kolom kategorik menjadi kolom-kolom baru dari setiap kategori yang berisi nilai 0 dan 1 \n",
    "- **Dummy variable** =  mengubah kolom kategorik menjadi kolom-kolom baru yang terdiri dari **k-1 kategori**, berisi nilai 0 dan 1. Kategori yang tidak menjadi kolom, akan menjadi kondisi basis. Untuk membuat dummy variable, tambahkan parameter `drop_first=True`\n",
    "\n",
    "![](assets/one_hot-dummy.png)\n",
    "\n",
    "📌 Dalam kasus regresi wajib memakai dummy variabel. \n",
    "\n",
    "**💡 NOTES**: Salah satu kolom di-*drop* karena bersifat redundan (berulang). Untuk kolom yang hanya memiliki 2 kategori, tidak ada perbedaan hasil/efek baik ketika memilih ordinal ataupun dummy, akan tetapi best practicenya menggunakan dummy variabel.\n",
    "\n",
    "Mari kita coba menerapkan **Dummy Variable Encoding** untuk kolom-kolom kategorikal."
   ]
  },
  {
   "cell_type": "code",
   "execution_count": null,
   "metadata": {
    "scrolled": true
   },
   "outputs": [],
   "source": [
    "properti.head()"
   ]
  },
  {
   "cell_type": "code",
   "execution_count": null,
   "metadata": {
    "ExecuteTime": {
     "end_time": "2021-12-02T07:32:44.114324Z",
     "start_time": "2021-12-02T07:32:44.103338Z"
    },
    "scrolled": true
   },
   "outputs": [],
   "source": [
    "# Object nama kolom kategori\n",
    "cat_dummy = \n",
    "\n",
    "# dummy encoding\n",
    "properti_enc = pd.get_dummies(data = ,\n",
    "                             columns = ,\n",
    "                             drop_first = ,\n",
    "                             dtype = )\n",
    "\n",
    "# melihat hasil encoding\n",
    "properti_enc.head()"
   ]
  },
  {
   "cell_type": "markdown",
   "metadata": {},
   "source": [
    "### 2. Membuat Model Multiple Linear Regression"
   ]
  },
  {
   "cell_type": "code",
   "execution_count": null,
   "metadata": {
    "scrolled": true
   },
   "outputs": [],
   "source": [
    "# membuat objek prediktor dan target\n",
    "Y = \n",
    "X = \n",
    "\n",
    "# Membuat model\n",
    "lm_multiple =\n",
    "\n",
    "# Melihat summary\n",
    "lm_multiple.summary()"
   ]
  },
  {
   "cell_type": "markdown",
   "metadata": {},
   "source": [
    "### 3. Interpretasi Model Multiple Linear Regression\n",
    "\n",
    "**[Contoh Interpretasi Variabel Kategorik]**\n",
    "\n",
    "- Terdapat category golongan darah A, AB, B, dan O\n",
    "- Cara menginterpretasikan model apabila memiliki lebih dari 2 kategori :\n",
    "\n",
    "> y = b0 + 1.96* gol.darahAB + 0.97* gol.darahB + 1.39* gol.darahO\n",
    "\n",
    "     - slope gol.darahAB = 1.96, nilai y ketika golongan darah nya adalah AB sebesar **b0 + 1.96**\n",
    "     - slope gol.darahB = 0.97, nilai y ketika golongan darah nya adalah B sebesar **b0 + 0.97**\n",
    "     - slope gol.darahO = 1.39, nilai y ketika golongan darah nya adalah O sebesar **b0 + 1.39**\n",
    "     - nilai y ketika golongan darah nya adalah A sebesar **b0 saja** (b0 + est. gol.darahAB * 0 + est. gol.darahB * 0 + est. gol.darahO * 0)\n",
    "     - Golongan darah AB meningkatkan nilai y sebesar 1.96 poin dibandingkan golongan darah A (Basis)"
   ]
  },
  {
   "cell_type": "code",
   "execution_count": null,
   "metadata": {},
   "outputs": [],
   "source": [
    "lm_multiple.params"
   ]
  },
  {
   "cell_type": "markdown",
   "metadata": {},
   "source": [
    "📝 **Interpretasi model:**\n",
    "\n",
    "**1. Interpretasi masing-masing variabel** \n",
    "\n",
    "contoh:\n",
    "   - `K..Tidur`: \n",
    "   - `L..Bangunan`: \n",
    "   - `Sertifikat_HS - Hak Milik`: \n",
    "   - `Kota_Jakarta Selatan`: \n",
    "   \n",
    "**2. Signifikansi prediktor**\n",
    "   - variabel signifikan (p-value < 0.05) : \n",
    "   - variabel tidak signifikan (p-value < 0.05) : \n",
    "\n",
    "note: untuk prediktor kategorik, dianggap signifikan mempengaruhi target jika salah satu kategori signifikan"
   ]
  },
  {
   "cell_type": "markdown",
   "metadata": {},
   "source": [
    "### 4. Prediksi\n",
    "\n",
    "Setelah model terbentuk, model tidak dapat langsung digunakan sebelum melewati tahap evaluasi.\n",
    "\n",
    "Tahapan evaluasi dapat dilakukan dengan melakukan **prediksi** terhadap data yang ada. Prediksi model dapat dilakukan dengan memanfaatkan fungsi `predict()`, berikut syntax yang dapat digunakan:\n",
    "\n",
    "> `nama_model.predict(data_prediktor)`"
   ]
  },
  {
   "cell_type": "code",
   "execution_count": null,
   "metadata": {},
   "outputs": [],
   "source": [
    "# membuat kolom prediksi yang berisi hasil dari prediksi model\n",
    "properti_enc['Prediksi'] = lm_multiple.predict(X)\n",
    "properti_enc.head()"
   ]
  },
  {
   "cell_type": "markdown",
   "metadata": {},
   "source": [
    "### 5. Goodness of Fit: R-Squared vs. Adj. R-Squared"
   ]
  },
  {
   "cell_type": "markdown",
   "metadata": {},
   "source": [
    "Perbedaan R-Squared dan Adj. R-Squared:\n",
    "\n",
    "- **R-Squared**: Seberapa baik model menjelaskan data, dengan mengukur seberapa besar informasi (variansi) dari target dapat dijelaskan oleh prediktor. Sehingga, jelas ketika **prediktor bertambah**, informasi (variansi) yang dirangkum semakin banyak atau dengan kata lain jelas nilai **R-Squared akan meningkat**.\n",
    "\n",
    "    > Syntax: `nama_model.rsquared`\n",
    "\n",
    "- **Adj. R- Squared**: tidak demikian pada adj. r-squred, karena disesuaikan dengan jumlah prediktor yang digunakan. Adj. r-squared akan meningkat hanya jika prediktor baru yang ditambahkan mengarah pada hasil prediksi yang lebih baik (prediktor signifikan mempengaruhi target)\n",
    "\n",
    "    > Syntax: `nama_model.rsquared_adj`\n",
    "   \n",
    "Mari kita bandingan nilai R-Squared dan Adj. R-Squared antara `lm_outlier` dengan `lm_multiple`!"
   ]
  },
  {
   "cell_type": "code",
   "execution_count": null,
   "metadata": {},
   "outputs": [],
   "source": [
    "# R-Squared\n",
    "print('R-Squared Simple Linear Regression :', (lm_outlier.rsquared))\n",
    "print('R-Squared Simple Linear Regression :', (lm_multiple.rsquared))"
   ]
  },
  {
   "cell_type": "code",
   "execution_count": null,
   "metadata": {
    "scrolled": false
   },
   "outputs": [],
   "source": [
    "# Adj R-Squared\n",
    "print('Adj R-Squared Simple Linear Regression :', (lm_outlier.rsquared_adj))\n",
    "print('Adj R-Squared Simple Linear Regression :', (lm_multiple.rsquared_adj))"
   ]
  },
  {
   "cell_type": "markdown",
   "metadata": {},
   "source": [
    "📝 **Kesimpulan**: Berdasarkan nilai R-Squared dan Adj R-Squared, maka model yang terbaik adalah model `lm_multiple`"
   ]
  },
  {
   "cell_type": "markdown",
   "metadata": {},
   "source": [
    "### Model Evaluation : Nilai Error\n",
    "\n",
    "Untuk melihat apakah prediksi yang dibuat menghasilkan nilai error terkecil\n",
    "  \n",
    "**Error/residual adalah selisih antara hasil prediksi dengan nilai aktual.**\n",
    "\n",
    "$$\n",
    "Error/residual = actual - prediction = y - \\hat y\n",
    "$$\n",
    "\n",
    "Terdapat beberapa nilai error yang ada :\n",
    "\n",
    "1. MAE (Mean Absolute Error): Memperlakukan error dengan lebih ringan. **Formula:**\n",
    "   $$\n",
    "   MAE = \\frac{1}{N} \\sum_{i=1}^{N} \\left | y_{i} - \\hat{y} \\right |\n",
    "   $$\n",
    "\n",
    "1. RMSE (Root Mean Square Error): Memperlakukan error dengan lebih sensitif. Ketika nilai error besar, maka nilai RMSE akan semakin besar dan sebaliknya. **Formula:**\n",
    "   $$\n",
    "   RMSE = \\sqrt{\\frac{1}{N} \\sum_{i=1}^{N} (y_{i} - \\hat{y})^{2}}\n",
    "   $$\n",
    "     \n",
    "1. MAPE (Mean Absolute Percentage Error): Menunjukan seberapa besar penyimpangan error dalam bentuk persentase\n",
    "   $$\n",
    "   MAPE = \\frac{1}{N} \\sum_{i=1}^{N} \\frac {\\left | y_{i} - \\hat{y} \\right |} {y}\n",
    "   $$\n",
    "   \n",
    "RMSE digunakan ketika model yang dibuat memuat observasi outlier. Sedangkan, MAE digunakan ketika model yang dibuat tidak memuat observasi outlier. MAPE adalah metrik yang baik untuk interpretasi karena mudah dipahami."
   ]
  },
  {
   "cell_type": "markdown",
   "metadata": {},
   "source": [
    "**MAE**\n",
    "\n",
    "Fungsi `meanabs(kolom_target, kolom_prediksi)`"
   ]
  },
  {
   "cell_type": "code",
   "execution_count": null,
   "metadata": {},
   "outputs": [],
   "source": [
    "# code here\n",
    "from statsmodels.tools.eval_measures import meanabs\n"
   ]
  },
  {
   "cell_type": "markdown",
   "metadata": {},
   "source": [
    "**RMSE**\n",
    "\n",
    "Fungsi `rmse(kolom_target, kolom_prediksi)`"
   ]
  },
  {
   "cell_type": "code",
   "execution_count": null,
   "metadata": {
    "ExecuteTime": {
     "end_time": "2021-12-02T07:32:44.037603Z",
     "start_time": "2021-12-02T07:32:44.024330Z"
    }
   },
   "outputs": [],
   "source": [
    "# code here\n",
    "from statsmodels.tools.eval_measures import rmse\n"
   ]
  },
  {
   "cell_type": "markdown",
   "metadata": {},
   "source": [
    "**MAPE**\n",
    "\n",
    "Fungsi `mean_absolute_percentage_error()`\n",
    "\n",
    "Pada fungsi tersebut nantinya akan kita isi dengan parameter yaitu \n",
    "\n",
    "- `y_true` = Parameter ini akan diisi dengan kolom target\n",
    "- `y_pred` = Parameter ini akan diisi dengan kolom hasil prediksi"
   ]
  },
  {
   "cell_type": "code",
   "execution_count": null,
   "metadata": {},
   "outputs": [],
   "source": [
    "# code here\n",
    "from sklearn.metrics import mean_absolute_percentage_error\n"
   ]
  },
  {
   "cell_type": "markdown",
   "metadata": {},
   "source": [
    "# Assumption Checking\n",
    "\n",
    "Limitasi dari pemodelan linear regresi adalah terdapat beberapa asumsi yang perlu dipenuhi agar model linear regresi dikatakan model yang baik. \n",
    "Pendekatan Ordinary Least Square/Linear Regression dikatakan BLUE (Best Linear Unbiased Estimator) ketika memenuhi beberapa uji asumsi berikut:\n",
    "1. **Linearity**: antara x dan y nya ada hubungan linear  \n",
    "    - Bisa dilihat dari R-squared model, jika R-squared kecil, maka kemungkinan antara prediktor dan target, tidak ada hubungan linear\n",
    "2. **Normality of Residual**: Residual nya berdistribusi normal \n",
    "    - Saat berdistribusi normal, error berada di sekitar 0\n",
    "3. **No-Heteroscedasticity**: Variansi residual konstan (tidak membentuk sebuah pola)  \n",
    "4. **Little to No-Multicollinearity**: antar variabel prediktor nya harus independence (tidak mempunyai hubungan)  \n"
   ]
  },
  {
   "cell_type": "markdown",
   "metadata": {},
   "source": [
    "## Linearity\n",
    "\n",
    "Untuk menguji apakah variabel target dan prediktor memiliki hubungan linear. Dapat dilihat dengan nilai korelasi. \n",
    "\n",
    "Linearity artinya target variabel dengan prediktornya memiliki hubungan yang linear atau hubungannya bersifat garis lurus. Selain itu, efek atau nilai koefisien antar variabel bersifat additive. Jika linearity ini tidak terpenuhi, maka otomatis semua nilai koefisien yang kita dapatkan tidak valid karena model berasumsi bahwa pola yang akan kita buat adalah linear."
   ]
  },
  {
   "cell_type": "code",
   "execution_count": null,
   "metadata": {
    "scrolled": true
   },
   "outputs": [],
   "source": [
    "# Residual vs fitted values\n",
    "linearity_test(lm_multiple)"
   ]
  },
  {
   "cell_type": "markdown",
   "metadata": {},
   "source": [
    "Bagaimana apabila ada yang tidak linear?\n",
    "- Exclude variable tersebut dari model\n",
    "- Apabila mayoritas variable prediktor tidak linear, maka bisa ganti model"
   ]
  },
  {
   "cell_type": "markdown",
   "metadata": {},
   "source": [
    "## Normality of Residual\n",
    "\n",
    "**Harapannya ketika membuat model linear regression**, error yang dihasilkan berdistribusi normal. Artinya error banyak berkumpul disekitar angka 0. Untuk mengecek residual menyebar normal, pengujian yang paling sering dilakukan adalah Shapiro test:\n",
    "- $H_0$: Residual berdistribusi normal\n",
    "- $H_1$: Residual tidak berdistribusi normal\n",
    "\n",
    "Dalam melakukan pengujiannya kita akan dibantu library `scipy` dan memanfaatkan fungsi `shapiro()`. Untuk memanfaatkan fungsi tersebut, kita akan mengeluarkan nilai residu dari model yang sudah dibuat dengan menambahkan `.resid` pada objek model yang dibuat.\n",
    "\n",
    "📌 **Note**: Jika asumsi normalitas tidak terpenuhi, maka hasil uji signifikansi serta nilai standard error dari intercept dan slope setiap prediktor yang dihasilkan bersifat bias atau tidak mencerminkan nilai sebenarnya. Jika residual memiliki distribusi yang tidak normal, bisa lakukan **transformasi/scaling data pada target variabel** atau **menambahkan sample data**."
   ]
  },
  {
   "cell_type": "code",
   "execution_count": null,
   "metadata": {
    "ExecuteTime": {
     "end_time": "2021-12-01T08:55:20.943123Z",
     "start_time": "2021-12-01T08:55:20.919005Z"
    }
   },
   "outputs": [],
   "source": [
    "pd.DataFrame({\n",
    "    'Prediction': lm_multiple.fittedvalues,\n",
    "    'Actual': properti_enc['Price'],\n",
    "    'Residual': lm_multiple.resid\n",
    "}).head()"
   ]
  },
  {
   "cell_type": "markdown",
   "metadata": {},
   "source": [
    "Untuk melakukan pengujian asumsi normality of residual bisa menggunakan visualisasi histogram."
   ]
  },
  {
   "cell_type": "code",
   "execution_count": null,
   "metadata": {
    "ExecuteTime": {
     "end_time": "2021-12-01T08:58:50.655005Z",
     "start_time": "2021-12-01T08:58:50.351818Z"
    },
    "scrolled": true
   },
   "outputs": [],
   "source": [
    "lm_multiple.resid.hist()"
   ]
  },
  {
   "cell_type": "markdown",
   "metadata": {},
   "source": [
    "Selain itu bisa juga menggunakan pengujian statistik yaitu **Shapiro Test**. Dalam melakukan pengujiannya kita akan dibantu library `scipy` dan memanfaatkan fungsi `shapiro()`. Untuk memanfaatkan fungsi tersebut, kita akan mengeluarkan nilai residu dari model yang sudah dibuat dengan menambahkan `.resid` pada objek model yang dibuat."
   ]
  },
  {
   "cell_type": "code",
   "execution_count": null,
   "metadata": {
    "ExecuteTime": {
     "end_time": "2021-12-01T09:02:17.885802Z",
     "start_time": "2021-12-01T09:02:17.860337Z"
    }
   },
   "outputs": [],
   "source": [
    "from scipy.stats import shapiro\n",
    "shapiro(lm_multiple.resid)"
   ]
  },
  {
   "cell_type": "markdown",
   "metadata": {},
   "source": [
    "Nilai p-value yang kita harapkan pada uji shapiro test yaitu **p-value > alpha**."
   ]
  },
  {
   "cell_type": "markdown",
   "metadata": {},
   "source": [
    "Handling asumsi yang tidak terpenuhi untuk normality of residuals yaitu dengan cara:\n",
    "- menambahkan data\n",
    "- transformasi pada target varibel (y)"
   ]
  },
  {
   "cell_type": "markdown",
   "metadata": {},
   "source": [
    "## No Heteroscedasticity (Homoscedasticity)\n",
    "\n",
    "Homocesdasticity menunjukkan bahwa residual atau error bersifat konstan atau tidak membentuk pola tertentu. Jika error membentuk pola tertentu seperti garis linear atau mengerucut, maka kita sebut dengan `Heterocesdasticity` dan akan berpengaruh pada nilai standard error pada estimate/koefisien prediktor yan bias (terlalu sempit atau terlalu lebar).\n",
    "\n",
    "Untuk mengecek terjadinya heteroscedasticity kita dapat menggunakan Breusch-Pagan test:\n",
    "- $H_0$: residual homogen(tidak membentuk sebuah pola/acak)\n",
    "- $H_1$: residual heteros (membentuk sebuah pola)\n",
    "\n",
    "Kita bisa menggunakan method `het_breuschpagan()` dari library `statsmodels`."
   ]
  },
  {
   "cell_type": "markdown",
   "metadata": {},
   "source": [
    "Pada `lm_multiple_new` yang kita miliki, kita bisa memvisualisasikan sebaran dari residual yang ada dengan menggunakan scatter plot."
   ]
  },
  {
   "cell_type": "code",
   "execution_count": null,
   "metadata": {
    "ExecuteTime": {
     "end_time": "2021-12-01T09:07:54.769105Z",
     "start_time": "2021-12-01T09:07:54.488878Z"
    },
    "scrolled": true
   },
   "outputs": [],
   "source": [
    "plt.scatter(y = lm_multiple.resid, x = lm_multiple.fittedvalues)\n",
    "plt.axhline(y = 0, color = 'r')"
   ]
  },
  {
   "cell_type": "code",
   "execution_count": null,
   "metadata": {
    "ExecuteTime": {
     "end_time": "2021-12-01T09:09:02.875936Z",
     "start_time": "2021-12-01T09:09:02.855129Z"
    }
   },
   "outputs": [],
   "source": [
    "from statsmodels.compat import lzip\n",
    "import statsmodels.stats.api as sms\n",
    "\n",
    "name = ['Lagrange multiplier statistics', 'p-value', 'f-value', 'f p-value']\n",
    "\n",
    "test = sms.het_breuschpagan(lm_multiple.resid, lm_multiple.model.exog)\n",
    "lzip(name, test)"
   ]
  },
  {
   "cell_type": "markdown",
   "metadata": {},
   "source": [
    "## No Multicolinearity\n",
    "\n",
    "Harapannya pada model linear regression, tidak terjadi multikolinearitas. Multikolinearitas terjadi ketika antar variabel prediktor yang digunakan pada model memiliki hubungan yang kuat. Ada atau tidak multikolinearitas dapat dilihat dari nilai VIF(Variance Inflation Factor). \n",
    "\n",
    "VIF dibagi menjadi beberapa nilai berikut:\n",
    "- 1 = tidak berkorelasi antar prediktornya\n",
    "- antara 1 dan 5 = korelasinya moderate\n",
    "- Lebih besar 5 = paling kuat berkorelasi antar prediktornya\n",
    "- Biasanya VIF lebih besar 10 adalah yang menunjukkan variabel prediktor sangat berkorelasi kuat.\n",
    "\n",
    "> Ketika nilai VIF > 10 maka **ada hubungan yang kuat antar prediktor**. Yang diingkan ketika membuat model, nilai VIF < 10 agar **tidak ada hubungan antar prediktor**."
   ]
  },
  {
   "cell_type": "code",
   "execution_count": null,
   "metadata": {
    "ExecuteTime": {
     "end_time": "2021-12-01T09:11:44.599337Z",
     "start_time": "2021-12-01T09:11:44.571326Z"
    }
   },
   "outputs": [],
   "source": [
    "from statsmodels.stats.outliers_influence import variance_inflation_factor\n",
    "import statsmodels.api as sm\n",
    "\n",
    "vif = [variance_inflation_factor(X.values, i) for i in range(len(X.columns))]\n",
    "pd.Series(data=vif, index = X.columns).sort_values(ascending=False)"
   ]
  },
  {
   "cell_type": "markdown",
   "metadata": {},
   "source": [
    "Jika terjadi multicollinearity, yang bisa dilakukan adalah:\n",
    "- Membuang salah satu variabel\n",
    "- Membuat variabel baru, dari rata-rata nilai kedua variabel"
   ]
  }
 ],
 "metadata": {
  "kernelspec": {
   "display_name": "dev",
   "language": "python",
   "name": "dev"
  },
  "language_info": {
   "codemirror_mode": {
    "name": "ipython",
    "version": 3
   },
   "file_extension": ".py",
   "mimetype": "text/x-python",
   "name": "python",
   "nbconvert_exporter": "python",
   "pygments_lexer": "ipython3",
   "version": "3.10.13"
  },
  "toc": {
   "base_numbering": 1,
   "nav_menu": {},
   "number_sections": true,
   "sideBar": true,
   "skip_h1_title": false,
   "title_cell": "Table of Contents",
   "title_sidebar": "Contents",
   "toc_cell": false,
   "toc_position": {},
   "toc_section_display": true,
   "toc_window_display": false
  },
  "varInspector": {
   "cols": {
    "lenName": 16,
    "lenType": 16,
    "lenVar": 40
   },
   "kernels_config": {
    "python": {
     "delete_cmd_postfix": "",
     "delete_cmd_prefix": "del ",
     "library": "var_list.py",
     "varRefreshCmd": "print(var_dic_list())"
    },
    "r": {
     "delete_cmd_postfix": ") ",
     "delete_cmd_prefix": "rm(",
     "library": "var_list.r",
     "varRefreshCmd": "cat(var_dic_list()) "
    }
   },
   "types_to_exclude": [
    "module",
    "function",
    "builtin_function_or_method",
    "instance",
    "_Feature"
   ],
   "window_display": false
  }
 },
 "nbformat": 4,
 "nbformat_minor": 4
}
