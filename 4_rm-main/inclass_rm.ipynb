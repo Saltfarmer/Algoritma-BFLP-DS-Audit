{
 "cells": [
  {
   "cell_type": "markdown",
   "metadata": {},
   "source": [
    "**Inclass: Regression Model**\n",
    "- Durasi: 7 hours\n",
    "- _Last Updated_: Desember 2023\n",
    "\n",
    "___\n",
    "\n",
    "- Disusun dan dikurasi oleh tim produk dan instruktur [Algoritma Data Science School](https://algorit.ma)."
   ]
  },
  {
   "cell_type": "code",
   "execution_count": 1,
   "metadata": {
    "ExecuteTime": {
     "end_time": "2021-12-02T09:24:56.204772Z",
     "start_time": "2021-12-02T09:24:53.159457Z"
    },
    "execution": {
     "iopub.execute_input": "2024-01-08T01:39:43.546599Z",
     "iopub.status.busy": "2024-01-08T01:39:43.546599Z",
     "iopub.status.idle": "2024-01-08T01:39:45.891820Z",
     "shell.execute_reply": "2024-01-08T01:39:45.890826Z",
     "shell.execute_reply.started": "2024-01-08T01:39:43.546599Z"
    }
   },
   "outputs": [],
   "source": [
    "import pandas as pd\n",
    "import matplotlib.pyplot as plt\n",
    "import statsmodels.api as sm\n",
    "from helper import linearity_test"
   ]
  },
  {
   "cell_type": "markdown",
   "metadata": {},
   "source": [
    "# Introduction\n",
    "\n",
    "Machine learning bertujuan untuk membuat mesin yang belajar berdasarkan data. Machine learning terbagi dua:\n",
    "\n",
    "<img src=\"assets/supervised_unsupervised.png\" width=\"900\">\n",
    "\n",
    "\n",
    "**Supervised Learning**: \n",
    "\n",
    "* memiliki target variable. \n",
    "* untuk pembuatan model prediksi (y ~ x)\n",
    "* ada ground truth (label aktual) sehingga ada evaluasi model\n",
    "\n",
    "**Unsupervised Learning**: \n",
    "\n",
    "* tidak memiliki target variable. \n",
    "* untuk mencari pola dalam data sehingga menghasilkan informasi yang berguna/dapat diolah lebih lanjut. umumnya dipakai untuk tahap explanatory data analysis (EDA)/data pre-processing.\n",
    "* tidak ada ground truth sehingga tidak ada evaluasi model "
   ]
  },
  {
   "cell_type": "markdown",
   "metadata": {},
   "source": [
    "# Regression Model"
   ]
  },
  {
   "cell_type": "markdown",
   "metadata": {},
   "source": [
    "Regression model merupakan **Supervised Learning** karena data yang dibutuhkan harus memiliki target variabel (y). Target variabel dari Regression Model harus bertipe numerik, namun untuk prediktornya (x) boleh numerik/kategorik\n",
    "\n",
    "📝**Business Problem**\n",
    "\n",
    "Pemilihan variabel target biasanya dikaitkan dengan masalah bisnis yang ingin diselesaikan:\n",
    "\n",
    "1. Sebuah dealer mobil berusaha membangun sebuah model untuk memprediksi harga mobil untuk digunakan sebagai patokan ketika membuka harga transaksi. Untuk itu mereka mengembangkan sebuah model dengan:\n",
    "\n",
    "     * Variabel target: \n",
    "     * Variabel prediktor: \n",
    "\n",
    "2. Seorang mahasiswa pertanian diminta untuk melakukan analisis regresi untuk memprediksi produktivitas padi dari berbagai lahan di Pulau Jawa. Untuk itu ia mengembangkan sebuah model dengan:\n",
    "\n",
    "     * Variabel target:\n",
    "     * Variabel prediktor: "
   ]
  },
  {
   "cell_type": "markdown",
   "metadata": {},
   "source": [
    "# **Regression Modeling Workflow** - Predicting Property Sales Price: in Jakarta, Tangsel, and Depok Area\n",
    "\n",
    "Sebagai Tim Data di sebuah institusi perbankan, kita diminta untuk melakukan analisis untuk mengetahui prediksi harga properti untuk acuan dasar data credit KPR. \n",
    "\n",
    "Keinginan untuk memiliki properti sendiri merupakan impian banyak orang. Selain bisa dijadikan tempat tinggal, memiliki properti di Jakarta dan Depok adalah salah satu aset investasi yang menguntungkan karena harganya yang cenderung naik setiap tahunnya.  \n",
    "\n",
    "Dalam proses pencarian tempat tinggal idaman ini, beberapa orang mungkin saja mengalami hambatan, yaitu kesulitan dalam mencari tempat tinggal yang sesuai dengan spesifikasi yang diinginkan dan budget yang dimiliki. Banyak orang menemukan tempat tinggal dengan harga yang cukup mahal namun tidak sesuai dengan spesifikasi yang ditawarkan.\n",
    "\n",
    "***Apakah terdapat sistem yang dapat memberikan referensi harga properti?”*** menjadi tujuan analisis pada pembahasan analisis kita.\n",
    "\n",
    "## Simple Linear Regression\n",
    "\n",
    "Pada Simple Linear Regression, kita akan membuat model regresi dengan **satu buah variabel prediktor**. Formula untuk simple linear regression adalah\n",
    "\n",
    "Formula model simple linear regression:\n",
    "\n",
    "$$\n",
    "\\hat{y}=\\beta_0+\\beta_1.x_1\n",
    "$$\n",
    "\n",
    "dimana:\n",
    "- $\\hat{y}$ : nilai prediksi target variabel\n",
    "- $\\beta_0$ : nilai intercept (nilai target variabel ketika kita tidak memiliki prediktor sama sekali)\n",
    "- $\\beta_1$ : nilai slope (nilai kemiringan garis regresi / nilai kontribusi prediktor dalam menentukan target variabel)\n",
    "\n",
    "Bagaimanakah kita mendapatkan garis yang paling representatif terhadap data kita?\n",
    "\n",
    "> Regresi bekerja berdasarkan konsep **Ordinary Least Square** yang mencari persamaan garis linear dengan nilai **error terkecil**. Error adalah selisih nilai prediksi/nilai pada garis dengan nilai aktual.\n",
    "\n",
    "<!-- Note: Jika Anda membuka docstring (dokumentasi) untuk fungsi OLS() pada statsmodel, ada keterangan parameter `endog` dan `exog` yang dapat diakses pengertiannya secara lebih lanjut pada [dokumentasi berikut](https://www.statsmodels.org/stable/endog_exog.html) -->"
   ]
  },
  {
   "cell_type": "markdown",
   "metadata": {},
   "source": [
    "### 1. Import data\n",
    "\n",
    "Kita akan gunakan data `properti.csv` yang tersimpan di folder data_input. Data yang diambil adalah data hasil scrapping dari website https://www.rumah123.com/"
   ]
  },
  {
   "cell_type": "code",
   "execution_count": 2,
   "metadata": {
    "execution": {
     "iopub.execute_input": "2024-01-08T01:39:49.539808Z",
     "iopub.status.busy": "2024-01-08T01:39:49.538811Z",
     "iopub.status.idle": "2024-01-08T01:39:49.550400Z",
     "shell.execute_reply": "2024-01-08T01:39:49.549405Z",
     "shell.execute_reply.started": "2024-01-08T01:39:49.539808Z"
    }
   },
   "outputs": [],
   "source": [
    "# code ini untuk mengatur pemisah angka ribuan\n",
    "pd.options.display.float_format = '{:,.3f}'.format"
   ]
  },
  {
   "cell_type": "code",
   "execution_count": 49,
   "metadata": {
    "ExecuteTime": {
     "end_time": "2021-12-02T09:24:56.236599Z",
     "start_time": "2021-12-02T09:24:56.210617Z"
    },
    "execution": {
     "iopub.execute_input": "2024-01-08T02:53:48.013051Z",
     "iopub.status.busy": "2024-01-08T02:53:48.012053Z",
     "iopub.status.idle": "2024-01-08T02:53:48.056611Z",
     "shell.execute_reply": "2024-01-08T02:53:48.054601Z",
     "shell.execute_reply.started": "2024-01-08T02:53:48.013051Z"
    }
   },
   "outputs": [],
   "source": [
    "# Data\n",
    "properti = pd.read_csv(\"data_input/properti_jual.csv\")"
   ]
  },
  {
   "cell_type": "code",
   "execution_count": 4,
   "metadata": {
    "execution": {
     "iopub.execute_input": "2024-01-08T01:39:51.274494Z",
     "iopub.status.busy": "2024-01-08T01:39:51.273485Z",
     "iopub.status.idle": "2024-01-08T01:39:51.294922Z",
     "shell.execute_reply": "2024-01-08T01:39:51.293922Z",
     "shell.execute_reply.started": "2024-01-08T01:39:51.274494Z"
    },
    "scrolled": true
   },
   "outputs": [
    {
     "data": {
      "text/html": [
       "<div>\n",
       "<style scoped>\n",
       "    .dataframe tbody tr th:only-of-type {\n",
       "        vertical-align: middle;\n",
       "    }\n",
       "\n",
       "    .dataframe tbody tr th {\n",
       "        vertical-align: top;\n",
       "    }\n",
       "\n",
       "    .dataframe thead th {\n",
       "        text-align: right;\n",
       "    }\n",
       "</style>\n",
       "<table border=\"1\" class=\"dataframe\">\n",
       "  <thead>\n",
       "    <tr style=\"text-align: right;\">\n",
       "      <th></th>\n",
       "      <th>K..Mandi</th>\n",
       "      <th>K..Tidur</th>\n",
       "      <th>L..Bangunan</th>\n",
       "      <th>Sertifikat</th>\n",
       "      <th>Tipe.Properti</th>\n",
       "      <th>Kota</th>\n",
       "      <th>Price</th>\n",
       "    </tr>\n",
       "  </thead>\n",
       "  <tbody>\n",
       "    <tr>\n",
       "      <th>0</th>\n",
       "      <td>3</td>\n",
       "      <td>4</td>\n",
       "      <td>294</td>\n",
       "      <td>SHM - Sertifikat Hak Milik</td>\n",
       "      <td>Rumah</td>\n",
       "      <td>Jakarta Utara</td>\n",
       "      <td>3500000000</td>\n",
       "    </tr>\n",
       "    <tr>\n",
       "      <th>1</th>\n",
       "      <td>3</td>\n",
       "      <td>3</td>\n",
       "      <td>78</td>\n",
       "      <td>SHM - Sertifikat Hak Milik</td>\n",
       "      <td>Apartemen</td>\n",
       "      <td>Jakarta Selatan</td>\n",
       "      <td>2500000000</td>\n",
       "    </tr>\n",
       "    <tr>\n",
       "      <th>2</th>\n",
       "      <td>1</td>\n",
       "      <td>1</td>\n",
       "      <td>33</td>\n",
       "      <td>HGB - Hak Guna Bangunan</td>\n",
       "      <td>Apartemen</td>\n",
       "      <td>Jakarta Timur</td>\n",
       "      <td>265000000</td>\n",
       "    </tr>\n",
       "    <tr>\n",
       "      <th>3</th>\n",
       "      <td>2</td>\n",
       "      <td>2</td>\n",
       "      <td>120</td>\n",
       "      <td>SHM - Sertifikat Hak Milik</td>\n",
       "      <td>Rumah</td>\n",
       "      <td>Jakarta Pusat</td>\n",
       "      <td>2600000000</td>\n",
       "    </tr>\n",
       "    <tr>\n",
       "      <th>4</th>\n",
       "      <td>3</td>\n",
       "      <td>3</td>\n",
       "      <td>130</td>\n",
       "      <td>SHM - Sertifikat Hak Milik</td>\n",
       "      <td>Rumah</td>\n",
       "      <td>Depok</td>\n",
       "      <td>1300000000</td>\n",
       "    </tr>\n",
       "  </tbody>\n",
       "</table>\n",
       "</div>"
      ],
      "text/plain": [
       "   K..Mandi  K..Tidur  L..Bangunan                  Sertifikat Tipe.Properti  \\\n",
       "0         3         4          294  SHM - Sertifikat Hak Milik         Rumah   \n",
       "1         3         3           78  SHM - Sertifikat Hak Milik     Apartemen   \n",
       "2         1         1           33     HGB - Hak Guna Bangunan     Apartemen   \n",
       "3         2         2          120  SHM - Sertifikat Hak Milik         Rumah   \n",
       "4         3         3          130  SHM - Sertifikat Hak Milik         Rumah   \n",
       "\n",
       "              Kota       Price  \n",
       "0    Jakarta Utara  3500000000  \n",
       "1  Jakarta Selatan  2500000000  \n",
       "2    Jakarta Timur   265000000  \n",
       "3    Jakarta Pusat  2600000000  \n",
       "4            Depok  1300000000  "
      ]
     },
     "execution_count": 4,
     "metadata": {},
     "output_type": "execute_result"
    }
   ],
   "source": [
    "properti.head()"
   ]
  },
  {
   "cell_type": "markdown",
   "metadata": {},
   "source": [
    "Berikut deskripsi variabel dari data tersebut:\n",
    "- `K..Mandi`: Jumlah kamar mandi pada suatu properti\n",
    "\n",
    "- `K..Tidur`: Jumlah kamar tidur pada suatu properti\n",
    "\n",
    "- `L..Bangunan`: Luas bangunan properti (m2)\n",
    "\n",
    "- `Sertifikat`: Jenis sertifikat atas properti yang di jual\n",
    "    - `Sertifikat Hak Pakai`\n",
    "    - `Sertifikat Hak Sewa`\n",
    "    - `Sertifikat lainnya (PPJB, Girik, Adat, dll)`\n",
    "    - `Sertifikat PPJB`\n",
    "    - `Sertifikat Hak Milik`\n",
    "    \n",
    "- `Tipe.Properti`: Jenis properti yang dijual\n",
    "    - `Rumah`: Untuk tipe properti rumah\n",
    "    - `Apartemen`: Untuk tipe properti apartemen\n",
    "    \n",
    "- `Kota`: Lokasi kota tempat properti di jual\n",
    "    - `Depok`\n",
    "    - `Jakarta Selatan`\n",
    "    - `Jakarta Timur`\n",
    "    - `Jakarta Utara`\n",
    "    - `Jakarta Barat`\n",
    "    - `Jakarta Pusat`\n",
    "    - `Tangerang Selatan`\n",
    "- `Price`: Nominal harga properti yang dijual"
   ]
  },
  {
   "cell_type": "markdown",
   "metadata": {},
   "source": [
    "### 2. Inspect data berdasarkan tipe datanya"
   ]
  },
  {
   "cell_type": "code",
   "execution_count": 5,
   "metadata": {
    "ExecuteTime": {
     "end_time": "2021-12-02T09:24:56.298417Z",
     "start_time": "2021-12-02T09:24:56.285784Z"
    },
    "execution": {
     "iopub.execute_input": "2024-01-08T01:39:54.916816Z",
     "iopub.status.busy": "2024-01-08T01:39:54.916816Z",
     "iopub.status.idle": "2024-01-08T01:39:54.938825Z",
     "shell.execute_reply": "2024-01-08T01:39:54.937816Z",
     "shell.execute_reply.started": "2024-01-08T01:39:54.916816Z"
    }
   },
   "outputs": [
    {
     "data": {
      "text/plain": [
       "K..Mandi          int64\n",
       "K..Tidur          int64\n",
       "L..Bangunan       int64\n",
       "Sertifikat       object\n",
       "Tipe.Properti    object\n",
       "Kota             object\n",
       "Price             int64\n",
       "dtype: object"
      ]
     },
     "execution_count": 5,
     "metadata": {},
     "output_type": "execute_result"
    }
   ],
   "source": [
    "## code here\n",
    "properti.dtypes"
   ]
  },
  {
   "cell_type": "markdown",
   "metadata": {},
   "source": [
    "Tipe data yang belum sesuai adalah : \n",
    "- 'Sertifikat', 'Tipe.Properti', 'Kota'"
   ]
  },
  {
   "cell_type": "code",
   "execution_count": 81,
   "metadata": {
    "ExecuteTime": {
     "end_time": "2021-12-02T09:24:56.329398Z",
     "start_time": "2021-12-02T09:24:56.316450Z"
    },
    "execution": {
     "iopub.execute_input": "2024-01-08T03:22:28.256524Z",
     "iopub.status.busy": "2024-01-08T03:22:28.255527Z",
     "iopub.status.idle": "2024-01-08T03:22:28.271523Z",
     "shell.execute_reply": "2024-01-08T03:22:28.269522Z",
     "shell.execute_reply.started": "2024-01-08T03:22:28.256524Z"
    },
    "hide_input": true
   },
   "outputs": [],
   "source": [
    "# Object nama kolom kategori\n",
    "cat_var = ['Sertifikat', 'Tipe.Properti', 'Kota']\n",
    "\n",
    "# Mengubah tipe data dari beberapa kolom\n",
    "properti[cat_var] = properti[cat_var].astype('category')"
   ]
  },
  {
   "cell_type": "code",
   "execution_count": 7,
   "metadata": {
    "execution": {
     "iopub.execute_input": "2024-01-08T01:42:02.975725Z",
     "iopub.status.busy": "2024-01-08T01:42:02.975725Z",
     "iopub.status.idle": "2024-01-08T01:42:02.996733Z",
     "shell.execute_reply": "2024-01-08T01:42:02.995723Z",
     "shell.execute_reply.started": "2024-01-08T01:42:02.975725Z"
    }
   },
   "outputs": [
    {
     "data": {
      "text/plain": [
       "K..Mandi            int64\n",
       "K..Tidur            int64\n",
       "L..Bangunan         int64\n",
       "Sertifikat       category\n",
       "Tipe.Properti    category\n",
       "Kota             category\n",
       "Price               int64\n",
       "dtype: object"
      ]
     },
     "execution_count": 7,
     "metadata": {},
     "output_type": "execute_result"
    }
   ],
   "source": [
    "# Cek kembali hasil proses perubahan tipe data\n",
    "properti.dtypes"
   ]
  },
  {
   "cell_type": "markdown",
   "metadata": {
    "hide_input": false
   },
   "source": [
    "### 3. Cek missing value"
   ]
  },
  {
   "cell_type": "markdown",
   "metadata": {},
   "source": [
    "Sangat penting untuk mengidentifikasi apakah terdapat missing value di dataset kita sebelum dilakukan pemodelan machine learning. \n",
    "> ❓ Karena missing value dapat mempengaruhi performa model secara signifikan\n",
    "\n",
    "#### Missing value ada disebabkan karena:\n",
    "1. Kesalahan koleksi data\n",
    "2. Permasalahan pada saat preprocessing\n",
    "3. Sesimple karena data tidak terkumpul oleh sebagian observasi\n",
    "\n",
    "Metode yang dapat dilakukan untuk mengetahui apakah pada data yang diolah memiliki nilai *missing* dengan menggunakan fungsi `isnull().sum()`."
   ]
  },
  {
   "cell_type": "code",
   "execution_count": 17,
   "metadata": {
    "ExecuteTime": {
     "end_time": "2021-12-02T09:24:56.329398Z",
     "start_time": "2021-12-02T09:24:56.316450Z"
    },
    "execution": {
     "iopub.execute_input": "2024-01-08T01:46:49.926674Z",
     "iopub.status.busy": "2024-01-08T01:46:49.925663Z",
     "iopub.status.idle": "2024-01-08T01:46:49.942676Z",
     "shell.execute_reply": "2024-01-08T01:46:49.940683Z",
     "shell.execute_reply.started": "2024-01-08T01:46:49.926674Z"
    }
   },
   "outputs": [
    {
     "data": {
      "text/plain": [
       "K..Mandi         0\n",
       "K..Tidur         0\n",
       "L..Bangunan      0\n",
       "Sertifikat       0\n",
       "Tipe.Properti    0\n",
       "Kota             0\n",
       "Price            0\n",
       "dtype: int64"
      ]
     },
     "execution_count": 17,
     "metadata": {},
     "output_type": "execute_result"
    }
   ],
   "source": [
    "## melihat nilai missing\n",
    "properti.isnull().sum()"
   ]
  },
  {
   "cell_type": "markdown",
   "metadata": {},
   "source": [
    "### 4. 🎯 Mendefinisikan Business Problem\n",
    "\n",
    "Dari pernyataan bisnis yang diajukan, **kita ingin melakukan prediksi harga properti berdasarkan Luas Bangunan**\n",
    "\n",
    "❓ Berdasarkan kolom-kolom data, mari kita coba tentukan kolom apa yang akan menjadi *target* dan *prediktor*?\n",
    "\n",
    "- Variabel target: \n",
    "- Variabel prediktor: "
   ]
  },
  {
   "cell_type": "markdown",
   "metadata": {},
   "source": [
    "### 5. Exploratory Data Analysis (EDA)"
   ]
  },
  {
   "cell_type": "markdown",
   "metadata": {},
   "source": [
    "* <u>**Descriptive Statistics**</u>\n",
    "\n",
    "Analisis statistik deskriptif digunakan untuk memberikan **gambaran awal mengenai distribusi dan perilaku data** dengan melihat nilai minimum, nilai maximum, rata – rata (mean), dan standar deviasi dari masing-masing variabel independen dan variabel dependen.\n",
    "\n",
    "Method `describe()` menampilkan 8 ringkasan statistika deskriptif. Secara default menampilkan ringkasan untuk kolom numerik."
   ]
  },
  {
   "cell_type": "code",
   "execution_count": 14,
   "metadata": {
    "execution": {
     "iopub.execute_input": "2024-01-08T01:43:54.729152Z",
     "iopub.status.busy": "2024-01-08T01:43:54.728143Z",
     "iopub.status.idle": "2024-01-08T01:43:54.762414Z",
     "shell.execute_reply": "2024-01-08T01:43:54.760435Z",
     "shell.execute_reply.started": "2024-01-08T01:43:54.729152Z"
    }
   },
   "outputs": [
    {
     "data": {
      "text/html": [
       "<div>\n",
       "<style scoped>\n",
       "    .dataframe tbody tr th:only-of-type {\n",
       "        vertical-align: middle;\n",
       "    }\n",
       "\n",
       "    .dataframe tbody tr th {\n",
       "        vertical-align: top;\n",
       "    }\n",
       "\n",
       "    .dataframe thead th {\n",
       "        text-align: right;\n",
       "    }\n",
       "</style>\n",
       "<table border=\"1\" class=\"dataframe\">\n",
       "  <thead>\n",
       "    <tr style=\"text-align: right;\">\n",
       "      <th></th>\n",
       "      <th>K..Mandi</th>\n",
       "      <th>K..Tidur</th>\n",
       "      <th>L..Bangunan</th>\n",
       "      <th>Price</th>\n",
       "    </tr>\n",
       "  </thead>\n",
       "  <tbody>\n",
       "    <tr>\n",
       "      <th>count</th>\n",
       "      <td>6,287.000</td>\n",
       "      <td>6,287.000</td>\n",
       "      <td>6,287.000</td>\n",
       "      <td>6,287.000</td>\n",
       "    </tr>\n",
       "    <tr>\n",
       "      <th>mean</th>\n",
       "      <td>1.909</td>\n",
       "      <td>2.410</td>\n",
       "      <td>92.866</td>\n",
       "      <td>1,705,079,211.070</td>\n",
       "    </tr>\n",
       "    <tr>\n",
       "      <th>std</th>\n",
       "      <td>0.948</td>\n",
       "      <td>0.975</td>\n",
       "      <td>66.115</td>\n",
       "      <td>1,254,170,884.604</td>\n",
       "    </tr>\n",
       "    <tr>\n",
       "      <th>min</th>\n",
       "      <td>1.000</td>\n",
       "      <td>1.000</td>\n",
       "      <td>1.000</td>\n",
       "      <td>205,000,000.000</td>\n",
       "    </tr>\n",
       "    <tr>\n",
       "      <th>25%</th>\n",
       "      <td>1.000</td>\n",
       "      <td>2.000</td>\n",
       "      <td>41.000</td>\n",
       "      <td>740,000,000.000</td>\n",
       "    </tr>\n",
       "    <tr>\n",
       "      <th>50%</th>\n",
       "      <td>2.000</td>\n",
       "      <td>2.000</td>\n",
       "      <td>75.000</td>\n",
       "      <td>1,350,000,000.000</td>\n",
       "    </tr>\n",
       "    <tr>\n",
       "      <th>75%</th>\n",
       "      <td>3.000</td>\n",
       "      <td>3.000</td>\n",
       "      <td>130.000</td>\n",
       "      <td>2,350,000,000.000</td>\n",
       "    </tr>\n",
       "    <tr>\n",
       "      <th>max</th>\n",
       "      <td>5.000</td>\n",
       "      <td>4.000</td>\n",
       "      <td>600.000</td>\n",
       "      <td>5,970,000,000.000</td>\n",
       "    </tr>\n",
       "  </tbody>\n",
       "</table>\n",
       "</div>"
      ],
      "text/plain": [
       "       K..Mandi  K..Tidur  L..Bangunan             Price\n",
       "count 6,287.000 6,287.000    6,287.000         6,287.000\n",
       "mean      1.909     2.410       92.866 1,705,079,211.070\n",
       "std       0.948     0.975       66.115 1,254,170,884.604\n",
       "min       1.000     1.000        1.000   205,000,000.000\n",
       "25%       1.000     2.000       41.000   740,000,000.000\n",
       "50%       2.000     2.000       75.000 1,350,000,000.000\n",
       "75%       3.000     3.000      130.000 2,350,000,000.000\n",
       "max       5.000     4.000      600.000 5,970,000,000.000"
      ]
     },
     "execution_count": 14,
     "metadata": {},
     "output_type": "execute_result"
    }
   ],
   "source": [
    "properti.describe()"
   ]
  },
  {
   "cell_type": "code",
   "execution_count": 31,
   "metadata": {
    "execution": {
     "iopub.execute_input": "2024-01-08T02:08:07.816589Z",
     "iopub.status.busy": "2024-01-08T02:08:07.816589Z",
     "iopub.status.idle": "2024-01-08T02:08:07.842585Z",
     "shell.execute_reply": "2024-01-08T02:08:07.841825Z",
     "shell.execute_reply.started": "2024-01-08T02:08:07.816589Z"
    }
   },
   "outputs": [
    {
     "data": {
      "text/html": [
       "<div>\n",
       "<style scoped>\n",
       "    .dataframe tbody tr th:only-of-type {\n",
       "        vertical-align: middle;\n",
       "    }\n",
       "\n",
       "    .dataframe tbody tr th {\n",
       "        vertical-align: top;\n",
       "    }\n",
       "\n",
       "    .dataframe thead th {\n",
       "        text-align: right;\n",
       "    }\n",
       "</style>\n",
       "<table border=\"1\" class=\"dataframe\">\n",
       "  <thead>\n",
       "    <tr style=\"text-align: right;\">\n",
       "      <th></th>\n",
       "      <th>K..Mandi</th>\n",
       "      <th>K..Tidur</th>\n",
       "      <th>L..Bangunan</th>\n",
       "      <th>Sertifikat</th>\n",
       "      <th>Tipe.Properti</th>\n",
       "      <th>Kota</th>\n",
       "      <th>Price</th>\n",
       "    </tr>\n",
       "  </thead>\n",
       "  <tbody>\n",
       "    <tr>\n",
       "      <th>177</th>\n",
       "      <td>1</td>\n",
       "      <td>1</td>\n",
       "      <td>18</td>\n",
       "      <td>Lainnya (PPJB,Girik,Adat,dll)</td>\n",
       "      <td>Apartemen</td>\n",
       "      <td>Jakarta Timur</td>\n",
       "      <td>250000000</td>\n",
       "    </tr>\n",
       "    <tr>\n",
       "      <th>282</th>\n",
       "      <td>1</td>\n",
       "      <td>1</td>\n",
       "      <td>17</td>\n",
       "      <td>HP - Hak Pakai</td>\n",
       "      <td>Apartemen</td>\n",
       "      <td>Depok</td>\n",
       "      <td>360000000</td>\n",
       "    </tr>\n",
       "    <tr>\n",
       "      <th>557</th>\n",
       "      <td>1</td>\n",
       "      <td>1</td>\n",
       "      <td>14</td>\n",
       "      <td>HGB - Hak Guna Bangunan</td>\n",
       "      <td>Apartemen</td>\n",
       "      <td>Jakarta Utara</td>\n",
       "      <td>290000000</td>\n",
       "    </tr>\n",
       "    <tr>\n",
       "      <th>663</th>\n",
       "      <td>4</td>\n",
       "      <td>3</td>\n",
       "      <td>4</td>\n",
       "      <td>Lainnya (PPJB,Girik,Adat,dll)</td>\n",
       "      <td>Rumah</td>\n",
       "      <td>Jakarta Pusat</td>\n",
       "      <td>3700000000</td>\n",
       "    </tr>\n",
       "    <tr>\n",
       "      <th>1074</th>\n",
       "      <td>1</td>\n",
       "      <td>1</td>\n",
       "      <td>16</td>\n",
       "      <td>Lainnya (PPJB,Girik,Adat,dll)</td>\n",
       "      <td>Apartemen</td>\n",
       "      <td>Jakarta Utara</td>\n",
       "      <td>260000000</td>\n",
       "    </tr>\n",
       "    <tr>\n",
       "      <th>1128</th>\n",
       "      <td>1</td>\n",
       "      <td>2</td>\n",
       "      <td>12</td>\n",
       "      <td>Lainnya (PPJB,Girik,Adat,dll)</td>\n",
       "      <td>Apartemen</td>\n",
       "      <td>Tangerang Selatan</td>\n",
       "      <td>1500000000</td>\n",
       "    </tr>\n",
       "    <tr>\n",
       "      <th>1363</th>\n",
       "      <td>1</td>\n",
       "      <td>1</td>\n",
       "      <td>17</td>\n",
       "      <td>Lainnya (PPJB,Girik,Adat,dll)</td>\n",
       "      <td>Apartemen</td>\n",
       "      <td>Depok</td>\n",
       "      <td>270000000</td>\n",
       "    </tr>\n",
       "    <tr>\n",
       "      <th>1436</th>\n",
       "      <td>1</td>\n",
       "      <td>2</td>\n",
       "      <td>12</td>\n",
       "      <td>Lainnya (PPJB,Girik,Adat,dll)</td>\n",
       "      <td>Apartemen</td>\n",
       "      <td>Tangerang Selatan</td>\n",
       "      <td>1500000000</td>\n",
       "    </tr>\n",
       "    <tr>\n",
       "      <th>1740</th>\n",
       "      <td>1</td>\n",
       "      <td>1</td>\n",
       "      <td>17</td>\n",
       "      <td>SHM - Sertifikat Hak Milik</td>\n",
       "      <td>Apartemen</td>\n",
       "      <td>Depok</td>\n",
       "      <td>235000000</td>\n",
       "    </tr>\n",
       "    <tr>\n",
       "      <th>1787</th>\n",
       "      <td>1</td>\n",
       "      <td>1</td>\n",
       "      <td>18</td>\n",
       "      <td>SHM - Sertifikat Hak Milik</td>\n",
       "      <td>Apartemen</td>\n",
       "      <td>Tangerang Selatan</td>\n",
       "      <td>250000000</td>\n",
       "    </tr>\n",
       "    <tr>\n",
       "      <th>2078</th>\n",
       "      <td>2</td>\n",
       "      <td>3</td>\n",
       "      <td>2</td>\n",
       "      <td>SHM - Sertifikat Hak Milik</td>\n",
       "      <td>Rumah</td>\n",
       "      <td>Jakarta Pusat</td>\n",
       "      <td>2000000000</td>\n",
       "    </tr>\n",
       "    <tr>\n",
       "      <th>2197</th>\n",
       "      <td>1</td>\n",
       "      <td>1</td>\n",
       "      <td>17</td>\n",
       "      <td>HGB - Hak Guna Bangunan</td>\n",
       "      <td>Apartemen</td>\n",
       "      <td>Depok</td>\n",
       "      <td>260000000</td>\n",
       "    </tr>\n",
       "    <tr>\n",
       "      <th>2686</th>\n",
       "      <td>1</td>\n",
       "      <td>1</td>\n",
       "      <td>14</td>\n",
       "      <td>SHM - Sertifikat Hak Milik</td>\n",
       "      <td>Apartemen</td>\n",
       "      <td>Jakarta Utara</td>\n",
       "      <td>290000000</td>\n",
       "    </tr>\n",
       "    <tr>\n",
       "      <th>2768</th>\n",
       "      <td>1</td>\n",
       "      <td>1</td>\n",
       "      <td>14</td>\n",
       "      <td>HGB - Hak Guna Bangunan</td>\n",
       "      <td>Apartemen</td>\n",
       "      <td>Jakarta Utara</td>\n",
       "      <td>290000000</td>\n",
       "    </tr>\n",
       "    <tr>\n",
       "      <th>2775</th>\n",
       "      <td>1</td>\n",
       "      <td>1</td>\n",
       "      <td>17</td>\n",
       "      <td>SHM - Sertifikat Hak Milik</td>\n",
       "      <td>Apartemen</td>\n",
       "      <td>Tangerang Selatan</td>\n",
       "      <td>450000000</td>\n",
       "    </tr>\n",
       "    <tr>\n",
       "      <th>2881</th>\n",
       "      <td>1</td>\n",
       "      <td>1</td>\n",
       "      <td>14</td>\n",
       "      <td>Lainnya (PPJB,Girik,Adat,dll)</td>\n",
       "      <td>Apartemen</td>\n",
       "      <td>Jakarta Utara</td>\n",
       "      <td>250000000</td>\n",
       "    </tr>\n",
       "    <tr>\n",
       "      <th>2944</th>\n",
       "      <td>1</td>\n",
       "      <td>1</td>\n",
       "      <td>18</td>\n",
       "      <td>SHM - Sertifikat Hak Milik</td>\n",
       "      <td>Apartemen</td>\n",
       "      <td>Jakarta Barat</td>\n",
       "      <td>400000000</td>\n",
       "    </tr>\n",
       "    <tr>\n",
       "      <th>3041</th>\n",
       "      <td>1</td>\n",
       "      <td>1</td>\n",
       "      <td>17</td>\n",
       "      <td>Lainnya (PPJB,Girik,Adat,dll)</td>\n",
       "      <td>Apartemen</td>\n",
       "      <td>Depok</td>\n",
       "      <td>250000000</td>\n",
       "    </tr>\n",
       "    <tr>\n",
       "      <th>3214</th>\n",
       "      <td>1</td>\n",
       "      <td>1</td>\n",
       "      <td>14</td>\n",
       "      <td>Lainnya (PPJB,Girik,Adat,dll)</td>\n",
       "      <td>Apartemen</td>\n",
       "      <td>Jakarta Utara</td>\n",
       "      <td>350000000</td>\n",
       "    </tr>\n",
       "    <tr>\n",
       "      <th>3253</th>\n",
       "      <td>1</td>\n",
       "      <td>1</td>\n",
       "      <td>16</td>\n",
       "      <td>Lainnya (PPJB,Girik,Adat,dll)</td>\n",
       "      <td>Apartemen</td>\n",
       "      <td>Jakarta Utara</td>\n",
       "      <td>350000000</td>\n",
       "    </tr>\n",
       "    <tr>\n",
       "      <th>3342</th>\n",
       "      <td>1</td>\n",
       "      <td>1</td>\n",
       "      <td>14</td>\n",
       "      <td>Lainnya (PPJB,Girik,Adat,dll)</td>\n",
       "      <td>Apartemen</td>\n",
       "      <td>Depok</td>\n",
       "      <td>325000000</td>\n",
       "    </tr>\n",
       "    <tr>\n",
       "      <th>3361</th>\n",
       "      <td>1</td>\n",
       "      <td>1</td>\n",
       "      <td>18</td>\n",
       "      <td>Lainnya (PPJB,Girik,Adat,dll)</td>\n",
       "      <td>Apartemen</td>\n",
       "      <td>Jakarta Timur</td>\n",
       "      <td>350000000</td>\n",
       "    </tr>\n",
       "    <tr>\n",
       "      <th>3673</th>\n",
       "      <td>1</td>\n",
       "      <td>1</td>\n",
       "      <td>17</td>\n",
       "      <td>Lainnya (PPJB,Girik,Adat,dll)</td>\n",
       "      <td>Apartemen</td>\n",
       "      <td>Depok</td>\n",
       "      <td>280000000</td>\n",
       "    </tr>\n",
       "    <tr>\n",
       "      <th>3720</th>\n",
       "      <td>1</td>\n",
       "      <td>1</td>\n",
       "      <td>14</td>\n",
       "      <td>Lainnya (PPJB,Girik,Adat,dll)</td>\n",
       "      <td>Apartemen</td>\n",
       "      <td>Jakarta Utara</td>\n",
       "      <td>300000000</td>\n",
       "    </tr>\n",
       "    <tr>\n",
       "      <th>3755</th>\n",
       "      <td>1</td>\n",
       "      <td>1</td>\n",
       "      <td>17</td>\n",
       "      <td>HGB - Hak Guna Bangunan</td>\n",
       "      <td>Apartemen</td>\n",
       "      <td>Depok</td>\n",
       "      <td>255000000</td>\n",
       "    </tr>\n",
       "    <tr>\n",
       "      <th>3848</th>\n",
       "      <td>1</td>\n",
       "      <td>1</td>\n",
       "      <td>17</td>\n",
       "      <td>Lainnya (PPJB,Girik,Adat,dll)</td>\n",
       "      <td>Apartemen</td>\n",
       "      <td>Depok</td>\n",
       "      <td>300000000</td>\n",
       "    </tr>\n",
       "    <tr>\n",
       "      <th>3965</th>\n",
       "      <td>1</td>\n",
       "      <td>1</td>\n",
       "      <td>16</td>\n",
       "      <td>Lainnya (PPJB,Girik,Adat,dll)</td>\n",
       "      <td>Apartemen</td>\n",
       "      <td>Tangerang Selatan</td>\n",
       "      <td>590000000</td>\n",
       "    </tr>\n",
       "    <tr>\n",
       "      <th>4048</th>\n",
       "      <td>1</td>\n",
       "      <td>1</td>\n",
       "      <td>18</td>\n",
       "      <td>Lainnya (PPJB,Girik,Adat,dll)</td>\n",
       "      <td>Apartemen</td>\n",
       "      <td>Tangerang Selatan</td>\n",
       "      <td>380000000</td>\n",
       "    </tr>\n",
       "    <tr>\n",
       "      <th>4109</th>\n",
       "      <td>1</td>\n",
       "      <td>1</td>\n",
       "      <td>14</td>\n",
       "      <td>Lainnya (PPJB,Girik,Adat,dll)</td>\n",
       "      <td>Apartemen</td>\n",
       "      <td>Jakarta Utara</td>\n",
       "      <td>290000000</td>\n",
       "    </tr>\n",
       "    <tr>\n",
       "      <th>4191</th>\n",
       "      <td>1</td>\n",
       "      <td>2</td>\n",
       "      <td>1</td>\n",
       "      <td>Lainnya (PPJB,Girik,Adat,dll)</td>\n",
       "      <td>Rumah</td>\n",
       "      <td>Tangerang Selatan</td>\n",
       "      <td>1350000000</td>\n",
       "    </tr>\n",
       "    <tr>\n",
       "      <th>4225</th>\n",
       "      <td>1</td>\n",
       "      <td>1</td>\n",
       "      <td>14</td>\n",
       "      <td>Lainnya (PPJB,Girik,Adat,dll)</td>\n",
       "      <td>Apartemen</td>\n",
       "      <td>Jakarta Utara</td>\n",
       "      <td>290000000</td>\n",
       "    </tr>\n",
       "    <tr>\n",
       "      <th>4255</th>\n",
       "      <td>1</td>\n",
       "      <td>1</td>\n",
       "      <td>16</td>\n",
       "      <td>HGB - Hak Guna Bangunan</td>\n",
       "      <td>Apartemen</td>\n",
       "      <td>Depok</td>\n",
       "      <td>450000000</td>\n",
       "    </tr>\n",
       "    <tr>\n",
       "      <th>4282</th>\n",
       "      <td>1</td>\n",
       "      <td>1</td>\n",
       "      <td>14</td>\n",
       "      <td>Lainnya (PPJB,Girik,Adat,dll)</td>\n",
       "      <td>Apartemen</td>\n",
       "      <td>Jakarta Utara</td>\n",
       "      <td>290000000</td>\n",
       "    </tr>\n",
       "    <tr>\n",
       "      <th>4346</th>\n",
       "      <td>1</td>\n",
       "      <td>1</td>\n",
       "      <td>17</td>\n",
       "      <td>HGB - Hak Guna Bangunan</td>\n",
       "      <td>Apartemen</td>\n",
       "      <td>Tangerang Selatan</td>\n",
       "      <td>310000000</td>\n",
       "    </tr>\n",
       "    <tr>\n",
       "      <th>4369</th>\n",
       "      <td>1</td>\n",
       "      <td>2</td>\n",
       "      <td>3</td>\n",
       "      <td>SHM - Sertifikat Hak Milik</td>\n",
       "      <td>Apartemen</td>\n",
       "      <td>Jakarta Pusat</td>\n",
       "      <td>3750000000</td>\n",
       "    </tr>\n",
       "    <tr>\n",
       "      <th>4658</th>\n",
       "      <td>1</td>\n",
       "      <td>2</td>\n",
       "      <td>10</td>\n",
       "      <td>Lainnya (PPJB,Girik,Adat,dll)</td>\n",
       "      <td>Apartemen</td>\n",
       "      <td>Jakarta Utara</td>\n",
       "      <td>550000000</td>\n",
       "    </tr>\n",
       "    <tr>\n",
       "      <th>4675</th>\n",
       "      <td>1</td>\n",
       "      <td>1</td>\n",
       "      <td>18</td>\n",
       "      <td>SHM - Sertifikat Hak Milik</td>\n",
       "      <td>Apartemen</td>\n",
       "      <td>Tangerang Selatan</td>\n",
       "      <td>350000000</td>\n",
       "    </tr>\n",
       "    <tr>\n",
       "      <th>4778</th>\n",
       "      <td>1</td>\n",
       "      <td>1</td>\n",
       "      <td>18</td>\n",
       "      <td>SHM - Sertifikat Hak Milik</td>\n",
       "      <td>Apartemen</td>\n",
       "      <td>Jakarta Barat</td>\n",
       "      <td>525000000</td>\n",
       "    </tr>\n",
       "    <tr>\n",
       "      <th>4898</th>\n",
       "      <td>1</td>\n",
       "      <td>1</td>\n",
       "      <td>18</td>\n",
       "      <td>Lainnya (PPJB,Girik,Adat,dll)</td>\n",
       "      <td>Apartemen</td>\n",
       "      <td>Depok</td>\n",
       "      <td>230000000</td>\n",
       "    </tr>\n",
       "    <tr>\n",
       "      <th>5467</th>\n",
       "      <td>2</td>\n",
       "      <td>4</td>\n",
       "      <td>3</td>\n",
       "      <td>SHM - Sertifikat Hak Milik</td>\n",
       "      <td>Rumah</td>\n",
       "      <td>Jakarta Barat</td>\n",
       "      <td>4500000000</td>\n",
       "    </tr>\n",
       "    <tr>\n",
       "      <th>5529</th>\n",
       "      <td>1</td>\n",
       "      <td>1</td>\n",
       "      <td>14</td>\n",
       "      <td>Lainnya (PPJB,Girik,Adat,dll)</td>\n",
       "      <td>Apartemen</td>\n",
       "      <td>Jakarta Utara</td>\n",
       "      <td>290000000</td>\n",
       "    </tr>\n",
       "    <tr>\n",
       "      <th>5569</th>\n",
       "      <td>1</td>\n",
       "      <td>1</td>\n",
       "      <td>18</td>\n",
       "      <td>SHM - Sertifikat Hak Milik</td>\n",
       "      <td>Apartemen</td>\n",
       "      <td>Jakarta Barat</td>\n",
       "      <td>580000000</td>\n",
       "    </tr>\n",
       "    <tr>\n",
       "      <th>5579</th>\n",
       "      <td>1</td>\n",
       "      <td>1</td>\n",
       "      <td>14</td>\n",
       "      <td>Lainnya (PPJB,Girik,Adat,dll)</td>\n",
       "      <td>Apartemen</td>\n",
       "      <td>Jakarta Utara</td>\n",
       "      <td>290000000</td>\n",
       "    </tr>\n",
       "    <tr>\n",
       "      <th>5595</th>\n",
       "      <td>1</td>\n",
       "      <td>1</td>\n",
       "      <td>18</td>\n",
       "      <td>HGB - Hak Guna Bangunan</td>\n",
       "      <td>Apartemen</td>\n",
       "      <td>Jakarta Utara</td>\n",
       "      <td>375000000</td>\n",
       "    </tr>\n",
       "    <tr>\n",
       "      <th>5641</th>\n",
       "      <td>1</td>\n",
       "      <td>1</td>\n",
       "      <td>14</td>\n",
       "      <td>Lainnya (PPJB,Girik,Adat,dll)</td>\n",
       "      <td>Apartemen</td>\n",
       "      <td>Jakarta Utara</td>\n",
       "      <td>290000000</td>\n",
       "    </tr>\n",
       "    <tr>\n",
       "      <th>5775</th>\n",
       "      <td>1</td>\n",
       "      <td>1</td>\n",
       "      <td>18</td>\n",
       "      <td>HGB - Hak Guna Bangunan</td>\n",
       "      <td>Apartemen</td>\n",
       "      <td>Depok</td>\n",
       "      <td>565000000</td>\n",
       "    </tr>\n",
       "    <tr>\n",
       "      <th>5844</th>\n",
       "      <td>1</td>\n",
       "      <td>1</td>\n",
       "      <td>14</td>\n",
       "      <td>HGB - Hak Guna Bangunan</td>\n",
       "      <td>Apartemen</td>\n",
       "      <td>Jakarta Utara</td>\n",
       "      <td>290000000</td>\n",
       "    </tr>\n",
       "    <tr>\n",
       "      <th>6019</th>\n",
       "      <td>1</td>\n",
       "      <td>1</td>\n",
       "      <td>14</td>\n",
       "      <td>Lainnya (PPJB,Girik,Adat,dll)</td>\n",
       "      <td>Apartemen</td>\n",
       "      <td>Jakarta Utara</td>\n",
       "      <td>290000000</td>\n",
       "    </tr>\n",
       "    <tr>\n",
       "      <th>6057</th>\n",
       "      <td>1</td>\n",
       "      <td>1</td>\n",
       "      <td>14</td>\n",
       "      <td>Lainnya (PPJB,Girik,Adat,dll)</td>\n",
       "      <td>Apartemen</td>\n",
       "      <td>Jakarta Utara</td>\n",
       "      <td>290000000</td>\n",
       "    </tr>\n",
       "    <tr>\n",
       "      <th>6120</th>\n",
       "      <td>1</td>\n",
       "      <td>2</td>\n",
       "      <td>1</td>\n",
       "      <td>Lainnya (PPJB,Girik,Adat,dll)</td>\n",
       "      <td>Rumah</td>\n",
       "      <td>Tangerang Selatan</td>\n",
       "      <td>1000000000</td>\n",
       "    </tr>\n",
       "    <tr>\n",
       "      <th>6130</th>\n",
       "      <td>2</td>\n",
       "      <td>4</td>\n",
       "      <td>3</td>\n",
       "      <td>SHM - Sertifikat Hak Milik</td>\n",
       "      <td>Rumah</td>\n",
       "      <td>Jakarta Barat</td>\n",
       "      <td>4500000000</td>\n",
       "    </tr>\n",
       "    <tr>\n",
       "      <th>6216</th>\n",
       "      <td>1</td>\n",
       "      <td>1</td>\n",
       "      <td>18</td>\n",
       "      <td>SHM - Sertifikat Hak Milik</td>\n",
       "      <td>Apartemen</td>\n",
       "      <td>Depok</td>\n",
       "      <td>550000000</td>\n",
       "    </tr>\n",
       "    <tr>\n",
       "      <th>6222</th>\n",
       "      <td>1</td>\n",
       "      <td>1</td>\n",
       "      <td>14</td>\n",
       "      <td>Lainnya (PPJB,Girik,Adat,dll)</td>\n",
       "      <td>Apartemen</td>\n",
       "      <td>Jakarta Utara</td>\n",
       "      <td>350000000</td>\n",
       "    </tr>\n",
       "    <tr>\n",
       "      <th>6225</th>\n",
       "      <td>1</td>\n",
       "      <td>1</td>\n",
       "      <td>16</td>\n",
       "      <td>HGB - Hak Guna Bangunan</td>\n",
       "      <td>Apartemen</td>\n",
       "      <td>Jakarta Utara</td>\n",
       "      <td>350000000</td>\n",
       "    </tr>\n",
       "  </tbody>\n",
       "</table>\n",
       "</div>"
      ],
      "text/plain": [
       "      K..Mandi  K..Tidur  L..Bangunan                     Sertifikat  \\\n",
       "177          1         1           18  Lainnya (PPJB,Girik,Adat,dll)   \n",
       "282          1         1           17                 HP - Hak Pakai   \n",
       "557          1         1           14        HGB - Hak Guna Bangunan   \n",
       "663          4         3            4  Lainnya (PPJB,Girik,Adat,dll)   \n",
       "1074         1         1           16  Lainnya (PPJB,Girik,Adat,dll)   \n",
       "1128         1         2           12  Lainnya (PPJB,Girik,Adat,dll)   \n",
       "1363         1         1           17  Lainnya (PPJB,Girik,Adat,dll)   \n",
       "1436         1         2           12  Lainnya (PPJB,Girik,Adat,dll)   \n",
       "1740         1         1           17     SHM - Sertifikat Hak Milik   \n",
       "1787         1         1           18     SHM - Sertifikat Hak Milik   \n",
       "2078         2         3            2     SHM - Sertifikat Hak Milik   \n",
       "2197         1         1           17        HGB - Hak Guna Bangunan   \n",
       "2686         1         1           14     SHM - Sertifikat Hak Milik   \n",
       "2768         1         1           14        HGB - Hak Guna Bangunan   \n",
       "2775         1         1           17     SHM - Sertifikat Hak Milik   \n",
       "2881         1         1           14  Lainnya (PPJB,Girik,Adat,dll)   \n",
       "2944         1         1           18     SHM - Sertifikat Hak Milik   \n",
       "3041         1         1           17  Lainnya (PPJB,Girik,Adat,dll)   \n",
       "3214         1         1           14  Lainnya (PPJB,Girik,Adat,dll)   \n",
       "3253         1         1           16  Lainnya (PPJB,Girik,Adat,dll)   \n",
       "3342         1         1           14  Lainnya (PPJB,Girik,Adat,dll)   \n",
       "3361         1         1           18  Lainnya (PPJB,Girik,Adat,dll)   \n",
       "3673         1         1           17  Lainnya (PPJB,Girik,Adat,dll)   \n",
       "3720         1         1           14  Lainnya (PPJB,Girik,Adat,dll)   \n",
       "3755         1         1           17        HGB - Hak Guna Bangunan   \n",
       "3848         1         1           17  Lainnya (PPJB,Girik,Adat,dll)   \n",
       "3965         1         1           16  Lainnya (PPJB,Girik,Adat,dll)   \n",
       "4048         1         1           18  Lainnya (PPJB,Girik,Adat,dll)   \n",
       "4109         1         1           14  Lainnya (PPJB,Girik,Adat,dll)   \n",
       "4191         1         2            1  Lainnya (PPJB,Girik,Adat,dll)   \n",
       "4225         1         1           14  Lainnya (PPJB,Girik,Adat,dll)   \n",
       "4255         1         1           16        HGB - Hak Guna Bangunan   \n",
       "4282         1         1           14  Lainnya (PPJB,Girik,Adat,dll)   \n",
       "4346         1         1           17        HGB - Hak Guna Bangunan   \n",
       "4369         1         2            3     SHM - Sertifikat Hak Milik   \n",
       "4658         1         2           10  Lainnya (PPJB,Girik,Adat,dll)   \n",
       "4675         1         1           18     SHM - Sertifikat Hak Milik   \n",
       "4778         1         1           18     SHM - Sertifikat Hak Milik   \n",
       "4898         1         1           18  Lainnya (PPJB,Girik,Adat,dll)   \n",
       "5467         2         4            3     SHM - Sertifikat Hak Milik   \n",
       "5529         1         1           14  Lainnya (PPJB,Girik,Adat,dll)   \n",
       "5569         1         1           18     SHM - Sertifikat Hak Milik   \n",
       "5579         1         1           14  Lainnya (PPJB,Girik,Adat,dll)   \n",
       "5595         1         1           18        HGB - Hak Guna Bangunan   \n",
       "5641         1         1           14  Lainnya (PPJB,Girik,Adat,dll)   \n",
       "5775         1         1           18        HGB - Hak Guna Bangunan   \n",
       "5844         1         1           14        HGB - Hak Guna Bangunan   \n",
       "6019         1         1           14  Lainnya (PPJB,Girik,Adat,dll)   \n",
       "6057         1         1           14  Lainnya (PPJB,Girik,Adat,dll)   \n",
       "6120         1         2            1  Lainnya (PPJB,Girik,Adat,dll)   \n",
       "6130         2         4            3     SHM - Sertifikat Hak Milik   \n",
       "6216         1         1           18     SHM - Sertifikat Hak Milik   \n",
       "6222         1         1           14  Lainnya (PPJB,Girik,Adat,dll)   \n",
       "6225         1         1           16        HGB - Hak Guna Bangunan   \n",
       "\n",
       "     Tipe.Properti               Kota       Price  \n",
       "177      Apartemen      Jakarta Timur   250000000  \n",
       "282      Apartemen              Depok   360000000  \n",
       "557      Apartemen      Jakarta Utara   290000000  \n",
       "663          Rumah      Jakarta Pusat  3700000000  \n",
       "1074     Apartemen      Jakarta Utara   260000000  \n",
       "1128     Apartemen  Tangerang Selatan  1500000000  \n",
       "1363     Apartemen              Depok   270000000  \n",
       "1436     Apartemen  Tangerang Selatan  1500000000  \n",
       "1740     Apartemen              Depok   235000000  \n",
       "1787     Apartemen  Tangerang Selatan   250000000  \n",
       "2078         Rumah      Jakarta Pusat  2000000000  \n",
       "2197     Apartemen              Depok   260000000  \n",
       "2686     Apartemen      Jakarta Utara   290000000  \n",
       "2768     Apartemen      Jakarta Utara   290000000  \n",
       "2775     Apartemen  Tangerang Selatan   450000000  \n",
       "2881     Apartemen      Jakarta Utara   250000000  \n",
       "2944     Apartemen      Jakarta Barat   400000000  \n",
       "3041     Apartemen              Depok   250000000  \n",
       "3214     Apartemen      Jakarta Utara   350000000  \n",
       "3253     Apartemen      Jakarta Utara   350000000  \n",
       "3342     Apartemen              Depok   325000000  \n",
       "3361     Apartemen      Jakarta Timur   350000000  \n",
       "3673     Apartemen              Depok   280000000  \n",
       "3720     Apartemen      Jakarta Utara   300000000  \n",
       "3755     Apartemen              Depok   255000000  \n",
       "3848     Apartemen              Depok   300000000  \n",
       "3965     Apartemen  Tangerang Selatan   590000000  \n",
       "4048     Apartemen  Tangerang Selatan   380000000  \n",
       "4109     Apartemen      Jakarta Utara   290000000  \n",
       "4191         Rumah  Tangerang Selatan  1350000000  \n",
       "4225     Apartemen      Jakarta Utara   290000000  \n",
       "4255     Apartemen              Depok   450000000  \n",
       "4282     Apartemen      Jakarta Utara   290000000  \n",
       "4346     Apartemen  Tangerang Selatan   310000000  \n",
       "4369     Apartemen      Jakarta Pusat  3750000000  \n",
       "4658     Apartemen      Jakarta Utara   550000000  \n",
       "4675     Apartemen  Tangerang Selatan   350000000  \n",
       "4778     Apartemen      Jakarta Barat   525000000  \n",
       "4898     Apartemen              Depok   230000000  \n",
       "5467         Rumah      Jakarta Barat  4500000000  \n",
       "5529     Apartemen      Jakarta Utara   290000000  \n",
       "5569     Apartemen      Jakarta Barat   580000000  \n",
       "5579     Apartemen      Jakarta Utara   290000000  \n",
       "5595     Apartemen      Jakarta Utara   375000000  \n",
       "5641     Apartemen      Jakarta Utara   290000000  \n",
       "5775     Apartemen              Depok   565000000  \n",
       "5844     Apartemen      Jakarta Utara   290000000  \n",
       "6019     Apartemen      Jakarta Utara   290000000  \n",
       "6057     Apartemen      Jakarta Utara   290000000  \n",
       "6120         Rumah  Tangerang Selatan  1000000000  \n",
       "6130         Rumah      Jakarta Barat  4500000000  \n",
       "6216     Apartemen              Depok   550000000  \n",
       "6222     Apartemen      Jakarta Utara   350000000  \n",
       "6225     Apartemen      Jakarta Utara   350000000  "
      ]
     },
     "execution_count": 31,
     "metadata": {},
     "output_type": "execute_result"
    }
   ],
   "source": [
    "properti[properti['L..Bangunan'] < 19]"
   ]
  },
  {
   "cell_type": "markdown",
   "metadata": {},
   "source": [
    "Luas bangunan dibawah 14 $m^2$ kemungkinan besar tidak tepat atau salah ukur"
   ]
  },
  {
   "cell_type": "code",
   "execution_count": 15,
   "metadata": {
    "execution": {
     "iopub.execute_input": "2024-01-08T01:46:13.339931Z",
     "iopub.status.busy": "2024-01-08T01:46:13.338937Z",
     "iopub.status.idle": "2024-01-08T01:46:13.362930Z",
     "shell.execute_reply": "2024-01-08T01:46:13.361933Z",
     "shell.execute_reply.started": "2024-01-08T01:46:13.339931Z"
    }
   },
   "outputs": [
    {
     "name": "stdout",
     "output_type": "stream",
     "text": [
      "<class 'pandas.core.frame.DataFrame'>\n",
      "Index: 6287 entries, 0 to 6286\n",
      "Data columns (total 7 columns):\n",
      " #   Column         Non-Null Count  Dtype   \n",
      "---  ------         --------------  -----   \n",
      " 0   K..Mandi       6287 non-null   int64   \n",
      " 1   K..Tidur       6287 non-null   int64   \n",
      " 2   L..Bangunan    6287 non-null   int64   \n",
      " 3   Sertifikat     6287 non-null   category\n",
      " 4   Tipe.Properti  6287 non-null   category\n",
      " 5   Kota           6287 non-null   category\n",
      " 6   Price          6287 non-null   int64   \n",
      "dtypes: category(3), int64(4)\n",
      "memory usage: 264.7 KB\n"
     ]
    }
   ],
   "source": [
    "properti.info()"
   ]
  },
  {
   "cell_type": "markdown",
   "metadata": {},
   "source": [
    "❓ Apakah ada hal yang menarik dari hasil describe di atas?"
   ]
  },
  {
   "cell_type": "markdown",
   "metadata": {},
   "source": [
    "* <u>**Cek korelasi antar variabel target dan prediktor**</u>\n",
    "\n",
    "Biasanya uji korelasi ini akan sangat berhubungan dengan uji regresi yang menunjukkan apakah masing-masing variabel saling berhubungan erat. Meskipun variabel tersebut saling berhubungan erat atau berkorelasi, belum tentu variabel tersebut saling mempengaruhi. \n",
    "\n",
    "Dalam analisis korelasi ini, output yang dihasilkan hanya dalam rentang **-1 sampai 1**\n",
    "\n",
    "- Bila korelasi dua variabel numerik **mendekati -1** artinya **korelasi negatif kuat**\n",
    "- Bila korelasi dua variabel numerik **mendekati 1** artinya **korelasi positif kuat**\n",
    "- Bila korelasi dua variabel numerik **mendekati 0** artinya **tidak berkorelasi**\n",
    "\n",
    "![korelasi](assets/correlation-coef.jpg)"
   ]
  },
  {
   "cell_type": "markdown",
   "metadata": {},
   "source": [
    "- Menggunakan nilai korelasi"
   ]
  },
  {
   "cell_type": "code",
   "execution_count": 18,
   "metadata": {
    "ExecuteTime": {
     "end_time": "2021-12-02T09:24:57.348894Z",
     "start_time": "2021-12-02T09:24:57.335929Z"
    },
    "execution": {
     "iopub.execute_input": "2024-01-08T01:47:23.894075Z",
     "iopub.status.busy": "2024-01-08T01:47:23.894075Z",
     "iopub.status.idle": "2024-01-08T01:47:23.929947Z",
     "shell.execute_reply": "2024-01-08T01:47:23.928941Z",
     "shell.execute_reply.started": "2024-01-08T01:47:23.894075Z"
    }
   },
   "outputs": [
    {
     "data": {
      "text/plain": [
       "0.7856264787666598"
      ]
     },
     "execution_count": 18,
     "metadata": {},
     "output_type": "execute_result"
    }
   ],
   "source": [
    "properti['Price'].corr(properti['L..Bangunan'])"
   ]
  },
  {
   "cell_type": "code",
   "execution_count": 33,
   "metadata": {
    "execution": {
     "iopub.execute_input": "2024-01-08T02:15:50.596607Z",
     "iopub.status.busy": "2024-01-08T02:15:50.596607Z",
     "iopub.status.idle": "2024-01-08T02:15:50.611017Z",
     "shell.execute_reply": "2024-01-08T02:15:50.610023Z",
     "shell.execute_reply.started": "2024-01-08T02:15:50.596607Z"
    }
   },
   "outputs": [
    {
     "data": {
      "text/html": [
       "<div>\n",
       "<style scoped>\n",
       "    .dataframe tbody tr th:only-of-type {\n",
       "        vertical-align: middle;\n",
       "    }\n",
       "\n",
       "    .dataframe tbody tr th {\n",
       "        vertical-align: top;\n",
       "    }\n",
       "\n",
       "    .dataframe thead th {\n",
       "        text-align: right;\n",
       "    }\n",
       "</style>\n",
       "<table border=\"1\" class=\"dataframe\">\n",
       "  <thead>\n",
       "    <tr style=\"text-align: right;\">\n",
       "      <th></th>\n",
       "      <th>Price</th>\n",
       "      <th>L..Bangunan</th>\n",
       "    </tr>\n",
       "  </thead>\n",
       "  <tbody>\n",
       "    <tr>\n",
       "      <th>Price</th>\n",
       "      <td>1.000</td>\n",
       "      <td>0.789</td>\n",
       "    </tr>\n",
       "    <tr>\n",
       "      <th>L..Bangunan</th>\n",
       "      <td>0.789</td>\n",
       "      <td>1.000</td>\n",
       "    </tr>\n",
       "  </tbody>\n",
       "</table>\n",
       "</div>"
      ],
      "text/plain": [
       "             Price  L..Bangunan\n",
       "Price        1.000        0.789\n",
       "L..Bangunan  0.789        1.000"
      ]
     },
     "execution_count": 33,
     "metadata": {},
     "output_type": "execute_result"
    }
   ],
   "source": [
    "properti[properti['L..Bangunan'] >= 14][['Price', 'L..Bangunan']].corr()"
   ]
  },
  {
   "cell_type": "markdown",
   "metadata": {},
   "source": [
    "- Menggunakan visualisasi"
   ]
  },
  {
   "cell_type": "code",
   "execution_count": 19,
   "metadata": {
    "execution": {
     "iopub.execute_input": "2024-01-08T01:47:25.264139Z",
     "iopub.status.busy": "2024-01-08T01:47:25.264139Z",
     "iopub.status.idle": "2024-01-08T01:47:25.486139Z",
     "shell.execute_reply": "2024-01-08T01:47:25.485135Z",
     "shell.execute_reply.started": "2024-01-08T01:47:25.264139Z"
    },
    "scrolled": true
   },
   "outputs": [
    {
     "data": {
      "image/png": "[encoded data removed]",
      "text/plain": [
       "<Figure size 640x480 with 1 Axes>"
      ]
     },
     "metadata": {},
     "output_type": "display_data"
    }
   ],
   "source": [
    "properti.plot.scatter(x = 'L..Bangunan', y = 'Price')\n",
    "plt.show()"
   ]
  },
  {
   "cell_type": "code",
   "execution_count": 35,
   "metadata": {
    "execution": {
     "iopub.execute_input": "2024-01-08T02:19:28.358421Z",
     "iopub.status.busy": "2024-01-08T02:19:28.357417Z",
     "iopub.status.idle": "2024-01-08T02:19:28.386490Z",
     "shell.execute_reply": "2024-01-08T02:19:28.385492Z",
     "shell.execute_reply.started": "2024-01-08T02:19:28.358421Z"
    }
   },
   "outputs": [
    {
     "data": {
      "text/html": [
       "<div>\n",
       "<style scoped>\n",
       "    .dataframe tbody tr th:only-of-type {\n",
       "        vertical-align: middle;\n",
       "    }\n",
       "\n",
       "    .dataframe tbody tr th {\n",
       "        vertical-align: top;\n",
       "    }\n",
       "\n",
       "    .dataframe thead th {\n",
       "        text-align: right;\n",
       "    }\n",
       "</style>\n",
       "<table border=\"1\" class=\"dataframe\">\n",
       "  <thead>\n",
       "    <tr style=\"text-align: right;\">\n",
       "      <th></th>\n",
       "      <th>K..Mandi</th>\n",
       "      <th>K..Tidur</th>\n",
       "      <th>L..Bangunan</th>\n",
       "      <th>Sertifikat</th>\n",
       "      <th>Tipe.Properti</th>\n",
       "      <th>Kota</th>\n",
       "      <th>Price</th>\n",
       "    </tr>\n",
       "  </thead>\n",
       "  <tbody>\n",
       "    <tr>\n",
       "      <th>6206</th>\n",
       "      <td>2</td>\n",
       "      <td>2</td>\n",
       "      <td>478</td>\n",
       "      <td>HGB - Hak Guna Bangunan</td>\n",
       "      <td>Apartemen</td>\n",
       "      <td>Jakarta Barat</td>\n",
       "      <td>480000000</td>\n",
       "    </tr>\n",
       "  </tbody>\n",
       "</table>\n",
       "</div>"
      ],
      "text/plain": [
       "      K..Mandi  K..Tidur  L..Bangunan               Sertifikat Tipe.Properti  \\\n",
       "6206         2         2          478  HGB - Hak Guna Bangunan     Apartemen   \n",
       "\n",
       "               Kota      Price  \n",
       "6206  Jakarta Barat  480000000  "
      ]
     },
     "execution_count": 35,
     "metadata": {},
     "output_type": "execute_result"
    }
   ],
   "source": [
    "properti[(properti['Price'] < 1e9) & (properti['L..Bangunan'] > 450)]"
   ]
  },
  {
   "cell_type": "code",
   "execution_count": 50,
   "metadata": {
    "execution": {
     "iopub.execute_input": "2024-01-08T02:54:59.748586Z",
     "iopub.status.busy": "2024-01-08T02:54:59.748586Z",
     "iopub.status.idle": "2024-01-08T02:54:59.756805Z",
     "shell.execute_reply": "2024-01-08T02:54:59.755794Z",
     "shell.execute_reply.started": "2024-01-08T02:54:59.748586Z"
    }
   },
   "outputs": [],
   "source": [
    "properti = properti[(properti['L..Bangunan'] >= 14) & (properti['L..Bangunan'].index != 6206)]"
   ]
  },
  {
   "cell_type": "code",
   "execution_count": 51,
   "metadata": {
    "execution": {
     "iopub.execute_input": "2024-01-08T02:55:32.878842Z",
     "iopub.status.busy": "2024-01-08T02:55:32.877843Z",
     "iopub.status.idle": "2024-01-08T02:55:33.058101Z",
     "shell.execute_reply": "2024-01-08T02:55:33.057103Z",
     "shell.execute_reply.started": "2024-01-08T02:55:32.878842Z"
    }
   },
   "outputs": [
    {
     "data": {
      "image/png": "[encoded data removed]",
      "text/plain": [
       "<Figure size 640x480 with 1 Axes>"
      ]
     },
     "metadata": {},
     "output_type": "display_data"
    }
   ],
   "source": [
    "properti.plot.scatter(x = 'L..Bangunan', y = 'Price')\n",
    "plt.show()"
   ]
  },
  {
   "cell_type": "markdown",
   "metadata": {},
   "source": [
    "* **Kesimpulan dari plot:**\n",
    "\n",
    "> \n",
    "\n",
    "Berdasarkan kesimpulan dan analisis yang sudah dilakukan, adakah yang perlu kita lakukan pada data kita?"
   ]
  },
  {
   "cell_type": "markdown",
   "metadata": {},
   "source": [
    "`L.Bangunan` berkorelasi positif dengan `price` meskipun masih terdapat beberapa outlier"
   ]
  },
  {
   "cell_type": "markdown",
   "metadata": {},
   "source": [
    "* <u>**Identifikasi Outlier**</u>\n",
    "\n",
    "Dari hasil analisa statistik deskriptif belum diketahui apakah pada data yang kita miliki memiliki ***outlier*** atau tidak, maka dari itu mari coba kita lihat dengan menggunakan visualisasi ***Box Plot***.\n",
    "\n",
    "Visualisasi ***Box Plot*** dapat dibuat dengan menggunakan fungsi `boxplot()` dari `library matplotlib`. "
   ]
  },
  {
   "cell_type": "code",
   "execution_count": 65,
   "metadata": {
    "execution": {
     "iopub.execute_input": "2024-01-08T03:08:44.962571Z",
     "iopub.status.busy": "2024-01-08T03:08:44.961569Z",
     "iopub.status.idle": "2024-01-08T03:08:45.123130Z",
     "shell.execute_reply": "2024-01-08T03:08:45.122126Z",
     "shell.execute_reply.started": "2024-01-08T03:08:44.962571Z"
    }
   },
   "outputs": [
    {
     "data": {
      "text/plain": [
       "<Axes: >"
      ]
     },
     "execution_count": 65,
     "metadata": {},
     "output_type": "execute_result"
    },
    {
     "data": {
      "image/png": "[encoded data removed]",
      "text/plain": [
       "<Figure size 640x480 with 1 Axes>"
      ]
     },
     "metadata": {},
     "output_type": "display_data"
    }
   ],
   "source": [
    "# Melihat nilai outlier\n",
    "properti.boxplot(column = 'L..Bangunan')"
   ]
  },
  {
   "cell_type": "markdown",
   "metadata": {},
   "source": [
    "Masih ada outlier"
   ]
  },
  {
   "cell_type": "code",
   "execution_count": 88,
   "metadata": {
    "execution": {
     "iopub.execute_input": "2024-01-08T03:26:42.528373Z",
     "iopub.status.busy": "2024-01-08T03:26:42.527352Z",
     "iopub.status.idle": "2024-01-08T03:26:42.548371Z",
     "shell.execute_reply": "2024-01-08T03:26:42.546388Z",
     "shell.execute_reply.started": "2024-01-08T03:26:42.528373Z"
    }
   },
   "outputs": [
    {
     "data": {
      "text/plain": [
       "263"
      ]
     },
     "execution_count": 88,
     "metadata": {},
     "output_type": "execute_result"
    }
   ],
   "source": [
    "from matplotlib.cbook import boxplot_stats\n",
    "\n",
    "bp_stats = boxplot_stats(properti['L..Bangunan'].values)\n",
    "\n",
    "bp_stats[0]['fliers'].min()"
   ]
  },
  {
   "cell_type": "markdown",
   "metadata": {},
   "source": [
    "### 6. Membuat Model Simple Linear Regression \n",
    "\n",
    "#### **6.1 Model dengan outlier** \n",
    "\n",
    "Dari tahapan EDA (checking outlier) dengan boxplot, diketahui bahwa variabel `L..Bangunan` memiliki nilai outlier.\n",
    "\n",
    "Selanjutnya jika kita ingin menjawab business problem yang kita miliki, yaitu kita ingin melakukan prediksi harga **Price** properti berdasarkan besaran **Luas Bangunan**. Kita akan memakai seluruh observasi yang ada terlebih dahulu.\n",
    "\n",
    "<u>**Tahapan 1 - Menentukan Target dan Prediktor**</u>\n",
    "   - Y   : `df['target']`\n",
    "   - X   : `sm.add_constant(df['prediktor'])`. Supaya intercept tidak dianggap 0"
   ]
  },
  {
   "cell_type": "code",
   "execution_count": 67,
   "metadata": {
    "ExecuteTime": {
     "end_time": "2022-12-05T15:15:40.263857Z",
     "start_time": "2022-12-05T15:15:39.832295Z"
    },
    "execution": {
     "iopub.execute_input": "2024-01-08T03:11:01.000953Z",
     "iopub.status.busy": "2024-01-08T03:11:01.000953Z",
     "iopub.status.idle": "2024-01-08T03:11:01.022953Z",
     "shell.execute_reply": "2024-01-08T03:11:01.021953Z",
     "shell.execute_reply.started": "2024-01-08T03:11:01.000953Z"
    },
    "hide_input": false,
    "scrolled": true
   },
   "outputs": [],
   "source": [
    "# membuat objek untuk prediktor (pilih kolom yang akan digunakan)\n",
    "X_data = properti['L..Bangunan']\n",
    "\n",
    "# menambahkan intercept/add_constant\n",
    "X_data = sm.add_constant(X_data)\n",
    "\n",
    "# membuat objek target\n",
    "Y_data = properti['Price']"
   ]
  },
  {
   "cell_type": "markdown",
   "metadata": {},
   "source": [
    "<u> **Tahapan 2 - Membuat model Prediksi**</u>\n",
    "\n",
    "Untuk membuat model regresi linier di Python kita akan menggunakan fungsi `OLS()` dari package `statsmodels`.\n",
    "\n",
    "Syntax: `sm.OLS(target, prediktor).fit()`"
   ]
  },
  {
   "cell_type": "code",
   "execution_count": 70,
   "metadata": {
    "execution": {
     "iopub.execute_input": "2024-01-08T03:11:48.672860Z",
     "iopub.status.busy": "2024-01-08T03:11:48.672860Z",
     "iopub.status.idle": "2024-01-08T03:11:48.685767Z",
     "shell.execute_reply": "2024-01-08T03:11:48.684762Z",
     "shell.execute_reply.started": "2024-01-08T03:11:48.672860Z"
    }
   },
   "outputs": [],
   "source": [
    "# sm.OLS(properti['Price'], properti['L..Bangunan']).fit().summary()\n",
    "# Nggak work kare di sm.OLS tidak ada constantnya\n",
    "# https://stackoverflow.com/questions/30286095/do-i-need-to-add-a-constant-when-using-sm-ols"
   ]
  },
  {
   "cell_type": "code",
   "execution_count": 69,
   "metadata": {
    "execution": {
     "iopub.execute_input": "2024-01-08T03:11:11.642816Z",
     "iopub.status.busy": "2024-01-08T03:11:11.641815Z",
     "iopub.status.idle": "2024-01-08T03:11:11.655814Z",
     "shell.execute_reply": "2024-01-08T03:11:11.654811Z",
     "shell.execute_reply.started": "2024-01-08T03:11:11.642816Z"
    }
   },
   "outputs": [],
   "source": [
    "# Membuat model\n",
    "lm_outlier = sm.OLS(Y_data, X_data).fit()"
   ]
  },
  {
   "cell_type": "markdown",
   "metadata": {},
   "source": [
    "<u>**Tahapan 3 - Melihat hasil / menginterpretasikan model** </u>\n",
    "   - intercept dan slope: `model.params`\n",
    "   - summary model      : `model.summary()`  "
   ]
  },
  {
   "cell_type": "code",
   "execution_count": 71,
   "metadata": {
    "execution": {
     "iopub.execute_input": "2024-01-08T03:15:37.146759Z",
     "iopub.status.busy": "2024-01-08T03:15:37.146759Z",
     "iopub.status.idle": "2024-01-08T03:15:37.161759Z",
     "shell.execute_reply": "2024-01-08T03:15:37.160758Z",
     "shell.execute_reply.started": "2024-01-08T03:15:37.146759Z"
    }
   },
   "outputs": [
    {
     "name": "stdout",
     "output_type": "stream",
     "text": [
      "const         303,614,296.475\n",
      "L..Bangunan    15,068,066.597\n",
      "dtype: float64                             OLS Regression Results                            \n",
      "==============================================================================\n",
      "Dep. Variable:                  Price   R-squared:                       0.628\n",
      "Model:                            OLS   Adj. R-squared:                  0.627\n",
      "Method:                 Least Squares   F-statistic:                 1.057e+04\n",
      "Date:                Mon, 08 Jan 2024   Prob (F-statistic):               0.00\n",
      "Time:                        10:15:37   Log-Likelihood:            -1.3728e+05\n",
      "No. Observations:                6276   AIC:                         2.746e+05\n",
      "Df Residuals:                    6274   BIC:                         2.746e+05\n",
      "Df Model:                           1                                         \n",
      "Covariance Type:            nonrobust                                         \n",
      "===============================================================================\n",
      "                  coef    std err          t      P>|t|      [0.025      0.975]\n",
      "-------------------------------------------------------------------------------\n",
      "const        3.036e+08   1.67e+07     18.182      0.000    2.71e+08    3.36e+08\n",
      "L..Bangunan  1.507e+07   1.47e+05    102.809      0.000    1.48e+07    1.54e+07\n",
      "==============================================================================\n",
      "Omnibus:                     1807.386   Durbin-Watson:                   2.034\n",
      "Prob(Omnibus):                  0.000   Jarque-Bera (JB):             6246.081\n",
      "Skew:                           1.431   Prob(JB):                         0.00\n",
      "Kurtosis:                       6.962   Cond. No.                         197.\n",
      "==============================================================================\n",
      "\n",
      "Notes:\n",
      "[1] Standard Errors assume that the covariance matrix of the errors is correctly specified.\n"
     ]
    }
   ],
   "source": [
    "# Summary model\n",
    "print(lm_outlier.params, lm_outlier.summary())"
   ]
  },
  {
   "cell_type": "markdown",
   "metadata": {},
   "source": [
    "\n",
    "📝 **Interpretasi model :**\n",
    "\n",
    "1. **Model linier regresi** untuk kasus prediksi harga properti di daerah Jakarta, Depok, dan Tangsel adalah:\n",
    "\n",
    "> `Price = b0 + b1*L..Bangunan`\n",
    "\n",
    "> `Price =  ... + ...*L..Bangunan`\n",
    "   - slope    : 1.507e+07 \n",
    "   - intercept: 3.036e+08\n",
    "   \n",
    "2. **Signifikansi prediktor** (bandingkan nilai p-value dengan alpha)\n",
    "   - H0: Luas Bangunan tidak mempengaruhi Harga Properti\n",
    "   - H1: Luas Bangunan mempengaruhi Harga Properti\n",
    "   \n",
    "    **Note:** Ketika p-value < 0.05 (alpha) maka kesimpulannya adalah menolak H0 yang berarti Luas Bangunan signifikan berpengaruh terhadap Harga properti\n",
    "\n",
    "   > p-value : 0.00\n",
    "   \n",
    "   > Kesimpulan : Tolak $H_0$\n",
    "   \n",
    "3. **Goodness of fit** (melihat nilai R-squared, dimana **0 ≤ $R^2$ ≤ 1**)\n",
    "   \n",
    "   Nilai R-Squared merepresentasikan % variasi dari data yang berhasil dijelaskan oleh model.\n",
    "   \n",
    "   - Semakin mendekati 1, mengindikasikan model semakin fit\n",
    "   - Semakin mendekati 0, mengindikasikan model tidak fit\n",
    "   \n",
    "   > R-Squared: 0.617\n",
    "   \n",
    "   > Kesimpulan : Cukup fit"
   ]
  },
  {
   "cell_type": "markdown",
   "metadata": {},
   "source": [
    "**[Optional] Other Information in Summary**\n",
    "\n",
    "1. Tabel 1, sisi kiri menyimpan informasi dasar dari model\n",
    "    - Dep. Variable   : Target variabel (Y)\n",
    "    - Model           : Model regresi linier\n",
    "    - Method          : Metode yang digunakan untuk membuat model regresi linier\n",
    "    - No. Observations:\tJumlah observasi yang digunakan ketika membuat model regresi linier\n",
    "    - DF Residuals    :\tDegrees of freedom error/residual (**No. Observations - parameter**)\n",
    "    - DF Model        :\tDegrees of freedom model (**jumlah prediktor**)\n",
    "\n",
    "\n",
    "2. Tabel 1, sisi kanan menyimpan informasi kebaikan model\n",
    "    - **R-squared**         : Goodness of fit\n",
    "    - **Adj. R-squared**    : Goodneess of fit untuk multiple linear regression\n",
    "    - F-statistic       : Statistik hitung dari F-test (uji simultan)\n",
    "    - Prob (F-statistic): p-value dari F-test \n",
    "        \n",
    "        a. H0 --> Tidak ada prediktor yang berpengaruh signifikan terhadap target\n",
    "        \n",
    "        b. H1 --> Min terdapat 1 prediktor yang berpengaruh signifikan terhadap target\n",
    "    - Log-likelihood    : Log dari nilai likelihood.\n",
    "    - AIC               : Akaike Information Criterion (information loss)\n",
    "    - BIC               : Bayesian Information Criterion (serupa dengan AIC, namun perhitungan nilainya berbeda)\n",
    "\n",
    "3. Tabel 2 menyimpan informasi dari koefisien regresi\n",
    "    - **coef**              : Estimasi koefisien\n",
    "    - std err               : Estimasi selisih nilai sampel terhadap populasi\n",
    "    - t                     : Statistik hitung dari t-test (uji parsial)\n",
    "    - **P > |t|**               : P-value dari t-test\n",
    "    - [95.0% Conf. Interval]: Confidence Interval (CI) 95%\n",
    "\n",
    "\n",
    "4. Tabel 3 menyimpan hasil uji statistik error/residual\n",
    "    - Omnibus\tD’Angostino’s test: Statistik hitung untuk pengujian **Skewness** dan **Kurtosis**\n",
    "    - Prob(Omnibus): p-value dari **Omnibus\tD’Angostino’s test**\n",
    "    - Skewness: Mengukur kecondongan distribusi error\n",
    "    - Kurtosis:\tMengukur keruncingan distribusi error\n",
    "    - Durbin-Watson: Statistik hitung pengujian autokorelasi\n",
    "    - Jarque-Bera:\tSerupa dengan **Omnibus\tD’Angostino’s test**, namun memiliki perhitungan yang berbeda\n",
    "    - Prob (JB): p-value dari **Jarque-Bera**\n",
    "    - Cond. No: Pengujian multicolinearity"
   ]
  },
  {
   "cell_type": "markdown",
   "metadata": {},
   "source": [
    "<u> **Tahapan 4 - Hasil Visualisasi 2 Dimensi** </u>\n",
    "    \n",
    "- hanya bisa untuk 1 variabel prediktor"
   ]
  },
  {
   "cell_type": "code",
   "execution_count": 28,
   "metadata": {
    "ExecuteTime": {
     "end_time": "2021-12-02T07:32:43.696230Z",
     "start_time": "2021-12-02T07:32:43.542649Z"
    },
    "execution": {
     "iopub.execute_input": "2024-01-08T01:59:16.169169Z",
     "iopub.status.busy": "2024-01-08T01:59:16.168166Z",
     "iopub.status.idle": "2024-01-08T01:59:16.365893Z",
     "shell.execute_reply": "2024-01-08T01:59:16.364892Z",
     "shell.execute_reply.started": "2024-01-08T01:59:16.169169Z"
    },
    "scrolled": true
   },
   "outputs": [
    {
     "data": {
      "image/png": "[encoded data removed]",
      "text/plain": [
       "<Figure size 640x480 with 1 Axes>"
      ]
     },
     "metadata": {},
     "output_type": "display_data"
    }
   ],
   "source": [
    "# Plot scatter\n",
    "properti.plot.scatter(x='L..Bangunan', y='Price')\n",
    "\n",
    "# Plot garis linear model\n",
    "plt.plot(properti['L..Bangunan'], lm_outlier.fittedvalues, c='red')\n",
    "plt.show()"
   ]
  },
  {
   "cell_type": "markdown",
   "metadata": {},
   "source": [
    "<u>**Tahapan 5 - Melakukan Prediksi Model**</u>\n",
    "\n",
    "❓🏠 **Business Question**:\n",
    "Terdapat properti A dengan Luas Bangunan 90m2. Kita diminta untuk memprediksi harga properti A, berapakah harga prediksinya?"
   ]
  },
  {
   "cell_type": "code",
   "execution_count": 118,
   "metadata": {
    "ExecuteTime": {
     "end_time": "2021-12-02T09:24:56.329398Z",
     "start_time": "2021-12-02T09:24:56.316450Z"
    },
    "execution": {
     "iopub.execute_input": "2024-01-08T03:41:48.642815Z",
     "iopub.status.busy": "2024-01-08T03:41:48.642815Z",
     "iopub.status.idle": "2024-01-08T03:41:48.655039Z",
     "shell.execute_reply": "2024-01-08T03:41:48.654036Z",
     "shell.execute_reply.started": "2024-01-08T03:41:48.642815Z"
    }
   },
   "outputs": [
    {
     "data": {
      "text/plain": [
       "1659900000.0"
      ]
     },
     "execution_count": 118,
     "metadata": {},
     "output_type": "execute_result"
    }
   ],
   "source": [
    "## code here (manual)\n",
    "intercept = 3.036e+08\n",
    "slope = 1.507e+07\n",
    "\n",
    "house_price_new = intercept + slope*90\n",
    "house_price_new"
   ]
  },
  {
   "cell_type": "markdown",
   "metadata": {},
   "source": [
    "Untuk melakukan prediksi terhadap beberapa Luas bangunan, dapat menggunakan `model.predict()`\n",
    "\n",
    "Eg : Data properti dengan Luas Bangunan terbaru"
   ]
  },
  {
   "cell_type": "code",
   "execution_count": 121,
   "metadata": {
    "ExecuteTime": {
     "end_time": "2021-12-02T07:32:43.728209Z",
     "start_time": "2021-12-02T07:32:43.714322Z"
    },
    "execution": {
     "iopub.execute_input": "2024-01-08T03:44:28.458840Z",
     "iopub.status.busy": "2024-01-08T03:44:28.457845Z",
     "iopub.status.idle": "2024-01-08T03:44:28.485840Z",
     "shell.execute_reply": "2024-01-08T03:44:28.484837Z",
     "shell.execute_reply.started": "2024-01-08T03:44:28.458840Z"
    }
   },
   "outputs": [
    {
     "data": {
      "text/html": [
       "<div>\n",
       "<style scoped>\n",
       "    .dataframe tbody tr th:only-of-type {\n",
       "        vertical-align: middle;\n",
       "    }\n",
       "\n",
       "    .dataframe tbody tr th {\n",
       "        vertical-align: top;\n",
       "    }\n",
       "\n",
       "    .dataframe thead th {\n",
       "        text-align: right;\n",
       "    }\n",
       "</style>\n",
       "<table border=\"1\" class=\"dataframe\">\n",
       "  <thead>\n",
       "    <tr style=\"text-align: right;\">\n",
       "      <th></th>\n",
       "      <th>L.B</th>\n",
       "    </tr>\n",
       "  </thead>\n",
       "  <tbody>\n",
       "    <tr>\n",
       "      <th>0</th>\n",
       "      <td>75</td>\n",
       "    </tr>\n",
       "    <tr>\n",
       "      <th>1</th>\n",
       "      <td>320</td>\n",
       "    </tr>\n",
       "    <tr>\n",
       "      <th>2</th>\n",
       "      <td>188</td>\n",
       "    </tr>\n",
       "    <tr>\n",
       "      <th>3</th>\n",
       "      <td>60</td>\n",
       "    </tr>\n",
       "    <tr>\n",
       "      <th>4</th>\n",
       "      <td>90</td>\n",
       "    </tr>\n",
       "  </tbody>\n",
       "</table>\n",
       "</div>"
      ],
      "text/plain": [
       "   L.B\n",
       "0   75\n",
       "1  320\n",
       "2  188\n",
       "3   60\n",
       "4   90"
      ]
     },
     "execution_count": 121,
     "metadata": {},
     "output_type": "execute_result"
    }
   ],
   "source": [
    "new_house = pd.DataFrame({'L.B': (75, 320, 188, 60, 90)})\n",
    "new_house"
   ]
  },
  {
   "cell_type": "code",
   "execution_count": 120,
   "metadata": {
    "ExecuteTime": {
     "end_time": "2021-12-02T09:24:56.329398Z",
     "start_time": "2021-12-02T09:24:56.316450Z"
    },
    "execution": {
     "iopub.execute_input": "2024-01-08T03:42:45.316245Z",
     "iopub.status.busy": "2024-01-08T03:42:45.316245Z",
     "iopub.status.idle": "2024-01-08T03:42:45.330581Z",
     "shell.execute_reply": "2024-01-08T03:42:45.329582Z",
     "shell.execute_reply.started": "2024-01-08T03:42:45.316245Z"
    }
   },
   "outputs": [
    {
     "data": {
      "text/plain": [
       "0   1,433,719,291.236\n",
       "1   5,125,395,607.458\n",
       "2   3,136,410,816.677\n",
       "3   1,207,698,292.284\n",
       "4   1,659,740,290.189\n",
       "dtype: float64"
      ]
     },
     "execution_count": 120,
     "metadata": {},
     "output_type": "execute_result"
    }
   ],
   "source": [
    "## code here\n",
    "# predict copiers datasest\n",
    "X_new = sm.add_constant(new_house)\n",
    "\n",
    "lm_outlier.predict(X_new)"
   ]
  },
  {
   "cell_type": "markdown",
   "metadata": {},
   "source": [
    "#### **6.2 Model tanpa outlier** "
   ]
  },
  {
   "cell_type": "markdown",
   "metadata": {},
   "source": [
    "Untuk membuat model tanpa outlier, langkah pertama yang harus dilakukan adalah melakukan filtering pada data. \n",
    "\n",
    "❓ Coba tinjau lagi nilai outlier pada data properti kita, kira-kira berapa threshold batas outlier yang dimiliki?"
   ]
  },
  {
   "cell_type": "code",
   "execution_count": 36,
   "metadata": {
    "execution": {
     "iopub.execute_input": "2024-01-08T02:45:35.421442Z",
     "iopub.status.busy": "2024-01-08T02:45:35.421442Z",
     "iopub.status.idle": "2024-01-08T02:45:35.574446Z",
     "shell.execute_reply": "2024-01-08T02:45:35.573438Z",
     "shell.execute_reply.started": "2024-01-08T02:45:35.421442Z"
    },
    "scrolled": true
   },
   "outputs": [
    {
     "data": {
      "text/plain": [
       "<Axes: >"
      ]
     },
     "execution_count": 36,
     "metadata": {},
     "output_type": "execute_result"
    },
    {
     "data": {
      "image/png": "[encoded data removed]",
      "text/plain": [
       "<Figure size 640x480 with 1 Axes>"
      ]
     },
     "metadata": {},
     "output_type": "display_data"
    }
   ],
   "source": [
    "# melihat nilai outlier kembali dengan boxplot\n",
    "properti.boxplot('L..Bangunan')"
   ]
  },
  {
   "cell_type": "markdown",
   "metadata": {},
   "source": [
    "Dalam kasus ini dikarenakan outlier `L..Bangunan` di atas 280 m2, maka data yang digunakan adalah data dengan `L..Bangunan` < 280 m2."
   ]
  },
  {
   "cell_type": "code",
   "execution_count": 89,
   "metadata": {
    "ExecuteTime": {
     "end_time": "2021-12-02T09:24:56.329398Z",
     "start_time": "2021-12-02T09:24:56.316450Z"
    },
    "execution": {
     "iopub.execute_input": "2024-01-08T03:27:40.514746Z",
     "iopub.status.busy": "2024-01-08T03:27:40.514746Z",
     "iopub.status.idle": "2024-01-08T03:27:40.533752Z",
     "shell.execute_reply": "2024-01-08T03:27:40.532751Z",
     "shell.execute_reply.started": "2024-01-08T03:27:40.514746Z"
    }
   },
   "outputs": [
    {
     "data": {
      "text/html": [
       "<div>\n",
       "<style scoped>\n",
       "    .dataframe tbody tr th:only-of-type {\n",
       "        vertical-align: middle;\n",
       "    }\n",
       "\n",
       "    .dataframe tbody tr th {\n",
       "        vertical-align: top;\n",
       "    }\n",
       "\n",
       "    .dataframe thead th {\n",
       "        text-align: right;\n",
       "    }\n",
       "</style>\n",
       "<table border=\"1\" class=\"dataframe\">\n",
       "  <thead>\n",
       "    <tr style=\"text-align: right;\">\n",
       "      <th></th>\n",
       "      <th>K..Mandi</th>\n",
       "      <th>K..Tidur</th>\n",
       "      <th>L..Bangunan</th>\n",
       "      <th>Sertifikat</th>\n",
       "      <th>Tipe.Properti</th>\n",
       "      <th>Kota</th>\n",
       "      <th>Price</th>\n",
       "    </tr>\n",
       "  </thead>\n",
       "  <tbody>\n",
       "    <tr>\n",
       "      <th>1</th>\n",
       "      <td>3</td>\n",
       "      <td>3</td>\n",
       "      <td>78</td>\n",
       "      <td>SHM - Sertifikat Hak Milik</td>\n",
       "      <td>Apartemen</td>\n",
       "      <td>Jakarta Selatan</td>\n",
       "      <td>2500000000</td>\n",
       "    </tr>\n",
       "    <tr>\n",
       "      <th>2</th>\n",
       "      <td>1</td>\n",
       "      <td>1</td>\n",
       "      <td>33</td>\n",
       "      <td>HGB - Hak Guna Bangunan</td>\n",
       "      <td>Apartemen</td>\n",
       "      <td>Jakarta Timur</td>\n",
       "      <td>265000000</td>\n",
       "    </tr>\n",
       "    <tr>\n",
       "      <th>3</th>\n",
       "      <td>2</td>\n",
       "      <td>2</td>\n",
       "      <td>120</td>\n",
       "      <td>SHM - Sertifikat Hak Milik</td>\n",
       "      <td>Rumah</td>\n",
       "      <td>Jakarta Pusat</td>\n",
       "      <td>2600000000</td>\n",
       "    </tr>\n",
       "    <tr>\n",
       "      <th>4</th>\n",
       "      <td>3</td>\n",
       "      <td>3</td>\n",
       "      <td>130</td>\n",
       "      <td>SHM - Sertifikat Hak Milik</td>\n",
       "      <td>Rumah</td>\n",
       "      <td>Depok</td>\n",
       "      <td>1300000000</td>\n",
       "    </tr>\n",
       "    <tr>\n",
       "      <th>5</th>\n",
       "      <td>1</td>\n",
       "      <td>1</td>\n",
       "      <td>97</td>\n",
       "      <td>Lainnya (PPJB,Girik,Adat,dll)</td>\n",
       "      <td>Apartemen</td>\n",
       "      <td>Jakarta Barat</td>\n",
       "      <td>3200000000</td>\n",
       "    </tr>\n",
       "    <tr>\n",
       "      <th>...</th>\n",
       "      <td>...</td>\n",
       "      <td>...</td>\n",
       "      <td>...</td>\n",
       "      <td>...</td>\n",
       "      <td>...</td>\n",
       "      <td>...</td>\n",
       "      <td>...</td>\n",
       "    </tr>\n",
       "    <tr>\n",
       "      <th>6282</th>\n",
       "      <td>2</td>\n",
       "      <td>3</td>\n",
       "      <td>80</td>\n",
       "      <td>SHM - Sertifikat Hak Milik</td>\n",
       "      <td>Rumah</td>\n",
       "      <td>Jakarta Timur</td>\n",
       "      <td>960000000</td>\n",
       "    </tr>\n",
       "    <tr>\n",
       "      <th>6283</th>\n",
       "      <td>2</td>\n",
       "      <td>3</td>\n",
       "      <td>84</td>\n",
       "      <td>SHM - Sertifikat Hak Milik</td>\n",
       "      <td>Rumah</td>\n",
       "      <td>Depok</td>\n",
       "      <td>1070000000</td>\n",
       "    </tr>\n",
       "    <tr>\n",
       "      <th>6284</th>\n",
       "      <td>2</td>\n",
       "      <td>2</td>\n",
       "      <td>132</td>\n",
       "      <td>Lainnya (PPJB,Girik,Adat,dll)</td>\n",
       "      <td>Apartemen</td>\n",
       "      <td>Jakarta Utara</td>\n",
       "      <td>1900000000</td>\n",
       "    </tr>\n",
       "    <tr>\n",
       "      <th>6285</th>\n",
       "      <td>3</td>\n",
       "      <td>3</td>\n",
       "      <td>83</td>\n",
       "      <td>SHM - Sertifikat Hak Milik</td>\n",
       "      <td>Rumah</td>\n",
       "      <td>Depok</td>\n",
       "      <td>1260000000</td>\n",
       "    </tr>\n",
       "    <tr>\n",
       "      <th>6286</th>\n",
       "      <td>4</td>\n",
       "      <td>3</td>\n",
       "      <td>200</td>\n",
       "      <td>SHM - Sertifikat Hak Milik</td>\n",
       "      <td>Rumah</td>\n",
       "      <td>Jakarta Selatan</td>\n",
       "      <td>2900000000</td>\n",
       "    </tr>\n",
       "  </tbody>\n",
       "</table>\n",
       "<p>6160 rows × 7 columns</p>\n",
       "</div>"
      ],
      "text/plain": [
       "      K..Mandi  K..Tidur  L..Bangunan                     Sertifikat  \\\n",
       "1            3         3           78     SHM - Sertifikat Hak Milik   \n",
       "2            1         1           33        HGB - Hak Guna Bangunan   \n",
       "3            2         2          120     SHM - Sertifikat Hak Milik   \n",
       "4            3         3          130     SHM - Sertifikat Hak Milik   \n",
       "5            1         1           97  Lainnya (PPJB,Girik,Adat,dll)   \n",
       "...        ...       ...          ...                            ...   \n",
       "6282         2         3           80     SHM - Sertifikat Hak Milik   \n",
       "6283         2         3           84     SHM - Sertifikat Hak Milik   \n",
       "6284         2         2          132  Lainnya (PPJB,Girik,Adat,dll)   \n",
       "6285         3         3           83     SHM - Sertifikat Hak Milik   \n",
       "6286         4         3          200     SHM - Sertifikat Hak Milik   \n",
       "\n",
       "     Tipe.Properti             Kota       Price  \n",
       "1        Apartemen  Jakarta Selatan  2500000000  \n",
       "2        Apartemen    Jakarta Timur   265000000  \n",
       "3            Rumah    Jakarta Pusat  2600000000  \n",
       "4            Rumah            Depok  1300000000  \n",
       "5        Apartemen    Jakarta Barat  3200000000  \n",
       "...            ...              ...         ...  \n",
       "6282         Rumah    Jakarta Timur   960000000  \n",
       "6283         Rumah            Depok  1070000000  \n",
       "6284     Apartemen    Jakarta Utara  1900000000  \n",
       "6285         Rumah            Depok  1260000000  \n",
       "6286         Rumah  Jakarta Selatan  2900000000  \n",
       "\n",
       "[6160 rows x 7 columns]"
      ]
     },
     "execution_count": 89,
     "metadata": {},
     "output_type": "execute_result"
    }
   ],
   "source": [
    "# remove outlier (membuang nilai outlier dengan L.B < 280m2)\n",
    "properti_new = properti[(properti['L..Bangunan'] <= 263)]\n",
    "properti_new"
   ]
  },
  {
   "cell_type": "code",
   "execution_count": 123,
   "metadata": {
    "ExecuteTime": {
     "end_time": "2021-12-02T07:32:43.851788Z",
     "start_time": "2021-12-02T07:32:43.823052Z"
    },
    "execution": {
     "iopub.execute_input": "2024-01-08T03:49:42.385930Z",
     "iopub.status.busy": "2024-01-08T03:49:42.385930Z",
     "iopub.status.idle": "2024-01-08T03:49:42.415119Z",
     "shell.execute_reply": "2024-01-08T03:49:42.414730Z",
     "shell.execute_reply.started": "2024-01-08T03:49:42.385930Z"
    },
    "scrolled": true
   },
   "outputs": [
    {
     "data": {
      "text/html": [
       "<table class=\"simpletable\">\n",
       "<caption>OLS Regression Results</caption>\n",
       "<tr>\n",
       "  <th>Dep. Variable:</th>          <td>Price</td>      <th>  R-squared:         </th>  <td>   0.615</td>  \n",
       "</tr>\n",
       "<tr>\n",
       "  <th>Model:</th>                   <td>OLS</td>       <th>  Adj. R-squared:    </th>  <td>   0.615</td>  \n",
       "</tr>\n",
       "<tr>\n",
       "  <th>Method:</th>             <td>Least Squares</td>  <th>  F-statistic:       </th>  <td>   9838.</td>  \n",
       "</tr>\n",
       "<tr>\n",
       "  <th>Date:</th>             <td>Mon, 08 Jan 2024</td> <th>  Prob (F-statistic):</th>   <td>  0.00</td>   \n",
       "</tr>\n",
       "<tr>\n",
       "  <th>Time:</th>                 <td>10:49:42</td>     <th>  Log-Likelihood:    </th> <td>-1.3459e+05</td>\n",
       "</tr>\n",
       "<tr>\n",
       "  <th>No. Observations:</th>      <td>  6160</td>      <th>  AIC:               </th>  <td>2.692e+05</td> \n",
       "</tr>\n",
       "<tr>\n",
       "  <th>Df Residuals:</th>          <td>  6158</td>      <th>  BIC:               </th>  <td>2.692e+05</td> \n",
       "</tr>\n",
       "<tr>\n",
       "  <th>Df Model:</th>              <td>     1</td>      <th>                     </th>      <td> </td>     \n",
       "</tr>\n",
       "<tr>\n",
       "  <th>Covariance Type:</th>      <td>nonrobust</td>    <th>                     </th>      <td> </td>     \n",
       "</tr>\n",
       "</table>\n",
       "<table class=\"simpletable\">\n",
       "<tr>\n",
       "       <td></td>          <th>coef</th>     <th>std err</th>      <th>t</th>      <th>P>|t|</th>  <th>[0.025</th>    <th>0.975]</th>  \n",
       "</tr>\n",
       "<tr>\n",
       "  <th>const</th>       <td> 2.044e+08</td> <td> 1.74e+07</td> <td>   11.730</td> <td> 0.000</td> <td>  1.7e+08</td> <td> 2.39e+08</td>\n",
       "</tr>\n",
       "<tr>\n",
       "  <th>L..Bangunan</th> <td> 1.636e+07</td> <td> 1.65e+05</td> <td>   99.185</td> <td> 0.000</td> <td>  1.6e+07</td> <td> 1.67e+07</td>\n",
       "</tr>\n",
       "</table>\n",
       "<table class=\"simpletable\">\n",
       "<tr>\n",
       "  <th>Omnibus:</th>       <td>1802.302</td> <th>  Durbin-Watson:     </th> <td>   2.036</td>\n",
       "</tr>\n",
       "<tr>\n",
       "  <th>Prob(Omnibus):</th>  <td> 0.000</td>  <th>  Jarque-Bera (JB):  </th> <td>5875.961</td>\n",
       "</tr>\n",
       "<tr>\n",
       "  <th>Skew:</th>           <td> 1.479</td>  <th>  Prob(JB):          </th> <td>    0.00</td>\n",
       "</tr>\n",
       "<tr>\n",
       "  <th>Kurtosis:</th>       <td> 6.762</td>  <th>  Cond. No.          </th> <td>    194.</td>\n",
       "</tr>\n",
       "</table><br/><br/>Notes:<br/>[1] Standard Errors assume that the covariance matrix of the errors is correctly specified."
      ],
      "text/latex": [
       "\\begin{center}\n",
       "\\begin{tabular}{lclc}\n",
       "\\toprule\n",
       "\\textbf{Dep. Variable:}    &      Price       & \\textbf{  R-squared:         } &      0.615   \\\\\n",
       "\\textbf{Model:}            &       OLS        & \\textbf{  Adj. R-squared:    } &      0.615   \\\\\n",
       "\\textbf{Method:}           &  Least Squares   & \\textbf{  F-statistic:       } &      9838.   \\\\\n",
       "\\textbf{Date:}             & Mon, 08 Jan 2024 & \\textbf{  Prob (F-statistic):} &      0.00    \\\\\n",
       "\\textbf{Time:}             &     10:49:42     & \\textbf{  Log-Likelihood:    } & -1.3459e+05  \\\\\n",
       "\\textbf{No. Observations:} &        6160      & \\textbf{  AIC:               } &  2.692e+05   \\\\\n",
       "\\textbf{Df Residuals:}     &        6158      & \\textbf{  BIC:               } &  2.692e+05   \\\\\n",
       "\\textbf{Df Model:}         &           1      & \\textbf{                     } &              \\\\\n",
       "\\textbf{Covariance Type:}  &    nonrobust     & \\textbf{                     } &              \\\\\n",
       "\\bottomrule\n",
       "\\end{tabular}\n",
       "\\begin{tabular}{lcccccc}\n",
       "                     & \\textbf{coef} & \\textbf{std err} & \\textbf{t} & \\textbf{P$> |$t$|$} & \\textbf{[0.025} & \\textbf{0.975]}  \\\\\n",
       "\\midrule\n",
       "\\textbf{const}       &    2.044e+08  &     1.74e+07     &    11.730  &         0.000        &      1.7e+08    &     2.39e+08     \\\\\n",
       "\\textbf{L..Bangunan} &    1.636e+07  &     1.65e+05     &    99.185  &         0.000        &      1.6e+07    &     1.67e+07     \\\\\n",
       "\\bottomrule\n",
       "\\end{tabular}\n",
       "\\begin{tabular}{lclc}\n",
       "\\textbf{Omnibus:}       & 1802.302 & \\textbf{  Durbin-Watson:     } &    2.036  \\\\\n",
       "\\textbf{Prob(Omnibus):} &   0.000  & \\textbf{  Jarque-Bera (JB):  } & 5875.961  \\\\\n",
       "\\textbf{Skew:}          &   1.479  & \\textbf{  Prob(JB):          } &     0.00  \\\\\n",
       "\\textbf{Kurtosis:}      &   6.762  & \\textbf{  Cond. No.          } &     194.  \\\\\n",
       "\\bottomrule\n",
       "\\end{tabular}\n",
       "%\\caption{OLS Regression Results}\n",
       "\\end{center}\n",
       "\n",
       "Notes: \\newline\n",
       " [1] Standard Errors assume that the covariance matrix of the errors is correctly specified."
      ],
      "text/plain": [
       "<class 'statsmodels.iolib.summary.Summary'>\n",
       "\"\"\"\n",
       "                            OLS Regression Results                            \n",
       "==============================================================================\n",
       "Dep. Variable:                  Price   R-squared:                       0.615\n",
       "Model:                            OLS   Adj. R-squared:                  0.615\n",
       "Method:                 Least Squares   F-statistic:                     9838.\n",
       "Date:                Mon, 08 Jan 2024   Prob (F-statistic):               0.00\n",
       "Time:                        10:49:42   Log-Likelihood:            -1.3459e+05\n",
       "No. Observations:                6160   AIC:                         2.692e+05\n",
       "Df Residuals:                    6158   BIC:                         2.692e+05\n",
       "Df Model:                           1                                         \n",
       "Covariance Type:            nonrobust                                         \n",
       "===============================================================================\n",
       "                  coef    std err          t      P>|t|      [0.025      0.975]\n",
       "-------------------------------------------------------------------------------\n",
       "const        2.044e+08   1.74e+07     11.730      0.000     1.7e+08    2.39e+08\n",
       "L..Bangunan  1.636e+07   1.65e+05     99.185      0.000     1.6e+07    1.67e+07\n",
       "==============================================================================\n",
       "Omnibus:                     1802.302   Durbin-Watson:                   2.036\n",
       "Prob(Omnibus):                  0.000   Jarque-Bera (JB):             5875.961\n",
       "Skew:                           1.479   Prob(JB):                         0.00\n",
       "Kurtosis:                       6.762   Cond. No.                         194.\n",
       "==============================================================================\n",
       "\n",
       "Notes:\n",
       "[1] Standard Errors assume that the covariance matrix of the errors is correctly specified.\n",
       "\"\"\""
      ]
     },
     "execution_count": 123,
     "metadata": {},
     "output_type": "execute_result"
    }
   ],
   "source": [
    "# melakukan modeling dengan data baru \n",
    "# define predictor variable\n",
    "# X_data_no = properti_new['L..Bangunan']\n",
    "X_data_no = sm.add_constant(properti_new['L..Bangunan'])\n",
    "\n",
    "#define target variable\n",
    "Y_data_no = properti_new['Price']\n",
    "\n",
    "# build model with outlier\n",
    "lm_no_outlier = sm.OLS(Y_data_no, X_data_no).fit()\n",
    "\n",
    "lm_no_outlier.summary()"
   ]
  },
  {
   "cell_type": "markdown",
   "metadata": {},
   "source": [
    "📝 **Interpretasi model:**\n",
    "\n",
    "1. **Model linier regresi** untuk kasus prediksi harga properti di daerah Jakarta, Depok, dan Tangsel adalah:\n",
    "   > `Price = b0 + b1*L..Bangunan`\n",
    "   \n",
    "   > `Price =  ... + ...*L..Bangunan`\n",
    "   \n",
    "   - slope    : 1.636e+07\n",
    "   - intercept: 2.044e+08\t\n",
    "   \n",
    "2. **Signifikansi prediktor** (bandingkan nilai p-value dengan alpha)\n",
    "    - H0: Luas Bangunan tidak mempengaruhi Harga Properti\n",
    "    - H1: Luas Bangunan mempengaruhi Harga Properti\n",
    "    \n",
    "    **Note:** Ketika p-value < 0.05 (alpha) maka kesimpulannya adalah menolak H0\n",
    "    \n",
    "    > p-value : 0.00\n",
    "    \n",
    "    > Kesimpulan : $H_0$ ditolak\n",
    "   \n",
    "3. **Goodness of fit** (melihat nilai R-squared, dimana **0 ≤ $R^2$ ≤ 1**)\n",
    "   \n",
    "   Nilai R-Squared merepresentasikan % variasi dari data yang berhasil dijelaskan oleh model. **Formula**:  \n",
    "      \n",
    "   $R^2=1- \\frac {∑ \\limits_{i=1}^n (Y_i−\\hat Y)^2}{∑ \\limits_{i=1}^n(Y_i−\\bar Y)^2}$\n",
    "   \n",
    "   - Semakin mendekati 1, mengindikasikan model semakin fit\n",
    "   - Semakin mendekati 0, mengindikasikan model tidak fit\n",
    "   \n",
    "   > R-Squared: 0.615\n",
    "   \n",
    "   > Kesimpulan : Cukup fit"
   ]
  },
  {
   "cell_type": "code",
   "execution_count": 136,
   "metadata": {
    "ExecuteTime": {
     "end_time": "2021-12-02T07:32:43.991329Z",
     "start_time": "2021-12-02T07:32:43.853661Z"
    },
    "execution": {
     "iopub.execute_input": "2024-01-08T03:58:39.587794Z",
     "iopub.status.busy": "2024-01-08T03:58:39.587794Z",
     "iopub.status.idle": "2024-01-08T03:58:39.783580Z",
     "shell.execute_reply": "2024-01-08T03:58:39.782590Z",
     "shell.execute_reply.started": "2024-01-08T03:58:39.587794Z"
    },
    "scrolled": true
   },
   "outputs": [
    {
     "data": {
      "image/png": "[encoded data removed]",
      "text/plain": [
       "<Figure size 640x480 with 1 Axes>"
      ]
     },
     "metadata": {},
     "output_type": "display_data"
    }
   ],
   "source": [
    "# visualize the result\n",
    "fig1, ax1 = plt.subplots()\n",
    "properti.plot.scatter(x='L..Bangunan', y='Price', c='yellow', ax=ax1, ylim=[0,6.5e9])\n",
    "properti_new.plot.scatter(x='L..Bangunan', y='Price', c='blue',ax=ax1)\n",
    "# visualisasi model no_outlier\n",
    "plt.plot(properti_new['L..Bangunan'], lm_no_outlier.fittedvalues, c='black')\n",
    "# visualisasi model dengan outlier\n",
    "plt.plot(properti['L..Bangunan'], lm_outlier.fittedvalues, c='red')\n",
    "plt.show()"
   ]
  },
  {
   "cell_type": "markdown",
   "metadata": {},
   "source": [
    "## **Leverage vs. Influence**\n",
    "\n",
    "**Leverage** adalah nilai yang letaknya jauh dari letak observasi lainnya, sering disebut sebagai **outlier**. Nilai leverage dapat mempengaruhi model linier regresi atau pun tidak.\n",
    "\n",
    "- Ketika **leverage mempengaruhi (menurunkan R-Squared)** model linier regresi: **high influence**, sebaiknya **di-exclude** -> membuat model menjadi lebih jelek\n",
    "- Ketika **leverage tidak mempengaruhi (meningkatkan R-Squared)** model linier regresi: **low influence**, sebaiknya **di-include** -> membuat model menjadi lebih baik"
   ]
  },
  {
   "cell_type": "code",
   "execution_count": 137,
   "metadata": {
    "ExecuteTime": {
     "end_time": "2021-12-02T07:32:44.006554Z",
     "start_time": "2021-12-02T07:32:43.993326Z"
    },
    "execution": {
     "iopub.execute_input": "2024-01-08T03:58:55.229039Z",
     "iopub.status.busy": "2024-01-08T03:58:55.228039Z",
     "iopub.status.idle": "2024-01-08T03:58:55.247862Z",
     "shell.execute_reply": "2024-01-08T03:58:55.246848Z",
     "shell.execute_reply.started": "2024-01-08T03:58:55.229039Z"
    }
   },
   "outputs": [
    {
     "name": "stdout",
     "output_type": "stream",
     "text": [
      "R-Squared model dengan outlier : 0.63\n",
      "R-Squared model tanpa outlier : 0.62\n"
     ]
    }
   ],
   "source": [
    "print(\"R-Squared model dengan outlier :\", (lm_outlier.rsquared).round(2))\n",
    "print(\"R-Squared model tanpa outlier :\", (lm_no_outlier.rsquared).round(2))"
   ]
  },
  {
   "cell_type": "markdown",
   "metadata": {},
   "source": [
    "**Kesimpulan**: **high influence** -> membuat model menjadi lebih jelek"
   ]
  },
  {
   "cell_type": "markdown",
   "metadata": {},
   "source": [
    "## Multiple Linear Regression\n",
    "\n",
    "Linear regression dengan **lebih dari satu prediktor** bisa meningkatkan performa model karena lebih banyak informasi yang dapat menjelaskan target.\n",
    "\n",
    "Formula multiple linear regression:\n",
    "\n",
    "$$\n",
    "\\hat{y}=\\beta_0+\\beta_1.x_1+...+\\beta_n.x_n\n",
    "$$\n",
    "\n",
    "dimana $\\hat{y}$ merupakan prediksi target variabel dan $x_1,...,x_n$ prediktor lainnya. \n",
    "\n",
    "Workflow pada simple linear regression dan multiple linear regression adalah sama. Berikut merupakan worklownya:"
   ]
  },
  {
   "cell_type": "markdown",
   "metadata": {},
   "source": [
    "### 1. Preparation Data\n",
    "\n",
    "Kita akan membuat multiple linear regression menggunakan data properti untuk memprediksi `Price` berdasarkan keseluruhan variabel.\n",
    "- y: Price\n",
    "- x: K..Mandi, K..Tidur, L..Bangunan, Sertifikat, Tipe.Properti, dan Kota"
   ]
  },
  {
   "cell_type": "markdown",
   "metadata": {},
   "source": [
    "#### 💡 Categorical Predictor: Dummy Variable Encoding\n",
    "\n",
    "Di Python, data input dan output untuk model *machine learning* harus berbentuk numeric. Ini berarti, ketika data kita mempunyai nilai kategorikal, harus di-*encode* menjadi numerik terlebih dahulu.\n",
    "\n",
    "Sebelum melakukan fitting model, kita harus mengubah **prediktor kategorik menjadi dummy variable**, dengan cara:\n",
    "\n",
    "- Dilakukan dengan menggunakan fungsi `pd.get_dummies()`\n",
    "- **One hot encoding** = mengubah kolom kategorik menjadi kolom-kolom baru dari setiap kategori yang berisi nilai 0 dan 1 \n",
    "- **Dummy variable** =  mengubah kolom kategorik menjadi kolom-kolom baru yang terdiri dari **k-1 kategori**, berisi nilai 0 dan 1. Kategori yang tidak menjadi kolom, akan menjadi kondisi basis. Untuk membuat dummy variable, tambahkan parameter `drop_first=True`\n",
    "\n",
    "![](assets/one_hot-dummy.png)\n",
    "\n",
    "📌 Dalam kasus regresi wajib memakai dummy variabel. \n",
    "\n",
    "**💡 NOTES**: Salah satu kolom di-*drop* karena bersifat redundan (berulang). Untuk kolom yang hanya memiliki 2 kategori, tidak ada perbedaan hasil/efek baik ketika memilih ordinal ataupun dummy, akan tetapi best practicenya menggunakan dummy variabel.\n",
    "\n",
    "Mari kita coba menerapkan **Dummy Variable Encoding** untuk kolom-kolom kategorikal."
   ]
  },
  {
   "cell_type": "code",
   "execution_count": 93,
   "metadata": {
    "execution": {
     "iopub.execute_input": "2024-01-08T03:28:01.615209Z",
     "iopub.status.busy": "2024-01-08T03:28:01.614212Z",
     "iopub.status.idle": "2024-01-08T03:28:01.637208Z",
     "shell.execute_reply": "2024-01-08T03:28:01.636211Z",
     "shell.execute_reply.started": "2024-01-08T03:28:01.615209Z"
    },
    "scrolled": true
   },
   "outputs": [
    {
     "data": {
      "text/html": [
       "<div>\n",
       "<style scoped>\n",
       "    .dataframe tbody tr th:only-of-type {\n",
       "        vertical-align: middle;\n",
       "    }\n",
       "\n",
       "    .dataframe tbody tr th {\n",
       "        vertical-align: top;\n",
       "    }\n",
       "\n",
       "    .dataframe thead th {\n",
       "        text-align: right;\n",
       "    }\n",
       "</style>\n",
       "<table border=\"1\" class=\"dataframe\">\n",
       "  <thead>\n",
       "    <tr style=\"text-align: right;\">\n",
       "      <th></th>\n",
       "      <th>K..Mandi</th>\n",
       "      <th>K..Tidur</th>\n",
       "      <th>L..Bangunan</th>\n",
       "      <th>Sertifikat</th>\n",
       "      <th>Tipe.Properti</th>\n",
       "      <th>Kota</th>\n",
       "      <th>Price</th>\n",
       "    </tr>\n",
       "  </thead>\n",
       "  <tbody>\n",
       "    <tr>\n",
       "      <th>0</th>\n",
       "      <td>3</td>\n",
       "      <td>4</td>\n",
       "      <td>294</td>\n",
       "      <td>SHM - Sertifikat Hak Milik</td>\n",
       "      <td>Rumah</td>\n",
       "      <td>Jakarta Utara</td>\n",
       "      <td>3500000000</td>\n",
       "    </tr>\n",
       "    <tr>\n",
       "      <th>1</th>\n",
       "      <td>3</td>\n",
       "      <td>3</td>\n",
       "      <td>78</td>\n",
       "      <td>SHM - Sertifikat Hak Milik</td>\n",
       "      <td>Apartemen</td>\n",
       "      <td>Jakarta Selatan</td>\n",
       "      <td>2500000000</td>\n",
       "    </tr>\n",
       "    <tr>\n",
       "      <th>2</th>\n",
       "      <td>1</td>\n",
       "      <td>1</td>\n",
       "      <td>33</td>\n",
       "      <td>HGB - Hak Guna Bangunan</td>\n",
       "      <td>Apartemen</td>\n",
       "      <td>Jakarta Timur</td>\n",
       "      <td>265000000</td>\n",
       "    </tr>\n",
       "    <tr>\n",
       "      <th>3</th>\n",
       "      <td>2</td>\n",
       "      <td>2</td>\n",
       "      <td>120</td>\n",
       "      <td>SHM - Sertifikat Hak Milik</td>\n",
       "      <td>Rumah</td>\n",
       "      <td>Jakarta Pusat</td>\n",
       "      <td>2600000000</td>\n",
       "    </tr>\n",
       "    <tr>\n",
       "      <th>4</th>\n",
       "      <td>3</td>\n",
       "      <td>3</td>\n",
       "      <td>130</td>\n",
       "      <td>SHM - Sertifikat Hak Milik</td>\n",
       "      <td>Rumah</td>\n",
       "      <td>Depok</td>\n",
       "      <td>1300000000</td>\n",
       "    </tr>\n",
       "  </tbody>\n",
       "</table>\n",
       "</div>"
      ],
      "text/plain": [
       "   K..Mandi  K..Tidur  L..Bangunan                  Sertifikat Tipe.Properti  \\\n",
       "0         3         4          294  SHM - Sertifikat Hak Milik         Rumah   \n",
       "1         3         3           78  SHM - Sertifikat Hak Milik     Apartemen   \n",
       "2         1         1           33     HGB - Hak Guna Bangunan     Apartemen   \n",
       "3         2         2          120  SHM - Sertifikat Hak Milik         Rumah   \n",
       "4         3         3          130  SHM - Sertifikat Hak Milik         Rumah   \n",
       "\n",
       "              Kota       Price  \n",
       "0    Jakarta Utara  3500000000  \n",
       "1  Jakarta Selatan  2500000000  \n",
       "2    Jakarta Timur   265000000  \n",
       "3    Jakarta Pusat  2600000000  \n",
       "4            Depok  1300000000  "
      ]
     },
     "execution_count": 93,
     "metadata": {},
     "output_type": "execute_result"
    }
   ],
   "source": [
    "properti.head()"
   ]
  },
  {
   "cell_type": "code",
   "execution_count": 147,
   "metadata": {
    "ExecuteTime": {
     "end_time": "2021-12-02T07:32:44.114324Z",
     "start_time": "2021-12-02T07:32:44.103338Z"
    },
    "execution": {
     "iopub.execute_input": "2024-01-08T04:23:59.352611Z",
     "iopub.status.busy": "2024-01-08T04:23:59.351610Z",
     "iopub.status.idle": "2024-01-08T04:23:59.384608Z",
     "shell.execute_reply": "2024-01-08T04:23:59.383608Z",
     "shell.execute_reply.started": "2024-01-08T04:23:59.352611Z"
    },
    "scrolled": true
   },
   "outputs": [
    {
     "data": {
      "text/html": [
       "<div>\n",
       "<style scoped>\n",
       "    .dataframe tbody tr th:only-of-type {\n",
       "        vertical-align: middle;\n",
       "    }\n",
       "\n",
       "    .dataframe tbody tr th {\n",
       "        vertical-align: top;\n",
       "    }\n",
       "\n",
       "    .dataframe thead th {\n",
       "        text-align: right;\n",
       "    }\n",
       "</style>\n",
       "<table border=\"1\" class=\"dataframe\">\n",
       "  <thead>\n",
       "    <tr style=\"text-align: right;\">\n",
       "      <th></th>\n",
       "      <th>K..Mandi</th>\n",
       "      <th>K..Tidur</th>\n",
       "      <th>L..Bangunan</th>\n",
       "      <th>Price</th>\n",
       "      <th>Sertifikat_HP - Hak Pakai</th>\n",
       "      <th>Sertifikat_HS - Hak Sewa</th>\n",
       "      <th>Sertifikat_Lainnya (PPJB,Girik,Adat,dll)</th>\n",
       "      <th>Sertifikat_PPJB</th>\n",
       "      <th>Sertifikat_SHM - Sertifikat Hak Milik</th>\n",
       "      <th>Tipe.Properti_Rumah</th>\n",
       "      <th>Kota_Jakarta Barat</th>\n",
       "      <th>Kota_Jakarta Pusat</th>\n",
       "      <th>Kota_Jakarta Selatan</th>\n",
       "      <th>Kota_Jakarta Timur</th>\n",
       "      <th>Kota_Jakarta Utara</th>\n",
       "      <th>Kota_Tangerang Selatan</th>\n",
       "    </tr>\n",
       "  </thead>\n",
       "  <tbody>\n",
       "    <tr>\n",
       "      <th>0</th>\n",
       "      <td>3</td>\n",
       "      <td>4</td>\n",
       "      <td>294</td>\n",
       "      <td>3500000000</td>\n",
       "      <td>0</td>\n",
       "      <td>0</td>\n",
       "      <td>0</td>\n",
       "      <td>0</td>\n",
       "      <td>1</td>\n",
       "      <td>1</td>\n",
       "      <td>0</td>\n",
       "      <td>0</td>\n",
       "      <td>0</td>\n",
       "      <td>0</td>\n",
       "      <td>1</td>\n",
       "      <td>0</td>\n",
       "    </tr>\n",
       "    <tr>\n",
       "      <th>1</th>\n",
       "      <td>3</td>\n",
       "      <td>3</td>\n",
       "      <td>78</td>\n",
       "      <td>2500000000</td>\n",
       "      <td>0</td>\n",
       "      <td>0</td>\n",
       "      <td>0</td>\n",
       "      <td>0</td>\n",
       "      <td>1</td>\n",
       "      <td>0</td>\n",
       "      <td>0</td>\n",
       "      <td>0</td>\n",
       "      <td>1</td>\n",
       "      <td>0</td>\n",
       "      <td>0</td>\n",
       "      <td>0</td>\n",
       "    </tr>\n",
       "    <tr>\n",
       "      <th>2</th>\n",
       "      <td>1</td>\n",
       "      <td>1</td>\n",
       "      <td>33</td>\n",
       "      <td>265000000</td>\n",
       "      <td>0</td>\n",
       "      <td>0</td>\n",
       "      <td>0</td>\n",
       "      <td>0</td>\n",
       "      <td>0</td>\n",
       "      <td>0</td>\n",
       "      <td>0</td>\n",
       "      <td>0</td>\n",
       "      <td>0</td>\n",
       "      <td>1</td>\n",
       "      <td>0</td>\n",
       "      <td>0</td>\n",
       "    </tr>\n",
       "    <tr>\n",
       "      <th>3</th>\n",
       "      <td>2</td>\n",
       "      <td>2</td>\n",
       "      <td>120</td>\n",
       "      <td>2600000000</td>\n",
       "      <td>0</td>\n",
       "      <td>0</td>\n",
       "      <td>0</td>\n",
       "      <td>0</td>\n",
       "      <td>1</td>\n",
       "      <td>1</td>\n",
       "      <td>0</td>\n",
       "      <td>1</td>\n",
       "      <td>0</td>\n",
       "      <td>0</td>\n",
       "      <td>0</td>\n",
       "      <td>0</td>\n",
       "    </tr>\n",
       "    <tr>\n",
       "      <th>4</th>\n",
       "      <td>3</td>\n",
       "      <td>3</td>\n",
       "      <td>130</td>\n",
       "      <td>1300000000</td>\n",
       "      <td>0</td>\n",
       "      <td>0</td>\n",
       "      <td>0</td>\n",
       "      <td>0</td>\n",
       "      <td>1</td>\n",
       "      <td>1</td>\n",
       "      <td>0</td>\n",
       "      <td>0</td>\n",
       "      <td>0</td>\n",
       "      <td>0</td>\n",
       "      <td>0</td>\n",
       "      <td>0</td>\n",
       "    </tr>\n",
       "    <tr>\n",
       "      <th>...</th>\n",
       "      <td>...</td>\n",
       "      <td>...</td>\n",
       "      <td>...</td>\n",
       "      <td>...</td>\n",
       "      <td>...</td>\n",
       "      <td>...</td>\n",
       "      <td>...</td>\n",
       "      <td>...</td>\n",
       "      <td>...</td>\n",
       "      <td>...</td>\n",
       "      <td>...</td>\n",
       "      <td>...</td>\n",
       "      <td>...</td>\n",
       "      <td>...</td>\n",
       "      <td>...</td>\n",
       "      <td>...</td>\n",
       "    </tr>\n",
       "    <tr>\n",
       "      <th>6282</th>\n",
       "      <td>2</td>\n",
       "      <td>3</td>\n",
       "      <td>80</td>\n",
       "      <td>960000000</td>\n",
       "      <td>0</td>\n",
       "      <td>0</td>\n",
       "      <td>0</td>\n",
       "      <td>0</td>\n",
       "      <td>1</td>\n",
       "      <td>1</td>\n",
       "      <td>0</td>\n",
       "      <td>0</td>\n",
       "      <td>0</td>\n",
       "      <td>1</td>\n",
       "      <td>0</td>\n",
       "      <td>0</td>\n",
       "    </tr>\n",
       "    <tr>\n",
       "      <th>6283</th>\n",
       "      <td>2</td>\n",
       "      <td>3</td>\n",
       "      <td>84</td>\n",
       "      <td>1070000000</td>\n",
       "      <td>0</td>\n",
       "      <td>0</td>\n",
       "      <td>0</td>\n",
       "      <td>0</td>\n",
       "      <td>1</td>\n",
       "      <td>1</td>\n",
       "      <td>0</td>\n",
       "      <td>0</td>\n",
       "      <td>0</td>\n",
       "      <td>0</td>\n",
       "      <td>0</td>\n",
       "      <td>0</td>\n",
       "    </tr>\n",
       "    <tr>\n",
       "      <th>6284</th>\n",
       "      <td>2</td>\n",
       "      <td>2</td>\n",
       "      <td>132</td>\n",
       "      <td>1900000000</td>\n",
       "      <td>0</td>\n",
       "      <td>0</td>\n",
       "      <td>1</td>\n",
       "      <td>0</td>\n",
       "      <td>0</td>\n",
       "      <td>0</td>\n",
       "      <td>0</td>\n",
       "      <td>0</td>\n",
       "      <td>0</td>\n",
       "      <td>0</td>\n",
       "      <td>1</td>\n",
       "      <td>0</td>\n",
       "    </tr>\n",
       "    <tr>\n",
       "      <th>6285</th>\n",
       "      <td>3</td>\n",
       "      <td>3</td>\n",
       "      <td>83</td>\n",
       "      <td>1260000000</td>\n",
       "      <td>0</td>\n",
       "      <td>0</td>\n",
       "      <td>0</td>\n",
       "      <td>0</td>\n",
       "      <td>1</td>\n",
       "      <td>1</td>\n",
       "      <td>0</td>\n",
       "      <td>0</td>\n",
       "      <td>0</td>\n",
       "      <td>0</td>\n",
       "      <td>0</td>\n",
       "      <td>0</td>\n",
       "    </tr>\n",
       "    <tr>\n",
       "      <th>6286</th>\n",
       "      <td>4</td>\n",
       "      <td>3</td>\n",
       "      <td>200</td>\n",
       "      <td>2900000000</td>\n",
       "      <td>0</td>\n",
       "      <td>0</td>\n",
       "      <td>0</td>\n",
       "      <td>0</td>\n",
       "      <td>1</td>\n",
       "      <td>1</td>\n",
       "      <td>0</td>\n",
       "      <td>0</td>\n",
       "      <td>1</td>\n",
       "      <td>0</td>\n",
       "      <td>0</td>\n",
       "      <td>0</td>\n",
       "    </tr>\n",
       "  </tbody>\n",
       "</table>\n",
       "<p>6276 rows × 16 columns</p>\n",
       "</div>"
      ],
      "text/plain": [
       "      K..Mandi  K..Tidur  L..Bangunan       Price  Sertifikat_HP - Hak Pakai  \\\n",
       "0            3         4          294  3500000000                          0   \n",
       "1            3         3           78  2500000000                          0   \n",
       "2            1         1           33   265000000                          0   \n",
       "3            2         2          120  2600000000                          0   \n",
       "4            3         3          130  1300000000                          0   \n",
       "...        ...       ...          ...         ...                        ...   \n",
       "6282         2         3           80   960000000                          0   \n",
       "6283         2         3           84  1070000000                          0   \n",
       "6284         2         2          132  1900000000                          0   \n",
       "6285         3         3           83  1260000000                          0   \n",
       "6286         4         3          200  2900000000                          0   \n",
       "\n",
       "      Sertifikat_HS - Hak Sewa  Sertifikat_Lainnya (PPJB,Girik,Adat,dll)  \\\n",
       "0                            0                                         0   \n",
       "1                            0                                         0   \n",
       "2                            0                                         0   \n",
       "3                            0                                         0   \n",
       "4                            0                                         0   \n",
       "...                        ...                                       ...   \n",
       "6282                         0                                         0   \n",
       "6283                         0                                         0   \n",
       "6284                         0                                         1   \n",
       "6285                         0                                         0   \n",
       "6286                         0                                         0   \n",
       "\n",
       "      Sertifikat_PPJB  Sertifikat_SHM - Sertifikat Hak Milik  \\\n",
       "0                   0                                      1   \n",
       "1                   0                                      1   \n",
       "2                   0                                      0   \n",
       "3                   0                                      1   \n",
       "4                   0                                      1   \n",
       "...               ...                                    ...   \n",
       "6282                0                                      1   \n",
       "6283                0                                      1   \n",
       "6284                0                                      0   \n",
       "6285                0                                      1   \n",
       "6286                0                                      1   \n",
       "\n",
       "      Tipe.Properti_Rumah  Kota_Jakarta Barat  Kota_Jakarta Pusat  \\\n",
       "0                       1                   0                   0   \n",
       "1                       0                   0                   0   \n",
       "2                       0                   0                   0   \n",
       "3                       1                   0                   1   \n",
       "4                       1                   0                   0   \n",
       "...                   ...                 ...                 ...   \n",
       "6282                    1                   0                   0   \n",
       "6283                    1                   0                   0   \n",
       "6284                    0                   0                   0   \n",
       "6285                    1                   0                   0   \n",
       "6286                    1                   0                   0   \n",
       "\n",
       "      Kota_Jakarta Selatan  Kota_Jakarta Timur  Kota_Jakarta Utara  \\\n",
       "0                        0                   0                   1   \n",
       "1                        1                   0                   0   \n",
       "2                        0                   1                   0   \n",
       "3                        0                   0                   0   \n",
       "4                        0                   0                   0   \n",
       "...                    ...                 ...                 ...   \n",
       "6282                     0                   1                   0   \n",
       "6283                     0                   0                   0   \n",
       "6284                     0                   0                   1   \n",
       "6285                     0                   0                   0   \n",
       "6286                     1                   0                   0   \n",
       "\n",
       "      Kota_Tangerang Selatan  \n",
       "0                          0  \n",
       "1                          0  \n",
       "2                          0  \n",
       "3                          0  \n",
       "4                          0  \n",
       "...                      ...  \n",
       "6282                       0  \n",
       "6283                       0  \n",
       "6284                       0  \n",
       "6285                       0  \n",
       "6286                       0  \n",
       "\n",
       "[6276 rows x 16 columns]"
      ]
     },
     "execution_count": 147,
     "metadata": {},
     "output_type": "execute_result"
    }
   ],
   "source": [
    "# Object nama kolom kategori\n",
    "cat_dummy = properti.select_dtypes('category').columns\n",
    "\n",
    "# dummy encoding\n",
    "properti_enc = pd.get_dummies(data = properti,\n",
    "                             columns = cat_dummy,\n",
    "                             drop_first = True,\n",
    "                             dtype = 'int64')\n",
    "\n",
    "# melihat hasil encoding\n",
    "properti_enc"
   ]
  },
  {
   "cell_type": "markdown",
   "metadata": {},
   "source": [
    "### 2. Membuat Model Multiple Linear Regression"
   ]
  },
  {
   "cell_type": "code",
   "execution_count": 148,
   "metadata": {
    "execution": {
     "iopub.execute_input": "2024-01-08T04:24:54.535187Z",
     "iopub.status.busy": "2024-01-08T04:24:54.534190Z",
     "iopub.status.idle": "2024-01-08T04:24:54.591393Z",
     "shell.execute_reply": "2024-01-08T04:24:54.590387Z",
     "shell.execute_reply.started": "2024-01-08T04:24:54.535187Z"
    },
    "scrolled": true
   },
   "outputs": [
    {
     "data": {
      "text/html": [
       "<table class=\"simpletable\">\n",
       "<caption>OLS Regression Results</caption>\n",
       "<tr>\n",
       "  <th>Dep. Variable:</th>          <td>Price</td>      <th>  R-squared:         </th>  <td>   0.691</td>  \n",
       "</tr>\n",
       "<tr>\n",
       "  <th>Model:</th>                   <td>OLS</td>       <th>  Adj. R-squared:    </th>  <td>   0.690</td>  \n",
       "</tr>\n",
       "<tr>\n",
       "  <th>Method:</th>             <td>Least Squares</td>  <th>  F-statistic:       </th>  <td>   934.1</td>  \n",
       "</tr>\n",
       "<tr>\n",
       "  <th>Date:</th>             <td>Mon, 08 Jan 2024</td> <th>  Prob (F-statistic):</th>   <td>  0.00</td>   \n",
       "</tr>\n",
       "<tr>\n",
       "  <th>Time:</th>                 <td>11:24:54</td>     <th>  Log-Likelihood:    </th> <td>-1.3669e+05</td>\n",
       "</tr>\n",
       "<tr>\n",
       "  <th>No. Observations:</th>      <td>  6276</td>      <th>  AIC:               </th>  <td>2.734e+05</td> \n",
       "</tr>\n",
       "<tr>\n",
       "  <th>Df Residuals:</th>          <td>  6260</td>      <th>  BIC:               </th>  <td>2.735e+05</td> \n",
       "</tr>\n",
       "<tr>\n",
       "  <th>Df Model:</th>              <td>    15</td>      <th>                     </th>      <td> </td>     \n",
       "</tr>\n",
       "<tr>\n",
       "  <th>Covariance Type:</th>      <td>nonrobust</td>    <th>                     </th>      <td> </td>     \n",
       "</tr>\n",
       "</table>\n",
       "<table class=\"simpletable\">\n",
       "<tr>\n",
       "                      <td></td>                        <th>coef</th>     <th>std err</th>      <th>t</th>      <th>P>|t|</th>  <th>[0.025</th>    <th>0.975]</th>  \n",
       "</tr>\n",
       "<tr>\n",
       "  <th>const</th>                                    <td>-6.805e+07</td> <td> 4.05e+07</td> <td>   -1.680</td> <td> 0.093</td> <td>-1.47e+08</td> <td> 1.14e+07</td>\n",
       "</tr>\n",
       "<tr>\n",
       "  <th>K..Mandi</th>                                 <td> 8.037e+07</td> <td>  1.8e+07</td> <td>    4.457</td> <td> 0.000</td> <td>  4.5e+07</td> <td> 1.16e+08</td>\n",
       "</tr>\n",
       "<tr>\n",
       "  <th>K..Tidur</th>                                 <td>  8.87e+07</td> <td> 1.67e+07</td> <td>    5.313</td> <td> 0.000</td> <td>  5.6e+07</td> <td> 1.21e+08</td>\n",
       "</tr>\n",
       "<tr>\n",
       "  <th>L..Bangunan</th>                              <td> 1.417e+07</td> <td> 2.28e+05</td> <td>   62.107</td> <td> 0.000</td> <td> 1.37e+07</td> <td> 1.46e+07</td>\n",
       "</tr>\n",
       "<tr>\n",
       "  <th>Sertifikat_HP - Hak Pakai</th>                <td>-1.917e+08</td> <td> 1.23e+08</td> <td>   -1.564</td> <td> 0.118</td> <td>-4.32e+08</td> <td> 4.86e+07</td>\n",
       "</tr>\n",
       "<tr>\n",
       "  <th>Sertifikat_HS - Hak Sewa</th>                 <td>-2.992e+08</td> <td> 3.13e+08</td> <td>   -0.956</td> <td> 0.339</td> <td>-9.13e+08</td> <td> 3.15e+08</td>\n",
       "</tr>\n",
       "<tr>\n",
       "  <th>Sertifikat_Lainnya (PPJB,Girik,Adat,dll)</th> <td> 2.888e+07</td> <td> 3.11e+07</td> <td>    0.929</td> <td> 0.353</td> <td> -3.2e+07</td> <td> 8.98e+07</td>\n",
       "</tr>\n",
       "<tr>\n",
       "  <th>Sertifikat_PPJB</th>                          <td>-1.797e+08</td> <td> 4.94e+08</td> <td>   -0.364</td> <td> 0.716</td> <td>-1.15e+09</td> <td> 7.89e+08</td>\n",
       "</tr>\n",
       "<tr>\n",
       "  <th>Sertifikat_SHM - Sertifikat Hak Milik</th>    <td>-7.895e+07</td> <td> 3.02e+07</td> <td>   -2.616</td> <td> 0.009</td> <td>-1.38e+08</td> <td>-1.98e+07</td>\n",
       "</tr>\n",
       "<tr>\n",
       "  <th>Tipe.Properti_Rumah</th>                      <td>-3.403e+08</td> <td> 3.01e+07</td> <td>  -11.307</td> <td> 0.000</td> <td>-3.99e+08</td> <td>-2.81e+08</td>\n",
       "</tr>\n",
       "<tr>\n",
       "  <th>Kota_Jakarta Barat</th>                       <td> 3.911e+08</td> <td> 3.24e+07</td> <td>   12.072</td> <td> 0.000</td> <td> 3.28e+08</td> <td> 4.55e+08</td>\n",
       "</tr>\n",
       "<tr>\n",
       "  <th>Kota_Jakarta Pusat</th>                       <td> 5.054e+08</td> <td> 3.78e+07</td> <td>   13.385</td> <td> 0.000</td> <td> 4.31e+08</td> <td> 5.79e+08</td>\n",
       "</tr>\n",
       "<tr>\n",
       "  <th>Kota_Jakarta Selatan</th>                     <td> 7.807e+08</td> <td> 3.74e+07</td> <td>   20.891</td> <td> 0.000</td> <td> 7.07e+08</td> <td> 8.54e+08</td>\n",
       "</tr>\n",
       "<tr>\n",
       "  <th>Kota_Jakarta Timur</th>                       <td>-8.513e+06</td> <td> 3.05e+07</td> <td>   -0.279</td> <td> 0.780</td> <td>-6.83e+07</td> <td> 5.13e+07</td>\n",
       "</tr>\n",
       "<tr>\n",
       "  <th>Kota_Jakarta Utara</th>                       <td>  3.45e+08</td> <td> 3.72e+07</td> <td>    9.287</td> <td> 0.000</td> <td> 2.72e+08</td> <td> 4.18e+08</td>\n",
       "</tr>\n",
       "<tr>\n",
       "  <th>Kota_Tangerang Selatan</th>                   <td> 2.589e+08</td> <td> 3.21e+07</td> <td>    8.061</td> <td> 0.000</td> <td> 1.96e+08</td> <td> 3.22e+08</td>\n",
       "</tr>\n",
       "</table>\n",
       "<table class=\"simpletable\">\n",
       "<tr>\n",
       "  <th>Omnibus:</th>       <td>1458.887</td> <th>  Durbin-Watson:     </th> <td>   2.052</td>\n",
       "</tr>\n",
       "<tr>\n",
       "  <th>Prob(Omnibus):</th>  <td> 0.000</td>  <th>  Jarque-Bera (JB):  </th> <td>5120.034</td>\n",
       "</tr>\n",
       "<tr>\n",
       "  <th>Skew:</th>           <td> 1.143</td>  <th>  Prob(JB):          </th> <td>    0.00</td>\n",
       "</tr>\n",
       "<tr>\n",
       "  <th>Kurtosis:</th>       <td> 6.789</td>  <th>  Cond. No.          </th> <td>6.40e+03</td>\n",
       "</tr>\n",
       "</table><br/><br/>Notes:<br/>[1] Standard Errors assume that the covariance matrix of the errors is correctly specified.<br/>[2] The condition number is large, 6.4e+03. This might indicate that there are<br/>strong multicollinearity or other numerical problems."
      ],
      "text/latex": [
       "\\begin{center}\n",
       "\\begin{tabular}{lclc}\n",
       "\\toprule\n",
       "\\textbf{Dep. Variable:}                            &      Price       & \\textbf{  R-squared:         } &      0.691   \\\\\n",
       "\\textbf{Model:}                                    &       OLS        & \\textbf{  Adj. R-squared:    } &      0.690   \\\\\n",
       "\\textbf{Method:}                                   &  Least Squares   & \\textbf{  F-statistic:       } &      934.1   \\\\\n",
       "\\textbf{Date:}                                     & Mon, 08 Jan 2024 & \\textbf{  Prob (F-statistic):} &      0.00    \\\\\n",
       "\\textbf{Time:}                                     &     11:24:54     & \\textbf{  Log-Likelihood:    } & -1.3669e+05  \\\\\n",
       "\\textbf{No. Observations:}                         &        6276      & \\textbf{  AIC:               } &  2.734e+05   \\\\\n",
       "\\textbf{Df Residuals:}                             &        6260      & \\textbf{  BIC:               } &  2.735e+05   \\\\\n",
       "\\textbf{Df Model:}                                 &          15      & \\textbf{                     } &              \\\\\n",
       "\\textbf{Covariance Type:}                          &    nonrobust     & \\textbf{                     } &              \\\\\n",
       "\\bottomrule\n",
       "\\end{tabular}\n",
       "\\begin{tabular}{lcccccc}\n",
       "                                                   & \\textbf{coef} & \\textbf{std err} & \\textbf{t} & \\textbf{P$> |$t$|$} & \\textbf{[0.025} & \\textbf{0.975]}  \\\\\n",
       "\\midrule\n",
       "\\textbf{const}                                     &   -6.805e+07  &     4.05e+07     &    -1.680  &         0.093        &    -1.47e+08    &     1.14e+07     \\\\\n",
       "\\textbf{K..Mandi}                                  &    8.037e+07  &      1.8e+07     &     4.457  &         0.000        &      4.5e+07    &     1.16e+08     \\\\\n",
       "\\textbf{K..Tidur}                                  &     8.87e+07  &     1.67e+07     &     5.313  &         0.000        &      5.6e+07    &     1.21e+08     \\\\\n",
       "\\textbf{L..Bangunan}                               &    1.417e+07  &     2.28e+05     &    62.107  &         0.000        &     1.37e+07    &     1.46e+07     \\\\\n",
       "\\textbf{Sertifikat\\_HP - Hak Pakai}                &   -1.917e+08  &     1.23e+08     &    -1.564  &         0.118        &    -4.32e+08    &     4.86e+07     \\\\\n",
       "\\textbf{Sertifikat\\_HS - Hak Sewa}                 &   -2.992e+08  &     3.13e+08     &    -0.956  &         0.339        &    -9.13e+08    &     3.15e+08     \\\\\n",
       "\\textbf{Sertifikat\\_Lainnya (PPJB,Girik,Adat,dll)} &    2.888e+07  &     3.11e+07     &     0.929  &         0.353        &     -3.2e+07    &     8.98e+07     \\\\\n",
       "\\textbf{Sertifikat\\_PPJB}                          &   -1.797e+08  &     4.94e+08     &    -0.364  &         0.716        &    -1.15e+09    &     7.89e+08     \\\\\n",
       "\\textbf{Sertifikat\\_SHM - Sertifikat Hak Milik}    &   -7.895e+07  &     3.02e+07     &    -2.616  &         0.009        &    -1.38e+08    &    -1.98e+07     \\\\\n",
       "\\textbf{Tipe.Properti\\_Rumah}                      &   -3.403e+08  &     3.01e+07     &   -11.307  &         0.000        &    -3.99e+08    &    -2.81e+08     \\\\\n",
       "\\textbf{Kota\\_Jakarta Barat}                       &    3.911e+08  &     3.24e+07     &    12.072  &         0.000        &     3.28e+08    &     4.55e+08     \\\\\n",
       "\\textbf{Kota\\_Jakarta Pusat}                       &    5.054e+08  &     3.78e+07     &    13.385  &         0.000        &     4.31e+08    &     5.79e+08     \\\\\n",
       "\\textbf{Kota\\_Jakarta Selatan}                     &    7.807e+08  &     3.74e+07     &    20.891  &         0.000        &     7.07e+08    &     8.54e+08     \\\\\n",
       "\\textbf{Kota\\_Jakarta Timur}                       &   -8.513e+06  &     3.05e+07     &    -0.279  &         0.780        &    -6.83e+07    &     5.13e+07     \\\\\n",
       "\\textbf{Kota\\_Jakarta Utara}                       &     3.45e+08  &     3.72e+07     &     9.287  &         0.000        &     2.72e+08    &     4.18e+08     \\\\\n",
       "\\textbf{Kota\\_Tangerang Selatan}                   &    2.589e+08  &     3.21e+07     &     8.061  &         0.000        &     1.96e+08    &     3.22e+08     \\\\\n",
       "\\bottomrule\n",
       "\\end{tabular}\n",
       "\\begin{tabular}{lclc}\n",
       "\\textbf{Omnibus:}       & 1458.887 & \\textbf{  Durbin-Watson:     } &    2.052  \\\\\n",
       "\\textbf{Prob(Omnibus):} &   0.000  & \\textbf{  Jarque-Bera (JB):  } & 5120.034  \\\\\n",
       "\\textbf{Skew:}          &   1.143  & \\textbf{  Prob(JB):          } &     0.00  \\\\\n",
       "\\textbf{Kurtosis:}      &   6.789  & \\textbf{  Cond. No.          } & 6.40e+03  \\\\\n",
       "\\bottomrule\n",
       "\\end{tabular}\n",
       "%\\caption{OLS Regression Results}\n",
       "\\end{center}\n",
       "\n",
       "Notes: \\newline\n",
       " [1] Standard Errors assume that the covariance matrix of the errors is correctly specified. \\newline\n",
       " [2] The condition number is large, 6.4e+03. This might indicate that there are \\newline\n",
       " strong multicollinearity or other numerical problems."
      ],
      "text/plain": [
       "<class 'statsmodels.iolib.summary.Summary'>\n",
       "\"\"\"\n",
       "                            OLS Regression Results                            \n",
       "==============================================================================\n",
       "Dep. Variable:                  Price   R-squared:                       0.691\n",
       "Model:                            OLS   Adj. R-squared:                  0.690\n",
       "Method:                 Least Squares   F-statistic:                     934.1\n",
       "Date:                Mon, 08 Jan 2024   Prob (F-statistic):               0.00\n",
       "Time:                        11:24:54   Log-Likelihood:            -1.3669e+05\n",
       "No. Observations:                6276   AIC:                         2.734e+05\n",
       "Df Residuals:                    6260   BIC:                         2.735e+05\n",
       "Df Model:                          15                                         \n",
       "Covariance Type:            nonrobust                                         \n",
       "============================================================================================================\n",
       "                                               coef    std err          t      P>|t|      [0.025      0.975]\n",
       "------------------------------------------------------------------------------------------------------------\n",
       "const                                    -6.805e+07   4.05e+07     -1.680      0.093   -1.47e+08    1.14e+07\n",
       "K..Mandi                                  8.037e+07    1.8e+07      4.457      0.000     4.5e+07    1.16e+08\n",
       "K..Tidur                                   8.87e+07   1.67e+07      5.313      0.000     5.6e+07    1.21e+08\n",
       "L..Bangunan                               1.417e+07   2.28e+05     62.107      0.000    1.37e+07    1.46e+07\n",
       "Sertifikat_HP - Hak Pakai                -1.917e+08   1.23e+08     -1.564      0.118   -4.32e+08    4.86e+07\n",
       "Sertifikat_HS - Hak Sewa                 -2.992e+08   3.13e+08     -0.956      0.339   -9.13e+08    3.15e+08\n",
       "Sertifikat_Lainnya (PPJB,Girik,Adat,dll)  2.888e+07   3.11e+07      0.929      0.353    -3.2e+07    8.98e+07\n",
       "Sertifikat_PPJB                          -1.797e+08   4.94e+08     -0.364      0.716   -1.15e+09    7.89e+08\n",
       "Sertifikat_SHM - Sertifikat Hak Milik    -7.895e+07   3.02e+07     -2.616      0.009   -1.38e+08   -1.98e+07\n",
       "Tipe.Properti_Rumah                      -3.403e+08   3.01e+07    -11.307      0.000   -3.99e+08   -2.81e+08\n",
       "Kota_Jakarta Barat                        3.911e+08   3.24e+07     12.072      0.000    3.28e+08    4.55e+08\n",
       "Kota_Jakarta Pusat                        5.054e+08   3.78e+07     13.385      0.000    4.31e+08    5.79e+08\n",
       "Kota_Jakarta Selatan                      7.807e+08   3.74e+07     20.891      0.000    7.07e+08    8.54e+08\n",
       "Kota_Jakarta Timur                       -8.513e+06   3.05e+07     -0.279      0.780   -6.83e+07    5.13e+07\n",
       "Kota_Jakarta Utara                         3.45e+08   3.72e+07      9.287      0.000    2.72e+08    4.18e+08\n",
       "Kota_Tangerang Selatan                    2.589e+08   3.21e+07      8.061      0.000    1.96e+08    3.22e+08\n",
       "==============================================================================\n",
       "Omnibus:                     1458.887   Durbin-Watson:                   2.052\n",
       "Prob(Omnibus):                  0.000   Jarque-Bera (JB):             5120.034\n",
       "Skew:                           1.143   Prob(JB):                         0.00\n",
       "Kurtosis:                       6.789   Cond. No.                     6.40e+03\n",
       "==============================================================================\n",
       "\n",
       "Notes:\n",
       "[1] Standard Errors assume that the covariance matrix of the errors is correctly specified.\n",
       "[2] The condition number is large, 6.4e+03. This might indicate that there are\n",
       "strong multicollinearity or other numerical problems.\n",
       "\"\"\""
      ]
     },
     "execution_count": 148,
     "metadata": {},
     "output_type": "execute_result"
    }
   ],
   "source": [
    "# membuat objek prediktor dan target\n",
    "Y = properti_enc['Price']\n",
    "X = sm.add_constant(properti_enc.drop(columns='Price'))\n",
    "\n",
    "# Membuat model\n",
    "lm_multiple = sm.OLS(Y, X).fit()\n",
    "\n",
    "# Melihat summary\n",
    "lm_multiple.summary()"
   ]
  },
  {
   "cell_type": "markdown",
   "metadata": {},
   "source": [
    "### 3. Interpretasi Model Multiple Linear Regression\n",
    "\n",
    "**[Contoh Interpretasi Variabel Kategorik]**\n",
    "\n",
    "- Terdapat category golongan darah A, AB, B, dan O\n",
    "- Cara menginterpretasikan model apabila memiliki lebih dari 2 kategori :\n",
    "\n",
    "> y = b0 + 1.96* gol.darahAB + 0.97* gol.darahB + 1.39* gol.darahO\n",
    "\n",
    "     - slope gol.darahAB = 1.96, nilai y ketika golongan darah nya adalah AB sebesar **b0 + 1.96**\n",
    "     - slope gol.darahB = 0.97, nilai y ketika golongan darah nya adalah B sebesar **b0 + 0.97**\n",
    "     - slope gol.darahO = 1.39, nilai y ketika golongan darah nya adalah O sebesar **b0 + 1.39**\n",
    "     - nilai y ketika golongan darah nya adalah A sebesar **b0 saja** (b0 + est. gol.darahAB * 0 + est. gol.darahB * 0 + est. gol.darahO * 0)\n",
    "     - Golongan darah AB meningkatkan nilai y sebesar 1.96 poin dibandingkan golongan darah A (Basis)"
   ]
  },
  {
   "cell_type": "code",
   "execution_count": 144,
   "metadata": {
    "execution": {
     "iopub.execute_input": "2024-01-08T04:19:30.131833Z",
     "iopub.status.busy": "2024-01-08T04:19:30.131833Z",
     "iopub.status.idle": "2024-01-08T04:19:30.146837Z",
     "shell.execute_reply": "2024-01-08T04:19:30.145832Z",
     "shell.execute_reply.started": "2024-01-08T04:19:30.131833Z"
    }
   },
   "outputs": [
    {
     "data": {
      "text/plain": [
       "const                                       -68,046,193.387\n",
       "K..Mandi                                     80,369,440.910\n",
       "K..Tidur                                     88,704,257.583\n",
       "L..Bangunan                                  14,172,990.715\n",
       "Sertifikat_HP - Hak Pakai                  -191,668,410.368\n",
       "Sertifikat_HS - Hak Sewa                   -299,168,643.727\n",
       "Sertifikat_Lainnya (PPJB,Girik,Adat,dll)     28,879,971.583\n",
       "Sertifikat_PPJB                            -179,723,373.918\n",
       "Sertifikat_SHM - Sertifikat Hak Milik       -78,951,929.200\n",
       "Tipe.Properti_Rumah                        -340,252,862.068\n",
       "Kota_Jakarta Barat                          391,095,409.104\n",
       "Kota_Jakarta Pusat                          505,410,922.104\n",
       "Kota_Jakarta Selatan                        780,736,333.606\n",
       "Kota_Jakarta Timur                           -8,512,539.802\n",
       "Kota_Jakarta Utara                          345,049,019.597\n",
       "Kota_Tangerang Selatan                      258,934,983.035\n",
       "dtype: float64"
      ]
     },
     "execution_count": 144,
     "metadata": {},
     "output_type": "execute_result"
    }
   ],
   "source": [
    "lm_multiple.params"
   ]
  },
  {
   "cell_type": "markdown",
   "metadata": {},
   "source": [
    "📝 **Interpretasi model:**\n",
    "\n",
    "**1. Interpretasi masing-masing variabel** \n",
    "\n",
    "contoh:\n",
    "   - `K..Tidur`: \n",
    "   - `L..Bangunan`: \n",
    "   - `Sertifikat_HS - Hak Milik`: \n",
    "   - `Kota_Jakarta Selatan`: \n",
    "   \n",
    "**2. Signifikansi prediktor**\n",
    "   - variabel signifikan (p-value < 0.05) : \n",
    "   - variabel tidak signifikan (p-value < 0.05) : \n",
    "\n",
    "note: untuk prediktor kategorik, dianggap signifikan mempengaruhi target jika salah satu kategori signifikan"
   ]
  },
  {
   "cell_type": "markdown",
   "metadata": {},
   "source": [
    "### 4. Prediksi\n",
    "\n",
    "Setelah model terbentuk, model tidak dapat langsung digunakan sebelum melewati tahap evaluasi.\n",
    "\n",
    "Tahapan evaluasi dapat dilakukan dengan melakukan **prediksi** terhadap data yang ada. Prediksi model dapat dilakukan dengan memanfaatkan fungsi `predict()`, berikut syntax yang dapat digunakan:\n",
    "\n",
    "> `nama_model.predict(data_prediktor)`"
   ]
  },
  {
   "cell_type": "code",
   "execution_count": 141,
   "metadata": {
    "execution": {
     "iopub.execute_input": "2024-01-08T04:04:29.300057Z",
     "iopub.status.busy": "2024-01-08T04:04:29.300057Z",
     "iopub.status.idle": "2024-01-08T04:04:29.319061Z",
     "shell.execute_reply": "2024-01-08T04:04:29.318058Z",
     "shell.execute_reply.started": "2024-01-08T04:04:29.300057Z"
    }
   },
   "outputs": [
    {
     "data": {
      "text/html": [
       "<div>\n",
       "<style scoped>\n",
       "    .dataframe tbody tr th:only-of-type {\n",
       "        vertical-align: middle;\n",
       "    }\n",
       "\n",
       "    .dataframe tbody tr th {\n",
       "        vertical-align: top;\n",
       "    }\n",
       "\n",
       "    .dataframe thead th {\n",
       "        text-align: right;\n",
       "    }\n",
       "</style>\n",
       "<table border=\"1\" class=\"dataframe\">\n",
       "  <thead>\n",
       "    <tr style=\"text-align: right;\">\n",
       "      <th></th>\n",
       "      <th>K..Mandi</th>\n",
       "      <th>K..Tidur</th>\n",
       "      <th>L..Bangunan</th>\n",
       "      <th>Price</th>\n",
       "      <th>Sertifikat_HGB - Hak Guna Bangunan</th>\n",
       "      <th>Sertifikat_HP - Hak Pakai</th>\n",
       "      <th>Sertifikat_HS - Hak Sewa</th>\n",
       "      <th>Sertifikat_Lainnya (PPJB,Girik,Adat,dll)</th>\n",
       "      <th>Sertifikat_PPJB</th>\n",
       "      <th>Sertifikat_SHM - Sertifikat Hak Milik</th>\n",
       "      <th>Tipe.Properti_Apartemen</th>\n",
       "      <th>Tipe.Properti_Rumah</th>\n",
       "      <th>Kota_Depok</th>\n",
       "      <th>Kota_Jakarta Barat</th>\n",
       "      <th>Kota_Jakarta Pusat</th>\n",
       "      <th>Kota_Jakarta Selatan</th>\n",
       "      <th>Kota_Jakarta Timur</th>\n",
       "      <th>Kota_Jakarta Utara</th>\n",
       "      <th>Kota_Tangerang Selatan</th>\n",
       "      <th>Prediksi</th>\n",
       "    </tr>\n",
       "  </thead>\n",
       "  <tbody>\n",
       "    <tr>\n",
       "      <th>0</th>\n",
       "      <td>3</td>\n",
       "      <td>4</td>\n",
       "      <td>294</td>\n",
       "      <td>3500000000</td>\n",
       "      <td>0</td>\n",
       "      <td>0</td>\n",
       "      <td>0</td>\n",
       "      <td>0</td>\n",
       "      <td>0</td>\n",
       "      <td>1</td>\n",
       "      <td>0</td>\n",
       "      <td>1</td>\n",
       "      <td>0</td>\n",
       "      <td>0</td>\n",
       "      <td>0</td>\n",
       "      <td>0</td>\n",
       "      <td>0</td>\n",
       "      <td>1</td>\n",
       "      <td>0</td>\n",
       "      <td>4,620,582,658.209</td>\n",
       "    </tr>\n",
       "    <tr>\n",
       "      <th>1</th>\n",
       "      <td>3</td>\n",
       "      <td>3</td>\n",
       "      <td>78</td>\n",
       "      <td>2500000000</td>\n",
       "      <td>0</td>\n",
       "      <td>0</td>\n",
       "      <td>0</td>\n",
       "      <td>0</td>\n",
       "      <td>0</td>\n",
       "      <td>1</td>\n",
       "      <td>1</td>\n",
       "      <td>0</td>\n",
       "      <td>0</td>\n",
       "      <td>0</td>\n",
       "      <td>0</td>\n",
       "      <td>1</td>\n",
       "      <td>0</td>\n",
       "      <td>0</td>\n",
       "      <td>0</td>\n",
       "      <td>2,246,452,582.268</td>\n",
       "    </tr>\n",
       "    <tr>\n",
       "      <th>2</th>\n",
       "      <td>1</td>\n",
       "      <td>1</td>\n",
       "      <td>33</td>\n",
       "      <td>265000000</td>\n",
       "      <td>1</td>\n",
       "      <td>0</td>\n",
       "      <td>0</td>\n",
       "      <td>0</td>\n",
       "      <td>0</td>\n",
       "      <td>0</td>\n",
       "      <td>1</td>\n",
       "      <td>0</td>\n",
       "      <td>0</td>\n",
       "      <td>0</td>\n",
       "      <td>0</td>\n",
       "      <td>0</td>\n",
       "      <td>1</td>\n",
       "      <td>0</td>\n",
       "      <td>0</td>\n",
       "      <td>560,223,658.899</td>\n",
       "    </tr>\n",
       "    <tr>\n",
       "      <th>3</th>\n",
       "      <td>2</td>\n",
       "      <td>2</td>\n",
       "      <td>120</td>\n",
       "      <td>2600000000</td>\n",
       "      <td>0</td>\n",
       "      <td>0</td>\n",
       "      <td>0</td>\n",
       "      <td>0</td>\n",
       "      <td>0</td>\n",
       "      <td>1</td>\n",
       "      <td>0</td>\n",
       "      <td>1</td>\n",
       "      <td>0</td>\n",
       "      <td>0</td>\n",
       "      <td>1</td>\n",
       "      <td>0</td>\n",
       "      <td>0</td>\n",
       "      <td>0</td>\n",
       "      <td>0</td>\n",
       "      <td>2,057,066,220.233</td>\n",
       "    </tr>\n",
       "    <tr>\n",
       "      <th>4</th>\n",
       "      <td>3</td>\n",
       "      <td>3</td>\n",
       "      <td>130</td>\n",
       "      <td>1300000000</td>\n",
       "      <td>0</td>\n",
       "      <td>0</td>\n",
       "      <td>0</td>\n",
       "      <td>0</td>\n",
       "      <td>0</td>\n",
       "      <td>1</td>\n",
       "      <td>0</td>\n",
       "      <td>1</td>\n",
       "      <td>1</td>\n",
       "      <td>0</td>\n",
       "      <td>0</td>\n",
       "      <td>0</td>\n",
       "      <td>0</td>\n",
       "      <td>0</td>\n",
       "      <td>0</td>\n",
       "      <td>1,862,458,903.773</td>\n",
       "    </tr>\n",
       "  </tbody>\n",
       "</table>\n",
       "</div>"
      ],
      "text/plain": [
       "   K..Mandi  K..Tidur  L..Bangunan       Price  \\\n",
       "0         3         4          294  3500000000   \n",
       "1         3         3           78  2500000000   \n",
       "2         1         1           33   265000000   \n",
       "3         2         2          120  2600000000   \n",
       "4         3         3          130  1300000000   \n",
       "\n",
       "   Sertifikat_HGB - Hak Guna Bangunan  Sertifikat_HP - Hak Pakai  \\\n",
       "0                                   0                          0   \n",
       "1                                   0                          0   \n",
       "2                                   1                          0   \n",
       "3                                   0                          0   \n",
       "4                                   0                          0   \n",
       "\n",
       "   Sertifikat_HS - Hak Sewa  Sertifikat_Lainnya (PPJB,Girik,Adat,dll)  \\\n",
       "0                         0                                         0   \n",
       "1                         0                                         0   \n",
       "2                         0                                         0   \n",
       "3                         0                                         0   \n",
       "4                         0                                         0   \n",
       "\n",
       "   Sertifikat_PPJB  Sertifikat_SHM - Sertifikat Hak Milik  \\\n",
       "0                0                                      1   \n",
       "1                0                                      1   \n",
       "2                0                                      0   \n",
       "3                0                                      1   \n",
       "4                0                                      1   \n",
       "\n",
       "   Tipe.Properti_Apartemen  Tipe.Properti_Rumah  Kota_Depok  \\\n",
       "0                        0                    1           0   \n",
       "1                        1                    0           0   \n",
       "2                        1                    0           0   \n",
       "3                        0                    1           0   \n",
       "4                        0                    1           1   \n",
       "\n",
       "   Kota_Jakarta Barat  Kota_Jakarta Pusat  Kota_Jakarta Selatan  \\\n",
       "0                   0                   0                     0   \n",
       "1                   0                   0                     1   \n",
       "2                   0                   0                     0   \n",
       "3                   0                   1                     0   \n",
       "4                   0                   0                     0   \n",
       "\n",
       "   Kota_Jakarta Timur  Kota_Jakarta Utara  Kota_Tangerang Selatan  \\\n",
       "0                   0                   1                       0   \n",
       "1                   0                   0                       0   \n",
       "2                   1                   0                       0   \n",
       "3                   0                   0                       0   \n",
       "4                   0                   0                       0   \n",
       "\n",
       "           Prediksi  \n",
       "0 4,620,582,658.209  \n",
       "1 2,246,452,582.268  \n",
       "2   560,223,658.899  \n",
       "3 2,057,066,220.233  \n",
       "4 1,862,458,903.773  "
      ]
     },
     "execution_count": 141,
     "metadata": {},
     "output_type": "execute_result"
    }
   ],
   "source": [
    "# membuat kolom prediksi yang berisi hasil dari prediksi model\n",
    "properti_enc['Prediksi'] = lm_multiple.predict(X)\n",
    "properti_enc.head()"
   ]
  },
  {
   "cell_type": "markdown",
   "metadata": {},
   "source": [
    "### 5. Goodness of Fit: R-Squared vs. Adj. R-Squared"
   ]
  },
  {
   "cell_type": "markdown",
   "metadata": {},
   "source": [
    "Perbedaan R-Squared dan Adj. R-Squared:\n",
    "\n",
    "- **R-Squared**: Seberapa baik model menjelaskan data, dengan mengukur seberapa besar informasi (variansi) dari target dapat dijelaskan oleh prediktor. Sehingga, jelas ketika **prediktor bertambah**, informasi (variansi) yang dirangkum semakin banyak atau dengan kata lain jelas nilai **R-Squared akan meningkat**.\n",
    "\n",
    "    > Syntax: `nama_model.rsquared`\n",
    "\n",
    "- **Adj. R- Squared**: tidak demikian pada adj. r-squred, karena disesuaikan dengan jumlah prediktor yang digunakan. Adj. r-squared akan meningkat hanya jika prediktor baru yang ditambahkan mengarah pada hasil prediksi yang lebih baik (prediktor signifikan mempengaruhi target)\n",
    "\n",
    "    > Syntax: `nama_model.rsquared_adj`\n",
    "   \n",
    "Mari kita bandingan nilai R-Squared dan Adj. R-Squared antara `lm_outlier` dengan `lm_multiple`!"
   ]
  },
  {
   "cell_type": "code",
   "execution_count": 104,
   "metadata": {
    "execution": {
     "iopub.execute_input": "2024-01-08T03:33:52.908357Z",
     "iopub.status.busy": "2024-01-08T03:33:52.908357Z",
     "iopub.status.idle": "2024-01-08T03:33:52.929367Z",
     "shell.execute_reply": "2024-01-08T03:33:52.928362Z",
     "shell.execute_reply.started": "2024-01-08T03:33:52.908357Z"
    }
   },
   "outputs": [
    {
     "name": "stdout",
     "output_type": "stream",
     "text": [
      "R-Squared Simple Linear Regression : 0.6275163087637301\n",
      "R-Squared Simple Linear Regression : 0.6911833941775697\n"
     ]
    }
   ],
   "source": [
    "# R-Squared\n",
    "print('R-Squared Simple Linear Regression :', (lm_outlier.rsquared))\n",
    "print('R-Squared Simple Linear Regression :', (lm_multiple.rsquared))"
   ]
  },
  {
   "cell_type": "code",
   "execution_count": 105,
   "metadata": {
    "execution": {
     "iopub.execute_input": "2024-01-08T03:33:54.611868Z",
     "iopub.status.busy": "2024-01-08T03:33:54.610868Z",
     "iopub.status.idle": "2024-01-08T03:33:54.624874Z",
     "shell.execute_reply": "2024-01-08T03:33:54.622993Z",
     "shell.execute_reply.started": "2024-01-08T03:33:54.611868Z"
    }
   },
   "outputs": [
    {
     "name": "stdout",
     "output_type": "stream",
     "text": [
      "Adj R-Squared Simple Linear Regression : 0.6274569393516746\n",
      "Adj R-Squared Simple Linear Regression : 0.6904434182850239\n"
     ]
    }
   ],
   "source": [
    "# Adj R-Squared\n",
    "print('Adj R-Squared Simple Linear Regression :', (lm_outlier.rsquared_adj))\n",
    "print('Adj R-Squared Simple Linear Regression :', (lm_multiple.rsquared_adj))"
   ]
  },
  {
   "cell_type": "markdown",
   "metadata": {},
   "source": [
    "📝 **Kesimpulan**: Berdasarkan nilai R-Squared dan Adj R-Squared, maka model yang terbaik adalah model `lm_multiple`"
   ]
  },
  {
   "cell_type": "markdown",
   "metadata": {},
   "source": [
    "### Model Evaluation : Nilai Error\n",
    "\n",
    "Untuk melihat apakah prediksi yang dibuat menghasilkan nilai error terkecil\n",
    "  \n",
    "**Error/residual adalah selisih antara hasil prediksi dengan nilai aktual.**\n",
    "\n",
    "$$\n",
    "Error/residual = actual - prediction = y - \\hat y\n",
    "$$\n",
    "\n",
    "Terdapat beberapa nilai error yang ada :\n",
    "\n",
    "1. MAE (Mean Absolute Error): Memperlakukan error dengan lebih ringan. **Formula:**\n",
    "   $$\n",
    "   MAE = \\frac{1}{N} \\sum_{i=1}^{N} \\left | y_{i} - \\hat{y} \\right |\n",
    "   $$\n",
    "\n",
    "1. RMSE (Root Mean Square Error): Memperlakukan error dengan lebih sensitif. Ketika nilai error besar, maka nilai RMSE akan semakin besar dan sebaliknya. **Formula:**\n",
    "   $$\n",
    "   RMSE = \\sqrt{\\frac{1}{N} \\sum_{i=1}^{N} (y_{i} - \\hat{y})^{2}}\n",
    "   $$\n",
    "     \n",
    "1. MAPE (Mean Absolute Percentage Error): Menunjukan seberapa besar penyimpangan error dalam bentuk persentase\n",
    "   $$\n",
    "   MAPE = \\frac{1}{N} \\sum_{i=1}^{N} \\frac {\\left | y_{i} - \\hat{y} \\right |} {y}\n",
    "   $$\n",
    "   \n",
    "RMSE digunakan ketika model yang dibuat memuat observasi outlier. Sedangkan, MAE digunakan ketika model yang dibuat tidak memuat observasi outlier. MAPE adalah metrik yang baik untuk interpretasi karena mudah dipahami."
   ]
  },
  {
   "cell_type": "markdown",
   "metadata": {},
   "source": [
    "**MAE**\n",
    "\n",
    "Fungsi `meanabs(kolom_target, kolom_prediksi)`"
   ]
  },
  {
   "cell_type": "code",
   "execution_count": 108,
   "metadata": {
    "execution": {
     "iopub.execute_input": "2024-01-08T03:38:50.246181Z",
     "iopub.status.busy": "2024-01-08T03:38:50.245171Z",
     "iopub.status.idle": "2024-01-08T03:38:50.260266Z",
     "shell.execute_reply": "2024-01-08T03:38:50.259179Z",
     "shell.execute_reply.started": "2024-01-08T03:38:50.246181Z"
    }
   },
   "outputs": [
    {
     "data": {
      "text/plain": [
       "481478265.53622854"
      ]
     },
     "execution_count": 108,
     "metadata": {},
     "output_type": "execute_result"
    }
   ],
   "source": [
    "# code here\n",
    "from statsmodels.tools.eval_measures import meanabs\n",
    "meanabs(properti_enc['Price'], properti_enc['Prediksi'])"
   ]
  },
  {
   "cell_type": "markdown",
   "metadata": {},
   "source": [
    "**RMSE**\n",
    "\n",
    "Fungsi `rmse(kolom_target, kolom_prediksi)`"
   ]
  },
  {
   "cell_type": "code",
   "execution_count": 109,
   "metadata": {
    "ExecuteTime": {
     "end_time": "2021-12-02T07:32:44.037603Z",
     "start_time": "2021-12-02T07:32:44.024330Z"
    },
    "execution": {
     "iopub.execute_input": "2024-01-08T03:38:58.454881Z",
     "iopub.status.busy": "2024-01-08T03:38:58.453880Z",
     "iopub.status.idle": "2024-01-08T03:38:58.475883Z",
     "shell.execute_reply": "2024-01-08T03:38:58.474877Z",
     "shell.execute_reply.started": "2024-01-08T03:38:58.454881Z"
    }
   },
   "outputs": [
    {
     "data": {
      "text/plain": [
       "696545892.4274079"
      ]
     },
     "execution_count": 109,
     "metadata": {},
     "output_type": "execute_result"
    }
   ],
   "source": [
    "# code here\n",
    "from statsmodels.tools.eval_measures import rmse\n",
    "rmse(properti_enc['Price'], properti_enc['Prediksi'])"
   ]
  },
  {
   "cell_type": "markdown",
   "metadata": {},
   "source": [
    "**MAPE**\n",
    "\n",
    "Fungsi `mean_absolute_percentage_error()`\n",
    "\n",
    "Pada fungsi tersebut nantinya akan kita isi dengan parameter yaitu \n",
    "\n",
    "- `y_true` = Parameter ini akan diisi dengan kolom target\n",
    "- `y_pred` = Parameter ini akan diisi dengan kolom hasil prediksi"
   ]
  },
  {
   "cell_type": "code",
   "execution_count": 110,
   "metadata": {
    "execution": {
     "iopub.execute_input": "2024-01-08T03:39:25.854202Z",
     "iopub.status.busy": "2024-01-08T03:39:25.854202Z",
     "iopub.status.idle": "2024-01-08T03:39:26.064195Z",
     "shell.execute_reply": "2024-01-08T03:39:26.063201Z",
     "shell.execute_reply.started": "2024-01-08T03:39:25.854202Z"
    }
   },
   "outputs": [
    {
     "data": {
      "text/plain": [
       "0.3754900268095911"
      ]
     },
     "execution_count": 110,
     "metadata": {},
     "output_type": "execute_result"
    }
   ],
   "source": [
    "# code here\n",
    "from sklearn.metrics import mean_absolute_percentage_error\n",
    "mean_absolute_percentage_error(properti_enc['Price'], properti_enc['Prediksi'])"
   ]
  },
  {
   "cell_type": "markdown",
   "metadata": {},
   "source": [
    "# Assumption Checking\n",
    "\n",
    "Limitasi dari pemodelan linear regresi adalah terdapat beberapa asumsi yang perlu dipenuhi agar model linear regresi dikatakan model yang baik. \n",
    "Pendekatan Ordinary Least Square/Linear Regression dikatakan BLUE (Best Linear Unbiased Estimator) ketika memenuhi beberapa uji asumsi berikut:\n",
    "1. **Linearity**: antara x dan y nya ada hubungan linear  \n",
    "    - Bisa dilihat dari R-squared model, jika R-squared kecil, maka kemungkinan antara prediktor dan target, tidak ada hubungan linear\n",
    "2. **Normality of Residual**: Residual nya berdistribusi normal \n",
    "    - Saat berdistribusi normal, error berada di sekitar 0\n",
    "3. **No-Heteroscedasticity**: Variansi residual konstan (tidak membentuk sebuah pola)  \n",
    "4. **Little to No-Multicollinearity**: antar variabel prediktor nya harus independence (tidak mempunyai hubungan)  \n"
   ]
  },
  {
   "cell_type": "markdown",
   "metadata": {},
   "source": [
    "## Linearity\n",
    "\n",
    "Untuk menguji apakah variabel target dan prediktor memiliki hubungan linear. Dapat dilihat dengan nilai korelasi. \n",
    "\n",
    "Linearity artinya target variabel dengan prediktornya memiliki hubungan yang linear atau hubungannya bersifat garis lurus. Selain itu, efek atau nilai koefisien antar variabel bersifat additive. Jika linearity ini tidak terpenuhi, maka otomatis semua nilai koefisien yang kita dapatkan tidak valid karena model berasumsi bahwa pola yang akan kita buat adalah linear."
   ]
  },
  {
   "cell_type": "code",
   "execution_count": 111,
   "metadata": {
    "execution": {
     "iopub.execute_input": "2024-01-08T03:39:31.265512Z",
     "iopub.status.busy": "2024-01-08T03:39:31.264512Z",
     "iopub.status.idle": "2024-01-08T03:39:33.106792Z",
     "shell.execute_reply": "2024-01-08T03:39:33.104792Z",
     "shell.execute_reply.started": "2024-01-08T03:39:31.265512Z"
    },
    "scrolled": true
   },
   "outputs": [
    {
     "data": {
      "image/png": "[encoded data removed]",
      "text/plain": [
       "<Figure size 640x480 with 1 Axes>"
      ]
     },
     "metadata": {},
     "output_type": "display_data"
    }
   ],
   "source": [
    "# Residual vs fitted values\n",
    "linearity_test(lm_multiple)"
   ]
  },
  {
   "cell_type": "markdown",
   "metadata": {},
   "source": [
    "Bagaimana apabila ada yang tidak linear?\n",
    "- Exclude variable tersebut dari model\n",
    "- Apabila mayoritas variable prediktor tidak linear, maka bisa ganti model"
   ]
  },
  {
   "cell_type": "markdown",
   "metadata": {},
   "source": [
    "## Normality of Residual\n",
    "\n",
    "**Harapannya ketika membuat model linear regression**, error yang dihasilkan berdistribusi normal. Artinya error banyak berkumpul disekitar angka 0. Untuk mengecek residual menyebar normal, pengujian yang paling sering dilakukan adalah Shapiro test:\n",
    "- $H_0$: Residual berdistribusi normal\n",
    "- $H_1$: Residual tidak berdistribusi normal\n",
    "\n",
    "Dalam melakukan pengujiannya kita akan dibantu library `scipy` dan memanfaatkan fungsi `shapiro()`. Untuk memanfaatkan fungsi tersebut, kita akan mengeluarkan nilai residu dari model yang sudah dibuat dengan menambahkan `.resid` pada objek model yang dibuat.\n",
    "\n",
    "📌 **Note**: Jika asumsi normalitas tidak terpenuhi, maka hasil uji signifikansi serta nilai standard error dari intercept dan slope setiap prediktor yang dihasilkan bersifat bias atau tidak mencerminkan nilai sebenarnya. Jika residual memiliki distribusi yang tidak normal, bisa lakukan **transformasi/scaling data pada target variabel** atau **menambahkan sample data**."
   ]
  },
  {
   "cell_type": "code",
   "execution_count": 112,
   "metadata": {
    "ExecuteTime": {
     "end_time": "2021-12-01T08:55:20.943123Z",
     "start_time": "2021-12-01T08:55:20.919005Z"
    },
    "execution": {
     "iopub.execute_input": "2024-01-08T03:39:42.737478Z",
     "iopub.status.busy": "2024-01-08T03:39:42.736481Z",
     "iopub.status.idle": "2024-01-08T03:39:42.752480Z",
     "shell.execute_reply": "2024-01-08T03:39:42.751477Z",
     "shell.execute_reply.started": "2024-01-08T03:39:42.737478Z"
    }
   },
   "outputs": [
    {
     "data": {
      "text/html": [
       "<div>\n",
       "<style scoped>\n",
       "    .dataframe tbody tr th:only-of-type {\n",
       "        vertical-align: middle;\n",
       "    }\n",
       "\n",
       "    .dataframe tbody tr th {\n",
       "        vertical-align: top;\n",
       "    }\n",
       "\n",
       "    .dataframe thead th {\n",
       "        text-align: right;\n",
       "    }\n",
       "</style>\n",
       "<table border=\"1\" class=\"dataframe\">\n",
       "  <thead>\n",
       "    <tr style=\"text-align: right;\">\n",
       "      <th></th>\n",
       "      <th>Prediction</th>\n",
       "      <th>Actual</th>\n",
       "      <th>Residual</th>\n",
       "    </tr>\n",
       "  </thead>\n",
       "  <tbody>\n",
       "    <tr>\n",
       "      <th>0</th>\n",
       "      <td>4,620,582,658.209</td>\n",
       "      <td>3500000000</td>\n",
       "      <td>-1,120,582,658.209</td>\n",
       "    </tr>\n",
       "    <tr>\n",
       "      <th>1</th>\n",
       "      <td>2,246,452,582.268</td>\n",
       "      <td>2500000000</td>\n",
       "      <td>253,547,417.732</td>\n",
       "    </tr>\n",
       "    <tr>\n",
       "      <th>2</th>\n",
       "      <td>560,223,658.899</td>\n",
       "      <td>265000000</td>\n",
       "      <td>-295,223,658.899</td>\n",
       "    </tr>\n",
       "    <tr>\n",
       "      <th>3</th>\n",
       "      <td>2,057,066,220.233</td>\n",
       "      <td>2600000000</td>\n",
       "      <td>542,933,779.767</td>\n",
       "    </tr>\n",
       "    <tr>\n",
       "      <th>4</th>\n",
       "      <td>1,862,458,903.773</td>\n",
       "      <td>1300000000</td>\n",
       "      <td>-562,458,903.773</td>\n",
       "    </tr>\n",
       "  </tbody>\n",
       "</table>\n",
       "</div>"
      ],
      "text/plain": [
       "         Prediction      Actual           Residual\n",
       "0 4,620,582,658.209  3500000000 -1,120,582,658.209\n",
       "1 2,246,452,582.268  2500000000    253,547,417.732\n",
       "2   560,223,658.899   265000000   -295,223,658.899\n",
       "3 2,057,066,220.233  2600000000    542,933,779.767\n",
       "4 1,862,458,903.773  1300000000   -562,458,903.773"
      ]
     },
     "execution_count": 112,
     "metadata": {},
     "output_type": "execute_result"
    }
   ],
   "source": [
    "pd.DataFrame({\n",
    "    'Prediction': lm_multiple.fittedvalues,\n",
    "    'Actual': properti_enc['Price'],\n",
    "    'Residual': lm_multiple.resid\n",
    "}).head()"
   ]
  },
  {
   "cell_type": "markdown",
   "metadata": {},
   "source": [
    "Untuk melakukan pengujian asumsi normality of residual bisa menggunakan visualisasi histogram."
   ]
  },
  {
   "cell_type": "code",
   "execution_count": 113,
   "metadata": {
    "ExecuteTime": {
     "end_time": "2021-12-01T08:58:50.655005Z",
     "start_time": "2021-12-01T08:58:50.351818Z"
    },
    "execution": {
     "iopub.execute_input": "2024-01-08T03:39:45.606802Z",
     "iopub.status.busy": "2024-01-08T03:39:45.605794Z",
     "iopub.status.idle": "2024-01-08T03:39:45.803911Z",
     "shell.execute_reply": "2024-01-08T03:39:45.802909Z",
     "shell.execute_reply.started": "2024-01-08T03:39:45.606802Z"
    },
    "scrolled": true
   },
   "outputs": [
    {
     "data": {
      "text/plain": [
       "<Axes: >"
      ]
     },
     "execution_count": 113,
     "metadata": {},
     "output_type": "execute_result"
    },
    {
     "data": {
      "image/png": "[encoded data removed]",
      "text/plain": [
       "<Figure size 640x480 with 1 Axes>"
      ]
     },
     "metadata": {},
     "output_type": "display_data"
    }
   ],
   "source": [
    "lm_multiple.resid.hist()"
   ]
  },
  {
   "cell_type": "markdown",
   "metadata": {},
   "source": [
    "Selain itu bisa juga menggunakan pengujian statistik yaitu **Shapiro Test**. Dalam melakukan pengujiannya kita akan dibantu library `scipy` dan memanfaatkan fungsi `shapiro()`. Untuk memanfaatkan fungsi tersebut, kita akan mengeluarkan nilai residu dari model yang sudah dibuat dengan menambahkan `.resid` pada objek model yang dibuat."
   ]
  },
  {
   "cell_type": "code",
   "execution_count": 114,
   "metadata": {
    "ExecuteTime": {
     "end_time": "2021-12-01T09:02:17.885802Z",
     "start_time": "2021-12-01T09:02:17.860337Z"
    },
    "execution": {
     "iopub.execute_input": "2024-01-08T03:39:48.113936Z",
     "iopub.status.busy": "2024-01-08T03:39:48.113936Z",
     "iopub.status.idle": "2024-01-08T03:39:48.129945Z",
     "shell.execute_reply": "2024-01-08T03:39:48.127964Z",
     "shell.execute_reply.started": "2024-01-08T03:39:48.113936Z"
    }
   },
   "outputs": [
    {
     "name": "stderr",
     "output_type": "stream",
     "text": [
      "C:\\Users\\SaltFarmer\\miniconda3\\envs\\algoritma\\lib\\site-packages\\scipy\\stats\\_morestats.py:1816: UserWarning: p-value may not be accurate for N > 5000.\n",
      "  warnings.warn(\"p-value may not be accurate for N > 5000.\")\n"
     ]
    },
    {
     "data": {
      "text/plain": [
       "ShapiroResult(statistic=0.9078583717346191, pvalue=0.0)"
      ]
     },
     "execution_count": 114,
     "metadata": {},
     "output_type": "execute_result"
    }
   ],
   "source": [
    "from scipy.stats import shapiro\n",
    "shapiro(lm_multiple.resid)"
   ]
  },
  {
   "cell_type": "markdown",
   "metadata": {},
   "source": [
    "Nilai p-value yang kita harapkan pada uji shapiro test yaitu **p-value > alpha**."
   ]
  },
  {
   "cell_type": "markdown",
   "metadata": {},
   "source": [
    "Handling asumsi yang tidak terpenuhi untuk normality of residuals yaitu dengan cara:\n",
    "- menambahkan data\n",
    "- transformasi pada target varibel (y)"
   ]
  },
  {
   "cell_type": "markdown",
   "metadata": {},
   "source": [
    "## No Heteroscedasticity (Homoscedasticity)\n",
    "\n",
    "Homocesdasticity menunjukkan bahwa residual atau error bersifat konstan atau tidak membentuk pola tertentu. Jika error membentuk pola tertentu seperti garis linear atau mengerucut, maka kita sebut dengan `Heterocesdasticity` dan akan berpengaruh pada nilai standard error pada estimate/koefisien prediktor yan bias (terlalu sempit atau terlalu lebar).\n",
    "\n",
    "Untuk mengecek terjadinya heteroscedasticity kita dapat menggunakan Breusch-Pagan test:\n",
    "- $H_0$: residual homogen(tidak membentuk sebuah pola/acak)\n",
    "- $H_1$: residual heteros (membentuk sebuah pola)\n",
    "\n",
    "Kita bisa menggunakan method `het_breuschpagan()` dari library `statsmodels`."
   ]
  },
  {
   "cell_type": "markdown",
   "metadata": {},
   "source": [
    "Pada `lm_multiple_new` yang kita miliki, kita bisa memvisualisasikan sebaran dari residual yang ada dengan menggunakan scatter plot."
   ]
  },
  {
   "cell_type": "code",
   "execution_count": 115,
   "metadata": {
    "ExecuteTime": {
     "end_time": "2021-12-01T09:07:54.769105Z",
     "start_time": "2021-12-01T09:07:54.488878Z"
    },
    "execution": {
     "iopub.execute_input": "2024-01-08T03:40:04.683881Z",
     "iopub.status.busy": "2024-01-08T03:40:04.683881Z",
     "iopub.status.idle": "2024-01-08T03:40:04.896880Z",
     "shell.execute_reply": "2024-01-08T03:40:04.894879Z",
     "shell.execute_reply.started": "2024-01-08T03:40:04.683881Z"
    },
    "scrolled": true
   },
   "outputs": [
    {
     "data": {
      "text/plain": [
       "<matplotlib.lines.Line2D at 0x1fefc3bc8e0>"
      ]
     },
     "execution_count": 115,
     "metadata": {},
     "output_type": "execute_result"
    },
    {
     "data": {
      "image/png": "[encoded data removed]",
      "text/plain": [
       "<Figure size 640x480 with 1 Axes>"
      ]
     },
     "metadata": {},
     "output_type": "display_data"
    }
   ],
   "source": [
    "plt.scatter(y = lm_multiple.resid, x = lm_multiple.fittedvalues)\n",
    "plt.axhline(y = 0, color = 'r')"
   ]
  },
  {
   "cell_type": "code",
   "execution_count": 116,
   "metadata": {
    "ExecuteTime": {
     "end_time": "2021-12-01T09:09:02.875936Z",
     "start_time": "2021-12-01T09:09:02.855129Z"
    },
    "execution": {
     "iopub.execute_input": "2024-01-08T03:40:07.488180Z",
     "iopub.status.busy": "2024-01-08T03:40:07.487183Z",
     "iopub.status.idle": "2024-01-08T03:40:07.515699Z",
     "shell.execute_reply": "2024-01-08T03:40:07.514699Z",
     "shell.execute_reply.started": "2024-01-08T03:40:07.488180Z"
    }
   },
   "outputs": [
    {
     "data": {
      "text/plain": [
       "[('Lagrange multiplier statistics', 985.8090677322887),\n",
       " ('p-value', 1.4820389736444784e-200),\n",
       " ('f-value', 77.76864569434078),\n",
       " ('f p-value', 8.904001347049246e-219)]"
      ]
     },
     "execution_count": 116,
     "metadata": {},
     "output_type": "execute_result"
    }
   ],
   "source": [
    "from statsmodels.compat import lzip\n",
    "import statsmodels.stats.api as sms\n",
    "\n",
    "name = ['Lagrange multiplier statistics', 'p-value', 'f-value', 'f p-value']\n",
    "\n",
    "test = sms.het_breuschpagan(lm_multiple.resid, lm_multiple.model.exog)\n",
    "lzip(name, test)"
   ]
  },
  {
   "cell_type": "markdown",
   "metadata": {},
   "source": [
    "## No Multicolinearity\n",
    "\n",
    "Harapannya pada model linear regression, tidak terjadi multikolinearitas. Multikolinearitas terjadi ketika antar variabel prediktor yang digunakan pada model memiliki hubungan yang kuat. Ada atau tidak multikolinearitas dapat dilihat dari nilai VIF(Variance Inflation Factor). \n",
    "\n",
    "VIF dibagi menjadi beberapa nilai berikut:\n",
    "- 1 = tidak berkorelasi antar prediktornya\n",
    "- antara 1 dan 5 = korelasinya moderate\n",
    "- Lebih besar 5 = paling kuat berkorelasi antar prediktornya\n",
    "- Biasanya VIF lebih besar 10 adalah yang menunjukkan variabel prediktor sangat berkorelasi kuat.\n",
    "\n",
    "> Ketika nilai VIF > 10 maka **ada hubungan yang kuat antar prediktor**. Yang diingkan ketika membuat model, nilai VIF < 10 agar **tidak ada hubungan antar prediktor**."
   ]
  },
  {
   "cell_type": "code",
   "execution_count": 117,
   "metadata": {
    "ExecuteTime": {
     "end_time": "2021-12-01T09:11:44.599337Z",
     "start_time": "2021-12-01T09:11:44.571326Z"
    },
    "execution": {
     "iopub.execute_input": "2024-01-08T03:40:10.029395Z",
     "iopub.status.busy": "2024-01-08T03:40:10.028400Z",
     "iopub.status.idle": "2024-01-08T03:40:10.152458Z",
     "shell.execute_reply": "2024-01-08T03:40:10.151456Z",
     "shell.execute_reply.started": "2024-01-08T03:40:10.029395Z"
    }
   },
   "outputs": [
    {
     "data": {
      "text/plain": [
       "const                                      21.171\n",
       "K..Mandi                                    3.768\n",
       "K..Tidur                                    3.418\n",
       "L..Bangunan                                 2.918\n",
       "Tipe.Properti_Rumah                         2.887\n",
       "Sertifikat_SHM - Sertifikat Hak Milik       2.732\n",
       "Sertifikat_Lainnya (PPJB,Girik,Adat,dll)    2.222\n",
       "Kota_Jakarta Timur                          1.865\n",
       "Kota_Jakarta Barat                          1.859\n",
       "Kota_Jakarta Selatan                        1.828\n",
       "Kota_Tangerang Selatan                      1.773\n",
       "Kota_Jakarta Pusat                          1.768\n",
       "Kota_Jakarta Utara                          1.689\n",
       "Sertifikat_HP - Hak Pakai                   1.045\n",
       "Sertifikat_HS - Hak Sewa                    1.007\n",
       "Sertifikat_PPJB                             1.004\n",
       "dtype: float64"
      ]
     },
     "execution_count": 117,
     "metadata": {},
     "output_type": "execute_result"
    }
   ],
   "source": [
    "from statsmodels.stats.outliers_influence import variance_inflation_factor\n",
    "import statsmodels.api as sm\n",
    "\n",
    "vif = [variance_inflation_factor(X.values, i) for i in range(len(X.columns))]\n",
    "pd.Series(data=vif, index = X.columns).sort_values(ascending=False)"
   ]
  },
  {
   "cell_type": "markdown",
   "metadata": {},
   "source": [
    "Jika terjadi multicollinearity, yang bisa dilakukan adalah:\n",
    "- Membuang salah satu variabel\n",
    "- Membuat variabel baru, dari rata-rata nilai kedua variabel"
   ]
  }
 ],
 "metadata": {
  "kernelspec": {
   "display_name": "Python 3 (ipykernel)",
   "language": "python",
   "name": "python3"
  },
  "language_info": {
   "codemirror_mode": {
    "name": "ipython",
    "version": 3
   },
   "file_extension": ".py",
   "mimetype": "text/x-python",
   "name": "python",
   "nbconvert_exporter": "python",
   "pygments_lexer": "ipython3",
   "version": "3.8.18"
  },
  "toc": {
   "base_numbering": 1,
   "nav_menu": {},
   "number_sections": true,
   "sideBar": true,
   "skip_h1_title": false,
   "title_cell": "Table of Contents",
   "title_sidebar": "Contents",
   "toc_cell": false,
   "toc_position": {},
   "toc_section_display": true,
   "toc_window_display": false
  },
  "varInspector": {
   "cols": {
    "lenName": 16,
    "lenType": 16,
    "lenVar": 40
   },
   "kernels_config": {
    "python": {
     "delete_cmd_postfix": "",
     "delete_cmd_prefix": "del ",
     "library": "var_list.py",
     "varRefreshCmd": "print(var_dic_list())"
    },
    "r": {
     "delete_cmd_postfix": ") ",
     "delete_cmd_prefix": "rm(",
     "library": "var_list.r",
     "varRefreshCmd": "cat(var_dic_list()) "
    }
   },
   "types_to_exclude": [
    "module",
    "function",
    "builtin_function_or_method",
    "instance",
    "_Feature"
   ],
   "window_display": false
  }
 },
 "nbformat": 4,
 "nbformat_minor": 4
}
