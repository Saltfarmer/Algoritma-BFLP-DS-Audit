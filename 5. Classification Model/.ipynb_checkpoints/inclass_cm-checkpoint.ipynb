{
 "cells": [
  {
   "cell_type": "markdown",
   "id": "f4eb1893",
   "metadata": {},
   "source": [
    "**Inclass: Classification Model**\n",
    "- Durasi: 7 hours\n",
    "- _Last Updated_: Desember 2023\n",
    "\n",
    "___\n",
    "\n",
    "- Disusun dan dikurasi oleh tim produk dan instruktur [Algoritma Data Science School](https://algorit.ma)."
   ]
  },
  {
   "cell_type": "markdown",
   "id": "e83dfa8e",
   "metadata": {},
   "source": [
    "# Classification in Machine Learning"
   ]
  },
  {
   "cell_type": "code",
   "execution_count": null,
   "id": "a352a910",
   "metadata": {},
   "outputs": [],
   "source": [
    "import pandas as pd # preprocessing data\n",
    "import math # math operations\n",
    "%matplotlib inline \n",
    "\n",
    "pd.set_option('display.max_columns', 100) # set max columns display"
   ]
  },
  {
   "cell_type": "markdown",
   "id": "40824b37",
   "metadata": {},
   "source": [
    "# Introduction\n",
    "\n",
    "* Klasifikasi bertujuan untuk memprediksi **target variable kategorik** seperti label/kelas\n",
    "* Label/kelas yang dapat diprediksi antara lain berjenis 2 kelas (**binary**) atau >2 kelas (**multiclass**)."
   ]
  },
  {
   "cell_type": "markdown",
   "id": "225f2718",
   "metadata": {},
   "source": [
    "# Logistic Regression Concept\n",
    "\n",
    "Logistic Regression merupakan salah satu metode klasifikasi yang konsepnya hampir mirip dengan regresi linear. Hanya saja, dalam logistic regression tidak menghitung secara spesifik nilai prediksi target variable, namun menghitung **kemungkinan/peluang** pada masing-masing kelas target.\n",
    "\n",
    "- Linier regresion: y (numerik) -> **-inf, + inf**\n",
    "- Logistic regression: y (peluang) -> **0, 1**\n",
    "\n",
    "![](assets/data-science-programming-contrast-linear-logistic-regression.jpg)\n",
    "\n",
    "📝 Hasil dari regresi logistik dapat digunakan untuk:\n",
    "- keperluan interpretasi\n",
    "- keperluan prediksi\n",
    "\n",
    "❓ Bagaimana regresi logistik bekerja? \n",
    "\n",
    "Suatu regresi yang dapat menghasilkan nilai (-inf sd. +inf), lalu dikonversikan ke bentuk peluang (0 - 1)\n",
    "  - nilai yg dihasilkan oleh algoritma logistic regression: log of odds\n",
    "  - nilai dapat dikonversikan antara **log of odds** - **odds** - **peluang**:"
   ]
  },
  {
   "cell_type": "markdown",
   "id": "424fb71e",
   "metadata": {},
   "source": [
    "<div>\n",
    "<img src=\"assets/linear_vs_logistic_regression.png\" width=\"700\"/>\n",
    "</div>"
   ]
  },
  {
   "cell_type": "markdown",
   "id": "f0f55e5a",
   "metadata": {},
   "source": [
    "## Basic Intuition: Probability\n",
    "\n",
    "* Pada dasarnya, ketika kita melakukan klasifikasi, kita mempertimbangkan **peluang**.\n",
    "\n",
    "**Probability** : kemungkinan terjadi suatu kejadian dari seluruh kejadian yang ada.\n",
    "\n",
    "$$P(A) = \\frac{n}{S} $$ \n",
    "\n",
    "* $P(A)$ : peluang kejadian A\n",
    "* $n$ : banyak kejadian A\n",
    "* $S$ : total seluruh kejadian"
   ]
  },
  {
   "cell_type": "markdown",
   "id": "a292e728",
   "metadata": {},
   "source": [
    "💭❓ **Analytical Question**\n",
    "\n",
    "Terdapat 100 data transaksi dari sebuah Bank, 10 diantaranya merupakan transaksi `fraud` (palsu), sedangkan sisanya sebanyak 90 adalah transaksi `not fraud`. Berapakah peluang kejadian transaksi `fraud`?"
   ]
  },
  {
   "cell_type": "code",
   "execution_count": null,
   "id": "5830cad1",
   "metadata": {},
   "outputs": [],
   "source": [
    "# probability fraud\n",
    "p_fraud = \n",
    "p_fraud "
   ]
  },
  {
   "cell_type": "markdown",
   "id": "e8cf4c64",
   "metadata": {},
   "source": [
    "📝 **Note:**  Range dari probability : **0 - 1**"
   ]
  },
  {
   "cell_type": "markdown",
   "id": "0556a7f0",
   "metadata": {},
   "source": [
    "## Odds \n",
    "\n",
    "Ketika kita menebak suatu nilai dalam regresi, range nilai yang kita tebak adalah **$-\\infty - \\infty$**. Sedangkan dalam klasifikasi, range nilai yang kita tebak adalah **0 - 1**. Oleh karena itu, kita memerlukan suatu jembatan untuk bisa menghubungkan antara nilai numerik menjadi suatu nilai peluang. Jembatan tersebut disebut **Odds**.\n",
    "\n",
    "**Odds** : perbandingan probability kejadian sukses (yang diamati) dibandingkan dengan probability kejadian tidak sukses (tidak diamati)\n",
    "\n",
    "$$Odds = \\frac{p}{1-p}$$\n",
    "\n",
    "$p$ : merupakan probability kejadian\n",
    "\n",
    "Jika ingin mengetahui odds dari kejadian 'yes', maka:\n",
    "\n",
    "$$Odds(yes) = \\frac{p(yes)}{1-p(yes)}$$\n",
    "\n",
    "Jika ingin mengetahui odds dari kejadian 'no' maka:\n",
    "\n",
    "$$Odds(no) = \\frac{p(no)}{1-p(no)}$$"
   ]
  },
  {
   "cell_type": "code",
   "execution_count": null,
   "id": "8dceac16",
   "metadata": {},
   "outputs": [],
   "source": [
    "# odds fraud\n",
    "odds_fraud = \n",
    "odds_fraud"
   ]
  },
  {
   "cell_type": "markdown",
   "id": "4160ab25",
   "metadata": {},
   "source": [
    "> 📈 Interpretasi: Kemungkinan/probability transaksi sebagai fraud adalah **XX KALI** lebih mungkin dibandingkan diketahui sebagai not fraud"
   ]
  },
  {
   "cell_type": "code",
   "execution_count": null,
   "id": "c9d9803c",
   "metadata": {},
   "outputs": [],
   "source": [
    "# odds not fraud\n",
    "odds_not_fraud = \n",
    "odds_not_fraud"
   ]
  },
  {
   "cell_type": "markdown",
   "id": "bda14987",
   "metadata": {},
   "source": [
    "> 📈 Interpretasi: Kemungkinan jenis tanah diketahui sebagai not fraud adalah **XX KALI** lebih mungkin dibandingkan diketahui sebagai fraud"
   ]
  },
  {
   "cell_type": "markdown",
   "id": "dcda1a59",
   "metadata": {},
   "source": [
    "📝 **Note:**  Range dari odds : **0 - inf**"
   ]
  },
  {
   "cell_type": "markdown",
   "id": "5159b334",
   "metadata": {},
   "source": [
    "## Log of Odds\n",
    "\n",
    "**Log of Odds** : suatu nilai odds yang di logaritmakan.\n",
    "\n",
    "$$logit(p) = log(\\frac{p}{1-p})$$\n",
    "\n",
    "💭❓ Berapakah log of odds transaksi fraud?"
   ]
  },
  {
   "cell_type": "code",
   "execution_count": null,
   "id": "0ab7d922",
   "metadata": {},
   "outputs": [],
   "source": [
    "# log of odds fraud\n",
    "log_odds_fraud = math.log(...)\n",
    "log_odds_fraud"
   ]
  },
  {
   "cell_type": "markdown",
   "id": "dc4460c0",
   "metadata": {},
   "source": [
    " **💡Highlight Point:💡**\n",
    " \n",
    " - Untuk menginterpretasikan log of odds kedalam nilai odds -> `math.exp()`\n",
    " \n",
    " - Untuk menginterpretasikan log of odds kedalam probability -> $\\frac{odds}{odds+1}$ atau \n",
    " \n",
    "```python\n",
    "from scipy.special import expit\n",
    "expit()\n",
    "```"
   ]
  },
  {
   "cell_type": "code",
   "execution_count": null,
   "id": "a0b83783",
   "metadata": {},
   "outputs": [],
   "source": [
    "# example menginterpretasikan dari log of odds --> probability\n",
    "from scipy.special import expit\n",
    "expit(log_odds_fraud)"
   ]
  },
  {
   "cell_type": "markdown",
   "id": "9bda1436",
   "metadata": {},
   "source": [
    "![](assets/prob_to_logofodds_sigmoid.png)"
   ]
  },
  {
   "cell_type": "markdown",
   "id": "4b6da4e3",
   "metadata": {},
   "source": [
    "## Logistic Regression Modeling Workflow\n",
    "\n",
    "Berikut adalah urutan *workflow* model Logistic Regression :\n",
    "\n",
    "1. Mempersiapkan data\n",
    "2. *Exploratory Data Analysis*\n",
    "3. Data *Pre-Processing*\n",
    "4. Membuat model logistic regression & interpretasi\n",
    "5. Melakukan prediksi\n",
    "6. Model evaluasi"
   ]
  },
  {
   "cell_type": "markdown",
   "id": "e2b90293",
   "metadata": {},
   "source": [
    "## Study Case : Fraud Bank Account \n",
    "\n",
    "Berbagai penipuan yang marak terjadi melibatkan penggunaan rekening bank. Tentunya hal ini meresahkan dan menyebabkan adanya kerugian baik untuk nasabah maupun bank ini sendiri. Kerugian ini bisa berupa kerugian material sampai menurunnya kepercayaan masyarakat terhadap suatu bank.\n",
    "\n",
    "Data yang akan kita gunakan saat ini merupakan data akun bank yang sudah disesuaikan untuk pembelajaran di workshop ini.\n",
    "\n",
    "### Import data\n",
    "\n",
    "Dalam pembelajaran kali ini kita akan menggunakan data `fraud_dataset.csv` yang tersimpan pada folder `data_input`. \n",
    "\n",
    "Data ini dapat dieksplorasi di luar kelas, tetapi untuk kepentingan pembelajaran kita hanya akan mengambil 11 variabel yang nantinya akan digunakan pada model. Silakan jalankan kode berikut ini:"
   ]
  },
  {
   "cell_type": "code",
   "execution_count": null,
   "id": "38e19560",
   "metadata": {},
   "outputs": [],
   "source": [
    "import pandas as pd\n",
    "\n",
    "fraud = pd.read_csv('data_input/fraud_dataset.csv')\n",
    "col_used = ['income', 'name_email_similarity', 'intended_balcon_amount', 'zip_count_4w', \n",
    "            'credit_risk_score', 'phone_home_valid', 'phone_mobile_valid', 'has_other_cards', \n",
    "            'proposed_credit_limit', 'source', 'fraud_bool']\n",
    "fraud = fraud[col_used]\n",
    "\n",
    "fraud.head(3)"
   ]
  },
  {
   "cell_type": "markdown",
   "id": "5df4594a",
   "metadata": {},
   "source": [
    "**Data Description:**\n",
    "\n",
    "- `income` (numeric): _Annual income of the applicant (in decile form). Ranges between [0.1, 0.9]._\n",
    "- `name_email_similarity` (numeric): _Metric of similarity between email and applicant’s name. Higher values represent higher similarity. Ranges between [0, 1]._\n",
    "- `intended_balcon_amount` (numeric): _Initial transferred amount for application. Ranges between [−16, 114] (negatives are missing values)._\n",
    "- `zip_count_4w` (numeric): _Number of applications within same zip code in last 4 weeks. Ranges between [1, 6830]._\n",
    "- `credit_risk_score` (numeric): _Internal score of application risk. Ranges between [−191, 389]._\n",
    "- `phone_home_valid` (binary): _Validity of provided home phone._\n",
    "- `phone_mobile_valid` (binary): _Validity of provided mobile phone._\n",
    "- `has_other_cards` (binary): _If applicant has other cards from the same banking company. _\n",
    "- `proposed_credit_limit` (numeric): _Applicant’s proposed credit limit. Ranges between [200, 2000]._\n",
    "- `source` (categorical): _Online source of application. Either browser (INTERNET) or app (TELEAPP)._\n",
    "- `fraud_bool` (binary): _If the application is fraudulent or not._"
   ]
  },
  {
   "cell_type": "code",
   "execution_count": null,
   "id": "80e1fd40",
   "metadata": {},
   "outputs": [],
   "source": []
  },
  {
   "cell_type": "markdown",
   "id": "63fe6d34",
   "metadata": {},
   "source": [
    "\n",
    "Sebelum masuk pada tahap pembuatan model, kita akan melakukan EDA untuk mengetahui variabel prediktor yang perlu dimasukkan dalam model dan yang tidak.\n",
    "\n",
    "### Wrangling Data\n",
    "\n",
    "#### Mengubah tipe data\n",
    "\n",
    "Sebelum melakukan perubahan tipe data, silakan cek terlebih dahulu jenis tipe datanya dengan menggunakan method `dtypes`/`info()`"
   ]
  },
  {
   "cell_type": "code",
   "execution_count": null,
   "id": "261f2ce2",
   "metadata": {
    "scrolled": true
   },
   "outputs": [],
   "source": [
    "# code here\n"
   ]
  },
  {
   "cell_type": "markdown",
   "id": "cf9b7503",
   "metadata": {},
   "source": [
    "❓ Kolom apa saja yang belum memliki tipe data yang tepat?\n",
    "\n",
    "- ...\n",
    "- ..."
   ]
  },
  {
   "cell_type": "code",
   "execution_count": null,
   "id": "a2fbf700",
   "metadata": {
    "scrolled": true
   },
   "outputs": [],
   "source": [
    "# list berisi nama kolom yang ingin diubah dalam format sama\n",
    "\n",
    "\n",
    "# Mengubah tipe data beberapa kolom\n",
    "\n",
    "\n",
    "# cek kembali tipe data\n"
   ]
  },
  {
   "cell_type": "markdown",
   "id": "05fe8ed6",
   "metadata": {},
   "source": [
    "#### Cek Missing Value & Duplicate Data\n",
    "\n",
    "Dalam pengecekan *missing values* disediakan fungsi `isna()` yang dapat mengecek ke setiap baris data dan menunjukan *logical value*. Untuk mempermudah pengecekannya, fungsi tersebut dapat digabungkan dengan fungsi `.sum()`.\n",
    "\n",
    "Dalam pengecekan *nilai duplikat* disediakan sebuah fungsi `duplicated()` yang dapat mengecek ke setiap baris data dan menunjukan *logical value*. Untuk mempermudah pengecekannya, fungsi tersebut dapat digabungkan dengan fungsi `.any()`."
   ]
  },
  {
   "cell_type": "code",
   "execution_count": null,
   "id": "410981d6",
   "metadata": {},
   "outputs": [],
   "source": [
    "# cek missing value\n"
   ]
  },
  {
   "cell_type": "code",
   "execution_count": null,
   "id": "2410cb4c",
   "metadata": {},
   "outputs": [],
   "source": [
    "# cek duplicate\n"
   ]
  },
  {
   "cell_type": "markdown",
   "id": "9b5a0fbb",
   "metadata": {},
   "source": [
    "### Exploratory Data Analysis (EDA)\n",
    "\n",
    "**Analisis `describe()`**\n",
    "\n",
    "Pada tahapan ini kita akan mencoba untuk melakkan analisis apakah terdapat sebuah hal yang menarik dari hasil fungsi `describe()` untuk masing-masing kelas target"
   ]
  },
  {
   "cell_type": "code",
   "execution_count": null,
   "id": "4f0c6760",
   "metadata": {},
   "outputs": [],
   "source": []
  },
  {
   "cell_type": "markdown",
   "id": "f88815ae",
   "metadata": {},
   "source": [
    "💭 **Insight**:"
   ]
  },
  {
   "cell_type": "markdown",
   "id": "5486ebf4",
   "metadata": {},
   "source": [
    "**Analisis Korelasi**"
   ]
  },
  {
   "cell_type": "code",
   "execution_count": null,
   "id": "0bc1ee77",
   "metadata": {},
   "outputs": [],
   "source": [
    "import seaborn as sns\n",
    "sns.heatmap(...., # nilai korelasi\n",
    "            annot=True,   # anotasi angka di dalam kotak heatmap\n",
    "            fmt=\".3f\",    # format 3 angka dibelakang koma \n",
    "            cmap='Reds'); # warna heatmap"
   ]
  },
  {
   "cell_type": "markdown",
   "id": "bca00db5",
   "metadata": {},
   "source": [
    "###  Data Pre-Processing\n",
    "\n",
    "Terdapat 2 hal yang biasanya dilakukan pada tahapan data pre-processing yaitu **Dummy Variable Encoding** dan juga **Cross Validation**"
   ]
  },
  {
   "cell_type": "code",
   "execution_count": null,
   "id": "0d2ae72a",
   "metadata": {},
   "outputs": [],
   "source": []
  },
  {
   "cell_type": "markdown",
   "id": "d4ae4965",
   "metadata": {},
   "source": [
    "#### Dummy Variable Encoding \n",
    "\n",
    "Variabel yang kita miliki terdapat variabel dengan tipe data category, oleh karena itu kita perlu membuat dummy variabel terlebih dahulu. Untuk algoritma Logistic Regression, karena masih terdapat asumsi multicolinearity, maka yang akan dipakai adalah dummy variable. \n",
    "    \n",
    "Mari lakukan metode tersebut dengan memanfaatkan fungsi berikut ini `pd.get_dummies()` dan mengisinya dengan beberapa parameter antara lain:\n",
    "\n",
    "- `data`: data yang ingin diubah menjadi numerikal\n",
    "- `columns`: list kolom yang akan dilakukan dummy variable encoding\n",
    "- `drop_first`: apakah ingin drop kolom pertama. Default False. Namun akan kita atur sebagai True agar kolom hasil dummies tidak redundan\n",
    "- `dtype` = memasukan tipe data yang ingin di-isi"
   ]
  },
  {
   "cell_type": "code",
   "execution_count": null,
   "id": "269b11ed",
   "metadata": {},
   "outputs": [],
   "source": [
    "# code here\n",
    "fraud_enc = "
   ]
  },
  {
   "cell_type": "markdown",
   "id": "59b90c51",
   "metadata": {},
   "source": [
    "#### Cross Validation\n",
    "\n",
    "*Cross Validation* adalah metode yang kita gunakan untuk mengetahui seberapa baik performa model kita memprediksi terhadap data baru.\n",
    "\n",
    "Lantas, bagaimana cara mengetahui apakah model yang kita buat telah baik dalam memprediksi data baru? Di sinilah mengapa kita melakukan Train-test splitting. Kita membagi data kita menjadi 2 kelompok, yaitu data `train` dan `test`.\n",
    "\n",
    "<img src=\"assets/test-train.png\" width=\"600\"/>\n",
    "\n",
    "- Data `train`: Data yang model gunakan untuk training.\n",
    "\n",
    "- Data `test`: Data untuk evaluasi model (Untuk melihat seberapa baik model memprediksi terhadap data yang tidak digunakan untuk training)\n",
    "\n",
    "📌 **Analogi sederhana**\n",
    "\n",
    "- Seorang siswa dapat dikatakan pintar ketika dapat menjawab benar soal-soal ujian yang tidak pernah dikerjakannya pada soal-soal latihan untuk persiapan ujian.\n",
    "- Data `train` diibaratkan soal latihan, dan data `test` diibaratkan soal ujian. Adapun `model` kita diibaratkan sebagai siswa.\n"
   ]
  },
  {
   "cell_type": "markdown",
   "id": "5258e8bc",
   "metadata": {},
   "source": [
    "Kita dapat menggunakan fungsi `train_test_split` dengan beberapa parameter sebagai berikut.\n",
    "- `arrays`: dataframe yang kita gunakan (dipisah , untuk yang prediktor dan target variable)\n",
    "- `test_size`: jumlah persentase dari data yang akan digunakan sebagai data test\n",
    "- `train_size`: jumlah persentase dari data yang akan digunakan sebagai data test (akan otomatis terisi jika `test_size` diberi nilai)\n",
    "- `random_state`: nilai random number generator (RNG). Jika kita memasukkan suatu nilai integer untuk parameter ini maka akan menghasilkan hasil yang sama untuk nilai yang sama. Jika kita mengubah nilainya, maka hasilnya akan berbeda.\n",
    "- `stratify`: memastikan pembagian di data train dan test memiliki proporsi target yang sama dengan data awal"
   ]
  },
  {
   "cell_type": "markdown",
   "id": "a7ee8029",
   "metadata": {},
   "source": [
    "> **💡 NOTES**: Biasanya data dibagi menjadi 80:20 atau 70:30 (train size:test size). Porsi yang besar selalu digunakan untuk training"
   ]
  },
  {
   "cell_type": "code",
   "execution_count": null,
   "id": "17fc2de3",
   "metadata": {
    "scrolled": false
   },
   "outputs": [],
   "source": [
    "# Total dimensi awal sebelum split\n"
   ]
  },
  {
   "cell_type": "code",
   "execution_count": null,
   "id": "0959948c",
   "metadata": {},
   "outputs": [],
   "source": [
    "from sklearn.model_selection import train_test_split\n",
    "import statsmodels.api as sm"
   ]
  },
  {
   "cell_type": "code",
   "execution_count": null,
   "id": "d3036020",
   "metadata": {},
   "outputs": [],
   "source": [
    "# Tahapan 1 - Memisahkan prediktor dengan target\n",
    "## prediktor\n",
    "\n",
    "\n",
    "## target\n"
   ]
  },
  {
   "cell_type": "code",
   "execution_count": null,
   "id": "dbad11eb",
   "metadata": {},
   "outputs": [],
   "source": [
    "# Tahapan 2 - Split dataset\n",
    "X_train, X_test, y_train, y_test = train_test_split(..., # kolom prediktor\n",
    "                                                   ..., # kolom target\n",
    "                                                   test_size = ..., # 80% training and 20% test\n",
    "                                                   random_state = 10,\n",
    "                                                   stratify=...)"
   ]
  },
  {
   "cell_type": "code",
   "execution_count": null,
   "id": "195a9677",
   "metadata": {},
   "outputs": [],
   "source": [
    "X_train.shape"
   ]
  },
  {
   "cell_type": "markdown",
   "id": "be388ed4",
   "metadata": {},
   "source": [
    "❓ **Mengapa kita perlu mengunci sifat random yang ada?**\n",
    "\n",
    "- Agar kita mendapatkan hasil antara data train dan data test yang sama \n",
    "- Ketika kita ingin melakukan adjustment/tunning pada model yang sudah ada, data yang akan dimasukan kembali ke model tersebut sama dengan model yang sebelumnya. Sehingga kita bisa melakukan komparasi yang apple to apple terhadap kedua model tersebut."
   ]
  },
  {
   "cell_type": "markdown",
   "id": "65cab738",
   "metadata": {},
   "source": [
    "**Cek Proporsi Kelas Target**\n",
    "\n",
    "Setelah melakukan cross validation, kita perlu memastikan bahwa proporsi kelas target kita sudah seimbang atau belum.\n",
    "\n",
    "❓ **Mengapa kita harus mencari tau proporsi targetnya seimbang/tidak?**\n",
    "\n",
    "- Proporsi yang seimbang penting untuk agar model dapat mempelajari karakteristik kelas positif maupun negatif secara seimbang\n",
    "- Dalam kata lain, tidak hanya belajar dari satu kelas saja. Hal ini mencegah model dari *hanya baik memprediksi 1 kelas saja*\n",
    "\n",
    "Dalam melakukan pengecekan, pandas sudah menyediakan sebuah fungsi `crosstab()`. Pada fungsi tersebut akan di-isi dengan 3 parameter yaitu\n",
    "\n",
    "- `index`: parameter ini akan di-isi dengan target data train kita\n",
    "- `columns`: parameter ini akan di-isi dengan target variable\n",
    "- `normalize`: dapat di-isi dengan True untuk menunjukan hasil dalam bentuk persentase."
   ]
  },
  {
   "cell_type": "code",
   "execution_count": null,
   "id": "a247eb45",
   "metadata": {
    "scrolled": true
   },
   "outputs": [],
   "source": [
    "# Code here\n",
    "pd.crosstab(index = ..., \n",
    "            columns = ..., \n",
    "            normalize = True).round(2)"
   ]
  },
  {
   "cell_type": "markdown",
   "id": "c2512232",
   "metadata": {},
   "source": [
    "Proporsi yang imbalance sebenarnya cukup subjektif dan tidak ada aturan bakunya. Akan tetapi ketika proporsinya targetnya *90%:10%* atau *95%:5%*, target variable tersebut akan dianggap tidak seimbang.\n",
    "\n",
    "**Action Plan ketika datanya imbalance:**\n",
    "\n",
    "- Tambah data real $\\rightarrow$ memerlukan waktu\n",
    "- Metode *downSampling* $\\rightarrow$ Membuang observasi dari kelas mayoritas, sehingga seimbang.\n",
    "- Metode *upSampling* $\\rightarrow$ Duplikasi observasi dari kelas minoritas, sehingga seimbang.\n",
    "\n",
    "Metode pada poin kedua dan ketiga di atas tidak akan kita pelajari di kelas, tetapi Anda bisa membaca dokumentasinya pada link berikut: [downSampling](https://imbalanced-learn.org/stable/references/generated/imblearn.under_sampling.RandomUnderSampler.html) dan [upSampling](https://imbalanced-learn.org/stable/references/generated/imblearn.over_sampling.RandomOverSampler.html)."
   ]
  },
  {
   "cell_type": "markdown",
   "id": "f295a257",
   "metadata": {},
   "source": [
    "### Model Fitting\n",
    "\n",
    "Untuk membuat model logistic regression, kita bisa menggunakan fungsi `Logit()` dari package `statsmodels` atau `sm`."
   ]
  },
  {
   "cell_type": "code",
   "execution_count": null,
   "id": "8c8f5e96",
   "metadata": {
    "scrolled": false
   },
   "outputs": [],
   "source": [
    "# membuat model\n",
    "model_logit = "
   ]
  },
  {
   "cell_type": "markdown",
   "id": "aa850f04",
   "metadata": {},
   "source": [
    "**Interpretasi Model**\n",
    "\n",
    "Nilai intercept dan slope tidak bisa diinterpretasikan secara langsung karena nilainya masih berupa log of odds. Oleh karena itu, perlu dilakukan interpretasi menggunakan nilai odds. Untuk mengubah nilai log of odds menjadi odds bisa menggunakan fungsi `exp()` dari package `math`.    "
   ]
  },
  {
   "cell_type": "code",
   "execution_count": null,
   "id": "90e8513d",
   "metadata": {},
   "outputs": [],
   "source": [
    "import math\n",
    "math.exp(...)"
   ]
  },
  {
   "cell_type": "markdown",
   "id": "7bc6ea87",
   "metadata": {},
   "source": [
    "Hasil formula model yang diperoleh adalah sebagai berikut :\n",
    "\n",
    "$$logit(y)= \\beta_0 +\\beta_1 \\times x_1 + ... +\\beta_n \\times x_n$$\n",
    "\n",
    "- **Interpretasi intercept/`const`**\n",
    "\n",
    "- **Interpretasi variabel numerik**:\n",
    "\n",
    "    -\n",
    "    -\n",
    "\n",
    "- **Interpretasi variabel kategorik**:\n",
    "\n",
    "    -\n",
    "    -"
   ]
  },
  {
   "cell_type": "markdown",
   "id": "16b7de78",
   "metadata": {},
   "source": [
    "Interpretasi: ..."
   ]
  },
  {
   "cell_type": "markdown",
   "id": "72d61cb6",
   "metadata": {},
   "source": [
    "### Model Prediction\n",
    "\n",
    "Ketika kita sudah berhasil membuat model, kita akan mencoba melakukan prediksi terhadap data *test* yang sudah kita persiapkan pada tahap *cross validation*\n",
    "\n",
    "Dalam melakukan prediksi, kita bisa memanfaaatkan fungsi `predict()`. Dengan syntax sebagai berikut:\n",
    "\n",
    "`<nama_model>.predict(<var_prediktor>)`"
   ]
  },
  {
   "cell_type": "code",
   "execution_count": null,
   "id": "a7b7347a",
   "metadata": {
    "scrolled": true
   },
   "outputs": [],
   "source": [
    "# code of predict value from model\n"
   ]
  },
  {
   "cell_type": "markdown",
   "id": "31905403",
   "metadata": {},
   "source": [
    "Hasil prediksi yang dikeluarkan masih berupa probability dengan range 0-1. Untuk dapat mengubah nilai probability tersebut, kita bisa menetapkan threshold pada probability untuk masuk ke kelas 1 atau 0. Umumnya threshold yang digunakan yaitu 0.5. "
   ]
  },
  {
   "cell_type": "code",
   "execution_count": null,
   "id": "32eb321c",
   "metadata": {
    "scrolled": true
   },
   "outputs": [],
   "source": [
    "# change probability to predict class\n",
    "pred_label = ___.apply(lambda x: 1 if x > 0.5 else 0)\n",
    "pred_label.head()"
   ]
  },
  {
   "cell_type": "markdown",
   "id": "d176ba94",
   "metadata": {},
   "source": [
    "### Model Evaluation\n",
    "\n",
    "Setelah dilakukan prediksi menggunakan model, masih ada saja prediksi yang salah. Pada klasifikasi, kita mengevaluasi model berdasarkan **confusion matrix**:\n",
    "\n",
    "- Penentuan kelas:\n",
    "  + kelas positif: kelas yang lebih difokuskan \n",
    "  + kelas negatif: kelas yang tidak difokuskan\n",
    " \n",
    "- Contoh kasus: \n",
    "  + Machine learning untuk deteksi pasien covid:\n",
    "    * kelas positif: terdeteksi covid $\\rightarrow$ Jangan sampai orang yang terkena covid dibiarkan bebas karena dapat menularkan ke orang banyak\n",
    "    * kelas negatif: terdeteksi sehat\n",
    "    \n",
    "  + Machine learning untuk deteksi apakah seseorang bisa bayar pinjaman atau tidak\n",
    "    * kelas positf: yang tidak bisa bayar $\\rightarrow$ karna kita perlu berhati2 apakah nasabah tersebut bisa tidak bayar, kalo tidak bayar perusahaan bisa rugi. \n",
    "    * kelas negatif: yang bisa bayar\n",
    "\n",
    "- Isi dari confusion matrix\n",
    "    * TP (True Positive) = Ketika kita memprediksi kelas `positive`, dan benar bahwa data aktualnya `positive`\n",
    "    * TN (True Negative) = Ketika kita memprediksi kelas `negative`, dan benar bahwa data aktualnya `negative`\n",
    "    * FP (False Positive) = Ketika kita memprediksi kelas `positive`, namun data aktualnya `negative`\n",
    "    * FN (False Negative) = Ketika kita memprediksi kelas `negative`, namun data aktualnya `positive`\n",
    "    \n",
    "![](assets/tnfp.PNG)"
   ]
  },
  {
   "cell_type": "code",
   "execution_count": null,
   "id": "8188ae3c",
   "metadata": {
    "scrolled": true
   },
   "outputs": [],
   "source": [
    "# confusion matrix sederhana (perbandingan antara pred label dengan data test)\n",
    "pd.crosstab(pred_label, y_test)"
   ]
  },
  {
   "cell_type": "markdown",
   "id": "94fe6382",
   "metadata": {},
   "source": [
    "* TP = ...\n",
    "* TN = ...\n",
    "* FN = ...\n",
    "* FP = ..."
   ]
  },
  {
   "cell_type": "markdown",
   "id": "cc646c43",
   "metadata": {},
   "source": [
    "4 metrics performa model: **Accuracy, Sensitivity/Recall, Precision, Specificity**\n",
    "\n",
    "- **Accuracy**: seberapa tepat model kita memprediksi kelas target (secara global)   \n",
    "- **Sensitivity**/ **Recall**: ukuran kebaikan model terhadap kelas `positif`   \n",
    "- **Specificity**: ukuran kebaikan model terhadap kelas `negatif`   \n",
    "- Pos Pred Value/**Precision**: seberapa presisi model memprediksi kelas positif  "
   ]
  },
  {
   "cell_type": "markdown",
   "id": "5d185c26",
   "metadata": {},
   "source": [
    "### Accuracy\n",
    "\n",
    "Seberapa baik model kita menjelaskan kelas target (baik positif maupun negatif). Dipakai ketika kelas positif dan negatif sama pentingnya atau ketika proporsi kelas seimbang.\n",
    "\n",
    "$$\n",
    "Accuracy = \\frac{TP + TN}{TP + TN + FP + FN}\n",
    "$$"
   ]
  },
  {
   "cell_type": "code",
   "execution_count": null,
   "id": "82ea0678",
   "metadata": {},
   "outputs": [],
   "source": [
    "# nilai akurasi\n"
   ]
  },
  {
   "cell_type": "markdown",
   "id": "b07377c0",
   "metadata": {},
   "source": [
    "Dalam bisnis/real-case, tak selamanya kita hanya mementingkan metric accuracy. Sering kali harus memilih antara meninggikan **recall/precision**. Hal ini tergantung pada kasus bisnis/efek yang ditimbulkan dari hasil prediksi tersebut."
   ]
  },
  {
   "cell_type": "markdown",
   "id": "0804535a",
   "metadata": {},
   "source": [
    "### Recall / Sensitivity\n",
    "\n",
    "Seberapa banyak yang **benar diprediksi positif** dari yang **re**alitynya (aktualnya) positif.\n",
    "\n",
    "![](assets/recall.png)\n",
    "\n",
    "$$\n",
    "Recall = \\frac{TP}{TP + FN}\n",
    "$$"
   ]
  },
  {
   "cell_type": "code",
   "execution_count": null,
   "id": "fea54ec7",
   "metadata": {},
   "outputs": [],
   "source": [
    "# nilai recall\n"
   ]
  },
  {
   "cell_type": "markdown",
   "id": "b22a5974",
   "metadata": {},
   "source": [
    "### Precision\n",
    "\n",
    "Seberapa banyak yang **benar diprediksi positif** dari yang di**pre**diksi positif.\n",
    "\n",
    "![](assets/precision.png)\n",
    "\n",
    "$$\n",
    "Precision = \\frac{TP}{TP + FP}\n",
    "$$"
   ]
  },
  {
   "cell_type": "code",
   "execution_count": null,
   "id": "46eaf1df",
   "metadata": {},
   "outputs": [],
   "source": [
    "# nilai precision\n"
   ]
  },
  {
   "cell_type": "markdown",
   "id": "f79eb511",
   "metadata": {},
   "source": [
    "**Cara Cepat**\n",
    "\n",
    "Selain melakukan perhitungan manual, kita juga dapat memanfaatkan fungsi yang sudah disediakan oleh library sklearn dengan syntax \n",
    "\n",
    "`*_score(y_true, y_pred)`"
   ]
  },
  {
   "cell_type": "code",
   "execution_count": null,
   "id": "eb308295",
   "metadata": {},
   "outputs": [],
   "source": [
    "from sklearn.metrics import recall_score, precision_score, accuracy_score\n",
    "\n",
    "print(f'Accuracy score: {accuracy_score(y_test, pred_label)}')\n",
    "print(f'Recall score: {recall_score(y_test, pred_label)}')\n",
    "print(f'Precision score: {precision_score(y_test, pred_label)}')"
   ]
  },
  {
   "cell_type": "markdown",
   "id": "712c0d52",
   "metadata": {},
   "source": [
    "\n",
    "Ketika tidak puas dengan hasil model performance diatas, yang bisa dilakukan adalah:\n",
    "\n",
    "1. Tunning model (membuat model baru dengan kombinasi prediktor yang lain)\n",
    "2. Menambahkan data\n",
    "3. Melakukan penggeseran threshold\n",
    "4. Menggunakan metode yang lain"
   ]
  },
  {
   "cell_type": "markdown",
   "id": "3292b6ea",
   "metadata": {},
   "source": [
    "### Asumsi Logistic Regression\n",
    "\n",
    "Asumsi Logistic Regression :\n",
    "\n",
    "* **No Multicollinearity**: antar prediktor tidak saling berkorelasi. Untuk melakukan pengecekannya sama seperti dalam linear regression yaitu menggunakan nilai VIF. \n",
    "\n",
    "  + apabila ada prediktor yang terindikasi multikolinearity, kita bisa menggunakan salah satu variabel saja atau membuat variabel baru yang men-summary dari kedua variabel tersebut (mean)\n",
    "  +  dari VIF kita ingin variabel kita memiliki VIF < 10\n",
    "  \n",
    "* **Independence of Observations**: antar observasi saling independen & tidak berasal dari pengukuran berulang (repeated measurement).\n",
    "\n",
    "* **Linearity of Predictor & Log of Odds**: cara interpretasi mengacu pada asumsi ini. untuk variabel numerik, peningkatan 1 nilai akan menaikan log of odds (peluang)."
   ]
  },
  {
   "cell_type": "markdown",
   "id": "7c5f957e",
   "metadata": {},
   "source": [
    "# K-Nearest Neighbour Algorithm\n",
    "\n",
    "Metode k-NN akan mengkasifikasi data baru dengan membandingkan karakteristik data baru (data test) dengan data yang ada (data train). Kedekatan karakteristik tersebut diukur dengan Euclidean Distance yaitu pengukuran jarak. Kemudian akan dipilih k tetangga terdekat dari data baru tersebut, kemudian ditentukan kelasnya menggunakan majority voting.\n",
    "\n",
    "### Karakteristik k-NN\n",
    "\n",
    "- tidak ada asumsi\n",
    "- dapat memprediksi multiclass\n",
    "- baik untuk prediktor numerik (karena mengklasifikasikan berdasarkan jarak), tidak baik untuk prediktor kategorik\n",
    "- robust: performa nya bagus -> error nya kecil\n",
    "- tidak interpretable"
   ]
  },
  {
   "cell_type": "markdown",
   "id": "14739f02",
   "metadata": {},
   "source": [
    "## Data Cleansing\n",
    "\n",
    "Kita akan menggunakan data yang sama dengan metode sebelumnya, tetapi kali ini kita akan menggunakan data tanpa kategorikal sama sekali."
   ]
  },
  {
   "cell_type": "code",
   "execution_count": null,
   "id": "746571d9",
   "metadata": {},
   "outputs": [],
   "source": [
    "fraud_knn = \n",
    "\n",
    "fraud_knn.head()"
   ]
  },
  {
   "cell_type": "markdown",
   "id": "361e0262",
   "metadata": {},
   "source": [
    "## Cross Validation\n",
    "\n",
    "Gunakan metode train-test splitting dengan proporsi dan random_state yang sudah kita gunakan pada kasus sebelumnya."
   ]
  },
  {
   "cell_type": "code",
   "execution_count": null,
   "id": "16e77d69",
   "metadata": {},
   "outputs": [],
   "source": [
    "# prediktor\n",
    "X = \n",
    "# target\n",
    "y = \n",
    "\n",
    "# Split dataset\n",
    "X_train, X_test, y_train, y_test = train_test_split(..., # kolom prediktor\n",
    "                                                   ..., # kolom target\n",
    "                                                   test_size = ..., # 80% training and 20% test\n",
    "                                                   random_state = 10,\n",
    "                                                   stratify = ...)"
   ]
  },
  {
   "cell_type": "markdown",
   "id": "26d696ec",
   "metadata": {},
   "source": [
    "## Data Preprocessing\n",
    "\n",
    "**Feature Scalling**\n",
    "\n",
    "🔎 Scaling: menyamaratakan range variable prediktor\n",
    "\n",
    "Scaling bisa menggunakan **min-max normalization atau z-score standarization**\n",
    "\n",
    "1.  **Min-max normalization** --> bekerja dengan mentransformasi fitur sehingga nilainya berada dalam rentang 0 hingga 1.\n",
    "\n",
    "> Formula: $x_{new}=\\frac{(x-min(x))}{(max(x)-min(x))}$\n",
    "\n",
    "- Nilai fitur yang dinormalisasi secara efektif mengomunikasikan seberapa jauh, dalam persentase, nilai asli berada di sepanjang rentang semua nilai fitur *x*.\n",
    "- digunakan ketika tau angka pasti min dan max nya. misalnya nilai ujian matematika pasti nilai min-max nya 0 - 100.\n",
    "\n",
    "2. **z-score standardization** mengurangi fitur x dengan rata-rata dan dibagi dengan standar deviasi dari fitur.\n",
    "\n",
    "> Formula: $x_{new}=\\frac{(x-\\bar x)}{std(x)}$ \n",
    "\n",
    "- digunakan ketika tidak diketahui angka min dan max pastinya. misalnya temperature bisa dari kisaran -inf s.d +inf\n",
    "\n"
   ]
  },
  {
   "cell_type": "markdown",
   "id": "c0f63de9",
   "metadata": {},
   "source": [
    "🔻 Menormalisasi menjadi z-score:"
   ]
  },
  {
   "cell_type": "code",
   "execution_count": null,
   "id": "d9e475d6",
   "metadata": {},
   "outputs": [],
   "source": [
    "from sklearn.preprocessing import StandardScaler\n",
    "\n",
    "scaler = StandardScaler()"
   ]
  },
  {
   "cell_type": "code",
   "execution_count": null,
   "id": "c2d23300",
   "metadata": {},
   "outputs": [],
   "source": [
    "# subset kolom numerik\n",
    "cols = "
   ]
  },
  {
   "cell_type": "code",
   "execution_count": null,
   "id": "775942cf",
   "metadata": {},
   "outputs": [],
   "source": [
    "# transform\n"
   ]
  },
  {
   "cell_type": "markdown",
   "id": "f9e003ac",
   "metadata": {},
   "source": [
    "Data prediktor discaling menggunakan z-score standarization. Data test juga harus discaling menggunakan parameter dari data train (karena menganggap data test adalah unseen data).\n",
    "\n",
    "Untuk data test:\n",
    "- diperlakukan sebagai data unseen\n",
    "- ketika ingin discaling prediktornya harus menggunakan informasi mean dan sd dari data train"
   ]
  },
  {
   "cell_type": "markdown",
   "id": "8c1aeafc",
   "metadata": {},
   "source": [
    "## Training Model\n",
    "\n",
    "Untuk membuat model K-NN, kita akan memanfaatkan library `KNeighborsClassifier` yang berada pada `sklearn.neighbors`. Tetapi sebelumnya kita harus menentukan dulu jumlah tetangga yang harus kita perhitungkan.\n",
    "\n",
    "### Choosing an appropriate *k*\n",
    "\n",
    "Berikut adalah intuisi dasar pemilihan nilai K optimal:\n",
    "\n",
    "- Jangan terlalu besar: pemilihan kelas hanya berdasarkan kelas yang dominan dan mengabaikan data kecil yang ternyata penting.\n",
    "- Jangan terlalu kecil: rentan mengklasifikasikan data baru ke kelas outlier.\n",
    "- Penentuan k optimum biasanya menggunakan akar dari jumlah data train kita: `sqrt(nrow(data))`"
   ]
  },
  {
   "cell_type": "code",
   "execution_count": null,
   "id": "90307bd1",
   "metadata": {},
   "outputs": [],
   "source": [
    "math.sqrt(...)"
   ]
  },
  {
   "cell_type": "markdown",
   "id": "b1712e95",
   "metadata": {},
   "source": [
    "k-NN akan menghitung jumlah kelas pada tetangga terdekat suatu data dan kelas terbanyak inilah akan menjadi hasil klasifikasi data kita. Bila hasil majority voting seri, maka kelas akan dipilih secara random. Maka dari itu, untuk meminimalisir seri ketika majority voting:\n",
    "\n",
    "+ k harus ganjil bila jumlah kelas target genap\n",
    "+ k harus genap bila jumlah kelas target ganjil\n",
    "+ k tidak boleh angka kelipatan jumlah kelas target\n",
    "\n",
    "Nilai hasil perhitungan di atas perlu dibulatkan berdasarkan arahan ini. Mari kita gunakan nilainya pada pembuatan model k-NN."
   ]
  },
  {
   "cell_type": "code",
   "execution_count": null,
   "id": "baa1c7ed",
   "metadata": {},
   "outputs": [],
   "source": [
    "from sklearn.neighbors import KNeighborsClassifier\n",
    "\n",
    "model_knn = KNeighborsClassifier(...)"
   ]
  },
  {
   "cell_type": "markdown",
   "id": "7377982d",
   "metadata": {},
   "source": [
    "## Model prediction\n",
    "Sama seperti model sebelumnya, model yang sudah dipersiapkan untuk melakukan prediksi pada data test yang sudah dipersipakan dengan menggunakan fungsi `predict()`."
   ]
  },
  {
   "cell_type": "code",
   "execution_count": null,
   "id": "1120b7d6",
   "metadata": {
    "ExecuteTime": {
     "end_time": "2023-01-11T02:06:24.943939Z",
     "start_time": "2023-01-11T02:06:24.932613Z"
    }
   },
   "outputs": [],
   "source": [
    "knn_pred = \n"
   ]
  },
  {
   "cell_type": "markdown",
   "id": "56c430b5",
   "metadata": {},
   "source": [
    "### Model Evaluation"
   ]
  },
  {
   "cell_type": "code",
   "execution_count": null,
   "id": "77b82521",
   "metadata": {},
   "outputs": [],
   "source": [
    "# Hasil evaluasi KNN\n",
    "print(f'Accuracy score: {accuracy_score(..., ...)}')\n",
    "print(f'Recall score: {recall_score(..., ...)}')\n",
    "print(f'Precision score: {precision_score(..., ...)}')"
   ]
  },
  {
   "cell_type": "markdown",
   "id": "82c6d2e7",
   "metadata": {},
   "source": [
    "# Logistic Regression & k-NN Comparation"
   ]
  },
  {
   "cell_type": "markdown",
   "id": "55d5969f",
   "metadata": {},
   "source": [
    "![](assets/Karakter.png)"
   ]
  },
  {
   "cell_type": "markdown",
   "id": "1964a30f",
   "metadata": {},
   "source": [
    "# Glossary & Additional Information"
   ]
  },
  {
   "cell_type": "markdown",
   "id": "408de6d4",
   "metadata": {},
   "source": [
    "<details>\n",
    "    <summary>Click once on <font color=\"red\"><b>this text</b></font> to hide/unhide additional information in Summary</summary>\n",
    "    \n",
    "**[Optional] Other Information in Summary**\n",
    "\n",
    "1. Tabel 1, sisi kiri menyimpan informasi dasar dari model\n",
    "\n",
    "| Variable | Description | \n",
    "| :--- | :--- | \n",
    "| Dep. Variable  | Dependent variable atau target variabel (Y) | \n",
    "| Model | Model logistic regression| \n",
    "| Method | Metode yang digunakan untuk membuat model logistic regression: Maximum Likelihood Estimator | \n",
    "| No. Observations| Jumlah observasi (baris) yang digunakan ketika membuat model regresi linier | \n",
    "| DF Residuals | Degrees of freedom error/residual (jumlah observasi/baris - parameter) |\n",
    "| DF Model  | Degrees of freedom model (jumlah prediktor) | \n",
    "| Covariance type | tipe nonrobust berarti tidak ada penghapusan data untuk menghitung kovarian antar fitur. Kovarian menunjukkan bagaimana dua variabel bergerak terhadap satu sama lain (+ atau -, tidak menghitung kekuatannya) | \n",
    "    \n",
    "    \n",
    "<br> \n",
    "<br>  \n",
    "\n",
    "2. Tabel 1, sisi kanan menyimpan informasi kebaikan model\n",
    "\n",
    "| Variable | Description | \n",
    "| :--- | :--- | \n",
    "| Pseudo R-squared  | Goodness of fit. Rasio dari log-likelihood null model dibandingkan dengan full model. | \n",
    "| Log-likelihood  | [Conditional probability](https://en.wikipedia.org/wiki/Conditional_probability) bahwa data yang digunakan cocok/fit dengan model. Semakin besar, semakin fit model terhadap datanya. range -inf - +inf  |\n",
    "| LL-Null | nilai dari log-likelihood model tanpa prediktor (intercept saja) | \n",
    "| LLR p-value   | nilai p -value dari apakah model yang kita buat lebih baik daripada model tanpa prediktor (intercept saja)| \n",
    "\n",
    "\n",
    "<br> \n",
    "<br> \n",
    "\n",
    "3. Tabel 2 menyimpan informasi dari koefisien regresi\n",
    "\n",
    "| Variable | Description | \n",
    "| :--- | :--- | \n",
    "| **coef**   | Estimasi koefisien | \n",
    "| std err | Estimasi selisih nilai sampel terhadap populasi | \n",
    "| z | Statistik hitung dari z-test (uji parsial) | \n",
    "|**P > \\|z\\|**  | P-value dari z-test | \n",
    "| [95.0% Conf. Interval]  | Confidence Interval (CI) 95%. |\n",
    "\n",
    "    \n",
    "In statistics, maximum likelihood estimation (MLE) is a method of estimating the parameters of an assumed probability distribution, given some observed data. This is achieved by maximizing a likelihood function so that, under the assumed statistical model, the observed data is most probable.\n",
    "    \n",
    "<br> \n",
    "<br> \n",
    "    \n",
    "    \n",
    "    \n",
    "Recall from Practical Statistic:\n",
    "    \n",
    "* $\\alpha$:\n",
    "  + tingkat signifikansi / tingkat error\n",
    "  + umumnya 0.05\n",
    "* $1-\\alpha$: tingkat kepercayaan (misal alpha 0.05, maka kita akan percaya terhadap hasil analisis sebesar 95%)\n",
    "* $p-value$:\n",
    "  + akan dibandingkan dengan alpha untuk untuk mengambil keputusan\n",
    "  + peluang data sampel berada pada bagian sangat ekstrim/berbeda signifikan dengan keadaan normal.\n",
    "  \n",
    "Pengambilan keputusan:\n",
    "\n",
    "* Jika $p-value$ < $\\alpha$, maka tolak $H_0$ / terima $H_1$\n",
    "* Jika $p-value$ > $\\alpha$, maka gagal tolak / terima $H_0$\n",
    "    \n",
    "</details>"
   ]
  },
  {
   "cell_type": "code",
   "execution_count": null,
   "id": "5b6b948f",
   "metadata": {},
   "outputs": [],
   "source": []
  }
 ],
 "metadata": {
  "kernelspec": {
   "display_name": "311",
   "language": "python",
   "name": "python3"
  },
  "language_info": {
   "codemirror_mode": {
    "name": "ipython",
    "version": 3
   },
   "file_extension": ".py",
   "mimetype": "text/x-python",
   "name": "python",
   "nbconvert_exporter": "python",
   "pygments_lexer": "ipython3",
   "version": "3.10.13"
  },
  "toc": {
   "base_numbering": 1,
   "nav_menu": {},
   "number_sections": false,
   "sideBar": true,
   "skip_h1_title": false,
   "title_cell": "Table of Contents",
   "title_sidebar": "Contents",
   "toc_cell": false,
   "toc_position": {},
   "toc_section_display": true,
   "toc_window_display": false
  },
  "varInspector": {
   "cols": {
    "lenName": 16,
    "lenType": 16,
    "lenVar": 40
   },
   "kernels_config": {
    "python": {
     "delete_cmd_postfix": "",
     "delete_cmd_prefix": "del ",
     "library": "var_list.py",
     "varRefreshCmd": "print(var_dic_list())"
    },
    "r": {
     "delete_cmd_postfix": ") ",
     "delete_cmd_prefix": "rm(",
     "library": "var_list.r",
     "varRefreshCmd": "cat(var_dic_list()) "
    }
   },
   "types_to_exclude": [
    "module",
    "function",
    "builtin_function_or_method",
    "instance",
    "_Feature"
   ],
   "window_display": false
  }
 },
 "nbformat": 4,
 "nbformat_minor": 5
}
