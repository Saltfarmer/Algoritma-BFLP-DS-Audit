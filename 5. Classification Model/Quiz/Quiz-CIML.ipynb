{
 "cells": [
  {
   "cell_type": "markdown",
   "id": "289cb790",
   "metadata": {},
   "source": [
    "______"
   ]
  },
  {
   "cell_type": "markdown",
   "id": "a1231a8c",
   "metadata": {},
   "source": [
    "# Graded Assignment: Classification in Machine Learning"
   ]
  },
  {
   "cell_type": "markdown",
   "id": "e384c70d",
   "metadata": {},
   "source": [
    "Kuis ini merupakan bagian dari proses penilaian Algoritma Training. Selamat atas selesainya materi Classification dalam Machine Learning. Kami akan melakukan penilaian berupa kuis untuk menguji praktek teknik pembuatan model regresi dan klasifikasi yang sudah Anda pelajari.\n",
    "\n",
    "Pada quiz berikut, Anda akan diminta membuat model klasifikasi sebagai penilaian pemahaman mengenai materi yang sudah dipelajari sebelumnya."
   ]
  },
  {
   "cell_type": "markdown",
   "id": "04960383",
   "metadata": {},
   "source": [
    "## Credit Risk Analysis\n",
    "\n",
    "Ketika bank menerima permohonan pinjaman, berdasarkan profil pemohon maka bank harus membuat keputusan apakah akan melanjutkan persetujuan pinjaman atau tidak. Dua jenis resiko terkait keputusan bank: \n",
    "\n",
    "- Jika pemohon memiliki risiko kredit yang baik, yaitu mungkin untuk membayar kembali pinjaman, maka tidak menyetujui pinjaman kepada orang tersebut mengakibatkan kerugian bisnis bagi bank\n",
    "- Jika pemohon memiliki risiko kredit yang buruk, yaitu tidak mungkin untuk membayar kembali pinjaman, maka menyetujui pinjaman kepada orang tersebut mengakibatkan kerugian finansial bagi bank."
   ]
  },
  {
   "cell_type": "markdown",
   "id": "98829301",
   "metadata": {},
   "source": [
    "### Import data\n",
    "\n",
    "Kali ini kita akan menggunakan data `credit_germany.csv` yang tersimpan pada folder `data_input`. Data ini merupakan data real dari suatu bank yang ada di German."
   ]
  },
  {
   "cell_type": "code",
   "execution_count": 26,
   "id": "82d7cfab-57ee-426b-a564-95806ab47aaa",
   "metadata": {
    "execution": {
     "iopub.execute_input": "2024-01-09T09:21:31.147756Z",
     "iopub.status.busy": "2024-01-09T09:21:31.147756Z",
     "iopub.status.idle": "2024-01-09T09:21:31.179736Z",
     "shell.execute_reply": "2024-01-09T09:21:31.178738Z",
     "shell.execute_reply.started": "2024-01-09T09:21:31.147756Z"
    }
   },
   "outputs": [
    {
     "data": {
      "text/html": [
       "<div>\n",
       "<style scoped>\n",
       "    .dataframe tbody tr th:only-of-type {\n",
       "        vertical-align: middle;\n",
       "    }\n",
       "\n",
       "    .dataframe tbody tr th {\n",
       "        vertical-align: top;\n",
       "    }\n",
       "\n",
       "    .dataframe thead th {\n",
       "        text-align: right;\n",
       "    }\n",
       "</style>\n",
       "<table border=\"1\" class=\"dataframe\">\n",
       "  <thead>\n",
       "    <tr style=\"text-align: right;\">\n",
       "      <th></th>\n",
       "      <th>Creditability</th>\n",
       "      <th>Account_Balance</th>\n",
       "      <th>Duration_of_Credit_monthly</th>\n",
       "      <th>Payment_Status_of_Previous_Credit</th>\n",
       "      <th>Credit_Amount</th>\n",
       "      <th>Length_of_current_employment</th>\n",
       "      <th>Guarantors</th>\n",
       "      <th>Duration_in_Current_address</th>\n",
       "      <th>Age_years</th>\n",
       "      <th>Concurrent_Credits</th>\n",
       "      <th>No_of_Credits_at_this_Bank</th>\n",
       "    </tr>\n",
       "  </thead>\n",
       "  <tbody>\n",
       "    <tr>\n",
       "      <th>0</th>\n",
       "      <td>1</td>\n",
       "      <td>No Account</td>\n",
       "      <td>18</td>\n",
       "      <td>No_Problems</td>\n",
       "      <td>1049</td>\n",
       "      <td>2</td>\n",
       "      <td>No</td>\n",
       "      <td>4</td>\n",
       "      <td>21</td>\n",
       "      <td>Other_Bank</td>\n",
       "      <td>1</td>\n",
       "    </tr>\n",
       "    <tr>\n",
       "      <th>1</th>\n",
       "      <td>1</td>\n",
       "      <td>No Account</td>\n",
       "      <td>9</td>\n",
       "      <td>No_Problems</td>\n",
       "      <td>2799</td>\n",
       "      <td>3</td>\n",
       "      <td>No</td>\n",
       "      <td>2</td>\n",
       "      <td>36</td>\n",
       "      <td>Other_Bank</td>\n",
       "      <td>2</td>\n",
       "    </tr>\n",
       "    <tr>\n",
       "      <th>2</th>\n",
       "      <td>1</td>\n",
       "      <td>Have Account</td>\n",
       "      <td>12</td>\n",
       "      <td>Paid_Up</td>\n",
       "      <td>841</td>\n",
       "      <td>4</td>\n",
       "      <td>No</td>\n",
       "      <td>4</td>\n",
       "      <td>23</td>\n",
       "      <td>Other_Bank</td>\n",
       "      <td>1</td>\n",
       "    </tr>\n",
       "    <tr>\n",
       "      <th>3</th>\n",
       "      <td>1</td>\n",
       "      <td>No Account</td>\n",
       "      <td>12</td>\n",
       "      <td>No_Problems</td>\n",
       "      <td>2122</td>\n",
       "      <td>3</td>\n",
       "      <td>No</td>\n",
       "      <td>2</td>\n",
       "      <td>39</td>\n",
       "      <td>Other_Bank</td>\n",
       "      <td>2</td>\n",
       "    </tr>\n",
       "    <tr>\n",
       "      <th>4</th>\n",
       "      <td>1</td>\n",
       "      <td>No Account</td>\n",
       "      <td>12</td>\n",
       "      <td>No_Problems</td>\n",
       "      <td>2171</td>\n",
       "      <td>3</td>\n",
       "      <td>No</td>\n",
       "      <td>4</td>\n",
       "      <td>38</td>\n",
       "      <td>No_credit</td>\n",
       "      <td>2</td>\n",
       "    </tr>\n",
       "  </tbody>\n",
       "</table>\n",
       "</div>"
      ],
      "text/plain": [
       "   Creditability Account_Balance  Duration_of_Credit_monthly  \\\n",
       "0              1      No Account                          18   \n",
       "1              1      No Account                           9   \n",
       "2              1    Have Account                          12   \n",
       "3              1      No Account                          12   \n",
       "4              1      No Account                          12   \n",
       "\n",
       "  Payment_Status_of_Previous_Credit  Credit_Amount  \\\n",
       "0                       No_Problems           1049   \n",
       "1                       No_Problems           2799   \n",
       "2                           Paid_Up            841   \n",
       "3                       No_Problems           2122   \n",
       "4                       No_Problems           2171   \n",
       "\n",
       "   Length_of_current_employment Guarantors  Duration_in_Current_address  \\\n",
       "0                             2         No                            4   \n",
       "1                             3         No                            2   \n",
       "2                             4         No                            4   \n",
       "3                             3         No                            2   \n",
       "4                             3         No                            4   \n",
       "\n",
       "   Age_years Concurrent_Credits  No_of_Credits_at_this_Bank  \n",
       "0         21         Other_Bank                           1  \n",
       "1         36         Other_Bank                           2  \n",
       "2         23         Other_Bank                           1  \n",
       "3         39         Other_Bank                           2  \n",
       "4         38          No_credit                           2  "
      ]
     },
     "execution_count": 26,
     "metadata": {},
     "output_type": "execute_result"
    }
   ],
   "source": [
    "import pandas as pd\n",
    "import statsmodels.api as sm\n",
    "\n",
    "##  code here\n",
    "credit = pd.read_csv('data_input/credit_germany.csv')\n",
    "credit.head()"
   ]
  },
  {
   "cell_type": "code",
   "execution_count": 27,
   "id": "e0fc195e-c19c-4ce1-942c-3007cdeb037c",
   "metadata": {
    "execution": {
     "iopub.execute_input": "2024-01-09T09:21:33.960657Z",
     "iopub.status.busy": "2024-01-09T09:21:33.959652Z",
     "iopub.status.idle": "2024-01-09T09:21:33.975331Z",
     "shell.execute_reply": "2024-01-09T09:21:33.974323Z",
     "shell.execute_reply.started": "2024-01-09T09:21:33.960657Z"
    }
   },
   "outputs": [
    {
     "name": "stdout",
     "output_type": "stream",
     "text": [
      "<class 'pandas.core.frame.DataFrame'>\n",
      "Index: 1000 entries, 0 to 999\n",
      "Data columns (total 11 columns):\n",
      " #   Column                             Non-Null Count  Dtype \n",
      "---  ------                             --------------  ----- \n",
      " 0   Creditability                      1000 non-null   int64 \n",
      " 1   Account_Balance                    1000 non-null   object\n",
      " 2   Duration_of_Credit_monthly         1000 non-null   int64 \n",
      " 3   Payment_Status_of_Previous_Credit  1000 non-null   object\n",
      " 4   Credit_Amount                      1000 non-null   int64 \n",
      " 5   Length_of_current_employment       1000 non-null   int64 \n",
      " 6   Guarantors                         1000 non-null   object\n",
      " 7   Duration_in_Current_address        1000 non-null   int64 \n",
      " 8   Age_years                          1000 non-null   int64 \n",
      " 9   Concurrent_Credits                 1000 non-null   object\n",
      " 10  No_of_Credits_at_this_Bank         1000 non-null   int64 \n",
      "dtypes: int64(7), object(4)\n",
      "memory usage: 93.8+ KB\n"
     ]
    }
   ],
   "source": [
    "credit.info()"
   ]
  },
  {
   "cell_type": "markdown",
   "id": "c3f58319",
   "metadata": {},
   "source": [
    "**Data Description:**\n",
    "\n",
    "- `Creditability` : Apakah peminjam memiliki risiko kredit yang buruk (0) atau kredit baik (1)\n",
    "- `Account_Balance` : Kategori apakah peminjam memiliki akun bank\n",
    "    - No account = tidak memiliki akun bank\n",
    "    - Have account = memiliki akun dan balance pada bank\n",
    "- `Duration_of_Credit_monthly` : Durasi pinjaman dalam bulan\n",
    "- `Payment_Status_of_Previous_Credit` : Histori pembayaran dari kredit yang pernah diajukan sebelumnya\n",
    "    - No_loan_history = Tidak memiliki riwayat pinjaman\n",
    "    - Some_Problems = Terlambat bayar dan belum diselesaikan pembayarannya \n",
    "    - Paid_Up = Pernah terlambat bayar dan sudah diselesaikan pembayarannya \n",
    "    - No_Problems = Tidak ada masalah\n",
    "- `Credit_Amount` : Jumlah nominal pinjaman yang diajukan\n",
    "- `Length_of_current_employment` : Lama bekerja di tempat kerja sekarang dalam tahun\n",
    "- `Guarantors` : Apakah terdapat penjamin pinjaman atau tidak\n",
    "    - No = Tidak ada penjamin\n",
    "    - Yes =  Ada penjamin\n",
    "- `Duration_in_Current_address` : Durasi lama tinggal di tempat tinggal sekarang dalam tahun\n",
    "- `Age_years` : Usia peminjam\n",
    "- `Concurrent_Credits`: Tipe kredit yang sedang berjalan bersamaan\n",
    "    - No_credit = Tidak ada kredit yang jalan bersamaan \n",
    "    - Dept_Stores = Credit terhadap department store \n",
    "    - Other_Bank = Credit terhadap bank lain\n",
    "- `No_of_Credits_at_this_Bank`: Jumlah kredit yang sedang berjalan pada bank ini\n",
    "\n",
    "Sebelum masuk pada tahap pembuatan model, kita akan melakukan EDA untuk mengetahui variabel prediktor yang perlu dimasukkan dalam model dan yang tidak.\n",
    "\n",
    "### Wrangling Data\n",
    "\n",
    "#### Mengubah tipe data\n",
    "\n",
    "Sebelum melakukan perubahan tipe data, silakan cek terlebih dahulu jenis tipe datanya dengan menggunakan method `dtypes`/`info()`"
   ]
  },
  {
   "cell_type": "code",
   "execution_count": 28,
   "id": "ddfe74b2",
   "metadata": {
    "execution": {
     "iopub.execute_input": "2024-01-09T09:21:36.159744Z",
     "iopub.status.busy": "2024-01-09T09:21:36.159744Z",
     "iopub.status.idle": "2024-01-09T09:21:36.190737Z",
     "shell.execute_reply": "2024-01-09T09:21:36.188733Z",
     "shell.execute_reply.started": "2024-01-09T09:21:36.159744Z"
    }
   },
   "outputs": [
    {
     "name": "stdout",
     "output_type": "stream",
     "text": [
      "<class 'pandas.core.frame.DataFrame'>\n",
      "Index: 1000 entries, 0 to 999\n",
      "Data columns (total 11 columns):\n",
      " #   Column                             Non-Null Count  Dtype   \n",
      "---  ------                             --------------  -----   \n",
      " 0   Creditability                      1000 non-null   int64   \n",
      " 1   Account_Balance                    1000 non-null   category\n",
      " 2   Duration_of_Credit_monthly         1000 non-null   int64   \n",
      " 3   Payment_Status_of_Previous_Credit  1000 non-null   category\n",
      " 4   Credit_Amount                      1000 non-null   int64   \n",
      " 5   Length_of_current_employment       1000 non-null   int64   \n",
      " 6   Guarantors                         1000 non-null   category\n",
      " 7   Duration_in_Current_address        1000 non-null   int64   \n",
      " 8   Age_years                          1000 non-null   int64   \n",
      " 9   Concurrent_Credits                 1000 non-null   category\n",
      " 10  No_of_Credits_at_this_Bank         1000 non-null   int64   \n",
      "dtypes: category(4), int64(7)\n",
      "memory usage: 67.0 KB\n"
     ]
    }
   ],
   "source": [
    "# # list berisi nama kolom yang ingin diubah dalam format sama\n",
    "cat = ['Account_Balance', 'Payment_Status_of_Previous_Credit', 'Guarantors', 'Concurrent_Credits']\n",
    "\n",
    "# # Mengubah tipe data beberapa kolom\n",
    "credit[cat] = credit[cat].astype('category')\n",
    "\n",
    "# # cek kembali tipe data\n",
    "credit.info()"
   ]
  },
  {
   "cell_type": "markdown",
   "id": "23f2b0ec",
   "metadata": {},
   "source": [
    "### Exploratory Data Analysis\n",
    "\n",
    "Mari lakukan analisis korelasi antar kolom numerik pada dataset kita. Sebelumnya, pastikan bahwa Anda telah memilih kolom-kolom yang bersifat numerik untuk dimasukkan dalam perhitungan korelasi. \n",
    "\n",
    "Proses ini akan membantu kita memahami hubungan statistik antara variabel-variabel numerik dalam dataset, sehingga kita dapat mendapatkan wawasan yang lebih mendalam terkait dengan pola atau asosiasi yang mungkin ada di antara mereka."
   ]
  },
  {
   "cell_type": "code",
   "execution_count": 29,
   "id": "907770e9",
   "metadata": {
    "execution": {
     "iopub.execute_input": "2024-01-09T09:21:37.739996Z",
     "iopub.status.busy": "2024-01-09T09:21:37.738998Z",
     "iopub.status.idle": "2024-01-09T09:21:37.757989Z",
     "shell.execute_reply": "2024-01-09T09:21:37.756987Z",
     "shell.execute_reply.started": "2024-01-09T09:21:37.739996Z"
    }
   },
   "outputs": [
    {
     "data": {
      "text/html": [
       "<div>\n",
       "<style scoped>\n",
       "    .dataframe tbody tr th:only-of-type {\n",
       "        vertical-align: middle;\n",
       "    }\n",
       "\n",
       "    .dataframe tbody tr th {\n",
       "        vertical-align: top;\n",
       "    }\n",
       "\n",
       "    .dataframe thead th {\n",
       "        text-align: right;\n",
       "    }\n",
       "</style>\n",
       "<table border=\"1\" class=\"dataframe\">\n",
       "  <thead>\n",
       "    <tr style=\"text-align: right;\">\n",
       "      <th></th>\n",
       "      <th>Creditability</th>\n",
       "      <th>Duration_of_Credit_monthly</th>\n",
       "      <th>Credit_Amount</th>\n",
       "      <th>Length_of_current_employment</th>\n",
       "      <th>Duration_in_Current_address</th>\n",
       "      <th>Age_years</th>\n",
       "      <th>No_of_Credits_at_this_Bank</th>\n",
       "    </tr>\n",
       "  </thead>\n",
       "  <tbody>\n",
       "    <tr>\n",
       "      <th>Creditability</th>\n",
       "      <td>1.000000</td>\n",
       "      <td>-0.214927</td>\n",
       "      <td>-0.154740</td>\n",
       "      <td>0.116002</td>\n",
       "      <td>-0.002967</td>\n",
       "      <td>0.091272</td>\n",
       "      <td>0.045732</td>\n",
       "    </tr>\n",
       "    <tr>\n",
       "      <th>Duration_of_Credit_monthly</th>\n",
       "      <td>-0.214927</td>\n",
       "      <td>1.000000</td>\n",
       "      <td>0.624988</td>\n",
       "      <td>0.057381</td>\n",
       "      <td>0.034067</td>\n",
       "      <td>-0.037550</td>\n",
       "      <td>-0.011284</td>\n",
       "    </tr>\n",
       "    <tr>\n",
       "      <th>Credit_Amount</th>\n",
       "      <td>-0.154740</td>\n",
       "      <td>0.624988</td>\n",
       "      <td>1.000000</td>\n",
       "      <td>-0.008376</td>\n",
       "      <td>0.028917</td>\n",
       "      <td>0.032273</td>\n",
       "      <td>0.020785</td>\n",
       "    </tr>\n",
       "    <tr>\n",
       "      <th>Length_of_current_employment</th>\n",
       "      <td>0.116002</td>\n",
       "      <td>0.057381</td>\n",
       "      <td>-0.008376</td>\n",
       "      <td>1.000000</td>\n",
       "      <td>0.245081</td>\n",
       "      <td>0.259116</td>\n",
       "      <td>0.125791</td>\n",
       "    </tr>\n",
       "    <tr>\n",
       "      <th>Duration_in_Current_address</th>\n",
       "      <td>-0.002967</td>\n",
       "      <td>0.034067</td>\n",
       "      <td>0.028917</td>\n",
       "      <td>0.245081</td>\n",
       "      <td>1.000000</td>\n",
       "      <td>0.265626</td>\n",
       "      <td>0.089625</td>\n",
       "    </tr>\n",
       "    <tr>\n",
       "      <th>Age_years</th>\n",
       "      <td>0.091272</td>\n",
       "      <td>-0.037550</td>\n",
       "      <td>0.032273</td>\n",
       "      <td>0.259116</td>\n",
       "      <td>0.265626</td>\n",
       "      <td>1.000000</td>\n",
       "      <td>0.150718</td>\n",
       "    </tr>\n",
       "    <tr>\n",
       "      <th>No_of_Credits_at_this_Bank</th>\n",
       "      <td>0.045732</td>\n",
       "      <td>-0.011284</td>\n",
       "      <td>0.020785</td>\n",
       "      <td>0.125791</td>\n",
       "      <td>0.089625</td>\n",
       "      <td>0.150718</td>\n",
       "      <td>1.000000</td>\n",
       "    </tr>\n",
       "  </tbody>\n",
       "</table>\n",
       "</div>"
      ],
      "text/plain": [
       "                              Creditability  Duration_of_Credit_monthly  \\\n",
       "Creditability                      1.000000                   -0.214927   \n",
       "Duration_of_Credit_monthly        -0.214927                    1.000000   \n",
       "Credit_Amount                     -0.154740                    0.624988   \n",
       "Length_of_current_employment       0.116002                    0.057381   \n",
       "Duration_in_Current_address       -0.002967                    0.034067   \n",
       "Age_years                          0.091272                   -0.037550   \n",
       "No_of_Credits_at_this_Bank         0.045732                   -0.011284   \n",
       "\n",
       "                              Credit_Amount  Length_of_current_employment  \\\n",
       "Creditability                     -0.154740                      0.116002   \n",
       "Duration_of_Credit_monthly         0.624988                      0.057381   \n",
       "Credit_Amount                      1.000000                     -0.008376   \n",
       "Length_of_current_employment      -0.008376                      1.000000   \n",
       "Duration_in_Current_address        0.028917                      0.245081   \n",
       "Age_years                          0.032273                      0.259116   \n",
       "No_of_Credits_at_this_Bank         0.020785                      0.125791   \n",
       "\n",
       "                              Duration_in_Current_address  Age_years  \\\n",
       "Creditability                                   -0.002967   0.091272   \n",
       "Duration_of_Credit_monthly                       0.034067  -0.037550   \n",
       "Credit_Amount                                    0.028917   0.032273   \n",
       "Length_of_current_employment                     0.245081   0.259116   \n",
       "Duration_in_Current_address                      1.000000   0.265626   \n",
       "Age_years                                        0.265626   1.000000   \n",
       "No_of_Credits_at_this_Bank                       0.089625   0.150718   \n",
       "\n",
       "                              No_of_Credits_at_this_Bank  \n",
       "Creditability                                   0.045732  \n",
       "Duration_of_Credit_monthly                     -0.011284  \n",
       "Credit_Amount                                   0.020785  \n",
       "Length_of_current_employment                    0.125791  \n",
       "Duration_in_Current_address                     0.089625  \n",
       "Age_years                                       0.150718  \n",
       "No_of_Credits_at_this_Bank                      1.000000  "
      ]
     },
     "execution_count": 29,
     "metadata": {},
     "output_type": "execute_result"
    }
   ],
   "source": [
    "credit.corr(numeric_only=True)"
   ]
  },
  {
   "cell_type": "markdown",
   "id": "d7496797",
   "metadata": {},
   "source": [
    "**Soal 1: Mana dari berikut ini adalah pasangan variabel dengan korelasi tertinggi?**\n",
    "\n",
    "- [x] A. `Duration_of_Credit_monthly` dan `Credit_Amount`\n",
    "- [ ] B. `Credit_Amount` dan `Length_of_current_employment`\n",
    "- [ ] C. `Duration_in_Current_address` dan `No_of_Credits_at_this_Bank`\n",
    "- [ ] D. `Age_years` dan `No_of_Credits_at_this_Bank`"
   ]
  },
  {
   "cell_type": "markdown",
   "id": "0e1143d1",
   "metadata": {},
   "source": [
    "###  Data Pre-Processing\n",
    "\n",
    "Terdapat 2 hal yang biasanya dilakukan pada tahapan data pre-processing yaitu **Dummy Variable Encoding** dan juga **Cross Validation**"
   ]
  },
  {
   "cell_type": "markdown",
   "id": "de55b0f4",
   "metadata": {},
   "source": [
    "####  Dummy Variable Encoding \n",
    "\n",
    "Variabel yang kita miliki terdapat variabel dengan tipe data category, oleh karena itu kita perlu membuat dummy variabel terlebih dahulu. Untuk algoritma Logistic Regression, karena masih terdapat asumsi multicolinearity, maka yang akan dipakai adalah dummy variable. \n",
    "    \n",
    "Mari lakukan metode tersebut dengan memanfaatkan fungsi berikut ini `pd.get_dummies()` dan mengisinya dengan beberapa parameter antara lain:\n",
    "\n",
    "- `data`: dataset/dataframe yang ingin diubah menjadi numerikal\n",
    "- `columns`: list kolom yang akan dilakukan dummy variable encoding\n",
    "- `drop_first`: apakah ingin drop kolom pertama. Default False. Namun akan kita atur sebagai True agar kolom hasil dummies tidak redundan\n",
    "- `dtype` = memasukan tipe data yang ingin di-isi"
   ]
  },
  {
   "cell_type": "markdown",
   "id": "4d54af5b",
   "metadata": {},
   "source": [
    "Alasan lain kenapa kita melakukan encoding: komputer tidak mengenali bahasa natural manusia seperti bahasa Inggris, Bahasa Indonesia, dll. Komputer hanya mengenal angka."
   ]
  },
  {
   "cell_type": "code",
   "execution_count": 30,
   "id": "bfb786bc",
   "metadata": {
    "execution": {
     "iopub.execute_input": "2024-01-09T09:21:43.191869Z",
     "iopub.status.busy": "2024-01-09T09:21:43.190858Z",
     "iopub.status.idle": "2024-01-09T09:21:43.208218Z",
     "shell.execute_reply": "2024-01-09T09:21:43.207214Z",
     "shell.execute_reply.started": "2024-01-09T09:21:43.191869Z"
    }
   },
   "outputs": [],
   "source": [
    "# # code here\n",
    "credit_enc = pd.get_dummies(data = credit, \n",
    "                             columns = cat,\n",
    "                             drop_first = True,\n",
    "                             dtype ='int')"
   ]
  },
  {
   "cell_type": "markdown",
   "id": "1f188bf1",
   "metadata": {},
   "source": [
    "### Train-Test Splitting"
   ]
  },
  {
   "cell_type": "markdown",
   "id": "476464d6",
   "metadata": {},
   "source": [
    "Berikut adalah langkah-langkah yang akan kita lakukan selanjutnya dalam proses ini: \n",
    "\n",
    "Pertama, kita akan mempersiapkan data dengan menentukan variabel `X` dan `y`. \n",
    "\n",
    "Selanjutnya, kita akan melakukan train-test splitting menggunakan fungsi `train_test_split()`, di mana kita akan mengalokasikan 20% dari data sebagai data uji. Dengan ketentuan sebagai berikut:\n",
    "- **`random_state=123`** untuk memastikan reproduktivitas. \n",
    "- **`stratify = y`** untuk memastikan distribusi kelas yang seimbang dalam set data uji."
   ]
  },
  {
   "cell_type": "code",
   "execution_count": 40,
   "id": "bafa0083",
   "metadata": {
    "execution": {
     "iopub.execute_input": "2024-01-09T09:34:57.999675Z",
     "iopub.status.busy": "2024-01-09T09:34:57.999675Z",
     "iopub.status.idle": "2024-01-09T09:34:58.026671Z",
     "shell.execute_reply": "2024-01-09T09:34:58.025670Z",
     "shell.execute_reply.started": "2024-01-09T09:34:57.999675Z"
    }
   },
   "outputs": [],
   "source": [
    "from sklearn.model_selection import train_test_split\n",
    "\n",
    "X = sm.add_constant(credit_enc.drop(columns='Creditability'))\n",
    "y = credit_enc['Creditability']\n",
    "\n",
    "X_train, X_test, y_train, y_test = train_test_split(X, # kolom prediktor\n",
    "                                                   y, # kolom target\n",
    "                                                   test_size = 0.2, # 80% training and 20% test\n",
    "                                                   random_state = 123,\n",
    "                                                   stratify=y)"
   ]
  },
  {
   "cell_type": "markdown",
   "id": "4280d347",
   "metadata": {},
   "source": [
    "**Soal 2: Mengapa kita melakukan train-test splitting pada data?**\n",
    "\n",
    "- [ ] A. Agar model memiliki lebih banyak data untuk training\n",
    "- [ ] B. Untuk menguji model pada data yang sama dengan yang digunakan untuk pelatihan\n",
    "- [x] C. Menghindari overfitting dan mengukur kinerja model pada data yang belum pernah dilihat\n",
    "- [ ] D. Menyederhanakan proses analisis data\n"
   ]
  },
  {
   "cell_type": "markdown",
   "id": "bc5055c9",
   "metadata": {},
   "source": [
    "### Feature Scaling\n",
    "\n",
    "Setelah itu, langkah selanjutnya yang perlu diperhatikan adalah memastikan bahwa skala data yang digunakan dalam model logistik regresi seragam. Hal ini penting karena perbedaan skala pada variabel-variabel dapat memengaruhi kinerja model. \n",
    "\n",
    "Oleh karena itu, kita akan melakukan proses scaling menggunakan metode `StandarScaler()`. \n",
    "\n",
    "Pastikan untuk menggunakan metode `fit_transform` pada data pelatihan (`X_train`). Selanjutnya, kita akan menerapkan transformasi menggunakan metode `transform` pada data uji (`X_test`) \n",
    "\n",
    "Dengan cara ini, kita dapat memastikan konsistensi skala data yang digunakan oleh model logistik regresi untuk hasil yang lebih akurat dan stabil."
   ]
  },
  {
   "cell_type": "code",
   "execution_count": 33,
   "id": "0f3f1857",
   "metadata": {
    "execution": {
     "iopub.execute_input": "2024-01-09T09:21:58.985546Z",
     "iopub.status.busy": "2024-01-09T09:21:58.984555Z",
     "iopub.status.idle": "2024-01-09T09:21:58.997546Z",
     "shell.execute_reply": "2024-01-09T09:21:58.996546Z",
     "shell.execute_reply.started": "2024-01-09T09:21:58.985546Z"
    }
   },
   "outputs": [
    {
     "data": {
      "text/html": [
       "<style>#sk-container-id-4 {color: black;}#sk-container-id-4 pre{padding: 0;}#sk-container-id-4 div.sk-toggleable {background-color: white;}#sk-container-id-4 label.sk-toggleable__label {cursor: pointer;display: block;width: 100%;margin-bottom: 0;padding: 0.3em;box-sizing: border-box;text-align: center;}#sk-container-id-4 label.sk-toggleable__label-arrow:before {content: \"▸\";float: left;margin-right: 0.25em;color: #696969;}#sk-container-id-4 label.sk-toggleable__label-arrow:hover:before {color: black;}#sk-container-id-4 div.sk-estimator:hover label.sk-toggleable__label-arrow:before {color: black;}#sk-container-id-4 div.sk-toggleable__content {max-height: 0;max-width: 0;overflow: hidden;text-align: left;background-color: #f0f8ff;}#sk-container-id-4 div.sk-toggleable__content pre {margin: 0.2em;color: black;border-radius: 0.25em;background-color: #f0f8ff;}#sk-container-id-4 input.sk-toggleable__control:checked~div.sk-toggleable__content {max-height: 200px;max-width: 100%;overflow: auto;}#sk-container-id-4 input.sk-toggleable__control:checked~label.sk-toggleable__label-arrow:before {content: \"▾\";}#sk-container-id-4 div.sk-estimator input.sk-toggleable__control:checked~label.sk-toggleable__label {background-color: #d4ebff;}#sk-container-id-4 div.sk-label input.sk-toggleable__control:checked~label.sk-toggleable__label {background-color: #d4ebff;}#sk-container-id-4 input.sk-hidden--visually {border: 0;clip: rect(1px 1px 1px 1px);clip: rect(1px, 1px, 1px, 1px);height: 1px;margin: -1px;overflow: hidden;padding: 0;position: absolute;width: 1px;}#sk-container-id-4 div.sk-estimator {font-family: monospace;background-color: #f0f8ff;border: 1px dotted black;border-radius: 0.25em;box-sizing: border-box;margin-bottom: 0.5em;}#sk-container-id-4 div.sk-estimator:hover {background-color: #d4ebff;}#sk-container-id-4 div.sk-parallel-item::after {content: \"\";width: 100%;border-bottom: 1px solid gray;flex-grow: 1;}#sk-container-id-4 div.sk-label:hover label.sk-toggleable__label {background-color: #d4ebff;}#sk-container-id-4 div.sk-serial::before {content: \"\";position: absolute;border-left: 1px solid gray;box-sizing: border-box;top: 0;bottom: 0;left: 50%;z-index: 0;}#sk-container-id-4 div.sk-serial {display: flex;flex-direction: column;align-items: center;background-color: white;padding-right: 0.2em;padding-left: 0.2em;position: relative;}#sk-container-id-4 div.sk-item {position: relative;z-index: 1;}#sk-container-id-4 div.sk-parallel {display: flex;align-items: stretch;justify-content: center;background-color: white;position: relative;}#sk-container-id-4 div.sk-item::before, #sk-container-id-4 div.sk-parallel-item::before {content: \"\";position: absolute;border-left: 1px solid gray;box-sizing: border-box;top: 0;bottom: 0;left: 50%;z-index: -1;}#sk-container-id-4 div.sk-parallel-item {display: flex;flex-direction: column;z-index: 1;position: relative;background-color: white;}#sk-container-id-4 div.sk-parallel-item:first-child::after {align-self: flex-end;width: 50%;}#sk-container-id-4 div.sk-parallel-item:last-child::after {align-self: flex-start;width: 50%;}#sk-container-id-4 div.sk-parallel-item:only-child::after {width: 0;}#sk-container-id-4 div.sk-dashed-wrapped {border: 1px dashed gray;margin: 0 0.4em 0.5em 0.4em;box-sizing: border-box;padding-bottom: 0.4em;background-color: white;}#sk-container-id-4 div.sk-label label {font-family: monospace;font-weight: bold;display: inline-block;line-height: 1.2em;}#sk-container-id-4 div.sk-label-container {text-align: center;}#sk-container-id-4 div.sk-container {/* jupyter's `normalize.less` sets `[hidden] { display: none; }` but bootstrap.min.css set `[hidden] { display: none !important; }` so we also need the `!important` here to be able to override the default hidden behavior on the sphinx rendered scikit-learn.org. See: https://github.com/scikit-learn/scikit-learn/issues/21755 */display: inline-block !important;position: relative;}#sk-container-id-4 div.sk-text-repr-fallback {display: none;}</style><div id=\"sk-container-id-4\" class=\"sk-top-container\"><div class=\"sk-text-repr-fallback\"><pre>StandardScaler()</pre><b>In a Jupyter environment, please rerun this cell to show the HTML representation or trust the notebook. <br />On GitHub, the HTML representation is unable to render, please try loading this page with nbviewer.org.</b></div><div class=\"sk-container\" hidden><div class=\"sk-item\"><div class=\"sk-estimator sk-toggleable\"><input class=\"sk-toggleable__control sk-hidden--visually\" id=\"sk-estimator-id-4\" type=\"checkbox\" checked><label for=\"sk-estimator-id-4\" class=\"sk-toggleable__label sk-toggleable__label-arrow\">StandardScaler</label><div class=\"sk-toggleable__content\"><pre>StandardScaler()</pre></div></div></div></div></div>"
      ],
      "text/plain": [
       "StandardScaler()"
      ]
     },
     "execution_count": 33,
     "metadata": {},
     "output_type": "execute_result"
    }
   ],
   "source": [
    "from sklearn.preprocessing import StandardScaler\n",
    "\n",
    "scaler = StandardScaler()\n",
    "scaler.fit(X_train)"
   ]
  },
  {
   "cell_type": "code",
   "execution_count": 34,
   "id": "c191040c",
   "metadata": {
    "execution": {
     "iopub.execute_input": "2024-01-09T09:22:01.118620Z",
     "iopub.status.busy": "2024-01-09T09:22:01.117624Z",
     "iopub.status.idle": "2024-01-09T09:22:01.136025Z",
     "shell.execute_reply": "2024-01-09T09:22:01.135027Z",
     "shell.execute_reply.started": "2024-01-09T09:22:01.118620Z"
    }
   },
   "outputs": [],
   "source": [
    "# # transform\n",
    "X_train_scale = scaler.transform(X_train)\n",
    "X_test_scale = scaler.transform(X_test)"
   ]
  },
  {
   "cell_type": "markdown",
   "id": "9f86090b",
   "metadata": {},
   "source": [
    "**Soal 3: Mengapa feature scaling di scikit-learn pada data train menggunakan `fit_transform` sedangkan pada data test menggunakan `transform`?**\n",
    "\n",
    "- [ ] A. Untuk memastikan data test memiliki distribusi yang serupa dengan data train\n",
    "- [x] B. Agar skala fitur dihitung berdasarkan data train, dan kemudian diterapkan pada data test tanpa mengubah distribusi data test\n",
    "- [ ] C. Karena transformasi yang berbeda diperlukan untuk data train dan test\n",
    "- [ ] D. Ini adalah konvensi yang umum digunakan dalam pemrosesan data\n",
    "\n"
   ]
  },
  {
   "cell_type": "markdown",
   "id": "aa9d158b",
   "metadata": {},
   "source": [
    "### Model Fitting"
   ]
  },
  {
   "cell_type": "markdown",
   "id": "59bf6343",
   "metadata": {},
   "source": [
    "Selanjutnya, mari kita lanjutkan dengan pembuatan model regresi logistik menggunakan fungsi `LogisticRegression()`. \n",
    "\n",
    "Setelah proses tersebut, kita akan melakukan fitting model pada dataset yang telah melalui tahap scaling."
   ]
  },
  {
   "cell_type": "code",
   "execution_count": 35,
   "id": "95c67370",
   "metadata": {
    "execution": {
     "iopub.execute_input": "2024-01-09T09:22:03.968623Z",
     "iopub.status.busy": "2024-01-09T09:22:03.967625Z",
     "iopub.status.idle": "2024-01-09T09:22:03.992743Z",
     "shell.execute_reply": "2024-01-09T09:22:03.991744Z",
     "shell.execute_reply.started": "2024-01-09T09:22:03.968623Z"
    }
   },
   "outputs": [
    {
     "data": {
      "text/html": [
       "<style>#sk-container-id-5 {color: black;}#sk-container-id-5 pre{padding: 0;}#sk-container-id-5 div.sk-toggleable {background-color: white;}#sk-container-id-5 label.sk-toggleable__label {cursor: pointer;display: block;width: 100%;margin-bottom: 0;padding: 0.3em;box-sizing: border-box;text-align: center;}#sk-container-id-5 label.sk-toggleable__label-arrow:before {content: \"▸\";float: left;margin-right: 0.25em;color: #696969;}#sk-container-id-5 label.sk-toggleable__label-arrow:hover:before {color: black;}#sk-container-id-5 div.sk-estimator:hover label.sk-toggleable__label-arrow:before {color: black;}#sk-container-id-5 div.sk-toggleable__content {max-height: 0;max-width: 0;overflow: hidden;text-align: left;background-color: #f0f8ff;}#sk-container-id-5 div.sk-toggleable__content pre {margin: 0.2em;color: black;border-radius: 0.25em;background-color: #f0f8ff;}#sk-container-id-5 input.sk-toggleable__control:checked~div.sk-toggleable__content {max-height: 200px;max-width: 100%;overflow: auto;}#sk-container-id-5 input.sk-toggleable__control:checked~label.sk-toggleable__label-arrow:before {content: \"▾\";}#sk-container-id-5 div.sk-estimator input.sk-toggleable__control:checked~label.sk-toggleable__label {background-color: #d4ebff;}#sk-container-id-5 div.sk-label input.sk-toggleable__control:checked~label.sk-toggleable__label {background-color: #d4ebff;}#sk-container-id-5 input.sk-hidden--visually {border: 0;clip: rect(1px 1px 1px 1px);clip: rect(1px, 1px, 1px, 1px);height: 1px;margin: -1px;overflow: hidden;padding: 0;position: absolute;width: 1px;}#sk-container-id-5 div.sk-estimator {font-family: monospace;background-color: #f0f8ff;border: 1px dotted black;border-radius: 0.25em;box-sizing: border-box;margin-bottom: 0.5em;}#sk-container-id-5 div.sk-estimator:hover {background-color: #d4ebff;}#sk-container-id-5 div.sk-parallel-item::after {content: \"\";width: 100%;border-bottom: 1px solid gray;flex-grow: 1;}#sk-container-id-5 div.sk-label:hover label.sk-toggleable__label {background-color: #d4ebff;}#sk-container-id-5 div.sk-serial::before {content: \"\";position: absolute;border-left: 1px solid gray;box-sizing: border-box;top: 0;bottom: 0;left: 50%;z-index: 0;}#sk-container-id-5 div.sk-serial {display: flex;flex-direction: column;align-items: center;background-color: white;padding-right: 0.2em;padding-left: 0.2em;position: relative;}#sk-container-id-5 div.sk-item {position: relative;z-index: 1;}#sk-container-id-5 div.sk-parallel {display: flex;align-items: stretch;justify-content: center;background-color: white;position: relative;}#sk-container-id-5 div.sk-item::before, #sk-container-id-5 div.sk-parallel-item::before {content: \"\";position: absolute;border-left: 1px solid gray;box-sizing: border-box;top: 0;bottom: 0;left: 50%;z-index: -1;}#sk-container-id-5 div.sk-parallel-item {display: flex;flex-direction: column;z-index: 1;position: relative;background-color: white;}#sk-container-id-5 div.sk-parallel-item:first-child::after {align-self: flex-end;width: 50%;}#sk-container-id-5 div.sk-parallel-item:last-child::after {align-self: flex-start;width: 50%;}#sk-container-id-5 div.sk-parallel-item:only-child::after {width: 0;}#sk-container-id-5 div.sk-dashed-wrapped {border: 1px dashed gray;margin: 0 0.4em 0.5em 0.4em;box-sizing: border-box;padding-bottom: 0.4em;background-color: white;}#sk-container-id-5 div.sk-label label {font-family: monospace;font-weight: bold;display: inline-block;line-height: 1.2em;}#sk-container-id-5 div.sk-label-container {text-align: center;}#sk-container-id-5 div.sk-container {/* jupyter's `normalize.less` sets `[hidden] { display: none; }` but bootstrap.min.css set `[hidden] { display: none !important; }` so we also need the `!important` here to be able to override the default hidden behavior on the sphinx rendered scikit-learn.org. See: https://github.com/scikit-learn/scikit-learn/issues/21755 */display: inline-block !important;position: relative;}#sk-container-id-5 div.sk-text-repr-fallback {display: none;}</style><div id=\"sk-container-id-5\" class=\"sk-top-container\"><div class=\"sk-text-repr-fallback\"><pre>LogisticRegression(random_state=123)</pre><b>In a Jupyter environment, please rerun this cell to show the HTML representation or trust the notebook. <br />On GitHub, the HTML representation is unable to render, please try loading this page with nbviewer.org.</b></div><div class=\"sk-container\" hidden><div class=\"sk-item\"><div class=\"sk-estimator sk-toggleable\"><input class=\"sk-toggleable__control sk-hidden--visually\" id=\"sk-estimator-id-5\" type=\"checkbox\" checked><label for=\"sk-estimator-id-5\" class=\"sk-toggleable__label sk-toggleable__label-arrow\">LogisticRegression</label><div class=\"sk-toggleable__content\"><pre>LogisticRegression(random_state=123)</pre></div></div></div></div></div>"
      ],
      "text/plain": [
       "LogisticRegression(random_state=123)"
      ]
     },
     "execution_count": 35,
     "metadata": {},
     "output_type": "execute_result"
    }
   ],
   "source": [
    "from sklearn.linear_model import LogisticRegression\n",
    "\n",
    "# # Definisikan untuk Inisialisasi model Logistic Regression.\n",
    "class_lr = LogisticRegression(random_state=123)\n",
    "\n",
    "# # Fit (melatih) model dengan data pelatihan \n",
    "class_lr.fit(X_train_scale, y_train)"
   ]
  },
  {
   "cell_type": "markdown",
   "id": "bf179564",
   "metadata": {},
   "source": [
    "### Model Prediction\n",
    "\n",
    "Setelah berhasil membuat model, langkah berikutnya adalah melakukan prediksi pada dataset uji (`X_test_scale`) menggunakan fungsi `predict()`. Setelah mendapatkan hasil prediksi, kita akan menampilkan proporsi kelas dari hasil prediksi tersebut menggunakan fungsi `value_counts()`. Sebelumnya, perlu dilakukan transformasi hasil prediksi menjadi objek Series menggunakan fungsi `pd.Series()`. Dengan demikian, kita dapat dengan lebih mudah menganalisis distribusi kelas pada hasil prediksi model regresi logistik tersebut."
   ]
  },
  {
   "cell_type": "code",
   "execution_count": 36,
   "id": "3898cff4",
   "metadata": {
    "execution": {
     "iopub.execute_input": "2024-01-09T09:22:05.715975Z",
     "iopub.status.busy": "2024-01-09T09:22:05.714979Z",
     "iopub.status.idle": "2024-01-09T09:22:05.725968Z",
     "shell.execute_reply": "2024-01-09T09:22:05.724970Z",
     "shell.execute_reply.started": "2024-01-09T09:22:05.715975Z"
    }
   },
   "outputs": [
    {
     "data": {
      "text/plain": [
       "1    168\n",
       "0     32\n",
       "Name: count, dtype: int64"
      ]
     },
     "execution_count": 36,
     "metadata": {},
     "output_type": "execute_result"
    }
   ],
   "source": [
    "# # Prediksi data\n",
    "y_pred_class = class_lr.predict(X_test_scale)\n",
    "\n",
    "# # Menampilkan distribusi kelas hasil prediksi\n",
    "pd.Series(y_pred_class).value_counts()"
   ]
  },
  {
   "cell_type": "markdown",
   "id": "3084282a",
   "metadata": {},
   "source": [
    "**Soal 4: Bagaimana distribusi data hasil prediksi yang dihasilkan pada model `class_lr` kita untuk setiap kelas?**\n",
    "\n",
    "- [x] A. Kelas 0 = 168, Kelas 1 = 32 \n",
    "- [ ] B. Kelas 0 = 182, Kelas 1 = 18\n",
    "- [ ] C. Kelas 0 = 32, Kelas 1 = 168\n",
    "- [ ] D. Kelas 0 = 18, Kelas 1 = 182"
   ]
  },
  {
   "cell_type": "markdown",
   "id": "448a7d88",
   "metadata": {},
   "source": [
    "### Model Evaluation\n",
    "\n",
    "Selain itu, untuk memastikan keefektifan dan kehandalan model yang telah dibuat, penting bagi kita untuk melakukan evaluasi model. Evaluasi ini dapat melibatkan pengukuran sejumlah metrik performa, seperti akurasi, presisi, dan recall. Untuk melakukan pengukuran ini, kita dapat memanfaatkan modul `metrics` dari pustaka scikit-learn dengan mengimpor `from sklearn import metrics`. Dengan menghitung nilai-nilai akurasi, presisi, dan recall, kita dapat memperoleh pemahaman yang lebih komprehensif tentang sejauh mana model kita dapat mengklasifikasikan data dengan benar dan efisien. Ini merupakan langkah penting dalam mengevaluasi kecanggihan model regresi logistik yang telah kita bangun."
   ]
  },
  {
   "cell_type": "code",
   "execution_count": 37,
   "id": "5ec69e90",
   "metadata": {
    "execution": {
     "iopub.execute_input": "2024-01-09T09:22:29.394217Z",
     "iopub.status.busy": "2024-01-09T09:22:29.393222Z",
     "iopub.status.idle": "2024-01-09T09:22:29.411223Z",
     "shell.execute_reply": "2024-01-09T09:22:29.410222Z",
     "shell.execute_reply.started": "2024-01-09T09:22:29.394217Z"
    }
   },
   "outputs": [],
   "source": [
    "from sklearn import metrics\n",
    "\n",
    "# # Menghitung akurasi\n",
    "accuracy_lr = metrics.accuracy_score(y_test, y_pred_class)\n",
    "\n",
    "# # Menghitung presisi\n",
    "precision_lr = metrics.precision_score(y_test, y_pred_class)\n",
    "\n",
    "# # Menghitung recall\n",
    "recall_lr = metrics.recall_score(y_test, y_pred_class)"
   ]
  },
  {
   "cell_type": "code",
   "execution_count": 38,
   "id": "266fc3b8",
   "metadata": {
    "execution": {
     "iopub.execute_input": "2024-01-09T09:22:32.980330Z",
     "iopub.status.busy": "2024-01-09T09:22:32.980330Z",
     "iopub.status.idle": "2024-01-09T09:22:33.000673Z",
     "shell.execute_reply": "2024-01-09T09:22:32.999673Z",
     "shell.execute_reply.started": "2024-01-09T09:22:32.980330Z"
    }
   },
   "outputs": [
    {
     "name": "stdout",
     "output_type": "stream",
     "text": [
      "0.72\n",
      "0.75\n",
      "0.9\n"
     ]
    }
   ],
   "source": [
    "print(accuracy_lr)\n",
    "print(precision_lr)\n",
    "print(recall_lr)"
   ]
  },
  {
   "cell_type": "code",
   "execution_count": 39,
   "id": "e6c6ed43-b804-4ffd-8a48-530ec9b17f8b",
   "metadata": {
    "execution": {
     "iopub.execute_input": "2024-01-09T09:23:51.344347Z",
     "iopub.status.busy": "2024-01-09T09:23:51.344347Z",
     "iopub.status.idle": "2024-01-09T09:23:51.366673Z",
     "shell.execute_reply": "2024-01-09T09:23:51.365669Z",
     "shell.execute_reply.started": "2024-01-09T09:23:51.344347Z"
    }
   },
   "outputs": [
    {
     "data": {
      "text/plain": [
       "Creditability\n",
       "1    700\n",
       "0    300\n",
       "Name: count, dtype: int64"
      ]
     },
     "execution_count": 39,
     "metadata": {},
     "output_type": "execute_result"
    }
   ],
   "source": [
    "y.value_counts()"
   ]
  },
  {
   "cell_type": "markdown",
   "id": "4c31aa89",
   "metadata": {},
   "source": [
    "**Soal 5: Sebagai seorang yang bekerja dalam analisis risiko kredit, metrik evaluasi mana yang paling relevan untuk menilai kemampuan model dalam mendeteksi kredit yang berpotensi bermasalah?**\n",
    "\n",
    "   - [x] A. Recall\n",
    "   - [ ] B. Specificity\n",
    "   - [ ] C. Accuracy\n",
    "   - [ ] D. Precision\n"
   ]
  }
 ],
 "metadata": {
  "kernelspec": {
   "display_name": "Python 3 (ipykernel)",
   "language": "python",
   "name": "python3"
  },
  "language_info": {
   "codemirror_mode": {
    "name": "ipython",
    "version": 3
   },
   "file_extension": ".py",
   "mimetype": "text/x-python",
   "name": "python",
   "nbconvert_exporter": "python",
   "pygments_lexer": "ipython3",
   "version": "3.8.18"
  },
  "toc": {
   "base_numbering": 1,
   "nav_menu": {},
   "number_sections": false,
   "sideBar": true,
   "skip_h1_title": false,
   "title_cell": "Table of Contents",
   "title_sidebar": "Contents",
   "toc_cell": false,
   "toc_position": {},
   "toc_section_display": true,
   "toc_window_display": true
  }
 },
 "nbformat": 4,
 "nbformat_minor": 5
}
