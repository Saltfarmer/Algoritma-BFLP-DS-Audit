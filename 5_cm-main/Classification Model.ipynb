{
 "cells": [
  {
   "cell_type": "markdown",
   "id": "0ac9f138",
   "metadata": {},
   "source": [
    "**Coursebook: Classification in Machine Learning**\n",
    "\n",
    "- Bagian 5 Audit Analytics untuk Bank Rakyat Indonesia\n",
    "- Durasi: 7 Jam\n",
    "- *Last Updated*: December 2023\n",
    "\n",
    "___\n",
    "\n",
    "\n",
    "- *Coursebook* ini disusun dan dikurasi oleh tim produk dan instruktur dari [Algoritma Data Science School](https://algorit.ma/)"
   ]
  },
  {
   "cell_type": "markdown",
   "id": "f4967853",
   "metadata": {},
   "source": [
    "# Background\n",
    "\n",
    "*Coursebook* ini merupakan bagian dari **BRI Audit Analytics** yang disiapkan oleh [Algoritma](https://algorit.ma). *Coursebook* ini ditujukan hanya untuk khalayak terbatas, yaitu individu dan organisasi yang menerima *coursebook* ini langsung dari organisasi pelatihan. Tidak boleh direproduksi, didistribusikan, diterjemahkan, atau diadaptasi dalam bentuk apapun di luar individu dan organisasi ini tanpa izin.\n",
    "Algoritma adalah pusat pendidikan *data science* yang berbasis di Jakarta. Kami menyelenggarakan *workshop* dan program pelatihan untuk membantu para profesional dan mahasiswa dalam menguasai berbagai sub-bidang *data science* yaitu: *data visualization, machine learning,* statistik, dan lain sebagainya."
   ]
  },
  {
   "cell_type": "markdown",
   "id": "56ddbb51",
   "metadata": {},
   "source": [
    "# Classification in Machine Learning"
   ]
  },
  {
   "cell_type": "markdown",
   "id": "1ae2b33a",
   "metadata": {},
   "source": [
    "## Training Objectives\n",
    "\n",
    "Pada _workshop_ ini, Anda akan mempelajari salah satu _case_ yang cukup umum diselesaikan dengan _machine_ _learning_, yaitu klasifikasi. Klasifikasi merupakan aplikasi dari _supervised_ _learning_ (cabang dari _machine_ _learning_), dengan model diharapkan dapat memberikan _output_ berdasarkan kategori yang sudah ditentukan. Misalnya:\n",
    "\n",
    "* Mengidentifikasi apakah suatu _email_ merupakan _spam_ atau tidak.\n",
    "* Mengidentifikasi apakah pelanggan akan membeli suatu produk atau tidak.\n",
    "* Mengidentifikasi objek buah-buahan pada suatu gambar, apakah objek tersebut merupakan apel, pisang, atau mangga.\n",
    "\n",
    "Anda akan mempelajari siklus proses dalam membangun model _machine_ _learning_ untuk klasifikasi dan konsep matematika di belakangnya. _Workshop_ ini akan berfokus pada 3 model _machine_ _learning_: _logistic_ _regression_, _decision_ _tree_, dan _random_ _torest_. Dengan durasi selama 7 jam, pembelajaran pada _workshop_ ini terbagi dalam beberapa modul:\n",
    "\n",
    "* ***Data Preprocessing***\n",
    "    + _Target and Predictors Splitting_\n",
    "    + _Dummy Variables for Categorical Predictor_\n",
    "    + _Cross Validation_\n",
    "* ***Classification Concepts for Logistic Regression***\n",
    "    + _Probability concept_\n",
    "    + _Understanding log of odds_\n",
    "    + _Understanding logit function_\n",
    "* ***Logistic Regression Implementation***\n",
    "    + _Logistic regression with discrete predictor variables_\n",
    "    + _Logistic regression with one continuous predictor variables_\n",
    "    + _Logistic regression with multiple predictors variable_\n",
    "    + _Assumption of logistic regression_\n",
    "* ***Performance Evaluation and Model Selection***\n",
    "    + _Confusion Matrix_\n",
    "        + _Accuracy_\n",
    "        + _Sensitivity_\n",
    "        + _Recall_\n",
    "        + _Specificity_\n",
    "* ***K - Nearest Neighbors*** \n",
    "    + _Euclidean distance_\n",
    "    + _Choosing an appropriate K_\n",
    "    + _Features rescaling_\n",
    "        + _Min-max normalization_\n",
    "        + _Z-score standardization_\n",
    "    + _Characteristics of K-NN_\n"
   ]
  },
  {
   "cell_type": "code",
   "execution_count": 2,
   "id": "2f40eba9",
   "metadata": {
    "execution": {
     "iopub.execute_input": "2024-01-09T01:54:42.812498Z",
     "iopub.status.busy": "2024-01-09T01:54:42.811491Z",
     "iopub.status.idle": "2024-01-09T01:54:45.279221Z",
     "shell.execute_reply": "2024-01-09T01:54:45.279221Z",
     "shell.execute_reply.started": "2024-01-09T01:54:42.812498Z"
    }
   },
   "outputs": [],
   "source": [
    "# Package \n",
    "'''\n",
    "Package dapat dibayangkan sebagai sekumpulan program yang telah ditulis seseorang sehingga \n",
    "dapat digunakan oleh orang lain yang ingin menyelesaikan permasalahan yang serupa.\n",
    "''' \n",
    "\n",
    "import warnings\n",
    "\n",
    "# package untuk perhitungan matematika\n",
    "import math\n",
    "import numpy as np\n",
    "\n",
    "# package untuk persiapan data\n",
    "import pandas as pd\n",
    "\n",
    "# package untuk visualisasi data\n",
    "import matplotlib.pyplot as plt\n",
    "import seaborn as sns\n",
    "\n",
    "# package untuk keperluan modeling\n",
    "import statsmodels.api as sm\n",
    "from sklearn.model_selection import train_test_split\n",
    "from sklearn.metrics import accuracy_score, precision_score, recall_score\n",
    "from sklearn.preprocessing import StandardScaler\n",
    "from sklearn.neighbors import KNeighborsClassifier"
   ]
  },
  {
   "cell_type": "code",
   "execution_count": 3,
   "id": "d7b45aed",
   "metadata": {
    "execution": {
     "iopub.execute_input": "2024-01-09T01:54:45.279221Z",
     "iopub.status.busy": "2024-01-09T01:54:45.279221Z",
     "iopub.status.idle": "2024-01-09T01:54:45.313155Z",
     "shell.execute_reply": "2024-01-09T01:54:45.311154Z",
     "shell.execute_reply.started": "2024-01-09T01:54:45.279221Z"
    }
   },
   "outputs": [],
   "source": [
    "# pandas display setup\n",
    "pd.set_option('display.max_rows', 500)\n",
    "pd.set_option('display.max_columns', 500)\n",
    "pd.set_option('display.width', 1000)\n",
    "\n",
    "# suppress scientific notation\n",
    "np.set_printoptions(suppress=True) # numpy output\n",
    "pd.set_option('display.float_format', lambda x: '%.5f' % x) # pandas output\n",
    "\n",
    "# suppress warning\n",
    "warnings.filterwarnings(\"ignore\")\n",
    "%matplotlib inline"
   ]
  },
  {
   "cell_type": "markdown",
   "id": "0b70aa24",
   "metadata": {},
   "source": [
    "# Data Preparation and Exploratory Data"
   ]
  },
  {
   "cell_type": "markdown",
   "id": "bf909724",
   "metadata": {},
   "source": [
    "Di dunia nyata, sering kali terdapat permasalahan pada data mentah yang dapat mengganggu proses analisis, seperti kesalahan _input_, nilai yang hilang, atau format penulisan yang tidak konsisten. Untuk mengatasi permasalahan tersebut, dilakukan preparasi data. \n",
    "\n",
    "> Preparasi data merupakan serangkaian proses mengubah data mentah menjadi format yang lebih siap dan sesuai untuk analisis lebih lanjut. Preparasi data merupakan proses yang penting dan harus dilakukan sebelum analisis dan pembuatan model _machine learning_. \n",
    "\n",
    "Berikut beberapa _step_ yang sering dilakukan pada tahap preparasi data:\n",
    "\n",
    "1. Cek tipe data setiap kolom.\n",
    "2. Cek data yang hilang/_missing values_.\n",
    "3. _Feature selection_."
   ]
  },
  {
   "cell_type": "markdown",
   "id": "ef5ef7ad",
   "metadata": {},
   "source": [
    "## Read The Dataset\n",
    "\n",
    "Pada _step_ ini, kita akan memuat data mentah yang akan digunakan sepanjang proses analisis dan pembuatan model _machine_ _learning_. _Package_ `pandas` menyediakan banyak fungsi yang dapat kita manfaatkan untuk membaca data, tergantung format data yang kita miliki. \n",
    "\n",
    "* Format `.xlsx` menggunakan `pd.read_excel()`.\n",
    "* Format `.csv` menggunakan `pd.read_csv()`.\n",
    "* Format data lainnya yang dapat dilihat [di sini](https://pandas.pydata.org/docs/reference/io.html).\n",
    "\n",
    "> **_Note_**: Selama proses persiapan dan pemrosesan data, kita akan banyak menggunakan fungsi yang terdapat pada _package_ `pandas`.\n",
    "\n",
    "Kita akan menggunakan _dataset_ `credit100.csv`. Data ini merupakan data akun bank dari research paper metode evaluasi machine learning [berikut ini](https://arxiv.org/pdf/2211.13358.pdf). Secara detailnya data ini bisa dilihat lebih lanjut pada [link GitHub ini](https://github.com/feedzai/bank-account-fraud).\n",
    "\n",
    "Karena _dataset_ ini memiliki format `.csv`, kita akan menggunakan fungsi `pd.read_csv()`.\n"
   ]
  },
  {
   "cell_type": "code",
   "execution_count": 4,
   "id": "9a222496",
   "metadata": {
    "execution": {
     "iopub.execute_input": "2024-01-09T01:54:45.314159Z",
     "iopub.status.busy": "2024-01-09T01:54:45.314159Z",
     "iopub.status.idle": "2024-01-09T01:54:45.616260Z",
     "shell.execute_reply": "2024-01-09T01:54:45.615259Z",
     "shell.execute_reply.started": "2024-01-09T01:54:45.314159Z"
    }
   },
   "outputs": [
    {
     "data": {
      "text/html": [
       "<div>\n",
       "<style scoped>\n",
       "    .dataframe tbody tr th:only-of-type {\n",
       "        vertical-align: middle;\n",
       "    }\n",
       "\n",
       "    .dataframe tbody tr th {\n",
       "        vertical-align: top;\n",
       "    }\n",
       "\n",
       "    .dataframe thead th {\n",
       "        text-align: right;\n",
       "    }\n",
       "</style>\n",
       "<table border=\"1\" class=\"dataframe\">\n",
       "  <thead>\n",
       "    <tr style=\"text-align: right;\">\n",
       "      <th></th>\n",
       "      <th>fraud_bool</th>\n",
       "      <th>income</th>\n",
       "      <th>name_email_similarity</th>\n",
       "      <th>prev_address_months_count</th>\n",
       "      <th>current_address_months_count</th>\n",
       "      <th>customer_age</th>\n",
       "      <th>days_since_request</th>\n",
       "      <th>intended_balcon_amount</th>\n",
       "      <th>payment_type</th>\n",
       "      <th>zip_count_4w</th>\n",
       "      <th>velocity_6h</th>\n",
       "      <th>velocity_24h</th>\n",
       "      <th>velocity_4w</th>\n",
       "      <th>bank_branch_count_8w</th>\n",
       "      <th>date_of_birth_distinct_emails_4w</th>\n",
       "      <th>employment_status</th>\n",
       "      <th>credit_risk_score</th>\n",
       "      <th>email_is_free</th>\n",
       "      <th>housing_status</th>\n",
       "      <th>phone_home_valid</th>\n",
       "      <th>phone_mobile_valid</th>\n",
       "      <th>bank_months_count</th>\n",
       "      <th>has_other_cards</th>\n",
       "      <th>proposed_credit_limit</th>\n",
       "      <th>foreign_request</th>\n",
       "      <th>source</th>\n",
       "      <th>session_length_in_minutes</th>\n",
       "      <th>device_os</th>\n",
       "      <th>keep_alive_session</th>\n",
       "      <th>device_distinct_emails_8w</th>\n",
       "      <th>month</th>\n",
       "    </tr>\n",
       "  </thead>\n",
       "  <tbody>\n",
       "    <tr>\n",
       "      <th>0</th>\n",
       "      <td>0</td>\n",
       "      <td>0.90000</td>\n",
       "      <td>0.61579</td>\n",
       "      <td>-1</td>\n",
       "      <td>51</td>\n",
       "      <td>40</td>\n",
       "      <td>0.01034</td>\n",
       "      <td>-0.69955</td>\n",
       "      <td>AB</td>\n",
       "      <td>2659</td>\n",
       "      <td>11007.70883</td>\n",
       "      <td>7448.79742</td>\n",
       "      <td>5576.30356</td>\n",
       "      <td>2030</td>\n",
       "      <td>7</td>\n",
       "      <td>CA</td>\n",
       "      <td>253</td>\n",
       "      <td>1</td>\n",
       "      <td>BA</td>\n",
       "      <td>1</td>\n",
       "      <td>1</td>\n",
       "      <td>9</td>\n",
       "      <td>1</td>\n",
       "      <td>1500.00000</td>\n",
       "      <td>0</td>\n",
       "      <td>INTERNET</td>\n",
       "      <td>13.07981</td>\n",
       "      <td>linux</td>\n",
       "      <td>0</td>\n",
       "      <td>1</td>\n",
       "      <td>1</td>\n",
       "    </tr>\n",
       "    <tr>\n",
       "      <th>1</th>\n",
       "      <td>0</td>\n",
       "      <td>0.60000</td>\n",
       "      <td>0.07246</td>\n",
       "      <td>-1</td>\n",
       "      <td>125</td>\n",
       "      <td>20</td>\n",
       "      <td>0.00697</td>\n",
       "      <td>-0.95947</td>\n",
       "      <td>AC</td>\n",
       "      <td>5599</td>\n",
       "      <td>6304.26284</td>\n",
       "      <td>4373.09359</td>\n",
       "      <td>4721.10002</td>\n",
       "      <td>1</td>\n",
       "      <td>13</td>\n",
       "      <td>CA</td>\n",
       "      <td>112</td>\n",
       "      <td>1</td>\n",
       "      <td>BE</td>\n",
       "      <td>1</td>\n",
       "      <td>0</td>\n",
       "      <td>-1</td>\n",
       "      <td>0</td>\n",
       "      <td>200.00000</td>\n",
       "      <td>0</td>\n",
       "      <td>INTERNET</td>\n",
       "      <td>6.66655</td>\n",
       "      <td>windows</td>\n",
       "      <td>0</td>\n",
       "      <td>1</td>\n",
       "      <td>4</td>\n",
       "    </tr>\n",
       "    <tr>\n",
       "      <th>2</th>\n",
       "      <td>1</td>\n",
       "      <td>0.50000</td>\n",
       "      <td>0.07659</td>\n",
       "      <td>-1</td>\n",
       "      <td>37</td>\n",
       "      <td>50</td>\n",
       "      <td>0.00632</td>\n",
       "      <td>-1.21993</td>\n",
       "      <td>AB</td>\n",
       "      <td>1352</td>\n",
       "      <td>1357.41355</td>\n",
       "      <td>6667.02966</td>\n",
       "      <td>6318.87626</td>\n",
       "      <td>15</td>\n",
       "      <td>6</td>\n",
       "      <td>CF</td>\n",
       "      <td>199</td>\n",
       "      <td>1</td>\n",
       "      <td>BC</td>\n",
       "      <td>1</td>\n",
       "      <td>1</td>\n",
       "      <td>28</td>\n",
       "      <td>0</td>\n",
       "      <td>1500.00000</td>\n",
       "      <td>0</td>\n",
       "      <td>INTERNET</td>\n",
       "      <td>4.49267</td>\n",
       "      <td>windows</td>\n",
       "      <td>1</td>\n",
       "      <td>2</td>\n",
       "      <td>0</td>\n",
       "    </tr>\n",
       "    <tr>\n",
       "      <th>3</th>\n",
       "      <td>0</td>\n",
       "      <td>0.30000</td>\n",
       "      <td>0.25543</td>\n",
       "      <td>23</td>\n",
       "      <td>19</td>\n",
       "      <td>20</td>\n",
       "      <td>0.00927</td>\n",
       "      <td>3.24224</td>\n",
       "      <td>AA</td>\n",
       "      <td>3743</td>\n",
       "      <td>5234.26230</td>\n",
       "      <td>6139.48958</td>\n",
       "      <td>4201.72592</td>\n",
       "      <td>1</td>\n",
       "      <td>14</td>\n",
       "      <td>CA</td>\n",
       "      <td>63</td>\n",
       "      <td>1</td>\n",
       "      <td>BC</td>\n",
       "      <td>0</td>\n",
       "      <td>1</td>\n",
       "      <td>16</td>\n",
       "      <td>0</td>\n",
       "      <td>200.00000</td>\n",
       "      <td>0</td>\n",
       "      <td>INTERNET</td>\n",
       "      <td>2.32189</td>\n",
       "      <td>other</td>\n",
       "      <td>1</td>\n",
       "      <td>1</td>\n",
       "      <td>3</td>\n",
       "    </tr>\n",
       "    <tr>\n",
       "      <th>4</th>\n",
       "      <td>0</td>\n",
       "      <td>0.90000</td>\n",
       "      <td>0.19236</td>\n",
       "      <td>-1</td>\n",
       "      <td>34</td>\n",
       "      <td>30</td>\n",
       "      <td>0.01924</td>\n",
       "      <td>-1.13156</td>\n",
       "      <td>AB</td>\n",
       "      <td>546</td>\n",
       "      <td>3589.15345</td>\n",
       "      <td>4574.39557</td>\n",
       "      <td>4318.25891</td>\n",
       "      <td>16</td>\n",
       "      <td>5</td>\n",
       "      <td>CA</td>\n",
       "      <td>275</td>\n",
       "      <td>1</td>\n",
       "      <td>BC</td>\n",
       "      <td>1</td>\n",
       "      <td>1</td>\n",
       "      <td>1</td>\n",
       "      <td>1</td>\n",
       "      <td>1000.00000</td>\n",
       "      <td>0</td>\n",
       "      <td>INTERNET</td>\n",
       "      <td>4.84515</td>\n",
       "      <td>linux</td>\n",
       "      <td>1</td>\n",
       "      <td>1</td>\n",
       "      <td>5</td>\n",
       "    </tr>\n",
       "  </tbody>\n",
       "</table>\n",
       "</div>"
      ],
      "text/plain": [
       "   fraud_bool  income  name_email_similarity  prev_address_months_count  current_address_months_count  customer_age  days_since_request  intended_balcon_amount payment_type  zip_count_4w  velocity_6h  velocity_24h  velocity_4w  bank_branch_count_8w  date_of_birth_distinct_emails_4w employment_status  credit_risk_score  email_is_free housing_status  phone_home_valid  phone_mobile_valid  bank_months_count  has_other_cards  proposed_credit_limit  foreign_request    source  session_length_in_minutes device_os  keep_alive_session  device_distinct_emails_8w  month\n",
       "0           0 0.90000                0.61579                         -1                            51            40             0.01034                -0.69955           AB          2659  11007.70883    7448.79742   5576.30356                  2030                                 7                CA                253              1             BA                 1                   1                  9                1             1500.00000                0  INTERNET                   13.07981     linux                   0                          1      1\n",
       "1           0 0.60000                0.07246                         -1                           125            20             0.00697                -0.95947           AC          5599   6304.26284    4373.09359   4721.10002                     1                                13                CA                112              1             BE                 1                   0                 -1                0              200.00000                0  INTERNET                    6.66655   windows                   0                          1      4\n",
       "2           1 0.50000                0.07659                         -1                            37            50             0.00632                -1.21993           AB          1352   1357.41355    6667.02966   6318.87626                    15                                 6                CF                199              1             BC                 1                   1                 28                0             1500.00000                0  INTERNET                    4.49267   windows                   1                          2      0\n",
       "3           0 0.30000                0.25543                         23                            19            20             0.00927                 3.24224           AA          3743   5234.26230    6139.48958   4201.72592                     1                                14                CA                 63              1             BC                 0                   1                 16                0              200.00000                0  INTERNET                    2.32189     other                   1                          1      3\n",
       "4           0 0.90000                0.19236                         -1                            34            30             0.01924                -1.13156           AB           546   3589.15345    4574.39557   4318.25891                    16                                 5                CA                275              1             BC                 1                   1                  1                1             1000.00000                0  INTERNET                    4.84515     linux                   1                          1      5"
      ]
     },
     "execution_count": 4,
     "metadata": {},
     "output_type": "execute_result"
    }
   ],
   "source": [
    "credit = pd.read_csv(\"data_input/credit100.csv\")\n",
    "credit = credit.drop(columns=[\"device_fraud_count\"])\n",
    "\n",
    "# menampilkan 5 baris teratas\n",
    "credit.head()"
   ]
  },
  {
   "cell_type": "markdown",
   "id": "ffb31808",
   "metadata": {},
   "source": [
    "**Penjelasan Dataset**\n",
    "\n",
    "Berikut adalah penjelasan setiap kolom yang terdapat pada _dataset_:\n",
    "\n",
    "- `income` (numeric): _Annual income of the applicant (in decile form). Ranges between [0.1, 0.9]._\n",
    "- `name_email_similarity` (numeric): _Metric of similarity between email and applicant’s name. Higher values represent higher similarity. Ranges between [0, 1]._\n",
    "- `prev_address_months_count` (numeric): _Number of months in previous registered address of the applicant, i.e. the applicant’s previous residence, if applicable. Ranges between [−1, 380] months (-1 is a missing value)._\n",
    "- `current_address_months_count` (numeric): _Months in currently registered address of the applicant. Ranges between [−1, 429] months (-1 is a missing value)._\n",
    "- `customer_age` (numeric): _Applicant’s age in years, rounded to the decade. Ranges between [10, 90] years._\n",
    "- `days_since_request` (numeric): _Number of days passed since application was done. Ranges between [0, 79] days._\n",
    "- `intended_balcon_amount` (numeric): _Initial transferred amount for application. Ranges between [−16, 114] (negatives are missing values)._\n",
    "- `payment_type` (categorical): _Credit payment plan type. 5 possible (annonymized) values._\n",
    "- `zip_count_4w` (numeric): _Number of applications within same zip code in last 4 weeks. Ranges between [1, 6830]._\n",
    "- `velocity_6h` (numeric): _Velocity of total applications made in last 6 hours i.e., average number of applications per hour in the last 6 hours. Ranges between [−175, 16818]._\n",
    "- `velocity_24h` (numeric): _Velocity of total applications made in last 24 hours i.e., average number of applications per hour in the last 24 hours. Ranges between [1297, 9586]_\n",
    "- `velocity_4w` (numeric): _Velocity of total applications made in last 4 weeks, i.e., average number of applications per hour in the last 4 weeks. Ranges between [2825, 7020]._\n",
    "- `bank_branch_count_8w` (numeric): _Number of total applications in the selected bank branch in last 8 weeks. Ranges between [0, 2404]._\n",
    "- `date_of_birth_distinct_emails_4w` (numeric): _Number of emails for applicants with same date of birth in last 4 weeks. Ranges between [0, 39]._\n",
    "- `employment_status` (categorical): _Employment status of the applicant. 7 possible (annonymized) values._\n",
    "- `credit_risk_score` (numeric): _Internal score of application risk. Ranges between [−191, 389]._\n",
    "- `email_is_free` (binary): _Domain of application email (either free or paid)._\n",
    "- `housing_status` (categorical): _Current residential status for applicant. 7 possible (annonymized) values._\n",
    "- `phone_home_valid` (binary): _Validity of provided home phone._\n",
    "- `phone_mobile_valid` (binary): _Validity of provided mobile phone._\n",
    "- `bank_months_count` (numeric): _How old is previous account (if held) in months. Ranges between [−1, 32] months (-1 is a missing value)._\n",
    "- `has_other_cards` (binary): _If applicant has other cards from the same banking company. _\n",
    "- `proposed_credit_limit` (numeric): _Applicant’s proposed credit limit. Ranges between [200, 2000]._\n",
    "- `foreign_request` (binary): _If origin country of request is different from bank’s country._\n",
    "- `source` (categorical): _Online source of application. Either browser (INTERNET) or app (TELEAPP)._\n",
    "- `session_length_in_minutes` (numeric): _Length of user session in banking website in minutes. Ranges between [−1, 107] minutes (-1 is a missing value)._\n",
    "- `device_os` (categorical): _Operative system of device that made request. Possible values are: Windows, macOS, Linux, X11, or other._\n",
    "- `keep_alive_session` (binary): _User option on session logout._\n",
    "- `device_distinct_emails` (numeric): _Number of distinct emails in banking website from the used device in last 8 weeks. Ranges between [−1, 2] emails (-1 is a missing value)._\n",
    "- `device_fraud_count` (numeric): _Number of fraudulent applications with used device. Ranges between [0, 1]._\n",
    "- `month` (numeric): _Month where the application was made. Ranges between [0, 7]._\n",
    "- `fraud_bool` (binary): _If the application is fraudulent or not._"
   ]
  },
  {
   "cell_type": "markdown",
   "id": "c6fbdd2e",
   "metadata": {},
   "source": [
    "## Descriptive Statistics\n",
    "\n",
    "Pemeriksaan statistik deskriptif merupakan analisis awal yang dilakukan untuk mendapatkan pemahaman tentang sifat dasar dari _dataset_. Seperti namanya, statistik deskriptif mencakup penghitungan ringkasan statistik yang menggambarkan ciri-ciri kumpulan data tersebut, seperti: ukuran pemusatan data (_mean_ dan median) dan ukuran penyebaran data (standar deviasi). \n",
    "\n",
    "Meskipun perhitungan yang ditampilkan cukup sederhana, statistik deskriptif bisa menjadi alternatif _tools_ yang cukup _powerful_. Sebagai contoh, kita dapat mengetahui kecenderungan persebaran data dan melakukan deteksi awal apakah terdapat nilai pencilan (_outlier_) yang berbeda jauh dibandingkan nilai-nilai lainnya.\n",
    "\n",
    "Untuk menampilkan statistik deskriptif pada data `credit`, kita dapat menggunakan fungsi `.describe()`."
   ]
  },
  {
   "cell_type": "code",
   "execution_count": 5,
   "id": "45d4d7b4",
   "metadata": {
    "execution": {
     "iopub.execute_input": "2024-01-09T01:54:45.618240Z",
     "iopub.status.busy": "2024-01-09T01:54:45.618240Z",
     "iopub.status.idle": "2024-01-09T01:54:45.735930Z",
     "shell.execute_reply": "2024-01-09T01:54:45.734935Z",
     "shell.execute_reply.started": "2024-01-09T01:54:45.618240Z"
    }
   },
   "outputs": [
    {
     "data": {
      "text/html": [
       "<div>\n",
       "<style scoped>\n",
       "    .dataframe tbody tr th:only-of-type {\n",
       "        vertical-align: middle;\n",
       "    }\n",
       "\n",
       "    .dataframe tbody tr th {\n",
       "        vertical-align: top;\n",
       "    }\n",
       "\n",
       "    .dataframe thead th {\n",
       "        text-align: right;\n",
       "    }\n",
       "</style>\n",
       "<table border=\"1\" class=\"dataframe\">\n",
       "  <thead>\n",
       "    <tr style=\"text-align: right;\">\n",
       "      <th></th>\n",
       "      <th>fraud_bool</th>\n",
       "      <th>income</th>\n",
       "      <th>name_email_similarity</th>\n",
       "      <th>prev_address_months_count</th>\n",
       "      <th>current_address_months_count</th>\n",
       "      <th>customer_age</th>\n",
       "      <th>days_since_request</th>\n",
       "      <th>intended_balcon_amount</th>\n",
       "      <th>zip_count_4w</th>\n",
       "      <th>velocity_6h</th>\n",
       "      <th>velocity_24h</th>\n",
       "      <th>velocity_4w</th>\n",
       "      <th>bank_branch_count_8w</th>\n",
       "      <th>date_of_birth_distinct_emails_4w</th>\n",
       "      <th>credit_risk_score</th>\n",
       "      <th>email_is_free</th>\n",
       "      <th>phone_home_valid</th>\n",
       "      <th>phone_mobile_valid</th>\n",
       "      <th>bank_months_count</th>\n",
       "      <th>has_other_cards</th>\n",
       "      <th>proposed_credit_limit</th>\n",
       "      <th>foreign_request</th>\n",
       "      <th>session_length_in_minutes</th>\n",
       "      <th>keep_alive_session</th>\n",
       "      <th>device_distinct_emails_8w</th>\n",
       "      <th>month</th>\n",
       "    </tr>\n",
       "  </thead>\n",
       "  <tbody>\n",
       "    <tr>\n",
       "      <th>count</th>\n",
       "      <td>100000.00000</td>\n",
       "      <td>100000.00000</td>\n",
       "      <td>100000.00000</td>\n",
       "      <td>100000.00000</td>\n",
       "      <td>100000.00000</td>\n",
       "      <td>100000.00000</td>\n",
       "      <td>100000.00000</td>\n",
       "      <td>100000.00000</td>\n",
       "      <td>100000.00000</td>\n",
       "      <td>100000.00000</td>\n",
       "      <td>100000.00000</td>\n",
       "      <td>100000.00000</td>\n",
       "      <td>100000.00000</td>\n",
       "      <td>100000.00000</td>\n",
       "      <td>100000.00000</td>\n",
       "      <td>100000.00000</td>\n",
       "      <td>100000.00000</td>\n",
       "      <td>100000.00000</td>\n",
       "      <td>100000.00000</td>\n",
       "      <td>100000.00000</td>\n",
       "      <td>100000.00000</td>\n",
       "      <td>100000.00000</td>\n",
       "      <td>100000.00000</td>\n",
       "      <td>100000.00000</td>\n",
       "      <td>100000.00000</td>\n",
       "      <td>100000.00000</td>\n",
       "    </tr>\n",
       "    <tr>\n",
       "      <th>mean</th>\n",
       "      <td>0.11029</td>\n",
       "      <td>0.57243</td>\n",
       "      <td>0.48334</td>\n",
       "      <td>15.67167</td>\n",
       "      <td>89.09414</td>\n",
       "      <td>34.34520</td>\n",
       "      <td>1.02909</td>\n",
       "      <td>8.05770</td>\n",
       "      <td>1579.65136</td>\n",
       "      <td>5622.74948</td>\n",
       "      <td>4751.70038</td>\n",
       "      <td>4846.51788</td>\n",
       "      <td>178.94636</td>\n",
       "      <td>9.31030</td>\n",
       "      <td>135.47810</td>\n",
       "      <td>0.54335</td>\n",
       "      <td>0.39658</td>\n",
       "      <td>0.88576</td>\n",
       "      <td>10.76559</td>\n",
       "      <td>0.20875</td>\n",
       "      <td>545.64380</td>\n",
       "      <td>0.02764</td>\n",
       "      <td>7.64760</td>\n",
       "      <td>0.55407</td>\n",
       "      <td>1.02486</td>\n",
       "      <td>3.30663</td>\n",
       "    </tr>\n",
       "    <tr>\n",
       "      <th>std</th>\n",
       "      <td>0.31325</td>\n",
       "      <td>0.29097</td>\n",
       "      <td>0.29139</td>\n",
       "      <td>43.04344</td>\n",
       "      <td>88.27788</td>\n",
       "      <td>12.31084</td>\n",
       "      <td>5.39503</td>\n",
       "      <td>19.80150</td>\n",
       "      <td>1003.51929</td>\n",
       "      <td>3006.95237</td>\n",
       "      <td>1476.12014</td>\n",
       "      <td>926.53103</td>\n",
       "      <td>455.26869</td>\n",
       "      <td>5.05074</td>\n",
       "      <td>72.37795</td>\n",
       "      <td>0.49812</td>\n",
       "      <td>0.48919</td>\n",
       "      <td>0.31810</td>\n",
       "      <td>12.18756</td>\n",
       "      <td>0.40642</td>\n",
       "      <td>513.04025</td>\n",
       "      <td>0.16394</td>\n",
       "      <td>8.28959</td>\n",
       "      <td>0.49707</td>\n",
       "      <td>0.20006</td>\n",
       "      <td>2.22212</td>\n",
       "    </tr>\n",
       "    <tr>\n",
       "      <th>min</th>\n",
       "      <td>0.00000</td>\n",
       "      <td>0.10000</td>\n",
       "      <td>0.00006</td>\n",
       "      <td>-1.00000</td>\n",
       "      <td>-1.00000</td>\n",
       "      <td>10.00000</td>\n",
       "      <td>0.00000</td>\n",
       "      <td>-14.06498</td>\n",
       "      <td>1.00000</td>\n",
       "      <td>8.67828</td>\n",
       "      <td>1320.28399</td>\n",
       "      <td>2863.78334</td>\n",
       "      <td>0.00000</td>\n",
       "      <td>0.00000</td>\n",
       "      <td>-170.00000</td>\n",
       "      <td>0.00000</td>\n",
       "      <td>0.00000</td>\n",
       "      <td>0.00000</td>\n",
       "      <td>-1.00000</td>\n",
       "      <td>0.00000</td>\n",
       "      <td>190.00000</td>\n",
       "      <td>0.00000</td>\n",
       "      <td>-1.00000</td>\n",
       "      <td>0.00000</td>\n",
       "      <td>-1.00000</td>\n",
       "      <td>0.00000</td>\n",
       "    </tr>\n",
       "    <tr>\n",
       "      <th>25%</th>\n",
       "      <td>0.00000</td>\n",
       "      <td>0.30000</td>\n",
       "      <td>0.21060</td>\n",
       "      <td>-1.00000</td>\n",
       "      <td>22.00000</td>\n",
       "      <td>20.00000</td>\n",
       "      <td>0.00706</td>\n",
       "      <td>-1.18451</td>\n",
       "      <td>899.00000</td>\n",
       "      <td>3388.04839</td>\n",
       "      <td>3578.88819</td>\n",
       "      <td>4260.40529</td>\n",
       "      <td>1.00000</td>\n",
       "      <td>5.00000</td>\n",
       "      <td>85.00000</td>\n",
       "      <td>0.00000</td>\n",
       "      <td>0.00000</td>\n",
       "      <td>1.00000</td>\n",
       "      <td>-1.00000</td>\n",
       "      <td>0.00000</td>\n",
       "      <td>200.00000</td>\n",
       "      <td>0.00000</td>\n",
       "      <td>3.11938</td>\n",
       "      <td>0.00000</td>\n",
       "      <td>1.00000</td>\n",
       "      <td>1.00000</td>\n",
       "    </tr>\n",
       "    <tr>\n",
       "      <th>50%</th>\n",
       "      <td>0.00000</td>\n",
       "      <td>0.60000</td>\n",
       "      <td>0.47765</td>\n",
       "      <td>-1.00000</td>\n",
       "      <td>56.00000</td>\n",
       "      <td>30.00000</td>\n",
       "      <td>0.01492</td>\n",
       "      <td>-0.83992</td>\n",
       "      <td>1272.00000</td>\n",
       "      <td>5272.14754</td>\n",
       "      <td>4734.07444</td>\n",
       "      <td>4904.60572</td>\n",
       "      <td>9.00000</td>\n",
       "      <td>9.00000</td>\n",
       "      <td>126.00000</td>\n",
       "      <td>1.00000</td>\n",
       "      <td>0.00000</td>\n",
       "      <td>1.00000</td>\n",
       "      <td>5.00000</td>\n",
       "      <td>0.00000</td>\n",
       "      <td>200.00000</td>\n",
       "      <td>0.00000</td>\n",
       "      <td>5.09977</td>\n",
       "      <td>1.00000</td>\n",
       "      <td>1.00000</td>\n",
       "      <td>3.00000</td>\n",
       "    </tr>\n",
       "    <tr>\n",
       "      <th>75%</th>\n",
       "      <td>0.00000</td>\n",
       "      <td>0.80000</td>\n",
       "      <td>0.74887</td>\n",
       "      <td>11.00000</td>\n",
       "      <td>133.00000</td>\n",
       "      <td>40.00000</td>\n",
       "      <td>0.02607</td>\n",
       "      <td>-0.19746</td>\n",
       "      <td>1963.00000</td>\n",
       "      <td>7644.29673</td>\n",
       "      <td>5733.29879</td>\n",
       "      <td>5483.66273</td>\n",
       "      <td>23.00000</td>\n",
       "      <td>13.00000</td>\n",
       "      <td>185.00000</td>\n",
       "      <td>1.00000</td>\n",
       "      <td>1.00000</td>\n",
       "      <td>1.00000</td>\n",
       "      <td>25.00000</td>\n",
       "      <td>0.00000</td>\n",
       "      <td>1000.00000</td>\n",
       "      <td>0.00000</td>\n",
       "      <td>8.87309</td>\n",
       "      <td>1.00000</td>\n",
       "      <td>1.00000</td>\n",
       "      <td>5.00000</td>\n",
       "    </tr>\n",
       "    <tr>\n",
       "      <th>max</th>\n",
       "      <td>1.00000</td>\n",
       "      <td>0.90000</td>\n",
       "      <td>1.00000</td>\n",
       "      <td>365.00000</td>\n",
       "      <td>424.00000</td>\n",
       "      <td>90.00000</td>\n",
       "      <td>76.57727</td>\n",
       "      <td>112.25311</td>\n",
       "      <td>6521.00000</td>\n",
       "      <td>16665.35953</td>\n",
       "      <td>9506.89660</td>\n",
       "      <td>6994.76420</td>\n",
       "      <td>2322.00000</td>\n",
       "      <td>37.00000</td>\n",
       "      <td>378.00000</td>\n",
       "      <td>1.00000</td>\n",
       "      <td>1.00000</td>\n",
       "      <td>1.00000</td>\n",
       "      <td>32.00000</td>\n",
       "      <td>1.00000</td>\n",
       "      <td>2100.00000</td>\n",
       "      <td>1.00000</td>\n",
       "      <td>82.00473</td>\n",
       "      <td>1.00000</td>\n",
       "      <td>2.00000</td>\n",
       "      <td>7.00000</td>\n",
       "    </tr>\n",
       "  </tbody>\n",
       "</table>\n",
       "</div>"
      ],
      "text/plain": [
       "        fraud_bool       income  name_email_similarity  prev_address_months_count  current_address_months_count  customer_age  days_since_request  intended_balcon_amount  zip_count_4w  velocity_6h  velocity_24h  velocity_4w  bank_branch_count_8w  date_of_birth_distinct_emails_4w  credit_risk_score  email_is_free  phone_home_valid  phone_mobile_valid  bank_months_count  has_other_cards  proposed_credit_limit  foreign_request  session_length_in_minutes  keep_alive_session  device_distinct_emails_8w        month\n",
       "count 100000.00000 100000.00000           100000.00000               100000.00000                  100000.00000  100000.00000        100000.00000            100000.00000  100000.00000 100000.00000  100000.00000 100000.00000          100000.00000                      100000.00000       100000.00000   100000.00000      100000.00000        100000.00000       100000.00000     100000.00000           100000.00000     100000.00000               100000.00000        100000.00000               100000.00000 100000.00000\n",
       "mean       0.11029      0.57243                0.48334                   15.67167                      89.09414      34.34520             1.02909                 8.05770    1579.65136   5622.74948    4751.70038   4846.51788             178.94636                           9.31030          135.47810        0.54335           0.39658             0.88576           10.76559          0.20875              545.64380          0.02764                    7.64760             0.55407                    1.02486      3.30663\n",
       "std        0.31325      0.29097                0.29139                   43.04344                      88.27788      12.31084             5.39503                19.80150    1003.51929   3006.95237    1476.12014    926.53103             455.26869                           5.05074           72.37795        0.49812           0.48919             0.31810           12.18756          0.40642              513.04025          0.16394                    8.28959             0.49707                    0.20006      2.22212\n",
       "min        0.00000      0.10000                0.00006                   -1.00000                      -1.00000      10.00000             0.00000               -14.06498       1.00000      8.67828    1320.28399   2863.78334               0.00000                           0.00000         -170.00000        0.00000           0.00000             0.00000           -1.00000          0.00000              190.00000          0.00000                   -1.00000             0.00000                   -1.00000      0.00000\n",
       "25%        0.00000      0.30000                0.21060                   -1.00000                      22.00000      20.00000             0.00706                -1.18451     899.00000   3388.04839    3578.88819   4260.40529               1.00000                           5.00000           85.00000        0.00000           0.00000             1.00000           -1.00000          0.00000              200.00000          0.00000                    3.11938             0.00000                    1.00000      1.00000\n",
       "50%        0.00000      0.60000                0.47765                   -1.00000                      56.00000      30.00000             0.01492                -0.83992    1272.00000   5272.14754    4734.07444   4904.60572               9.00000                           9.00000          126.00000        1.00000           0.00000             1.00000            5.00000          0.00000              200.00000          0.00000                    5.09977             1.00000                    1.00000      3.00000\n",
       "75%        0.00000      0.80000                0.74887                   11.00000                     133.00000      40.00000             0.02607                -0.19746    1963.00000   7644.29673    5733.29879   5483.66273              23.00000                          13.00000          185.00000        1.00000           1.00000             1.00000           25.00000          0.00000             1000.00000          0.00000                    8.87309             1.00000                    1.00000      5.00000\n",
       "max        1.00000      0.90000                1.00000                  365.00000                     424.00000      90.00000            76.57727               112.25311    6521.00000  16665.35953    9506.89660   6994.76420            2322.00000                          37.00000          378.00000        1.00000           1.00000             1.00000           32.00000          1.00000             2100.00000          1.00000                   82.00473             1.00000                    2.00000      7.00000"
      ]
     },
     "execution_count": 5,
     "metadata": {},
     "output_type": "execute_result"
    }
   ],
   "source": [
    "credit.describe()"
   ]
  },
  {
   "cell_type": "markdown",
   "id": "efd6ee44",
   "metadata": {},
   "source": [
    "`.describe()` akan mengeluarkan perhitungan:\n",
    "\n",
    "1. Banyaknya baris pada setiap kolom (`count`).\n",
    "2. Rata-rata setiap kolom (`mean`).\n",
    "3. Standar deviasi setiap kolom (`std`).\n",
    "4. Nilai minimum (`min`) dan maksimum (`max`) setiap kolom.\n",
    "5. Kuartil bawah (`25%`), median (`50%`), dan kuartil atas (`75%`) setiap kolom."
   ]
  },
  {
   "cell_type": "markdown",
   "id": "9b1de0d2",
   "metadata": {},
   "source": [
    "## Data Types Inspection and Preparation\n",
    "\n",
    "Pemeriksaan tipe data adalah proses memverifikasi jenis data dalam setiap kolom dari _dataset_ untuk memastikan bahwa setiap kolom sesuai dengan jenis data yang diharapkan. Misalnya, kolom yang berisi tanggal harus diidentifikasi sebagai tipe data tanggal/waktu, sementara kolom yang berisi teks harus diidentifikasi sebagai _string_, dan kolom dengan angka harus diidentifikasi sebagai bilangan bulat (_integer_) atau bilangan berkoma _(floating point_) tergantung pada kebutuhan analisis. \n",
    "\n",
    "Untuk memeriksa tipe setiap kolom, kita bisa menggunakan `.dtypes`."
   ]
  },
  {
   "cell_type": "code",
   "execution_count": 6,
   "id": "e91bcfe3",
   "metadata": {
    "execution": {
     "iopub.execute_input": "2024-01-09T01:54:45.738920Z",
     "iopub.status.busy": "2024-01-09T01:54:45.737933Z",
     "iopub.status.idle": "2024-01-09T01:54:45.752911Z",
     "shell.execute_reply": "2024-01-09T01:54:45.750932Z",
     "shell.execute_reply.started": "2024-01-09T01:54:45.738920Z"
    }
   },
   "outputs": [
    {
     "data": {
      "text/plain": [
       "fraud_bool                            int64\n",
       "income                              float64\n",
       "name_email_similarity               float64\n",
       "prev_address_months_count             int64\n",
       "current_address_months_count          int64\n",
       "customer_age                          int64\n",
       "days_since_request                  float64\n",
       "intended_balcon_amount              float64\n",
       "payment_type                         object\n",
       "zip_count_4w                          int64\n",
       "velocity_6h                         float64\n",
       "velocity_24h                        float64\n",
       "velocity_4w                         float64\n",
       "bank_branch_count_8w                  int64\n",
       "date_of_birth_distinct_emails_4w      int64\n",
       "employment_status                    object\n",
       "credit_risk_score                     int64\n",
       "email_is_free                         int64\n",
       "housing_status                       object\n",
       "phone_home_valid                      int64\n",
       "phone_mobile_valid                    int64\n",
       "bank_months_count                     int64\n",
       "has_other_cards                       int64\n",
       "proposed_credit_limit               float64\n",
       "foreign_request                       int64\n",
       "source                               object\n",
       "session_length_in_minutes           float64\n",
       "device_os                            object\n",
       "keep_alive_session                    int64\n",
       "device_distinct_emails_8w             int64\n",
       "month                                 int64\n",
       "dtype: object"
      ]
     },
     "execution_count": 6,
     "metadata": {},
     "output_type": "execute_result"
    }
   ],
   "source": [
    "credit.dtypes"
   ]
  },
  {
   "cell_type": "markdown",
   "id": "e8810aff",
   "metadata": {},
   "source": [
    "Beberapa kolom yang bertipe kategorikal berdasarkan deskripsi data sebelumnya perlu kita ubah terlebih dahulu. Pengubahan tipe data ini menggunakan fungsi `.astype()`. Detail lebih lanjut terkait fungsi `.astype()`, Anda dapat mengunjungi [referensi berikut](https://pandas.pydata.org/docs/reference/api/pandas.DataFrame.astype.html)."
   ]
  },
  {
   "cell_type": "code",
   "execution_count": 7,
   "id": "e9d4649e",
   "metadata": {
    "execution": {
     "iopub.execute_input": "2024-01-09T01:54:45.753912Z",
     "iopub.status.busy": "2024-01-09T01:54:45.753912Z",
     "iopub.status.idle": "2024-01-09T01:54:45.789692Z",
     "shell.execute_reply": "2024-01-09T01:54:45.788693Z",
     "shell.execute_reply.started": "2024-01-09T01:54:45.753912Z"
    }
   },
   "outputs": [],
   "source": [
    "# mengubah tipe data sebagai kategorikal\n",
    "\n",
    "cat_cols = ['payment_type','employment_status','housing_status','source','device_os']\n",
    "\n",
    "credit[cat_cols] = credit[cat_cols].astype('category')"
   ]
  },
  {
   "cell_type": "code",
   "execution_count": 8,
   "id": "20dfda22",
   "metadata": {
    "execution": {
     "iopub.execute_input": "2024-01-09T01:54:45.791693Z",
     "iopub.status.busy": "2024-01-09T01:54:45.790686Z",
     "iopub.status.idle": "2024-01-09T01:54:45.805681Z",
     "shell.execute_reply": "2024-01-09T01:54:45.804679Z",
     "shell.execute_reply.started": "2024-01-09T01:54:45.791693Z"
    }
   },
   "outputs": [
    {
     "data": {
      "text/plain": [
       "fraud_bool                             int64\n",
       "income                               float64\n",
       "name_email_similarity                float64\n",
       "prev_address_months_count              int64\n",
       "current_address_months_count           int64\n",
       "customer_age                           int64\n",
       "days_since_request                   float64\n",
       "intended_balcon_amount               float64\n",
       "payment_type                        category\n",
       "zip_count_4w                           int64\n",
       "velocity_6h                          float64\n",
       "velocity_24h                         float64\n",
       "velocity_4w                          float64\n",
       "bank_branch_count_8w                   int64\n",
       "date_of_birth_distinct_emails_4w       int64\n",
       "employment_status                   category\n",
       "credit_risk_score                      int64\n",
       "email_is_free                          int64\n",
       "housing_status                      category\n",
       "phone_home_valid                       int64\n",
       "phone_mobile_valid                     int64\n",
       "bank_months_count                      int64\n",
       "has_other_cards                        int64\n",
       "proposed_credit_limit                float64\n",
       "foreign_request                        int64\n",
       "source                              category\n",
       "session_length_in_minutes            float64\n",
       "device_os                           category\n",
       "keep_alive_session                     int64\n",
       "device_distinct_emails_8w              int64\n",
       "month                                  int64\n",
       "dtype: object"
      ]
     },
     "execution_count": 8,
     "metadata": {},
     "output_type": "execute_result"
    }
   ],
   "source": [
    "# cek tipe data setelah diubah\n",
    "\n",
    "credit.dtypes"
   ]
  },
  {
   "cell_type": "markdown",
   "id": "0f4c3d6e",
   "metadata": {},
   "source": [
    "> **_Note_**: perlu diingat kembali bahwa terdapat dua tipe data: numerikal dan kategorikal. Khusus kolom kategorik, terdapat pemrosesan tambahan yang akan dibahas lebih lanjut pada bagian _Data Preprocessing_."
   ]
  },
  {
   "cell_type": "markdown",
   "id": "74ad73f3",
   "metadata": {},
   "source": [
    "## Check Missing Values\n",
    "\n",
    "Pemeriksaan nilai _null_/_missing_ _value_ adalah proses untuk mendeteksi keberadaan nilai _null_ dalam sebuah _dataset_. Nilai _null_ adalah entri yang tidak memiliki data di dalamnya. Hal ini bisa berarti bahwa informasi tersebut tidak diketahui, tidak ada, atau tidak berlaku. Dalam konteks pemrograman dan analisis data, nilai _null_ ini sering kali diwakili dengan nilai khusus seperti `NULL`, `None`, `NaN` (_Not a Number_).\n",
    "\n",
    "Untuk melihat apakah terdapat nilai _null_ pada data, kita dapat menggunakan sintaks berikut."
   ]
  },
  {
   "cell_type": "code",
   "execution_count": 9,
   "id": "2c846224",
   "metadata": {
    "execution": {
     "iopub.execute_input": "2024-01-09T01:54:45.807684Z",
     "iopub.status.busy": "2024-01-09T01:54:45.807684Z",
     "iopub.status.idle": "2024-01-09T01:54:45.821683Z",
     "shell.execute_reply": "2024-01-09T01:54:45.820684Z",
     "shell.execute_reply.started": "2024-01-09T01:54:45.807684Z"
    }
   },
   "outputs": [
    {
     "data": {
      "text/plain": [
       "fraud_bool                          0\n",
       "income                              0\n",
       "name_email_similarity               0\n",
       "prev_address_months_count           0\n",
       "current_address_months_count        0\n",
       "customer_age                        0\n",
       "days_since_request                  0\n",
       "intended_balcon_amount              0\n",
       "payment_type                        0\n",
       "zip_count_4w                        0\n",
       "velocity_6h                         0\n",
       "velocity_24h                        0\n",
       "velocity_4w                         0\n",
       "bank_branch_count_8w                0\n",
       "date_of_birth_distinct_emails_4w    0\n",
       "employment_status                   0\n",
       "credit_risk_score                   0\n",
       "email_is_free                       0\n",
       "housing_status                      0\n",
       "phone_home_valid                    0\n",
       "phone_mobile_valid                  0\n",
       "bank_months_count                   0\n",
       "has_other_cards                     0\n",
       "proposed_credit_limit               0\n",
       "foreign_request                     0\n",
       "source                              0\n",
       "session_length_in_minutes           0\n",
       "device_os                           0\n",
       "keep_alive_session                  0\n",
       "device_distinct_emails_8w           0\n",
       "month                               0\n",
       "dtype: int64"
      ]
     },
     "execution_count": 9,
     "metadata": {},
     "output_type": "execute_result"
    }
   ],
   "source": [
    "credit.isna().sum()"
   ]
  },
  {
   "cell_type": "markdown",
   "id": "fef529ac",
   "metadata": {},
   "source": [
    "Fungsi `.isna().sum()` digunakan untuk melihat banyaknya nilai _null_ di setiap kolom. Terlihat pada _output_ yang ditampilkan bahwa data kita tidak memiliki nilai _null_ sehingga tidak perlu dilakukan _handling missing values_."
   ]
  },
  {
   "cell_type": "markdown",
   "id": "61d1bf87",
   "metadata": {},
   "source": [
    "**[_Optional_]** Selain menggunakan `.dtypes()` untuk memeriksa tipe data dan `.isna().sum()` untuk melihat banyak _missing_ _values_, kita dapat menggunakan `.info()` untuk menampilkan _summary_ yang lebih lengkap."
   ]
  },
  {
   "cell_type": "code",
   "execution_count": 10,
   "id": "3ca9f46f",
   "metadata": {
    "execution": {
     "iopub.execute_input": "2024-01-09T01:54:45.823685Z",
     "iopub.status.busy": "2024-01-09T01:54:45.822683Z",
     "iopub.status.idle": "2024-01-09T01:54:45.852501Z",
     "shell.execute_reply": "2024-01-09T01:54:45.851501Z",
     "shell.execute_reply.started": "2024-01-09T01:54:45.823685Z"
    }
   },
   "outputs": [
    {
     "name": "stdout",
     "output_type": "stream",
     "text": [
      "<class 'pandas.core.frame.DataFrame'>\n",
      "RangeIndex: 100000 entries, 0 to 99999\n",
      "Data columns (total 31 columns):\n",
      " #   Column                            Non-Null Count   Dtype   \n",
      "---  ------                            --------------   -----   \n",
      " 0   fraud_bool                        100000 non-null  int64   \n",
      " 1   income                            100000 non-null  float64 \n",
      " 2   name_email_similarity             100000 non-null  float64 \n",
      " 3   prev_address_months_count         100000 non-null  int64   \n",
      " 4   current_address_months_count      100000 non-null  int64   \n",
      " 5   customer_age                      100000 non-null  int64   \n",
      " 6   days_since_request                100000 non-null  float64 \n",
      " 7   intended_balcon_amount            100000 non-null  float64 \n",
      " 8   payment_type                      100000 non-null  category\n",
      " 9   zip_count_4w                      100000 non-null  int64   \n",
      " 10  velocity_6h                       100000 non-null  float64 \n",
      " 11  velocity_24h                      100000 non-null  float64 \n",
      " 12  velocity_4w                       100000 non-null  float64 \n",
      " 13  bank_branch_count_8w              100000 non-null  int64   \n",
      " 14  date_of_birth_distinct_emails_4w  100000 non-null  int64   \n",
      " 15  employment_status                 100000 non-null  category\n",
      " 16  credit_risk_score                 100000 non-null  int64   \n",
      " 17  email_is_free                     100000 non-null  int64   \n",
      " 18  housing_status                    100000 non-null  category\n",
      " 19  phone_home_valid                  100000 non-null  int64   \n",
      " 20  phone_mobile_valid                100000 non-null  int64   \n",
      " 21  bank_months_count                 100000 non-null  int64   \n",
      " 22  has_other_cards                   100000 non-null  int64   \n",
      " 23  proposed_credit_limit             100000 non-null  float64 \n",
      " 24  foreign_request                   100000 non-null  int64   \n",
      " 25  source                            100000 non-null  category\n",
      " 26  session_length_in_minutes         100000 non-null  float64 \n",
      " 27  device_os                         100000 non-null  category\n",
      " 28  keep_alive_session                100000 non-null  int64   \n",
      " 29  device_distinct_emails_8w         100000 non-null  int64   \n",
      " 30  month                             100000 non-null  int64   \n",
      "dtypes: category(5), float64(9), int64(17)\n",
      "memory usage: 20.3 MB\n"
     ]
    }
   ],
   "source": [
    "credit.info()"
   ]
  },
  {
   "cell_type": "markdown",
   "id": "9d42ca2f",
   "metadata": {},
   "source": [
    "Fungsi `.info()` mengeluarkan _output_:\n",
    "\n",
    "* Banyak baris pada _dataset_: data `credit` terdiri dari 100000 baris.\n",
    "* Banyak kolom pada _dataset_: data `credit` terdiri dari 31 kolom.\n",
    "* Nama setiap kolom dan tipe datanya.\n",
    "* Banyaknya observasi yang tidak _null_. Kita dapat mengidentifikasi kolom dengan nilai _null_ dari output ini. Data `credit` tidak memiliki _missing values_."
   ]
  },
  {
   "cell_type": "markdown",
   "id": "ea2808a0",
   "metadata": {},
   "source": [
    "## Feature Selection"
   ]
  },
  {
   "cell_type": "markdown",
   "id": "8ce97f8c",
   "metadata": {},
   "source": [
    "_Feature selection_ atau seleksi fitur merupakan proses pemilihan _subset_ fitur (variabel atau atribut) yang paling relevan untuk pembuatan model _machine_ _learning_. _Feature selection_ bertujuan untuk memilih fitur-fitur yang paling sesuai dan mengabaikan fitur-fitur yang tidak relevan atau redundan. \n",
    "\n",
    "Secara umum, terdapat 2 langkah untuk melakukan _feature selection_:\n",
    "\n",
    "**1. _Feature selection_ berdasarkan intuisi bisnis** \n",
    "\n",
    "Artinya, kita memasukkan fitur/variabel/atribut yang menurut pandangan bisnis berpengaruh kuat dalam melakukan prediksi. Langkah ini dapat dilakukan apabila terdapat _domain knowledge_, pandangan ahli, atau kesepakatan yang dapat dijustifikasi kebenarannya.\n",
    "\n",
    "**2. Feature selection berdasarkan perhitungan matematika/statistika**\n",
    "\n",
    "Artinya, pemilihan fitur/variabel/atribut yang akan digunakan untuk membuat _machine_ _learning_ didasarkan pada perhitungan matematis. Sebagai contoh, _feature_ _selection_ yang berpedoman pada perhitungan korelasi setiap kolom.\n",
    "\n",
    "Sekarang, kita akan berfokus kepada kolom-kolom numerikal data kita. Kita akan membuat sebuah _heatmap_ yang menunjukkan korelasi antarkolom numerikal."
   ]
  },
  {
   "cell_type": "code",
   "execution_count": 11,
   "id": "e9a72041",
   "metadata": {
    "execution": {
     "iopub.execute_input": "2024-01-09T01:54:45.853569Z",
     "iopub.status.busy": "2024-01-09T01:54:45.853569Z",
     "iopub.status.idle": "2024-01-09T01:54:47.393103Z",
     "shell.execute_reply": "2024-01-09T01:54:47.392093Z",
     "shell.execute_reply.started": "2024-01-09T01:54:45.853569Z"
    }
   },
   "outputs": [
    {
     "data": {
      "image/png": "[encoded data removed]",
      "text/plain": [
       "<Figure size 1800x1200 with 2 Axes>"
      ]
     },
     "metadata": {},
     "output_type": "display_data"
    }
   ],
   "source": [
    "# cek korelasi \n",
    "\n",
    "corr = credit.select_dtypes(\"number\").corr()\n",
    "matrix = np.triu(corr, k=1)\n",
    "\n",
    "plt.figure(figsize = (18,12));\n",
    "sns.heatmap(corr, annot=True, mask=matrix);"
   ]
  },
  {
   "cell_type": "markdown",
   "id": "67f26a59",
   "metadata": {},
   "source": [
    "Berdasarkan gambar di atas, terlihat bahwa sebagian besar variabel memiliki korelasi yang rendah dengan variabel lainnya. Korelasi yang cukup kuat (sebesar -0.85) terdapat antara `month` dan `velocity_24h`. Idealnya, kita mengharapkan antarkolom numerikal di atas memiliki korelasi yang rendah. \n",
    "\n",
    "> Perlu diperhatikan bahwa beberapa model mengasumsikan antarprediktor tidak saling berkorelasi tinggi, seperti _logistic regression_. Akan tetapi, model yang cukup _robust_, seperti _decision_ _tree_ dan _random_ _forest_ tidak memiliki aturan yang berhubungan dengan korelasi. \n",
    "\n",
    "> _Feature_ _selection_ berdasarkan korelasi hanya merupakan salah satu alternatif dalam melakukan _feature_ _selection_. Metode _feature_ _selection_ lainnya dapat dilihat pada [referensi berikut](https://scikit-learn.org/stable/modules/feature_selection.html)."
   ]
  },
  {
   "cell_type": "markdown",
   "id": "5ee6e9a5",
   "metadata": {},
   "source": [
    "# Data Preprocessing\n",
    "\n",
    "Pada dasarnya, _data_ _preprocessing_ tidak berbeda jauh dengan _data_ _preparation_. Keduanya sering digunakan secara bergantian dan sama-sama mengacu kepada serangkaian proses yang dilakukan untuk menghasilkan data dalam format yang siap digunakan untuk proses analisis lanjutan. Akan tetapi, biasanya _data_ _preparation_ memiliki cakupan yang lebih luas dan _data_ _preprocessing_ termasuk ke dalam cakupan tersebut.\n",
    "\n",
    "Dalam konteks _course_ ini, kita akan mengacu _data_ _preprocessing_ sebagai proses lanjutan yang secara spesifik mempersiapkan data untuk proses _modeling_ menggunakan _machine_ _learning_. Terdapat beberapa _step_ yang umum dilakukan untuk _data_ _preprocessing_:\n",
    "\n",
    "1. Konversi variabel prediktor yang kategorikal menjadi _dummy_ _variables_.\n",
    "2. Pemisahan variabel prediktor dan variabel target.\n",
    "3. _Train-test split_."
   ]
  },
  {
   "cell_type": "markdown",
   "id": "dd82bc09",
   "metadata": {},
   "source": [
    "## Dummy Variables for Categorical Predictor"
   ]
  },
  {
   "cell_type": "markdown",
   "id": "27b90f9b",
   "metadata": {},
   "source": [
    "![](assets/dummy_variable.jpg)"
   ]
  },
  {
   "cell_type": "markdown",
   "id": "a01e3c4f",
   "metadata": {},
   "source": [
    "Adakalanya, data kita memiliki prediktor yang kategorikal, seperti yang terlihat pada gambar. Terdapat kolom `Temperature` dengan tiga variasi nilai: `Hot`, `Cold`, dan `Warm`. Data dalam bentuk seperti ini tidak bisa langsung diproses oleh mesin untuk membuat model _machine_ _learning_. Untuk mengatasi hal tersebut, kita perlu melakukan _processing_ tambahan, yaitu _one-hot encoding_.\n",
    "\n",
    "_One-hot encoding_ merupakan teknik yang digunakan untuk membuat data kategorikal ke dalam representasi yang dapat dimengerti oleh model _machine_ _learning_. _One-hot encoding_ bekerja dengan cara berikut:\n",
    "\n",
    "* Mengidentifikasi nilai unik yang terdapat pada kolom kategorik.\n",
    "* Membuat kolom baru (_dummy_ _variable_) untuk setiap nilai unik.\n",
    "* Memasukkan nilai biner (1 atau 0) ke setiap kolom baru tersebut.\n",
    "\n",
    "Perhatikan kembali gambar di atas. Awalnya terdapat tiga variasi nilai: `Hot`, `Cold`, dan `Warm`. Selanjutnya, dibuat tiga kolom baru untuk setiap variasi nilai: `var_hot`, `var_cold`, dan `var_warm`. Setelah itu, nilai 1 dan 0 dimasukkan ke setiap kolom berdasarkan kolom aslinya.\n",
    "\n",
    "* Jika `Temperature` awalnya adalah `Hot`, maka `var_hot = 1`, `var_cold = 0`, dan `var_warm = 0`.\n",
    "* Jika `Temperature` awalnya adalah `Cold`, maka `var_hot = 0`, `var_cold = 1`, dan `var_warm = 0`.\n",
    "* Jika `Temperature` awalnya adalah `Warm`, maka `var_hot = 0`, `var_cold = 0`, dan `var_warm = 1`.\n",
    "\n",
    "Untuk melakukan _one-hot encoding_, kita dapat memanfaatkan fungsi `pd.get_dummies()` dari `pandas`."
   ]
  },
  {
   "cell_type": "code",
   "execution_count": 12,
   "id": "6176034b",
   "metadata": {
    "execution": {
     "iopub.execute_input": "2024-01-09T01:54:47.395100Z",
     "iopub.status.busy": "2024-01-09T01:54:47.395100Z",
     "iopub.status.idle": "2024-01-09T01:54:47.408684Z",
     "shell.execute_reply": "2024-01-09T01:54:47.407677Z",
     "shell.execute_reply.started": "2024-01-09T01:54:47.395100Z"
    }
   },
   "outputs": [
    {
     "data": {
      "text/html": [
       "<div>\n",
       "<style scoped>\n",
       "    .dataframe tbody tr th:only-of-type {\n",
       "        vertical-align: middle;\n",
       "    }\n",
       "\n",
       "    .dataframe tbody tr th {\n",
       "        vertical-align: top;\n",
       "    }\n",
       "\n",
       "    .dataframe thead th {\n",
       "        text-align: right;\n",
       "    }\n",
       "</style>\n",
       "<table border=\"1\" class=\"dataframe\">\n",
       "  <thead>\n",
       "    <tr style=\"text-align: right;\">\n",
       "      <th></th>\n",
       "      <th>Daerah</th>\n",
       "      <th>Suhu</th>\n",
       "    </tr>\n",
       "  </thead>\n",
       "  <tbody>\n",
       "    <tr>\n",
       "      <th>0</th>\n",
       "      <td>Jakarta</td>\n",
       "      <td>38.00000</td>\n",
       "    </tr>\n",
       "    <tr>\n",
       "      <th>1</th>\n",
       "      <td>Bandung</td>\n",
       "      <td>36.00000</td>\n",
       "    </tr>\n",
       "    <tr>\n",
       "      <th>2</th>\n",
       "      <td>Depok</td>\n",
       "      <td>37.50000</td>\n",
       "    </tr>\n",
       "    <tr>\n",
       "      <th>3</th>\n",
       "      <td>Bekasi</td>\n",
       "      <td>38.00000</td>\n",
       "    </tr>\n",
       "    <tr>\n",
       "      <th>4</th>\n",
       "      <td>Jakarta</td>\n",
       "      <td>39.00000</td>\n",
       "    </tr>\n",
       "  </tbody>\n",
       "</table>\n",
       "</div>"
      ],
      "text/plain": [
       "    Daerah     Suhu\n",
       "0  Jakarta 38.00000\n",
       "1  Bandung 36.00000\n",
       "2    Depok 37.50000\n",
       "3   Bekasi 38.00000\n",
       "4  Jakarta 39.00000"
      ]
     },
     "execution_count": 12,
     "metadata": {},
     "output_type": "execute_result"
    }
   ],
   "source": [
    "# contoh implementasi pd.get_dummies()\n",
    "\n",
    "example_dummy = pd.DataFrame({\n",
    "    \"Daerah\" : ['Jakarta','Bandung','Depok','Bekasi','Jakarta'],\n",
    "    \"Suhu\" : [38, 36, 37.5, 38, 39],\n",
    "})\n",
    "\n",
    "example_dummy"
   ]
  },
  {
   "cell_type": "code",
   "execution_count": 13,
   "id": "dcc75978",
   "metadata": {
    "execution": {
     "iopub.execute_input": "2024-01-09T01:54:47.409688Z",
     "iopub.status.busy": "2024-01-09T01:54:47.409688Z",
     "iopub.status.idle": "2024-01-09T01:54:47.424682Z",
     "shell.execute_reply": "2024-01-09T01:54:47.422681Z",
     "shell.execute_reply.started": "2024-01-09T01:54:47.409688Z"
    }
   },
   "outputs": [
    {
     "data": {
      "text/html": [
       "<div>\n",
       "<style scoped>\n",
       "    .dataframe tbody tr th:only-of-type {\n",
       "        vertical-align: middle;\n",
       "    }\n",
       "\n",
       "    .dataframe tbody tr th {\n",
       "        vertical-align: top;\n",
       "    }\n",
       "\n",
       "    .dataframe thead th {\n",
       "        text-align: right;\n",
       "    }\n",
       "</style>\n",
       "<table border=\"1\" class=\"dataframe\">\n",
       "  <thead>\n",
       "    <tr style=\"text-align: right;\">\n",
       "      <th></th>\n",
       "      <th>Suhu</th>\n",
       "      <th>Daerah_Bandung</th>\n",
       "      <th>Daerah_Bekasi</th>\n",
       "      <th>Daerah_Depok</th>\n",
       "      <th>Daerah_Jakarta</th>\n",
       "    </tr>\n",
       "  </thead>\n",
       "  <tbody>\n",
       "    <tr>\n",
       "      <th>0</th>\n",
       "      <td>38.00000</td>\n",
       "      <td>0</td>\n",
       "      <td>0</td>\n",
       "      <td>0</td>\n",
       "      <td>1</td>\n",
       "    </tr>\n",
       "    <tr>\n",
       "      <th>1</th>\n",
       "      <td>36.00000</td>\n",
       "      <td>1</td>\n",
       "      <td>0</td>\n",
       "      <td>0</td>\n",
       "      <td>0</td>\n",
       "    </tr>\n",
       "    <tr>\n",
       "      <th>2</th>\n",
       "      <td>37.50000</td>\n",
       "      <td>0</td>\n",
       "      <td>0</td>\n",
       "      <td>1</td>\n",
       "      <td>0</td>\n",
       "    </tr>\n",
       "    <tr>\n",
       "      <th>3</th>\n",
       "      <td>38.00000</td>\n",
       "      <td>0</td>\n",
       "      <td>1</td>\n",
       "      <td>0</td>\n",
       "      <td>0</td>\n",
       "    </tr>\n",
       "    <tr>\n",
       "      <th>4</th>\n",
       "      <td>39.00000</td>\n",
       "      <td>0</td>\n",
       "      <td>0</td>\n",
       "      <td>0</td>\n",
       "      <td>1</td>\n",
       "    </tr>\n",
       "  </tbody>\n",
       "</table>\n",
       "</div>"
      ],
      "text/plain": [
       "      Suhu  Daerah_Bandung  Daerah_Bekasi  Daerah_Depok  Daerah_Jakarta\n",
       "0 38.00000               0              0             0               1\n",
       "1 36.00000               1              0             0               0\n",
       "2 37.50000               0              0             1               0\n",
       "3 38.00000               0              1             0               0\n",
       "4 39.00000               0              0             0               1"
      ]
     },
     "execution_count": 13,
     "metadata": {},
     "output_type": "execute_result"
    }
   ],
   "source": [
    "pd.get_dummies(example_dummy, dtype = int)"
   ]
  },
  {
   "cell_type": "markdown",
   "id": "20b4c533",
   "metadata": {},
   "source": [
    "> Detail lebih lanjut bagaimana menggunakan fungsi `pd.get_dummies()` dapat dilihat pada [referensi berikut](https://pandas.pydata.org/docs/reference/api/pandas.get_dummies.html)."
   ]
  },
  {
   "cell_type": "markdown",
   "id": "15d8d08b",
   "metadata": {},
   "source": [
    "Sekarang, kita akan melihat kembali bagaimana data `telco_clean` kita sebelumnya."
   ]
  },
  {
   "cell_type": "code",
   "execution_count": 14,
   "id": "d989954e",
   "metadata": {
    "execution": {
     "iopub.execute_input": "2024-01-09T01:54:47.425681Z",
     "iopub.status.busy": "2024-01-09T01:54:47.425681Z",
     "iopub.status.idle": "2024-01-09T01:54:47.455683Z",
     "shell.execute_reply": "2024-01-09T01:54:47.454687Z",
     "shell.execute_reply.started": "2024-01-09T01:54:47.425681Z"
    }
   },
   "outputs": [
    {
     "data": {
      "text/html": [
       "<div>\n",
       "<style scoped>\n",
       "    .dataframe tbody tr th:only-of-type {\n",
       "        vertical-align: middle;\n",
       "    }\n",
       "\n",
       "    .dataframe tbody tr th {\n",
       "        vertical-align: top;\n",
       "    }\n",
       "\n",
       "    .dataframe thead th {\n",
       "        text-align: right;\n",
       "    }\n",
       "</style>\n",
       "<table border=\"1\" class=\"dataframe\">\n",
       "  <thead>\n",
       "    <tr style=\"text-align: right;\">\n",
       "      <th></th>\n",
       "      <th>fraud_bool</th>\n",
       "      <th>income</th>\n",
       "      <th>name_email_similarity</th>\n",
       "      <th>prev_address_months_count</th>\n",
       "      <th>current_address_months_count</th>\n",
       "      <th>customer_age</th>\n",
       "      <th>days_since_request</th>\n",
       "      <th>intended_balcon_amount</th>\n",
       "      <th>payment_type</th>\n",
       "      <th>zip_count_4w</th>\n",
       "      <th>velocity_6h</th>\n",
       "      <th>velocity_24h</th>\n",
       "      <th>velocity_4w</th>\n",
       "      <th>bank_branch_count_8w</th>\n",
       "      <th>date_of_birth_distinct_emails_4w</th>\n",
       "      <th>employment_status</th>\n",
       "      <th>credit_risk_score</th>\n",
       "      <th>email_is_free</th>\n",
       "      <th>housing_status</th>\n",
       "      <th>phone_home_valid</th>\n",
       "      <th>phone_mobile_valid</th>\n",
       "      <th>bank_months_count</th>\n",
       "      <th>has_other_cards</th>\n",
       "      <th>proposed_credit_limit</th>\n",
       "      <th>foreign_request</th>\n",
       "      <th>source</th>\n",
       "      <th>session_length_in_minutes</th>\n",
       "      <th>device_os</th>\n",
       "      <th>keep_alive_session</th>\n",
       "      <th>device_distinct_emails_8w</th>\n",
       "      <th>month</th>\n",
       "    </tr>\n",
       "  </thead>\n",
       "  <tbody>\n",
       "    <tr>\n",
       "      <th>0</th>\n",
       "      <td>0</td>\n",
       "      <td>0.90000</td>\n",
       "      <td>0.61579</td>\n",
       "      <td>-1</td>\n",
       "      <td>51</td>\n",
       "      <td>40</td>\n",
       "      <td>0.01034</td>\n",
       "      <td>-0.69955</td>\n",
       "      <td>AB</td>\n",
       "      <td>2659</td>\n",
       "      <td>11007.70883</td>\n",
       "      <td>7448.79742</td>\n",
       "      <td>5576.30356</td>\n",
       "      <td>2030</td>\n",
       "      <td>7</td>\n",
       "      <td>CA</td>\n",
       "      <td>253</td>\n",
       "      <td>1</td>\n",
       "      <td>BA</td>\n",
       "      <td>1</td>\n",
       "      <td>1</td>\n",
       "      <td>9</td>\n",
       "      <td>1</td>\n",
       "      <td>1500.00000</td>\n",
       "      <td>0</td>\n",
       "      <td>INTERNET</td>\n",
       "      <td>13.07981</td>\n",
       "      <td>linux</td>\n",
       "      <td>0</td>\n",
       "      <td>1</td>\n",
       "      <td>1</td>\n",
       "    </tr>\n",
       "    <tr>\n",
       "      <th>1</th>\n",
       "      <td>0</td>\n",
       "      <td>0.60000</td>\n",
       "      <td>0.07246</td>\n",
       "      <td>-1</td>\n",
       "      <td>125</td>\n",
       "      <td>20</td>\n",
       "      <td>0.00697</td>\n",
       "      <td>-0.95947</td>\n",
       "      <td>AC</td>\n",
       "      <td>5599</td>\n",
       "      <td>6304.26284</td>\n",
       "      <td>4373.09359</td>\n",
       "      <td>4721.10002</td>\n",
       "      <td>1</td>\n",
       "      <td>13</td>\n",
       "      <td>CA</td>\n",
       "      <td>112</td>\n",
       "      <td>1</td>\n",
       "      <td>BE</td>\n",
       "      <td>1</td>\n",
       "      <td>0</td>\n",
       "      <td>-1</td>\n",
       "      <td>0</td>\n",
       "      <td>200.00000</td>\n",
       "      <td>0</td>\n",
       "      <td>INTERNET</td>\n",
       "      <td>6.66655</td>\n",
       "      <td>windows</td>\n",
       "      <td>0</td>\n",
       "      <td>1</td>\n",
       "      <td>4</td>\n",
       "    </tr>\n",
       "    <tr>\n",
       "      <th>2</th>\n",
       "      <td>1</td>\n",
       "      <td>0.50000</td>\n",
       "      <td>0.07659</td>\n",
       "      <td>-1</td>\n",
       "      <td>37</td>\n",
       "      <td>50</td>\n",
       "      <td>0.00632</td>\n",
       "      <td>-1.21993</td>\n",
       "      <td>AB</td>\n",
       "      <td>1352</td>\n",
       "      <td>1357.41355</td>\n",
       "      <td>6667.02966</td>\n",
       "      <td>6318.87626</td>\n",
       "      <td>15</td>\n",
       "      <td>6</td>\n",
       "      <td>CF</td>\n",
       "      <td>199</td>\n",
       "      <td>1</td>\n",
       "      <td>BC</td>\n",
       "      <td>1</td>\n",
       "      <td>1</td>\n",
       "      <td>28</td>\n",
       "      <td>0</td>\n",
       "      <td>1500.00000</td>\n",
       "      <td>0</td>\n",
       "      <td>INTERNET</td>\n",
       "      <td>4.49267</td>\n",
       "      <td>windows</td>\n",
       "      <td>1</td>\n",
       "      <td>2</td>\n",
       "      <td>0</td>\n",
       "    </tr>\n",
       "    <tr>\n",
       "      <th>3</th>\n",
       "      <td>0</td>\n",
       "      <td>0.30000</td>\n",
       "      <td>0.25543</td>\n",
       "      <td>23</td>\n",
       "      <td>19</td>\n",
       "      <td>20</td>\n",
       "      <td>0.00927</td>\n",
       "      <td>3.24224</td>\n",
       "      <td>AA</td>\n",
       "      <td>3743</td>\n",
       "      <td>5234.26230</td>\n",
       "      <td>6139.48958</td>\n",
       "      <td>4201.72592</td>\n",
       "      <td>1</td>\n",
       "      <td>14</td>\n",
       "      <td>CA</td>\n",
       "      <td>63</td>\n",
       "      <td>1</td>\n",
       "      <td>BC</td>\n",
       "      <td>0</td>\n",
       "      <td>1</td>\n",
       "      <td>16</td>\n",
       "      <td>0</td>\n",
       "      <td>200.00000</td>\n",
       "      <td>0</td>\n",
       "      <td>INTERNET</td>\n",
       "      <td>2.32189</td>\n",
       "      <td>other</td>\n",
       "      <td>1</td>\n",
       "      <td>1</td>\n",
       "      <td>3</td>\n",
       "    </tr>\n",
       "    <tr>\n",
       "      <th>4</th>\n",
       "      <td>0</td>\n",
       "      <td>0.90000</td>\n",
       "      <td>0.19236</td>\n",
       "      <td>-1</td>\n",
       "      <td>34</td>\n",
       "      <td>30</td>\n",
       "      <td>0.01924</td>\n",
       "      <td>-1.13156</td>\n",
       "      <td>AB</td>\n",
       "      <td>546</td>\n",
       "      <td>3589.15345</td>\n",
       "      <td>4574.39557</td>\n",
       "      <td>4318.25891</td>\n",
       "      <td>16</td>\n",
       "      <td>5</td>\n",
       "      <td>CA</td>\n",
       "      <td>275</td>\n",
       "      <td>1</td>\n",
       "      <td>BC</td>\n",
       "      <td>1</td>\n",
       "      <td>1</td>\n",
       "      <td>1</td>\n",
       "      <td>1</td>\n",
       "      <td>1000.00000</td>\n",
       "      <td>0</td>\n",
       "      <td>INTERNET</td>\n",
       "      <td>4.84515</td>\n",
       "      <td>linux</td>\n",
       "      <td>1</td>\n",
       "      <td>1</td>\n",
       "      <td>5</td>\n",
       "    </tr>\n",
       "  </tbody>\n",
       "</table>\n",
       "</div>"
      ],
      "text/plain": [
       "   fraud_bool  income  name_email_similarity  prev_address_months_count  current_address_months_count  customer_age  days_since_request  intended_balcon_amount payment_type  zip_count_4w  velocity_6h  velocity_24h  velocity_4w  bank_branch_count_8w  date_of_birth_distinct_emails_4w employment_status  credit_risk_score  email_is_free housing_status  phone_home_valid  phone_mobile_valid  bank_months_count  has_other_cards  proposed_credit_limit  foreign_request    source  session_length_in_minutes device_os  keep_alive_session  device_distinct_emails_8w  month\n",
       "0           0 0.90000                0.61579                         -1                            51            40             0.01034                -0.69955           AB          2659  11007.70883    7448.79742   5576.30356                  2030                                 7                CA                253              1             BA                 1                   1                  9                1             1500.00000                0  INTERNET                   13.07981     linux                   0                          1      1\n",
       "1           0 0.60000                0.07246                         -1                           125            20             0.00697                -0.95947           AC          5599   6304.26284    4373.09359   4721.10002                     1                                13                CA                112              1             BE                 1                   0                 -1                0              200.00000                0  INTERNET                    6.66655   windows                   0                          1      4\n",
       "2           1 0.50000                0.07659                         -1                            37            50             0.00632                -1.21993           AB          1352   1357.41355    6667.02966   6318.87626                    15                                 6                CF                199              1             BC                 1                   1                 28                0             1500.00000                0  INTERNET                    4.49267   windows                   1                          2      0\n",
       "3           0 0.30000                0.25543                         23                            19            20             0.00927                 3.24224           AA          3743   5234.26230    6139.48958   4201.72592                     1                                14                CA                 63              1             BC                 0                   1                 16                0              200.00000                0  INTERNET                    2.32189     other                   1                          1      3\n",
       "4           0 0.90000                0.19236                         -1                            34            30             0.01924                -1.13156           AB           546   3589.15345    4574.39557   4318.25891                    16                                 5                CA                275              1             BC                 1                   1                  1                1             1000.00000                0  INTERNET                    4.84515     linux                   1                          1      5"
      ]
     },
     "execution_count": 14,
     "metadata": {},
     "output_type": "execute_result"
    }
   ],
   "source": [
    "credit.head()"
   ]
  },
  {
   "cell_type": "markdown",
   "id": "00d54b68",
   "metadata": {},
   "source": [
    "Berdasarkan deskripsi data sebelumnya, kita mengetahui bahwa kita memiliki beberapa kolom kategorikal. \n",
    "\n",
    "Mari kita ubah kolom-kolom tersebut menggunakan `pd.get_dummies()`."
   ]
  },
  {
   "cell_type": "code",
   "execution_count": 15,
   "id": "9c6f01ee",
   "metadata": {
    "execution": {
     "iopub.execute_input": "2024-01-09T01:54:47.460683Z",
     "iopub.status.busy": "2024-01-09T01:54:47.460683Z",
     "iopub.status.idle": "2024-01-09T01:54:47.518679Z",
     "shell.execute_reply": "2024-01-09T01:54:47.516700Z",
     "shell.execute_reply.started": "2024-01-09T01:54:47.460683Z"
    }
   },
   "outputs": [
    {
     "data": {
      "text/html": [
       "<div>\n",
       "<style scoped>\n",
       "    .dataframe tbody tr th:only-of-type {\n",
       "        vertical-align: middle;\n",
       "    }\n",
       "\n",
       "    .dataframe tbody tr th {\n",
       "        vertical-align: top;\n",
       "    }\n",
       "\n",
       "    .dataframe thead th {\n",
       "        text-align: right;\n",
       "    }\n",
       "</style>\n",
       "<table border=\"1\" class=\"dataframe\">\n",
       "  <thead>\n",
       "    <tr style=\"text-align: right;\">\n",
       "      <th></th>\n",
       "      <th>fraud_bool</th>\n",
       "      <th>income</th>\n",
       "      <th>name_email_similarity</th>\n",
       "      <th>prev_address_months_count</th>\n",
       "      <th>current_address_months_count</th>\n",
       "      <th>customer_age</th>\n",
       "      <th>days_since_request</th>\n",
       "      <th>intended_balcon_amount</th>\n",
       "      <th>zip_count_4w</th>\n",
       "      <th>velocity_6h</th>\n",
       "      <th>velocity_24h</th>\n",
       "      <th>velocity_4w</th>\n",
       "      <th>bank_branch_count_8w</th>\n",
       "      <th>date_of_birth_distinct_emails_4w</th>\n",
       "      <th>credit_risk_score</th>\n",
       "      <th>email_is_free</th>\n",
       "      <th>phone_home_valid</th>\n",
       "      <th>phone_mobile_valid</th>\n",
       "      <th>bank_months_count</th>\n",
       "      <th>has_other_cards</th>\n",
       "      <th>proposed_credit_limit</th>\n",
       "      <th>foreign_request</th>\n",
       "      <th>session_length_in_minutes</th>\n",
       "      <th>keep_alive_session</th>\n",
       "      <th>device_distinct_emails_8w</th>\n",
       "      <th>month</th>\n",
       "      <th>payment_type_AB</th>\n",
       "      <th>payment_type_AC</th>\n",
       "      <th>payment_type_AD</th>\n",
       "      <th>payment_type_AE</th>\n",
       "      <th>employment_status_CB</th>\n",
       "      <th>employment_status_CC</th>\n",
       "      <th>employment_status_CD</th>\n",
       "      <th>employment_status_CE</th>\n",
       "      <th>employment_status_CF</th>\n",
       "      <th>employment_status_CG</th>\n",
       "      <th>housing_status_BB</th>\n",
       "      <th>housing_status_BC</th>\n",
       "      <th>housing_status_BD</th>\n",
       "      <th>housing_status_BE</th>\n",
       "      <th>housing_status_BF</th>\n",
       "      <th>housing_status_BG</th>\n",
       "      <th>source_TELEAPP</th>\n",
       "      <th>device_os_macintosh</th>\n",
       "      <th>device_os_other</th>\n",
       "      <th>device_os_windows</th>\n",
       "      <th>device_os_x11</th>\n",
       "    </tr>\n",
       "  </thead>\n",
       "  <tbody>\n",
       "    <tr>\n",
       "      <th>0</th>\n",
       "      <td>0</td>\n",
       "      <td>0.90000</td>\n",
       "      <td>0.61579</td>\n",
       "      <td>-1</td>\n",
       "      <td>51</td>\n",
       "      <td>40</td>\n",
       "      <td>0.01034</td>\n",
       "      <td>-0.69955</td>\n",
       "      <td>2659</td>\n",
       "      <td>11007.70883</td>\n",
       "      <td>7448.79742</td>\n",
       "      <td>5576.30356</td>\n",
       "      <td>2030</td>\n",
       "      <td>7</td>\n",
       "      <td>253</td>\n",
       "      <td>1</td>\n",
       "      <td>1</td>\n",
       "      <td>1</td>\n",
       "      <td>9</td>\n",
       "      <td>1</td>\n",
       "      <td>1500.00000</td>\n",
       "      <td>0</td>\n",
       "      <td>13.07981</td>\n",
       "      <td>0</td>\n",
       "      <td>1</td>\n",
       "      <td>1</td>\n",
       "      <td>1</td>\n",
       "      <td>0</td>\n",
       "      <td>0</td>\n",
       "      <td>0</td>\n",
       "      <td>0</td>\n",
       "      <td>0</td>\n",
       "      <td>0</td>\n",
       "      <td>0</td>\n",
       "      <td>0</td>\n",
       "      <td>0</td>\n",
       "      <td>0</td>\n",
       "      <td>0</td>\n",
       "      <td>0</td>\n",
       "      <td>0</td>\n",
       "      <td>0</td>\n",
       "      <td>0</td>\n",
       "      <td>0</td>\n",
       "      <td>0</td>\n",
       "      <td>0</td>\n",
       "      <td>0</td>\n",
       "      <td>0</td>\n",
       "    </tr>\n",
       "    <tr>\n",
       "      <th>1</th>\n",
       "      <td>0</td>\n",
       "      <td>0.60000</td>\n",
       "      <td>0.07246</td>\n",
       "      <td>-1</td>\n",
       "      <td>125</td>\n",
       "      <td>20</td>\n",
       "      <td>0.00697</td>\n",
       "      <td>-0.95947</td>\n",
       "      <td>5599</td>\n",
       "      <td>6304.26284</td>\n",
       "      <td>4373.09359</td>\n",
       "      <td>4721.10002</td>\n",
       "      <td>1</td>\n",
       "      <td>13</td>\n",
       "      <td>112</td>\n",
       "      <td>1</td>\n",
       "      <td>1</td>\n",
       "      <td>0</td>\n",
       "      <td>-1</td>\n",
       "      <td>0</td>\n",
       "      <td>200.00000</td>\n",
       "      <td>0</td>\n",
       "      <td>6.66655</td>\n",
       "      <td>0</td>\n",
       "      <td>1</td>\n",
       "      <td>4</td>\n",
       "      <td>0</td>\n",
       "      <td>1</td>\n",
       "      <td>0</td>\n",
       "      <td>0</td>\n",
       "      <td>0</td>\n",
       "      <td>0</td>\n",
       "      <td>0</td>\n",
       "      <td>0</td>\n",
       "      <td>0</td>\n",
       "      <td>0</td>\n",
       "      <td>0</td>\n",
       "      <td>0</td>\n",
       "      <td>0</td>\n",
       "      <td>1</td>\n",
       "      <td>0</td>\n",
       "      <td>0</td>\n",
       "      <td>0</td>\n",
       "      <td>0</td>\n",
       "      <td>0</td>\n",
       "      <td>1</td>\n",
       "      <td>0</td>\n",
       "    </tr>\n",
       "    <tr>\n",
       "      <th>2</th>\n",
       "      <td>1</td>\n",
       "      <td>0.50000</td>\n",
       "      <td>0.07659</td>\n",
       "      <td>-1</td>\n",
       "      <td>37</td>\n",
       "      <td>50</td>\n",
       "      <td>0.00632</td>\n",
       "      <td>-1.21993</td>\n",
       "      <td>1352</td>\n",
       "      <td>1357.41355</td>\n",
       "      <td>6667.02966</td>\n",
       "      <td>6318.87626</td>\n",
       "      <td>15</td>\n",
       "      <td>6</td>\n",
       "      <td>199</td>\n",
       "      <td>1</td>\n",
       "      <td>1</td>\n",
       "      <td>1</td>\n",
       "      <td>28</td>\n",
       "      <td>0</td>\n",
       "      <td>1500.00000</td>\n",
       "      <td>0</td>\n",
       "      <td>4.49267</td>\n",
       "      <td>1</td>\n",
       "      <td>2</td>\n",
       "      <td>0</td>\n",
       "      <td>1</td>\n",
       "      <td>0</td>\n",
       "      <td>0</td>\n",
       "      <td>0</td>\n",
       "      <td>0</td>\n",
       "      <td>0</td>\n",
       "      <td>0</td>\n",
       "      <td>0</td>\n",
       "      <td>1</td>\n",
       "      <td>0</td>\n",
       "      <td>0</td>\n",
       "      <td>1</td>\n",
       "      <td>0</td>\n",
       "      <td>0</td>\n",
       "      <td>0</td>\n",
       "      <td>0</td>\n",
       "      <td>0</td>\n",
       "      <td>0</td>\n",
       "      <td>0</td>\n",
       "      <td>1</td>\n",
       "      <td>0</td>\n",
       "    </tr>\n",
       "    <tr>\n",
       "      <th>3</th>\n",
       "      <td>0</td>\n",
       "      <td>0.30000</td>\n",
       "      <td>0.25543</td>\n",
       "      <td>23</td>\n",
       "      <td>19</td>\n",
       "      <td>20</td>\n",
       "      <td>0.00927</td>\n",
       "      <td>3.24224</td>\n",
       "      <td>3743</td>\n",
       "      <td>5234.26230</td>\n",
       "      <td>6139.48958</td>\n",
       "      <td>4201.72592</td>\n",
       "      <td>1</td>\n",
       "      <td>14</td>\n",
       "      <td>63</td>\n",
       "      <td>1</td>\n",
       "      <td>0</td>\n",
       "      <td>1</td>\n",
       "      <td>16</td>\n",
       "      <td>0</td>\n",
       "      <td>200.00000</td>\n",
       "      <td>0</td>\n",
       "      <td>2.32189</td>\n",
       "      <td>1</td>\n",
       "      <td>1</td>\n",
       "      <td>3</td>\n",
       "      <td>0</td>\n",
       "      <td>0</td>\n",
       "      <td>0</td>\n",
       "      <td>0</td>\n",
       "      <td>0</td>\n",
       "      <td>0</td>\n",
       "      <td>0</td>\n",
       "      <td>0</td>\n",
       "      <td>0</td>\n",
       "      <td>0</td>\n",
       "      <td>0</td>\n",
       "      <td>1</td>\n",
       "      <td>0</td>\n",
       "      <td>0</td>\n",
       "      <td>0</td>\n",
       "      <td>0</td>\n",
       "      <td>0</td>\n",
       "      <td>0</td>\n",
       "      <td>1</td>\n",
       "      <td>0</td>\n",
       "      <td>0</td>\n",
       "    </tr>\n",
       "    <tr>\n",
       "      <th>4</th>\n",
       "      <td>0</td>\n",
       "      <td>0.90000</td>\n",
       "      <td>0.19236</td>\n",
       "      <td>-1</td>\n",
       "      <td>34</td>\n",
       "      <td>30</td>\n",
       "      <td>0.01924</td>\n",
       "      <td>-1.13156</td>\n",
       "      <td>546</td>\n",
       "      <td>3589.15345</td>\n",
       "      <td>4574.39557</td>\n",
       "      <td>4318.25891</td>\n",
       "      <td>16</td>\n",
       "      <td>5</td>\n",
       "      <td>275</td>\n",
       "      <td>1</td>\n",
       "      <td>1</td>\n",
       "      <td>1</td>\n",
       "      <td>1</td>\n",
       "      <td>1</td>\n",
       "      <td>1000.00000</td>\n",
       "      <td>0</td>\n",
       "      <td>4.84515</td>\n",
       "      <td>1</td>\n",
       "      <td>1</td>\n",
       "      <td>5</td>\n",
       "      <td>1</td>\n",
       "      <td>0</td>\n",
       "      <td>0</td>\n",
       "      <td>0</td>\n",
       "      <td>0</td>\n",
       "      <td>0</td>\n",
       "      <td>0</td>\n",
       "      <td>0</td>\n",
       "      <td>0</td>\n",
       "      <td>0</td>\n",
       "      <td>0</td>\n",
       "      <td>1</td>\n",
       "      <td>0</td>\n",
       "      <td>0</td>\n",
       "      <td>0</td>\n",
       "      <td>0</td>\n",
       "      <td>0</td>\n",
       "      <td>0</td>\n",
       "      <td>0</td>\n",
       "      <td>0</td>\n",
       "      <td>0</td>\n",
       "    </tr>\n",
       "  </tbody>\n",
       "</table>\n",
       "</div>"
      ],
      "text/plain": [
       "   fraud_bool  income  name_email_similarity  prev_address_months_count  current_address_months_count  customer_age  days_since_request  intended_balcon_amount  zip_count_4w  velocity_6h  velocity_24h  velocity_4w  bank_branch_count_8w  date_of_birth_distinct_emails_4w  credit_risk_score  email_is_free  phone_home_valid  phone_mobile_valid  bank_months_count  has_other_cards  proposed_credit_limit  foreign_request  session_length_in_minutes  keep_alive_session  device_distinct_emails_8w  month  payment_type_AB  payment_type_AC  payment_type_AD  payment_type_AE  employment_status_CB  employment_status_CC  employment_status_CD  employment_status_CE  employment_status_CF  employment_status_CG  housing_status_BB  housing_status_BC  housing_status_BD  housing_status_BE  housing_status_BF  housing_status_BG  source_TELEAPP  device_os_macintosh  device_os_other  device_os_windows  device_os_x11\n",
       "0           0 0.90000                0.61579                         -1                            51            40             0.01034                -0.69955          2659  11007.70883    7448.79742   5576.30356                  2030                                 7                253              1                 1                   1                  9                1             1500.00000                0                   13.07981                   0                          1      1                1                0                0                0                     0                     0                     0                     0                     0                     0                  0                  0                  0                  0                  0                  0               0                    0                0                  0              0\n",
       "1           0 0.60000                0.07246                         -1                           125            20             0.00697                -0.95947          5599   6304.26284    4373.09359   4721.10002                     1                                13                112              1                 1                   0                 -1                0              200.00000                0                    6.66655                   0                          1      4                0                1                0                0                     0                     0                     0                     0                     0                     0                  0                  0                  0                  1                  0                  0               0                    0                0                  1              0\n",
       "2           1 0.50000                0.07659                         -1                            37            50             0.00632                -1.21993          1352   1357.41355    6667.02966   6318.87626                    15                                 6                199              1                 1                   1                 28                0             1500.00000                0                    4.49267                   1                          2      0                1                0                0                0                     0                     0                     0                     0                     1                     0                  0                  1                  0                  0                  0                  0               0                    0                0                  1              0\n",
       "3           0 0.30000                0.25543                         23                            19            20             0.00927                 3.24224          3743   5234.26230    6139.48958   4201.72592                     1                                14                 63              1                 0                   1                 16                0              200.00000                0                    2.32189                   1                          1      3                0                0                0                0                     0                     0                     0                     0                     0                     0                  0                  1                  0                  0                  0                  0               0                    0                1                  0              0\n",
       "4           0 0.90000                0.19236                         -1                            34            30             0.01924                -1.13156           546   3589.15345    4574.39557   4318.25891                    16                                 5                275              1                 1                   1                  1                1             1000.00000                0                    4.84515                   1                          1      5                1                0                0                0                     0                     0                     0                     0                     0                     0                  0                  1                  0                  0                  0                  0               0                    0                0                  0              0"
      ]
     },
     "execution_count": 15,
     "metadata": {},
     "output_type": "execute_result"
    }
   ],
   "source": [
    "credit_enc = pd.get_dummies(credit, \n",
    "                            columns = cat_cols,\n",
    "                            drop_first = True,\n",
    "                            dtype='int64')\n",
    "\n",
    "credit_enc.head()"
   ]
  },
  {
   "cell_type": "markdown",
   "id": "0a5a97cb",
   "metadata": {},
   "source": [
    "## Target & Predictors Splitting"
   ]
  },
  {
   "cell_type": "markdown",
   "id": "b3a27caf",
   "metadata": {},
   "source": [
    "![](assets/predictor_vs_target.png)"
   ]
  },
  {
   "cell_type": "markdown",
   "id": "03c3150c",
   "metadata": {},
   "source": [
    "\n",
    "\n",
    "Di dunia _machine_ _learning_, variabel yang kita gunakan dalam proses pemodelan terbagi menjadi dua:\n",
    "\n",
    "**1. Variabel Prediktor/Variabel Independen ($X$)**\n",
    "\n",
    "\n",
    "Variabel prediktor merupakan variabel-variabel yang digunakan untuk membuat prediksi. Hasil prediksi _machine_ _learning_ sangat bergantung pada nilai dari variabel-variabel prediktor. Variabel prediktor dapat berupa variabel numerikal maupun variabel kategorikal. Umumnya, variabel prediktor dinotasikan dengan $X$. Seperti yang terlihat pada gambar, variabel prediktor ditunjukkan oleh kolom-kolom yang berwarna oranye.\n",
    "\n",
    "**2. Variabel Target/Variabel Dependen ($y$)**\n",
    "\n",
    "Variabel target merupakan variabel yang akan diprediksi menggunakan prediktor. Seperti namanya, hasil prediksi dependen terhadap variabel prediktor. Pada kasus klasifikasi, variabel target merupakan variabel kategorikal. Berbeda dengan _case_ regresi yang variabel targetnya merupakan variabel numerikal. Variabel target dinotasikan sebagai $y$. Pada gambar, variabel target ditunjukkan oleh kolom yang berwarna hijau.\n",
    "\n",
    "Untuk memisahkan variabel prediktor dan variabel target, kita bisa memanfaatkan fungsi `.drop()`. Berdasarkan _problem_ _statement_ sebelumnya, variabel target kita adalah kolom `fraud_bool` dan sisanya merupakan variabel prediktor."
   ]
  },
  {
   "cell_type": "code",
   "execution_count": 16,
   "id": "03474d5e",
   "metadata": {
    "execution": {
     "iopub.execute_input": "2024-01-09T01:54:47.520680Z",
     "iopub.status.busy": "2024-01-09T01:54:47.520680Z",
     "iopub.status.idle": "2024-01-09T01:54:47.547681Z",
     "shell.execute_reply": "2024-01-09T01:54:47.546678Z",
     "shell.execute_reply.started": "2024-01-09T01:54:47.520680Z"
    }
   },
   "outputs": [],
   "source": [
    "# mendefinisikan variabel target\n",
    "y = credit_enc['fraud_bool']\n",
    "\n",
    "# mendefinisikan variabel prediktor\n",
    "X = credit_enc.drop(columns = ['fraud_bool'])"
   ]
  },
  {
   "cell_type": "code",
   "execution_count": 17,
   "id": "846ad68c",
   "metadata": {
    "execution": {
     "iopub.execute_input": "2024-01-09T01:54:47.549681Z",
     "iopub.status.busy": "2024-01-09T01:54:47.548677Z",
     "iopub.status.idle": "2024-01-09T01:54:47.580693Z",
     "shell.execute_reply": "2024-01-09T01:54:47.578702Z",
     "shell.execute_reply.started": "2024-01-09T01:54:47.549681Z"
    }
   },
   "outputs": [
    {
     "data": {
      "text/html": [
       "<div>\n",
       "<style scoped>\n",
       "    .dataframe tbody tr th:only-of-type {\n",
       "        vertical-align: middle;\n",
       "    }\n",
       "\n",
       "    .dataframe tbody tr th {\n",
       "        vertical-align: top;\n",
       "    }\n",
       "\n",
       "    .dataframe thead th {\n",
       "        text-align: right;\n",
       "    }\n",
       "</style>\n",
       "<table border=\"1\" class=\"dataframe\">\n",
       "  <thead>\n",
       "    <tr style=\"text-align: right;\">\n",
       "      <th></th>\n",
       "      <th>income</th>\n",
       "      <th>name_email_similarity</th>\n",
       "      <th>prev_address_months_count</th>\n",
       "      <th>current_address_months_count</th>\n",
       "      <th>customer_age</th>\n",
       "      <th>days_since_request</th>\n",
       "      <th>intended_balcon_amount</th>\n",
       "      <th>zip_count_4w</th>\n",
       "      <th>velocity_6h</th>\n",
       "      <th>velocity_24h</th>\n",
       "      <th>velocity_4w</th>\n",
       "      <th>bank_branch_count_8w</th>\n",
       "      <th>date_of_birth_distinct_emails_4w</th>\n",
       "      <th>credit_risk_score</th>\n",
       "      <th>email_is_free</th>\n",
       "      <th>phone_home_valid</th>\n",
       "      <th>phone_mobile_valid</th>\n",
       "      <th>bank_months_count</th>\n",
       "      <th>has_other_cards</th>\n",
       "      <th>proposed_credit_limit</th>\n",
       "      <th>foreign_request</th>\n",
       "      <th>session_length_in_minutes</th>\n",
       "      <th>keep_alive_session</th>\n",
       "      <th>device_distinct_emails_8w</th>\n",
       "      <th>month</th>\n",
       "      <th>payment_type_AB</th>\n",
       "      <th>payment_type_AC</th>\n",
       "      <th>payment_type_AD</th>\n",
       "      <th>payment_type_AE</th>\n",
       "      <th>employment_status_CB</th>\n",
       "      <th>employment_status_CC</th>\n",
       "      <th>employment_status_CD</th>\n",
       "      <th>employment_status_CE</th>\n",
       "      <th>employment_status_CF</th>\n",
       "      <th>employment_status_CG</th>\n",
       "      <th>housing_status_BB</th>\n",
       "      <th>housing_status_BC</th>\n",
       "      <th>housing_status_BD</th>\n",
       "      <th>housing_status_BE</th>\n",
       "      <th>housing_status_BF</th>\n",
       "      <th>housing_status_BG</th>\n",
       "      <th>source_TELEAPP</th>\n",
       "      <th>device_os_macintosh</th>\n",
       "      <th>device_os_other</th>\n",
       "      <th>device_os_windows</th>\n",
       "      <th>device_os_x11</th>\n",
       "    </tr>\n",
       "  </thead>\n",
       "  <tbody>\n",
       "    <tr>\n",
       "      <th>0</th>\n",
       "      <td>0.90000</td>\n",
       "      <td>0.61579</td>\n",
       "      <td>-1</td>\n",
       "      <td>51</td>\n",
       "      <td>40</td>\n",
       "      <td>0.01034</td>\n",
       "      <td>-0.69955</td>\n",
       "      <td>2659</td>\n",
       "      <td>11007.70883</td>\n",
       "      <td>7448.79742</td>\n",
       "      <td>5576.30356</td>\n",
       "      <td>2030</td>\n",
       "      <td>7</td>\n",
       "      <td>253</td>\n",
       "      <td>1</td>\n",
       "      <td>1</td>\n",
       "      <td>1</td>\n",
       "      <td>9</td>\n",
       "      <td>1</td>\n",
       "      <td>1500.00000</td>\n",
       "      <td>0</td>\n",
       "      <td>13.07981</td>\n",
       "      <td>0</td>\n",
       "      <td>1</td>\n",
       "      <td>1</td>\n",
       "      <td>1</td>\n",
       "      <td>0</td>\n",
       "      <td>0</td>\n",
       "      <td>0</td>\n",
       "      <td>0</td>\n",
       "      <td>0</td>\n",
       "      <td>0</td>\n",
       "      <td>0</td>\n",
       "      <td>0</td>\n",
       "      <td>0</td>\n",
       "      <td>0</td>\n",
       "      <td>0</td>\n",
       "      <td>0</td>\n",
       "      <td>0</td>\n",
       "      <td>0</td>\n",
       "      <td>0</td>\n",
       "      <td>0</td>\n",
       "      <td>0</td>\n",
       "      <td>0</td>\n",
       "      <td>0</td>\n",
       "      <td>0</td>\n",
       "    </tr>\n",
       "    <tr>\n",
       "      <th>1</th>\n",
       "      <td>0.60000</td>\n",
       "      <td>0.07246</td>\n",
       "      <td>-1</td>\n",
       "      <td>125</td>\n",
       "      <td>20</td>\n",
       "      <td>0.00697</td>\n",
       "      <td>-0.95947</td>\n",
       "      <td>5599</td>\n",
       "      <td>6304.26284</td>\n",
       "      <td>4373.09359</td>\n",
       "      <td>4721.10002</td>\n",
       "      <td>1</td>\n",
       "      <td>13</td>\n",
       "      <td>112</td>\n",
       "      <td>1</td>\n",
       "      <td>1</td>\n",
       "      <td>0</td>\n",
       "      <td>-1</td>\n",
       "      <td>0</td>\n",
       "      <td>200.00000</td>\n",
       "      <td>0</td>\n",
       "      <td>6.66655</td>\n",
       "      <td>0</td>\n",
       "      <td>1</td>\n",
       "      <td>4</td>\n",
       "      <td>0</td>\n",
       "      <td>1</td>\n",
       "      <td>0</td>\n",
       "      <td>0</td>\n",
       "      <td>0</td>\n",
       "      <td>0</td>\n",
       "      <td>0</td>\n",
       "      <td>0</td>\n",
       "      <td>0</td>\n",
       "      <td>0</td>\n",
       "      <td>0</td>\n",
       "      <td>0</td>\n",
       "      <td>0</td>\n",
       "      <td>1</td>\n",
       "      <td>0</td>\n",
       "      <td>0</td>\n",
       "      <td>0</td>\n",
       "      <td>0</td>\n",
       "      <td>0</td>\n",
       "      <td>1</td>\n",
       "      <td>0</td>\n",
       "    </tr>\n",
       "    <tr>\n",
       "      <th>2</th>\n",
       "      <td>0.50000</td>\n",
       "      <td>0.07659</td>\n",
       "      <td>-1</td>\n",
       "      <td>37</td>\n",
       "      <td>50</td>\n",
       "      <td>0.00632</td>\n",
       "      <td>-1.21993</td>\n",
       "      <td>1352</td>\n",
       "      <td>1357.41355</td>\n",
       "      <td>6667.02966</td>\n",
       "      <td>6318.87626</td>\n",
       "      <td>15</td>\n",
       "      <td>6</td>\n",
       "      <td>199</td>\n",
       "      <td>1</td>\n",
       "      <td>1</td>\n",
       "      <td>1</td>\n",
       "      <td>28</td>\n",
       "      <td>0</td>\n",
       "      <td>1500.00000</td>\n",
       "      <td>0</td>\n",
       "      <td>4.49267</td>\n",
       "      <td>1</td>\n",
       "      <td>2</td>\n",
       "      <td>0</td>\n",
       "      <td>1</td>\n",
       "      <td>0</td>\n",
       "      <td>0</td>\n",
       "      <td>0</td>\n",
       "      <td>0</td>\n",
       "      <td>0</td>\n",
       "      <td>0</td>\n",
       "      <td>0</td>\n",
       "      <td>1</td>\n",
       "      <td>0</td>\n",
       "      <td>0</td>\n",
       "      <td>1</td>\n",
       "      <td>0</td>\n",
       "      <td>0</td>\n",
       "      <td>0</td>\n",
       "      <td>0</td>\n",
       "      <td>0</td>\n",
       "      <td>0</td>\n",
       "      <td>0</td>\n",
       "      <td>1</td>\n",
       "      <td>0</td>\n",
       "    </tr>\n",
       "    <tr>\n",
       "      <th>3</th>\n",
       "      <td>0.30000</td>\n",
       "      <td>0.25543</td>\n",
       "      <td>23</td>\n",
       "      <td>19</td>\n",
       "      <td>20</td>\n",
       "      <td>0.00927</td>\n",
       "      <td>3.24224</td>\n",
       "      <td>3743</td>\n",
       "      <td>5234.26230</td>\n",
       "      <td>6139.48958</td>\n",
       "      <td>4201.72592</td>\n",
       "      <td>1</td>\n",
       "      <td>14</td>\n",
       "      <td>63</td>\n",
       "      <td>1</td>\n",
       "      <td>0</td>\n",
       "      <td>1</td>\n",
       "      <td>16</td>\n",
       "      <td>0</td>\n",
       "      <td>200.00000</td>\n",
       "      <td>0</td>\n",
       "      <td>2.32189</td>\n",
       "      <td>1</td>\n",
       "      <td>1</td>\n",
       "      <td>3</td>\n",
       "      <td>0</td>\n",
       "      <td>0</td>\n",
       "      <td>0</td>\n",
       "      <td>0</td>\n",
       "      <td>0</td>\n",
       "      <td>0</td>\n",
       "      <td>0</td>\n",
       "      <td>0</td>\n",
       "      <td>0</td>\n",
       "      <td>0</td>\n",
       "      <td>0</td>\n",
       "      <td>1</td>\n",
       "      <td>0</td>\n",
       "      <td>0</td>\n",
       "      <td>0</td>\n",
       "      <td>0</td>\n",
       "      <td>0</td>\n",
       "      <td>0</td>\n",
       "      <td>1</td>\n",
       "      <td>0</td>\n",
       "      <td>0</td>\n",
       "    </tr>\n",
       "    <tr>\n",
       "      <th>4</th>\n",
       "      <td>0.90000</td>\n",
       "      <td>0.19236</td>\n",
       "      <td>-1</td>\n",
       "      <td>34</td>\n",
       "      <td>30</td>\n",
       "      <td>0.01924</td>\n",
       "      <td>-1.13156</td>\n",
       "      <td>546</td>\n",
       "      <td>3589.15345</td>\n",
       "      <td>4574.39557</td>\n",
       "      <td>4318.25891</td>\n",
       "      <td>16</td>\n",
       "      <td>5</td>\n",
       "      <td>275</td>\n",
       "      <td>1</td>\n",
       "      <td>1</td>\n",
       "      <td>1</td>\n",
       "      <td>1</td>\n",
       "      <td>1</td>\n",
       "      <td>1000.00000</td>\n",
       "      <td>0</td>\n",
       "      <td>4.84515</td>\n",
       "      <td>1</td>\n",
       "      <td>1</td>\n",
       "      <td>5</td>\n",
       "      <td>1</td>\n",
       "      <td>0</td>\n",
       "      <td>0</td>\n",
       "      <td>0</td>\n",
       "      <td>0</td>\n",
       "      <td>0</td>\n",
       "      <td>0</td>\n",
       "      <td>0</td>\n",
       "      <td>0</td>\n",
       "      <td>0</td>\n",
       "      <td>0</td>\n",
       "      <td>1</td>\n",
       "      <td>0</td>\n",
       "      <td>0</td>\n",
       "      <td>0</td>\n",
       "      <td>0</td>\n",
       "      <td>0</td>\n",
       "      <td>0</td>\n",
       "      <td>0</td>\n",
       "      <td>0</td>\n",
       "      <td>0</td>\n",
       "    </tr>\n",
       "  </tbody>\n",
       "</table>\n",
       "</div>"
      ],
      "text/plain": [
       "   income  name_email_similarity  prev_address_months_count  current_address_months_count  customer_age  days_since_request  intended_balcon_amount  zip_count_4w  velocity_6h  velocity_24h  velocity_4w  bank_branch_count_8w  date_of_birth_distinct_emails_4w  credit_risk_score  email_is_free  phone_home_valid  phone_mobile_valid  bank_months_count  has_other_cards  proposed_credit_limit  foreign_request  session_length_in_minutes  keep_alive_session  device_distinct_emails_8w  month  payment_type_AB  payment_type_AC  payment_type_AD  payment_type_AE  employment_status_CB  employment_status_CC  employment_status_CD  employment_status_CE  employment_status_CF  employment_status_CG  housing_status_BB  housing_status_BC  housing_status_BD  housing_status_BE  housing_status_BF  housing_status_BG  source_TELEAPP  device_os_macintosh  device_os_other  device_os_windows  device_os_x11\n",
       "0 0.90000                0.61579                         -1                            51            40             0.01034                -0.69955          2659  11007.70883    7448.79742   5576.30356                  2030                                 7                253              1                 1                   1                  9                1             1500.00000                0                   13.07981                   0                          1      1                1                0                0                0                     0                     0                     0                     0                     0                     0                  0                  0                  0                  0                  0                  0               0                    0                0                  0              0\n",
       "1 0.60000                0.07246                         -1                           125            20             0.00697                -0.95947          5599   6304.26284    4373.09359   4721.10002                     1                                13                112              1                 1                   0                 -1                0              200.00000                0                    6.66655                   0                          1      4                0                1                0                0                     0                     0                     0                     0                     0                     0                  0                  0                  0                  1                  0                  0               0                    0                0                  1              0\n",
       "2 0.50000                0.07659                         -1                            37            50             0.00632                -1.21993          1352   1357.41355    6667.02966   6318.87626                    15                                 6                199              1                 1                   1                 28                0             1500.00000                0                    4.49267                   1                          2      0                1                0                0                0                     0                     0                     0                     0                     1                     0                  0                  1                  0                  0                  0                  0               0                    0                0                  1              0\n",
       "3 0.30000                0.25543                         23                            19            20             0.00927                 3.24224          3743   5234.26230    6139.48958   4201.72592                     1                                14                 63              1                 0                   1                 16                0              200.00000                0                    2.32189                   1                          1      3                0                0                0                0                     0                     0                     0                     0                     0                     0                  0                  1                  0                  0                  0                  0               0                    0                1                  0              0\n",
       "4 0.90000                0.19236                         -1                            34            30             0.01924                -1.13156           546   3589.15345    4574.39557   4318.25891                    16                                 5                275              1                 1                   1                  1                1             1000.00000                0                    4.84515                   1                          1      5                1                0                0                0                     0                     0                     0                     0                     0                     0                  0                  1                  0                  0                  0                  0               0                    0                0                  0              0"
      ]
     },
     "execution_count": 17,
     "metadata": {},
     "output_type": "execute_result"
    }
   ],
   "source": [
    "# melihat 5 baris pertama X \n",
    "X.head()"
   ]
  },
  {
   "cell_type": "code",
   "execution_count": 18,
   "id": "415e15db",
   "metadata": {
    "execution": {
     "iopub.execute_input": "2024-01-09T01:54:47.581689Z",
     "iopub.status.busy": "2024-01-09T01:54:47.581689Z",
     "iopub.status.idle": "2024-01-09T01:54:47.595683Z",
     "shell.execute_reply": "2024-01-09T01:54:47.594681Z",
     "shell.execute_reply.started": "2024-01-09T01:54:47.581689Z"
    }
   },
   "outputs": [
    {
     "data": {
      "text/plain": [
       "0    0\n",
       "1    0\n",
       "2    1\n",
       "3    0\n",
       "4    0\n",
       "Name: fraud_bool, dtype: int64"
      ]
     },
     "execution_count": 18,
     "metadata": {},
     "output_type": "execute_result"
    }
   ],
   "source": [
    "# melihat 5 baris pertama y\n",
    "\n",
    "y.head()"
   ]
  },
  {
   "cell_type": "markdown",
   "id": "e5371eda",
   "metadata": {},
   "source": [
    "## Cross Validation"
   ]
  },
  {
   "cell_type": "markdown",
   "id": "562cb4bf",
   "metadata": {},
   "source": [
    "![](assets/cv.png)"
   ]
  },
  {
   "cell_type": "markdown",
   "id": "6daef47b",
   "metadata": {},
   "source": [
    "Sebelum membuat model _machine_ _learning_ untuk klasifikasi, kita akan berkenalan dengan konsep _cross_ _validation_ di mana kita: \n",
    "\n",
    "1. Memisahkan _dataset_ kita menjadi _training_ _set_, _validation_ _set_, dan _testing_ _set_.\n",
    "2. Melatih model kita hanya menggunakan _training_ _set_.\n",
    "3. Mengevaluasi model pada _validation_ _set_ dan kembali ke langkah sebelumnya jika perlu (misalnya, memilih variabel prediktor yang berbeda, menggunakan parameter yang berbeda, atau menyetel aspek lain dari spesifikasi model).\n",
    "4. Memilih model final berdasarkan kriteria evaluasi, misalnya berdasarkan akurasi.\n",
    "5. Mendapatkan hasil prediksi yang tidak bias saat melakukan prediksi pada _testing_ _set_.\n",
    "\n",
    "Kita dapat mengulangi langkah 2 dan langkah 3 sebanyak yang diperlukan. Misalnya, kita ingin menguji berbagai metode klasifikasi, mengganti parameter model, atau kombinasi variabel prediktor yang berbeda. Dari hasil percobaan tersebut, kita memilih model terbaik berdasarkan suatu kriteria evaluasi. Model terbaik ini yang akan digunakan untuk memprediksi data pada _testing_ _set_. Perlu diperhatikan bahwa _testing_ _set_ tidak boleh digunakan selama proses pelatihan model. Dalam hal ini, _testing_ _set_ merupakan data baru yang tidak ditemui model selama proses pelatihan."
   ]
  },
  {
   "cell_type": "markdown",
   "id": "f39a3186",
   "metadata": {},
   "source": [
    "### Train-Test Split"
   ]
  },
  {
   "cell_type": "markdown",
   "id": "1c575233",
   "metadata": {},
   "source": [
    "Untuk mengimplementasikan _cross_ _validation_, kita dapat menggunakan fungsi `train_test_split()` dari _package_ `sklearn`."
   ]
  },
  {
   "cell_type": "markdown",
   "id": "9f3fc2e4",
   "metadata": {},
   "source": [
    "> Terdapat banyak praktik terkait berapa persentase dari data yang dialokasikan untuk _training_ _set_ dan _testing_ _set_. Beberapa praktik yang cukup umum adalah 80% untuk _training_ _set_ dan 20% untuk _testing_ _set_. Praktik lainnya menggunakan 75% dari data untuk _training_ _set_ dan 25% untuk _testing_ _set_.  \n",
    "\n",
    "> **_Note_**: perlu diingat bahwa proporsi untuk _training_ _set_ selalu lebih besar."
   ]
  },
  {
   "cell_type": "code",
   "execution_count": 19,
   "id": "a026b7ae",
   "metadata": {
    "execution": {
     "iopub.execute_input": "2024-01-09T01:54:47.597682Z",
     "iopub.status.busy": "2024-01-09T01:54:47.596680Z",
     "iopub.status.idle": "2024-01-09T01:54:47.660681Z",
     "shell.execute_reply": "2024-01-09T01:54:47.658679Z",
     "shell.execute_reply.started": "2024-01-09T01:54:47.597682Z"
    }
   },
   "outputs": [],
   "source": [
    "# implementasi train_test_split dengan test_size sebesar 20% dari keseluruhan data\n",
    "\n",
    "X_train, X_test, y_train, y_test = train_test_split(X, y, test_size=0.20, random_state=42, stratify=y)"
   ]
  },
  {
   "cell_type": "code",
   "execution_count": 20,
   "id": "bc7eab2d",
   "metadata": {
    "execution": {
     "iopub.execute_input": "2024-01-09T01:54:47.662684Z",
     "iopub.status.busy": "2024-01-09T01:54:47.661680Z",
     "iopub.status.idle": "2024-01-09T01:54:47.676684Z",
     "shell.execute_reply": "2024-01-09T01:54:47.674683Z",
     "shell.execute_reply.started": "2024-01-09T01:54:47.661680Z"
    }
   },
   "outputs": [
    {
     "data": {
      "text/plain": [
       "((100000, 46), (100000,))"
      ]
     },
     "execution_count": 20,
     "metadata": {},
     "output_type": "execute_result"
    }
   ],
   "source": [
    "# shape data awal\n",
    "\n",
    "X.shape, y.shape"
   ]
  },
  {
   "cell_type": "code",
   "execution_count": 21,
   "id": "2f710d26",
   "metadata": {
    "execution": {
     "iopub.execute_input": "2024-01-09T01:54:47.677684Z",
     "iopub.status.busy": "2024-01-09T01:54:47.677684Z",
     "iopub.status.idle": "2024-01-09T01:54:47.692677Z",
     "shell.execute_reply": "2024-01-09T01:54:47.690680Z",
     "shell.execute_reply.started": "2024-01-09T01:54:47.677684Z"
    }
   },
   "outputs": [
    {
     "data": {
      "text/plain": [
       "((80000, 46), (80000,))"
      ]
     },
     "execution_count": 21,
     "metadata": {},
     "output_type": "execute_result"
    }
   ],
   "source": [
    "# shape data untuk training set\n",
    "\n",
    "X_train.shape, y_train.shape"
   ]
  },
  {
   "cell_type": "code",
   "execution_count": 22,
   "id": "e725b5c0",
   "metadata": {
    "execution": {
     "iopub.execute_input": "2024-01-09T01:54:47.693681Z",
     "iopub.status.busy": "2024-01-09T01:54:47.693681Z",
     "iopub.status.idle": "2024-01-09T01:54:47.707681Z",
     "shell.execute_reply": "2024-01-09T01:54:47.706677Z",
     "shell.execute_reply.started": "2024-01-09T01:54:47.693681Z"
    }
   },
   "outputs": [
    {
     "data": {
      "text/plain": [
       "((20000, 46), (20000,))"
      ]
     },
     "execution_count": 22,
     "metadata": {},
     "output_type": "execute_result"
    }
   ],
   "source": [
    "# shape data untuk testing set\n",
    "\n",
    "X_test.shape, y_test.shape"
   ]
  },
  {
   "cell_type": "markdown",
   "id": "517f8799",
   "metadata": {},
   "source": [
    "### Class Balance & Imbalance"
   ]
  },
  {
   "cell_type": "markdown",
   "id": "667cef2e",
   "metadata": {},
   "source": [
    "![](assets/balance_vs_imbalance.png)"
   ]
  },
  {
   "cell_type": "markdown",
   "id": "be75492e",
   "metadata": {},
   "source": [
    "_Imbalance_ merupakan suatu kondisi di mana terdapat satu kelas yang proporsinya lebih banyak (mayoritas) dibandingkan kelas lainnya. _Imbalance_ sangat sering ditemui di dunia nyata, termasuk pada _dataset_ yang kita gunakan saat ini. \n",
    "\n",
    "Sekarang, mari kita lihat bagaimana proporsi antara label 0 dan 1 pada `y_train` menggunakan fungsi `.value_counts()`."
   ]
  },
  {
   "cell_type": "code",
   "execution_count": 23,
   "id": "c8999fa6",
   "metadata": {
    "execution": {
     "iopub.execute_input": "2024-01-09T01:54:47.710680Z",
     "iopub.status.busy": "2024-01-09T01:54:47.709683Z",
     "iopub.status.idle": "2024-01-09T01:54:47.722690Z",
     "shell.execute_reply": "2024-01-09T01:54:47.721679Z",
     "shell.execute_reply.started": "2024-01-09T01:54:47.710680Z"
    }
   },
   "outputs": [
    {
     "data": {
      "text/plain": [
       "fraud_bool\n",
       "0    71177\n",
       "1     8823\n",
       "Name: count, dtype: int64"
      ]
     },
     "execution_count": 23,
     "metadata": {},
     "output_type": "execute_result"
    }
   ],
   "source": [
    "y_train.value_counts()"
   ]
  },
  {
   "cell_type": "markdown",
   "id": "390a7aeb",
   "metadata": {},
   "source": [
    "Terlihat bahwa kelas 0, yakni pembeli yang tidak membeli produk lebih banyak dari pada kelas 1, yakni pembeli yang membeli produk. Kasus _imbalance_ ini perlu ditangani dengan benar untuk mencegah model bias ke salah satu kelas. Dalam hal ini, model lebih banyak mempelajari contoh kasus dari kelas 0 dan tidak dapat mengidentifikasi karakteristik dari kelas 1 dengan benar. \n",
    "\n",
    "> Teknik yang bisa dimanfaatkan untuk mengatasi _imbalance_ _dataset_ adalah _oversampling_ (_upsampling_) dan _undersampling_ (_downsampling_). Referensi terkait metode _handling_ _imbalance_ _dataset_ dapat dilihat [di sini](https://imbalanced-learn.org/stable/introduction.html)"
   ]
  },
  {
   "cell_type": "markdown",
   "id": "7cc1959d",
   "metadata": {},
   "source": [
    "# Model Classification 1 - Logistic Regression"
   ]
  },
  {
   "cell_type": "markdown",
   "id": "0ce780c6",
   "metadata": {},
   "source": [
    "Sejauh ini, kita sudah melakukan persiapan untuk membuat model _machine_ _learning_ yang bisa melakukan klasifikasi. Mulai dari akses data yang akan digunakan sampai melakukan _sampling_ untuk mengatasi data yang _imbalance_. Model pertama yang akan kita gunakan untuk melakukan klasifikasi adalah _logistic_ _regression_.\n",
    "\n",
    "_Logistic_ _regression_ merupakan metode klasifikasi yang menjadi pondasi untuk menentukan hasil prediksi $y$. \n",
    "\n",
    "* Apabila $y$ merupakan satu nilai di antara dua pilihan kategorikal (biner), _logistic_ _regression_ dapat juga disebut sebagai _binomial_ _logistic_ _regression_. \n",
    "* Apabila $y$ merupakan satu nilai di antara banyak pilihan kategorikal, _logistic_ _regression_ dapat juga disebut sebagai _multinomimial_ _logistic_ _regression_. \n",
    "\n",
    "_Logistic_ _regression_ menggunakan konsep _probability_/peluang untuk mengeluarkan prediksi. Oleh karena itu, kita akan coba untuk meninjau kembali konsep peluang.\n"
   ]
  },
  {
   "cell_type": "markdown",
   "id": "fc3ce75b",
   "metadata": {},
   "source": [
    "## Probability\n",
    "\n",
    "Secara sederhana, _probability_/peluang dapat dikatakan sebagai besarnya kemungkinan sesuatu akan terjadi. Apabila didefinisikan secara matematis, peluang $p$ suatu kejadian dapat dirumuskan:\n",
    "\n",
    "$$\n",
    "    p = \\frac{frekuensi \\; kejadian \\; yang \\; diharapkan}{frekuensi \\; seluruh \\; percobaan}\n",
    "$$\n",
    "\n",
    "Contoh:\n",
    "\n",
    "* Jika terdapat 20 dari 100 pelanggan perusahaan telekomunikasi yang _churn_ (hilang), maka peluang _churn_ $= \\frac{20}{100} = 0.2$.\n",
    "* Jika 3 dari 5 _email_ terdeteksi sebagai email yang _spam_, maka peluang _spam_ $= \\frac{3}{5} = 0.6$. \n",
    "* Jika 4 dari 5 penerbangan dilakukan tepat waktu, maka peluang penerbangan dilakukan tepat waktu $= \\frac{4}{5} = 0.8$. \n",
    "\n",
    "Berikut merupakan beberapa poin penting yang perlu diingat mengenai peluang:\n",
    "\n",
    "* _Range_ peluang adalah 0 sampai 1. 0 artinya kejadian tersebut mustahil terjadi dan 1 artinya kejadian tersebut pasti terjadi.\n",
    "* Bila $p$ merupakan peluang suatu peristiwa untuk terjadi, maka $q$ adalah peluang di mana peristiwa tidak terjadi (peluang komplemen). Secara matematis:\n",
    "\n",
    "$$\n",
    "p + q = 1 \\rightarrow q = 1-p\n",
    "$$\n"
   ]
  },
  {
   "cell_type": "markdown",
   "id": "ca248dee",
   "metadata": {},
   "source": [
    "## Relating Probabilities to Odds \n",
    "\n",
    "Selama ini, kita hanya mengenal $p$ untuk menyatakan suatu kemungkinan/peluang. Sekarang, kita akan mendalami konsep lain yang juga digunakan untuk membahasakan peluang, yakni _odds_.\n",
    "\n",
    "_Odds_ secara sederhana merupakan rasio peluang suatu peristiwa terjadi ($p$) dan peluang suatu peristiwa tidak terjadi/peluang komplemen peristiwa tersebut ($q$).\n",
    "\n",
    "$$\n",
    "Odds = \\frac{p}{q} = \\frac{p}{1-p}\n",
    "$$\n",
    "\n",
    "Apabila kita menggunakan kembali contoh pada bagian _probability_:\n",
    "\n",
    "* _Odds_ pelanggan yang _churn_ dari perusahaan telekomunikasi $= \\frac{0.2}{0.8} = 0.125$. Artinya, peluang pelanggan untuk kembali/berlangganan kembali 4 kali lebih besar dibandingkan dengan peluang pelanggan yang hilang.\n",
    "* _Odds_ _email_ yang _spam_ $= \\frac{0.6}{0.4} = 1.5$. Artinya, peluang suatu email untuk _spam_ 1.5 kali lebih tinggi daripada _email_ tersebut tidak _spam_.\n",
    "* _Odds_ penerbangan tepat waktu $= \\frac{0.8}{0.2} = 4$. Artinya, suatu penerbangan 4 kali lebih berkemungkinan untuk berangkat tepat waktu.\n",
    "\n",
    "Apabila kita membuat suatu plot yang menunjukkan hubungan peluang $p$ dan nilai _odds_-nya:"
   ]
  },
  {
   "cell_type": "code",
   "execution_count": 24,
   "id": "796d0968",
   "metadata": {
    "execution": {
     "iopub.execute_input": "2024-01-09T01:54:47.724678Z",
     "iopub.status.busy": "2024-01-09T01:54:47.724678Z",
     "iopub.status.idle": "2024-01-09T01:54:47.879107Z",
     "shell.execute_reply": "2024-01-09T01:54:47.878111Z",
     "shell.execute_reply.started": "2024-01-09T01:54:47.724678Z"
    }
   },
   "outputs": [
    {
     "data": {
      "image/png": "[encoded data removed]",
      "text/plain": [
       "<Figure size 640x480 with 1 Axes>"
      ]
     },
     "metadata": {},
     "output_type": "display_data"
    }
   ],
   "source": [
    "x = np.linspace(0.01, 0.99, 100)\n",
    "y = x/(1-x)\n",
    "\n",
    "plt.plot(x,y);\n",
    "plt.ylabel('Odds');\n",
    "plt.xlabel('Probability');\n",
    "plt.ylim(0,10);"
   ]
  },
  {
   "cell_type": "markdown",
   "id": "45c642f9",
   "metadata": {},
   "source": [
    "Terlihat bahwa hubungan antara peluang $p$ dan _odds_-nya adalah monotonik. Semakin besar nilai peluang $p$, semakin besar nilai _odds_.\n",
    "\n",
    "> _Range_ nilai _odds_ adalah 0 sampai `+Inf`"
   ]
  },
  {
   "cell_type": "markdown",
   "id": "f1a8169c",
   "metadata": {},
   "source": [
    "### Log of Odds\n",
    "\n",
    "Sebelumnya kita sudah mengenal _odds_ sebagai perbandingan antara peluang $p$ dan komplemen $q$. _Log of odds_ tidak lain merupakan _odds_ yang ditransformasi dengan fungsi `log()`. Untuk transformasi ini, kita bisa memanfaatkan fungsi `np.log()` dari _package_ `numpy`.\n",
    "\n",
    "$$\n",
    "log(odds) = log(\\frac{p}{q}) = log(\\frac{p}{1-p}) = logit(p)\n",
    "$$\n",
    "\n",
    "Misalnya, kita memiliki peluang $p$ = 0.2. Untuk mendapatkan _log_ _of_ _odds_-nya:"
   ]
  },
  {
   "cell_type": "code",
   "execution_count": 25,
   "id": "7a47bd31",
   "metadata": {
    "execution": {
     "iopub.execute_input": "2024-01-09T01:54:47.881109Z",
     "iopub.status.busy": "2024-01-09T01:54:47.880106Z",
     "iopub.status.idle": "2024-01-09T01:54:47.896107Z",
     "shell.execute_reply": "2024-01-09T01:54:47.894112Z",
     "shell.execute_reply.started": "2024-01-09T01:54:47.881109Z"
    }
   },
   "outputs": [
    {
     "name": "stdout",
     "output_type": "stream",
     "text": [
      "0.25\n",
      "-1.3862943611198906\n"
     ]
    }
   ],
   "source": [
    "# menentukan log of odds untuk peluang p = 0.2\n",
    "\n",
    "p = 0.2\n",
    "odds = p/(1-p)\n",
    "log_odds = np.log(odds)\n",
    "\n",
    "print(odds)\n",
    "print(log_odds)"
   ]
  },
  {
   "cell_type": "markdown",
   "id": "b8c32628",
   "metadata": {},
   "source": [
    "Untuk $p$ = 0.2 didapatkan nilai _log of odds_-nya adalah -1.3862943611198906. "
   ]
  },
  {
   "cell_type": "markdown",
   "id": "58db65fc",
   "metadata": {},
   "source": [
    "> _Range_ nilai _log of odds_ adalah `-Inf` sampai `+Inf`."
   ]
  },
  {
   "cell_type": "markdown",
   "id": "7b4fa682",
   "metadata": {},
   "source": [
    "Apabila kita ingin mendapatkan kembali nilai _odds_ dari nilai _log_ _of_ _odds_ tersebut, kita bisa menggunakan fungsi `np.exp()` dari _package_ `numpy`."
   ]
  },
  {
   "cell_type": "code",
   "execution_count": 26,
   "id": "0d28786e",
   "metadata": {
    "execution": {
     "iopub.execute_input": "2024-01-09T01:54:47.898114Z",
     "iopub.status.busy": "2024-01-09T01:54:47.897109Z",
     "iopub.status.idle": "2024-01-09T01:54:47.911113Z",
     "shell.execute_reply": "2024-01-09T01:54:47.910107Z",
     "shell.execute_reply.started": "2024-01-09T01:54:47.898114Z"
    }
   },
   "outputs": [
    {
     "data": {
      "text/plain": [
       "0.25"
      ]
     },
     "execution_count": 26,
     "metadata": {},
     "output_type": "execute_result"
    }
   ],
   "source": [
    "# mendapatkan nilai odds dari nilai log of odds = -1.3862943611198906\n",
    "\n",
    "np.exp(log_odds)"
   ]
  },
  {
   "cell_type": "markdown",
   "id": "e02ba937",
   "metadata": {},
   "source": [
    "Untuk mendapatkan nilai peluang dari _log_ _of_ _odds_:"
   ]
  },
  {
   "cell_type": "code",
   "execution_count": 27,
   "id": "52a03e8b",
   "metadata": {
    "execution": {
     "iopub.execute_input": "2024-01-09T01:54:47.913109Z",
     "iopub.status.busy": "2024-01-09T01:54:47.913109Z",
     "iopub.status.idle": "2024-01-09T01:54:47.927109Z",
     "shell.execute_reply": "2024-01-09T01:54:47.926106Z",
     "shell.execute_reply.started": "2024-01-09T01:54:47.913109Z"
    }
   },
   "outputs": [
    {
     "data": {
      "text/plain": [
       "0.2"
      ]
     },
     "execution_count": 27,
     "metadata": {},
     "output_type": "execute_result"
    }
   ],
   "source": [
    "# mendapatkan nilai p dari lof of odds\n",
    "\n",
    "1/(1 + np.exp(-log_odds))"
   ]
  },
  {
   "cell_type": "markdown",
   "id": "86c80169",
   "metadata": {},
   "source": [
    "**[_Key Points_]**\n",
    "\n",
    "* Proses transformasi: peluang - _odds_ - _log of odds_.\n",
    "\n",
    "* Mengubah peluang menjadi _odds_: $$\\frac{p}{1-p}$$\n",
    "\n",
    "* Mengubah _odds_ menjadi _log_ _of_ _odds_: $$log(odds)$$\n",
    "\n",
    "* Mengubah _log_ _of_ _odds_ menjadi _odds_: $$exp(log(odds))$$\n",
    "\n",
    "* Mengubah _log_ _of_ _odds_ menjadi peluang : $$ \\frac{1}{(1 + e^{(-log \\; of \\; odds)})}$$"
   ]
  },
  {
   "cell_type": "markdown",
   "id": "4caf21c0",
   "metadata": {},
   "source": [
    "Berikut merupakan plot antara peluang $p$ dengan nilai _log_ _of_ _odds_-nya. "
   ]
  },
  {
   "cell_type": "code",
   "execution_count": 28,
   "id": "773e4987",
   "metadata": {
    "execution": {
     "iopub.execute_input": "2024-01-09T01:54:47.929108Z",
     "iopub.status.busy": "2024-01-09T01:54:47.928107Z",
     "iopub.status.idle": "2024-01-09T01:54:48.075764Z",
     "shell.execute_reply": "2024-01-09T01:54:48.074930Z",
     "shell.execute_reply.started": "2024-01-09T01:54:47.929108Z"
    }
   },
   "outputs": [
    {
     "data": {
      "image/png": "[encoded data removed]",
      "text/plain": [
       "<Figure size 640x480 with 1 Axes>"
      ]
     },
     "metadata": {},
     "output_type": "display_data"
    }
   ],
   "source": [
    "x = np.linspace(0.01, 0.99, 100)\n",
    "odds = x/(1-x)\n",
    "y = np.log(odds)\n",
    "\n",
    "plt.plot(x,y);\n",
    "plt.ylabel('Log of Odds');\n",
    "plt.xlabel('Probability');\n",
    "plt.ylim(-5,5);"
   ]
  },
  {
   "cell_type": "markdown",
   "id": "bae312cb",
   "metadata": {},
   "source": [
    "Pada plot di atas, kita melihat peluang $p$ pada sumbu $x$ dan _log of odds_ pada sumbu $y$. Sekarang, kita lebih tertarik dengan nilai peluang. Bagaimana jika kita tukar posisi keduanya sehinga _log of odds_ terletak pada sumbu $x$ dan peluang $p$ pada sumbu $y$?"
   ]
  },
  {
   "cell_type": "code",
   "execution_count": 29,
   "id": "33222365",
   "metadata": {
    "execution": {
     "iopub.execute_input": "2024-01-09T01:54:48.076767Z",
     "iopub.status.busy": "2024-01-09T01:54:48.076767Z",
     "iopub.status.idle": "2024-01-09T01:54:48.231648Z",
     "shell.execute_reply": "2024-01-09T01:54:48.229658Z",
     "shell.execute_reply.started": "2024-01-09T01:54:48.076767Z"
    }
   },
   "outputs": [
    {
     "data": {
      "image/png": "[encoded data removed]",
      "text/plain": [
       "<Figure size 640x480 with 1 Axes>"
      ]
     },
     "metadata": {},
     "output_type": "display_data"
    }
   ],
   "source": [
    "y = np.linspace(0.01, 0.99, 100)\n",
    "odds = y/(1-y)\n",
    "x = np.log(odds)\n",
    "\n",
    "plt.plot(x,y);\n",
    "plt.ylabel('Probability Function');\n",
    "plt.xlabel('Log of Odds');\n",
    "plt.ylim(0,1);"
   ]
  },
  {
   "cell_type": "markdown",
   "id": "4fd8720b",
   "metadata": {},
   "source": [
    "Ternyata kita mendapatkan grafik berbentuk huruf S. Plot di atas tidak lain merupakan plot dari fungsi sigmoid yang digunakan oleh model _logistic regression_ untuk memprediksi peluang. \n",
    "\n",
    "$$ Sigmoid(x) = \\frac{1}{1+e^{-x}}$$\n",
    "\n",
    "Peluang inilah yang nantinya akan menjadi patokan apakah data kita termasuk dalam kelas 0 atau 1. Misalnya, dengan menetapkan _threshold_ 0.5, apabila kita memiliki prediksi peluang sebesar 0.8, maka kita mengategorikan bahwa data termasuk ke dalam kelas 1. "
   ]
  },
  {
   "cell_type": "markdown",
   "id": "ed403ac9",
   "metadata": {},
   "source": [
    "## Logistic Regression from First Principles \n",
    "\n",
    "Meskipun namanya mengandung kata \"_regression_\", _logistic_ _regression_ tidak ditujukan untuk _case_ regresi. _Nature_ dari _logistic_ _regression_ yang melibatkan konsep peluang membuatnya lebih cocok untuk _case_ klasifikasi. Apabila ditinjau lebih lanjut, _logistic regression_ dapat dikatakan sebagai versi spesial dari regresi linear.\n",
    "\n",
    "_Recall_ kembali bahwa pada regresi linear, kita memprediksi variabel target yang kontinu. Hubungan antara prediktor $x$ dan target $y$ dapat dituliskan sebagai berikut.\n",
    "\n",
    "$$\n",
    "y = \\beta_0 + \\beta_1 \\cdot x_1 + \\beta_2 \\cdot x_2 + ... + \\beta_n \\cdot x_n\n",
    "$$\n",
    "\n",
    "Keterangan:\n",
    "\n",
    "* n = banyak prediktor\n",
    "* $\\beta_0$  = _intercept_. _Intercept_ menunjukkan nilai $y$ saat semua prediktornya 0.\n",
    "* $\\beta_1$, $\\beta_2$, ..., $\\beta_n$ = koefisien prediktor. Koefisien prediktor menunjukkan besarnya kenaikan variabel target saat variabel prediktor naik sebesar 1 satuan dengan catatan nilai semua prediktor lainnya tetap.\n",
    "\n",
    "Dengan formulasi di atas, maka variabel target $y$ untuk _case_ regresi dapat memiliki nilai pada _range_ `-Inf` sampai `+Inf`.\n",
    "\n",
    "Apabila kita menggunakan formulasi yang sama untuk memprediksi peluang pada _case_ klasifikasi, maka tidak akan sesuai. Ingat kembali bahwa peluang hanya memiliki _range_ dari 0 sampai 1. Untuk menyiasati hal tersebut, kita perlu menggunakan \"representasi lain/transformasi\" dari peluang di mana \"representasi lain/transformasi\" tersebut memiliki nilai pada _range_ `-Inf` sampai `+Inf`. \n",
    "\n",
    "Masih ingat dengan _log of odds_ yang kita bahas pada bagian sebelumnya? Kita akan menggunakan _log of odds_ sebagai \"representasi lain/transformasi\" dari peluang. Dengan demikian, untuk _case_ klasifikasi menggunakan _logistic regression_, formulasi sebelumnya dapat ditulis ulang sebagai berikut: \n",
    "\n",
    "$$\n",
    "log(\\frac{p}{1-p}) = logit(p) = \\beta_0 + \\beta_1 \\cdot x_1 + \\beta_2 \\cdot x_2 + ... + \\beta_n \\cdot x_n\n",
    "$$\n",
    "\n",
    "Untuk mengubah _log of odds_ menjadi peluang yang diinginkan, kita menggunakan fungsi sigmoid yang plot grafiknya sempat kita gambarkan pada bagian sebelumnya.\n",
    "\n",
    "$$\n",
    "p(x) = Sigmoid(\\beta_0 + \\beta_1 \\cdot x_1 + ... + \\beta_n \\cdot x_n)  = \\frac{1}{1 + e^{-(\\beta_0 + \\beta_1 \\cdot x_1 + ... + \\beta_n \\cdot x_n)}}\n",
    "$$"
   ]
  },
  {
   "cell_type": "markdown",
   "id": "4bb16660",
   "metadata": {},
   "source": [
    "**[_Key Points_]**\n",
    "\n",
    "* Pada _logistic regression_, kita memprediksi _log of odds_ sebagai bentuk lain dari peluang.\n",
    "\n",
    "* Fungsi sigmoid digunakan untuk _mapping_ _log of odds_ menjadi peluang."
   ]
  },
  {
   "cell_type": "markdown",
   "id": "8e27ede2",
   "metadata": {},
   "source": [
    "## Logistic Regression in Action\n",
    "\n",
    "Pada bagian sebelumnya, kita telah mengetahui bahwa:\n",
    "\n",
    "* _Logistic regression_ mengeluarkan prediksi dalam bentuk _log of odds_.\n",
    "* Untuk mengubah _log of odds_ menjadi peluang, digunakan fungsi sigmoid.\n",
    "\n",
    "Pada bagian ini, kita akan melihat bagaimana implementasi _logistic regression_ pada Python menggunakan _package_ `stats.model`. Untuk keperluan ini, kita coba untuk menggabungkan kembali `X_train` dan `y_train` yang sudah kita pisahkan sebelumnya."
   ]
  },
  {
   "cell_type": "code",
   "execution_count": 30,
   "id": "24a873ea",
   "metadata": {
    "execution": {
     "iopub.execute_input": "2024-01-09T01:54:48.233653Z",
     "iopub.status.busy": "2024-01-09T01:54:48.232660Z",
     "iopub.status.idle": "2024-01-09T01:54:48.293351Z",
     "shell.execute_reply": "2024-01-09T01:54:48.291346Z",
     "shell.execute_reply.started": "2024-01-09T01:54:48.232660Z"
    }
   },
   "outputs": [],
   "source": [
    "# menggabungkan variabel prediktor dan variabel target dalam satu tabel/dataframe\n",
    "\n",
    "train_data = X_train.copy()\n",
    "train_data['fraud_bool'] = y_train\n",
    "train_data = train_data.reset_index().drop(columns = \"index\")"
   ]
  },
  {
   "cell_type": "code",
   "execution_count": 31,
   "id": "2432da8f",
   "metadata": {
    "execution": {
     "iopub.execute_input": "2024-01-09T01:54:48.295352Z",
     "iopub.status.busy": "2024-01-09T01:54:48.295352Z",
     "iopub.status.idle": "2024-01-09T01:54:48.325350Z",
     "shell.execute_reply": "2024-01-09T01:54:48.323349Z",
     "shell.execute_reply.started": "2024-01-09T01:54:48.295352Z"
    }
   },
   "outputs": [
    {
     "data": {
      "text/html": [
       "<div>\n",
       "<style scoped>\n",
       "    .dataframe tbody tr th:only-of-type {\n",
       "        vertical-align: middle;\n",
       "    }\n",
       "\n",
       "    .dataframe tbody tr th {\n",
       "        vertical-align: top;\n",
       "    }\n",
       "\n",
       "    .dataframe thead th {\n",
       "        text-align: right;\n",
       "    }\n",
       "</style>\n",
       "<table border=\"1\" class=\"dataframe\">\n",
       "  <thead>\n",
       "    <tr style=\"text-align: right;\">\n",
       "      <th></th>\n",
       "      <th>income</th>\n",
       "      <th>name_email_similarity</th>\n",
       "      <th>prev_address_months_count</th>\n",
       "      <th>current_address_months_count</th>\n",
       "      <th>customer_age</th>\n",
       "      <th>days_since_request</th>\n",
       "      <th>intended_balcon_amount</th>\n",
       "      <th>zip_count_4w</th>\n",
       "      <th>velocity_6h</th>\n",
       "      <th>velocity_24h</th>\n",
       "      <th>velocity_4w</th>\n",
       "      <th>bank_branch_count_8w</th>\n",
       "      <th>date_of_birth_distinct_emails_4w</th>\n",
       "      <th>credit_risk_score</th>\n",
       "      <th>email_is_free</th>\n",
       "      <th>phone_home_valid</th>\n",
       "      <th>phone_mobile_valid</th>\n",
       "      <th>bank_months_count</th>\n",
       "      <th>has_other_cards</th>\n",
       "      <th>proposed_credit_limit</th>\n",
       "      <th>foreign_request</th>\n",
       "      <th>session_length_in_minutes</th>\n",
       "      <th>keep_alive_session</th>\n",
       "      <th>device_distinct_emails_8w</th>\n",
       "      <th>month</th>\n",
       "      <th>payment_type_AB</th>\n",
       "      <th>payment_type_AC</th>\n",
       "      <th>payment_type_AD</th>\n",
       "      <th>payment_type_AE</th>\n",
       "      <th>employment_status_CB</th>\n",
       "      <th>employment_status_CC</th>\n",
       "      <th>employment_status_CD</th>\n",
       "      <th>employment_status_CE</th>\n",
       "      <th>employment_status_CF</th>\n",
       "      <th>employment_status_CG</th>\n",
       "      <th>housing_status_BB</th>\n",
       "      <th>housing_status_BC</th>\n",
       "      <th>housing_status_BD</th>\n",
       "      <th>housing_status_BE</th>\n",
       "      <th>housing_status_BF</th>\n",
       "      <th>housing_status_BG</th>\n",
       "      <th>source_TELEAPP</th>\n",
       "      <th>device_os_macintosh</th>\n",
       "      <th>device_os_other</th>\n",
       "      <th>device_os_windows</th>\n",
       "      <th>device_os_x11</th>\n",
       "      <th>fraud_bool</th>\n",
       "    </tr>\n",
       "  </thead>\n",
       "  <tbody>\n",
       "    <tr>\n",
       "      <th>0</th>\n",
       "      <td>0.50000</td>\n",
       "      <td>0.58414</td>\n",
       "      <td>-1</td>\n",
       "      <td>354</td>\n",
       "      <td>60</td>\n",
       "      <td>0.02091</td>\n",
       "      <td>22.64003</td>\n",
       "      <td>1342</td>\n",
       "      <td>1097.47353</td>\n",
       "      <td>4135.31093</td>\n",
       "      <td>5993.67415</td>\n",
       "      <td>547</td>\n",
       "      <td>4</td>\n",
       "      <td>142</td>\n",
       "      <td>1</td>\n",
       "      <td>1</td>\n",
       "      <td>1</td>\n",
       "      <td>28</td>\n",
       "      <td>1</td>\n",
       "      <td>200.00000</td>\n",
       "      <td>0</td>\n",
       "      <td>6.25370</td>\n",
       "      <td>0</td>\n",
       "      <td>1</td>\n",
       "      <td>0</td>\n",
       "      <td>0</td>\n",
       "      <td>0</td>\n",
       "      <td>0</td>\n",
       "      <td>0</td>\n",
       "      <td>0</td>\n",
       "      <td>1</td>\n",
       "      <td>0</td>\n",
       "      <td>0</td>\n",
       "      <td>0</td>\n",
       "      <td>0</td>\n",
       "      <td>0</td>\n",
       "      <td>0</td>\n",
       "      <td>0</td>\n",
       "      <td>0</td>\n",
       "      <td>0</td>\n",
       "      <td>0</td>\n",
       "      <td>0</td>\n",
       "      <td>0</td>\n",
       "      <td>0</td>\n",
       "      <td>0</td>\n",
       "      <td>0</td>\n",
       "      <td>0</td>\n",
       "    </tr>\n",
       "    <tr>\n",
       "      <th>1</th>\n",
       "      <td>0.10000</td>\n",
       "      <td>0.88506</td>\n",
       "      <td>-1</td>\n",
       "      <td>156</td>\n",
       "      <td>20</td>\n",
       "      <td>0.00458</td>\n",
       "      <td>14.54435</td>\n",
       "      <td>597</td>\n",
       "      <td>4891.02002</td>\n",
       "      <td>3214.06166</td>\n",
       "      <td>3144.47120</td>\n",
       "      <td>1</td>\n",
       "      <td>6</td>\n",
       "      <td>223</td>\n",
       "      <td>1</td>\n",
       "      <td>0</td>\n",
       "      <td>1</td>\n",
       "      <td>28</td>\n",
       "      <td>0</td>\n",
       "      <td>990.00000</td>\n",
       "      <td>0</td>\n",
       "      <td>8.95264</td>\n",
       "      <td>1</td>\n",
       "      <td>1</td>\n",
       "      <td>7</td>\n",
       "      <td>0</td>\n",
       "      <td>0</td>\n",
       "      <td>0</td>\n",
       "      <td>0</td>\n",
       "      <td>0</td>\n",
       "      <td>0</td>\n",
       "      <td>0</td>\n",
       "      <td>0</td>\n",
       "      <td>1</td>\n",
       "      <td>0</td>\n",
       "      <td>1</td>\n",
       "      <td>0</td>\n",
       "      <td>0</td>\n",
       "      <td>0</td>\n",
       "      <td>0</td>\n",
       "      <td>0</td>\n",
       "      <td>0</td>\n",
       "      <td>0</td>\n",
       "      <td>1</td>\n",
       "      <td>0</td>\n",
       "      <td>0</td>\n",
       "      <td>0</td>\n",
       "    </tr>\n",
       "    <tr>\n",
       "      <th>2</th>\n",
       "      <td>0.10000</td>\n",
       "      <td>0.69251</td>\n",
       "      <td>-1</td>\n",
       "      <td>37</td>\n",
       "      <td>20</td>\n",
       "      <td>0.01531</td>\n",
       "      <td>-0.76549</td>\n",
       "      <td>2120</td>\n",
       "      <td>2480.21932</td>\n",
       "      <td>6969.44880</td>\n",
       "      <td>3710.56637</td>\n",
       "      <td>0</td>\n",
       "      <td>7</td>\n",
       "      <td>128</td>\n",
       "      <td>1</td>\n",
       "      <td>1</td>\n",
       "      <td>1</td>\n",
       "      <td>-1</td>\n",
       "      <td>0</td>\n",
       "      <td>200.00000</td>\n",
       "      <td>1</td>\n",
       "      <td>9.67542</td>\n",
       "      <td>1</td>\n",
       "      <td>1</td>\n",
       "      <td>6</td>\n",
       "      <td>0</td>\n",
       "      <td>1</td>\n",
       "      <td>0</td>\n",
       "      <td>0</td>\n",
       "      <td>0</td>\n",
       "      <td>0</td>\n",
       "      <td>0</td>\n",
       "      <td>0</td>\n",
       "      <td>0</td>\n",
       "      <td>0</td>\n",
       "      <td>0</td>\n",
       "      <td>1</td>\n",
       "      <td>0</td>\n",
       "      <td>0</td>\n",
       "      <td>0</td>\n",
       "      <td>0</td>\n",
       "      <td>0</td>\n",
       "      <td>0</td>\n",
       "      <td>1</td>\n",
       "      <td>0</td>\n",
       "      <td>0</td>\n",
       "      <td>0</td>\n",
       "    </tr>\n",
       "    <tr>\n",
       "      <th>3</th>\n",
       "      <td>0.90000</td>\n",
       "      <td>0.58853</td>\n",
       "      <td>61</td>\n",
       "      <td>12</td>\n",
       "      <td>40</td>\n",
       "      <td>0.00384</td>\n",
       "      <td>15.55668</td>\n",
       "      <td>268</td>\n",
       "      <td>4593.44153</td>\n",
       "      <td>3050.17974</td>\n",
       "      <td>4256.22243</td>\n",
       "      <td>46</td>\n",
       "      <td>11</td>\n",
       "      <td>108</td>\n",
       "      <td>1</td>\n",
       "      <td>1</td>\n",
       "      <td>1</td>\n",
       "      <td>21</td>\n",
       "      <td>1</td>\n",
       "      <td>500.00000</td>\n",
       "      <td>0</td>\n",
       "      <td>8.50664</td>\n",
       "      <td>0</td>\n",
       "      <td>1</td>\n",
       "      <td>6</td>\n",
       "      <td>0</td>\n",
       "      <td>0</td>\n",
       "      <td>0</td>\n",
       "      <td>0</td>\n",
       "      <td>0</td>\n",
       "      <td>0</td>\n",
       "      <td>0</td>\n",
       "      <td>0</td>\n",
       "      <td>1</td>\n",
       "      <td>0</td>\n",
       "      <td>1</td>\n",
       "      <td>0</td>\n",
       "      <td>0</td>\n",
       "      <td>0</td>\n",
       "      <td>0</td>\n",
       "      <td>0</td>\n",
       "      <td>0</td>\n",
       "      <td>0</td>\n",
       "      <td>0</td>\n",
       "      <td>0</td>\n",
       "      <td>0</td>\n",
       "      <td>0</td>\n",
       "    </tr>\n",
       "    <tr>\n",
       "      <th>4</th>\n",
       "      <td>0.30000</td>\n",
       "      <td>0.81677</td>\n",
       "      <td>-1</td>\n",
       "      <td>209</td>\n",
       "      <td>20</td>\n",
       "      <td>0.00454</td>\n",
       "      <td>-0.74999</td>\n",
       "      <td>1629</td>\n",
       "      <td>1620.07894</td>\n",
       "      <td>2234.76245</td>\n",
       "      <td>3111.30845</td>\n",
       "      <td>12</td>\n",
       "      <td>6</td>\n",
       "      <td>130</td>\n",
       "      <td>1</td>\n",
       "      <td>0</td>\n",
       "      <td>1</td>\n",
       "      <td>1</td>\n",
       "      <td>0</td>\n",
       "      <td>200.00000</td>\n",
       "      <td>0</td>\n",
       "      <td>6.34498</td>\n",
       "      <td>0</td>\n",
       "      <td>1</td>\n",
       "      <td>7</td>\n",
       "      <td>1</td>\n",
       "      <td>0</td>\n",
       "      <td>0</td>\n",
       "      <td>0</td>\n",
       "      <td>0</td>\n",
       "      <td>0</td>\n",
       "      <td>0</td>\n",
       "      <td>0</td>\n",
       "      <td>0</td>\n",
       "      <td>0</td>\n",
       "      <td>0</td>\n",
       "      <td>0</td>\n",
       "      <td>0</td>\n",
       "      <td>1</td>\n",
       "      <td>0</td>\n",
       "      <td>0</td>\n",
       "      <td>0</td>\n",
       "      <td>0</td>\n",
       "      <td>0</td>\n",
       "      <td>1</td>\n",
       "      <td>0</td>\n",
       "      <td>1</td>\n",
       "    </tr>\n",
       "  </tbody>\n",
       "</table>\n",
       "</div>"
      ],
      "text/plain": [
       "   income  name_email_similarity  prev_address_months_count  current_address_months_count  customer_age  days_since_request  intended_balcon_amount  zip_count_4w  velocity_6h  velocity_24h  velocity_4w  bank_branch_count_8w  date_of_birth_distinct_emails_4w  credit_risk_score  email_is_free  phone_home_valid  phone_mobile_valid  bank_months_count  has_other_cards  proposed_credit_limit  foreign_request  session_length_in_minutes  keep_alive_session  device_distinct_emails_8w  month  payment_type_AB  payment_type_AC  payment_type_AD  payment_type_AE  employment_status_CB  employment_status_CC  employment_status_CD  employment_status_CE  employment_status_CF  employment_status_CG  housing_status_BB  housing_status_BC  housing_status_BD  housing_status_BE  housing_status_BF  housing_status_BG  source_TELEAPP  device_os_macintosh  device_os_other  device_os_windows  device_os_x11  fraud_bool\n",
       "0 0.50000                0.58414                         -1                           354            60             0.02091                22.64003          1342   1097.47353    4135.31093   5993.67415                   547                                 4                142              1                 1                   1                 28                1              200.00000                0                    6.25370                   0                          1      0                0                0                0                0                     0                     1                     0                     0                     0                     0                  0                  0                  0                  0                  0                  0               0                    0                0                  0              0           0\n",
       "1 0.10000                0.88506                         -1                           156            20             0.00458                14.54435           597   4891.02002    3214.06166   3144.47120                     1                                 6                223              1                 0                   1                 28                0              990.00000                0                    8.95264                   1                          1      7                0                0                0                0                     0                     0                     0                     0                     1                     0                  1                  0                  0                  0                  0                  0               0                    0                1                  0              0           0\n",
       "2 0.10000                0.69251                         -1                            37            20             0.01531                -0.76549          2120   2480.21932    6969.44880   3710.56637                     0                                 7                128              1                 1                   1                 -1                0              200.00000                1                    9.67542                   1                          1      6                0                1                0                0                     0                     0                     0                     0                     0                     0                  0                  1                  0                  0                  0                  0               0                    0                1                  0              0           0\n",
       "3 0.90000                0.58853                         61                            12            40             0.00384                15.55668           268   4593.44153    3050.17974   4256.22243                    46                                11                108              1                 1                   1                 21                1              500.00000                0                    8.50664                   0                          1      6                0                0                0                0                     0                     0                     0                     0                     1                     0                  1                  0                  0                  0                  0                  0               0                    0                0                  0              0           0\n",
       "4 0.30000                0.81677                         -1                           209            20             0.00454                -0.74999          1629   1620.07894    2234.76245   3111.30845                    12                                 6                130              1                 0                   1                  1                0              200.00000                0                    6.34498                   0                          1      7                1                0                0                0                     0                     0                     0                     0                     0                     0                  0                  0                  0                  1                  0                  0               0                    0                0                  1              0           1"
      ]
     },
     "execution_count": 31,
     "metadata": {},
     "output_type": "execute_result"
    }
   ],
   "source": [
    "train_data.head()"
   ]
  },
  {
   "cell_type": "markdown",
   "id": "f4f2e7c4",
   "metadata": {},
   "source": [
    "### Logistic Regression with One Categorical (Discrete) Predictor"
   ]
  },
  {
   "cell_type": "markdown",
   "id": "90fbca8c",
   "metadata": {},
   "source": [
    "Untuk memahami bagaimana _logistic regression_ bekerja, kita akan coba untuk menggunakan satu prediktor kategorikal untuk memprediksi variabel target kita. Untuk pembelajaran pada kasus ini, kita akan menggunakan:\n",
    "\n",
    "* Prediktor: kolom `has_other_cards`.\n",
    "* Target: kolom `fraud_bool`.\n",
    "\n",
    "Dengan satu prediktor, yaitu kolom `has_other_cards`, maka formula untuk prediksi kita dapat ditulis:\n",
    "\n",
    "$$ logit(p) = \\beta_0 + \\beta_1 \\cdot has_other_cards$$\n",
    "\n",
    "Kita akan menggunakan fungsi `sm.Logit()` dari _package_ `statsmodel` untuk melakukan _logistic_ _regression_."
   ]
  },
  {
   "cell_type": "code",
   "execution_count": 32,
   "id": "059c3679",
   "metadata": {
    "execution": {
     "iopub.execute_input": "2024-01-09T01:54:48.326517Z",
     "iopub.status.busy": "2024-01-09T01:54:48.326517Z",
     "iopub.status.idle": "2024-01-09T01:54:48.557745Z",
     "shell.execute_reply": "2024-01-09T01:54:48.556742Z",
     "shell.execute_reply.started": "2024-01-09T01:54:48.326517Z"
    }
   },
   "outputs": [
    {
     "name": "stdout",
     "output_type": "stream",
     "text": [
      "Optimization terminated successfully.\n",
      "         Current function value: 0.340175\n",
      "         Iterations 7\n"
     ]
    },
    {
     "data": {
      "text/html": [
       "<table class=\"simpletable\">\n",
       "<caption>Logit Regression Results</caption>\n",
       "<tr>\n",
       "  <th>Dep. Variable:</th>      <td>fraud_bool</td>    <th>  No. Observations:  </th>   <td> 80000</td>  \n",
       "</tr>\n",
       "<tr>\n",
       "  <th>Model:</th>                 <td>Logit</td>      <th>  Df Residuals:      </th>   <td> 79998</td>  \n",
       "</tr>\n",
       "<tr>\n",
       "  <th>Method:</th>                 <td>MLE</td>       <th>  Df Model:          </th>   <td>     1</td>  \n",
       "</tr>\n",
       "<tr>\n",
       "  <th>Date:</th>            <td>Tue, 09 Jan 2024</td> <th>  Pseudo R-squ.:     </th>   <td>0.02000</td> \n",
       "</tr>\n",
       "<tr>\n",
       "  <th>Time:</th>                <td>08:54:48</td>     <th>  Log-Likelihood:    </th>  <td> -27214.</td> \n",
       "</tr>\n",
       "<tr>\n",
       "  <th>converged:</th>             <td>True</td>       <th>  LL-Null:           </th>  <td> -27769.</td> \n",
       "</tr>\n",
       "<tr>\n",
       "  <th>Covariance Type:</th>     <td>nonrobust</td>    <th>  LLR p-value:       </th> <td>1.672e-243</td>\n",
       "</tr>\n",
       "</table>\n",
       "<table class=\"simpletable\">\n",
       "<tr>\n",
       "         <td></td>            <th>coef</th>     <th>std err</th>      <th>z</th>      <th>P>|z|</th>  <th>[0.025</th>    <th>0.975]</th>  \n",
       "</tr>\n",
       "<tr>\n",
       "  <th>intercept</th>       <td>   -1.9227</td> <td>    0.012</td> <td> -161.481</td> <td> 0.000</td> <td>   -1.946</td> <td>   -1.899</td>\n",
       "</tr>\n",
       "<tr>\n",
       "  <th>has_other_cards</th> <td>   -1.1462</td> <td>    0.039</td> <td>  -29.021</td> <td> 0.000</td> <td>   -1.224</td> <td>   -1.069</td>\n",
       "</tr>\n",
       "</table>"
      ],
      "text/latex": [
       "\\begin{center}\n",
       "\\begin{tabular}{lclc}\n",
       "\\toprule\n",
       "\\textbf{Dep. Variable:}    &   fraud\\_bool    & \\textbf{  No. Observations:  } &    80000    \\\\\n",
       "\\textbf{Model:}            &      Logit       & \\textbf{  Df Residuals:      } &    79998    \\\\\n",
       "\\textbf{Method:}           &       MLE        & \\textbf{  Df Model:          } &        1    \\\\\n",
       "\\textbf{Date:}             & Tue, 09 Jan 2024 & \\textbf{  Pseudo R-squ.:     } &  0.02000    \\\\\n",
       "\\textbf{Time:}             &     08:54:48     & \\textbf{  Log-Likelihood:    } &   -27214.   \\\\\n",
       "\\textbf{converged:}        &       True       & \\textbf{  LL-Null:           } &   -27769.   \\\\\n",
       "\\textbf{Covariance Type:}  &    nonrobust     & \\textbf{  LLR p-value:       } & 1.672e-243  \\\\\n",
       "\\bottomrule\n",
       "\\end{tabular}\n",
       "\\begin{tabular}{lcccccc}\n",
       "                           & \\textbf{coef} & \\textbf{std err} & \\textbf{z} & \\textbf{P$> |$z$|$} & \\textbf{[0.025} & \\textbf{0.975]}  \\\\\n",
       "\\midrule\n",
       "\\textbf{intercept}         &      -1.9227  &        0.012     &  -161.481  &         0.000        &       -1.946    &       -1.899     \\\\\n",
       "\\textbf{has\\_other\\_cards} &      -1.1462  &        0.039     &   -29.021  &         0.000        &       -1.224    &       -1.069     \\\\\n",
       "\\bottomrule\n",
       "\\end{tabular}\n",
       "%\\caption{Logit Regression Results}\n",
       "\\end{center}"
      ],
      "text/plain": [
       "<class 'statsmodels.iolib.summary.Summary'>\n",
       "\"\"\"\n",
       "                           Logit Regression Results                           \n",
       "==============================================================================\n",
       "Dep. Variable:             fraud_bool   No. Observations:                80000\n",
       "Model:                          Logit   Df Residuals:                    79998\n",
       "Method:                           MLE   Df Model:                            1\n",
       "Date:                Tue, 09 Jan 2024   Pseudo R-squ.:                 0.02000\n",
       "Time:                        08:54:48   Log-Likelihood:                -27214.\n",
       "converged:                       True   LL-Null:                       -27769.\n",
       "Covariance Type:            nonrobust   LLR p-value:                1.672e-243\n",
       "===================================================================================\n",
       "                      coef    std err          z      P>|z|      [0.025      0.975]\n",
       "-----------------------------------------------------------------------------------\n",
       "intercept          -1.9227      0.012   -161.481      0.000      -1.946      -1.899\n",
       "has_other_cards    -1.1462      0.039    -29.021      0.000      -1.224      -1.069\n",
       "===================================================================================\n",
       "\"\"\""
      ]
     },
     "execution_count": 32,
     "metadata": {},
     "output_type": "execute_result"
    }
   ],
   "source": [
    "train_data['intercept'] = 1\n",
    "\n",
    "logit_model_tr = sm.Logit(train_data['fraud_bool'], train_data[['intercept','has_other_cards']]).fit()\n",
    "logit_model_tr.summary()"
   ]
  },
  {
   "cell_type": "markdown",
   "id": "2b87463e",
   "metadata": {},
   "source": [
    "Dengan hasil di atas, formula prediksi kita dapat ditulis ulang:\n",
    "\n",
    "$$\n",
    "logit(p) = -1.9227 - 1.1462 \\cdot has_other_cards\n",
    "$$"
   ]
  },
  {
   "cell_type": "markdown",
   "id": "64da57c4",
   "metadata": {},
   "source": [
    "Mari kita bahas arti dari setiap koefisien yang telah kita dapatkan.\n",
    "\n",
    "#### Intercept ($\\beta_0$)\n",
    "\n",
    "> _Intercept_ menunjukkan besarnya _log of odds_ saat `has_other_cards = 0`.\n",
    "\n",
    "> Pada kasus kita maka _log of odds_ yang didapatkan adalah -1.9227."
   ]
  },
  {
   "cell_type": "markdown",
   "id": "19a8d30b",
   "metadata": {},
   "source": [
    "Untuk mendapatkan _odds_ dan peluang dari _log of odds_:"
   ]
  },
  {
   "cell_type": "code",
   "execution_count": 33,
   "id": "7fabdedb",
   "metadata": {
    "execution": {
     "iopub.execute_input": "2024-01-09T01:54:48.559743Z",
     "iopub.status.busy": "2024-01-09T01:54:48.559743Z",
     "iopub.status.idle": "2024-01-09T01:54:48.573746Z",
     "shell.execute_reply": "2024-01-09T01:54:48.572745Z",
     "shell.execute_reply.started": "2024-01-09T01:54:48.559743Z"
    }
   },
   "outputs": [
    {
     "data": {
      "text/plain": [
       "fraud_bool\n",
       "0    71177\n",
       "1     8823\n",
       "Name: count, dtype: int64"
      ]
     },
     "execution_count": 33,
     "metadata": {},
     "output_type": "execute_result"
    }
   ],
   "source": [
    "y_train.value_counts()"
   ]
  },
  {
   "cell_type": "code",
   "execution_count": 34,
   "id": "d6b53e8f",
   "metadata": {
    "execution": {
     "iopub.execute_input": "2024-01-09T01:54:48.575748Z",
     "iopub.status.busy": "2024-01-09T01:54:48.575748Z",
     "iopub.status.idle": "2024-01-09T01:54:48.589746Z",
     "shell.execute_reply": "2024-01-09T01:54:48.588743Z",
     "shell.execute_reply.started": "2024-01-09T01:54:48.575748Z"
    }
   },
   "outputs": [
    {
     "name": "stdout",
     "output_type": "stream",
     "text": [
      "Log of odds akun bank fraud = -1.923.\n",
      "Odds akun bank fraud ketika tidak memiliki kartu lain = 0.146.\n",
      "Peluang akun bank fraud ketika tidak memiliki kartu lain = 0.128.\n"
     ]
    }
   ],
   "source": [
    "# mendapatkan odds dan peluang dari log of odds = -1.7615\n",
    "\n",
    "log_odds = -1.9227\n",
    "odds = np.exp(log_odds)\n",
    "p = 1 / (1 + np.exp(-log_odds)) # fungsi sigmoid\n",
    "\n",
    "print(f'Log of odds akun bank fraud = {round(log_odds, 3)}.')\n",
    "print(f'Odds akun bank fraud ketika tidak memiliki kartu lain = {round(odds, 3)}.')\n",
    "print(f'Peluang akun bank fraud ketika tidak memiliki kartu lain = {round(p, 3)}.')"
   ]
  },
  {
   "cell_type": "code",
   "execution_count": 35,
   "id": "5e26ee21",
   "metadata": {
    "execution": {
     "iopub.execute_input": "2024-01-09T01:54:48.591748Z",
     "iopub.status.busy": "2024-01-09T01:54:48.590745Z",
     "iopub.status.idle": "2024-01-09T01:54:48.621750Z",
     "shell.execute_reply": "2024-01-09T01:54:48.620743Z",
     "shell.execute_reply.started": "2024-01-09T01:54:48.591748Z"
    }
   },
   "outputs": [
    {
     "data": {
      "text/html": [
       "<div>\n",
       "<style scoped>\n",
       "    .dataframe tbody tr th:only-of-type {\n",
       "        vertical-align: middle;\n",
       "    }\n",
       "\n",
       "    .dataframe tbody tr th {\n",
       "        vertical-align: top;\n",
       "    }\n",
       "\n",
       "    .dataframe thead th {\n",
       "        text-align: right;\n",
       "    }\n",
       "</style>\n",
       "<table border=\"1\" class=\"dataframe\">\n",
       "  <thead>\n",
       "    <tr style=\"text-align: right;\">\n",
       "      <th>has_other_cards</th>\n",
       "      <th>0</th>\n",
       "      <th>1</th>\n",
       "    </tr>\n",
       "    <tr>\n",
       "      <th>fraud_bool</th>\n",
       "      <th></th>\n",
       "      <th></th>\n",
       "    </tr>\n",
       "  </thead>\n",
       "  <tbody>\n",
       "    <tr>\n",
       "      <th>0</th>\n",
       "      <td>55297</td>\n",
       "      <td>15880</td>\n",
       "    </tr>\n",
       "    <tr>\n",
       "      <th>1</th>\n",
       "      <td>8085</td>\n",
       "      <td>738</td>\n",
       "    </tr>\n",
       "  </tbody>\n",
       "</table>\n",
       "</div>"
      ],
      "text/plain": [
       "has_other_cards      0      1\n",
       "fraud_bool                   \n",
       "0                55297  15880\n",
       "1                 8085    738"
      ]
     },
     "execution_count": 35,
     "metadata": {},
     "output_type": "execute_result"
    }
   ],
   "source": [
    "# crosscheck\n",
    "pd.crosstab(train_data['fraud_bool'], train_data['has_other_cards'])"
   ]
  },
  {
   "cell_type": "code",
   "execution_count": 36,
   "id": "720d95ac",
   "metadata": {
    "execution": {
     "iopub.execute_input": "2024-01-09T01:54:48.623746Z",
     "iopub.status.busy": "2024-01-09T01:54:48.623746Z",
     "iopub.status.idle": "2024-01-09T01:54:48.636891Z",
     "shell.execute_reply": "2024-01-09T01:54:48.635891Z",
     "shell.execute_reply.started": "2024-01-09T01:54:48.623746Z"
    }
   },
   "outputs": [
    {
     "data": {
      "text/plain": [
       "0.128"
      ]
     },
     "execution_count": 36,
     "metadata": {},
     "output_type": "execute_result"
    }
   ],
   "source": [
    "# Peluang akun bank fraud ketika tidak memiliki kartu lain\n",
    "\n",
    "round(8085/(55297 + 8085), 3)"
   ]
  },
  {
   "cell_type": "markdown",
   "id": "c6dac66f",
   "metadata": {},
   "source": [
    "> Saat memiliki kartu lain (`has_other_cards = 0`), peluang akun tersebut `Response = 1` adalah sebesar 12.8%."
   ]
  },
  {
   "cell_type": "markdown",
   "id": "c20fde0a",
   "metadata": {},
   "source": [
    "#### Koefisien `has_other_cards` ($\\beta_1$)"
   ]
  },
  {
   "cell_type": "markdown",
   "id": "5021938b",
   "metadata": {},
   "source": [
    "> Koefisien `has_other_cards` menunjukkan _log_ dari perbandingan _odds_ akun merupakan fraud ketika tidak memiliki kartu lain dan ketika memiliki kartu lain."
   ]
  },
  {
   "cell_type": "markdown",
   "id": "872bb878",
   "metadata": {},
   "source": [
    "$$\n",
    "Koefisien_{has_other_cards} = \\log(\\frac{odd(has_other_cards = 1, fraud_bool = 1)}{odd(has_other_cards = 0,  fraud_bool = 1)})\n",
    "$$"
   ]
  },
  {
   "cell_type": "markdown",
   "id": "990c3117",
   "metadata": {},
   "source": [
    "> Pada kasus kita, _log_ perbandingan _odds_ saat memiliki kartu lain dan saat tidak tidak memiliki kartu lain adalah -1.1462."
   ]
  },
  {
   "cell_type": "markdown",
   "id": "28003f40",
   "metadata": {},
   "source": [
    "Dengan _log_ perbandingan sebesar -1.1462, maka rasio _odds_ yang sebenarnya adalah:"
   ]
  },
  {
   "cell_type": "code",
   "execution_count": 37,
   "id": "90b99d79",
   "metadata": {
    "execution": {
     "iopub.execute_input": "2024-01-09T01:54:48.638895Z",
     "iopub.status.busy": "2024-01-09T01:54:48.637890Z",
     "iopub.status.idle": "2024-01-09T01:54:48.650915Z",
     "shell.execute_reply": "2024-01-09T01:54:48.650915Z",
     "shell.execute_reply.started": "2024-01-09T01:54:48.638895Z"
    }
   },
   "outputs": [
    {
     "name": "stdout",
     "output_type": "stream",
     "text": [
      "Perbandingan odds akun bank fraud jika akun memiliki kartu lain yaitu = 0.318.\n"
     ]
    }
   ],
   "source": [
    "log_ratio = -1.1462\n",
    "ratio = np.exp(log_ratio)\n",
    "\n",
    "print(f'Perbandingan odds akun bank fraud jika akun memiliki kartu lain yaitu = {round(ratio, 3)}.')"
   ]
  },
  {
   "cell_type": "markdown",
   "id": "85a3fca1",
   "metadata": {},
   "source": [
    "> Berdasarkan perbandingan _odds_-nya, _odds_ untuk sebuah akun jika memliki kartu lain adalah (`has_other_cards = 1`) 31% lebih rendah daripada odds ketika akun tidak memiliki kartu lain (`has_other_cards = 0`)."
   ]
  },
  {
   "cell_type": "markdown",
   "id": "b61aef12",
   "metadata": {},
   "source": [
    "Jika kita melihat kembali proporsi antara kolom `fraud_bool` dan `has_other_cards`:"
   ]
  },
  {
   "cell_type": "code",
   "execution_count": 38,
   "id": "0df360c3",
   "metadata": {
    "execution": {
     "iopub.execute_input": "2024-01-09T01:54:48.650915Z",
     "iopub.status.busy": "2024-01-09T01:54:48.650915Z",
     "iopub.status.idle": "2024-01-09T01:54:48.682183Z",
     "shell.execute_reply": "2024-01-09T01:54:48.681177Z",
     "shell.execute_reply.started": "2024-01-09T01:54:48.650915Z"
    }
   },
   "outputs": [
    {
     "data": {
      "text/html": [
       "<div>\n",
       "<style scoped>\n",
       "    .dataframe tbody tr th:only-of-type {\n",
       "        vertical-align: middle;\n",
       "    }\n",
       "\n",
       "    .dataframe tbody tr th {\n",
       "        vertical-align: top;\n",
       "    }\n",
       "\n",
       "    .dataframe thead th {\n",
       "        text-align: right;\n",
       "    }\n",
       "</style>\n",
       "<table border=\"1\" class=\"dataframe\">\n",
       "  <thead>\n",
       "    <tr style=\"text-align: right;\">\n",
       "      <th>has_other_cards</th>\n",
       "      <th>0</th>\n",
       "      <th>1</th>\n",
       "    </tr>\n",
       "    <tr>\n",
       "      <th>fraud_bool</th>\n",
       "      <th></th>\n",
       "      <th></th>\n",
       "    </tr>\n",
       "  </thead>\n",
       "  <tbody>\n",
       "    <tr>\n",
       "      <th>0</th>\n",
       "      <td>55297</td>\n",
       "      <td>15880</td>\n",
       "    </tr>\n",
       "    <tr>\n",
       "      <th>1</th>\n",
       "      <td>8085</td>\n",
       "      <td>738</td>\n",
       "    </tr>\n",
       "  </tbody>\n",
       "</table>\n",
       "</div>"
      ],
      "text/plain": [
       "has_other_cards      0      1\n",
       "fraud_bool                   \n",
       "0                55297  15880\n",
       "1                 8085    738"
      ]
     },
     "execution_count": 38,
     "metadata": {},
     "output_type": "execute_result"
    }
   ],
   "source": [
    "# crosscheck: manual calculation\n",
    "\n",
    "pd.crosstab(train_data['fraud_bool'], train_data['has_other_cards'])"
   ]
  },
  {
   "cell_type": "markdown",
   "id": "dd49fbc1",
   "metadata": {},
   "source": [
    "* Untuk `has_other_cards = 0`\n",
    "    + Peluang `fraud_bool = 0` = $\\frac{55297}{(55297 + 8085)}$\n",
    "    + Peluang `fraud_bool = 1` = $\\frac{8085}{(55297 + 8085)}$\n",
    "* Untuk `has_other_cards = 1`\n",
    "    + Peluang `fraud_bool = 0` = $\\frac{15880}{(15880 + 738)}$\n",
    "    + Peluang `fraud_bool = 1` = $\\frac{738}{(15880 + 738)}$\n",
    "* Perhitungan _odds_\n",
    "    + _Odds_ `has_other_cards = 0` mendapatkan `fraud_bool = 1` \n",
    "    $$\\frac{\\frac{8085}{(55297 + 8085)}}{\\frac{55297}{(55297 + 8085)}} = \\frac{8085}{55297}$$\n",
    "    + _Odds_ `has_other_cards = 1` mendapatkan `fraud_bool = 1` \n",
    "    $$\\frac{\\frac{738}{(15880 + 738)}}{\\frac{15880}{(15880 + 738)}} = \\frac{738}{15880} $$\n",
    "    + Perbandingan _odds_\n",
    "    $$\\frac{\\frac{738}{15880}}{\\frac{8085}{55297}} = -1.146$$"
   ]
  },
  {
   "cell_type": "code",
   "execution_count": 39,
   "id": "be9e1533",
   "metadata": {
    "execution": {
     "iopub.execute_input": "2024-01-09T01:54:48.684182Z",
     "iopub.status.busy": "2024-01-09T01:54:48.683180Z",
     "iopub.status.idle": "2024-01-09T01:54:48.698182Z",
     "shell.execute_reply": "2024-01-09T01:54:48.697178Z",
     "shell.execute_reply.started": "2024-01-09T01:54:48.684182Z"
    }
   },
   "outputs": [
    {
     "name": "stdout",
     "output_type": "stream",
     "text": [
      "Rasio odds: 3.146\n",
      "Log rasio odds: 1.146.\n"
     ]
    }
   ],
   "source": [
    "# koefisien dari Treatment\n",
    "\n",
    "odd_fraud1_card0 = (8085/55297)\n",
    "odd_fraud1_card1 = (738/15880)\n",
    "\n",
    "ratio_card0and1 = odd_fraud1_card0/odd_fraud1_card1\n",
    "\n",
    "print(f'Rasio odds: {round(ratio_card0and1, 3)}')\n",
    "print(f'Log rasio odds: {round(np.log(ratio_card0and1),3)}.')"
   ]
  },
  {
   "cell_type": "markdown",
   "id": "2768459a",
   "metadata": {},
   "source": [
    "Kita berhasil memverifikasi bahwa koefisien dari `has_other_cards` merupakan _log_ dari perbandingan _odds_ apakah akun bank fraud berdasarkan status kepemilikan kartu lain akun tersebut."
   ]
  },
  {
   "cell_type": "markdown",
   "id": "b5f4e6a7",
   "metadata": {},
   "source": [
    "### Logistic Regression with One Numerical (Continuous) Predictor"
   ]
  },
  {
   "cell_type": "markdown",
   "id": "5ccb4739",
   "metadata": {},
   "source": [
    "Sekarang, kita akan mencoba untuk menggunakan satu prediktor numerikal, yaitu `credit_risk_score`. Variabel targetnya masih menggunakan kolom `fraud_bool`. Dengan demikian, fungsi untuk melakukan prediksi dapat ditulis:\n",
    "\n",
    "$$ logit(p) = \\beta_0 + \\beta_1 \\cdot credit_risk_score$$"
   ]
  },
  {
   "cell_type": "code",
   "execution_count": 40,
   "id": "0a00decb",
   "metadata": {
    "execution": {
     "iopub.execute_input": "2024-01-09T01:54:48.700184Z",
     "iopub.status.busy": "2024-01-09T01:54:48.700184Z",
     "iopub.status.idle": "2024-01-09T01:54:48.948809Z",
     "shell.execute_reply": "2024-01-09T01:54:48.947807Z",
     "shell.execute_reply.started": "2024-01-09T01:54:48.700184Z"
    }
   },
   "outputs": [
    {
     "name": "stdout",
     "output_type": "stream",
     "text": [
      "Optimization terminated successfully.\n",
      "         Current function value: 0.326851\n",
      "         Iterations 7\n"
     ]
    },
    {
     "data": {
      "text/html": [
       "<table class=\"simpletable\">\n",
       "<caption>Logit Regression Results</caption>\n",
       "<tr>\n",
       "  <th>Dep. Variable:</th>      <td>fraud_bool</td>    <th>  No. Observations:  </th>  <td> 80000</td> \n",
       "</tr>\n",
       "<tr>\n",
       "  <th>Model:</th>                 <td>Logit</td>      <th>  Df Residuals:      </th>  <td> 79998</td> \n",
       "</tr>\n",
       "<tr>\n",
       "  <th>Method:</th>                 <td>MLE</td>       <th>  Df Model:          </th>  <td>     1</td> \n",
       "</tr>\n",
       "<tr>\n",
       "  <th>Date:</th>            <td>Tue, 09 Jan 2024</td> <th>  Pseudo R-squ.:     </th>  <td>0.05838</td>\n",
       "</tr>\n",
       "<tr>\n",
       "  <th>Time:</th>                <td>08:54:48</td>     <th>  Log-Likelihood:    </th> <td> -26148.</td>\n",
       "</tr>\n",
       "<tr>\n",
       "  <th>converged:</th>             <td>True</td>       <th>  LL-Null:           </th> <td> -27769.</td>\n",
       "</tr>\n",
       "<tr>\n",
       "  <th>Covariance Type:</th>     <td>nonrobust</td>    <th>  LLR p-value:       </th>  <td> 0.000</td> \n",
       "</tr>\n",
       "</table>\n",
       "<table class=\"simpletable\">\n",
       "<tr>\n",
       "          <td></td>             <th>coef</th>     <th>std err</th>      <th>z</th>      <th>P>|z|</th>  <th>[0.025</th>    <th>0.975]</th>  \n",
       "</tr>\n",
       "<tr>\n",
       "  <th>intercept</th>         <td>   -3.4334</td> <td>    0.029</td> <td> -118.024</td> <td> 0.000</td> <td>   -3.490</td> <td>   -3.376</td>\n",
       "</tr>\n",
       "<tr>\n",
       "  <th>credit_risk_score</th> <td>    0.0088</td> <td>    0.000</td> <td>   55.977</td> <td> 0.000</td> <td>    0.008</td> <td>    0.009</td>\n",
       "</tr>\n",
       "</table>"
      ],
      "text/latex": [
       "\\begin{center}\n",
       "\\begin{tabular}{lclc}\n",
       "\\toprule\n",
       "\\textbf{Dep. Variable:}      &   fraud\\_bool    & \\textbf{  No. Observations:  } &    80000    \\\\\n",
       "\\textbf{Model:}              &      Logit       & \\textbf{  Df Residuals:      } &    79998    \\\\\n",
       "\\textbf{Method:}             &       MLE        & \\textbf{  Df Model:          } &        1    \\\\\n",
       "\\textbf{Date:}               & Tue, 09 Jan 2024 & \\textbf{  Pseudo R-squ.:     } &  0.05838    \\\\\n",
       "\\textbf{Time:}               &     08:54:48     & \\textbf{  Log-Likelihood:    } &   -26148.   \\\\\n",
       "\\textbf{converged:}          &       True       & \\textbf{  LL-Null:           } &   -27769.   \\\\\n",
       "\\textbf{Covariance Type:}    &    nonrobust     & \\textbf{  LLR p-value:       } &    0.000    \\\\\n",
       "\\bottomrule\n",
       "\\end{tabular}\n",
       "\\begin{tabular}{lcccccc}\n",
       "                             & \\textbf{coef} & \\textbf{std err} & \\textbf{z} & \\textbf{P$> |$z$|$} & \\textbf{[0.025} & \\textbf{0.975]}  \\\\\n",
       "\\midrule\n",
       "\\textbf{intercept}           &      -3.4334  &        0.029     &  -118.024  &         0.000        &       -3.490    &       -3.376     \\\\\n",
       "\\textbf{credit\\_risk\\_score} &       0.0088  &        0.000     &    55.977  &         0.000        &        0.008    &        0.009     \\\\\n",
       "\\bottomrule\n",
       "\\end{tabular}\n",
       "%\\caption{Logit Regression Results}\n",
       "\\end{center}"
      ],
      "text/plain": [
       "<class 'statsmodels.iolib.summary.Summary'>\n",
       "\"\"\"\n",
       "                           Logit Regression Results                           \n",
       "==============================================================================\n",
       "Dep. Variable:             fraud_bool   No. Observations:                80000\n",
       "Model:                          Logit   Df Residuals:                    79998\n",
       "Method:                           MLE   Df Model:                            1\n",
       "Date:                Tue, 09 Jan 2024   Pseudo R-squ.:                 0.05838\n",
       "Time:                        08:54:48   Log-Likelihood:                -26148.\n",
       "converged:                       True   LL-Null:                       -27769.\n",
       "Covariance Type:            nonrobust   LLR p-value:                     0.000\n",
       "=====================================================================================\n",
       "                        coef    std err          z      P>|z|      [0.025      0.975]\n",
       "-------------------------------------------------------------------------------------\n",
       "intercept            -3.4334      0.029   -118.024      0.000      -3.490      -3.376\n",
       "credit_risk_score     0.0088      0.000     55.977      0.000       0.008       0.009\n",
       "=====================================================================================\n",
       "\"\"\""
      ]
     },
     "execution_count": 40,
     "metadata": {},
     "output_type": "execute_result"
    }
   ],
   "source": [
    "logit_model_crs = sm.Logit(train_data['fraud_bool'], train_data[['intercept','credit_risk_score']]).fit()\n",
    "logit_model_crs.summary()"
   ]
  },
  {
   "cell_type": "markdown",
   "id": "ef5fa198",
   "metadata": {},
   "source": [
    "Berdasarkan hasil di atas, kita dapat menulis ulang fungsi prediksi kita menjadi:\n",
    "    \n",
    "$$ logit(p) = -3.4334 + 0.0088\\cdot credit_risk_score$$"
   ]
  },
  {
   "cell_type": "markdown",
   "id": "5c585d08",
   "metadata": {},
   "source": [
    "#### Intercept ($\\beta_0$)"
   ]
  },
  {
   "cell_type": "markdown",
   "id": "6c5da8ab",
   "metadata": {},
   "source": [
    "> _Intercept_ menunjukkan besarnya _log of odds_ saat `credit_risk_score = 0`.\n",
    "\n",
    "> Pada kasus kita, saat `credit_risk_score = 0`, maka besar _log of odds_ akun bank tersebut fraud adalah -3.4334."
   ]
  },
  {
   "cell_type": "markdown",
   "id": "c026ccb5",
   "metadata": {},
   "source": [
    "Untuk mendapatkan _odds_ dan peluang dari _log of odds_:"
   ]
  },
  {
   "cell_type": "code",
   "execution_count": 41,
   "id": "6775d4c2",
   "metadata": {
    "execution": {
     "iopub.execute_input": "2024-01-09T01:54:48.950812Z",
     "iopub.status.busy": "2024-01-09T01:54:48.949807Z",
     "iopub.status.idle": "2024-01-09T01:54:48.964443Z",
     "shell.execute_reply": "2024-01-09T01:54:48.963443Z",
     "shell.execute_reply.started": "2024-01-09T01:54:48.950812Z"
    }
   },
   "outputs": [
    {
     "name": "stdout",
     "output_type": "stream",
     "text": [
      "Log of odds akun bank fraud saat `credit_risk_score = 0` = -3.433.\n",
      "Odds akun bank fraud saat `credit_risk_score = 0` = 0.032.\n",
      "Peluang akun bank fraud saat `credit_risk_score = 0` = 0.031.\n"
     ]
    }
   ],
   "source": [
    "# mendapatkan odds dan peluang dari log of odds = -1.6828\n",
    "\n",
    "log_odds = -3.4334\n",
    "odds = np.exp(log_odds)\n",
    "p = 1 / (1 + np.exp(-log_odds))\n",
    "\n",
    "print(f'Log of odds akun bank fraud saat `credit_risk_score = 0` = {round(log_odds, 3)}.')\n",
    "print(f'Odds akun bank fraud saat `credit_risk_score = 0` = {round(odds, 3)}.')\n",
    "print(f'Peluang akun bank fraud saat `credit_risk_score = 0` = {round(p, 3)}.')"
   ]
  },
  {
   "cell_type": "markdown",
   "id": "df602b74",
   "metadata": {},
   "source": [
    "> Saat `credit_risk_score = 0`, peluang akun bank mendapatkan `fraud_bool = 1` adalah sebesar 3.1%."
   ]
  },
  {
   "cell_type": "markdown",
   "id": "9107fa37",
   "metadata": {},
   "source": [
    "#### Koefisien `credit_risk_score` ($\\beta_1$)\n",
    "\n",
    "> Koefisien `credit_risk_score` menunjukkan kenaikan _log of odds_ apabila nilai `credit_risk_score` naik sebesar 1 satuan.\n",
    "\n",
    "> Pada kasus kita, jika nilai `credit_risk_score` naik, maka nilai _log of odds_ akan naik sebesar 0.0088.\n",
    "\n",
    "Misalnya, nilai awal `credit_risk_score = 50`. Selanjutnya, nilai `credit_risk_score` berubah menjadi 51. Dengan demikian:"
   ]
  },
  {
   "cell_type": "code",
   "execution_count": 42,
   "id": "592b02a7",
   "metadata": {
    "execution": {
     "iopub.execute_input": "2024-01-09T01:54:48.972441Z",
     "iopub.status.busy": "2024-01-09T01:54:48.972441Z",
     "iopub.status.idle": "2024-01-09T01:54:48.980446Z",
     "shell.execute_reply": "2024-01-09T01:54:48.979441Z",
     "shell.execute_reply.started": "2024-01-09T01:54:48.972441Z"
    }
   },
   "outputs": [
    {
     "name": "stdout",
     "output_type": "stream",
     "text": [
      "Selisih log of odds = 0.0088.\n"
     ]
    }
   ],
   "source": [
    "# crosscheck\n",
    "\n",
    "# log of odds saat credit_risk_score = 50\n",
    "l1 = -3.4334 + 0.0088 * 50\n",
    "\n",
    "# log of odds saat credit_risk_score = 51\n",
    "l2 = -3.4334 + 0.0088 * 51\n",
    "\n",
    "# selisih log of odds\n",
    "print(f'Selisih log of odds = {round(l2-l1, 4)}.')"
   ]
  },
  {
   "cell_type": "markdown",
   "id": "b0133ee8",
   "metadata": {},
   "source": [
    "### Logistic Regression with Multiple Predictor\n",
    "\n",
    "Sejauh ini kita sudah mempelajari bagaimana cara mengartikan suatu koefisien jika prediktornya hanya satu kolom kategorikal saja atau satu kolom numerikal saja. Bagaimana jika kita ingin menggunakan banyak prediktor?"
   ]
  },
  {
   "cell_type": "code",
   "execution_count": 43,
   "id": "c8a6242a",
   "metadata": {
    "execution": {
     "iopub.execute_input": "2024-01-09T01:54:48.982443Z",
     "iopub.status.busy": "2024-01-09T01:54:48.981444Z",
     "iopub.status.idle": "2024-01-09T01:54:48.996151Z",
     "shell.execute_reply": "2024-01-09T01:54:48.995152Z",
     "shell.execute_reply.started": "2024-01-09T01:54:48.982443Z"
    }
   },
   "outputs": [
    {
     "data": {
      "text/plain": [
       "array([1, 0], dtype=int64)"
      ]
     },
     "execution_count": 43,
     "metadata": {},
     "output_type": "execute_result"
    }
   ],
   "source": [
    "train_data.phone_home_valid.unique()"
   ]
  },
  {
   "cell_type": "code",
   "execution_count": 44,
   "id": "53c606c9",
   "metadata": {
    "execution": {
     "iopub.execute_input": "2024-01-09T01:54:48.997154Z",
     "iopub.status.busy": "2024-01-09T01:54:48.997154Z",
     "iopub.status.idle": "2024-01-09T01:54:49.028152Z",
     "shell.execute_reply": "2024-01-09T01:54:49.027154Z",
     "shell.execute_reply.started": "2024-01-09T01:54:48.997154Z"
    }
   },
   "outputs": [
    {
     "data": {
      "text/html": [
       "<div>\n",
       "<style scoped>\n",
       "    .dataframe tbody tr th:only-of-type {\n",
       "        vertical-align: middle;\n",
       "    }\n",
       "\n",
       "    .dataframe tbody tr th {\n",
       "        vertical-align: top;\n",
       "    }\n",
       "\n",
       "    .dataframe thead th {\n",
       "        text-align: right;\n",
       "    }\n",
       "</style>\n",
       "<table border=\"1\" class=\"dataframe\">\n",
       "  <thead>\n",
       "    <tr style=\"text-align: right;\">\n",
       "      <th></th>\n",
       "      <th>income</th>\n",
       "      <th>name_email_similarity</th>\n",
       "      <th>prev_address_months_count</th>\n",
       "      <th>current_address_months_count</th>\n",
       "      <th>customer_age</th>\n",
       "      <th>days_since_request</th>\n",
       "      <th>intended_balcon_amount</th>\n",
       "      <th>zip_count_4w</th>\n",
       "      <th>velocity_6h</th>\n",
       "      <th>velocity_24h</th>\n",
       "      <th>velocity_4w</th>\n",
       "      <th>bank_branch_count_8w</th>\n",
       "      <th>date_of_birth_distinct_emails_4w</th>\n",
       "      <th>credit_risk_score</th>\n",
       "      <th>email_is_free</th>\n",
       "      <th>phone_home_valid</th>\n",
       "      <th>phone_mobile_valid</th>\n",
       "      <th>bank_months_count</th>\n",
       "      <th>has_other_cards</th>\n",
       "      <th>proposed_credit_limit</th>\n",
       "      <th>foreign_request</th>\n",
       "      <th>session_length_in_minutes</th>\n",
       "      <th>keep_alive_session</th>\n",
       "      <th>device_distinct_emails_8w</th>\n",
       "      <th>month</th>\n",
       "      <th>payment_type_AB</th>\n",
       "      <th>payment_type_AC</th>\n",
       "      <th>payment_type_AD</th>\n",
       "      <th>payment_type_AE</th>\n",
       "      <th>employment_status_CB</th>\n",
       "      <th>employment_status_CC</th>\n",
       "      <th>employment_status_CD</th>\n",
       "      <th>employment_status_CE</th>\n",
       "      <th>employment_status_CF</th>\n",
       "      <th>employment_status_CG</th>\n",
       "      <th>housing_status_BB</th>\n",
       "      <th>housing_status_BC</th>\n",
       "      <th>housing_status_BD</th>\n",
       "      <th>housing_status_BE</th>\n",
       "      <th>housing_status_BF</th>\n",
       "      <th>housing_status_BG</th>\n",
       "      <th>source_TELEAPP</th>\n",
       "      <th>device_os_macintosh</th>\n",
       "      <th>device_os_other</th>\n",
       "      <th>device_os_windows</th>\n",
       "      <th>device_os_x11</th>\n",
       "      <th>fraud_bool</th>\n",
       "      <th>intercept</th>\n",
       "    </tr>\n",
       "  </thead>\n",
       "  <tbody>\n",
       "    <tr>\n",
       "      <th>0</th>\n",
       "      <td>0.50000</td>\n",
       "      <td>0.58414</td>\n",
       "      <td>-1</td>\n",
       "      <td>354</td>\n",
       "      <td>60</td>\n",
       "      <td>0.02091</td>\n",
       "      <td>22.64003</td>\n",
       "      <td>1342</td>\n",
       "      <td>1097.47353</td>\n",
       "      <td>4135.31093</td>\n",
       "      <td>5993.67415</td>\n",
       "      <td>547</td>\n",
       "      <td>4</td>\n",
       "      <td>142</td>\n",
       "      <td>1</td>\n",
       "      <td>1</td>\n",
       "      <td>1</td>\n",
       "      <td>28</td>\n",
       "      <td>1</td>\n",
       "      <td>200.00000</td>\n",
       "      <td>0</td>\n",
       "      <td>6.25370</td>\n",
       "      <td>0</td>\n",
       "      <td>1</td>\n",
       "      <td>0</td>\n",
       "      <td>0</td>\n",
       "      <td>0</td>\n",
       "      <td>0</td>\n",
       "      <td>0</td>\n",
       "      <td>0</td>\n",
       "      <td>1</td>\n",
       "      <td>0</td>\n",
       "      <td>0</td>\n",
       "      <td>0</td>\n",
       "      <td>0</td>\n",
       "      <td>0</td>\n",
       "      <td>0</td>\n",
       "      <td>0</td>\n",
       "      <td>0</td>\n",
       "      <td>0</td>\n",
       "      <td>0</td>\n",
       "      <td>0</td>\n",
       "      <td>0</td>\n",
       "      <td>0</td>\n",
       "      <td>0</td>\n",
       "      <td>0</td>\n",
       "      <td>0</td>\n",
       "      <td>1</td>\n",
       "    </tr>\n",
       "    <tr>\n",
       "      <th>1</th>\n",
       "      <td>0.10000</td>\n",
       "      <td>0.88506</td>\n",
       "      <td>-1</td>\n",
       "      <td>156</td>\n",
       "      <td>20</td>\n",
       "      <td>0.00458</td>\n",
       "      <td>14.54435</td>\n",
       "      <td>597</td>\n",
       "      <td>4891.02002</td>\n",
       "      <td>3214.06166</td>\n",
       "      <td>3144.47120</td>\n",
       "      <td>1</td>\n",
       "      <td>6</td>\n",
       "      <td>223</td>\n",
       "      <td>1</td>\n",
       "      <td>0</td>\n",
       "      <td>1</td>\n",
       "      <td>28</td>\n",
       "      <td>0</td>\n",
       "      <td>990.00000</td>\n",
       "      <td>0</td>\n",
       "      <td>8.95264</td>\n",
       "      <td>1</td>\n",
       "      <td>1</td>\n",
       "      <td>7</td>\n",
       "      <td>0</td>\n",
       "      <td>0</td>\n",
       "      <td>0</td>\n",
       "      <td>0</td>\n",
       "      <td>0</td>\n",
       "      <td>0</td>\n",
       "      <td>0</td>\n",
       "      <td>0</td>\n",
       "      <td>1</td>\n",
       "      <td>0</td>\n",
       "      <td>1</td>\n",
       "      <td>0</td>\n",
       "      <td>0</td>\n",
       "      <td>0</td>\n",
       "      <td>0</td>\n",
       "      <td>0</td>\n",
       "      <td>0</td>\n",
       "      <td>0</td>\n",
       "      <td>1</td>\n",
       "      <td>0</td>\n",
       "      <td>0</td>\n",
       "      <td>0</td>\n",
       "      <td>1</td>\n",
       "    </tr>\n",
       "  </tbody>\n",
       "</table>\n",
       "</div>"
      ],
      "text/plain": [
       "   income  name_email_similarity  prev_address_months_count  current_address_months_count  customer_age  days_since_request  intended_balcon_amount  zip_count_4w  velocity_6h  velocity_24h  velocity_4w  bank_branch_count_8w  date_of_birth_distinct_emails_4w  credit_risk_score  email_is_free  phone_home_valid  phone_mobile_valid  bank_months_count  has_other_cards  proposed_credit_limit  foreign_request  session_length_in_minutes  keep_alive_session  device_distinct_emails_8w  month  payment_type_AB  payment_type_AC  payment_type_AD  payment_type_AE  employment_status_CB  employment_status_CC  employment_status_CD  employment_status_CE  employment_status_CF  employment_status_CG  housing_status_BB  housing_status_BC  housing_status_BD  housing_status_BE  housing_status_BF  housing_status_BG  source_TELEAPP  device_os_macintosh  device_os_other  device_os_windows  device_os_x11  fraud_bool  intercept\n",
       "0 0.50000                0.58414                         -1                           354            60             0.02091                22.64003          1342   1097.47353    4135.31093   5993.67415                   547                                 4                142              1                 1                   1                 28                1              200.00000                0                    6.25370                   0                          1      0                0                0                0                0                     0                     1                     0                     0                     0                     0                  0                  0                  0                  0                  0                  0               0                    0                0                  0              0           0          1\n",
       "1 0.10000                0.88506                         -1                           156            20             0.00458                14.54435           597   4891.02002    3214.06166   3144.47120                     1                                 6                223              1                 0                   1                 28                0              990.00000                0                    8.95264                   1                          1      7                0                0                0                0                     0                     0                     0                     0                     1                     0                  1                  0                  0                  0                  0                  0               0                    0                1                  0              0           0          1"
      ]
     },
     "execution_count": 44,
     "metadata": {},
     "output_type": "execute_result"
    }
   ],
   "source": [
    "train_data.head(2)"
   ]
  },
  {
   "cell_type": "code",
   "execution_count": 45,
   "id": "72770929",
   "metadata": {
    "execution": {
     "iopub.execute_input": "2024-01-09T01:54:49.030150Z",
     "iopub.status.busy": "2024-01-09T01:54:49.029149Z",
     "iopub.status.idle": "2024-01-09T01:54:49.316938Z",
     "shell.execute_reply": "2024-01-09T01:54:49.315938Z",
     "shell.execute_reply.started": "2024-01-09T01:54:49.030150Z"
    }
   },
   "outputs": [
    {
     "name": "stdout",
     "output_type": "stream",
     "text": [
      "Optimization terminated successfully.\n",
      "         Current function value: 0.310968\n",
      "         Iterations 7\n"
     ]
    },
    {
     "data": {
      "text/html": [
       "<table class=\"simpletable\">\n",
       "<caption>Logit Regression Results</caption>\n",
       "<tr>\n",
       "  <th>Dep. Variable:</th>      <td>fraud_bool</td>    <th>  No. Observations:  </th>  <td> 80000</td> \n",
       "</tr>\n",
       "<tr>\n",
       "  <th>Model:</th>                 <td>Logit</td>      <th>  Df Residuals:      </th>  <td> 79995</td> \n",
       "</tr>\n",
       "<tr>\n",
       "  <th>Method:</th>                 <td>MLE</td>       <th>  Df Model:          </th>  <td>     4</td> \n",
       "</tr>\n",
       "<tr>\n",
       "  <th>Date:</th>            <td>Tue, 09 Jan 2024</td> <th>  Pseudo R-squ.:     </th>  <td>0.1041</td> \n",
       "</tr>\n",
       "<tr>\n",
       "  <th>Time:</th>                <td>08:54:49</td>     <th>  Log-Likelihood:    </th> <td> -24877.</td>\n",
       "</tr>\n",
       "<tr>\n",
       "  <th>converged:</th>             <td>True</td>       <th>  LL-Null:           </th> <td> -27769.</td>\n",
       "</tr>\n",
       "<tr>\n",
       "  <th>Covariance Type:</th>     <td>nonrobust</td>    <th>  LLR p-value:       </th>  <td> 0.000</td> \n",
       "</tr>\n",
       "</table>\n",
       "<table class=\"simpletable\">\n",
       "<tr>\n",
       "             <td></td>               <th>coef</th>     <th>std err</th>      <th>z</th>      <th>P>|z|</th>  <th>[0.025</th>    <th>0.975]</th>  \n",
       "</tr>\n",
       "<tr>\n",
       "  <th>intercept</th>              <td>   -3.0453</td> <td>    0.030</td> <td> -100.579</td> <td> 0.000</td> <td>   -3.105</td> <td>   -2.986</td>\n",
       "</tr>\n",
       "<tr>\n",
       "  <th>credit_risk_score</th>      <td>    0.0094</td> <td>    0.000</td> <td>   58.248</td> <td> 0.000</td> <td>    0.009</td> <td>    0.010</td>\n",
       "</tr>\n",
       "<tr>\n",
       "  <th>intended_balcon_amount</th> <td>   -0.0128</td> <td>    0.001</td> <td>  -16.504</td> <td> 0.000</td> <td>   -0.014</td> <td>   -0.011</td>\n",
       "</tr>\n",
       "<tr>\n",
       "  <th>has_other_cards</th>        <td>   -1.2307</td> <td>    0.041</td> <td>  -30.332</td> <td> 0.000</td> <td>   -1.310</td> <td>   -1.151</td>\n",
       "</tr>\n",
       "<tr>\n",
       "  <th>phone_home_valid</th>       <td>   -0.6579</td> <td>    0.026</td> <td>  -24.846</td> <td> 0.000</td> <td>   -0.710</td> <td>   -0.606</td>\n",
       "</tr>\n",
       "</table>"
      ],
      "text/latex": [
       "\\begin{center}\n",
       "\\begin{tabular}{lclc}\n",
       "\\toprule\n",
       "\\textbf{Dep. Variable:}           &   fraud\\_bool    & \\textbf{  No. Observations:  } &    80000    \\\\\n",
       "\\textbf{Model:}                   &      Logit       & \\textbf{  Df Residuals:      } &    79995    \\\\\n",
       "\\textbf{Method:}                  &       MLE        & \\textbf{  Df Model:          } &        4    \\\\\n",
       "\\textbf{Date:}                    & Tue, 09 Jan 2024 & \\textbf{  Pseudo R-squ.:     } &   0.1041    \\\\\n",
       "\\textbf{Time:}                    &     08:54:49     & \\textbf{  Log-Likelihood:    } &   -24877.   \\\\\n",
       "\\textbf{converged:}               &       True       & \\textbf{  LL-Null:           } &   -27769.   \\\\\n",
       "\\textbf{Covariance Type:}         &    nonrobust     & \\textbf{  LLR p-value:       } &    0.000    \\\\\n",
       "\\bottomrule\n",
       "\\end{tabular}\n",
       "\\begin{tabular}{lcccccc}\n",
       "                                  & \\textbf{coef} & \\textbf{std err} & \\textbf{z} & \\textbf{P$> |$z$|$} & \\textbf{[0.025} & \\textbf{0.975]}  \\\\\n",
       "\\midrule\n",
       "\\textbf{intercept}                &      -3.0453  &        0.030     &  -100.579  &         0.000        &       -3.105    &       -2.986     \\\\\n",
       "\\textbf{credit\\_risk\\_score}      &       0.0094  &        0.000     &    58.248  &         0.000        &        0.009    &        0.010     \\\\\n",
       "\\textbf{intended\\_balcon\\_amount} &      -0.0128  &        0.001     &   -16.504  &         0.000        &       -0.014    &       -0.011     \\\\\n",
       "\\textbf{has\\_other\\_cards}        &      -1.2307  &        0.041     &   -30.332  &         0.000        &       -1.310    &       -1.151     \\\\\n",
       "\\textbf{phone\\_home\\_valid}       &      -0.6579  &        0.026     &   -24.846  &         0.000        &       -0.710    &       -0.606     \\\\\n",
       "\\bottomrule\n",
       "\\end{tabular}\n",
       "%\\caption{Logit Regression Results}\n",
       "\\end{center}"
      ],
      "text/plain": [
       "<class 'statsmodels.iolib.summary.Summary'>\n",
       "\"\"\"\n",
       "                           Logit Regression Results                           \n",
       "==============================================================================\n",
       "Dep. Variable:             fraud_bool   No. Observations:                80000\n",
       "Model:                          Logit   Df Residuals:                    79995\n",
       "Method:                           MLE   Df Model:                            4\n",
       "Date:                Tue, 09 Jan 2024   Pseudo R-squ.:                  0.1041\n",
       "Time:                        08:54:49   Log-Likelihood:                -24877.\n",
       "converged:                       True   LL-Null:                       -27769.\n",
       "Covariance Type:            nonrobust   LLR p-value:                     0.000\n",
       "==========================================================================================\n",
       "                             coef    std err          z      P>|z|      [0.025      0.975]\n",
       "------------------------------------------------------------------------------------------\n",
       "intercept                 -3.0453      0.030   -100.579      0.000      -3.105      -2.986\n",
       "credit_risk_score          0.0094      0.000     58.248      0.000       0.009       0.010\n",
       "intended_balcon_amount    -0.0128      0.001    -16.504      0.000      -0.014      -0.011\n",
       "has_other_cards           -1.2307      0.041    -30.332      0.000      -1.310      -1.151\n",
       "phone_home_valid          -0.6579      0.026    -24.846      0.000      -0.710      -0.606\n",
       "==========================================================================================\n",
       "\"\"\""
      ]
     },
     "execution_count": 45,
     "metadata": {},
     "output_type": "execute_result"
    }
   ],
   "source": [
    "model_logit_multi = sm.Logit(train_data['fraud_bool'], train_data[['intercept','credit_risk_score','intended_balcon_amount',\n",
    "                                                                   'has_other_cards', 'phone_home_valid']]).fit()\n",
    "model_logit_multi.summary()"
   ]
  },
  {
   "cell_type": "markdown",
   "id": "ec4385db",
   "metadata": {},
   "source": [
    "Dengan _multiple predictor_, fungsi logit untuk prediksi kita dapat ditulis:\n",
    "    \n",
    "$$ \n",
    "logit(p) = -3.0453 + 0.0094\\cdot credit \\ risk \\ score - 0.0128 \\cdot intended \\ balcon \\ amount \\\\ - \n",
    "1.2307 \\cdot has \\ other \\ cards - 0.6579 \\cdot phone \\ home \\ valid\n",
    "$$\n",
    "\n",
    "Cara kita menginterpretasi setiap koefisien masih sama. Hanya saja terdapat sedikit tambahan saat menginterpretasi koefiesien prediktor.\n",
    "\n",
    "* _Intercept_ menunjukkan _log of odds_ pelanggan membeli produk saat semua prediktor = 0.\n",
    "* Koefisien prediktor menunjukkan besarnya kenaikan _log of odds_ saat semua prediktor lain nilainya tetap.\n",
    "\n",
    "Sebagai contoh pada `intended_balcon_amount`:"
   ]
  },
  {
   "cell_type": "code",
   "execution_count": 46,
   "id": "88e17af1",
   "metadata": {
    "execution": {
     "iopub.execute_input": "2024-01-09T01:54:49.318937Z",
     "iopub.status.busy": "2024-01-09T01:54:49.317937Z",
     "iopub.status.idle": "2024-01-09T01:54:49.332947Z",
     "shell.execute_reply": "2024-01-09T01:54:49.331483Z",
     "shell.execute_reply.started": "2024-01-09T01:54:49.318937Z"
    }
   },
   "outputs": [
    {
     "data": {
      "text/plain": [
       "count   80000.00000\n",
       "mean        8.05265\n",
       "std        19.76626\n",
       "min       -14.06498\n",
       "25%        -1.18521\n",
       "50%        -0.84004\n",
       "75%        -0.19351\n",
       "max       111.69735\n",
       "Name: intended_balcon_amount, dtype: float64"
      ]
     },
     "execution_count": 46,
     "metadata": {},
     "output_type": "execute_result"
    }
   ],
   "source": [
    "train_data.intended_balcon_amount.describe()"
   ]
  },
  {
   "cell_type": "code",
   "execution_count": 47,
   "id": "f148a97b",
   "metadata": {
    "execution": {
     "iopub.execute_input": "2024-01-09T01:54:49.334053Z",
     "iopub.status.busy": "2024-01-09T01:54:49.334053Z",
     "iopub.status.idle": "2024-01-09T01:54:49.348056Z",
     "shell.execute_reply": "2024-01-09T01:54:49.347052Z",
     "shell.execute_reply.started": "2024-01-09T01:54:49.334053Z"
    }
   },
   "outputs": [
    {
     "name": "stdout",
     "output_type": "stream",
     "text": [
      "Selisih log of odds setelah `intended_balcon_amount` naik sebesar 1 unit = -0.013.\n"
     ]
    }
   ],
   "source": [
    "crs = 50\n",
    "balcon0 = 0.48\n",
    "balcon1 = 1.48\n",
    "cards = 0\n",
    "phone = 1\n",
    "\n",
    "# log of odds awal\n",
    "l1 = -3.0453 + 0.0094*crs - 0.0128*balcon0 - 1.2307*cards - 0.6579*phone\n",
    "\n",
    "# log of odds setelah var_2 bertambah 1 unit\n",
    "l2 = -3.0453 + 0.0094*crs - 0.0128*balcon1 - 1.2307*cards - 0.6579*phone\n",
    "\n",
    "# selisih\n",
    "diff = l2-l1\n",
    "\n",
    "print(f\"Selisih log of odds setelah `intended_balcon_amount` naik sebesar 1 unit = {round(diff, 3)}.\")"
   ]
  },
  {
   "cell_type": "markdown",
   "id": "9b631893",
   "metadata": {},
   "source": [
    "Jika nilai variabel lain tidak berubah, maka dengan kenaikan `intended_balcon_amount` sebesar 1 unit, maka nilai _log of odds_ akan berkurang sebesar 0.013."
   ]
  },
  {
   "cell_type": "markdown",
   "id": "64c24aa9",
   "metadata": {},
   "source": [
    "## Prediksi\n",
    "\n",
    "Ketika kita sudah berhasil membuat model, normalnya kita akan mencoba melakukan prediksi terhadap data *test* yang sudah kita persiapkan pada tahap *train-test-splitting*. Dalam melakukan prediksi, kita bisa memanfaaatkan fungsi `predict()`. Dengan syntax sebagai berikut:\n",
    "\n",
    "`<nama_model>.predict(<var_prediktor>)`"
   ]
  },
  {
   "cell_type": "code",
   "execution_count": 48,
   "id": "ffb77b34",
   "metadata": {
    "execution": {
     "iopub.execute_input": "2024-01-09T01:54:49.351053Z",
     "iopub.status.busy": "2024-01-09T01:54:49.350056Z",
     "iopub.status.idle": "2024-01-09T01:54:49.379049Z",
     "shell.execute_reply": "2024-01-09T01:54:49.378049Z",
     "shell.execute_reply.started": "2024-01-09T01:54:49.350056Z"
    }
   },
   "outputs": [
    {
     "data": {
      "text/plain": [
       "64955    0\n",
       "53224    0\n",
       "31080    0\n",
       "91843    0\n",
       "92873    0\n",
       "dtype: int64"
      ]
     },
     "execution_count": 48,
     "metadata": {},
     "output_type": "execute_result"
    }
   ],
   "source": [
    "X_test[\"intercept\"] = 1\n",
    "\n",
    "pred_credit = model_logit_multi.predict(X_test[['intercept','credit_risk_score','intended_balcon_amount',\n",
    "                                                'has_other_cards', 'phone_home_valid']])\n",
    "\n",
    "# ubah hasil prediksi dari peluang ke label\n",
    "pred_label = pred_credit.apply(lambda x: 1 if x > 0.5 else 0)\n",
    "pred_label.head()"
   ]
  },
  {
   "cell_type": "markdown",
   "id": "936653e6",
   "metadata": {},
   "source": [
    "## Evaluasi Model\n",
    "\n",
    "Untuk mengetahui performa suatu model, kita perlu meninjau hasil prediksi model kita pada data test. Pada kasus ini kita menggunakan satu buah konsep terkait evaluasi kasus klasifikasi yaitu _confusion matrix_.\n",
    "\n",
    "### Confusion Matrix\n",
    "\n",
    "Pada _confusion matrix_ langkah awal yang perlu dilakukan adalah menentukan kelas positif. Ketika kita memiliki kasus klasifikasi, kelas positif adalah kelas yang lebih kita fokuskan atau secara sederhana yang ingin kita tinjau lebih dalam.\n",
    "\n",
    "Pada kode berikut, kita akan meninjau hasil _confusion matrix_ pada model kita:"
   ]
  },
  {
   "cell_type": "code",
   "execution_count": 49,
   "id": "c7f7d5d3",
   "metadata": {
    "execution": {
     "iopub.execute_input": "2024-01-09T01:54:49.381049Z",
     "iopub.status.busy": "2024-01-09T01:54:49.381049Z",
     "iopub.status.idle": "2024-01-09T01:54:49.411053Z",
     "shell.execute_reply": "2024-01-09T01:54:49.410050Z",
     "shell.execute_reply.started": "2024-01-09T01:54:49.381049Z"
    }
   },
   "outputs": [
    {
     "data": {
      "text/html": [
       "<div>\n",
       "<style scoped>\n",
       "    .dataframe tbody tr th:only-of-type {\n",
       "        vertical-align: middle;\n",
       "    }\n",
       "\n",
       "    .dataframe tbody tr th {\n",
       "        vertical-align: top;\n",
       "    }\n",
       "\n",
       "    .dataframe thead th {\n",
       "        text-align: right;\n",
       "    }\n",
       "</style>\n",
       "<table border=\"1\" class=\"dataframe\">\n",
       "  <thead>\n",
       "    <tr style=\"text-align: right;\">\n",
       "      <th>true label</th>\n",
       "      <th>0</th>\n",
       "      <th>1</th>\n",
       "    </tr>\n",
       "    <tr>\n",
       "      <th>predicted label</th>\n",
       "      <th></th>\n",
       "      <th></th>\n",
       "    </tr>\n",
       "  </thead>\n",
       "  <tbody>\n",
       "    <tr>\n",
       "      <th>0</th>\n",
       "      <td>17766</td>\n",
       "      <td>2174</td>\n",
       "    </tr>\n",
       "    <tr>\n",
       "      <th>1</th>\n",
       "      <td>28</td>\n",
       "      <td>32</td>\n",
       "    </tr>\n",
       "  </tbody>\n",
       "</table>\n",
       "</div>"
      ],
      "text/plain": [
       "true label           0     1\n",
       "predicted label             \n",
       "0                17766  2174\n",
       "1                   28    32"
      ]
     },
     "execution_count": 49,
     "metadata": {},
     "output_type": "execute_result"
    }
   ],
   "source": [
    "# buat confusion matrix\n",
    "pd.crosstab(pred_label, y_test,\n",
    "            rownames=[\"predicted label\"],\n",
    "            colnames=[\"true label\"])"
   ]
  },
  {
   "cell_type": "markdown",
   "id": "eff04f3c",
   "metadata": {},
   "source": [
    "Pada data ini, kita akan berfokus kepada kelas 1 yang merupakan akun bank fraud. Perhatikan pada matrix di atas kita memprediksi data lalu membandingkannya dengan data aslinya yang berkelas 0 dan 1. Setiap pengukuran dari matrix ini sebenarnya memiliki nama, yaitu:\n",
    "\n",
    "* _True Positive_ (TP): banyaknya label positif yang diprediksi dengan benar (aktual +, prediksi +)\n",
    "* _True Negative_ (TN): banyaknya label negatif yang diprediksi dengan benar (aktual -, prediksi -)\n",
    "* _False Positive_ (FP): banyaknya label negatif yang diprediksi dengan salah (aktual -, prediksi +)\n",
    "* _False Negative_ (FN): banyaknya label negatif yang diprediksi dengan salah (aktual +, prediksi -)\n",
    "\n",
    "![ ](assets/tnfp.PNG)\n",
    "\n",
    "Dari keempat pengukuran tersebut, kita dapat menilai evaluasi model berdasarkan 4 metrik berikut:\n",
    "\n",
    "- **Accuracy**: seberapa tepat model kita memprediksi kelas target (secara global).\n",
    "$$Accuracy = \\frac{TP + TN}{TP + TN + FP + FN}$$\n",
    "\n",
    "- **Sensitivity**/ **Recall**: ukuran kebaikan model terhadap kelas `positif`.\n",
    "$$Recall = \\frac{TP}{TP + FN}$$\n",
    "\n",
    "- Pos Pred Value/**Precision**: seberapa presisi model memprediksi kelas positif.\n",
    "$$Precision = \\frac{TP}{TP + FP}$$\n",
    "- **Specificity**: ukuran kebaikan model terhadap kelas `negatif` (jarang digunakan karena merupakan kebalikan dari _recall_)."
   ]
  },
  {
   "cell_type": "markdown",
   "id": "9d37d706",
   "metadata": {},
   "source": [
    "### Accuracy\n",
    "\n",
    "Kita dapat menghitung nilai akurasi dengan fungsi `accuracy_score()` dari `sklearn`."
   ]
  },
  {
   "cell_type": "code",
   "execution_count": 50,
   "id": "27c65ad0",
   "metadata": {
    "execution": {
     "iopub.execute_input": "2024-01-09T01:54:49.413056Z",
     "iopub.status.busy": "2024-01-09T01:54:49.412057Z",
     "iopub.status.idle": "2024-01-09T01:54:49.427124Z",
     "shell.execute_reply": "2024-01-09T01:54:49.426123Z",
     "shell.execute_reply.started": "2024-01-09T01:54:49.413056Z"
    }
   },
   "outputs": [
    {
     "data": {
      "text/plain": [
       "0.8899"
      ]
     },
     "execution_count": 50,
     "metadata": {},
     "output_type": "execute_result"
    }
   ],
   "source": [
    "accuracy_score(y_test, pred_label)"
   ]
  },
  {
   "cell_type": "markdown",
   "id": "c51f5d93",
   "metadata": {},
   "source": [
    "### Precision\n",
    "\n",
    "Kita dapat menghitung nilai _precision_ dengan fungsi `precision_score()` dari `sklearn`."
   ]
  },
  {
   "cell_type": "code",
   "execution_count": 51,
   "id": "028f7153",
   "metadata": {
    "execution": {
     "iopub.execute_input": "2024-01-09T01:54:49.429126Z",
     "iopub.status.busy": "2024-01-09T01:54:49.428123Z",
     "iopub.status.idle": "2024-01-09T01:54:49.458125Z",
     "shell.execute_reply": "2024-01-09T01:54:49.457124Z",
     "shell.execute_reply.started": "2024-01-09T01:54:49.429126Z"
    }
   },
   "outputs": [
    {
     "data": {
      "text/plain": [
       "0.5333333333333333"
      ]
     },
     "execution_count": 51,
     "metadata": {},
     "output_type": "execute_result"
    }
   ],
   "source": [
    "precision_score(y_test, pred_label)"
   ]
  },
  {
   "cell_type": "markdown",
   "id": "cb4d7ea7",
   "metadata": {},
   "source": [
    "### Recall/Sensitivity\n",
    "\n",
    "Kita dapat menghitung nilai _recall_ dengan fungsi `recall_score()` dari `sklearn`."
   ]
  },
  {
   "cell_type": "code",
   "execution_count": 52,
   "id": "bc108329",
   "metadata": {
    "execution": {
     "iopub.execute_input": "2024-01-09T01:54:49.460126Z",
     "iopub.status.busy": "2024-01-09T01:54:49.459125Z",
     "iopub.status.idle": "2024-01-09T01:54:49.489124Z",
     "shell.execute_reply": "2024-01-09T01:54:49.488123Z",
     "shell.execute_reply.started": "2024-01-09T01:54:49.460126Z"
    }
   },
   "outputs": [
    {
     "data": {
      "text/plain": [
       "0.014505893019038985"
      ]
     },
     "execution_count": 52,
     "metadata": {},
     "output_type": "execute_result"
    }
   ],
   "source": [
    "recall_score(y_test, pred_label)"
   ]
  },
  {
   "cell_type": "markdown",
   "id": "f7ccc1b5",
   "metadata": {},
   "source": [
    "### Specificity/True Negative Rate (TNR)\n",
    "\n",
    "Kita dapat menghitung nilai _specificity_ dengan fungsi `recall_score()`  dan memasukkan parameter `pos_label = 0`."
   ]
  },
  {
   "cell_type": "code",
   "execution_count": 53,
   "id": "987fd6f5",
   "metadata": {
    "execution": {
     "iopub.execute_input": "2024-01-09T01:54:49.491126Z",
     "iopub.status.busy": "2024-01-09T01:54:49.490123Z",
     "iopub.status.idle": "2024-01-09T01:54:49.520126Z",
     "shell.execute_reply": "2024-01-09T01:54:49.519126Z",
     "shell.execute_reply.started": "2024-01-09T01:54:49.491126Z"
    }
   },
   "outputs": [
    {
     "data": {
      "text/plain": [
       "0.998426435877262"
      ]
     },
     "execution_count": 53,
     "metadata": {},
     "output_type": "execute_result"
    }
   ],
   "source": [
    "recall_score(y_test, pred_label, pos_label=0)"
   ]
  },
  {
   "cell_type": "markdown",
   "id": "420557e0",
   "metadata": {},
   "source": [
    "Secara umum sebenarnya kita dapat menggunakan metrik _accuracy_, tetapi terdapat beberapa kondisi ketika kita harus memilih untuk meninjau **_recall/precision_**:\n",
    "\n",
    "- _Data imbalance_ (proporsi target variabel tidak seimbang)\n",
    "- Ada kelas yang lebih penting\n",
    "- Ada resiko yang perlu dipertimbangkan\n",
    "\n",
    "Tanpa ketiga syarat di atas, kita bisa dengan mudah meninjau nilai akurasi saja. Tetapi contohnya pada kasus kita sekarang, terdapat kelas yang lebih penting yaitu kelas 1 yang merupakan kondisi akun bank fraud. Ketika kita telah mengetahui kelas positifnya maka kita bisa meninjau resiko apa yang terjadi jika kita melakukan salah prediksi:\n",
    "\n",
    "- FP: diprediksi fraud ternyata bukan fraud\n",
    "    - resikonya adalah kehilangan nasabah yang mungkin menggunakan berbagai program bank.\n",
    "- FN: diprediksi bukan fraud ternyata fraud\n",
    "    - resikonya adalah kehilangan dana untuk menanggulangi kerugian akibat akun fraud ini.\n",
    "\n",
    "Berdasarkan penjabaran di atas, kita sendiri yang akan menentukan resiko mana yang sebaiknya kita minimalisir. Apabila kita ingin meminimalisir FP maka kita akan menggunakan metrik **_precision_**, sementara ketika kita ingin meminimalisir FN maka kita akan menggunakan metrik **_recall_**."
   ]
  },
  {
   "cell_type": "markdown",
   "id": "a2336d65",
   "metadata": {},
   "source": [
    "## Logistic Regression Key Assumptions\n",
    "\n",
    "Seperti yang sudah kita pelajari di awal pembahasan mengenai _logistic regression_, _logistic regression_ dapat dipandang sebagai _special case_ dari regresi linear. Jika regresi linear memiliki asumsi yang harus dipenuhi, _logistic_ _regression_ juga memiliki beberapa asumsi:\n",
    "\n",
    "* **Multikolinearitas**\n",
    "  + Artinya, setiap prediktor tidak saling berkorelasi tinggi.\n",
    "* **Obervasi yang Independen**\n",
    "  + Artinya, setiap observasi tidak berasal dari pengukuran yang berulang dan harus independen satu sama lain.\n",
    "* **Linearitas antara Prediktor dan _Log of Odds_**\n",
    "  + Artinya, terdapat hubungan linear antara prediktor dan _log of odds_."
   ]
  },
  {
   "cell_type": "markdown",
   "id": "12574189",
   "metadata": {},
   "source": [
    "# Model Classification 2 - K-Nearest Neighbour\n",
    "\n",
    "Algoritma K-Nearest Neighbor merupakan metode yang menggunakan informasi `k` tetangga terdekat untuk mengklasifikasi data tanpa label. Ketika dilatih, model ini akan mempelajari informasi lokasi suatu data dan label data tersebut. Informasi lokasi dan label ini yang akan menjadi acuan ketika data tanpa label diidentifikasi. Dari jumlah tetangga terdekat suatu data tanpa label, kelas dominan yang akan dipilih sebagai kelas data tersebut.\n",
    "\n",
    "Kita akan menggunakan contoh gambar di bawah sebagai ilustrasi. Anggaplah kita memilih nilai k = 1 maka tanda * akan menghitung lokasi ke setiap titik di sekitarnya dan mengambil 1 tetangga paling dekat sebagai kelas dirinya. Pada kasus ini artinya dia akan diklasifikasikan sebagai kelas kotak. \n",
    "\n",
    "![](assets/knn.jpg)\n",
    "\n",
    "Tetapi apabila kita memilih k = 5, maka kelas dominan dari lima poin di sekitar tanda * ini adalah tanda bulat. Secara lebih jelasnya, berikut adalah proses pengambilan keputusan oleh k-NN.\n",
    "\n",
    "![](assets/KNN.png)"
   ]
  },
  {
   "cell_type": "markdown",
   "id": "a40b6658",
   "metadata": {},
   "source": [
    "## Euclidean Distance\n",
    "\n",
    "Metode k-NN ini menggunakan perhitungan jarak yang disebut *Euclidean distance* yaitu menghitung jarak paling dekat (seperti menggunakan penggaris untuk menghubungkan dua titik). \n",
    "Apabila kita memiliki dua buah data bernama A dan B dengan fitur seperti berikut:\n",
    "\n",
    "A = ($x_1, x_2, …, x_m$)\n",
    "\n",
    "B = ($y_1, y_2, …, y_m$)\n",
    "\n",
    "Pada keterangan di atas, _m_ merupakan dimensi fitur data kita. Untuk melakukan perhitungan jarak antara A dan B, formula _Euclidean distance_ yang digunakan yaitu:\n",
    "\n",
    "$$dist(A,B) = \\sqrt{\\sum\\limits^{m}_{i=1}(x_i-y_i)^2}$$\n",
    "\n",
    "Jika kita aplikasikan formula di atas pada contoh _blind-tasting_ suatu makanan, kita dapat menghitung jarak antara kedua makanan di bawah dengan fiturnya masing-masing sebagai berikut:\n",
    "\n",
    "- tomato (sweet: 6, crunchy: 4)  \n",
    "- green bean (sweet: 3, crunchy: 7)\n",
    "\n",
    "dist(tomato, green bean) = `sqrt((6-3)^2 + (4-7)^2))` yang menghasilkan angka 4.24."
   ]
  },
  {
   "cell_type": "markdown",
   "id": "53f09627",
   "metadata": {},
   "source": [
    "## Data Preparation\n",
    "\n",
    "Pada kasus ini kita akan kembali menggunakan data credit kita sebelumnya. Pada metode k-NN karena kita memperhitungkan nilai berdasarkan jarak maka kita tidak akan menggunakan data kategorikal sama sekali. Mari kita lihat kembali data kita lalu kita ambil data numeriknya saja."
   ]
  },
  {
   "cell_type": "code",
   "execution_count": 54,
   "id": "c68d2e87",
   "metadata": {
    "execution": {
     "iopub.execute_input": "2024-01-09T01:54:49.521125Z",
     "iopub.status.busy": "2024-01-09T01:54:49.521125Z",
     "iopub.status.idle": "2024-01-09T01:54:49.551124Z",
     "shell.execute_reply": "2024-01-09T01:54:49.550127Z",
     "shell.execute_reply.started": "2024-01-09T01:54:49.521125Z"
    }
   },
   "outputs": [
    {
     "data": {
      "text/html": [
       "<div>\n",
       "<style scoped>\n",
       "    .dataframe tbody tr th:only-of-type {\n",
       "        vertical-align: middle;\n",
       "    }\n",
       "\n",
       "    .dataframe tbody tr th {\n",
       "        vertical-align: top;\n",
       "    }\n",
       "\n",
       "    .dataframe thead th {\n",
       "        text-align: right;\n",
       "    }\n",
       "</style>\n",
       "<table border=\"1\" class=\"dataframe\">\n",
       "  <thead>\n",
       "    <tr style=\"text-align: right;\">\n",
       "      <th></th>\n",
       "      <th>fraud_bool</th>\n",
       "      <th>income</th>\n",
       "      <th>name_email_similarity</th>\n",
       "      <th>prev_address_months_count</th>\n",
       "      <th>current_address_months_count</th>\n",
       "      <th>customer_age</th>\n",
       "      <th>days_since_request</th>\n",
       "      <th>intended_balcon_amount</th>\n",
       "      <th>zip_count_4w</th>\n",
       "      <th>velocity_6h</th>\n",
       "      <th>velocity_24h</th>\n",
       "      <th>velocity_4w</th>\n",
       "      <th>bank_branch_count_8w</th>\n",
       "      <th>date_of_birth_distinct_emails_4w</th>\n",
       "      <th>credit_risk_score</th>\n",
       "      <th>email_is_free</th>\n",
       "      <th>phone_home_valid</th>\n",
       "      <th>phone_mobile_valid</th>\n",
       "      <th>bank_months_count</th>\n",
       "      <th>has_other_cards</th>\n",
       "      <th>proposed_credit_limit</th>\n",
       "      <th>foreign_request</th>\n",
       "      <th>session_length_in_minutes</th>\n",
       "      <th>keep_alive_session</th>\n",
       "      <th>device_distinct_emails_8w</th>\n",
       "      <th>month</th>\n",
       "    </tr>\n",
       "  </thead>\n",
       "  <tbody>\n",
       "    <tr>\n",
       "      <th>0</th>\n",
       "      <td>0</td>\n",
       "      <td>0.90000</td>\n",
       "      <td>0.61579</td>\n",
       "      <td>-1</td>\n",
       "      <td>51</td>\n",
       "      <td>40</td>\n",
       "      <td>0.01034</td>\n",
       "      <td>-0.69955</td>\n",
       "      <td>2659</td>\n",
       "      <td>11007.70883</td>\n",
       "      <td>7448.79742</td>\n",
       "      <td>5576.30356</td>\n",
       "      <td>2030</td>\n",
       "      <td>7</td>\n",
       "      <td>253</td>\n",
       "      <td>1</td>\n",
       "      <td>1</td>\n",
       "      <td>1</td>\n",
       "      <td>9</td>\n",
       "      <td>1</td>\n",
       "      <td>1500.00000</td>\n",
       "      <td>0</td>\n",
       "      <td>13.07981</td>\n",
       "      <td>0</td>\n",
       "      <td>1</td>\n",
       "      <td>1</td>\n",
       "    </tr>\n",
       "    <tr>\n",
       "      <th>1</th>\n",
       "      <td>0</td>\n",
       "      <td>0.60000</td>\n",
       "      <td>0.07246</td>\n",
       "      <td>-1</td>\n",
       "      <td>125</td>\n",
       "      <td>20</td>\n",
       "      <td>0.00697</td>\n",
       "      <td>-0.95947</td>\n",
       "      <td>5599</td>\n",
       "      <td>6304.26284</td>\n",
       "      <td>4373.09359</td>\n",
       "      <td>4721.10002</td>\n",
       "      <td>1</td>\n",
       "      <td>13</td>\n",
       "      <td>112</td>\n",
       "      <td>1</td>\n",
       "      <td>1</td>\n",
       "      <td>0</td>\n",
       "      <td>-1</td>\n",
       "      <td>0</td>\n",
       "      <td>200.00000</td>\n",
       "      <td>0</td>\n",
       "      <td>6.66655</td>\n",
       "      <td>0</td>\n",
       "      <td>1</td>\n",
       "      <td>4</td>\n",
       "    </tr>\n",
       "    <tr>\n",
       "      <th>2</th>\n",
       "      <td>1</td>\n",
       "      <td>0.50000</td>\n",
       "      <td>0.07659</td>\n",
       "      <td>-1</td>\n",
       "      <td>37</td>\n",
       "      <td>50</td>\n",
       "      <td>0.00632</td>\n",
       "      <td>-1.21993</td>\n",
       "      <td>1352</td>\n",
       "      <td>1357.41355</td>\n",
       "      <td>6667.02966</td>\n",
       "      <td>6318.87626</td>\n",
       "      <td>15</td>\n",
       "      <td>6</td>\n",
       "      <td>199</td>\n",
       "      <td>1</td>\n",
       "      <td>1</td>\n",
       "      <td>1</td>\n",
       "      <td>28</td>\n",
       "      <td>0</td>\n",
       "      <td>1500.00000</td>\n",
       "      <td>0</td>\n",
       "      <td>4.49267</td>\n",
       "      <td>1</td>\n",
       "      <td>2</td>\n",
       "      <td>0</td>\n",
       "    </tr>\n",
       "  </tbody>\n",
       "</table>\n",
       "</div>"
      ],
      "text/plain": [
       "   fraud_bool  income  name_email_similarity  prev_address_months_count  current_address_months_count  customer_age  days_since_request  intended_balcon_amount  zip_count_4w  velocity_6h  velocity_24h  velocity_4w  bank_branch_count_8w  date_of_birth_distinct_emails_4w  credit_risk_score  email_is_free  phone_home_valid  phone_mobile_valid  bank_months_count  has_other_cards  proposed_credit_limit  foreign_request  session_length_in_minutes  keep_alive_session  device_distinct_emails_8w  month\n",
       "0           0 0.90000                0.61579                         -1                            51            40             0.01034                -0.69955          2659  11007.70883    7448.79742   5576.30356                  2030                                 7                253              1                 1                   1                  9                1             1500.00000                0                   13.07981                   0                          1      1\n",
       "1           0 0.60000                0.07246                         -1                           125            20             0.00697                -0.95947          5599   6304.26284    4373.09359   4721.10002                     1                                13                112              1                 1                   0                 -1                0              200.00000                0                    6.66655                   0                          1      4\n",
       "2           1 0.50000                0.07659                         -1                            37            50             0.00632                -1.21993          1352   1357.41355    6667.02966   6318.87626                    15                                 6                199              1                 1                   1                 28                0             1500.00000                0                    4.49267                   1                          2      0"
      ]
     },
     "execution_count": 54,
     "metadata": {},
     "output_type": "execute_result"
    }
   ],
   "source": [
    "credit_knn = credit.select_dtypes(\"number\")\n",
    "credit_knn.head(3)"
   ]
  },
  {
   "cell_type": "markdown",
   "id": "5082a9ce",
   "metadata": {},
   "source": [
    "Mari kita lanjutkan proses pembuatan model ini dengan membagi data kita menjadi data train dan data test."
   ]
  },
  {
   "cell_type": "code",
   "execution_count": 55,
   "id": "c589c1aa",
   "metadata": {
    "execution": {
     "iopub.execute_input": "2024-01-09T01:54:49.553122Z",
     "iopub.status.busy": "2024-01-09T01:54:49.553122Z",
     "iopub.status.idle": "2024-01-09T01:54:49.616124Z",
     "shell.execute_reply": "2024-01-09T01:54:49.614122Z",
     "shell.execute_reply.started": "2024-01-09T01:54:49.553122Z"
    }
   },
   "outputs": [],
   "source": [
    "y = credit_knn[\"fraud_bool\"]\n",
    "X = credit_knn.drop(columns=[\"fraud_bool\"])\n",
    "\n",
    "X_train, X_test, y_train, y_test = train_test_split(X, y, test_size=0.20, random_state=42, stratify=y)"
   ]
  },
  {
   "cell_type": "markdown",
   "id": "ef52cb94",
   "metadata": {},
   "source": [
    "### Features rescaling\n",
    "\n",
    "Jika kita lihat di atas, data kita tersusun dari berbagai data dengan _range_ nilai yang berbeda-beda. Hal ini akan menjadi masalah ketika kita menggunakan metode k-NN yang menghitung nilai berdasarkan jarak. Variabel dengan nilai di antara 1 sampai 500 akan jauh lebih signifikan dibanding variabel dengan nilai 0 sampai 1. \n",
    "\n",
    "Kondisi ini dapat diselesaikan dengan melakukan _rescaling_ keseluruhan variabel kita. Dengan _rescaling_ kita dapat memampatkan atau melebarkan nilai data menjadi _range_ yang kurang lebih sama. Beberapa metode scaling yang biasa digunakan yaitu:\n",
    "\n",
    "- Mix-Max normalization  \n",
    "- z-score standardization\n",
    "\n",
    "#### Min-max normalization\n",
    "\n",
    "Metode ini bekerja dengan melakukan transformasi nilai data agar berada di jarak 0 sampai 1. Formula yang digunakan:\n",
    "\n",
    "$$x_{new}=\\frac{(x-min(x))}{(max(x)-min(x))}$$\n",
    "\n",
    "#### z-score standardization\n",
    "\n",
    "Metode ini bekerja dengan melakukan transformasi berdasarkan informasi mean dan standar deviasi dari data. Formula yang digunakan:\n",
    "\n",
    "$$x_{new}=\\frac{(x-\\bar x)}{std(x)}$$\n",
    "\n",
    "Metode z-score ini akan menghasilkan nilai dalam skala z-score yang tidak memiliki batas maksimum atau minimum dan dapat bernilai negatif maupun positif. "
   ]
  },
  {
   "cell_type": "markdown",
   "id": "d782f1c8",
   "metadata": {},
   "source": [
    "Pada kasus ini, kita akan menggunakan metode z-score pada data kita. Metode ini dapat diakses menggunakan fungsi `StandardScaler()` dari `sklearn.preprocessing`.\n",
    "\n",
    "Kita akan mempelajari informasi dari data train dan scaling pada data test akan dilakukan berdasarkan informasi data train untuk mencegah _data leaking_."
   ]
  },
  {
   "cell_type": "code",
   "execution_count": 56,
   "id": "5280cc6e",
   "metadata": {
    "execution": {
     "iopub.execute_input": "2024-01-09T01:54:49.617124Z",
     "iopub.status.busy": "2024-01-09T01:54:49.617124Z",
     "iopub.status.idle": "2024-01-09T01:54:49.672364Z",
     "shell.execute_reply": "2024-01-09T01:54:49.671367Z",
     "shell.execute_reply.started": "2024-01-09T01:54:49.617124Z"
    }
   },
   "outputs": [],
   "source": [
    "scaler = StandardScaler()\n",
    "\n",
    "scaler.fit(X_train)\n",
    "\n",
    "X_train_scale = scaler.transform(X_train)\n",
    "X_test_scale = scaler.transform(X_test)"
   ]
  },
  {
   "cell_type": "markdown",
   "id": "c56414bc",
   "metadata": {},
   "source": [
    "## Modeling\n",
    "\n",
    "### Choosing an appropriate *k*\n",
    "\n",
    "Penentuan berapa tetangga yang diperhitungkan oleh k-NN akan berdampak kepada seberapa mampu model men-generalisasi data. Keseimbangan antara overfitting dan underfitting data training umumnya dikenal sebagai **bias-variance tradeoff**. Penggunaan nilai k yang besar mengurangi pengaruh variasi pada _noisy data_, tetapi dapat membuat pembelajaran model menjadi bias yang membuat model menghindari pola penting yang ditangkap dari informasi kecil/detail.\n",
    "\n",
    "Jika kita menggunakan nilai k yang sangat besar, seperti sejumlah observasi pada data training kita. Hal ini akan menyebabkan model selalu memprediksi kelas dominan. Sebaliknya, jika kita menggunakan nilai k = 1 menyebabkan data outliers berpengaruh tidak semestinya terhadap klasifikasi. Jika salah satu data training secara tidak sengaja salah dilabeli dan terdapat satu data yang tepat di sebelahnya, pemilihan k = 1 akan menyebabkan misklasifikasi walaupun 10 data tetangga lain memberi vote kelas lain.\n"
   ]
  },
  {
   "cell_type": "markdown",
   "id": "b730d07c",
   "metadata": {},
   "source": [
    "Pada prakteknya, salah satu strategi untuk menentukan nilai k yaitu dengan **menghitung akar kuadrat dari jumlah data training**. Strategi lain adalah menggunakan nilai k yang lebih besar tetapi memperhitungkan bobot berdasarkan jarak antar data. Jarak data yang lebih dekat berbobot lebih tinggi dibanding jarak data yang lebih jauh.\n",
    "\n",
    "Selain itu pembulatan dari perhitungan akar kuadrat ini disesuaikan dengan beberapa syarat lain yaitu:\n",
    "\n",
    "- k harus ganjil bila jumlah kelas target genap\n",
    "- k harus genap bila jumlah kelas target ganjil \n",
    "- k tidak boleh angka kelipatan jumlah kelas target\n",
    "\n",
    "Hal ini dilakukan untuk menghindari seri ketika proses majority voting dilakukan. Apabila hasil majority voting ini seri maka kelas akan dipilih secara random. Mari kita hitung nilai k pada kasus kita sebelum membuat model."
   ]
  },
  {
   "cell_type": "code",
   "execution_count": 57,
   "id": "8e36dcb8",
   "metadata": {
    "execution": {
     "iopub.execute_input": "2024-01-09T01:54:49.673972Z",
     "iopub.status.busy": "2024-01-09T01:54:49.673972Z",
     "iopub.status.idle": "2024-01-09T01:54:49.688124Z",
     "shell.execute_reply": "2024-01-09T01:54:49.687129Z",
     "shell.execute_reply.started": "2024-01-09T01:54:49.673972Z"
    }
   },
   "outputs": [
    {
     "data": {
      "text/plain": [
       "282.842712474619"
      ]
     },
     "execution_count": 57,
     "metadata": {},
     "output_type": "execute_result"
    }
   ],
   "source": [
    "np.sqrt(X_train.shape[0])"
   ]
  },
  {
   "cell_type": "markdown",
   "id": "ada27e6c",
   "metadata": {},
   "source": [
    "Berdasarkan perhitungan di atas maka kita akan menggunakan nilai `k = 283`."
   ]
  },
  {
   "cell_type": "code",
   "execution_count": 58,
   "id": "4c4c868b",
   "metadata": {
    "execution": {
     "iopub.execute_input": "2024-01-09T01:54:49.689127Z",
     "iopub.status.busy": "2024-01-09T01:54:49.689127Z",
     "iopub.status.idle": "2024-01-09T01:54:49.719114Z",
     "shell.execute_reply": "2024-01-09T01:54:49.718113Z",
     "shell.execute_reply.started": "2024-01-09T01:54:49.689127Z"
    }
   },
   "outputs": [
    {
     "data": {
      "text/html": [
       "<style>#sk-container-id-1 {color: black;}#sk-container-id-1 pre{padding: 0;}#sk-container-id-1 div.sk-toggleable {background-color: white;}#sk-container-id-1 label.sk-toggleable__label {cursor: pointer;display: block;width: 100%;margin-bottom: 0;padding: 0.3em;box-sizing: border-box;text-align: center;}#sk-container-id-1 label.sk-toggleable__label-arrow:before {content: \"▸\";float: left;margin-right: 0.25em;color: #696969;}#sk-container-id-1 label.sk-toggleable__label-arrow:hover:before {color: black;}#sk-container-id-1 div.sk-estimator:hover label.sk-toggleable__label-arrow:before {color: black;}#sk-container-id-1 div.sk-toggleable__content {max-height: 0;max-width: 0;overflow: hidden;text-align: left;background-color: #f0f8ff;}#sk-container-id-1 div.sk-toggleable__content pre {margin: 0.2em;color: black;border-radius: 0.25em;background-color: #f0f8ff;}#sk-container-id-1 input.sk-toggleable__control:checked~div.sk-toggleable__content {max-height: 200px;max-width: 100%;overflow: auto;}#sk-container-id-1 input.sk-toggleable__control:checked~label.sk-toggleable__label-arrow:before {content: \"▾\";}#sk-container-id-1 div.sk-estimator input.sk-toggleable__control:checked~label.sk-toggleable__label {background-color: #d4ebff;}#sk-container-id-1 div.sk-label input.sk-toggleable__control:checked~label.sk-toggleable__label {background-color: #d4ebff;}#sk-container-id-1 input.sk-hidden--visually {border: 0;clip: rect(1px 1px 1px 1px);clip: rect(1px, 1px, 1px, 1px);height: 1px;margin: -1px;overflow: hidden;padding: 0;position: absolute;width: 1px;}#sk-container-id-1 div.sk-estimator {font-family: monospace;background-color: #f0f8ff;border: 1px dotted black;border-radius: 0.25em;box-sizing: border-box;margin-bottom: 0.5em;}#sk-container-id-1 div.sk-estimator:hover {background-color: #d4ebff;}#sk-container-id-1 div.sk-parallel-item::after {content: \"\";width: 100%;border-bottom: 1px solid gray;flex-grow: 1;}#sk-container-id-1 div.sk-label:hover label.sk-toggleable__label {background-color: #d4ebff;}#sk-container-id-1 div.sk-serial::before {content: \"\";position: absolute;border-left: 1px solid gray;box-sizing: border-box;top: 0;bottom: 0;left: 50%;z-index: 0;}#sk-container-id-1 div.sk-serial {display: flex;flex-direction: column;align-items: center;background-color: white;padding-right: 0.2em;padding-left: 0.2em;position: relative;}#sk-container-id-1 div.sk-item {position: relative;z-index: 1;}#sk-container-id-1 div.sk-parallel {display: flex;align-items: stretch;justify-content: center;background-color: white;position: relative;}#sk-container-id-1 div.sk-item::before, #sk-container-id-1 div.sk-parallel-item::before {content: \"\";position: absolute;border-left: 1px solid gray;box-sizing: border-box;top: 0;bottom: 0;left: 50%;z-index: -1;}#sk-container-id-1 div.sk-parallel-item {display: flex;flex-direction: column;z-index: 1;position: relative;background-color: white;}#sk-container-id-1 div.sk-parallel-item:first-child::after {align-self: flex-end;width: 50%;}#sk-container-id-1 div.sk-parallel-item:last-child::after {align-self: flex-start;width: 50%;}#sk-container-id-1 div.sk-parallel-item:only-child::after {width: 0;}#sk-container-id-1 div.sk-dashed-wrapped {border: 1px dashed gray;margin: 0 0.4em 0.5em 0.4em;box-sizing: border-box;padding-bottom: 0.4em;background-color: white;}#sk-container-id-1 div.sk-label label {font-family: monospace;font-weight: bold;display: inline-block;line-height: 1.2em;}#sk-container-id-1 div.sk-label-container {text-align: center;}#sk-container-id-1 div.sk-container {/* jupyter's `normalize.less` sets `[hidden] { display: none; }` but bootstrap.min.css set `[hidden] { display: none !important; }` so we also need the `!important` here to be able to override the default hidden behavior on the sphinx rendered scikit-learn.org. See: https://github.com/scikit-learn/scikit-learn/issues/21755 */display: inline-block !important;position: relative;}#sk-container-id-1 div.sk-text-repr-fallback {display: none;}</style><div id=\"sk-container-id-1\" class=\"sk-top-container\"><div class=\"sk-text-repr-fallback\"><pre>KNeighborsClassifier(n_neighbors=283)</pre><b>In a Jupyter environment, please rerun this cell to show the HTML representation or trust the notebook. <br />On GitHub, the HTML representation is unable to render, please try loading this page with nbviewer.org.</b></div><div class=\"sk-container\" hidden><div class=\"sk-item\"><div class=\"sk-estimator sk-toggleable\"><input class=\"sk-toggleable__control sk-hidden--visually\" id=\"sk-estimator-id-1\" type=\"checkbox\" checked><label for=\"sk-estimator-id-1\" class=\"sk-toggleable__label sk-toggleable__label-arrow\">KNeighborsClassifier</label><div class=\"sk-toggleable__content\"><pre>KNeighborsClassifier(n_neighbors=283)</pre></div></div></div></div></div>"
      ],
      "text/plain": [
       "KNeighborsClassifier(n_neighbors=283)"
      ]
     },
     "execution_count": 58,
     "metadata": {},
     "output_type": "execute_result"
    }
   ],
   "source": [
    "model_knn = KNeighborsClassifier(n_neighbors = 283)\n",
    "model_knn.fit(X_train_scale, y_train)"
   ]
  },
  {
   "cell_type": "markdown",
   "id": "bfbba144",
   "metadata": {},
   "source": [
    "### Characteristics of k-NN\n",
    "\n",
    "Metode klasifikasi menggunakan k-NN biasa disebut sebagai '_lazy learners_' karena kita tidak benar-benar membuat model. Pada proses k-NN tidak terjadi proses generalisasi seperti pada model logistic regression. Secara teknikal dapat dikatakan bahwa k-NN hanya menghafal lokasi data tidak benar-benar mempelajari datanya.\n",
    "\n",
    "Mari kita simpulkan proses yang perlu dilakukan k-NN hingga mendapatkan prediksi:\n",
    "\n",
    "- Scaling (transformasi variabel agar berada pada _range_ nilai yang kurang lebih sama agar tidak ada yang lebih dominan)\n",
    "- Memilih nilai k\n",
    "- Membuat model (memilih k tetangga terdekat untuk setiap sampel uji)\n",
    "- Melakukan klasifikasi berdasarkan kelas dominannya\n",
    "\n",
    "Karena berbagai alasan di atas, maka secara komputasi proses ini cukup berat apabila kita memiliki data dengan dimensi yang besar (membutuhkan memori yang besar karena melakukan perhitungan jarak secara berulang). Jika kita memilih k yang kecil, metode ini akan sensitif terhadap _noise_ di data kita.\n",
    "\n",
    "Meskipun terdapat berbagai limitasi, k-NN sangatlah _powerful_ dan _versatile_. Beberapa kelemahan seperti kondisi outlier dapat diselesaikan dengan scaling yang sudah dipelajari. k-NN juga akan menjadi tidak sensitif terhadap outlier dan noise apabila kita memilih nilai k dengan tepat. Selain itu k-NN mampu bekerja baik pada data non-linear tidak seperti metode logistic regression."
   ]
  },
  {
   "cell_type": "markdown",
   "id": "572a9aa9",
   "metadata": {},
   "source": [
    "## Prediction\n",
    "\n",
    "Mari kita kembali ke model kita dan coba melakukan prediksi pada data test kita."
   ]
  },
  {
   "cell_type": "code",
   "execution_count": 59,
   "id": "c3cd6075",
   "metadata": {
    "execution": {
     "iopub.execute_input": "2024-01-09T01:54:49.721118Z",
     "iopub.status.busy": "2024-01-09T01:54:49.720116Z",
     "iopub.status.idle": "2024-01-09T01:54:52.564183Z",
     "shell.execute_reply": "2024-01-09T01:54:52.563174Z",
     "shell.execute_reply.started": "2024-01-09T01:54:49.721118Z"
    }
   },
   "outputs": [],
   "source": [
    "knn_pred = model_knn.predict(X_test_scale)"
   ]
  },
  {
   "cell_type": "markdown",
   "id": "2294c6d5",
   "metadata": {},
   "source": [
    "## Evaluation\n",
    "\n",
    "Seperti model sebelumnya, kita tetap harus meninjau performa model pada data test agar kita dapat menentukan apakah model ini dapat digunakan atau tidak. Mari kita lihat confusion matrix model kita pada data test."
   ]
  },
  {
   "cell_type": "code",
   "execution_count": 60,
   "id": "c7283086",
   "metadata": {
    "execution": {
     "iopub.execute_input": "2024-01-09T01:54:52.566184Z",
     "iopub.status.busy": "2024-01-09T01:54:52.566184Z",
     "iopub.status.idle": "2024-01-09T01:54:52.595865Z",
     "shell.execute_reply": "2024-01-09T01:54:52.593866Z",
     "shell.execute_reply.started": "2024-01-09T01:54:52.566184Z"
    }
   },
   "outputs": [
    {
     "data": {
      "text/html": [
       "<div>\n",
       "<style scoped>\n",
       "    .dataframe tbody tr th:only-of-type {\n",
       "        vertical-align: middle;\n",
       "    }\n",
       "\n",
       "    .dataframe tbody tr th {\n",
       "        vertical-align: top;\n",
       "    }\n",
       "\n",
       "    .dataframe thead th {\n",
       "        text-align: right;\n",
       "    }\n",
       "</style>\n",
       "<table border=\"1\" class=\"dataframe\">\n",
       "  <thead>\n",
       "    <tr style=\"text-align: right;\">\n",
       "      <th>true label</th>\n",
       "      <th>0</th>\n",
       "      <th>1</th>\n",
       "    </tr>\n",
       "    <tr>\n",
       "      <th>predicted label</th>\n",
       "      <th></th>\n",
       "      <th></th>\n",
       "    </tr>\n",
       "  </thead>\n",
       "  <tbody>\n",
       "    <tr>\n",
       "      <th>0</th>\n",
       "      <td>17750</td>\n",
       "      <td>2065</td>\n",
       "    </tr>\n",
       "    <tr>\n",
       "      <th>1</th>\n",
       "      <td>44</td>\n",
       "      <td>141</td>\n",
       "    </tr>\n",
       "  </tbody>\n",
       "</table>\n",
       "</div>"
      ],
      "text/plain": [
       "true label           0     1\n",
       "predicted label             \n",
       "0                17750  2065\n",
       "1                   44   141"
      ]
     },
     "execution_count": 60,
     "metadata": {},
     "output_type": "execute_result"
    }
   ],
   "source": [
    "pd.crosstab(knn_pred, y_test,\n",
    "            rownames=[\"predicted label\"],\n",
    "            colnames=[\"true label\"])"
   ]
  },
  {
   "cell_type": "markdown",
   "id": "60a635a2",
   "metadata": {},
   "source": [
    "Mari kita juga tinjau ketiga metrik evaluasi yaitu akurasi, recall, dan precision."
   ]
  },
  {
   "cell_type": "code",
   "execution_count": 61,
   "id": "3d6c218c",
   "metadata": {
    "execution": {
     "iopub.execute_input": "2024-01-09T01:54:52.596864Z",
     "iopub.status.busy": "2024-01-09T01:54:52.596864Z",
     "iopub.status.idle": "2024-01-09T01:54:52.625033Z",
     "shell.execute_reply": "2024-01-09T01:54:52.625033Z",
     "shell.execute_reply.started": "2024-01-09T01:54:52.596864Z"
    }
   },
   "outputs": [
    {
     "name": "stdout",
     "output_type": "stream",
     "text": [
      "Akurasi:  0.89455\n",
      "Recall:  0.06391659111514053\n",
      "Precision:  0.7621621621621621\n"
     ]
    }
   ],
   "source": [
    "print(\"Akurasi: \", accuracy_score(y_test, knn_pred))\n",
    "print(\"Recall: \", recall_score(y_test, knn_pred, pos_label=1))\n",
    "print(\"Precision: \", precision_score(y_test, knn_pred, pos_label=1))"
   ]
  },
  {
   "cell_type": "markdown",
   "id": "29950358",
   "metadata": {},
   "source": [
    "# Modeling Summary\n",
    "\n",
    "Secara kesimpulan, sebenarnya kedua model yang telah kita buat belum baik karena metriks utama kita (recall) masih menghasilkan nilai yang sangat kecil. Artinya kita masih perlu melakukan eksplorasi terkait penanganan data maupun tuning model. Hal ini utamanya karena pada kasus ini kita berhadapan dengan data yang imbalance.\n",
    "\n",
    "Seperti yang telah disebutkan sebelumnya, terdapat metode seperti oversampling dan undersampling yang mampu mengubah komposisi data kita. Selain itu kita juga dapat melakukan pemilihan fitur yang digunakan pada model, melakukan _hyperparameter tuning_, dsb.\n",
    "\n",
    "Berbagai metode di atas tidak akan dibahas di kelas ini dan dapat dieksplorasi mandiri di luar kelas."
   ]
  },
  {
   "cell_type": "markdown",
   "id": "0a7f1fb0",
   "metadata": {},
   "source": [
    "## [Additional] Classification Model Selection: Overfit, Underfit, Just Right\n",
    "\n",
    "Pada bagian ini kita akan membahas istilah _overfitting_ yang mengacu pada kondisi di mana model terlalu mempelajari pola pada data sehingga gagal memprediksi data baru. Perhatikan gambar di bawah ini!\n",
    "\n",
    "![](assets/underfitting_overfitting.png)\n",
    "\n",
    "### Overfitting (High Variance)\n",
    "\n",
    "Seperti yang sudah kita ketahui, bahwa _overfitting_ merupakan kondisi di mana model sangat menghafal pola pada data _training_. Bayangkan bahwa data training memiliki _signal_/pola dan _noise_. \n",
    "\n",
    "> Idealnya, kita hanya menginginkan model hanya mempelajari _signal_/pola.\n",
    "\n",
    "Yang terjadi pada _overfitting_, model juga mempelajari _noise_ pada data. Akibatnya, jika diberikan data baru, model gagal melakukan prediksi (gagal melakukan generalisasi). \n",
    "\n",
    "Gejala _overfitting_ dapat diketahui dari hal-hal berikut.\n",
    "\n",
    "1. Model menunjukkan performa yang baik pada data _training_ (tingkat _error_ kecil).\n",
    "2. Model menunjukkan performa yang rendah pada data _testing_ (tingkat _error_ besar). Perbedaan performa antara _training_ dan _testing_ sangat besar.\n",
    "\n",
    "Penyebab _overfitting_:\n",
    "\n",
    "1. Ukuran untuk data _training_ sangat kecil dan tidak representatif.\n",
    "2. Data yang digunakan untuk _training_ banyak mengandung _noise_.\n",
    "3. Prediktor yang digunakan pada data _training_ tidak sesuai.\n",
    "4. Model yang terlalu kompleks.\n",
    "\n",
    "Cara mengatasi _overfitting_ yang dapat dilakukan:\n",
    "\n",
    "1. _Adjustment_ dari segi model:\n",
    "   +  Menggunakan model yang lebih sederhana.\n",
    "   +  Melakukan _fine-tuning_ model: \n",
    "      - Melakukan _pruning_/_regularization_.\n",
    "      - Melakukan _hyperparameter_ _search_.\n",
    "2. _Adjustment_ dari segi data:\n",
    "   +  Menambah data yang digunakan untuk proses _training_.\n",
    "   +  Melakukan _feature_ _selection_.\n",
    "   +  Melakukan _handling_ untuk _imbalance_ _dataset_.\n",
    "3. _Adjustment_ dari cara _training_:\n",
    "   +  Melakukan _cross_ _validation_.\n",
    "   \n",
    "### Underfitting/High Bias\n",
    "\n",
    "Berkebalikan dengan _overfitting_, pada _underfitting_, model tidak dapat mendeteksi pola pada data. Akibatnya, model gagal untuk memprediksi data baru.\n",
    "\n",
    "Gejala _underfitting_ dapat diketahui dari hal berikut.\n",
    "\n",
    "1. Model menunjukkan performa yang rendah pada data _training_ (tingkat _error_ besar).\n",
    "2. Model menunjukkan performa yang rendah pada data _testing_ (tingkat _error_ besar). Perbedaan performa antara _training_ dan _testing_ tidak terlalu jauh.\n",
    "\n",
    "Penyebab _underfitting_:\n",
    "\n",
    "1. Ukuran untuk data _training_ sangat kecil dan tidak representatif.\n",
    "2. Prediktor yang digunakan pada data _training_ tidak sesuai.\n",
    "3. Model yang terlalu sederhana.\n",
    "\n",
    "Cara mengatasi _underfitting_ yang dapat dilakukan:\n",
    "\n",
    "1. _Adjustment_ dari segi model:\n",
    "   +  Menggunakan model yang lebih kompleks.\n",
    "   +  Melakukan _fine-tuning_ model.\n",
    "2. _Adjustment_ dari segi data:\n",
    "   +  Menambah data yang digunakan untuk proses _training_.\n",
    "   +  Mencoba mengganti prediktor yang dimasukkan ke data _training_ (_feature selection_).\n",
    "3. Adjustment dari cara _training_:\n",
    "   +  Melakukan _cross validation_.\n",
    "   \n",
    "### Trade-Off Underfitting and Overfitting (Bias and Variance Trade-Off)\n",
    "\n",
    "![](assets/bias_variance_tradeoff.jpg)\n",
    "\n",
    "_Challenge_ utama saat membangun _machine_ _learning_ adalah menghasilkan model yang merupakan perpotongan dari _underfitting_ dan _overfitting_. Artinya, kita ingin membangun model yang tidak terlalu kompleks (tidak _overfit_), tetapi bisa menghasilkan prediksi dengan benar (tidak _underfit_).\n",
    "\n",
    "> Model ideal saat melakukan _machine_ _learning_: memiliki _variance_ dan bias yang rendah (tingkat _overfitting_ dan _underfitting_ rendah)."
   ]
  },
  {
   "cell_type": "markdown",
   "id": "971bddcf",
   "metadata": {},
   "source": [
    "# Wrap Up\n",
    "\n",
    "Pada _course_ ini, kita sudah mempelajari banyak hal untuk membuat _machine_ _learning_. Apabila dirunut kembali, apa yang sudah kita lakukan sejauh ini sebenarnya mengikuti _workflow machine learning_ secara umum:\n",
    "\n",
    "![](assets/ml_workflow.jpg)\n",
    "\n",
    "1. Mendapatkan data\n",
    "2. Persiapan data: cek tipe data, cek _missing values_, _feature selection_, _target and predictors splitting_, _one-hot encoding_, _cross validation_, _sampling_, dll.\n",
    "3. _Modeling_: membuat dan melatih model _machine learning_.\n",
    "4. Evaluasi performa model: menggunakan _metrics evaluation_.\n",
    "\n",
    "Proses ini biasanya tidak berjalan satu arah. Terkadang kita sering harus kembali ke _step_ sebelumnya. Dalam hal ini, dari _step_ 4, kadang kita bisa mengulang lagi dari _step_ 2 atau bahkan _step_ 1.\n",
    "\n",
    "> Proses _machine learning_ sering kali melibatkan serangkaian percobaan dan kesalahan. Pendekatan yang digunakan dalam menyelesaikan suatu masalah tertentu tidak selalu dapat diterapkan secara langsung untuk menyelesaikan masalah lain yang berbeda."
   ]
  }
 ],
 "metadata": {
  "authors": [
   {
    "name": "Team Algoritma"
   }
  ],
  "dates": "November 2023",
  "kernelspec": {
   "display_name": "Python 3 (ipykernel)",
   "language": "python",
   "name": "python3"
  },
  "language_info": {
   "codemirror_mode": {
    "name": "ipython",
    "version": 3
   },
   "file_extension": ".py",
   "mimetype": "text/x-python",
   "name": "python",
   "nbconvert_exporter": "python",
   "pygments_lexer": "ipython3",
   "version": "3.8.18"
  },
  "toc": {
   "base_numbering": 1,
   "nav_menu": {},
   "number_sections": false,
   "sideBar": true,
   "skip_h1_title": false,
   "title_cell": "Table of Contents",
   "title_sidebar": "Contents",
   "toc_cell": false,
   "toc_position": {},
   "toc_section_display": true,
   "toc_window_display": false
  }
 },
 "nbformat": 4,
 "nbformat_minor": 5
}
