{
 "cells": [
  {
   "cell_type": "markdown",
   "id": "f4eb1893",
   "metadata": {},
   "source": [
    "**Inclass: Classification Model**\n",
    "- Durasi: 7 hours\n",
    "- _Last Updated_: Desember 2023\n",
    "\n",
    "___\n",
    "\n",
    "- Disusun dan dikurasi oleh tim produk dan instruktur [Algoritma Data Science School](https://algorit.ma)."
   ]
  },
  {
   "cell_type": "markdown",
   "id": "e83dfa8e",
   "metadata": {},
   "source": [
    "# Classification in Machine Learning"
   ]
  },
  {
   "cell_type": "code",
   "execution_count": 26,
   "id": "a352a910",
   "metadata": {
    "execution": {
     "iopub.execute_input": "2024-01-09T01:29:44.054155Z",
     "iopub.status.busy": "2024-01-09T01:29:44.053156Z",
     "iopub.status.idle": "2024-01-09T01:29:44.082300Z",
     "shell.execute_reply": "2024-01-09T01:29:44.081296Z",
     "shell.execute_reply.started": "2024-01-09T01:29:44.054155Z"
    }
   },
   "outputs": [
    {
     "data": {
      "text/plain": [
       "<Figure size 720x1200 with 0 Axes>"
      ]
     },
     "execution_count": 26,
     "metadata": {},
     "output_type": "execute_result"
    },
    {
     "data": {
      "text/plain": [
       "<Figure size 720x1200 with 0 Axes>"
      ]
     },
     "metadata": {},
     "output_type": "display_data"
    }
   ],
   "source": [
    "import pandas as pd # preprocessing data\n",
    "import math # math operations\n",
    "%matplotlib inline \n",
    "\n",
    "pd.set_option('display.max_columns', 100) # set max columns display\n",
    "from matplotlib.pyplot import figure\n",
    "figure(figsize=(9, 15), dpi=80)"
   ]
  },
  {
   "cell_type": "markdown",
   "id": "40824b37",
   "metadata": {},
   "source": [
    "# Introduction\n",
    "\n",
    "* Klasifikasi bertujuan untuk memprediksi **target variable kategorik** seperti label/kelas\n",
    "* Label/kelas yang dapat diprediksi antara lain berjenis 2 kelas (**binary**) atau >2 kelas (**multiclass**)."
   ]
  },
  {
   "cell_type": "markdown",
   "id": "225f2718",
   "metadata": {},
   "source": [
    "# Logistic Regression Concept\n",
    "\n",
    "Logistic Regression merupakan salah satu metode klasifikasi yang konsepnya hampir mirip dengan regresi linear. Hanya saja, dalam logistic regression tidak menghitung secara spesifik nilai prediksi target variable, namun menghitung **kemungkinan/peluang** pada masing-masing kelas target.\n",
    "\n",
    "- Linier regresion: y (numerik) -> **-inf, + inf**\n",
    "- Logistic regression: y (peluang) -> **0, 1**\n",
    "\n",
    "![](assets/data-science-programming-contrast-linear-logistic-regression.jpg)\n",
    "\n",
    "📝 Hasil dari regresi logistik dapat digunakan untuk:\n",
    "- keperluan interpretasi\n",
    "- keperluan prediksi\n",
    "\n",
    "❓ Bagaimana regresi logistik bekerja? \n",
    "\n",
    "Suatu regresi yang dapat menghasilkan nilai (-inf sd. +inf), lalu dikonversikan ke bentuk peluang (0 - 1)\n",
    "  - nilai yg dihasilkan oleh algoritma logistic regression: log of odds\n",
    "  - nilai dapat dikonversikan antara **log of odds** - **odds** - **peluang**:"
   ]
  },
  {
   "cell_type": "markdown",
   "id": "424fb71e",
   "metadata": {},
   "source": [
    "<div>\n",
    "<img src=\"assets/linear_vs_logistic_regression.png\" width=\"700\"/>\n",
    "</div>"
   ]
  },
  {
   "cell_type": "markdown",
   "id": "f0f55e5a",
   "metadata": {},
   "source": [
    "## Basic Intuition: Probability\n",
    "\n",
    "* Pada dasarnya, ketika kita melakukan klasifikasi, kita mempertimbangkan **peluang**.\n",
    "\n",
    "**Probability** : kemungkinan terjadi suatu kejadian dari seluruh kejadian yang ada.\n",
    "\n",
    "$$P(A) = \\frac{n}{S} $$ \n",
    "\n",
    "* $P(A)$ : peluang kejadian A\n",
    "* $n$ : banyak kejadian A\n",
    "* $S$ : total seluruh kejadian"
   ]
  },
  {
   "cell_type": "markdown",
   "id": "a292e728",
   "metadata": {},
   "source": [
    "💭❓ **Analytical Question**\n",
    "\n",
    "Terdapat 100 data transaksi dari sebuah Bank, 10 diantaranya merupakan transaksi `fraud` (palsu), sedangkan sisanya sebanyak 90 adalah transaksi `not fraud`. Berapakah peluang kejadian transaksi `fraud`?"
   ]
  },
  {
   "cell_type": "code",
   "execution_count": 3,
   "id": "5830cad1",
   "metadata": {
    "execution": {
     "iopub.execute_input": "2024-01-09T00:56:49.273293Z",
     "iopub.status.busy": "2024-01-09T00:56:49.273293Z",
     "iopub.status.idle": "2024-01-09T00:56:49.293144Z",
     "shell.execute_reply": "2024-01-09T00:56:49.292136Z",
     "shell.execute_reply.started": "2024-01-09T00:56:49.273293Z"
    }
   },
   "outputs": [
    {
     "data": {
      "text/plain": [
       "0.1"
      ]
     },
     "execution_count": 3,
     "metadata": {},
     "output_type": "execute_result"
    }
   ],
   "source": [
    "# probability fraud\n",
    "p_fraud =  10/100\n",
    "p_fraud "
   ]
  },
  {
   "cell_type": "markdown",
   "id": "e8cf4c64",
   "metadata": {},
   "source": [
    "📝 **Note:**  Range dari probability : **0 - 1**"
   ]
  },
  {
   "cell_type": "markdown",
   "id": "0556a7f0",
   "metadata": {},
   "source": [
    "## Odds \n",
    "\n",
    "Ketika kita menebak suatu nilai dalam regresi, range nilai yang kita tebak adalah **$-\\infty - \\infty$**. Sedangkan dalam klasifikasi, range nilai yang kita tebak adalah **0 - 1**. Oleh karena itu, kita memerlukan suatu jembatan untuk bisa menghubungkan antara nilai numerik menjadi suatu nilai peluang. Jembatan tersebut disebut **Odds**.\n",
    "\n",
    "**Odds** : perbandingan probability kejadian sukses (yang diamati) dibandingkan dengan probability kejadian tidak sukses (tidak diamati)\n",
    "\n",
    "$$Odds = \\frac{p}{1-p}$$\n",
    "\n",
    "$p$ : merupakan probability kejadian\n",
    "\n",
    "Jika ingin mengetahui odds dari kejadian 'yes', maka:\n",
    "\n",
    "$$Odds(yes) = \\frac{p(yes)}{1-p(yes)}$$\n",
    "\n",
    "Jika ingin mengetahui odds dari kejadian 'no' maka:\n",
    "\n",
    "$$Odds(no) = \\frac{p(no)}{1-p(no)}$$"
   ]
  },
  {
   "cell_type": "code",
   "execution_count": 4,
   "id": "8dceac16",
   "metadata": {
    "execution": {
     "iopub.execute_input": "2024-01-09T00:57:12.853922Z",
     "iopub.status.busy": "2024-01-09T00:57:12.853922Z",
     "iopub.status.idle": "2024-01-09T00:57:12.876914Z",
     "shell.execute_reply": "2024-01-09T00:57:12.875911Z",
     "shell.execute_reply.started": "2024-01-09T00:57:12.853922Z"
    }
   },
   "outputs": [
    {
     "data": {
      "text/plain": [
       "0.11111111111111112"
      ]
     },
     "execution_count": 4,
     "metadata": {},
     "output_type": "execute_result"
    }
   ],
   "source": [
    "# odds fraud\n",
    "odds_fraud = 0.1 / 0.9\n",
    "odds_fraud"
   ]
  },
  {
   "cell_type": "markdown",
   "id": "4160ab25",
   "metadata": {},
   "source": [
    "> 📈 Interpretasi: Kemungkinan/probability transaksi sebagai fraud adalah **XX KALI** lebih mungkin dibandingkan diketahui sebagai not fraud"
   ]
  },
  {
   "cell_type": "code",
   "execution_count": 5,
   "id": "c9d9803c",
   "metadata": {
    "execution": {
     "iopub.execute_input": "2024-01-09T00:57:45.700714Z",
     "iopub.status.busy": "2024-01-09T00:57:45.699703Z",
     "iopub.status.idle": "2024-01-09T00:57:45.714071Z",
     "shell.execute_reply": "2024-01-09T00:57:45.712072Z",
     "shell.execute_reply.started": "2024-01-09T00:57:45.700714Z"
    }
   },
   "outputs": [
    {
     "data": {
      "text/plain": [
       "9.0"
      ]
     },
     "execution_count": 5,
     "metadata": {},
     "output_type": "execute_result"
    }
   ],
   "source": [
    "# odds not fraud\n",
    "odds_not_fraud = 0.9 / 0.1\n",
    "odds_not_fraud"
   ]
  },
  {
   "cell_type": "markdown",
   "id": "bda14987",
   "metadata": {},
   "source": [
    "> 📈 Interpretasi: Kemungkinan jenis tanah diketahui sebagai not fraud adalah **XX KALI** lebih mungkin dibandingkan diketahui sebagai fraud"
   ]
  },
  {
   "cell_type": "markdown",
   "id": "dcda1a59",
   "metadata": {},
   "source": [
    "📝 **Note:**  Range dari odds : **0 - inf**"
   ]
  },
  {
   "cell_type": "markdown",
   "id": "5159b334",
   "metadata": {},
   "source": [
    "## Log of Odds\n",
    "\n",
    "**Log of Odds** : suatu nilai odds yang di logaritmakan.\n",
    "\n",
    "$$logit(p) = log(\\frac{p}{1-p})$$\n",
    "\n",
    "💭❓ Berapakah log of odds transaksi fraud?"
   ]
  },
  {
   "cell_type": "code",
   "execution_count": 6,
   "id": "0ab7d922",
   "metadata": {
    "execution": {
     "iopub.execute_input": "2024-01-09T00:58:18.754053Z",
     "iopub.status.busy": "2024-01-09T00:58:18.754053Z",
     "iopub.status.idle": "2024-01-09T00:58:18.774049Z",
     "shell.execute_reply": "2024-01-09T00:58:18.773067Z",
     "shell.execute_reply.started": "2024-01-09T00:58:18.754053Z"
    }
   },
   "outputs": [
    {
     "data": {
      "text/plain": [
       "-2.197224577336219"
      ]
     },
     "execution_count": 6,
     "metadata": {},
     "output_type": "execute_result"
    }
   ],
   "source": [
    "# log of odds fraud\n",
    "log_odds_fraud = math.log(0.11111111111111112)\n",
    "log_odds_fraud"
   ]
  },
  {
   "cell_type": "markdown",
   "id": "dc4460c0",
   "metadata": {},
   "source": [
    " **💡Highlight Point:💡**\n",
    " \n",
    " - Untuk menginterpretasikan log of odds kedalam nilai odds -> `math.exp()`\n",
    " \n",
    " - Untuk menginterpretasikan log of odds kedalam probability -> $\\frac{odds}{odds+1}$ atau \n",
    " \n",
    "```python\n",
    "from scipy.special import expit\n",
    "expit()\n",
    "```"
   ]
  },
  {
   "cell_type": "code",
   "execution_count": 7,
   "id": "a0b83783",
   "metadata": {
    "execution": {
     "iopub.execute_input": "2024-01-09T00:58:23.257224Z",
     "iopub.status.busy": "2024-01-09T00:58:23.256224Z",
     "iopub.status.idle": "2024-01-09T00:58:23.488109Z",
     "shell.execute_reply": "2024-01-09T00:58:23.487111Z",
     "shell.execute_reply.started": "2024-01-09T00:58:23.257224Z"
    }
   },
   "outputs": [
    {
     "data": {
      "text/plain": [
       "0.10000000000000002"
      ]
     },
     "execution_count": 7,
     "metadata": {},
     "output_type": "execute_result"
    }
   ],
   "source": [
    "# example menginterpretasikan dari log of odds --> probability\n",
    "from scipy.special import expit\n",
    "expit(log_odds_fraud)"
   ]
  },
  {
   "cell_type": "markdown",
   "id": "9bda1436",
   "metadata": {},
   "source": [
    "![](assets/prob_to_logofodds_sigmoid.png)"
   ]
  },
  {
   "cell_type": "markdown",
   "id": "4b6da4e3",
   "metadata": {},
   "source": [
    "## Logistic Regression Modeling Workflow\n",
    "\n",
    "Berikut adalah urutan *workflow* model Logistic Regression :\n",
    "\n",
    "1. Mempersiapkan data\n",
    "2. *Exploratory Data Analysis*\n",
    "3. Data *Pre-Processing*\n",
    "4. Membuat model logistic regression & interpretasi\n",
    "5. Melakukan prediksi\n",
    "6. Model evaluasi"
   ]
  },
  {
   "cell_type": "markdown",
   "id": "e2b90293",
   "metadata": {},
   "source": [
    "## Study Case : Fraud Bank Account \n",
    "\n",
    "Berbagai penipuan yang marak terjadi melibatkan penggunaan rekening bank. Tentunya hal ini meresahkan dan menyebabkan adanya kerugian baik untuk nasabah maupun bank ini sendiri. Kerugian ini bisa berupa kerugian material sampai menurunnya kepercayaan masyarakat terhadap suatu bank.\n",
    "\n",
    "Data yang akan kita gunakan saat ini merupakan data akun bank yang sudah disesuaikan untuk pembelajaran di workshop ini.\n",
    "\n",
    "### Import data\n",
    "\n",
    "Dalam pembelajaran kali ini kita akan menggunakan data `fraud_dataset.csv` yang tersimpan pada folder `data_input`. \n",
    "\n",
    "Data ini dapat dieksplorasi di luar kelas, tetapi untuk kepentingan pembelajaran kita hanya akan mengambil 11 variabel yang nantinya akan digunakan pada model. Silakan jalankan kode berikut ini:"
   ]
  },
  {
   "cell_type": "code",
   "execution_count": 55,
   "id": "38e19560",
   "metadata": {
    "execution": {
     "iopub.execute_input": "2024-01-09T02:02:54.103764Z",
     "iopub.status.busy": "2024-01-09T02:02:54.103764Z",
     "iopub.status.idle": "2024-01-09T02:02:54.180762Z",
     "shell.execute_reply": "2024-01-09T02:02:54.179760Z",
     "shell.execute_reply.started": "2024-01-09T02:02:54.103764Z"
    }
   },
   "outputs": [
    {
     "data": {
      "text/html": [
       "<div>\n",
       "<style scoped>\n",
       "    .dataframe tbody tr th:only-of-type {\n",
       "        vertical-align: middle;\n",
       "    }\n",
       "\n",
       "    .dataframe tbody tr th {\n",
       "        vertical-align: top;\n",
       "    }\n",
       "\n",
       "    .dataframe thead th {\n",
       "        text-align: right;\n",
       "    }\n",
       "</style>\n",
       "<table border=\"1\" class=\"dataframe\">\n",
       "  <thead>\n",
       "    <tr style=\"text-align: right;\">\n",
       "      <th></th>\n",
       "      <th>income</th>\n",
       "      <th>name_email_similarity</th>\n",
       "      <th>intended_balcon_amount</th>\n",
       "      <th>zip_count_4w</th>\n",
       "      <th>credit_risk_score</th>\n",
       "      <th>phone_home_valid</th>\n",
       "      <th>phone_mobile_valid</th>\n",
       "      <th>has_other_cards</th>\n",
       "      <th>proposed_credit_limit</th>\n",
       "      <th>source</th>\n",
       "      <th>fraud_bool</th>\n",
       "    </tr>\n",
       "  </thead>\n",
       "  <tbody>\n",
       "    <tr>\n",
       "      <th>8890</th>\n",
       "      <td>0.2</td>\n",
       "      <td>0.812254</td>\n",
       "      <td>-1.326747</td>\n",
       "      <td>823</td>\n",
       "      <td>169.0</td>\n",
       "      <td>1</td>\n",
       "      <td>1</td>\n",
       "      <td>1</td>\n",
       "      <td>1500.0</td>\n",
       "      <td>INTERNET</td>\n",
       "      <td>0</td>\n",
       "    </tr>\n",
       "    <tr>\n",
       "      <th>8083</th>\n",
       "      <td>0.9</td>\n",
       "      <td>0.143784</td>\n",
       "      <td>51.139202</td>\n",
       "      <td>1333</td>\n",
       "      <td>135.0</td>\n",
       "      <td>1</td>\n",
       "      <td>1</td>\n",
       "      <td>0</td>\n",
       "      <td>200.0</td>\n",
       "      <td>INTERNET</td>\n",
       "      <td>0</td>\n",
       "    </tr>\n",
       "    <tr>\n",
       "      <th>758</th>\n",
       "      <td>0.8</td>\n",
       "      <td>0.737511</td>\n",
       "      <td>22.804448</td>\n",
       "      <td>1573</td>\n",
       "      <td>28.0</td>\n",
       "      <td>0</td>\n",
       "      <td>1</td>\n",
       "      <td>0</td>\n",
       "      <td>200.0</td>\n",
       "      <td>INTERNET</td>\n",
       "      <td>0</td>\n",
       "    </tr>\n",
       "  </tbody>\n",
       "</table>\n",
       "</div>"
      ],
      "text/plain": [
       "      income  name_email_similarity  intended_balcon_amount  zip_count_4w  \\\n",
       "8890     0.2               0.812254               -1.326747           823   \n",
       "8083     0.9               0.143784               51.139202          1333   \n",
       "758      0.8               0.737511               22.804448          1573   \n",
       "\n",
       "      credit_risk_score  phone_home_valid  phone_mobile_valid  \\\n",
       "8890              169.0                 1                   1   \n",
       "8083              135.0                 1                   1   \n",
       "758                28.0                 0                   1   \n",
       "\n",
       "      has_other_cards  proposed_credit_limit    source  fraud_bool  \n",
       "8890                1                 1500.0  INTERNET           0  \n",
       "8083                0                  200.0  INTERNET           0  \n",
       "758                 0                  200.0  INTERNET           0  "
      ]
     },
     "execution_count": 55,
     "metadata": {},
     "output_type": "execute_result"
    }
   ],
   "source": [
    "import pandas as pd\n",
    "\n",
    "fraud = pd.read_csv('data_input/fraud_dataset.csv')\n",
    "col_used = ['income', 'name_email_similarity', 'intended_balcon_amount', 'zip_count_4w', \n",
    "            'credit_risk_score', 'phone_home_valid', 'phone_mobile_valid', 'has_other_cards', \n",
    "            'proposed_credit_limit', 'source', 'fraud_bool']\n",
    "fraud = fraud[col_used]\n",
    "\n",
    "fraud.sample(3)"
   ]
  },
  {
   "cell_type": "markdown",
   "id": "5df4594a",
   "metadata": {},
   "source": [
    "**Data Description:**\n",
    "\n",
    "- `income` (numeric): _Annual income of the applicant (in decile form). Ranges between [0.1, 0.9]._\n",
    "- `name_email_similarity` (numeric): _Metric of similarity between email and applicant’s name. Higher values represent higher similarity. Ranges between [0, 1]._\n",
    "- `intended_balcon_amount` (numeric): _Initial transferred amount for application. Ranges between [−16, 114] (negatives are missing values)._\n",
    "- `zip_count_4w` (numeric): _Number of applications within same zip code in last 4 weeks. Ranges between [1, 6830]._\n",
    "- `credit_risk_score` (numeric): _Internal score of application risk. Ranges between [−191, 389]._\n",
    "- `phone_home_valid` (binary): _Validity of provided home phone._\n",
    "- `phone_mobile_valid` (binary): _Validity of provided mobile phone._\n",
    "- `has_other_cards` (binary): _If applicant has other cards from the same banking company. _\n",
    "- `proposed_credit_limit` (numeric): _Applicant’s proposed credit limit. Ranges between [200, 2000]._\n",
    "- `source` (categorical): _Online source of application. Either browser (INTERNET) or app (TELEAPP)._\n",
    "- `fraud_bool` (binary): _If the application is fraudulent or not._"
   ]
  },
  {
   "cell_type": "markdown",
   "id": "63fe6d34",
   "metadata": {},
   "source": [
    "\n",
    "Sebelum masuk pada tahap pembuatan model, kita akan melakukan EDA untuk mengetahui variabel prediktor yang perlu dimasukkan dalam model dan yang tidak.\n",
    "\n",
    "### Wrangling Data\n",
    "\n",
    "#### Mengubah tipe data\n",
    "\n",
    "Sebelum melakukan perubahan tipe data, silakan cek terlebih dahulu jenis tipe datanya dengan menggunakan method `dtypes`/`info()`"
   ]
  },
  {
   "cell_type": "code",
   "execution_count": 10,
   "id": "261f2ce2",
   "metadata": {
    "execution": {
     "iopub.execute_input": "2024-01-09T01:12:10.863508Z",
     "iopub.status.busy": "2024-01-09T01:12:10.863508Z",
     "iopub.status.idle": "2024-01-09T01:12:10.889475Z",
     "shell.execute_reply": "2024-01-09T01:12:10.888474Z",
     "shell.execute_reply.started": "2024-01-09T01:12:10.863508Z"
    },
    "scrolled": true
   },
   "outputs": [
    {
     "name": "stdout",
     "output_type": "stream",
     "text": [
      "<class 'pandas.core.frame.DataFrame'>\n",
      "RangeIndex: 14905 entries, 0 to 14904\n",
      "Data columns (total 11 columns):\n",
      " #   Column                  Non-Null Count  Dtype  \n",
      "---  ------                  --------------  -----  \n",
      " 0   income                  14905 non-null  float64\n",
      " 1   name_email_similarity   14905 non-null  float64\n",
      " 2   intended_balcon_amount  14905 non-null  float64\n",
      " 3   zip_count_4w            14905 non-null  int64  \n",
      " 4   credit_risk_score       14905 non-null  float64\n",
      " 5   phone_home_valid        14905 non-null  int64  \n",
      " 6   phone_mobile_valid      14905 non-null  int64  \n",
      " 7   has_other_cards         14905 non-null  int64  \n",
      " 8   proposed_credit_limit   14905 non-null  float64\n",
      " 9   source                  14905 non-null  object \n",
      " 10  fraud_bool              14905 non-null  int64  \n",
      "dtypes: float64(5), int64(5), object(1)\n",
      "memory usage: 1.3+ MB\n"
     ]
    }
   ],
   "source": [
    "# code here\n",
    "fraud.info()"
   ]
  },
  {
   "cell_type": "markdown",
   "id": "cf9b7503",
   "metadata": {},
   "source": [
    "❓ Kolom apa saja yang belum memliki tipe data yang tepat?\n",
    "\n",
    "- `source`"
   ]
  },
  {
   "cell_type": "code",
   "execution_count": 58,
   "id": "a2fbf700",
   "metadata": {
    "execution": {
     "iopub.execute_input": "2024-01-09T02:04:12.417825Z",
     "iopub.status.busy": "2024-01-09T02:04:12.417825Z",
     "iopub.status.idle": "2024-01-09T02:04:12.446819Z",
     "shell.execute_reply": "2024-01-09T02:04:12.445822Z",
     "shell.execute_reply.started": "2024-01-09T02:04:12.417825Z"
    },
    "scrolled": true
   },
   "outputs": [
    {
     "name": "stdout",
     "output_type": "stream",
     "text": [
      "<class 'pandas.core.frame.DataFrame'>\n",
      "RangeIndex: 14905 entries, 0 to 14904\n",
      "Data columns (total 11 columns):\n",
      " #   Column                  Non-Null Count  Dtype   \n",
      "---  ------                  --------------  -----   \n",
      " 0   income                  14905 non-null  float64 \n",
      " 1   name_email_similarity   14905 non-null  float64 \n",
      " 2   intended_balcon_amount  14905 non-null  float64 \n",
      " 3   zip_count_4w            14905 non-null  int64   \n",
      " 4   credit_risk_score       14905 non-null  float64 \n",
      " 5   phone_home_valid        14905 non-null  int64   \n",
      " 6   phone_mobile_valid      14905 non-null  int64   \n",
      " 7   has_other_cards         14905 non-null  int64   \n",
      " 8   proposed_credit_limit   14905 non-null  float64 \n",
      " 9   source                  14905 non-null  category\n",
      " 10  fraud_bool              14905 non-null  int64   \n",
      "dtypes: category(1), float64(5), int64(5)\n",
      "memory usage: 1.2 MB\n"
     ]
    }
   ],
   "source": [
    "# list berisi nama kolom yang ingin diubah dalam format sama\n",
    "listkolom = ['source']\n",
    "\n",
    "# Mengubah tipe data beberapa kolom\n",
    "fraud['source'] = fraud['source'].astype('category')\n",
    "\n",
    "# cek kembali tipe data\n",
    "fraud.info()"
   ]
  },
  {
   "cell_type": "markdown",
   "id": "05fe8ed6",
   "metadata": {},
   "source": [
    "#### Cek Missing Value & Duplicate Data\n",
    "\n",
    "Dalam pengecekan *missing values* disediakan fungsi `isna()` yang dapat mengecek ke setiap baris data dan menunjukan *logical value*. Untuk mempermudah pengecekannya, fungsi tersebut dapat digabungkan dengan fungsi `.sum()`.\n",
    "\n",
    "Dalam pengecekan *nilai duplikat* disediakan sebuah fungsi `duplicated()` yang dapat mengecek ke setiap baris data dan menunjukan *logical value*. Untuk mempermudah pengecekannya, fungsi tersebut dapat digabungkan dengan fungsi `.any()`."
   ]
  },
  {
   "cell_type": "code",
   "execution_count": 59,
   "id": "410981d6",
   "metadata": {
    "execution": {
     "iopub.execute_input": "2024-01-09T02:04:23.219896Z",
     "iopub.status.busy": "2024-01-09T02:04:23.218891Z",
     "iopub.status.idle": "2024-01-09T02:04:23.242900Z",
     "shell.execute_reply": "2024-01-09T02:04:23.241892Z",
     "shell.execute_reply.started": "2024-01-09T02:04:23.219896Z"
    }
   },
   "outputs": [
    {
     "data": {
      "text/plain": [
       "income                    0\n",
       "name_email_similarity     0\n",
       "intended_balcon_amount    0\n",
       "zip_count_4w              0\n",
       "credit_risk_score         0\n",
       "phone_home_valid          0\n",
       "phone_mobile_valid        0\n",
       "has_other_cards           0\n",
       "proposed_credit_limit     0\n",
       "source                    0\n",
       "fraud_bool                0\n",
       "dtype: int64"
      ]
     },
     "execution_count": 59,
     "metadata": {},
     "output_type": "execute_result"
    }
   ],
   "source": [
    "# cek missing value\n",
    "fraud.isna().sum()"
   ]
  },
  {
   "cell_type": "code",
   "execution_count": 60,
   "id": "2410cb4c",
   "metadata": {
    "execution": {
     "iopub.execute_input": "2024-01-09T02:04:24.936221Z",
     "iopub.status.busy": "2024-01-09T02:04:24.935220Z",
     "iopub.status.idle": "2024-01-09T02:04:24.951213Z",
     "shell.execute_reply": "2024-01-09T02:04:24.950208Z",
     "shell.execute_reply.started": "2024-01-09T02:04:24.936221Z"
    }
   },
   "outputs": [
    {
     "data": {
      "text/plain": [
       "False"
      ]
     },
     "execution_count": 60,
     "metadata": {},
     "output_type": "execute_result"
    }
   ],
   "source": [
    "# cek duplicate\n",
    "fraud.duplicated().any()"
   ]
  },
  {
   "cell_type": "markdown",
   "id": "9b5a0fbb",
   "metadata": {},
   "source": [
    "### Exploratory Data Analysis (EDA)\n",
    "\n",
    "**Analisis `describe()`**\n",
    "\n",
    "Pada tahapan ini kita akan mencoba untuk melakkan analisis apakah terdapat sebuah hal yang menarik dari hasil fungsi `describe()` untuk masing-masing kelas target"
   ]
  },
  {
   "cell_type": "code",
   "execution_count": 66,
   "id": "4f0c6760",
   "metadata": {
    "execution": {
     "iopub.execute_input": "2024-01-09T02:08:13.212738Z",
     "iopub.status.busy": "2024-01-09T02:08:13.211737Z",
     "iopub.status.idle": "2024-01-09T02:08:13.252738Z",
     "shell.execute_reply": "2024-01-09T02:08:13.251734Z",
     "shell.execute_reply.started": "2024-01-09T02:08:13.212738Z"
    }
   },
   "outputs": [
    {
     "data": {
      "text/html": [
       "<div>\n",
       "<style scoped>\n",
       "    .dataframe tbody tr th:only-of-type {\n",
       "        vertical-align: middle;\n",
       "    }\n",
       "\n",
       "    .dataframe tbody tr th {\n",
       "        vertical-align: top;\n",
       "    }\n",
       "\n",
       "    .dataframe thead th {\n",
       "        text-align: right;\n",
       "    }\n",
       "</style>\n",
       "<table border=\"1\" class=\"dataframe\">\n",
       "  <thead>\n",
       "    <tr style=\"text-align: right;\">\n",
       "      <th></th>\n",
       "      <th>income</th>\n",
       "      <th>name_email_similarity</th>\n",
       "      <th>intended_balcon_amount</th>\n",
       "      <th>zip_count_4w</th>\n",
       "      <th>credit_risk_score</th>\n",
       "      <th>phone_home_valid</th>\n",
       "      <th>phone_mobile_valid</th>\n",
       "      <th>has_other_cards</th>\n",
       "      <th>proposed_credit_limit</th>\n",
       "      <th>fraud_bool</th>\n",
       "    </tr>\n",
       "  </thead>\n",
       "  <tbody>\n",
       "    <tr>\n",
       "      <th>count</th>\n",
       "      <td>14905.000000</td>\n",
       "      <td>14905.000000</td>\n",
       "      <td>14905.000000</td>\n",
       "      <td>14905.000000</td>\n",
       "      <td>14905.000000</td>\n",
       "      <td>14905.000000</td>\n",
       "      <td>14905.000000</td>\n",
       "      <td>14905.000000</td>\n",
       "      <td>14905.000000</td>\n",
       "      <td>14905.000000</td>\n",
       "    </tr>\n",
       "    <tr>\n",
       "      <th>mean</th>\n",
       "      <td>0.571110</td>\n",
       "      <td>0.481305</td>\n",
       "      <td>7.986892</td>\n",
       "      <td>1571.105736</td>\n",
       "      <td>136.478363</td>\n",
       "      <td>0.400671</td>\n",
       "      <td>0.883126</td>\n",
       "      <td>0.213485</td>\n",
       "      <td>551.910768</td>\n",
       "      <td>0.113116</td>\n",
       "    </tr>\n",
       "    <tr>\n",
       "      <th>std</th>\n",
       "      <td>0.291264</td>\n",
       "      <td>0.292755</td>\n",
       "      <td>19.702913</td>\n",
       "      <td>998.577819</td>\n",
       "      <td>73.059616</td>\n",
       "      <td>0.490051</td>\n",
       "      <td>0.321280</td>\n",
       "      <td>0.409781</td>\n",
       "      <td>516.560244</td>\n",
       "      <td>0.316746</td>\n",
       "    </tr>\n",
       "    <tr>\n",
       "      <th>min</th>\n",
       "      <td>0.100000</td>\n",
       "      <td>0.000093</td>\n",
       "      <td>-12.537085</td>\n",
       "      <td>36.000000</td>\n",
       "      <td>-154.000000</td>\n",
       "      <td>0.000000</td>\n",
       "      <td>0.000000</td>\n",
       "      <td>0.000000</td>\n",
       "      <td>190.000000</td>\n",
       "      <td>0.000000</td>\n",
       "    </tr>\n",
       "    <tr>\n",
       "      <th>25%</th>\n",
       "      <td>0.300000</td>\n",
       "      <td>0.206239</td>\n",
       "      <td>-1.173150</td>\n",
       "      <td>893.000000</td>\n",
       "      <td>85.000000</td>\n",
       "      <td>0.000000</td>\n",
       "      <td>1.000000</td>\n",
       "      <td>0.000000</td>\n",
       "      <td>200.000000</td>\n",
       "      <td>0.000000</td>\n",
       "    </tr>\n",
       "    <tr>\n",
       "      <th>50%</th>\n",
       "      <td>0.600000</td>\n",
       "      <td>0.472416</td>\n",
       "      <td>-0.834826</td>\n",
       "      <td>1267.000000</td>\n",
       "      <td>127.000000</td>\n",
       "      <td>0.000000</td>\n",
       "      <td>1.000000</td>\n",
       "      <td>0.000000</td>\n",
       "      <td>200.000000</td>\n",
       "      <td>0.000000</td>\n",
       "    </tr>\n",
       "    <tr>\n",
       "      <th>75%</th>\n",
       "      <td>0.800000</td>\n",
       "      <td>0.748003</td>\n",
       "      <td>-0.204896</td>\n",
       "      <td>1941.000000</td>\n",
       "      <td>186.000000</td>\n",
       "      <td>1.000000</td>\n",
       "      <td>1.000000</td>\n",
       "      <td>0.000000</td>\n",
       "      <td>1000.000000</td>\n",
       "      <td>0.000000</td>\n",
       "    </tr>\n",
       "    <tr>\n",
       "      <th>max</th>\n",
       "      <td>0.900000</td>\n",
       "      <td>0.999997</td>\n",
       "      <td>111.697355</td>\n",
       "      <td>6349.000000</td>\n",
       "      <td>378.000000</td>\n",
       "      <td>1.000000</td>\n",
       "      <td>1.000000</td>\n",
       "      <td>1.000000</td>\n",
       "      <td>2100.000000</td>\n",
       "      <td>1.000000</td>\n",
       "    </tr>\n",
       "  </tbody>\n",
       "</table>\n",
       "</div>"
      ],
      "text/plain": [
       "             income  name_email_similarity  intended_balcon_amount  \\\n",
       "count  14905.000000           14905.000000            14905.000000   \n",
       "mean       0.571110               0.481305                7.986892   \n",
       "std        0.291264               0.292755               19.702913   \n",
       "min        0.100000               0.000093              -12.537085   \n",
       "25%        0.300000               0.206239               -1.173150   \n",
       "50%        0.600000               0.472416               -0.834826   \n",
       "75%        0.800000               0.748003               -0.204896   \n",
       "max        0.900000               0.999997              111.697355   \n",
       "\n",
       "       zip_count_4w  credit_risk_score  phone_home_valid  phone_mobile_valid  \\\n",
       "count  14905.000000       14905.000000      14905.000000        14905.000000   \n",
       "mean    1571.105736         136.478363          0.400671            0.883126   \n",
       "std      998.577819          73.059616          0.490051            0.321280   \n",
       "min       36.000000        -154.000000          0.000000            0.000000   \n",
       "25%      893.000000          85.000000          0.000000            1.000000   \n",
       "50%     1267.000000         127.000000          0.000000            1.000000   \n",
       "75%     1941.000000         186.000000          1.000000            1.000000   \n",
       "max     6349.000000         378.000000          1.000000            1.000000   \n",
       "\n",
       "       has_other_cards  proposed_credit_limit    fraud_bool  \n",
       "count     14905.000000           14905.000000  14905.000000  \n",
       "mean          0.213485             551.910768      0.113116  \n",
       "std           0.409781             516.560244      0.316746  \n",
       "min           0.000000             190.000000      0.000000  \n",
       "25%           0.000000             200.000000      0.000000  \n",
       "50%           0.000000             200.000000      0.000000  \n",
       "75%           0.000000            1000.000000      0.000000  \n",
       "max           1.000000            2100.000000      1.000000  "
      ]
     },
     "execution_count": 66,
     "metadata": {},
     "output_type": "execute_result"
    }
   ],
   "source": [
    "fraud.describe()"
   ]
  },
  {
   "cell_type": "code",
   "execution_count": 64,
   "id": "dd49d8dc-9146-462b-af3b-8a585d5f6d4f",
   "metadata": {
    "execution": {
     "iopub.execute_input": "2024-01-09T02:06:16.942517Z",
     "iopub.status.busy": "2024-01-09T02:06:16.942517Z",
     "iopub.status.idle": "2024-01-09T02:06:16.974020Z",
     "shell.execute_reply": "2024-01-09T02:06:16.972035Z",
     "shell.execute_reply.started": "2024-01-09T02:06:16.942517Z"
    }
   },
   "outputs": [
    {
     "data": {
      "text/html": [
       "<div>\n",
       "<style scoped>\n",
       "    .dataframe tbody tr th:only-of-type {\n",
       "        vertical-align: middle;\n",
       "    }\n",
       "\n",
       "    .dataframe tbody tr th {\n",
       "        vertical-align: top;\n",
       "    }\n",
       "\n",
       "    .dataframe thead th {\n",
       "        text-align: right;\n",
       "    }\n",
       "</style>\n",
       "<table border=\"1\" class=\"dataframe\">\n",
       "  <thead>\n",
       "    <tr style=\"text-align: right;\">\n",
       "      <th></th>\n",
       "      <th>income</th>\n",
       "      <th>name_email_similarity</th>\n",
       "      <th>intended_balcon_amount</th>\n",
       "      <th>zip_count_4w</th>\n",
       "      <th>credit_risk_score</th>\n",
       "      <th>phone_home_valid</th>\n",
       "      <th>phone_mobile_valid</th>\n",
       "      <th>has_other_cards</th>\n",
       "      <th>proposed_credit_limit</th>\n",
       "      <th>source</th>\n",
       "      <th>fraud_bool</th>\n",
       "    </tr>\n",
       "  </thead>\n",
       "  <tbody>\n",
       "    <tr>\n",
       "      <th>0</th>\n",
       "      <td>0.1</td>\n",
       "      <td>0.069598</td>\n",
       "      <td>-1.074674</td>\n",
       "      <td>3483</td>\n",
       "      <td>20.0</td>\n",
       "      <td>0</td>\n",
       "      <td>1</td>\n",
       "      <td>0</td>\n",
       "      <td>200.0</td>\n",
       "      <td>INTERNET</td>\n",
       "      <td>0</td>\n",
       "    </tr>\n",
       "    <tr>\n",
       "      <th>1</th>\n",
       "      <td>0.9</td>\n",
       "      <td>0.891741</td>\n",
       "      <td>-1.043444</td>\n",
       "      <td>2849</td>\n",
       "      <td>3.0</td>\n",
       "      <td>0</td>\n",
       "      <td>1</td>\n",
       "      <td>1</td>\n",
       "      <td>200.0</td>\n",
       "      <td>INTERNET</td>\n",
       "      <td>0</td>\n",
       "    </tr>\n",
       "    <tr>\n",
       "      <th>3</th>\n",
       "      <td>0.9</td>\n",
       "      <td>0.401137</td>\n",
       "      <td>-0.394588</td>\n",
       "      <td>780</td>\n",
       "      <td>74.0</td>\n",
       "      <td>0</td>\n",
       "      <td>1</td>\n",
       "      <td>0</td>\n",
       "      <td>200.0</td>\n",
       "      <td>INTERNET</td>\n",
       "      <td>0</td>\n",
       "    </tr>\n",
       "    <tr>\n",
       "      <th>4</th>\n",
       "      <td>0.6</td>\n",
       "      <td>0.720006</td>\n",
       "      <td>-0.487785</td>\n",
       "      <td>4527</td>\n",
       "      <td>136.0</td>\n",
       "      <td>0</td>\n",
       "      <td>1</td>\n",
       "      <td>0</td>\n",
       "      <td>200.0</td>\n",
       "      <td>INTERNET</td>\n",
       "      <td>0</td>\n",
       "    </tr>\n",
       "    <tr>\n",
       "      <th>5</th>\n",
       "      <td>0.4</td>\n",
       "      <td>0.241164</td>\n",
       "      <td>-1.459099</td>\n",
       "      <td>1434</td>\n",
       "      <td>144.0</td>\n",
       "      <td>1</td>\n",
       "      <td>1</td>\n",
       "      <td>1</td>\n",
       "      <td>500.0</td>\n",
       "      <td>INTERNET</td>\n",
       "      <td>0</td>\n",
       "    </tr>\n",
       "    <tr>\n",
       "      <th>...</th>\n",
       "      <td>...</td>\n",
       "      <td>...</td>\n",
       "      <td>...</td>\n",
       "      <td>...</td>\n",
       "      <td>...</td>\n",
       "      <td>...</td>\n",
       "      <td>...</td>\n",
       "      <td>...</td>\n",
       "      <td>...</td>\n",
       "      <td>...</td>\n",
       "      <td>...</td>\n",
       "    </tr>\n",
       "    <tr>\n",
       "      <th>14896</th>\n",
       "      <td>0.3</td>\n",
       "      <td>0.886668</td>\n",
       "      <td>-0.941696</td>\n",
       "      <td>922</td>\n",
       "      <td>52.0</td>\n",
       "      <td>0</td>\n",
       "      <td>1</td>\n",
       "      <td>1</td>\n",
       "      <td>200.0</td>\n",
       "      <td>INTERNET</td>\n",
       "      <td>0</td>\n",
       "    </tr>\n",
       "    <tr>\n",
       "      <th>14899</th>\n",
       "      <td>0.9</td>\n",
       "      <td>0.142189</td>\n",
       "      <td>-0.780839</td>\n",
       "      <td>1728</td>\n",
       "      <td>54.0</td>\n",
       "      <td>1</td>\n",
       "      <td>1</td>\n",
       "      <td>1</td>\n",
       "      <td>200.0</td>\n",
       "      <td>INTERNET</td>\n",
       "      <td>1</td>\n",
       "    </tr>\n",
       "    <tr>\n",
       "      <th>14900</th>\n",
       "      <td>0.9</td>\n",
       "      <td>0.225052</td>\n",
       "      <td>-0.521791</td>\n",
       "      <td>507</td>\n",
       "      <td>106.0</td>\n",
       "      <td>0</td>\n",
       "      <td>1</td>\n",
       "      <td>0</td>\n",
       "      <td>200.0</td>\n",
       "      <td>INTERNET</td>\n",
       "      <td>0</td>\n",
       "    </tr>\n",
       "    <tr>\n",
       "      <th>14902</th>\n",
       "      <td>0.1</td>\n",
       "      <td>0.494256</td>\n",
       "      <td>-0.973377</td>\n",
       "      <td>1177</td>\n",
       "      <td>121.0</td>\n",
       "      <td>0</td>\n",
       "      <td>1</td>\n",
       "      <td>0</td>\n",
       "      <td>200.0</td>\n",
       "      <td>INTERNET</td>\n",
       "      <td>0</td>\n",
       "    </tr>\n",
       "    <tr>\n",
       "      <th>14903</th>\n",
       "      <td>0.7</td>\n",
       "      <td>0.051507</td>\n",
       "      <td>-1.162706</td>\n",
       "      <td>1176</td>\n",
       "      <td>103.0</td>\n",
       "      <td>0</td>\n",
       "      <td>1</td>\n",
       "      <td>0</td>\n",
       "      <td>200.0</td>\n",
       "      <td>INTERNET</td>\n",
       "      <td>1</td>\n",
       "    </tr>\n",
       "  </tbody>\n",
       "</table>\n",
       "<p>11344 rows × 11 columns</p>\n",
       "</div>"
      ],
      "text/plain": [
       "       income  name_email_similarity  intended_balcon_amount  zip_count_4w  \\\n",
       "0         0.1               0.069598               -1.074674          3483   \n",
       "1         0.9               0.891741               -1.043444          2849   \n",
       "3         0.9               0.401137               -0.394588           780   \n",
       "4         0.6               0.720006               -0.487785          4527   \n",
       "5         0.4               0.241164               -1.459099          1434   \n",
       "...       ...                    ...                     ...           ...   \n",
       "14896     0.3               0.886668               -0.941696           922   \n",
       "14899     0.9               0.142189               -0.780839          1728   \n",
       "14900     0.9               0.225052               -0.521791           507   \n",
       "14902     0.1               0.494256               -0.973377          1177   \n",
       "14903     0.7               0.051507               -1.162706          1176   \n",
       "\n",
       "       credit_risk_score  phone_home_valid  phone_mobile_valid  \\\n",
       "0                   20.0                 0                   1   \n",
       "1                    3.0                 0                   1   \n",
       "3                   74.0                 0                   1   \n",
       "4                  136.0                 0                   1   \n",
       "5                  144.0                 1                   1   \n",
       "...                  ...               ...                 ...   \n",
       "14896               52.0                 0                   1   \n",
       "14899               54.0                 1                   1   \n",
       "14900              106.0                 0                   1   \n",
       "14902              121.0                 0                   1   \n",
       "14903              103.0                 0                   1   \n",
       "\n",
       "       has_other_cards  proposed_credit_limit    source  fraud_bool  \n",
       "0                    0                  200.0  INTERNET           0  \n",
       "1                    1                  200.0  INTERNET           0  \n",
       "3                    0                  200.0  INTERNET           0  \n",
       "4                    0                  200.0  INTERNET           0  \n",
       "5                    1                  500.0  INTERNET           0  \n",
       "...                ...                    ...       ...         ...  \n",
       "14896                1                  200.0  INTERNET           0  \n",
       "14899                1                  200.0  INTERNET           1  \n",
       "14900                0                  200.0  INTERNET           0  \n",
       "14902                0                  200.0  INTERNET           0  \n",
       "14903                0                  200.0  INTERNET           1  \n",
       "\n",
       "[11344 rows x 11 columns]"
      ]
     },
     "execution_count": 64,
     "metadata": {},
     "output_type": "execute_result"
    }
   ],
   "source": [
    "fraud[fraud['intended_balcon_amount'] < 0]"
   ]
  },
  {
   "cell_type": "code",
   "execution_count": 67,
   "id": "8dae23bc-298a-46c4-a7f8-ca6f73b35e91",
   "metadata": {
    "execution": {
     "iopub.execute_input": "2024-01-09T02:12:39.080214Z",
     "iopub.status.busy": "2024-01-09T02:12:39.080214Z",
     "iopub.status.idle": "2024-01-09T02:12:39.095695Z",
     "shell.execute_reply": "2024-01-09T02:12:39.094690Z",
     "shell.execute_reply.started": "2024-01-09T02:12:39.080214Z"
    }
   },
   "outputs": [],
   "source": [
    "fraud_clean = fraud.drop(columns='intended_balcon_amount')"
   ]
  },
  {
   "cell_type": "code",
   "execution_count": 65,
   "id": "087f04a7-d514-49e8-9318-5dbf59121904",
   "metadata": {
    "execution": {
     "iopub.execute_input": "2024-01-09T02:07:42.248470Z",
     "iopub.status.busy": "2024-01-09T02:07:42.248470Z",
     "iopub.status.idle": "2024-01-09T02:07:42.263462Z",
     "shell.execute_reply": "2024-01-09T02:07:42.262563Z",
     "shell.execute_reply.started": "2024-01-09T02:07:42.248470Z"
    }
   },
   "outputs": [
    {
     "data": {
      "text/html": [
       "<div>\n",
       "<style scoped>\n",
       "    .dataframe tbody tr th:only-of-type {\n",
       "        vertical-align: middle;\n",
       "    }\n",
       "\n",
       "    .dataframe tbody tr th {\n",
       "        vertical-align: top;\n",
       "    }\n",
       "\n",
       "    .dataframe thead th {\n",
       "        text-align: right;\n",
       "    }\n",
       "</style>\n",
       "<table border=\"1\" class=\"dataframe\">\n",
       "  <thead>\n",
       "    <tr style=\"text-align: right;\">\n",
       "      <th></th>\n",
       "      <th>income</th>\n",
       "      <th>name_email_similarity</th>\n",
       "      <th>intended_balcon_amount</th>\n",
       "      <th>zip_count_4w</th>\n",
       "      <th>credit_risk_score</th>\n",
       "      <th>phone_home_valid</th>\n",
       "      <th>phone_mobile_valid</th>\n",
       "      <th>has_other_cards</th>\n",
       "      <th>proposed_credit_limit</th>\n",
       "      <th>source</th>\n",
       "      <th>fraud_bool</th>\n",
       "    </tr>\n",
       "  </thead>\n",
       "  <tbody>\n",
       "    <tr>\n",
       "      <th>3452</th>\n",
       "      <td>0.9</td>\n",
       "      <td>0.217841</td>\n",
       "      <td>-1.341128</td>\n",
       "      <td>1079</td>\n",
       "      <td>305.0</td>\n",
       "      <td>0</td>\n",
       "      <td>1</td>\n",
       "      <td>0</td>\n",
       "      <td>2100.0</td>\n",
       "      <td>INTERNET</td>\n",
       "      <td>1</td>\n",
       "    </tr>\n",
       "    <tr>\n",
       "      <th>4132</th>\n",
       "      <td>0.8</td>\n",
       "      <td>0.217669</td>\n",
       "      <td>-0.440791</td>\n",
       "      <td>2315</td>\n",
       "      <td>159.0</td>\n",
       "      <td>0</td>\n",
       "      <td>1</td>\n",
       "      <td>0</td>\n",
       "      <td>2100.0</td>\n",
       "      <td>INTERNET</td>\n",
       "      <td>1</td>\n",
       "    </tr>\n",
       "    <tr>\n",
       "      <th>6750</th>\n",
       "      <td>0.1</td>\n",
       "      <td>0.455694</td>\n",
       "      <td>20.775652</td>\n",
       "      <td>427</td>\n",
       "      <td>103.0</td>\n",
       "      <td>0</td>\n",
       "      <td>1</td>\n",
       "      <td>0</td>\n",
       "      <td>190.0</td>\n",
       "      <td>INTERNET</td>\n",
       "      <td>0</td>\n",
       "    </tr>\n",
       "    <tr>\n",
       "      <th>7963</th>\n",
       "      <td>0.9</td>\n",
       "      <td>0.120395</td>\n",
       "      <td>-0.656258</td>\n",
       "      <td>57</td>\n",
       "      <td>93.0</td>\n",
       "      <td>0</td>\n",
       "      <td>1</td>\n",
       "      <td>0</td>\n",
       "      <td>190.0</td>\n",
       "      <td>INTERNET</td>\n",
       "      <td>0</td>\n",
       "    </tr>\n",
       "    <tr>\n",
       "      <th>11876</th>\n",
       "      <td>0.6</td>\n",
       "      <td>0.881736</td>\n",
       "      <td>-0.444774</td>\n",
       "      <td>3065</td>\n",
       "      <td>109.0</td>\n",
       "      <td>0</td>\n",
       "      <td>1</td>\n",
       "      <td>1</td>\n",
       "      <td>190.0</td>\n",
       "      <td>INTERNET</td>\n",
       "      <td>0</td>\n",
       "    </tr>\n",
       "  </tbody>\n",
       "</table>\n",
       "</div>"
      ],
      "text/plain": [
       "       income  name_email_similarity  intended_balcon_amount  zip_count_4w  \\\n",
       "3452      0.9               0.217841               -1.341128          1079   \n",
       "4132      0.8               0.217669               -0.440791          2315   \n",
       "6750      0.1               0.455694               20.775652           427   \n",
       "7963      0.9               0.120395               -0.656258            57   \n",
       "11876     0.6               0.881736               -0.444774          3065   \n",
       "\n",
       "       credit_risk_score  phone_home_valid  phone_mobile_valid  \\\n",
       "3452               305.0                 0                   1   \n",
       "4132               159.0                 0                   1   \n",
       "6750               103.0                 0                   1   \n",
       "7963                93.0                 0                   1   \n",
       "11876              109.0                 0                   1   \n",
       "\n",
       "       has_other_cards  proposed_credit_limit    source  fraud_bool  \n",
       "3452                 0                 2100.0  INTERNET           1  \n",
       "4132                 0                 2100.0  INTERNET           1  \n",
       "6750                 0                  190.0  INTERNET           0  \n",
       "7963                 0                  190.0  INTERNET           0  \n",
       "11876                1                  190.0  INTERNET           0  "
      ]
     },
     "execution_count": 65,
     "metadata": {},
     "output_type": "execute_result"
    }
   ],
   "source": [
    "fraud[(fraud['proposed_credit_limit'] < 200) |(fraud['proposed_credit_limit'] > 2000)]"
   ]
  },
  {
   "cell_type": "code",
   "execution_count": 68,
   "id": "d01e0a1e-b6f1-42de-9c21-f2b94523caa5",
   "metadata": {
    "execution": {
     "iopub.execute_input": "2024-01-09T02:14:00.710888Z",
     "iopub.status.busy": "2024-01-09T02:14:00.709886Z",
     "iopub.status.idle": "2024-01-09T02:14:00.729005Z",
     "shell.execute_reply": "2024-01-09T02:14:00.728008Z",
     "shell.execute_reply.started": "2024-01-09T02:14:00.710888Z"
    }
   },
   "outputs": [],
   "source": [
    "fraud_clean = fraud_clean[(fraud_clean['proposed_credit_limit'] >= 200)  & (fraud_clean['proposed_credit_limit'] <= 2000)]"
   ]
  },
  {
   "cell_type": "code",
   "execution_count": 71,
   "id": "a9781a1e-f185-42b7-8310-32770ee67f00",
   "metadata": {
    "execution": {
     "iopub.execute_input": "2024-01-09T02:20:21.287151Z",
     "iopub.status.busy": "2024-01-09T02:20:21.286150Z",
     "iopub.status.idle": "2024-01-09T02:20:21.308191Z",
     "shell.execute_reply": "2024-01-09T02:20:21.307190Z",
     "shell.execute_reply.started": "2024-01-09T02:20:21.287151Z"
    }
   },
   "outputs": [
    {
     "data": {
      "text/plain": [
       "(14900, 10)"
      ]
     },
     "execution_count": 71,
     "metadata": {},
     "output_type": "execute_result"
    }
   ],
   "source": [
    "fraud_clean.shape"
   ]
  },
  {
   "cell_type": "markdown",
   "id": "f88815ae",
   "metadata": {},
   "source": [
    "💭 **Insight**: Terdapat ketidaksesuaian data dengan deskripsi data terutama pada kolom `intended_balcon_amount` dan `proposed_credit_limit`"
   ]
  },
  {
   "cell_type": "markdown",
   "id": "5486ebf4",
   "metadata": {},
   "source": [
    "**Analisis Korelasi**"
   ]
  },
  {
   "cell_type": "code",
   "execution_count": 72,
   "id": "0bc1ee77",
   "metadata": {
    "execution": {
     "iopub.execute_input": "2024-01-09T02:49:06.249701Z",
     "iopub.status.busy": "2024-01-09T02:49:06.248703Z",
     "iopub.status.idle": "2024-01-09T02:49:06.748739Z",
     "shell.execute_reply": "2024-01-09T02:49:06.747753Z",
     "shell.execute_reply.started": "2024-01-09T02:49:06.249701Z"
    }
   },
   "outputs": [
    {
     "data": {
      "image/png": "[encoded data removed]",
      "text/plain": [
       "<Figure size 1000x500 with 2 Axes>"
      ]
     },
     "metadata": {},
     "output_type": "display_data"
    }
   ],
   "source": [
    "import seaborn as sns\n",
    "import matplotlib\n",
    "matplotlib.rc('figure', figsize=(10, 5)) # Buat melebarkan gambar\n",
    "\n",
    "sns.heatmap(fraud_clean.select_dtypes(include=['int64', 'float64']).corr(), # nilai korelasi\n",
    "            annot=True,   # anotasi angka di dalam kotak heatmap\n",
    "            fmt=\".3f\",    # format 3 angka dibelakang koma \n",
    "            cmap='Blues'); # warna heatmap"
   ]
  },
  {
   "cell_type": "markdown",
   "id": "bca00db5",
   "metadata": {},
   "source": [
    "###  Data Pre-Processing\n",
    "\n",
    "Terdapat 2 hal yang biasanya dilakukan pada tahapan data pre-processing yaitu **Dummy Variable Encoding** dan juga **Cross Validation**"
   ]
  },
  {
   "cell_type": "code",
   "execution_count": null,
   "id": "0d2ae72a",
   "metadata": {},
   "outputs": [],
   "source": []
  },
  {
   "cell_type": "markdown",
   "id": "d4ae4965",
   "metadata": {},
   "source": [
    "#### Dummy Variable Encoding \n",
    "\n",
    "Variabel yang kita miliki terdapat variabel dengan tipe data category, oleh karena itu kita perlu membuat dummy variabel terlebih dahulu. Untuk algoritma Logistic Regression, karena masih terdapat asumsi multicolinearity, maka yang akan dipakai adalah dummy variable. \n",
    "    \n",
    "Mari lakukan metode tersebut dengan memanfaatkan fungsi berikut ini `pd.get_dummies()` dan mengisinya dengan beberapa parameter antara lain:\n",
    "\n",
    "- `data`: data yang ingin diubah menjadi numerikal\n",
    "- `columns`: list kolom yang akan dilakukan dummy variable encoding\n",
    "- `drop_first`: apakah ingin drop kolom pertama. Default False. Namun akan kita atur sebagai True agar kolom hasil dummies tidak redundan\n",
    "- `dtype` = memasukan tipe data yang ingin di-isi"
   ]
  },
  {
   "cell_type": "code",
   "execution_count": 74,
   "id": "269b11ed",
   "metadata": {
    "execution": {
     "iopub.execute_input": "2024-01-09T02:52:56.998528Z",
     "iopub.status.busy": "2024-01-09T02:52:56.997529Z",
     "iopub.status.idle": "2024-01-09T02:52:57.035185Z",
     "shell.execute_reply": "2024-01-09T02:52:57.034185Z",
     "shell.execute_reply.started": "2024-01-09T02:52:56.998528Z"
    }
   },
   "outputs": [
    {
     "data": {
      "text/html": [
       "<div>\n",
       "<style scoped>\n",
       "    .dataframe tbody tr th:only-of-type {\n",
       "        vertical-align: middle;\n",
       "    }\n",
       "\n",
       "    .dataframe tbody tr th {\n",
       "        vertical-align: top;\n",
       "    }\n",
       "\n",
       "    .dataframe thead th {\n",
       "        text-align: right;\n",
       "    }\n",
       "</style>\n",
       "<table border=\"1\" class=\"dataframe\">\n",
       "  <thead>\n",
       "    <tr style=\"text-align: right;\">\n",
       "      <th></th>\n",
       "      <th>income</th>\n",
       "      <th>name_email_similarity</th>\n",
       "      <th>zip_count_4w</th>\n",
       "      <th>credit_risk_score</th>\n",
       "      <th>phone_home_valid</th>\n",
       "      <th>phone_mobile_valid</th>\n",
       "      <th>has_other_cards</th>\n",
       "      <th>proposed_credit_limit</th>\n",
       "      <th>fraud_bool</th>\n",
       "      <th>source_TELEAPP</th>\n",
       "    </tr>\n",
       "  </thead>\n",
       "  <tbody>\n",
       "    <tr>\n",
       "      <th>0</th>\n",
       "      <td>0.1</td>\n",
       "      <td>0.069598</td>\n",
       "      <td>3483</td>\n",
       "      <td>20.0</td>\n",
       "      <td>0</td>\n",
       "      <td>1</td>\n",
       "      <td>0</td>\n",
       "      <td>200.0</td>\n",
       "      <td>0</td>\n",
       "      <td>0</td>\n",
       "    </tr>\n",
       "    <tr>\n",
       "      <th>1</th>\n",
       "      <td>0.9</td>\n",
       "      <td>0.891741</td>\n",
       "      <td>2849</td>\n",
       "      <td>3.0</td>\n",
       "      <td>0</td>\n",
       "      <td>1</td>\n",
       "      <td>1</td>\n",
       "      <td>200.0</td>\n",
       "      <td>0</td>\n",
       "      <td>0</td>\n",
       "    </tr>\n",
       "    <tr>\n",
       "      <th>2</th>\n",
       "      <td>0.6</td>\n",
       "      <td>0.370933</td>\n",
       "      <td>406</td>\n",
       "      <td>50.0</td>\n",
       "      <td>0</td>\n",
       "      <td>1</td>\n",
       "      <td>0</td>\n",
       "      <td>200.0</td>\n",
       "      <td>0</td>\n",
       "      <td>0</td>\n",
       "    </tr>\n",
       "    <tr>\n",
       "      <th>3</th>\n",
       "      <td>0.9</td>\n",
       "      <td>0.401137</td>\n",
       "      <td>780</td>\n",
       "      <td>74.0</td>\n",
       "      <td>0</td>\n",
       "      <td>1</td>\n",
       "      <td>0</td>\n",
       "      <td>200.0</td>\n",
       "      <td>0</td>\n",
       "      <td>0</td>\n",
       "    </tr>\n",
       "    <tr>\n",
       "      <th>4</th>\n",
       "      <td>0.6</td>\n",
       "      <td>0.720006</td>\n",
       "      <td>4527</td>\n",
       "      <td>136.0</td>\n",
       "      <td>0</td>\n",
       "      <td>1</td>\n",
       "      <td>0</td>\n",
       "      <td>200.0</td>\n",
       "      <td>0</td>\n",
       "      <td>0</td>\n",
       "    </tr>\n",
       "    <tr>\n",
       "      <th>...</th>\n",
       "      <td>...</td>\n",
       "      <td>...</td>\n",
       "      <td>...</td>\n",
       "      <td>...</td>\n",
       "      <td>...</td>\n",
       "      <td>...</td>\n",
       "      <td>...</td>\n",
       "      <td>...</td>\n",
       "      <td>...</td>\n",
       "      <td>...</td>\n",
       "    </tr>\n",
       "    <tr>\n",
       "      <th>14900</th>\n",
       "      <td>0.9</td>\n",
       "      <td>0.225052</td>\n",
       "      <td>507</td>\n",
       "      <td>106.0</td>\n",
       "      <td>0</td>\n",
       "      <td>1</td>\n",
       "      <td>0</td>\n",
       "      <td>200.0</td>\n",
       "      <td>0</td>\n",
       "      <td>0</td>\n",
       "    </tr>\n",
       "    <tr>\n",
       "      <th>14901</th>\n",
       "      <td>0.4</td>\n",
       "      <td>0.766147</td>\n",
       "      <td>1822</td>\n",
       "      <td>130.0</td>\n",
       "      <td>0</td>\n",
       "      <td>1</td>\n",
       "      <td>0</td>\n",
       "      <td>500.0</td>\n",
       "      <td>0</td>\n",
       "      <td>0</td>\n",
       "    </tr>\n",
       "    <tr>\n",
       "      <th>14902</th>\n",
       "      <td>0.1</td>\n",
       "      <td>0.494256</td>\n",
       "      <td>1177</td>\n",
       "      <td>121.0</td>\n",
       "      <td>0</td>\n",
       "      <td>1</td>\n",
       "      <td>0</td>\n",
       "      <td>200.0</td>\n",
       "      <td>0</td>\n",
       "      <td>0</td>\n",
       "    </tr>\n",
       "    <tr>\n",
       "      <th>14903</th>\n",
       "      <td>0.7</td>\n",
       "      <td>0.051507</td>\n",
       "      <td>1176</td>\n",
       "      <td>103.0</td>\n",
       "      <td>0</td>\n",
       "      <td>1</td>\n",
       "      <td>0</td>\n",
       "      <td>200.0</td>\n",
       "      <td>1</td>\n",
       "      <td>0</td>\n",
       "    </tr>\n",
       "    <tr>\n",
       "      <th>14904</th>\n",
       "      <td>0.1</td>\n",
       "      <td>0.780972</td>\n",
       "      <td>1513</td>\n",
       "      <td>97.0</td>\n",
       "      <td>1</td>\n",
       "      <td>1</td>\n",
       "      <td>1</td>\n",
       "      <td>200.0</td>\n",
       "      <td>0</td>\n",
       "      <td>0</td>\n",
       "    </tr>\n",
       "  </tbody>\n",
       "</table>\n",
       "<p>14900 rows × 10 columns</p>\n",
       "</div>"
      ],
      "text/plain": [
       "       income  name_email_similarity  zip_count_4w  credit_risk_score  \\\n",
       "0         0.1               0.069598          3483               20.0   \n",
       "1         0.9               0.891741          2849                3.0   \n",
       "2         0.6               0.370933           406               50.0   \n",
       "3         0.9               0.401137           780               74.0   \n",
       "4         0.6               0.720006          4527              136.0   \n",
       "...       ...                    ...           ...                ...   \n",
       "14900     0.9               0.225052           507              106.0   \n",
       "14901     0.4               0.766147          1822              130.0   \n",
       "14902     0.1               0.494256          1177              121.0   \n",
       "14903     0.7               0.051507          1176              103.0   \n",
       "14904     0.1               0.780972          1513               97.0   \n",
       "\n",
       "       phone_home_valid  phone_mobile_valid  has_other_cards  \\\n",
       "0                     0                   1                0   \n",
       "1                     0                   1                1   \n",
       "2                     0                   1                0   \n",
       "3                     0                   1                0   \n",
       "4                     0                   1                0   \n",
       "...                 ...                 ...              ...   \n",
       "14900                 0                   1                0   \n",
       "14901                 0                   1                0   \n",
       "14902                 0                   1                0   \n",
       "14903                 0                   1                0   \n",
       "14904                 1                   1                1   \n",
       "\n",
       "       proposed_credit_limit  fraud_bool  source_TELEAPP  \n",
       "0                      200.0           0               0  \n",
       "1                      200.0           0               0  \n",
       "2                      200.0           0               0  \n",
       "3                      200.0           0               0  \n",
       "4                      200.0           0               0  \n",
       "...                      ...         ...             ...  \n",
       "14900                  200.0           0               0  \n",
       "14901                  500.0           0               0  \n",
       "14902                  200.0           0               0  \n",
       "14903                  200.0           1               0  \n",
       "14904                  200.0           0               0  \n",
       "\n",
       "[14900 rows x 10 columns]"
      ]
     },
     "execution_count": 74,
     "metadata": {},
     "output_type": "execute_result"
    }
   ],
   "source": [
    "# code here\n",
    "fraud_enc = pd.get_dummies(data=fraud_clean,columns=['source'],drop_first=True, dtype= 'int64')\n",
    "fraud_enc"
   ]
  },
  {
   "cell_type": "markdown",
   "id": "59b90c51",
   "metadata": {},
   "source": [
    "#### Cross Validation\n",
    "\n",
    "*Cross Validation* adalah metode yang kita gunakan untuk mengetahui seberapa baik performa model kita memprediksi terhadap data baru.\n",
    "\n",
    "Lantas, bagaimana cara mengetahui apakah model yang kita buat telah baik dalam memprediksi data baru? Di sinilah mengapa kita melakukan Train-test splitting. Kita membagi data kita menjadi 2 kelompok, yaitu data `train` dan `test`.\n",
    "\n",
    "<img src=\"assets/test-train.png\" width=\"600\"/>\n",
    "\n",
    "- Data `train`: Data yang model gunakan untuk training.\n",
    "\n",
    "- Data `test`: Data untuk evaluasi model (Untuk melihat seberapa baik model memprediksi terhadap data yang tidak digunakan untuk training)\n",
    "\n",
    "📌 **Analogi sederhana**\n",
    "\n",
    "- Seorang siswa dapat dikatakan pintar ketika dapat menjawab benar soal-soal ujian yang tidak pernah dikerjakannya pada soal-soal latihan untuk persiapan ujian.\n",
    "- Data `train` diibaratkan soal latihan, dan data `test` diibaratkan soal ujian. Adapun `model` kita diibaratkan sebagai siswa.\n"
   ]
  },
  {
   "cell_type": "markdown",
   "id": "5258e8bc",
   "metadata": {},
   "source": [
    "Kita dapat menggunakan fungsi `train_test_split` dengan beberapa parameter sebagai berikut.\n",
    "- `arrays`: dataframe yang kita gunakan (dipisah , untuk yang prediktor dan target variable)\n",
    "- `test_size`: jumlah persentase dari data yang akan digunakan sebagai data test\n",
    "- `train_size`: jumlah persentase dari data yang akan digunakan sebagai data test (akan otomatis terisi jika `test_size` diberi nilai)\n",
    "- `random_state`: nilai random number generator (RNG). Jika kita memasukkan suatu nilai integer untuk parameter ini maka akan menghasilkan hasil yang sama untuk nilai yang sama. Jika kita mengubah nilainya, maka hasilnya akan berbeda.\n",
    "- `stratify`: memastikan pembagian di data train dan test memiliki proporsi target yang sama dengan data awal"
   ]
  },
  {
   "cell_type": "markdown",
   "id": "a7ee8029",
   "metadata": {},
   "source": [
    "> **💡 NOTES**: Biasanya data dibagi menjadi 80:20 atau 70:30 (train size:test size). Porsi yang besar selalu digunakan untuk training"
   ]
  },
  {
   "cell_type": "code",
   "execution_count": 31,
   "id": "17fc2de3",
   "metadata": {
    "execution": {
     "iopub.execute_input": "2024-01-09T01:31:55.727893Z",
     "iopub.status.busy": "2024-01-09T01:31:55.727893Z",
     "iopub.status.idle": "2024-01-09T01:31:55.746702Z",
     "shell.execute_reply": "2024-01-09T01:31:55.745707Z",
     "shell.execute_reply.started": "2024-01-09T01:31:55.727893Z"
    }
   },
   "outputs": [
    {
     "data": {
      "text/plain": [
       "(14905, 11)"
      ]
     },
     "execution_count": 31,
     "metadata": {},
     "output_type": "execute_result"
    }
   ],
   "source": [
    "# Total dimensi awal sebelum split\n",
    "fraud_enc.shape"
   ]
  },
  {
   "cell_type": "code",
   "execution_count": 32,
   "id": "0959948c",
   "metadata": {
    "execution": {
     "iopub.execute_input": "2024-01-09T01:31:59.377009Z",
     "iopub.status.busy": "2024-01-09T01:31:59.376018Z",
     "iopub.status.idle": "2024-01-09T01:32:00.311685Z",
     "shell.execute_reply": "2024-01-09T01:32:00.311685Z",
     "shell.execute_reply.started": "2024-01-09T01:31:59.377009Z"
    }
   },
   "outputs": [],
   "source": [
    "from sklearn.model_selection import train_test_split\n",
    "import statsmodels.api as sm"
   ]
  },
  {
   "cell_type": "code",
   "execution_count": 227,
   "id": "d3036020",
   "metadata": {
    "execution": {
     "iopub.execute_input": "2024-01-09T06:54:47.243653Z",
     "iopub.status.busy": "2024-01-09T06:54:47.242644Z",
     "iopub.status.idle": "2024-01-09T06:54:47.263653Z",
     "shell.execute_reply": "2024-01-09T06:54:47.262645Z",
     "shell.execute_reply.started": "2024-01-09T06:54:47.243653Z"
    }
   },
   "outputs": [],
   "source": [
    "# Tahapan 1 - Memisahkan prediktor dengan target\n",
    "## prediktor\n",
    "X = sm.add_constant(fraud_enc.drop(columns='fraud_bool'))\n",
    "\n",
    "## target\n",
    "Y = fraud_enc['fraud_bool']"
   ]
  },
  {
   "cell_type": "code",
   "execution_count": 228,
   "id": "dbad11eb",
   "metadata": {
    "execution": {
     "iopub.execute_input": "2024-01-09T06:54:48.668186Z",
     "iopub.status.busy": "2024-01-09T06:54:48.667185Z",
     "iopub.status.idle": "2024-01-09T06:54:48.690213Z",
     "shell.execute_reply": "2024-01-09T06:54:48.689204Z",
     "shell.execute_reply.started": "2024-01-09T06:54:48.668186Z"
    }
   },
   "outputs": [],
   "source": [
    "# Tahapan 2 - Split dataset\n",
    "X_train, X_test, y_train, y_test = train_test_split(X, # kolom prediktor\n",
    "                                                   Y, # kolom target\n",
    "                                                   test_size = 0.2, # 80% training and 20% test\n",
    "                                                   random_state = 10,\n",
    "                                                   stratify=Y)"
   ]
  },
  {
   "cell_type": "code",
   "execution_count": 169,
   "id": "195a9677",
   "metadata": {
    "execution": {
     "iopub.execute_input": "2024-01-09T04:08:20.359470Z",
     "iopub.status.busy": "2024-01-09T04:08:20.358469Z",
     "iopub.status.idle": "2024-01-09T04:08:20.379452Z",
     "shell.execute_reply": "2024-01-09T04:08:20.378460Z",
     "shell.execute_reply.started": "2024-01-09T04:08:20.359470Z"
    }
   },
   "outputs": [
    {
     "data": {
      "text/plain": [
       "(11920, 10)"
      ]
     },
     "execution_count": 169,
     "metadata": {},
     "output_type": "execute_result"
    }
   ],
   "source": [
    "X_train.shape"
   ]
  },
  {
   "cell_type": "code",
   "execution_count": 182,
   "id": "3877684c-ce90-4c3f-a3c6-bf1d8abe876b",
   "metadata": {
    "execution": {
     "iopub.execute_input": "2024-01-09T06:18:28.102574Z",
     "iopub.status.busy": "2024-01-09T06:18:28.101574Z",
     "iopub.status.idle": "2024-01-09T06:18:28.111573Z",
     "shell.execute_reply": "2024-01-09T06:18:28.110577Z",
     "shell.execute_reply.started": "2024-01-09T06:18:28.102574Z"
    }
   },
   "outputs": [
    {
     "data": {
      "text/plain": [
       "fraud_bool\n",
       "0    0.886997\n",
       "1    0.113003\n",
       "Name: proportion, dtype: float64"
      ]
     },
     "execution_count": 182,
     "metadata": {},
     "output_type": "execute_result"
    }
   ],
   "source": [
    "y_train.value_counts(normalize=True)"
   ]
  },
  {
   "cell_type": "markdown",
   "id": "be388ed4",
   "metadata": {},
   "source": [
    "❓ **Mengapa kita perlu mengunci sifat random yang ada?**\n",
    "\n",
    "- Agar kita mendapatkan hasil antara data train dan data test yang sama \n",
    "- Ketika kita ingin melakukan adjustment/tunning pada model yang sudah ada, data yang akan dimasukan kembali ke model tersebut sama dengan model yang sebelumnya. Sehingga kita bisa melakukan komparasi yang apple to apple terhadap kedua model tersebut."
   ]
  },
  {
   "cell_type": "markdown",
   "id": "65cab738",
   "metadata": {},
   "source": [
    "**Cek Proporsi Kelas Target**\n",
    "\n",
    "Setelah melakukan cross validation, kita perlu memastikan bahwa proporsi kelas target kita sudah seimbang atau belum.\n",
    "\n",
    "❓ **Mengapa kita harus mencari tau proporsi targetnya seimbang/tidak?**\n",
    "\n",
    "- Proporsi yang seimbang penting untuk agar model dapat mempelajari karakteristik kelas positif maupun negatif secara seimbang\n",
    "- Dalam kata lain, tidak hanya belajar dari satu kelas saja. Hal ini mencegah model dari *hanya baik memprediksi 1 kelas saja*\n",
    "\n",
    "Dalam melakukan pengecekan, pandas sudah menyediakan sebuah fungsi `crosstab()`. Pada fungsi tersebut akan di-isi dengan 3 parameter yaitu\n",
    "\n",
    "- `index`: parameter ini akan di-isi dengan target data train kita\n",
    "- `columns`: parameter ini akan di-isi dengan target variable\n",
    "- `normalize`: dapat di-isi dengan True untuk menunjukan hasil dalam bentuk persentase."
   ]
  },
  {
   "cell_type": "code",
   "execution_count": 183,
   "id": "a247eb45",
   "metadata": {
    "execution": {
     "iopub.execute_input": "2024-01-09T06:18:30.698934Z",
     "iopub.status.busy": "2024-01-09T06:18:30.698934Z",
     "iopub.status.idle": "2024-01-09T06:18:30.722934Z",
     "shell.execute_reply": "2024-01-09T06:18:30.721935Z",
     "shell.execute_reply.started": "2024-01-09T06:18:30.698934Z"
    },
    "scrolled": true
   },
   "outputs": [
    {
     "data": {
      "text/html": [
       "<div>\n",
       "<style scoped>\n",
       "    .dataframe tbody tr th:only-of-type {\n",
       "        vertical-align: middle;\n",
       "    }\n",
       "\n",
       "    .dataframe tbody tr th {\n",
       "        vertical-align: top;\n",
       "    }\n",
       "\n",
       "    .dataframe thead th {\n",
       "        text-align: right;\n",
       "    }\n",
       "</style>\n",
       "<table border=\"1\" class=\"dataframe\">\n",
       "  <thead>\n",
       "    <tr style=\"text-align: right;\">\n",
       "      <th>col_0</th>\n",
       "      <th>count</th>\n",
       "    </tr>\n",
       "    <tr>\n",
       "      <th>fraud_bool</th>\n",
       "      <th></th>\n",
       "    </tr>\n",
       "  </thead>\n",
       "  <tbody>\n",
       "    <tr>\n",
       "      <th>0</th>\n",
       "      <td>0.89</td>\n",
       "    </tr>\n",
       "    <tr>\n",
       "      <th>1</th>\n",
       "      <td>0.11</td>\n",
       "    </tr>\n",
       "  </tbody>\n",
       "</table>\n",
       "</div>"
      ],
      "text/plain": [
       "col_0       count\n",
       "fraud_bool       \n",
       "0            0.89\n",
       "1            0.11"
      ]
     },
     "execution_count": 183,
     "metadata": {},
     "output_type": "execute_result"
    }
   ],
   "source": [
    "# Code here\n",
    "pd.crosstab(index = y_train, \n",
    "            columns = 'count', \n",
    "            normalize = True).round(2)"
   ]
  },
  {
   "cell_type": "markdown",
   "id": "c2512232",
   "metadata": {},
   "source": [
    "Proporsi yang imbalance sebenarnya cukup subjektif dan tidak ada aturan bakunya. Akan tetapi ketika proporsinya targetnya *90%:10%* atau *95%:5%*, target variable tersebut akan dianggap tidak seimbang.\n",
    "\n",
    "**Action Plan ketika datanya imbalance:**\n",
    "\n",
    "- Tambah data real $\\rightarrow$ memerlukan waktu\n",
    "- Metode *downSampling* $\\rightarrow$ Membuang observasi dari kelas mayoritas, sehingga seimbang.\n",
    "- Metode *upSampling* $\\rightarrow$ Duplikasi observasi dari kelas minoritas, sehingga seimbang.\n",
    "\n",
    "Metode pada poin kedua dan ketiga di atas tidak akan kita pelajari di kelas, tetapi Anda bisa membaca dokumentasinya pada link berikut: [downSampling](https://imbalanced-learn.org/stable/references/generated/imblearn.under_sampling.RandomUnderSampler.html) dan [upSampling](https://imbalanced-learn.org/stable/references/generated/imblearn.over_sampling.RandomOverSampler.html)."
   ]
  },
  {
   "cell_type": "markdown",
   "id": "f295a257",
   "metadata": {},
   "source": [
    "### Model Fitting\n",
    "\n",
    "Untuk membuat model logistic regression, kita bisa menggunakan fungsi `Logit()` dari package `statsmodels` atau `sm`."
   ]
  },
  {
   "cell_type": "code",
   "execution_count": 229,
   "id": "8c8f5e96",
   "metadata": {
    "execution": {
     "iopub.execute_input": "2024-01-09T06:54:54.556458Z",
     "iopub.status.busy": "2024-01-09T06:54:54.556458Z",
     "iopub.status.idle": "2024-01-09T06:54:54.618440Z",
     "shell.execute_reply": "2024-01-09T06:54:54.617434Z",
     "shell.execute_reply.started": "2024-01-09T06:54:54.556458Z"
    }
   },
   "outputs": [
    {
     "name": "stdout",
     "output_type": "stream",
     "text": [
      "Optimization terminated successfully.\n",
      "         Current function value: 0.298085\n",
      "         Iterations 7\n"
     ]
    },
    {
     "data": {
      "text/html": [
       "<table class=\"simpletable\">\n",
       "<caption>Logit Regression Results</caption>\n",
       "<tr>\n",
       "  <th>Dep. Variable:</th>      <td>fraud_bool</td>    <th>  No. Observations:  </th>   <td> 11920</td>  \n",
       "</tr>\n",
       "<tr>\n",
       "  <th>Model:</th>                 <td>Logit</td>      <th>  Df Residuals:      </th>   <td> 11910</td>  \n",
       "</tr>\n",
       "<tr>\n",
       "  <th>Method:</th>                 <td>MLE</td>       <th>  Df Model:          </th>   <td>     9</td>  \n",
       "</tr>\n",
       "<tr>\n",
       "  <th>Date:</th>            <td>Tue, 09 Jan 2024</td> <th>  Pseudo R-squ.:     </th>   <td>0.1550</td>  \n",
       "</tr>\n",
       "<tr>\n",
       "  <th>Time:</th>                <td>13:54:54</td>     <th>  Log-Likelihood:    </th>  <td> -3553.2</td> \n",
       "</tr>\n",
       "<tr>\n",
       "  <th>converged:</th>             <td>True</td>       <th>  LL-Null:           </th>  <td> -4204.8</td> \n",
       "</tr>\n",
       "<tr>\n",
       "  <th>Covariance Type:</th>     <td>nonrobust</td>    <th>  LLR p-value:       </th> <td>6.344e-275</td>\n",
       "</tr>\n",
       "</table>\n",
       "<table class=\"simpletable\">\n",
       "<tr>\n",
       "            <td></td>               <th>coef</th>     <th>std err</th>      <th>z</th>      <th>P>|z|</th>  <th>[0.025</th>    <th>0.975]</th>  \n",
       "</tr>\n",
       "<tr>\n",
       "  <th>const</th>                 <td>   -2.8681</td> <td>    0.156</td> <td>  -18.417</td> <td> 0.000</td> <td>   -3.173</td> <td>   -2.563</td>\n",
       "</tr>\n",
       "<tr>\n",
       "  <th>income</th>                <td>    1.4400</td> <td>    0.121</td> <td>   11.898</td> <td> 0.000</td> <td>    1.203</td> <td>    1.677</td>\n",
       "</tr>\n",
       "<tr>\n",
       "  <th>name_email_similarity</th> <td>   -1.3942</td> <td>    0.111</td> <td>  -12.603</td> <td> 0.000</td> <td>   -1.611</td> <td>   -1.177</td>\n",
       "</tr>\n",
       "<tr>\n",
       "  <th>zip_count_4w</th>          <td> 9.678e-05</td> <td>  3.1e-05</td> <td>    3.126</td> <td> 0.002</td> <td> 3.61e-05</td> <td>    0.000</td>\n",
       "</tr>\n",
       "<tr>\n",
       "  <th>credit_risk_score</th>     <td>    0.0064</td> <td>    0.001</td> <td>   11.733</td> <td> 0.000</td> <td>    0.005</td> <td>    0.008</td>\n",
       "</tr>\n",
       "<tr>\n",
       "  <th>phone_home_valid</th>      <td>   -0.7981</td> <td>    0.074</td> <td>  -10.764</td> <td> 0.000</td> <td>   -0.943</td> <td>   -0.653</td>\n",
       "</tr>\n",
       "<tr>\n",
       "  <th>phone_mobile_valid</th>    <td>   -0.5900</td> <td>    0.095</td> <td>   -6.192</td> <td> 0.000</td> <td>   -0.777</td> <td>   -0.403</td>\n",
       "</tr>\n",
       "<tr>\n",
       "  <th>has_other_cards</th>       <td>   -1.3055</td> <td>    0.103</td> <td>  -12.713</td> <td> 0.000</td> <td>   -1.507</td> <td>   -1.104</td>\n",
       "</tr>\n",
       "<tr>\n",
       "  <th>proposed_credit_limit</th> <td>    0.0005</td> <td> 6.96e-05</td> <td>    7.734</td> <td> 0.000</td> <td>    0.000</td> <td>    0.001</td>\n",
       "</tr>\n",
       "<tr>\n",
       "  <th>source_TELEAPP</th>        <td>   -0.1356</td> <td>    0.491</td> <td>   -0.276</td> <td> 0.782</td> <td>   -1.097</td> <td>    0.826</td>\n",
       "</tr>\n",
       "</table>"
      ],
      "text/latex": [
       "\\begin{center}\n",
       "\\begin{tabular}{lclc}\n",
       "\\toprule\n",
       "\\textbf{Dep. Variable:}          &   fraud\\_bool    & \\textbf{  No. Observations:  } &    11920    \\\\\n",
       "\\textbf{Model:}                  &      Logit       & \\textbf{  Df Residuals:      } &    11910    \\\\\n",
       "\\textbf{Method:}                 &       MLE        & \\textbf{  Df Model:          } &        9    \\\\\n",
       "\\textbf{Date:}                   & Tue, 09 Jan 2024 & \\textbf{  Pseudo R-squ.:     } &   0.1550    \\\\\n",
       "\\textbf{Time:}                   &     13:54:54     & \\textbf{  Log-Likelihood:    } &   -3553.2   \\\\\n",
       "\\textbf{converged:}              &       True       & \\textbf{  LL-Null:           } &   -4204.8   \\\\\n",
       "\\textbf{Covariance Type:}        &    nonrobust     & \\textbf{  LLR p-value:       } & 6.344e-275  \\\\\n",
       "\\bottomrule\n",
       "\\end{tabular}\n",
       "\\begin{tabular}{lcccccc}\n",
       "                                 & \\textbf{coef} & \\textbf{std err} & \\textbf{z} & \\textbf{P$> |$z$|$} & \\textbf{[0.025} & \\textbf{0.975]}  \\\\\n",
       "\\midrule\n",
       "\\textbf{const}                   &      -2.8681  &        0.156     &   -18.417  &         0.000        &       -3.173    &       -2.563     \\\\\n",
       "\\textbf{income}                  &       1.4400  &        0.121     &    11.898  &         0.000        &        1.203    &        1.677     \\\\\n",
       "\\textbf{name\\_email\\_similarity} &      -1.3942  &        0.111     &   -12.603  &         0.000        &       -1.611    &       -1.177     \\\\\n",
       "\\textbf{zip\\_count\\_4w}          &    9.678e-05  &      3.1e-05     &     3.126  &         0.002        &     3.61e-05    &        0.000     \\\\\n",
       "\\textbf{credit\\_risk\\_score}     &       0.0064  &        0.001     &    11.733  &         0.000        &        0.005    &        0.008     \\\\\n",
       "\\textbf{phone\\_home\\_valid}      &      -0.7981  &        0.074     &   -10.764  &         0.000        &       -0.943    &       -0.653     \\\\\n",
       "\\textbf{phone\\_mobile\\_valid}    &      -0.5900  &        0.095     &    -6.192  &         0.000        &       -0.777    &       -0.403     \\\\\n",
       "\\textbf{has\\_other\\_cards}       &      -1.3055  &        0.103     &   -12.713  &         0.000        &       -1.507    &       -1.104     \\\\\n",
       "\\textbf{proposed\\_credit\\_limit} &       0.0005  &     6.96e-05     &     7.734  &         0.000        &        0.000    &        0.001     \\\\\n",
       "\\textbf{source\\_TELEAPP}         &      -0.1356  &        0.491     &    -0.276  &         0.782        &       -1.097    &        0.826     \\\\\n",
       "\\bottomrule\n",
       "\\end{tabular}\n",
       "%\\caption{Logit Regression Results}\n",
       "\\end{center}"
      ],
      "text/plain": [
       "<class 'statsmodels.iolib.summary.Summary'>\n",
       "\"\"\"\n",
       "                           Logit Regression Results                           \n",
       "==============================================================================\n",
       "Dep. Variable:             fraud_bool   No. Observations:                11920\n",
       "Model:                          Logit   Df Residuals:                    11910\n",
       "Method:                           MLE   Df Model:                            9\n",
       "Date:                Tue, 09 Jan 2024   Pseudo R-squ.:                  0.1550\n",
       "Time:                        13:54:54   Log-Likelihood:                -3553.2\n",
       "converged:                       True   LL-Null:                       -4204.8\n",
       "Covariance Type:            nonrobust   LLR p-value:                6.344e-275\n",
       "=========================================================================================\n",
       "                            coef    std err          z      P>|z|      [0.025      0.975]\n",
       "-----------------------------------------------------------------------------------------\n",
       "const                    -2.8681      0.156    -18.417      0.000      -3.173      -2.563\n",
       "income                    1.4400      0.121     11.898      0.000       1.203       1.677\n",
       "name_email_similarity    -1.3942      0.111    -12.603      0.000      -1.611      -1.177\n",
       "zip_count_4w           9.678e-05    3.1e-05      3.126      0.002    3.61e-05       0.000\n",
       "credit_risk_score         0.0064      0.001     11.733      0.000       0.005       0.008\n",
       "phone_home_valid         -0.7981      0.074    -10.764      0.000      -0.943      -0.653\n",
       "phone_mobile_valid       -0.5900      0.095     -6.192      0.000      -0.777      -0.403\n",
       "has_other_cards          -1.3055      0.103    -12.713      0.000      -1.507      -1.104\n",
       "proposed_credit_limit     0.0005   6.96e-05      7.734      0.000       0.000       0.001\n",
       "source_TELEAPP           -0.1356      0.491     -0.276      0.782      -1.097       0.826\n",
       "=========================================================================================\n",
       "\"\"\""
      ]
     },
     "execution_count": 229,
     "metadata": {},
     "output_type": "execute_result"
    }
   ],
   "source": [
    "# membuat model\n",
    "model_logit = sm.Logit(y_train, X_train)\n",
    "model_logit.fit().summary()"
   ]
  },
  {
   "cell_type": "markdown",
   "id": "aa850f04",
   "metadata": {},
   "source": [
    "**Interpretasi Model**\n",
    "\n",
    "Nilai intercept dan slope tidak bisa diinterpretasikan secara langsung karena nilainya masih berupa log of odds. Oleh karena itu, perlu dilakukan interpretasi menggunakan nilai odds. Untuk mengubah nilai log of odds menjadi odds bisa menggunakan fungsi `exp()` dari package `math`.    "
   ]
  },
  {
   "cell_type": "code",
   "execution_count": 230,
   "id": "7b634c3f-72f8-4c2f-976f-a920186c2104",
   "metadata": {
    "execution": {
     "iopub.execute_input": "2024-01-09T06:54:58.011762Z",
     "iopub.status.busy": "2024-01-09T06:54:58.010790Z",
     "iopub.status.idle": "2024-01-09T06:54:58.046255Z",
     "shell.execute_reply": "2024-01-09T06:54:58.045250Z",
     "shell.execute_reply.started": "2024-01-09T06:54:58.011762Z"
    }
   },
   "outputs": [
    {
     "name": "stdout",
     "output_type": "stream",
     "text": [
      "Optimization terminated successfully.\n",
      "         Current function value: 0.298085\n",
      "         Iterations 7\n"
     ]
    },
    {
     "data": {
      "text/plain": [
       "array([-2.86808695e+00,  1.43996937e+00, -1.39418862e+00,  9.67818085e-05,\n",
       "        6.43433541e-03, -7.98147401e-01, -5.89977432e-01, -1.30554459e+00,\n",
       "        5.38173698e-04, -1.35643304e-01])"
      ]
     },
     "execution_count": 230,
     "metadata": {},
     "output_type": "execute_result"
    }
   ],
   "source": [
    "model_logit.fit().params.values"
   ]
  },
  {
   "cell_type": "code",
   "execution_count": 231,
   "id": "90e8513d",
   "metadata": {
    "execution": {
     "iopub.execute_input": "2024-01-09T06:55:00.134681Z",
     "iopub.status.busy": "2024-01-09T06:55:00.133678Z",
     "iopub.status.idle": "2024-01-09T06:55:00.159677Z",
     "shell.execute_reply": "2024-01-09T06:55:00.158675Z",
     "shell.execute_reply.started": "2024-01-09T06:55:00.134681Z"
    }
   },
   "outputs": [
    {
     "name": "stdout",
     "output_type": "stream",
     "text": [
      "Optimization terminated successfully.\n",
      "         Current function value: 0.298085\n",
      "         Iterations 7\n"
     ]
    },
    {
     "data": {
      "text/plain": [
       "const                    0.056807\n",
       "income                   4.220567\n",
       "name_email_similarity    0.248034\n",
       "zip_count_4w             1.000097\n",
       "credit_risk_score        1.006455\n",
       "phone_home_valid         0.450162\n",
       "phone_mobile_valid       0.554340\n",
       "has_other_cards          0.271025\n",
       "proposed_credit_limit    1.000538\n",
       "source_TELEAPP           0.873154\n",
       "dtype: float64"
      ]
     },
     "execution_count": 231,
     "metadata": {},
     "output_type": "execute_result"
    }
   ],
   "source": [
    "import numpy as np\n",
    "np.exp(model_logit.fit().params)"
   ]
  },
  {
   "cell_type": "markdown",
   "id": "7bc6ea87",
   "metadata": {},
   "source": [
    "Hasil formula model yang diperoleh adalah sebagai berikut :\n",
    "\n",
    "$$logit(y)= \\beta_0 +\\beta_1 \\times x_1 + ... +\\beta_n \\times x_n$$\n",
    "\n",
    "- **Interpretasi intercept/`const`**\n",
    "\n",
    "- **Interpretasi variabel numerik**:\n",
    "\n",
    "    -\n",
    "    -\n",
    "\n",
    "- **Interpretasi variabel kategorik**:\n",
    "\n",
    "    -\n",
    "    -"
   ]
  },
  {
   "cell_type": "markdown",
   "id": "16b7de78",
   "metadata": {},
   "source": [
    "Interpretasi: ..."
   ]
  },
  {
   "cell_type": "markdown",
   "id": "72d61cb6",
   "metadata": {},
   "source": [
    "### Model Prediction\n",
    "\n",
    "Ketika kita sudah berhasil membuat model, kita akan mencoba melakukan prediksi terhadap data *test* yang sudah kita persiapkan pada tahap *cross validation*\n",
    "\n",
    "Dalam melakukan prediksi, kita bisa memanfaaatkan fungsi `predict()`. Dengan syntax sebagai berikut:\n",
    "\n",
    "`<nama_model>.predict(<var_prediktor>)`"
   ]
  },
  {
   "cell_type": "code",
   "execution_count": 232,
   "id": "a7b7347a",
   "metadata": {
    "execution": {
     "iopub.execute_input": "2024-01-09T06:55:02.950978Z",
     "iopub.status.busy": "2024-01-09T06:55:02.949966Z",
     "iopub.status.idle": "2024-01-09T06:55:02.979962Z",
     "shell.execute_reply": "2024-01-09T06:55:02.978961Z",
     "shell.execute_reply.started": "2024-01-09T06:55:02.950978Z"
    },
    "scrolled": true
   },
   "outputs": [
    {
     "name": "stdout",
     "output_type": "stream",
     "text": [
      "Optimization terminated successfully.\n",
      "         Current function value: 0.298085\n",
      "         Iterations 7\n"
     ]
    },
    {
     "data": {
      "text/plain": [
       "1355     0.027437\n",
       "5510     0.046101\n",
       "11107    0.310836\n",
       "14625    0.023955\n",
       "6431     0.118358\n",
       "           ...   \n",
       "582      0.052350\n",
       "12280    0.020636\n",
       "12577    0.244421\n",
       "12116    0.247063\n",
       "9421     0.030503\n",
       "Length: 2980, dtype: float64"
      ]
     },
     "execution_count": 232,
     "metadata": {},
     "output_type": "execute_result"
    }
   ],
   "source": [
    "# code of predict value from model\n",
    "logit_pred = model_logit.fit().predict(X_test)\n",
    "logit_pred"
   ]
  },
  {
   "cell_type": "markdown",
   "id": "31905403",
   "metadata": {},
   "source": [
    "Hasil prediksi yang dikeluarkan masih berupa probability dengan range 0-1. Untuk dapat mengubah nilai probability tersebut, kita bisa menetapkan threshold pada probability untuk masuk ke kelas 1 atau 0. Umumnya threshold yang digunakan yaitu 0.5. "
   ]
  },
  {
   "cell_type": "code",
   "execution_count": 233,
   "id": "32eb321c",
   "metadata": {
    "execution": {
     "iopub.execute_input": "2024-01-09T06:55:05.747643Z",
     "iopub.status.busy": "2024-01-09T06:55:05.746643Z",
     "iopub.status.idle": "2024-01-09T06:55:05.758644Z",
     "shell.execute_reply": "2024-01-09T06:55:05.757641Z",
     "shell.execute_reply.started": "2024-01-09T06:55:05.747643Z"
    },
    "scrolled": true
   },
   "outputs": [
    {
     "data": {
      "text/plain": [
       "11461    0\n",
       "11986    0\n",
       "13478    0\n",
       "14160    0\n",
       "10966    0\n",
       "dtype: int64"
      ]
     },
     "execution_count": 233,
     "metadata": {},
     "output_type": "execute_result"
    }
   ],
   "source": [
    "# change probability to predict class\n",
    "pred_label = logit_pred.apply(lambda x: 1 if x > 0.5 else 0)\n",
    "pred_label.sample(5)"
   ]
  },
  {
   "cell_type": "markdown",
   "id": "d176ba94",
   "metadata": {},
   "source": [
    "### Model Evaluation\n",
    "\n",
    "Setelah dilakukan prediksi menggunakan model, masih ada saja prediksi yang salah. Pada klasifikasi, kita mengevaluasi model berdasarkan **confusion matrix**:\n",
    "\n",
    "- Penentuan kelas:\n",
    "  + kelas positif: kelas yang lebih difokuskan \n",
    "  + kelas negatif: kelas yang tidak difokuskan\n",
    " \n",
    "- Contoh kasus: \n",
    "  + Machine learning untuk deteksi pasien covid:\n",
    "    * kelas positif: terdeteksi covid $\\rightarrow$ Jangan sampai orang yang terkena covid dibiarkan bebas karena dapat menularkan ke orang banyak\n",
    "    * kelas negatif: terdeteksi sehat\n",
    "    \n",
    "  + Machine learning untuk deteksi apakah seseorang bisa bayar pinjaman atau tidak\n",
    "    * kelas positf: yang tidak bisa bayar $\\rightarrow$ karna kita perlu berhati2 apakah nasabah tersebut bisa tidak bayar, kalo tidak bayar perusahaan bisa rugi. \n",
    "    * kelas negatif: yang bisa bayar\n",
    "\n",
    "- Isi dari confusion matrix\n",
    "    * TP (True Positive) = Ketika kita memprediksi kelas `positive`, dan benar bahwa data aktualnya `positive`\n",
    "    * TN (True Negative) = Ketika kita memprediksi kelas `negative`, dan benar bahwa data aktualnya `negative`\n",
    "    * FP (False Positive) = Ketika kita memprediksi kelas `positive`, namun data aktualnya `negative`\n",
    "    * FN (False Negative) = Ketika kita memprediksi kelas `negative`, namun data aktualnya `positive`\n",
    "    \n",
    "![](assets/tnfp.PNG)"
   ]
  },
  {
   "cell_type": "code",
   "execution_count": 234,
   "id": "8188ae3c",
   "metadata": {
    "execution": {
     "iopub.execute_input": "2024-01-09T06:55:09.159129Z",
     "iopub.status.busy": "2024-01-09T06:55:09.159129Z",
     "iopub.status.idle": "2024-01-09T06:55:09.179127Z",
     "shell.execute_reply": "2024-01-09T06:55:09.177127Z",
     "shell.execute_reply.started": "2024-01-09T06:55:09.159129Z"
    },
    "scrolled": true
   },
   "outputs": [
    {
     "data": {
      "text/html": [
       "<div>\n",
       "<style scoped>\n",
       "    .dataframe tbody tr th:only-of-type {\n",
       "        vertical-align: middle;\n",
       "    }\n",
       "\n",
       "    .dataframe tbody tr th {\n",
       "        vertical-align: top;\n",
       "    }\n",
       "\n",
       "    .dataframe thead th {\n",
       "        text-align: right;\n",
       "    }\n",
       "</style>\n",
       "<table border=\"1\" class=\"dataframe\">\n",
       "  <thead>\n",
       "    <tr style=\"text-align: right;\">\n",
       "      <th>col_0</th>\n",
       "      <th>0</th>\n",
       "      <th>1</th>\n",
       "    </tr>\n",
       "    <tr>\n",
       "      <th>fraud_bool</th>\n",
       "      <th></th>\n",
       "      <th></th>\n",
       "    </tr>\n",
       "  </thead>\n",
       "  <tbody>\n",
       "    <tr>\n",
       "      <th>0</th>\n",
       "      <td>2625</td>\n",
       "      <td>18</td>\n",
       "    </tr>\n",
       "    <tr>\n",
       "      <th>1</th>\n",
       "      <td>306</td>\n",
       "      <td>31</td>\n",
       "    </tr>\n",
       "  </tbody>\n",
       "</table>\n",
       "</div>"
      ],
      "text/plain": [
       "col_0          0   1\n",
       "fraud_bool          \n",
       "0           2625  18\n",
       "1            306  31"
      ]
     },
     "execution_count": 234,
     "metadata": {},
     "output_type": "execute_result"
    }
   ],
   "source": [
    "# confusion matrix sederhana (perbandingan antara pred label dengan data test)\n",
    "pd.crosstab(y_test, pred_label)"
   ]
  },
  {
   "cell_type": "markdown",
   "id": "94fe6382",
   "metadata": {},
   "source": [
    "* TP = 37\n",
    "* TN = 2615\n",
    "* FN = 29\n",
    "* FP = 300"
   ]
  },
  {
   "cell_type": "markdown",
   "id": "cc646c43",
   "metadata": {},
   "source": [
    "4 metrics performa model: **Accuracy, Sensitivity/Recall, Precision, Specificity**\n",
    "\n",
    "- **Accuracy**: seberapa tepat model kita memprediksi kelas target (secara global)   \n",
    "- **Sensitivity**/ **Recall**: ukuran kebaikan model terhadap kelas `positif`   \n",
    "- **Specificity**: ukuran kebaikan model terhadap kelas `negatif`   \n",
    "- Pos Pred Value/**Precision**: seberapa presisi model memprediksi kelas positif  "
   ]
  },
  {
   "cell_type": "markdown",
   "id": "5d185c26",
   "metadata": {},
   "source": [
    "### Accuracy\n",
    "\n",
    "Seberapa baik model kita menjelaskan kelas target (baik positif maupun negatif). Dipakai ketika kelas positif dan negatif sama pentingnya atau ketika proporsi kelas seimbang.\n",
    "\n",
    "$$\n",
    "Accuracy = \\frac{TP + TN}{TP + TN + FP + FN}\n",
    "$$"
   ]
  },
  {
   "cell_type": "code",
   "execution_count": 235,
   "id": "82ea0678",
   "metadata": {
    "execution": {
     "iopub.execute_input": "2024-01-09T06:55:12.314829Z",
     "iopub.status.busy": "2024-01-09T06:55:12.313828Z",
     "iopub.status.idle": "2024-01-09T06:55:12.322550Z",
     "shell.execute_reply": "2024-01-09T06:55:12.322040Z",
     "shell.execute_reply.started": "2024-01-09T06:55:12.314829Z"
    }
   },
   "outputs": [
    {
     "data": {
      "text/plain": [
       "0.8912751677852349"
      ]
     },
     "execution_count": 235,
     "metadata": {},
     "output_type": "execute_result"
    }
   ],
   "source": [
    "# nilai akurasi\n",
    "from sklearn import metrics\n",
    "\n",
    "metrics.accuracy_score(y_test, pred_label)"
   ]
  },
  {
   "cell_type": "markdown",
   "id": "b07377c0",
   "metadata": {},
   "source": [
    "Dalam bisnis/real-case, tak selamanya kita hanya mementingkan metric accuracy. Sering kali harus memilih antara meninggikan **recall/precision**. Hal ini tergantung pada kasus bisnis/efek yang ditimbulkan dari hasil prediksi tersebut."
   ]
  },
  {
   "cell_type": "markdown",
   "id": "0804535a",
   "metadata": {},
   "source": [
    "### Recall / Sensitivity\n",
    "\n",
    "Seberapa banyak yang **benar diprediksi positif** dari yang **re**alitynya (aktualnya) positif.\n",
    "\n",
    "![](assets/recall.png)\n",
    "\n",
    "$$\n",
    "Recall = \\frac{TP}{TP + FN}\n",
    "$$"
   ]
  },
  {
   "cell_type": "code",
   "execution_count": 236,
   "id": "fea54ec7",
   "metadata": {
    "execution": {
     "iopub.execute_input": "2024-01-09T06:55:14.413873Z",
     "iopub.status.busy": "2024-01-09T06:55:14.413873Z",
     "iopub.status.idle": "2024-01-09T06:55:14.428877Z",
     "shell.execute_reply": "2024-01-09T06:55:14.427864Z",
     "shell.execute_reply.started": "2024-01-09T06:55:14.413873Z"
    }
   },
   "outputs": [
    {
     "data": {
      "text/plain": [
       "0.09198813056379822"
      ]
     },
     "execution_count": 236,
     "metadata": {},
     "output_type": "execute_result"
    }
   ],
   "source": [
    "# nilai recall\n",
    "metrics.recall_score(y_test, pred_label)"
   ]
  },
  {
   "cell_type": "markdown",
   "id": "b22a5974",
   "metadata": {},
   "source": [
    "### Precision\n",
    "\n",
    "Seberapa banyak yang **benar diprediksi positif** dari yang di**pre**diksi positif.\n",
    "\n",
    "![](assets/precision.png)\n",
    "\n",
    "$$\n",
    "Precision = \\frac{TP}{TP + FP}\n",
    "$$"
   ]
  },
  {
   "cell_type": "code",
   "execution_count": 237,
   "id": "46eaf1df",
   "metadata": {
    "execution": {
     "iopub.execute_input": "2024-01-09T06:55:16.761368Z",
     "iopub.status.busy": "2024-01-09T06:55:16.761368Z",
     "iopub.status.idle": "2024-01-09T06:55:16.786358Z",
     "shell.execute_reply": "2024-01-09T06:55:16.784360Z",
     "shell.execute_reply.started": "2024-01-09T06:55:16.761368Z"
    }
   },
   "outputs": [
    {
     "data": {
      "text/plain": [
       "0.6326530612244898"
      ]
     },
     "execution_count": 237,
     "metadata": {},
     "output_type": "execute_result"
    }
   ],
   "source": [
    "# nilai precision\n",
    "metrics.precision_score(y_test, pred_label)"
   ]
  },
  {
   "cell_type": "markdown",
   "id": "f79eb511",
   "metadata": {},
   "source": [
    "**Cara Cepat**\n",
    "\n",
    "Selain melakukan perhitungan manual, kita juga dapat memanfaatkan fungsi yang sudah disediakan oleh library sklearn dengan syntax \n",
    "\n",
    "`*_score(y_true, y_pred)`"
   ]
  },
  {
   "cell_type": "code",
   "execution_count": 238,
   "id": "eb308295",
   "metadata": {
    "execution": {
     "iopub.execute_input": "2024-01-09T06:55:20.137605Z",
     "iopub.status.busy": "2024-01-09T06:55:20.137605Z",
     "iopub.status.idle": "2024-01-09T06:55:20.155108Z",
     "shell.execute_reply": "2024-01-09T06:55:20.153124Z",
     "shell.execute_reply.started": "2024-01-09T06:55:20.137605Z"
    }
   },
   "outputs": [
    {
     "name": "stdout",
     "output_type": "stream",
     "text": [
      "Accuracy score: 0.8912751677852349\n",
      "Recall score: 0.09198813056379822\n",
      "Precision score: 0.6326530612244898\n"
     ]
    }
   ],
   "source": [
    "from sklearn.metrics import recall_score, precision_score, accuracy_score\n",
    "\n",
    "print(f'Accuracy score: {accuracy_score(y_test, pred_label)}')\n",
    "print(f'Recall score: {recall_score(y_test, pred_label)}')\n",
    "print(f'Precision score: {precision_score(y_test, pred_label)}')"
   ]
  },
  {
   "cell_type": "markdown",
   "id": "834ad464-1ba7-4095-8053-69cdb06cced3",
   "metadata": {
    "execution": {
     "iopub.execute_input": "2024-01-09T06:40:13.330979Z",
     "iopub.status.busy": "2024-01-09T06:40:13.330979Z",
     "iopub.status.idle": "2024-01-09T06:40:13.469979Z",
     "shell.execute_reply": "2024-01-09T06:40:13.468975Z",
     "shell.execute_reply.started": "2024-01-09T06:40:13.330979Z"
    }
   },
   "source": [
    "## Buatlah model dengal menghilangkan salah satu variable yang berkorelasi kuat tersebut"
   ]
  },
  {
   "cell_type": "code",
   "execution_count": 239,
   "id": "d5997e4f-f9f3-4fe7-b7d9-4a3d4bcb933b",
   "metadata": {
    "execution": {
     "iopub.execute_input": "2024-01-09T06:55:22.630557Z",
     "iopub.status.busy": "2024-01-09T06:55:22.630557Z",
     "iopub.status.idle": "2024-01-09T06:55:22.679555Z",
     "shell.execute_reply": "2024-01-09T06:55:22.678554Z",
     "shell.execute_reply.started": "2024-01-09T06:55:22.630557Z"
    }
   },
   "outputs": [
    {
     "data": {
      "text/plain": [
       "const                    23.641677\n",
       "credit_risk_score         1.737997\n",
       "proposed_credit_limit     1.683440\n",
       "phone_home_valid          1.109834\n",
       "phone_mobile_valid        1.087907\n",
       "income                    1.048076\n",
       "has_other_cards           1.039245\n",
       "zip_count_4w              1.019992\n",
       "name_email_similarity     1.006883\n",
       "source_TELEAPP            1.001757\n",
       "dtype: float64"
      ]
     },
     "execution_count": 239,
     "metadata": {},
     "output_type": "execute_result"
    }
   ],
   "source": [
    "from statsmodels.stats.outliers_influence import variance_inflation_factor\n",
    "import statsmodels.api as sm\n",
    "\n",
    "vif = [variance_inflation_factor(X_train.values, i) for i in range(len(X_train.columns))]\n",
    "pd.Series(data=vif, index = X_train.columns).sort_values(ascending=False)"
   ]
  },
  {
   "cell_type": "code",
   "execution_count": 240,
   "id": "e7df114c-2618-4ef1-8da9-a9f22650acca",
   "metadata": {
    "execution": {
     "iopub.execute_input": "2024-01-09T06:55:30.781116Z",
     "iopub.status.busy": "2024-01-09T06:55:30.781116Z",
     "iopub.status.idle": "2024-01-09T06:55:30.795116Z",
     "shell.execute_reply": "2024-01-09T06:55:30.794128Z",
     "shell.execute_reply.started": "2024-01-09T06:55:30.781116Z"
    }
   },
   "outputs": [],
   "source": [
    "X_train_drop = X_train.drop(columns='proposed_credit_limit')\n",
    "X_test_drop = X_test.drop(columns='proposed_credit_limit')"
   ]
  },
  {
   "cell_type": "code",
   "execution_count": 241,
   "id": "c99145dc-c4f0-45b7-83fe-a77943e33f02",
   "metadata": {
    "execution": {
     "iopub.execute_input": "2024-01-09T06:55:32.395386Z",
     "iopub.status.busy": "2024-01-09T06:55:32.394378Z",
     "iopub.status.idle": "2024-01-09T06:55:32.408943Z",
     "shell.execute_reply": "2024-01-09T06:55:32.406950Z",
     "shell.execute_reply.started": "2024-01-09T06:55:32.395386Z"
    }
   },
   "outputs": [
    {
     "data": {
      "text/plain": [
       "Index(['const', 'income', 'name_email_similarity', 'zip_count_4w',\n",
       "       'credit_risk_score', 'phone_home_valid', 'phone_mobile_valid',\n",
       "       'has_other_cards', 'source_TELEAPP'],\n",
       "      dtype='object')"
      ]
     },
     "execution_count": 241,
     "metadata": {},
     "output_type": "execute_result"
    }
   ],
   "source": [
    "X_train_drop.columns"
   ]
  },
  {
   "cell_type": "code",
   "execution_count": 242,
   "id": "9993d48e-c626-4a31-89b3-4a7b8386aa8b",
   "metadata": {
    "execution": {
     "iopub.execute_input": "2024-01-09T06:55:33.464058Z",
     "iopub.status.busy": "2024-01-09T06:55:33.463059Z",
     "iopub.status.idle": "2024-01-09T06:55:33.499715Z",
     "shell.execute_reply": "2024-01-09T06:55:33.498712Z",
     "shell.execute_reply.started": "2024-01-09T06:55:33.464058Z"
    }
   },
   "outputs": [
    {
     "name": "stdout",
     "output_type": "stream",
     "text": [
      "Optimization terminated successfully.\n",
      "         Current function value: 0.300542\n",
      "         Iterations 7\n"
     ]
    }
   ],
   "source": [
    "model_logit2 = sm.Logit(y_train, X_train_drop).fit()\n",
    "label_pred2 = model_logit2.predict(X_test_drop)\n",
    "label_pred2 = label_pred2.apply(lambda x: 1 if x > 0.5 else 0)"
   ]
  },
  {
   "cell_type": "code",
   "execution_count": 243,
   "id": "3269eb9d-2a5a-4d4e-b8ea-b51289c582d5",
   "metadata": {
    "execution": {
     "iopub.execute_input": "2024-01-09T06:55:35.862828Z",
     "iopub.status.busy": "2024-01-09T06:55:35.861829Z",
     "iopub.status.idle": "2024-01-09T06:55:35.887821Z",
     "shell.execute_reply": "2024-01-09T06:55:35.886821Z",
     "shell.execute_reply.started": "2024-01-09T06:55:35.861829Z"
    }
   },
   "outputs": [
    {
     "name": "stdout",
     "output_type": "stream",
     "text": [
      "Accuracy score: 0.8919463087248322\n",
      "Recall score: 0.0830860534124629\n",
      "Precision score: 0.6829268292682927\n"
     ]
    }
   ],
   "source": [
    "from sklearn.metrics import recall_score, precision_score, accuracy_score\n",
    "\n",
    "print(f'Accuracy score: {accuracy_score(y_test, label_pred2)}')\n",
    "print(f'Recall score: {recall_score(y_test, label_pred2)}')\n",
    "print(f'Precision score: {precision_score(y_test, label_pred2)}')"
   ]
  },
  {
   "cell_type": "code",
   "execution_count": 249,
   "id": "6d822225-ff10-473b-b633-021773e11512",
   "metadata": {
    "execution": {
     "iopub.execute_input": "2024-01-09T06:59:05.801816Z",
     "iopub.status.busy": "2024-01-09T06:59:05.801816Z",
     "iopub.status.idle": "2024-01-09T06:59:07.091386Z",
     "shell.execute_reply": "2024-01-09T06:59:07.090387Z",
     "shell.execute_reply.started": "2024-01-09T06:59:05.801816Z"
    }
   },
   "outputs": [],
   "source": [
    "from sklearn.ensemble import GradientBoostingClassifier\n",
    "\n",
    "gbc = GradientBoostingClassifier(max_depth=2)\n",
    "gbc.fit(X_train, y_train)\n",
    "pred3 = gbc.predict(X_test)"
   ]
  },
  {
   "cell_type": "code",
   "execution_count": 250,
   "id": "eb20bf87-37e0-4b05-bf29-fed11773cb1c",
   "metadata": {
    "execution": {
     "iopub.execute_input": "2024-01-09T06:59:09.026290Z",
     "iopub.status.busy": "2024-01-09T06:59:09.026290Z",
     "iopub.status.idle": "2024-01-09T06:59:09.049670Z",
     "shell.execute_reply": "2024-01-09T06:59:09.048284Z",
     "shell.execute_reply.started": "2024-01-09T06:59:09.026290Z"
    }
   },
   "outputs": [
    {
     "name": "stdout",
     "output_type": "stream",
     "text": [
      "Accuracy score: 0.8889261744966444\n",
      "Recall score: 0.0771513353115727\n",
      "Precision score: 0.5652173913043478\n"
     ]
    }
   ],
   "source": [
    "from sklearn.metrics import recall_score, precision_score, accuracy_score\n",
    "\n",
    "print(f'Accuracy score: {accuracy_score(y_test, pred3)}')\n",
    "print(f'Recall score: {recall_score(y_test, pred3)}')\n",
    "print(f'Precision score: {precision_score(y_test, pred3)}')"
   ]
  },
  {
   "cell_type": "code",
   "execution_count": 265,
   "id": "9bfae366-830c-425d-a072-4391c6c58613",
   "metadata": {
    "execution": {
     "iopub.execute_input": "2024-01-09T07:01:30.793501Z",
     "iopub.status.busy": "2024-01-09T07:01:30.792495Z",
     "iopub.status.idle": "2024-01-09T07:01:30.921595Z",
     "shell.execute_reply": "2024-01-09T07:01:30.920592Z",
     "shell.execute_reply.started": "2024-01-09T07:01:30.793501Z"
    }
   },
   "outputs": [],
   "source": [
    "from xgboost import XGBClassifier\n",
    "\n",
    "xgb = XGBClassifier()\n",
    "xgb.fit(X_train, y_train)\n",
    "pred4 = xgb.predict(X_test)"
   ]
  },
  {
   "cell_type": "code",
   "execution_count": 266,
   "id": "a59635d2-425f-43ab-aefe-53032c3a2746",
   "metadata": {
    "execution": {
     "iopub.execute_input": "2024-01-09T07:01:32.611964Z",
     "iopub.status.busy": "2024-01-09T07:01:32.611964Z",
     "iopub.status.idle": "2024-01-09T07:01:32.629966Z",
     "shell.execute_reply": "2024-01-09T07:01:32.628960Z",
     "shell.execute_reply.started": "2024-01-09T07:01:32.611964Z"
    }
   },
   "outputs": [
    {
     "name": "stdout",
     "output_type": "stream",
     "text": [
      "Accuracy score: 0.886241610738255\n",
      "Recall score: 0.1543026706231454\n",
      "Precision score: 0.49056603773584906\n"
     ]
    }
   ],
   "source": [
    "from sklearn.metrics import recall_score, precision_score, accuracy_score\n",
    "\n",
    "print(f'Accuracy score: {accuracy_score(y_test, pred4)}')\n",
    "print(f'Recall score: {recall_score(y_test, pred4)}')\n",
    "print(f'Precision score: {precision_score(y_test, pred4)}')"
   ]
  },
  {
   "cell_type": "code",
   "execution_count": 271,
   "id": "bd18f173-1649-4df1-80f8-6fbd4442df76",
   "metadata": {
    "execution": {
     "iopub.execute_input": "2024-01-09T07:10:52.878922Z",
     "iopub.status.busy": "2024-01-09T07:10:52.878922Z",
     "iopub.status.idle": "2024-01-09T07:10:52.895017Z",
     "shell.execute_reply": "2024-01-09T07:10:52.894025Z",
     "shell.execute_reply.started": "2024-01-09T07:10:52.878922Z"
    }
   },
   "outputs": [],
   "source": [
    "from sklearn.model_selection import RepeatedStratifiedKFold\n",
    "from sklearn.model_selection import GridSearchCV\n",
    "\n",
    "# define grid\n",
    "weights = [0.1, 0.25, 0.5, 0.66, 1, 10, 25, 50, 99]\n",
    "param_grid = dict(scale_pos_weight=weights)\n",
    "\n",
    "# define evaluation procedure\n",
    "cv = RepeatedStratifiedKFold(n_splits=5, n_repeats=3, random_state=1)\n",
    "# define grid search\n",
    "grid = GridSearchCV(estimator=xgb, param_grid=param_grid, n_jobs=-1, cv=cv, scoring='balanced_accuracy')"
   ]
  },
  {
   "cell_type": "code",
   "execution_count": 274,
   "id": "d2522873-c1ab-4a4f-8c93-0fd0654a5aea",
   "metadata": {
    "execution": {
     "iopub.execute_input": "2024-01-09T07:13:19.920957Z",
     "iopub.status.busy": "2024-01-09T07:13:19.919960Z",
     "iopub.status.idle": "2024-01-09T07:13:23.137601Z",
     "shell.execute_reply": "2024-01-09T07:13:23.137307Z",
     "shell.execute_reply.started": "2024-01-09T07:13:19.919960Z"
    }
   },
   "outputs": [
    {
     "name": "stdout",
     "output_type": "stream",
     "text": [
      "CPU times: total: 1.39 s\n",
      "Wall time: 3.2 s\n"
     ]
    }
   ],
   "source": [
    "%%time\n",
    "grid_result = grid.fit(X_train, y_train)\n",
    "pred5 = grid.predict(X_test)"
   ]
  },
  {
   "cell_type": "code",
   "execution_count": 275,
   "id": "68111408-3268-47da-82b5-9f412fa3be14",
   "metadata": {
    "execution": {
     "iopub.execute_input": "2024-01-09T07:13:26.757707Z",
     "iopub.status.busy": "2024-01-09T07:13:26.756706Z",
     "iopub.status.idle": "2024-01-09T07:13:26.774727Z",
     "shell.execute_reply": "2024-01-09T07:13:26.772726Z",
     "shell.execute_reply.started": "2024-01-09T07:13:26.757707Z"
    }
   },
   "outputs": [
    {
     "name": "stdout",
     "output_type": "stream",
     "text": [
      "Accuracy score: 0.6758389261744966\n",
      "Recall score: 0.543026706231454\n",
      "Precision score: 0.18391959798994975\n"
     ]
    }
   ],
   "source": [
    "from sklearn.metrics import recall_score, precision_score, accuracy_score\n",
    "\n",
    "print(f'Accuracy score: {accuracy_score(y_test, pred5)}')\n",
    "print(f'Recall score: {recall_score(y_test, pred5)}')\n",
    "print(f'Precision score: {precision_score(y_test, pred5)}')"
   ]
  },
  {
   "cell_type": "markdown",
   "id": "712c0d52",
   "metadata": {},
   "source": [
    "\n",
    "Ketika tidak puas dengan hasil model performance diatas, yang bisa dilakukan adalah:\n",
    "\n",
    "1. Tunning model (membuat model baru dengan kombinasi prediktor yang lain)\n",
    "2. Menambahkan data\n",
    "3. Melakukan penggeseran threshold\n",
    "4. Menggunakan metode yang lain"
   ]
  },
  {
   "cell_type": "markdown",
   "id": "3292b6ea",
   "metadata": {},
   "source": [
    "### Asumsi Logistic Regression\n",
    "\n",
    "Asumsi Logistic Regression :\n",
    "\n",
    "* **No Multicollinearity**: antar prediktor tidak saling berkorelasi. Untuk melakukan pengecekannya sama seperti dalam linear regression yaitu menggunakan nilai VIF. \n",
    "\n",
    "  + apabila ada prediktor yang terindikasi multikolinearity, kita bisa menggunakan salah satu variabel saja atau membuat variabel baru yang men-summary dari kedua variabel tersebut (mean)\n",
    "  +  dari VIF kita ingin variabel kita memiliki VIF < 10\n",
    "  \n",
    "* **Independence of Observations**: antar observasi saling independen & tidak berasal dari pengukuran berulang (repeated measurement).\n",
    "\n",
    "* **Linearity of Predictor & Log of Odds**: cara interpretasi mengacu pada asumsi ini. untuk variabel numerik, peningkatan 1 nilai akan menaikan log of odds (peluang)."
   ]
  },
  {
   "cell_type": "markdown",
   "id": "7c5f957e",
   "metadata": {},
   "source": [
    "# K-Nearest Neighbour Algorithm\n",
    "\n",
    "Metode k-NN akan mengkasifikasi data baru dengan membandingkan karakteristik data baru (data test) dengan data yang ada (data train). Kedekatan karakteristik tersebut diukur dengan Euclidean Distance yaitu pengukuran jarak. Kemudian akan dipilih k tetangga terdekat dari data baru tersebut, kemudian ditentukan kelasnya menggunakan majority voting.\n",
    "\n",
    "### Karakteristik k-NN\n",
    "\n",
    "- tidak ada asumsi\n",
    "- dapat memprediksi multiclass\n",
    "- baik untuk prediktor numerik (karena mengklasifikasikan berdasarkan jarak), tidak baik untuk prediktor kategorik\n",
    "- robust: performa nya bagus -> error nya kecil\n",
    "- tidak interpretable"
   ]
  },
  {
   "cell_type": "markdown",
   "id": "14739f02",
   "metadata": {},
   "source": [
    "## Data Cleansing\n",
    "\n",
    "Kita akan menggunakan data yang sama dengan metode sebelumnya, tetapi kali ini kita akan menggunakan data tanpa kategorikal sama sekali."
   ]
  },
  {
   "cell_type": "code",
   "execution_count": 128,
   "id": "15bc0b7a-082b-489c-b93d-91c114d6c42e",
   "metadata": {
    "execution": {
     "iopub.execute_input": "2024-01-09T03:27:37.698218Z",
     "iopub.status.busy": "2024-01-09T03:27:37.697226Z",
     "iopub.status.idle": "2024-01-09T03:27:37.725223Z",
     "shell.execute_reply": "2024-01-09T03:27:37.723221Z",
     "shell.execute_reply.started": "2024-01-09T03:27:37.698218Z"
    }
   },
   "outputs": [
    {
     "data": {
      "text/html": [
       "<div>\n",
       "<style scoped>\n",
       "    .dataframe tbody tr th:only-of-type {\n",
       "        vertical-align: middle;\n",
       "    }\n",
       "\n",
       "    .dataframe tbody tr th {\n",
       "        vertical-align: top;\n",
       "    }\n",
       "\n",
       "    .dataframe thead th {\n",
       "        text-align: right;\n",
       "    }\n",
       "</style>\n",
       "<table border=\"1\" class=\"dataframe\">\n",
       "  <thead>\n",
       "    <tr style=\"text-align: right;\">\n",
       "      <th></th>\n",
       "      <th>income</th>\n",
       "      <th>name_email_similarity</th>\n",
       "      <th>zip_count_4w</th>\n",
       "      <th>credit_risk_score</th>\n",
       "      <th>phone_home_valid</th>\n",
       "      <th>phone_mobile_valid</th>\n",
       "      <th>has_other_cards</th>\n",
       "      <th>proposed_credit_limit</th>\n",
       "      <th>fraud_bool</th>\n",
       "      <th>source_TELEAPP</th>\n",
       "    </tr>\n",
       "  </thead>\n",
       "  <tbody>\n",
       "    <tr>\n",
       "      <th>0</th>\n",
       "      <td>0.1</td>\n",
       "      <td>0.069598</td>\n",
       "      <td>3483</td>\n",
       "      <td>20.0</td>\n",
       "      <td>0</td>\n",
       "      <td>1</td>\n",
       "      <td>0</td>\n",
       "      <td>200.0</td>\n",
       "      <td>0</td>\n",
       "      <td>0</td>\n",
       "    </tr>\n",
       "    <tr>\n",
       "      <th>1</th>\n",
       "      <td>0.9</td>\n",
       "      <td>0.891741</td>\n",
       "      <td>2849</td>\n",
       "      <td>3.0</td>\n",
       "      <td>0</td>\n",
       "      <td>1</td>\n",
       "      <td>1</td>\n",
       "      <td>200.0</td>\n",
       "      <td>0</td>\n",
       "      <td>0</td>\n",
       "    </tr>\n",
       "    <tr>\n",
       "      <th>2</th>\n",
       "      <td>0.6</td>\n",
       "      <td>0.370933</td>\n",
       "      <td>406</td>\n",
       "      <td>50.0</td>\n",
       "      <td>0</td>\n",
       "      <td>1</td>\n",
       "      <td>0</td>\n",
       "      <td>200.0</td>\n",
       "      <td>0</td>\n",
       "      <td>0</td>\n",
       "    </tr>\n",
       "  </tbody>\n",
       "</table>\n",
       "</div>"
      ],
      "text/plain": [
       "   income  name_email_similarity  zip_count_4w  credit_risk_score  \\\n",
       "0     0.1               0.069598          3483               20.0   \n",
       "1     0.9               0.891741          2849                3.0   \n",
       "2     0.6               0.370933           406               50.0   \n",
       "\n",
       "   phone_home_valid  phone_mobile_valid  has_other_cards  \\\n",
       "0                 0                   1                0   \n",
       "1                 0                   1                1   \n",
       "2                 0                   1                0   \n",
       "\n",
       "   proposed_credit_limit  fraud_bool  source_TELEAPP  \n",
       "0                  200.0           0               0  \n",
       "1                  200.0           0               0  \n",
       "2                  200.0           0               0  "
      ]
     },
     "execution_count": 128,
     "metadata": {},
     "output_type": "execute_result"
    }
   ],
   "source": [
    "fraud_enc.head(3)"
   ]
  },
  {
   "cell_type": "code",
   "execution_count": 127,
   "id": "4399969c-3495-4364-8fe4-1c2d700efcc4",
   "metadata": {
    "execution": {
     "iopub.execute_input": "2024-01-09T03:27:33.578369Z",
     "iopub.status.busy": "2024-01-09T03:27:33.578369Z",
     "iopub.status.idle": "2024-01-09T03:27:33.594362Z",
     "shell.execute_reply": "2024-01-09T03:27:33.593357Z",
     "shell.execute_reply.started": "2024-01-09T03:27:33.578369Z"
    }
   },
   "outputs": [
    {
     "name": "stdout",
     "output_type": "stream",
     "text": [
      "<class 'pandas.core.frame.DataFrame'>\n",
      "Index: 14900 entries, 0 to 14904\n",
      "Data columns (total 10 columns):\n",
      " #   Column                 Non-Null Count  Dtype  \n",
      "---  ------                 --------------  -----  \n",
      " 0   income                 14900 non-null  float64\n",
      " 1   name_email_similarity  14900 non-null  float64\n",
      " 2   zip_count_4w           14900 non-null  int64  \n",
      " 3   credit_risk_score      14900 non-null  float64\n",
      " 4   phone_home_valid       14900 non-null  int64  \n",
      " 5   phone_mobile_valid     14900 non-null  int64  \n",
      " 6   has_other_cards        14900 non-null  int64  \n",
      " 7   proposed_credit_limit  14900 non-null  float64\n",
      " 8   fraud_bool             14900 non-null  int64  \n",
      " 9   source_TELEAPP         14900 non-null  int64  \n",
      "dtypes: float64(4), int64(6)\n",
      "memory usage: 1.3 MB\n"
     ]
    }
   ],
   "source": [
    "fraud_enc.info()"
   ]
  },
  {
   "cell_type": "code",
   "execution_count": 277,
   "id": "88be590b-05cd-4bd9-a713-eb4bce8aa07d",
   "metadata": {
    "execution": {
     "iopub.execute_input": "2024-01-09T07:16:21.250340Z",
     "iopub.status.busy": "2024-01-09T07:16:21.250340Z",
     "iopub.status.idle": "2024-01-09T07:16:21.270344Z",
     "shell.execute_reply": "2024-01-09T07:16:21.269340Z",
     "shell.execute_reply.started": "2024-01-09T07:16:21.250340Z"
    }
   },
   "outputs": [],
   "source": [
    "catbool = ['phone_home_valid', 'phone_mobile_valid', 'has_other_cards', 'source_TELEAPP']"
   ]
  },
  {
   "cell_type": "code",
   "execution_count": 278,
   "id": "746571d9",
   "metadata": {
    "execution": {
     "iopub.execute_input": "2024-01-09T07:16:22.499177Z",
     "iopub.status.busy": "2024-01-09T07:16:22.499177Z",
     "iopub.status.idle": "2024-01-09T07:16:22.526133Z",
     "shell.execute_reply": "2024-01-09T07:16:22.525135Z",
     "shell.execute_reply.started": "2024-01-09T07:16:22.499177Z"
    }
   },
   "outputs": [
    {
     "data": {
      "text/html": [
       "<div>\n",
       "<style scoped>\n",
       "    .dataframe tbody tr th:only-of-type {\n",
       "        vertical-align: middle;\n",
       "    }\n",
       "\n",
       "    .dataframe tbody tr th {\n",
       "        vertical-align: top;\n",
       "    }\n",
       "\n",
       "    .dataframe thead th {\n",
       "        text-align: right;\n",
       "    }\n",
       "</style>\n",
       "<table border=\"1\" class=\"dataframe\">\n",
       "  <thead>\n",
       "    <tr style=\"text-align: right;\">\n",
       "      <th></th>\n",
       "      <th>income</th>\n",
       "      <th>name_email_similarity</th>\n",
       "      <th>zip_count_4w</th>\n",
       "      <th>credit_risk_score</th>\n",
       "      <th>proposed_credit_limit</th>\n",
       "      <th>fraud_bool</th>\n",
       "    </tr>\n",
       "  </thead>\n",
       "  <tbody>\n",
       "    <tr>\n",
       "      <th>0</th>\n",
       "      <td>0.1</td>\n",
       "      <td>0.069598</td>\n",
       "      <td>3483</td>\n",
       "      <td>20.0</td>\n",
       "      <td>200.0</td>\n",
       "      <td>0</td>\n",
       "    </tr>\n",
       "    <tr>\n",
       "      <th>1</th>\n",
       "      <td>0.9</td>\n",
       "      <td>0.891741</td>\n",
       "      <td>2849</td>\n",
       "      <td>3.0</td>\n",
       "      <td>200.0</td>\n",
       "      <td>0</td>\n",
       "    </tr>\n",
       "    <tr>\n",
       "      <th>2</th>\n",
       "      <td>0.6</td>\n",
       "      <td>0.370933</td>\n",
       "      <td>406</td>\n",
       "      <td>50.0</td>\n",
       "      <td>200.0</td>\n",
       "      <td>0</td>\n",
       "    </tr>\n",
       "    <tr>\n",
       "      <th>3</th>\n",
       "      <td>0.9</td>\n",
       "      <td>0.401137</td>\n",
       "      <td>780</td>\n",
       "      <td>74.0</td>\n",
       "      <td>200.0</td>\n",
       "      <td>0</td>\n",
       "    </tr>\n",
       "    <tr>\n",
       "      <th>4</th>\n",
       "      <td>0.6</td>\n",
       "      <td>0.720006</td>\n",
       "      <td>4527</td>\n",
       "      <td>136.0</td>\n",
       "      <td>200.0</td>\n",
       "      <td>0</td>\n",
       "    </tr>\n",
       "  </tbody>\n",
       "</table>\n",
       "</div>"
      ],
      "text/plain": [
       "   income  name_email_similarity  zip_count_4w  credit_risk_score  \\\n",
       "0     0.1               0.069598          3483               20.0   \n",
       "1     0.9               0.891741          2849                3.0   \n",
       "2     0.6               0.370933           406               50.0   \n",
       "3     0.9               0.401137           780               74.0   \n",
       "4     0.6               0.720006          4527              136.0   \n",
       "\n",
       "   proposed_credit_limit  fraud_bool  \n",
       "0                  200.0           0  \n",
       "1                  200.0           0  \n",
       "2                  200.0           0  \n",
       "3                  200.0           0  \n",
       "4                  200.0           0  "
      ]
     },
     "execution_count": 278,
     "metadata": {},
     "output_type": "execute_result"
    }
   ],
   "source": [
    "fraud_knn = fraud_enc.drop(columns=catbool)\n",
    "\n",
    "fraud_knn.head()"
   ]
  },
  {
   "cell_type": "markdown",
   "id": "361e0262",
   "metadata": {},
   "source": [
    "## Cross Validation\n",
    "\n",
    "Gunakan metode train-test splitting dengan proporsi dan random_state yang sudah kita gunakan pada kasus sebelumnya."
   ]
  },
  {
   "cell_type": "code",
   "execution_count": 296,
   "id": "16e77d69",
   "metadata": {
    "execution": {
     "iopub.execute_input": "2024-01-09T07:38:06.053367Z",
     "iopub.status.busy": "2024-01-09T07:38:06.052362Z",
     "iopub.status.idle": "2024-01-09T07:38:06.078378Z",
     "shell.execute_reply": "2024-01-09T07:38:06.077386Z",
     "shell.execute_reply.started": "2024-01-09T07:38:06.053367Z"
    }
   },
   "outputs": [],
   "source": [
    "# prediktor\n",
    "X = fraud_knn.drop(columns='fraud_bool')\n",
    "# target\n",
    "y = fraud_knn['fraud_bool']\n",
    "\n",
    "# Split dataset\n",
    "X_train, X_test, y_train, y_test = train_test_split(X, # kolom prediktor\n",
    "                                                   y, # kolom target\n",
    "                                                   test_size = 0.2, # 80% training and 20% test\n",
    "                                                   random_state = 10,\n",
    "                                                   stratify = y)"
   ]
  },
  {
   "cell_type": "code",
   "execution_count": 281,
   "id": "06c24276-0496-4c98-a35b-ab74a0b9b1fb",
   "metadata": {
    "execution": {
     "iopub.execute_input": "2024-01-09T07:17:37.130269Z",
     "iopub.status.busy": "2024-01-09T07:17:37.130269Z",
     "iopub.status.idle": "2024-01-09T07:17:37.165554Z",
     "shell.execute_reply": "2024-01-09T07:17:37.164560Z",
     "shell.execute_reply.started": "2024-01-09T07:17:37.130269Z"
    }
   },
   "outputs": [
    {
     "data": {
      "text/plain": [
       "credit_risk_score        6.586484\n",
       "income                   3.779879\n",
       "proposed_credit_limit    3.572963\n",
       "name_email_similarity    2.967258\n",
       "zip_count_4w             2.653914\n",
       "dtype: float64"
      ]
     },
     "execution_count": 281,
     "metadata": {},
     "output_type": "execute_result"
    }
   ],
   "source": [
    "vif = [variance_inflation_factor(X_train.values, i) for i in range(len(X_train.columns))]\n",
    "pd.Series(data=vif, index = X_train.columns).sort_values(ascending=False)"
   ]
  },
  {
   "cell_type": "markdown",
   "id": "26d696ec",
   "metadata": {},
   "source": [
    "## Data Preprocessing\n",
    "\n",
    "**Feature Scalling**\n",
    "\n",
    "🔎 Scaling: menyamaratakan range variable prediktor\n",
    "\n",
    "Scaling bisa menggunakan **min-max normalization atau z-score standarization**\n",
    "\n",
    "1.  **Min-max normalization** --> bekerja dengan mentransformasi fitur sehingga nilainya berada dalam rentang 0 hingga 1.\n",
    "\n",
    "> Formula: $x_{new}=\\frac{(x-min(x))}{(max(x)-min(x))}$\n",
    "\n",
    "- Nilai fitur yang dinormalisasi secara efektif mengomunikasikan seberapa jauh, dalam persentase, nilai asli berada di sepanjang rentang semua nilai fitur *x*.\n",
    "- digunakan ketika tau angka pasti min dan max nya. misalnya nilai ujian matematika pasti nilai min-max nya 0 - 100.\n",
    "\n",
    "2. **z-score standardization** mengurangi fitur x dengan rata-rata dan dibagi dengan standar deviasi dari fitur.\n",
    "\n",
    "> Formula: $x_{new}=\\frac{(x-\\bar x)}{std(x)}$ \n",
    "\n",
    "- digunakan ketika tidak diketahui angka min dan max pastinya. misalnya temperature bisa dari kisaran -inf s.d +inf\n",
    "\n"
   ]
  },
  {
   "cell_type": "markdown",
   "id": "c0f63de9",
   "metadata": {},
   "source": [
    "🔻 Menormalisasi menjadi z-score:"
   ]
  },
  {
   "cell_type": "code",
   "execution_count": 282,
   "id": "d9e475d6",
   "metadata": {
    "execution": {
     "iopub.execute_input": "2024-01-09T07:17:47.241108Z",
     "iopub.status.busy": "2024-01-09T07:17:47.240105Z",
     "iopub.status.idle": "2024-01-09T07:17:47.258539Z",
     "shell.execute_reply": "2024-01-09T07:17:47.257537Z",
     "shell.execute_reply.started": "2024-01-09T07:17:47.241108Z"
    }
   },
   "outputs": [],
   "source": [
    "from sklearn.preprocessing import StandardScaler\n",
    "\n",
    "scaler = StandardScaler()"
   ]
  },
  {
   "cell_type": "code",
   "execution_count": 283,
   "id": "c2d23300",
   "metadata": {
    "execution": {
     "iopub.execute_input": "2024-01-09T07:17:48.004550Z",
     "iopub.status.busy": "2024-01-09T07:17:48.003539Z",
     "iopub.status.idle": "2024-01-09T07:17:48.025538Z",
     "shell.execute_reply": "2024-01-09T07:17:48.024538Z",
     "shell.execute_reply.started": "2024-01-09T07:17:48.004550Z"
    }
   },
   "outputs": [],
   "source": [
    "# subset kolom numerik\n",
    "cols = X_train.columns"
   ]
  },
  {
   "cell_type": "code",
   "execution_count": 284,
   "id": "775942cf",
   "metadata": {
    "execution": {
     "iopub.execute_input": "2024-01-09T07:17:48.889971Z",
     "iopub.status.busy": "2024-01-09T07:17:48.888991Z",
     "iopub.status.idle": "2024-01-09T07:17:48.906765Z",
     "shell.execute_reply": "2024-01-09T07:17:48.905756Z",
     "shell.execute_reply.started": "2024-01-09T07:17:48.889971Z"
    }
   },
   "outputs": [],
   "source": [
    "# transform\n",
    "scaler.fit(X_train)\n",
    "\n",
    "X_train_scale = scaler.transform(X_train)\n",
    "X_test_scale = scaler.transform(X_test)"
   ]
  },
  {
   "cell_type": "markdown",
   "id": "f9e003ac",
   "metadata": {},
   "source": [
    "Data prediktor discaling menggunakan z-score standarization. Data test juga harus discaling menggunakan parameter dari data train (karena menganggap data test adalah unseen data).\n",
    "\n",
    "Untuk data test:\n",
    "- diperlakukan sebagai data unseen\n",
    "- ketika ingin discaling prediktornya harus menggunakan informasi mean dan sd dari data train"
   ]
  },
  {
   "cell_type": "markdown",
   "id": "8c1aeafc",
   "metadata": {},
   "source": [
    "## Training Model\n",
    "\n",
    "Untuk membuat model K-NN, kita akan memanfaatkan library `KNeighborsClassifier` yang berada pada `sklearn.neighbors`. Tetapi sebelumnya kita harus menentukan dulu jumlah tetangga yang harus kita perhitungkan.\n",
    "\n",
    "### Choosing an appropriate *k*\n",
    "\n",
    "Berikut adalah intuisi dasar pemilihan nilai K optimal:\n",
    "\n",
    "- Jangan terlalu besar: pemilihan kelas hanya berdasarkan kelas yang dominan dan mengabaikan data kecil yang ternyata penting.\n",
    "- Jangan terlalu kecil: rentan mengklasifikasikan data baru ke kelas outlier.\n",
    "- Penentuan k optimum biasanya menggunakan akar dari jumlah data train kita: `sqrt(nrow(data))`"
   ]
  },
  {
   "cell_type": "code",
   "execution_count": 285,
   "id": "90307bd1",
   "metadata": {
    "execution": {
     "iopub.execute_input": "2024-01-09T07:17:52.828519Z",
     "iopub.status.busy": "2024-01-09T07:17:52.827524Z",
     "iopub.status.idle": "2024-01-09T07:17:52.834633Z",
     "shell.execute_reply": "2024-01-09T07:17:52.833523Z",
     "shell.execute_reply.started": "2024-01-09T07:17:52.828519Z"
    }
   },
   "outputs": [
    {
     "data": {
      "text/plain": [
       "122.06555615733703"
      ]
     },
     "execution_count": 285,
     "metadata": {},
     "output_type": "execute_result"
    }
   ],
   "source": [
    "math.sqrt(fraud_clean.shape[0])"
   ]
  },
  {
   "cell_type": "markdown",
   "id": "b1712e95",
   "metadata": {},
   "source": [
    "k-NN akan menghitung jumlah kelas pada tetangga terdekat suatu data dan kelas terbanyak inilah akan menjadi hasil klasifikasi data kita. Bila hasil majority voting seri, maka kelas akan dipilih secara random. Maka dari itu, untuk meminimalisir seri ketika majority voting:\n",
    "\n",
    "+ k harus ganjil bila jumlah kelas target genap\n",
    "+ k harus genap bila jumlah kelas target ganjil\n",
    "+ k tidak boleh angka kelipatan jumlah kelas target\n",
    "\n",
    "Nilai hasil perhitungan di atas perlu dibulatkan berdasarkan arahan ini. Mari kita gunakan nilainya pada pembuatan model k-NN."
   ]
  },
  {
   "cell_type": "code",
   "execution_count": 297,
   "id": "baa1c7ed",
   "metadata": {
    "execution": {
     "iopub.execute_input": "2024-01-09T08:16:11.950213Z",
     "iopub.status.busy": "2024-01-09T08:16:11.949213Z",
     "iopub.status.idle": "2024-01-09T08:16:11.986542Z",
     "shell.execute_reply": "2024-01-09T08:16:11.985533Z",
     "shell.execute_reply.started": "2024-01-09T08:16:11.950213Z"
    }
   },
   "outputs": [
    {
     "data": {
      "text/html": [
       "<style>#sk-container-id-8 {color: black;}#sk-container-id-8 pre{padding: 0;}#sk-container-id-8 div.sk-toggleable {background-color: white;}#sk-container-id-8 label.sk-toggleable__label {cursor: pointer;display: block;width: 100%;margin-bottom: 0;padding: 0.3em;box-sizing: border-box;text-align: center;}#sk-container-id-8 label.sk-toggleable__label-arrow:before {content: \"▸\";float: left;margin-right: 0.25em;color: #696969;}#sk-container-id-8 label.sk-toggleable__label-arrow:hover:before {color: black;}#sk-container-id-8 div.sk-estimator:hover label.sk-toggleable__label-arrow:before {color: black;}#sk-container-id-8 div.sk-toggleable__content {max-height: 0;max-width: 0;overflow: hidden;text-align: left;background-color: #f0f8ff;}#sk-container-id-8 div.sk-toggleable__content pre {margin: 0.2em;color: black;border-radius: 0.25em;background-color: #f0f8ff;}#sk-container-id-8 input.sk-toggleable__control:checked~div.sk-toggleable__content {max-height: 200px;max-width: 100%;overflow: auto;}#sk-container-id-8 input.sk-toggleable__control:checked~label.sk-toggleable__label-arrow:before {content: \"▾\";}#sk-container-id-8 div.sk-estimator input.sk-toggleable__control:checked~label.sk-toggleable__label {background-color: #d4ebff;}#sk-container-id-8 div.sk-label input.sk-toggleable__control:checked~label.sk-toggleable__label {background-color: #d4ebff;}#sk-container-id-8 input.sk-hidden--visually {border: 0;clip: rect(1px 1px 1px 1px);clip: rect(1px, 1px, 1px, 1px);height: 1px;margin: -1px;overflow: hidden;padding: 0;position: absolute;width: 1px;}#sk-container-id-8 div.sk-estimator {font-family: monospace;background-color: #f0f8ff;border: 1px dotted black;border-radius: 0.25em;box-sizing: border-box;margin-bottom: 0.5em;}#sk-container-id-8 div.sk-estimator:hover {background-color: #d4ebff;}#sk-container-id-8 div.sk-parallel-item::after {content: \"\";width: 100%;border-bottom: 1px solid gray;flex-grow: 1;}#sk-container-id-8 div.sk-label:hover label.sk-toggleable__label {background-color: #d4ebff;}#sk-container-id-8 div.sk-serial::before {content: \"\";position: absolute;border-left: 1px solid gray;box-sizing: border-box;top: 0;bottom: 0;left: 50%;z-index: 0;}#sk-container-id-8 div.sk-serial {display: flex;flex-direction: column;align-items: center;background-color: white;padding-right: 0.2em;padding-left: 0.2em;position: relative;}#sk-container-id-8 div.sk-item {position: relative;z-index: 1;}#sk-container-id-8 div.sk-parallel {display: flex;align-items: stretch;justify-content: center;background-color: white;position: relative;}#sk-container-id-8 div.sk-item::before, #sk-container-id-8 div.sk-parallel-item::before {content: \"\";position: absolute;border-left: 1px solid gray;box-sizing: border-box;top: 0;bottom: 0;left: 50%;z-index: -1;}#sk-container-id-8 div.sk-parallel-item {display: flex;flex-direction: column;z-index: 1;position: relative;background-color: white;}#sk-container-id-8 div.sk-parallel-item:first-child::after {align-self: flex-end;width: 50%;}#sk-container-id-8 div.sk-parallel-item:last-child::after {align-self: flex-start;width: 50%;}#sk-container-id-8 div.sk-parallel-item:only-child::after {width: 0;}#sk-container-id-8 div.sk-dashed-wrapped {border: 1px dashed gray;margin: 0 0.4em 0.5em 0.4em;box-sizing: border-box;padding-bottom: 0.4em;background-color: white;}#sk-container-id-8 div.sk-label label {font-family: monospace;font-weight: bold;display: inline-block;line-height: 1.2em;}#sk-container-id-8 div.sk-label-container {text-align: center;}#sk-container-id-8 div.sk-container {/* jupyter's `normalize.less` sets `[hidden] { display: none; }` but bootstrap.min.css set `[hidden] { display: none !important; }` so we also need the `!important` here to be able to override the default hidden behavior on the sphinx rendered scikit-learn.org. See: https://github.com/scikit-learn/scikit-learn/issues/21755 */display: inline-block !important;position: relative;}#sk-container-id-8 div.sk-text-repr-fallback {display: none;}</style><div id=\"sk-container-id-8\" class=\"sk-top-container\"><div class=\"sk-text-repr-fallback\"><pre>KNeighborsClassifier(n_neighbors=123)</pre><b>In a Jupyter environment, please rerun this cell to show the HTML representation or trust the notebook. <br />On GitHub, the HTML representation is unable to render, please try loading this page with nbviewer.org.</b></div><div class=\"sk-container\" hidden><div class=\"sk-item\"><div class=\"sk-estimator sk-toggleable\"><input class=\"sk-toggleable__control sk-hidden--visually\" id=\"sk-estimator-id-8\" type=\"checkbox\" checked><label for=\"sk-estimator-id-8\" class=\"sk-toggleable__label sk-toggleable__label-arrow\">KNeighborsClassifier</label><div class=\"sk-toggleable__content\"><pre>KNeighborsClassifier(n_neighbors=123)</pre></div></div></div></div></div>"
      ],
      "text/plain": [
       "KNeighborsClassifier(n_neighbors=123)"
      ]
     },
     "execution_count": 297,
     "metadata": {},
     "output_type": "execute_result"
    }
   ],
   "source": [
    "from sklearn.neighbors import KNeighborsClassifier\n",
    "\n",
    "model_knn = KNeighborsClassifier(n_neighbors=123)\n",
    "model_knn.fit(X_train_scale, y_train)"
   ]
  },
  {
   "cell_type": "markdown",
   "id": "7377982d",
   "metadata": {},
   "source": [
    "## Model prediction\n",
    "Sama seperti model sebelumnya, model yang sudah dipersiapkan untuk melakukan prediksi pada data test yang sudah dipersipakan dengan menggunakan fungsi `predict()`."
   ]
  },
  {
   "cell_type": "code",
   "execution_count": 298,
   "id": "1120b7d6",
   "metadata": {
    "ExecuteTime": {
     "end_time": "2023-01-11T02:06:24.943939Z",
     "start_time": "2023-01-11T02:06:24.932613Z"
    },
    "execution": {
     "iopub.execute_input": "2024-01-09T08:16:13.873988Z",
     "iopub.status.busy": "2024-01-09T08:16:13.872980Z",
     "iopub.status.idle": "2024-01-09T08:16:14.112486Z",
     "shell.execute_reply": "2024-01-09T08:16:14.111488Z",
     "shell.execute_reply.started": "2024-01-09T08:16:13.873988Z"
    }
   },
   "outputs": [],
   "source": [
    "knn_pred = model_knn.predict(X_test_scale)"
   ]
  },
  {
   "cell_type": "markdown",
   "id": "56c430b5",
   "metadata": {},
   "source": [
    "### Model Evaluation"
   ]
  },
  {
   "cell_type": "code",
   "execution_count": 299,
   "id": "77b82521",
   "metadata": {
    "execution": {
     "iopub.execute_input": "2024-01-09T08:16:15.591071Z",
     "iopub.status.busy": "2024-01-09T08:16:15.590073Z",
     "iopub.status.idle": "2024-01-09T08:16:15.610990Z",
     "shell.execute_reply": "2024-01-09T08:16:15.609990Z",
     "shell.execute_reply.started": "2024-01-09T08:16:15.591071Z"
    }
   },
   "outputs": [
    {
     "name": "stdout",
     "output_type": "stream",
     "text": [
      "Accuracy score: 0.8889261744966444\n",
      "Recall score: 0.026706231454005934\n",
      "Precision score: 0.75\n"
     ]
    }
   ],
   "source": [
    "# Hasil evaluasi KNN\n",
    "print(f'Accuracy score: {accuracy_score(y_test, knn_pred)}')\n",
    "print(f'Recall score: {recall_score(y_test, knn_pred)}')\n",
    "print(f'Precision score: {precision_score(y_test, knn_pred)}')"
   ]
  },
  {
   "cell_type": "markdown",
   "id": "82c6d2e7",
   "metadata": {},
   "source": [
    "# Logistic Regression & k-NN Comparation"
   ]
  },
  {
   "cell_type": "markdown",
   "id": "55d5969f",
   "metadata": {},
   "source": [
    "![](assets/Karakter.png)"
   ]
  },
  {
   "cell_type": "markdown",
   "id": "1964a30f",
   "metadata": {},
   "source": [
    "# Glossary & Additional Information"
   ]
  },
  {
   "cell_type": "markdown",
   "id": "408de6d4",
   "metadata": {},
   "source": [
    "<details>\n",
    "    <summary>Click once on <font color=\"red\"><b>this text</b></font> to hide/unhide additional information in Summary</summary>\n",
    "    \n",
    "**[Optional] Other Information in Summary**\n",
    "\n",
    "1. Tabel 1, sisi kiri menyimpan informasi dasar dari model\n",
    "\n",
    "| Variable | Description | \n",
    "| :--- | :--- | \n",
    "| Dep. Variable  | Dependent variable atau target variabel (Y) | \n",
    "| Model | Model logistic regression| \n",
    "| Method | Metode yang digunakan untuk membuat model logistic regression: Maximum Likelihood Estimator | \n",
    "| No. Observations| Jumlah observasi (baris) yang digunakan ketika membuat model regresi linier | \n",
    "| DF Residuals | Degrees of freedom error/residual (jumlah observasi/baris - parameter) |\n",
    "| DF Model  | Degrees of freedom model (jumlah prediktor) | \n",
    "| Covariance type | tipe nonrobust berarti tidak ada penghapusan data untuk menghitung kovarian antar fitur. Kovarian menunjukkan bagaimana dua variabel bergerak terhadap satu sama lain (+ atau -, tidak menghitung kekuatannya) | \n",
    "    \n",
    "    \n",
    "<br> \n",
    "<br>  \n",
    "\n",
    "2. Tabel 1, sisi kanan menyimpan informasi kebaikan model\n",
    "\n",
    "| Variable | Description | \n",
    "| :--- | :--- | \n",
    "| Pseudo R-squared  | Goodness of fit. Rasio dari log-likelihood null model dibandingkan dengan full model. | \n",
    "| Log-likelihood  | [Conditional probability](https://en.wikipedia.org/wiki/Conditional_probability) bahwa data yang digunakan cocok/fit dengan model. Semakin besar, semakin fit model terhadap datanya. range -inf - +inf  |\n",
    "| LL-Null | nilai dari log-likelihood model tanpa prediktor (intercept saja) | \n",
    "| LLR p-value   | nilai p -value dari apakah model yang kita buat lebih baik daripada model tanpa prediktor (intercept saja)| \n",
    "\n",
    "\n",
    "<br> \n",
    "<br> \n",
    "\n",
    "3. Tabel 2 menyimpan informasi dari koefisien regresi\n",
    "\n",
    "| Variable | Description | \n",
    "| :--- | :--- | \n",
    "| **coef**   | Estimasi koefisien | \n",
    "| std err | Estimasi selisih nilai sampel terhadap populasi | \n",
    "| z | Statistik hitung dari z-test (uji parsial) | \n",
    "|**P > \\|z\\|**  | P-value dari z-test | \n",
    "| [95.0% Conf. Interval]  | Confidence Interval (CI) 95%. |\n",
    "\n",
    "    \n",
    "In statistics, maximum likelihood estimation (MLE) is a method of estimating the parameters of an assumed probability distribution, given some observed data. This is achieved by maximizing a likelihood function so that, under the assumed statistical model, the observed data is most probable.\n",
    "    \n",
    "<br> \n",
    "<br> \n",
    "    \n",
    "    \n",
    "    \n",
    "Recall from Practical Statistic:\n",
    "    \n",
    "* $\\alpha$:\n",
    "  + tingkat signifikansi / tingkat error\n",
    "  + umumnya 0.05\n",
    "* $1-\\alpha$: tingkat kepercayaan (misal alpha 0.05, maka kita akan percaya terhadap hasil analisis sebesar 95%)\n",
    "* $p-value$:\n",
    "  + akan dibandingkan dengan alpha untuk untuk mengambil keputusan\n",
    "  + peluang data sampel berada pada bagian sangat ekstrim/berbeda signifikan dengan keadaan normal.\n",
    "  \n",
    "Pengambilan keputusan:\n",
    "\n",
    "* Jika $p-value$ < $\\alpha$, maka tolak $H_0$ / terima $H_1$\n",
    "* Jika $p-value$ > $\\alpha$, maka gagal tolak / terima $H_0$\n",
    "    \n",
    "</details>"
   ]
  }
 ],
 "metadata": {
  "kernelspec": {
   "display_name": "Python 3 (ipykernel)",
   "language": "python",
   "name": "python3"
  },
  "language_info": {
   "codemirror_mode": {
    "name": "ipython",
    "version": 3
   },
   "file_extension": ".py",
   "mimetype": "text/x-python",
   "name": "python",
   "nbconvert_exporter": "python",
   "pygments_lexer": "ipython3",
   "version": "3.8.18"
  },
  "toc": {
   "base_numbering": 1,
   "nav_menu": {},
   "number_sections": false,
   "sideBar": true,
   "skip_h1_title": false,
   "title_cell": "Table of Contents",
   "title_sidebar": "Contents",
   "toc_cell": false,
   "toc_position": {},
   "toc_section_display": true,
   "toc_window_display": false
  },
  "varInspector": {
   "cols": {
    "lenName": 16,
    "lenType": 16,
    "lenVar": 40
   },
   "kernels_config": {
    "python": {
     "delete_cmd_postfix": "",
     "delete_cmd_prefix": "del ",
     "library": "var_list.py",
     "varRefreshCmd": "print(var_dic_list())"
    },
    "r": {
     "delete_cmd_postfix": ") ",
     "delete_cmd_prefix": "rm(",
     "library": "var_list.r",
     "varRefreshCmd": "cat(var_dic_list()) "
    }
   },
   "types_to_exclude": [
    "module",
    "function",
    "builtin_function_or_method",
    "instance",
    "_Feature"
   ],
   "window_display": false
  }
 },
 "nbformat": 4,
 "nbformat_minor": 5
}
