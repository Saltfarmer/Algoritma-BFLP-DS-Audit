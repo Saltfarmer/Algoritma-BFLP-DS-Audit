{
 "cells": [
  {
   "cell_type": "markdown",
   "metadata": {},
   "source": [
    "# **Dive Deeper: Unsupervised Learning**\n",
    "\n",
    "- Bagian 6 Audit Analytics untuk Bank Rakyat Indonesia\n",
    "- *Last Updated*: December 2023\n",
    "\n",
    "___\n",
    "\n"
   ]
  },
  {
   "cell_type": "markdown",
   "metadata": {},
   "source": [
    "# Import Library"
   ]
  },
  {
   "cell_type": "code",
   "execution_count": 1,
   "metadata": {
    "execution": {
     "iopub.execute_input": "2023-12-22T07:49:32.887059Z",
     "iopub.status.busy": "2023-12-22T07:49:32.886702Z",
     "iopub.status.idle": "2023-12-22T07:49:32.901092Z",
     "shell.execute_reply": "2023-12-22T07:49:32.899907Z",
     "shell.execute_reply.started": "2023-12-22T07:49:32.887026Z"
    }
   },
   "outputs": [],
   "source": [
    "# Menyembunyikan Peringatan\n",
    "import warnings\n",
    "warnings.filterwarnings(\"ignore\")\n",
    "warnings.simplefilter(action='ignore', category=FutureWarning)\n",
    "\n",
    "# Komputasi Matematika dan Array\n",
    "import math\n",
    "import numpy as np\n",
    "\n",
    "# Persiapan Data\n",
    "import pandas as pd\n",
    "\n",
    "# Visualisasi Data\n",
    "import matplotlib.pyplot as plt\n",
    "import seaborn as sns\n",
    "import plotly.express as px\n",
    "import plotly.graph_objects as go\n",
    "\n",
    "# Paket Machine Learning\n",
    "import scipy.stats as stats\n",
    "from scipy.stats import norm, skew\n",
    "from sklearn.preprocessing import StandardScaler\n",
    "from sklearn.decomposition import PCA\n",
    "from pyod.models.lof import LOF\n",
    "\n",
    "# Paket Lainnya\n",
    "from numpy.linalg import eig\n",
    "from helper import biplot_pca\n",
    "plt.style.use('seaborn-v0_8-whitegrid')\n"
   ]
  },
  {
   "cell_type": "markdown",
   "metadata": {},
   "source": [
    "---\n"
   ]
  },
  {
   "cell_type": "markdown",
   "metadata": {},
   "source": [
    "# TASK:\n",
    "\n",
    "Dalam tugas kali ini, anda dapat melakukan anomaly detection berdasarkan alur yang telah dipelajari di kelas dengan menggunakan dataset [berikut](https://www.kaggle.com/ealaxi/paysim1). \n",
    "\n",
    "Dataset ini merupakan dataset sintetik yang dihasilkan menggunakan simulator bernama PaySim. Dataset berisi transaksi keuangan dengan observasi penipuan. PaySim mensimulasikan transaksi uang seluler berdasarkan sampel transaksi asli yang diambil dari catatan keuangan satu bulan dari layanan uang seluler yang diterapkan di negara Afrika. Log asli disediakan oleh perusahaan multinasional, penyedia layanan keuangan seluler, yang saat ini beroperasi di lebih dari 14 negara di seluruh dunia."
   ]
  },
  {
   "cell_type": "markdown",
   "metadata": {},
   "source": [
    "# Step-by-Step: PCA Analysis\n",
    "\n",
    "\n",
    "\n",
    "\n",
    "langkah-langkah ini, kita akan melakukan analisis Principal Component Analysis (PCA), termasuk proses hingga pembuatan dataframe baru dari hasil komponen utama (Principal Components)."
   ]
  },
  {
   "cell_type": "code",
   "execution_count": 8,
   "metadata": {
    "execution": {
     "iopub.execute_input": "2023-12-22T09:11:06.592751Z",
     "iopub.status.busy": "2023-12-22T09:11:06.591856Z",
     "iopub.status.idle": "2023-12-22T09:11:07.020294Z",
     "shell.execute_reply": "2023-12-22T09:11:07.019292Z",
     "shell.execute_reply.started": "2023-12-22T09:11:06.592710Z"
    }
   },
   "outputs": [
    {
     "data": {
      "text/html": [
       "<div>\n",
       "<style scoped>\n",
       "    .dataframe tbody tr th:only-of-type {\n",
       "        vertical-align: middle;\n",
       "    }\n",
       "\n",
       "    .dataframe tbody tr th {\n",
       "        vertical-align: top;\n",
       "    }\n",
       "\n",
       "    .dataframe thead th {\n",
       "        text-align: right;\n",
       "    }\n",
       "</style>\n",
       "<table border=\"1\" class=\"dataframe\">\n",
       "  <thead>\n",
       "    <tr style=\"text-align: right;\">\n",
       "      <th></th>\n",
       "      <th>step</th>\n",
       "      <th>type</th>\n",
       "      <th>amount</th>\n",
       "      <th>nameOrig</th>\n",
       "      <th>oldbalanceOrg</th>\n",
       "      <th>newbalanceOrig</th>\n",
       "      <th>nameDest</th>\n",
       "      <th>oldbalanceDest</th>\n",
       "      <th>newbalanceDest</th>\n",
       "      <th>isFraud</th>\n",
       "      <th>isFlaggedFraud</th>\n",
       "    </tr>\n",
       "  </thead>\n",
       "  <tbody>\n",
       "    <tr>\n",
       "      <th>0</th>\n",
       "      <td>398</td>\n",
       "      <td>CASH_OUT</td>\n",
       "      <td>229428.85</td>\n",
       "      <td>C1722971247</td>\n",
       "      <td>0.00</td>\n",
       "      <td>0.0</td>\n",
       "      <td>C992110216</td>\n",
       "      <td>1226936.33</td>\n",
       "      <td>1456365.17</td>\n",
       "      <td>0</td>\n",
       "      <td>0</td>\n",
       "    </tr>\n",
       "    <tr>\n",
       "      <th>1</th>\n",
       "      <td>355</td>\n",
       "      <td>CASH_OUT</td>\n",
       "      <td>65031.88</td>\n",
       "      <td>C353283462</td>\n",
       "      <td>0.00</td>\n",
       "      <td>0.0</td>\n",
       "      <td>C757039269</td>\n",
       "      <td>118417.06</td>\n",
       "      <td>183448.94</td>\n",
       "      <td>0</td>\n",
       "      <td>0</td>\n",
       "    </tr>\n",
       "    <tr>\n",
       "      <th>2</th>\n",
       "      <td>95</td>\n",
       "      <td>TRANSFER</td>\n",
       "      <td>8775594.43</td>\n",
       "      <td>C1917836086</td>\n",
       "      <td>8775594.43</td>\n",
       "      <td>0.0</td>\n",
       "      <td>C1694421805</td>\n",
       "      <td>0.00</td>\n",
       "      <td>0.00</td>\n",
       "      <td>1</td>\n",
       "      <td>0</td>\n",
       "    </tr>\n",
       "    <tr>\n",
       "      <th>3</th>\n",
       "      <td>239</td>\n",
       "      <td>TRANSFER</td>\n",
       "      <td>495991.64</td>\n",
       "      <td>C1628056782</td>\n",
       "      <td>495991.64</td>\n",
       "      <td>0.0</td>\n",
       "      <td>C913892512</td>\n",
       "      <td>0.00</td>\n",
       "      <td>0.00</td>\n",
       "      <td>1</td>\n",
       "      <td>0</td>\n",
       "    </tr>\n",
       "    <tr>\n",
       "      <th>4</th>\n",
       "      <td>498</td>\n",
       "      <td>CASH_OUT</td>\n",
       "      <td>207261.07</td>\n",
       "      <td>C1856398520</td>\n",
       "      <td>207261.07</td>\n",
       "      <td>0.0</td>\n",
       "      <td>C1898820013</td>\n",
       "      <td>48221.70</td>\n",
       "      <td>255482.77</td>\n",
       "      <td>1</td>\n",
       "      <td>0</td>\n",
       "    </tr>\n",
       "  </tbody>\n",
       "</table>\n",
       "</div>"
      ],
      "text/plain": [
       "   step      type      amount     nameOrig  oldbalanceOrg  newbalanceOrig  \\\n",
       "0   398  CASH_OUT   229428.85  C1722971247           0.00             0.0   \n",
       "1   355  CASH_OUT    65031.88   C353283462           0.00             0.0   \n",
       "2    95  TRANSFER  8775594.43  C1917836086     8775594.43             0.0   \n",
       "3   239  TRANSFER   495991.64  C1628056782      495991.64             0.0   \n",
       "4   498  CASH_OUT   207261.07  C1856398520      207261.07             0.0   \n",
       "\n",
       "      nameDest  oldbalanceDest  newbalanceDest  isFraud  isFlaggedFraud  \n",
       "0   C992110216      1226936.33      1456365.17        0               0  \n",
       "1   C757039269       118417.06       183448.94        0               0  \n",
       "2  C1694421805            0.00            0.00        1               0  \n",
       "3   C913892512            0.00            0.00        1               0  \n",
       "4  C1898820013        48221.70       255482.77        1               0  "
      ]
     },
     "execution_count": 8,
     "metadata": {},
     "output_type": "execute_result"
    }
   ],
   "source": [
    "# read dataset\n",
    "\n",
    "credit_raw = pd.read_csv('data_input/fraud.csv')\n",
    "credit_raw.head()"
   ]
  },
  {
   "cell_type": "markdown",
   "metadata": {},
   "source": [
    "**Rangkuman Dataset:**\n",
    "\n",
    "Setiap fitur dari data dijelaskan sebagai berikut:\n",
    "\n",
    "1. **step**: Mewakili satuan waktu dalam real world. Dalam hal ini, 1 langkah setara dengan 1 jam waktu. Total langkah adalah 744 (simulasi selama 30 hari).\n",
    "\n",
    "2. **type**: Jenis transaksi, [CASH-IN, CASH-OUT, DEBIT, PAYMENT, dan TRANSFER].\n",
    "\n",
    "3. **amount**: Jumlah transaksi dalam mata uang lokal.\n",
    "\n",
    "4. **nameOrig**: Pelanggan yang memulai transaksi.\n",
    "\n",
    "5. **oldbalanceOrg**: Saldo awal sebelum transaksi dilakukan.\n",
    "\n",
    "6. **newbalanceOrig**: Saldo baru pelanggan pemulai setelah transaksi.\n",
    "\n",
    "7. **nameDest**: Pelanggan yang menjadi penerima transaksi.\n",
    "\n",
    "8. **oldbalanceDest**: Saldo awal penerima sebelum transaksi dilakukan.\n",
    "\n",
    "9. **newbalanceDest**: Saldo baru penerima setelah transaksi.\n",
    "\n",
    "10. **isFraud**: Ini adalah transaksi yang dilakukan oleh agen penipu di dalam simulasi. Dalam kumpulan data khusus ini, perilaku penipuan agen bertujuan untuk mendapatkan keuntungan dengan mengambil kendali atau rekening pelanggan dan mencoba mengosongkan dana dengan mentransfer ke rekening lain dan kemudian menguangkannya dari sistem.\n",
    "\n",
    "11. **isFlaggedFraud**: Model bisnis ini bertujuan untuk mengontrol transfer besar-besaran dari satu akun ke akun lainnya dan menandai upaya ilegal. Upaya ilegal dalam kumpulan data ini adalah upaya mentransfer lebih dari 200.000 dalam satu transaksi.\n",
    "\n",
    "Sebelum melanjutkan dengan algoritma, beberapa langkah pembersihan data perlu dilakukan. Pertama, kita perlu mengubah jenis variabel yang salah. Di sini, variabel \"type\" perlu diubah menjadi faktor. Kita juga perlu menghapus variabel \"nameOrig\" dan \"nameDest\" karena mengandung banyak nilai unik."
   ]
  },
  {
   "cell_type": "markdown",
   "metadata": {},
   "source": [
    "---\n",
    "\n",
    "## Exploratory Data Analysis"
   ]
  },
  {
   "cell_type": "markdown",
   "metadata": {},
   "source": [
    "1. Silahkan lakukan tahapan EDA dataset\n",
    "2. Lakukan analisis dari dataset tersebut"
   ]
  },
  {
   "cell_type": "markdown",
   "metadata": {},
   "source": [
    "## Data Preprocessing"
   ]
  },
  {
   "cell_type": "markdown",
   "metadata": {},
   "source": [
    "**1.  Check Missing Values**"
   ]
  },
  {
   "cell_type": "markdown",
   "metadata": {},
   "source": [
    "**2. Cek Duplikat Data**"
   ]
  },
  {
   "cell_type": "markdown",
   "metadata": {},
   "source": [
    "**3. Feature Selection**"
   ]
  },
  {
   "cell_type": "markdown",
   "metadata": {},
   "source": [
    "**4. Data wrangling**"
   ]
  },
  {
   "cell_type": "markdown",
   "metadata": {},
   "source": [
    "**5. Ambil variabel dataset numerik**"
   ]
  },
  {
   "cell_type": "markdown",
   "metadata": {},
   "source": [
    "![Number of Transaction Based on Type](newplot.png)"
   ]
  },
  {
   "cell_type": "markdown",
   "metadata": {},
   "source": [
    "Plot diatas hanya menampilkan jumlah transaksi berdasarkan tipe nya dari dataset diatas. Mayoritas transaksi berasal dari Cash out, dengan lebih dari dua juta transaksi. Transaksi berikut adalah Pembayaran, Tunai dan Debit. \n",
    "\n",
    "Kita juga bisa memvisualisasikan sebaran transaksi penipuan berdasarkan jenis.\n",
    "\n",
    "Untuk melakukan explor lebih jauh, coba lakukan pengecekan jenis transaksi apa saja yang banyak transaksi fraud nya."
   ]
  },
  {
   "cell_type": "code",
   "execution_count": null,
   "metadata": {},
   "outputs": [],
   "source": [
    "## Contoh kode\n",
    "\n",
    "# # Menghitung total transaksi penipuan berdasarkan jenis transaksi \n",
    "# total_fraud = df[df['isFraud'] == 1].groupby('type').size().reset_index(name='count').sort_values(by='count', ascending=False)"
   ]
  },
  {
   "cell_type": "markdown",
   "metadata": {},
   "source": [
    "Setelah mengatahui, untuk alur selanjutnya silahkan gunakan dataset yang sudah terfilter tersebut (berdasarkan 2 jenis transaksi terbesar)"
   ]
  },
  {
   "cell_type": "code",
   "execution_count": null,
   "metadata": {},
   "outputs": [],
   "source": [
    "# code here\n",
    "\n"
   ]
  },
  {
   "cell_type": "markdown",
   "metadata": {},
   "source": [
    "**6. Data Scaling**\n",
    "\n",
    "**Visualisasi Plot Skewness:**\n",
    "\n",
    "Sebelum melakukan scaling data, kita pertama-tama mengevaluasi skewness dari kolom-kolom numerik dalam dataset."
   ]
  },
  {
   "cell_type": "code",
   "execution_count": null,
   "metadata": {},
   "outputs": [],
   "source": [
    "# code here\n",
    "\n"
   ]
  },
  {
   "cell_type": "markdown",
   "metadata": {},
   "source": [
    "**Melakukan scaling data**\n",
    "\n",
    "Setelah memahami skewness data, kita dapat melanjutkan dengan tahap kedua, yaitu melakukan scaling data menggunakan z-score normalization. Hal ini dilakukan untuk menghilangkan penyimpangan skewness dan memastikan distribusi data mendekati distribusi normal standar. Rangkuman kalimat untuk tahap kedua dapat mencakup proses scaling data menggunakan z-score normalization untuk memastikan konsistensi dalam rentang nilai dan meningkatkan keterbacaan model."
   ]
  },
  {
   "cell_type": "code",
   "execution_count": 38,
   "metadata": {},
   "outputs": [],
   "source": [
    "# code here\n"
   ]
  },
  {
   "cell_type": "markdown",
   "metadata": {},
   "source": [
    "### Aplikasi PCA: Reduksi Dimensi pada Data credit\n",
    "\n",
    "Pertama, mari kita lihat matriks kovariansi dari dataset yang sudah di scaled:"
   ]
  },
  {
   "cell_type": "markdown",
   "metadata": {},
   "source": [
    "**7. Cek korelasi data**"
   ]
  },
  {
   "cell_type": "code",
   "execution_count": null,
   "metadata": {
    "execution": {
     "iopub.execute_input": "2023-12-22T09:00:09.720737Z",
     "iopub.status.busy": "2023-12-22T09:00:09.719662Z",
     "iopub.status.idle": "2023-12-22T09:00:09.756372Z",
     "shell.execute_reply": "2023-12-22T09:00:09.755219Z",
     "shell.execute_reply.started": "2023-12-22T09:00:09.720696Z"
    }
   },
   "outputs": [],
   "source": [
    "# code here\n"
   ]
  },
  {
   "cell_type": "markdown",
   "metadata": {},
   "source": [
    "### Principal Component Analysis menggunakan library [sklearn](https://scikit-learn.org/stable/modules/generated/sklearn.decomposition.PCA.html)"
   ]
  },
  {
   "cell_type": "markdown",
   "metadata": {},
   "source": [
    "Setelah melakukan scaling, kita dapat menerapkan PCA pada data yang telah diubah skala, seperti yang ditunjukkan dalam kode berikut: "
   ]
  },
  {
   "cell_type": "code",
   "execution_count": null,
   "metadata": {
    "execution": {
     "iopub.execute_input": "2023-12-22T09:50:06.051752Z",
     "iopub.status.busy": "2023-12-22T09:50:06.051353Z",
     "iopub.status.idle": "2023-12-22T09:50:06.126846Z",
     "shell.execute_reply": "2023-12-22T09:50:06.125604Z",
     "shell.execute_reply.started": "2023-12-22T09:50:06.051717Z"
    }
   },
   "outputs": [],
   "source": [
    "# membuat model PCA\n",
    "\n"
   ]
  },
  {
   "cell_type": "markdown",
   "metadata": {},
   "source": [
    "## Visualisasi PCA"
   ]
  },
  {
   "cell_type": "markdown",
   "metadata": {},
   "source": [
    "1. Silahkan buat visualisasi\n",
    "2. cek variable important"
   ]
  },
  {
   "cell_type": "code",
   "execution_count": 2,
   "metadata": {},
   "outputs": [],
   "source": [
    "# code here\n",
    "\n"
   ]
  },
  {
   "cell_type": "markdown",
   "metadata": {},
   "source": [
    "# Studi Kasus Local Outlier Factor (LOF): Deteksi Anomali dengan Menggunakan Library PyOD"
   ]
  },
  {
   "cell_type": "markdown",
   "metadata": {},
   "source": [
    "# Local Outlier Factor"
   ]
  },
  {
   "cell_type": "markdown",
   "metadata": {},
   "source": [
    "PyOD LOF Documentation. https://pyod.readthedocs.io/en/latest/pyod.models.html#module-pyod.models.lof"
   ]
  },
  {
   "cell_type": "markdown",
   "metadata": {},
   "source": [
    "## Membuat Model LOF\n"
   ]
  },
  {
   "cell_type": "code",
   "execution_count": 3,
   "metadata": {},
   "outputs": [],
   "source": [
    "# Menggunakan LOF dari PyOD (Python Outlier Detection)\n",
    "\n"
   ]
  },
  {
   "cell_type": "markdown",
   "metadata": {},
   "source": [
    "**Cek jumlah antara LOF 0 (normal) dan LOF 1 (anomali)**"
   ]
  },
  {
   "cell_type": "code",
   "execution_count": 85,
   "metadata": {},
   "outputs": [
    {
     "name": "stdout",
     "output_type": "stream",
     "text": [
      "Label Counts: {0: 45000, 1: 5000}\n"
     ]
    }
   ],
   "source": [
    "# code here\n",
    "\n"
   ]
  },
  {
   "cell_type": "code",
   "execution_count": 4,
   "metadata": {},
   "outputs": [],
   "source": [
    "# Menghitung nilai LOF\n",
    "\n",
    "lof_scores = ...\n",
    "\n",
    "# Menampilkan distribusi nilai LOF\n",
    "\n",
    "\n"
   ]
  },
  {
   "cell_type": "markdown",
   "metadata": {},
   "source": [
    "## Cek Index Anomali"
   ]
  },
  {
   "cell_type": "code",
   "execution_count": null,
   "metadata": {},
   "outputs": [],
   "source": [
    "# cek index yang dideteksi merupakan anomali\n"
   ]
  },
  {
   "cell_type": "markdown",
   "metadata": {},
   "source": [
    "## Visualisasi Plot LOF"
   ]
  },
  {
   "cell_type": "code",
   "execution_count": 5,
   "metadata": {
    "scrolled": true
   },
   "outputs": [],
   "source": [
    "# menampilkan plot anomali\n",
    "\n",
    "\n"
   ]
  },
  {
   "cell_type": "markdown",
   "metadata": {},
   "source": [
    "### Cek Index Anomali"
   ]
  },
  {
   "cell_type": "markdown",
   "metadata": {},
   "source": [
    "**Interpretasi hasilnya dapat dilakukan sebagai berikut:**\n",
    "\n",
    "...\n",
    "\n",
    "..\n",
    "\n",
    ".\n"
   ]
  }
 ],
 "metadata": {
  "kaggle": {
   "accelerator": "none",
   "dataSources": [
    {
     "datasetId": 2673949,
     "sourceId": 7082010,
     "sourceType": "datasetVersion"
    },
    {
     "datasetId": 4206434,
     "sourceId": 7258658,
     "sourceType": "datasetVersion"
    }
   ],
   "dockerImageVersionId": 30458,
   "isGpuEnabled": false,
   "isInternetEnabled": true,
   "language": "python",
   "sourceType": "notebook"
  },
  "kernelspec": {
   "display_name": "bri_audit",
   "language": "python",
   "name": "python3"
  },
  "language_info": {
   "codemirror_mode": {
    "name": "ipython",
    "version": 3
   },
   "file_extension": ".py",
   "mimetype": "text/x-python",
   "name": "python",
   "nbconvert_exporter": "python",
   "pygments_lexer": "ipython3",
   "version": "3.11.5"
  }
 },
 "nbformat": 4,
 "nbformat_minor": 4
}
