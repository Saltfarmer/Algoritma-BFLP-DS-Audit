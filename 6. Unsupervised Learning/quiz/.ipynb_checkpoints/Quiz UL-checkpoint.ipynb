{
 "cells": [
  {
   "cell_type": "markdown",
   "metadata": {},
   "source": [
    "# Quiz Unsupervised Learning "
   ]
  },
  {
   "cell_type": "markdown",
   "metadata": {},
   "source": [
    "**Import Library**"
   ]
  },
  {
   "cell_type": "code",
   "execution_count": 29,
   "metadata": {
    "ExecuteTime": {
     "end_time": "2021-10-05T10:01:12.065633Z",
     "start_time": "2021-10-05T10:01:12.045852Z"
    },
    "execution": {
     "iopub.execute_input": "2024-01-10T09:25:37.128591Z",
     "iopub.status.busy": "2024-01-10T09:25:37.127588Z",
     "iopub.status.idle": "2024-01-10T09:25:37.146714Z",
     "shell.execute_reply": "2024-01-10T09:25:37.145712Z",
     "shell.execute_reply.started": "2024-01-10T09:25:37.128591Z"
    }
   },
   "outputs": [
    {
     "name": "stderr",
     "output_type": "stream",
     "text": [
      "C:\\Users\\SaltFarmer\\AppData\\Local\\Temp\\ipykernel_3896\\1722899984.py:18: MatplotlibDeprecationWarning: The seaborn styles shipped by Matplotlib are deprecated since 3.6, as they no longer correspond to the styles shipped by seaborn. However, they will remain available as 'seaborn-v0_8-<style>'. Alternatively, directly use the seaborn API instead.\n",
      "  plt.style.use('seaborn')\n"
     ]
    }
   ],
   "source": [
    "import pandas as pd \n",
    "import numpy as np\n",
    "import matplotlib.pyplot as plt\n",
    "from numpy.linalg import eig\n",
    "from pylab import rcParams\n",
    "from sklearn.preprocessing import StandardScaler\n",
    "from sklearn.decomposition import PCA\n",
    "from sklearn.cluster import KMeans\n",
    "from sklearn.metrics import silhouette_score\n",
    "import matplotlib.pyplot as plt\n",
    "import matplotlib.cm as cm\n",
    "import matplotlib.colors as colors\n",
    "import importlib\n",
    "import warnings\n",
    "warnings.simplefilter(action='ignore', category=FutureWarning)\n",
    "from helper import biplot_pca, plot_elbow, biplot_kmeans, plot_cluster_radar\n",
    "\n",
    "plt.style.use('seaborn')"
   ]
  },
  {
   "cell_type": "markdown",
   "metadata": {},
   "source": [
    "**Read Data**\n",
    "\n",
    "Data sudah tersedia pada folder `data/usarrest.csv` "
   ]
  },
  {
   "cell_type": "code",
   "execution_count": 2,
   "metadata": {
    "execution": {
     "iopub.execute_input": "2024-01-10T09:00:37.072984Z",
     "iopub.status.busy": "2024-01-10T09:00:37.072984Z",
     "iopub.status.idle": "2024-01-10T09:00:37.109985Z",
     "shell.execute_reply": "2024-01-10T09:00:37.108983Z",
     "shell.execute_reply.started": "2024-01-10T09:00:37.072984Z"
    }
   },
   "outputs": [
    {
     "data": {
      "text/html": [
       "<div>\n",
       "<style scoped>\n",
       "    .dataframe tbody tr th:only-of-type {\n",
       "        vertical-align: middle;\n",
       "    }\n",
       "\n",
       "    .dataframe tbody tr th {\n",
       "        vertical-align: top;\n",
       "    }\n",
       "\n",
       "    .dataframe thead th {\n",
       "        text-align: right;\n",
       "    }\n",
       "</style>\n",
       "<table border=\"1\" class=\"dataframe\">\n",
       "  <thead>\n",
       "    <tr style=\"text-align: right;\">\n",
       "      <th></th>\n",
       "      <th>region</th>\n",
       "      <th>Murder</th>\n",
       "      <th>Assault</th>\n",
       "      <th>UrbanPop</th>\n",
       "      <th>Rape</th>\n",
       "    </tr>\n",
       "  </thead>\n",
       "  <tbody>\n",
       "    <tr>\n",
       "      <th>0</th>\n",
       "      <td>Alabama</td>\n",
       "      <td>13.2</td>\n",
       "      <td>236</td>\n",
       "      <td>58</td>\n",
       "      <td>21.2</td>\n",
       "    </tr>\n",
       "    <tr>\n",
       "      <th>1</th>\n",
       "      <td>Alaska</td>\n",
       "      <td>10.0</td>\n",
       "      <td>263</td>\n",
       "      <td>48</td>\n",
       "      <td>44.5</td>\n",
       "    </tr>\n",
       "    <tr>\n",
       "      <th>2</th>\n",
       "      <td>Arizona</td>\n",
       "      <td>8.1</td>\n",
       "      <td>294</td>\n",
       "      <td>80</td>\n",
       "      <td>31.0</td>\n",
       "    </tr>\n",
       "    <tr>\n",
       "      <th>3</th>\n",
       "      <td>Arkansas</td>\n",
       "      <td>8.8</td>\n",
       "      <td>190</td>\n",
       "      <td>50</td>\n",
       "      <td>19.5</td>\n",
       "    </tr>\n",
       "    <tr>\n",
       "      <th>4</th>\n",
       "      <td>California</td>\n",
       "      <td>9.0</td>\n",
       "      <td>276</td>\n",
       "      <td>91</td>\n",
       "      <td>40.6</td>\n",
       "    </tr>\n",
       "  </tbody>\n",
       "</table>\n",
       "</div>"
      ],
      "text/plain": [
       "       region  Murder  Assault  UrbanPop  Rape\n",
       "0     Alabama    13.2      236        58  21.2\n",
       "1      Alaska    10.0      263        48  44.5\n",
       "2     Arizona     8.1      294        80  31.0\n",
       "3    Arkansas     8.8      190        50  19.5\n",
       "4  California     9.0      276        91  40.6"
      ]
     },
     "execution_count": 2,
     "metadata": {},
     "output_type": "execute_result"
    }
   ],
   "source": [
    "## Code here\n",
    "df = pd.read_csv('data/usarrest.csv')\n",
    "df.head()"
   ]
  },
  {
   "cell_type": "code",
   "execution_count": 3,
   "metadata": {
    "execution": {
     "iopub.execute_input": "2024-01-10T09:00:58.911290Z",
     "iopub.status.busy": "2024-01-10T09:00:58.910294Z",
     "iopub.status.idle": "2024-01-10T09:00:58.944446Z",
     "shell.execute_reply": "2024-01-10T09:00:58.943443Z",
     "shell.execute_reply.started": "2024-01-10T09:00:58.911290Z"
    }
   },
   "outputs": [
    {
     "data": {
      "text/html": [
       "<div>\n",
       "<style scoped>\n",
       "    .dataframe tbody tr th:only-of-type {\n",
       "        vertical-align: middle;\n",
       "    }\n",
       "\n",
       "    .dataframe tbody tr th {\n",
       "        vertical-align: top;\n",
       "    }\n",
       "\n",
       "    .dataframe thead th {\n",
       "        text-align: right;\n",
       "    }\n",
       "</style>\n",
       "<table border=\"1\" class=\"dataframe\">\n",
       "  <thead>\n",
       "    <tr style=\"text-align: right;\">\n",
       "      <th></th>\n",
       "      <th>region</th>\n",
       "      <th>Murder</th>\n",
       "      <th>Assault</th>\n",
       "      <th>UrbanPop</th>\n",
       "      <th>Rape</th>\n",
       "    </tr>\n",
       "  </thead>\n",
       "  <tbody>\n",
       "    <tr>\n",
       "      <th>count</th>\n",
       "      <td>50</td>\n",
       "      <td>50.00000</td>\n",
       "      <td>50.000000</td>\n",
       "      <td>50.000000</td>\n",
       "      <td>50.000000</td>\n",
       "    </tr>\n",
       "    <tr>\n",
       "      <th>unique</th>\n",
       "      <td>50</td>\n",
       "      <td>NaN</td>\n",
       "      <td>NaN</td>\n",
       "      <td>NaN</td>\n",
       "      <td>NaN</td>\n",
       "    </tr>\n",
       "    <tr>\n",
       "      <th>top</th>\n",
       "      <td>Alabama</td>\n",
       "      <td>NaN</td>\n",
       "      <td>NaN</td>\n",
       "      <td>NaN</td>\n",
       "      <td>NaN</td>\n",
       "    </tr>\n",
       "    <tr>\n",
       "      <th>freq</th>\n",
       "      <td>1</td>\n",
       "      <td>NaN</td>\n",
       "      <td>NaN</td>\n",
       "      <td>NaN</td>\n",
       "      <td>NaN</td>\n",
       "    </tr>\n",
       "    <tr>\n",
       "      <th>mean</th>\n",
       "      <td>NaN</td>\n",
       "      <td>7.78800</td>\n",
       "      <td>170.760000</td>\n",
       "      <td>65.540000</td>\n",
       "      <td>21.232000</td>\n",
       "    </tr>\n",
       "    <tr>\n",
       "      <th>std</th>\n",
       "      <td>NaN</td>\n",
       "      <td>4.35551</td>\n",
       "      <td>83.337661</td>\n",
       "      <td>14.474763</td>\n",
       "      <td>9.366385</td>\n",
       "    </tr>\n",
       "    <tr>\n",
       "      <th>min</th>\n",
       "      <td>NaN</td>\n",
       "      <td>0.80000</td>\n",
       "      <td>45.000000</td>\n",
       "      <td>32.000000</td>\n",
       "      <td>7.300000</td>\n",
       "    </tr>\n",
       "    <tr>\n",
       "      <th>25%</th>\n",
       "      <td>NaN</td>\n",
       "      <td>4.07500</td>\n",
       "      <td>109.000000</td>\n",
       "      <td>54.500000</td>\n",
       "      <td>15.075000</td>\n",
       "    </tr>\n",
       "    <tr>\n",
       "      <th>50%</th>\n",
       "      <td>NaN</td>\n",
       "      <td>7.25000</td>\n",
       "      <td>159.000000</td>\n",
       "      <td>66.000000</td>\n",
       "      <td>20.100000</td>\n",
       "    </tr>\n",
       "    <tr>\n",
       "      <th>75%</th>\n",
       "      <td>NaN</td>\n",
       "      <td>11.25000</td>\n",
       "      <td>249.000000</td>\n",
       "      <td>77.750000</td>\n",
       "      <td>26.175000</td>\n",
       "    </tr>\n",
       "    <tr>\n",
       "      <th>max</th>\n",
       "      <td>NaN</td>\n",
       "      <td>17.40000</td>\n",
       "      <td>337.000000</td>\n",
       "      <td>91.000000</td>\n",
       "      <td>46.000000</td>\n",
       "    </tr>\n",
       "  </tbody>\n",
       "</table>\n",
       "</div>"
      ],
      "text/plain": [
       "         region    Murder     Assault   UrbanPop       Rape\n",
       "count        50  50.00000   50.000000  50.000000  50.000000\n",
       "unique       50       NaN         NaN        NaN        NaN\n",
       "top     Alabama       NaN         NaN        NaN        NaN\n",
       "freq          1       NaN         NaN        NaN        NaN\n",
       "mean        NaN   7.78800  170.760000  65.540000  21.232000\n",
       "std         NaN   4.35551   83.337661  14.474763   9.366385\n",
       "min         NaN   0.80000   45.000000  32.000000   7.300000\n",
       "25%         NaN   4.07500  109.000000  54.500000  15.075000\n",
       "50%         NaN   7.25000  159.000000  66.000000  20.100000\n",
       "75%         NaN  11.25000  249.000000  77.750000  26.175000\n",
       "max         NaN  17.40000  337.000000  91.000000  46.000000"
      ]
     },
     "execution_count": 3,
     "metadata": {},
     "output_type": "execute_result"
    }
   ],
   "source": [
    "df.describe(include='all')"
   ]
  },
  {
   "cell_type": "code",
   "execution_count": 4,
   "metadata": {
    "execution": {
     "iopub.execute_input": "2024-01-10T09:01:07.739280Z",
     "iopub.status.busy": "2024-01-10T09:01:07.739280Z",
     "iopub.status.idle": "2024-01-10T09:01:07.762057Z",
     "shell.execute_reply": "2024-01-10T09:01:07.761058Z",
     "shell.execute_reply.started": "2024-01-10T09:01:07.739280Z"
    }
   },
   "outputs": [
    {
     "name": "stdout",
     "output_type": "stream",
     "text": [
      "<class 'pandas.core.frame.DataFrame'>\n",
      "RangeIndex: 50 entries, 0 to 49\n",
      "Data columns (total 5 columns):\n",
      " #   Column    Non-Null Count  Dtype  \n",
      "---  ------    --------------  -----  \n",
      " 0   region    50 non-null     object \n",
      " 1   Murder    50 non-null     float64\n",
      " 2   Assault   50 non-null     int64  \n",
      " 3   UrbanPop  50 non-null     int64  \n",
      " 4   Rape      50 non-null     float64\n",
      "dtypes: float64(2), int64(2), object(1)\n",
      "memory usage: 2.1+ KB\n"
     ]
    }
   ],
   "source": [
    "df.info()"
   ]
  },
  {
   "cell_type": "markdown",
   "metadata": {},
   "source": [
    "**Data Cleansing and Preparation**"
   ]
  },
  {
   "cell_type": "markdown",
   "metadata": {},
   "source": [
    "- Check Missing Values dan Duplicated"
   ]
  },
  {
   "cell_type": "code",
   "execution_count": 6,
   "metadata": {
    "execution": {
     "iopub.execute_input": "2024-01-10T09:02:34.180066Z",
     "iopub.status.busy": "2024-01-10T09:02:34.180066Z",
     "iopub.status.idle": "2024-01-10T09:02:34.188060Z",
     "shell.execute_reply": "2024-01-10T09:02:34.186835Z",
     "shell.execute_reply.started": "2024-01-10T09:02:34.180066Z"
    }
   },
   "outputs": [
    {
     "data": {
      "text/plain": [
       "False"
      ]
     },
     "execution_count": 6,
     "metadata": {},
     "output_type": "execute_result"
    }
   ],
   "source": [
    "## Code here\n",
    "df.duplicated().any()"
   ]
  },
  {
   "cell_type": "markdown",
   "metadata": {},
   "source": [
    "- Check Data Types"
   ]
  },
  {
   "cell_type": "code",
   "execution_count": 7,
   "metadata": {
    "execution": {
     "iopub.execute_input": "2024-01-10T09:02:40.907031Z",
     "iopub.status.busy": "2024-01-10T09:02:40.906033Z",
     "iopub.status.idle": "2024-01-10T09:02:40.919038Z",
     "shell.execute_reply": "2024-01-10T09:02:40.918032Z",
     "shell.execute_reply.started": "2024-01-10T09:02:40.907031Z"
    }
   },
   "outputs": [
    {
     "data": {
      "text/plain": [
       "region       object\n",
       "Murder      float64\n",
       "Assault       int64\n",
       "UrbanPop      int64\n",
       "Rape        float64\n",
       "dtype: object"
      ]
     },
     "execution_count": 7,
     "metadata": {},
     "output_type": "execute_result"
    }
   ],
   "source": [
    "## Code here\n",
    "df.dtypes"
   ]
  },
  {
   "cell_type": "markdown",
   "metadata": {},
   "source": [
    "- Select Numerical Values"
   ]
  },
  {
   "cell_type": "code",
   "execution_count": 8,
   "metadata": {
    "execution": {
     "iopub.execute_input": "2024-01-10T09:02:57.352577Z",
     "iopub.status.busy": "2024-01-10T09:02:57.351572Z",
     "iopub.status.idle": "2024-01-10T09:02:57.365572Z",
     "shell.execute_reply": "2024-01-10T09:02:57.364569Z",
     "shell.execute_reply.started": "2024-01-10T09:02:57.352577Z"
    }
   },
   "outputs": [
    {
     "data": {
      "text/html": [
       "<div>\n",
       "<style scoped>\n",
       "    .dataframe tbody tr th:only-of-type {\n",
       "        vertical-align: middle;\n",
       "    }\n",
       "\n",
       "    .dataframe tbody tr th {\n",
       "        vertical-align: top;\n",
       "    }\n",
       "\n",
       "    .dataframe thead th {\n",
       "        text-align: right;\n",
       "    }\n",
       "</style>\n",
       "<table border=\"1\" class=\"dataframe\">\n",
       "  <thead>\n",
       "    <tr style=\"text-align: right;\">\n",
       "      <th></th>\n",
       "      <th>Murder</th>\n",
       "      <th>Assault</th>\n",
       "      <th>UrbanPop</th>\n",
       "      <th>Rape</th>\n",
       "    </tr>\n",
       "  </thead>\n",
       "  <tbody>\n",
       "    <tr>\n",
       "      <th>0</th>\n",
       "      <td>13.2</td>\n",
       "      <td>236</td>\n",
       "      <td>58</td>\n",
       "      <td>21.2</td>\n",
       "    </tr>\n",
       "    <tr>\n",
       "      <th>1</th>\n",
       "      <td>10.0</td>\n",
       "      <td>263</td>\n",
       "      <td>48</td>\n",
       "      <td>44.5</td>\n",
       "    </tr>\n",
       "    <tr>\n",
       "      <th>2</th>\n",
       "      <td>8.1</td>\n",
       "      <td>294</td>\n",
       "      <td>80</td>\n",
       "      <td>31.0</td>\n",
       "    </tr>\n",
       "    <tr>\n",
       "      <th>3</th>\n",
       "      <td>8.8</td>\n",
       "      <td>190</td>\n",
       "      <td>50</td>\n",
       "      <td>19.5</td>\n",
       "    </tr>\n",
       "    <tr>\n",
       "      <th>4</th>\n",
       "      <td>9.0</td>\n",
       "      <td>276</td>\n",
       "      <td>91</td>\n",
       "      <td>40.6</td>\n",
       "    </tr>\n",
       "  </tbody>\n",
       "</table>\n",
       "</div>"
      ],
      "text/plain": [
       "   Murder  Assault  UrbanPop  Rape\n",
       "0    13.2      236        58  21.2\n",
       "1    10.0      263        48  44.5\n",
       "2     8.1      294        80  31.0\n",
       "3     8.8      190        50  19.5\n",
       "4     9.0      276        91  40.6"
      ]
     },
     "execution_count": 8,
     "metadata": {},
     "output_type": "execute_result"
    }
   ],
   "source": [
    "## Code here\n",
    "df_num = df.select_dtypes('number')\n",
    "df_num.head()"
   ]
  },
  {
   "cell_type": "markdown",
   "metadata": {},
   "source": [
    "- Cek rentang dari value setiap variable dengan menggunakan matrix covariance nya"
   ]
  },
  {
   "cell_type": "code",
   "execution_count": 30,
   "metadata": {
    "execution": {
     "iopub.execute_input": "2024-01-10T09:25:43.035651Z",
     "iopub.status.busy": "2024-01-10T09:25:43.034650Z",
     "iopub.status.idle": "2024-01-10T09:25:43.055734Z",
     "shell.execute_reply": "2024-01-10T09:25:43.053735Z",
     "shell.execute_reply.started": "2024-01-10T09:25:43.035651Z"
    }
   },
   "outputs": [
    {
     "data": {
      "text/html": [
       "<div>\n",
       "<style scoped>\n",
       "    .dataframe tbody tr th:only-of-type {\n",
       "        vertical-align: middle;\n",
       "    }\n",
       "\n",
       "    .dataframe tbody tr th {\n",
       "        vertical-align: top;\n",
       "    }\n",
       "\n",
       "    .dataframe thead th {\n",
       "        text-align: right;\n",
       "    }\n",
       "</style>\n",
       "<table border=\"1\" class=\"dataframe\">\n",
       "  <thead>\n",
       "    <tr style=\"text-align: right;\">\n",
       "      <th></th>\n",
       "      <th>Murder</th>\n",
       "      <th>Assault</th>\n",
       "      <th>UrbanPop</th>\n",
       "      <th>Rape</th>\n",
       "    </tr>\n",
       "  </thead>\n",
       "  <tbody>\n",
       "    <tr>\n",
       "      <th>Murder</th>\n",
       "      <td>18.970465</td>\n",
       "      <td>291.062367</td>\n",
       "      <td>4.386204</td>\n",
       "      <td>22.991412</td>\n",
       "    </tr>\n",
       "    <tr>\n",
       "      <th>Assault</th>\n",
       "      <td>291.062367</td>\n",
       "      <td>6945.165714</td>\n",
       "      <td>312.275102</td>\n",
       "      <td>519.269061</td>\n",
       "    </tr>\n",
       "    <tr>\n",
       "      <th>UrbanPop</th>\n",
       "      <td>4.386204</td>\n",
       "      <td>312.275102</td>\n",
       "      <td>209.518776</td>\n",
       "      <td>55.768082</td>\n",
       "    </tr>\n",
       "    <tr>\n",
       "      <th>Rape</th>\n",
       "      <td>22.991412</td>\n",
       "      <td>519.269061</td>\n",
       "      <td>55.768082</td>\n",
       "      <td>87.729159</td>\n",
       "    </tr>\n",
       "  </tbody>\n",
       "</table>\n",
       "</div>"
      ],
      "text/plain": [
       "              Murder      Assault    UrbanPop        Rape\n",
       "Murder     18.970465   291.062367    4.386204   22.991412\n",
       "Assault   291.062367  6945.165714  312.275102  519.269061\n",
       "UrbanPop    4.386204   312.275102  209.518776   55.768082\n",
       "Rape       22.991412   519.269061   55.768082   87.729159"
      ]
     },
     "execution_count": 30,
     "metadata": {},
     "output_type": "execute_result"
    }
   ],
   "source": [
    "## Code here\n",
    "df_num.cov()"
   ]
  },
  {
   "cell_type": "markdown",
   "metadata": {},
   "source": [
    "**PCA**\n",
    "\n",
    "1. Buat PC dari dataset USArrest (jangan lupa untuk melakukan scaling data). Lalu, cek kembali informasinya, berapa banyak PC yang akan anda gunakan jika anda hanya menoleransi sekitar 20% saja informasi yang hilang?\n",
    "\n",
    "- [ ] 3 PC\n",
    "- [x] 2 PC\n",
    "- [ ] 1 PC"
   ]
  },
  {
   "cell_type": "code",
   "execution_count": 12,
   "metadata": {
    "execution": {
     "iopub.execute_input": "2024-01-10T09:05:31.408015Z",
     "iopub.status.busy": "2024-01-10T09:05:31.408015Z",
     "iopub.status.idle": "2024-01-10T09:05:31.428222Z",
     "shell.execute_reply": "2024-01-10T09:05:31.427222Z",
     "shell.execute_reply.started": "2024-01-10T09:05:31.408015Z"
    }
   },
   "outputs": [
    {
     "data": {
      "text/html": [
       "<div>\n",
       "<style scoped>\n",
       "    .dataframe tbody tr th:only-of-type {\n",
       "        vertical-align: middle;\n",
       "    }\n",
       "\n",
       "    .dataframe tbody tr th {\n",
       "        vertical-align: top;\n",
       "    }\n",
       "\n",
       "    .dataframe thead th {\n",
       "        text-align: right;\n",
       "    }\n",
       "</style>\n",
       "<table border=\"1\" class=\"dataframe\">\n",
       "  <thead>\n",
       "    <tr style=\"text-align: right;\">\n",
       "      <th></th>\n",
       "      <th>Murder</th>\n",
       "      <th>Assault</th>\n",
       "      <th>UrbanPop</th>\n",
       "      <th>Rape</th>\n",
       "    </tr>\n",
       "  </thead>\n",
       "  <tbody>\n",
       "    <tr>\n",
       "      <th>0</th>\n",
       "      <td>1.255179</td>\n",
       "      <td>0.790787</td>\n",
       "      <td>-0.526195</td>\n",
       "      <td>-0.003451</td>\n",
       "    </tr>\n",
       "    <tr>\n",
       "      <th>1</th>\n",
       "      <td>0.513019</td>\n",
       "      <td>1.118060</td>\n",
       "      <td>-1.224067</td>\n",
       "      <td>2.509424</td>\n",
       "    </tr>\n",
       "    <tr>\n",
       "      <th>2</th>\n",
       "      <td>0.072361</td>\n",
       "      <td>1.493817</td>\n",
       "      <td>1.009122</td>\n",
       "      <td>1.053466</td>\n",
       "    </tr>\n",
       "    <tr>\n",
       "      <th>3</th>\n",
       "      <td>0.234708</td>\n",
       "      <td>0.233212</td>\n",
       "      <td>-1.084492</td>\n",
       "      <td>-0.186794</td>\n",
       "    </tr>\n",
       "    <tr>\n",
       "      <th>4</th>\n",
       "      <td>0.281093</td>\n",
       "      <td>1.275635</td>\n",
       "      <td>1.776781</td>\n",
       "      <td>2.088814</td>\n",
       "    </tr>\n",
       "  </tbody>\n",
       "</table>\n",
       "</div>"
      ],
      "text/plain": [
       "     Murder   Assault  UrbanPop      Rape\n",
       "0  1.255179  0.790787 -0.526195 -0.003451\n",
       "1  0.513019  1.118060 -1.224067  2.509424\n",
       "2  0.072361  1.493817  1.009122  1.053466\n",
       "3  0.234708  0.233212 -1.084492 -0.186794\n",
       "4  0.281093  1.275635  1.776781  2.088814"
      ]
     },
     "execution_count": 12,
     "metadata": {},
     "output_type": "execute_result"
    }
   ],
   "source": [
    "## Code here for scaling\n",
    "scaler = StandardScaler()\n",
    "\n",
    "df_scaled = scaler.fit_transform(df_num.values)\n",
    "\n",
    "df_scaled = pd.DataFrame(df_scaled, columns=df_num.columns)\n",
    "df_scaled.head()"
   ]
  },
  {
   "cell_type": "code",
   "execution_count": 13,
   "metadata": {
    "execution": {
     "iopub.execute_input": "2024-01-10T09:05:57.513329Z",
     "iopub.status.busy": "2024-01-10T09:05:57.512325Z",
     "iopub.status.idle": "2024-01-10T09:05:57.527326Z",
     "shell.execute_reply": "2024-01-10T09:05:57.526329Z",
     "shell.execute_reply.started": "2024-01-10T09:05:57.513329Z"
    }
   },
   "outputs": [
    {
     "data": {
      "text/html": [
       "<style>#sk-container-id-1 {color: black;}#sk-container-id-1 pre{padding: 0;}#sk-container-id-1 div.sk-toggleable {background-color: white;}#sk-container-id-1 label.sk-toggleable__label {cursor: pointer;display: block;width: 100%;margin-bottom: 0;padding: 0.3em;box-sizing: border-box;text-align: center;}#sk-container-id-1 label.sk-toggleable__label-arrow:before {content: \"▸\";float: left;margin-right: 0.25em;color: #696969;}#sk-container-id-1 label.sk-toggleable__label-arrow:hover:before {color: black;}#sk-container-id-1 div.sk-estimator:hover label.sk-toggleable__label-arrow:before {color: black;}#sk-container-id-1 div.sk-toggleable__content {max-height: 0;max-width: 0;overflow: hidden;text-align: left;background-color: #f0f8ff;}#sk-container-id-1 div.sk-toggleable__content pre {margin: 0.2em;color: black;border-radius: 0.25em;background-color: #f0f8ff;}#sk-container-id-1 input.sk-toggleable__control:checked~div.sk-toggleable__content {max-height: 200px;max-width: 100%;overflow: auto;}#sk-container-id-1 input.sk-toggleable__control:checked~label.sk-toggleable__label-arrow:before {content: \"▾\";}#sk-container-id-1 div.sk-estimator input.sk-toggleable__control:checked~label.sk-toggleable__label {background-color: #d4ebff;}#sk-container-id-1 div.sk-label input.sk-toggleable__control:checked~label.sk-toggleable__label {background-color: #d4ebff;}#sk-container-id-1 input.sk-hidden--visually {border: 0;clip: rect(1px 1px 1px 1px);clip: rect(1px, 1px, 1px, 1px);height: 1px;margin: -1px;overflow: hidden;padding: 0;position: absolute;width: 1px;}#sk-container-id-1 div.sk-estimator {font-family: monospace;background-color: #f0f8ff;border: 1px dotted black;border-radius: 0.25em;box-sizing: border-box;margin-bottom: 0.5em;}#sk-container-id-1 div.sk-estimator:hover {background-color: #d4ebff;}#sk-container-id-1 div.sk-parallel-item::after {content: \"\";width: 100%;border-bottom: 1px solid gray;flex-grow: 1;}#sk-container-id-1 div.sk-label:hover label.sk-toggleable__label {background-color: #d4ebff;}#sk-container-id-1 div.sk-serial::before {content: \"\";position: absolute;border-left: 1px solid gray;box-sizing: border-box;top: 0;bottom: 0;left: 50%;z-index: 0;}#sk-container-id-1 div.sk-serial {display: flex;flex-direction: column;align-items: center;background-color: white;padding-right: 0.2em;padding-left: 0.2em;position: relative;}#sk-container-id-1 div.sk-item {position: relative;z-index: 1;}#sk-container-id-1 div.sk-parallel {display: flex;align-items: stretch;justify-content: center;background-color: white;position: relative;}#sk-container-id-1 div.sk-item::before, #sk-container-id-1 div.sk-parallel-item::before {content: \"\";position: absolute;border-left: 1px solid gray;box-sizing: border-box;top: 0;bottom: 0;left: 50%;z-index: -1;}#sk-container-id-1 div.sk-parallel-item {display: flex;flex-direction: column;z-index: 1;position: relative;background-color: white;}#sk-container-id-1 div.sk-parallel-item:first-child::after {align-self: flex-end;width: 50%;}#sk-container-id-1 div.sk-parallel-item:last-child::after {align-self: flex-start;width: 50%;}#sk-container-id-1 div.sk-parallel-item:only-child::after {width: 0;}#sk-container-id-1 div.sk-dashed-wrapped {border: 1px dashed gray;margin: 0 0.4em 0.5em 0.4em;box-sizing: border-box;padding-bottom: 0.4em;background-color: white;}#sk-container-id-1 div.sk-label label {font-family: monospace;font-weight: bold;display: inline-block;line-height: 1.2em;}#sk-container-id-1 div.sk-label-container {text-align: center;}#sk-container-id-1 div.sk-container {/* jupyter's `normalize.less` sets `[hidden] { display: none; }` but bootstrap.min.css set `[hidden] { display: none !important; }` so we also need the `!important` here to be able to override the default hidden behavior on the sphinx rendered scikit-learn.org. See: https://github.com/scikit-learn/scikit-learn/issues/21755 */display: inline-block !important;position: relative;}#sk-container-id-1 div.sk-text-repr-fallback {display: none;}</style><div id=\"sk-container-id-1\" class=\"sk-top-container\"><div class=\"sk-text-repr-fallback\"><pre>PCA(n_components=4, svd_solver=&#x27;full&#x27;)</pre><b>In a Jupyter environment, please rerun this cell to show the HTML representation or trust the notebook. <br />On GitHub, the HTML representation is unable to render, please try loading this page with nbviewer.org.</b></div><div class=\"sk-container\" hidden><div class=\"sk-item\"><div class=\"sk-estimator sk-toggleable\"><input class=\"sk-toggleable__control sk-hidden--visually\" id=\"sk-estimator-id-1\" type=\"checkbox\" checked><label for=\"sk-estimator-id-1\" class=\"sk-toggleable__label sk-toggleable__label-arrow\">PCA</label><div class=\"sk-toggleable__content\"><pre>PCA(n_components=4, svd_solver=&#x27;full&#x27;)</pre></div></div></div></div></div>"
      ],
      "text/plain": [
       "PCA(n_components=4, svd_solver='full')"
      ]
     },
     "execution_count": 13,
     "metadata": {},
     "output_type": "execute_result"
    }
   ],
   "source": [
    "## Code here for PCA\n",
    "# inisialisasi objek PCA\n",
    "pca = PCA(n_components = df_scaled.shape[1], # jumlah pca yang dihasilkan\n",
    "          svd_solver='full') # implementasi full svd sehingga mendapatkan semua PC yang terbentuk\n",
    "\n",
    "pca.fit(df_scaled) # menghitung PCA\n",
    "# atau dapat menggunakan pca = pca.fit_transform(scale(balance_scaled))\n"
   ]
  },
  {
   "cell_type": "code",
   "execution_count": 14,
   "metadata": {
    "execution": {
     "iopub.execute_input": "2024-01-10T09:06:27.084878Z",
     "iopub.status.busy": "2024-01-10T09:06:27.084878Z",
     "iopub.status.idle": "2024-01-10T09:06:27.102258Z",
     "shell.execute_reply": "2024-01-10T09:06:27.101257Z",
     "shell.execute_reply.started": "2024-01-10T09:06:27.084878Z"
    }
   },
   "outputs": [
    {
     "data": {
      "text/plain": [
       "array([0.62006039, 0.24744129, 0.0891408 , 0.04335752])"
      ]
     },
     "execution_count": 14,
     "metadata": {},
     "output_type": "execute_result"
    }
   ],
   "source": [
    "pca.explained_variance_ratio_"
   ]
  },
  {
   "cell_type": "code",
   "execution_count": 31,
   "metadata": {
    "execution": {
     "iopub.execute_input": "2024-01-10T09:26:00.797463Z",
     "iopub.status.busy": "2024-01-10T09:26:00.797463Z",
     "iopub.status.idle": "2024-01-10T09:26:00.814462Z",
     "shell.execute_reply": "2024-01-10T09:26:00.813465Z",
     "shell.execute_reply.started": "2024-01-10T09:26:00.797463Z"
    }
   },
   "outputs": [
    {
     "data": {
      "text/plain": [
       "array([ 62.01,  86.75,  95.66, 100.  ])"
      ]
     },
     "execution_count": 31,
     "metadata": {},
     "output_type": "execute_result"
    }
   ],
   "source": [
    "np.cumsum(np.round(pca.explained_variance_ratio_, decimals=4)*100)"
   ]
  },
  {
   "cell_type": "markdown",
   "metadata": {},
   "source": [
    "2. PC 1 merupakan PC yang menampung banyak variable. Sebutkan 1 variable tersebut yang berkontribusi paling banyak pada PC 1 tersebut.\n",
    "\n",
    "- [x] Assault\n",
    "- [ ] Urbanpop\n",
    "- [ ] Rape"
   ]
  },
  {
   "cell_type": "code",
   "execution_count": 27,
   "metadata": {
    "ExecuteTime": {
     "end_time": "2023-02-27T04:47:47.399656Z",
     "start_time": "2023-02-27T04:47:47.380355Z"
    },
    "execution": {
     "iopub.execute_input": "2024-01-10T09:22:41.288319Z",
     "iopub.status.busy": "2024-01-10T09:22:41.287323Z",
     "iopub.status.idle": "2024-01-10T09:22:41.308320Z",
     "shell.execute_reply": "2024-01-10T09:22:41.307314Z",
     "shell.execute_reply.started": "2024-01-10T09:22:41.288319Z"
    }
   },
   "outputs": [
    {
     "data": {
      "text/html": [
       "<div>\n",
       "<style scoped>\n",
       "    .dataframe tbody tr th:only-of-type {\n",
       "        vertical-align: middle;\n",
       "    }\n",
       "\n",
       "    .dataframe tbody tr th {\n",
       "        vertical-align: top;\n",
       "    }\n",
       "\n",
       "    .dataframe thead th {\n",
       "        text-align: right;\n",
       "    }\n",
       "</style>\n",
       "<table border=\"1\" class=\"dataframe\">\n",
       "  <thead>\n",
       "    <tr style=\"text-align: right;\">\n",
       "      <th></th>\n",
       "      <th>pca0</th>\n",
       "      <th>pca1</th>\n",
       "      <th>pca2</th>\n",
       "      <th>pca3</th>\n",
       "      <th>Variable</th>\n",
       "    </tr>\n",
       "  </thead>\n",
       "  <tbody>\n",
       "    <tr>\n",
       "      <th>1</th>\n",
       "      <td>0.583184</td>\n",
       "      <td>0.187986</td>\n",
       "      <td>-0.268148</td>\n",
       "      <td>-0.743407</td>\n",
       "      <td>Assault</td>\n",
       "    </tr>\n",
       "    <tr>\n",
       "      <th>3</th>\n",
       "      <td>0.543432</td>\n",
       "      <td>-0.167319</td>\n",
       "      <td>0.817778</td>\n",
       "      <td>0.089024</td>\n",
       "      <td>Rape</td>\n",
       "    </tr>\n",
       "    <tr>\n",
       "      <th>0</th>\n",
       "      <td>0.535899</td>\n",
       "      <td>0.418181</td>\n",
       "      <td>-0.341233</td>\n",
       "      <td>0.649228</td>\n",
       "      <td>Murder</td>\n",
       "    </tr>\n",
       "    <tr>\n",
       "      <th>2</th>\n",
       "      <td>0.278191</td>\n",
       "      <td>-0.872806</td>\n",
       "      <td>-0.378016</td>\n",
       "      <td>0.133878</td>\n",
       "      <td>UrbanPop</td>\n",
       "    </tr>\n",
       "  </tbody>\n",
       "</table>\n",
       "</div>"
      ],
      "text/plain": [
       "       pca0      pca1      pca2      pca3  Variable\n",
       "1  0.583184  0.187986 -0.268148 -0.743407   Assault\n",
       "3  0.543432 -0.167319  0.817778  0.089024      Rape\n",
       "0  0.535899  0.418181 -0.341233  0.649228    Murder\n",
       "2  0.278191 -0.872806 -0.378016  0.133878  UrbanPop"
      ]
     },
     "execution_count": 27,
     "metadata": {},
     "output_type": "execute_result"
    }
   ],
   "source": [
    "## Code here to check least contributes PC\n",
    "# Dapatkan loadings dari PCA\n",
    "loadings = pca.components_\n",
    "\n",
    "# Buat dataframe untuk loadings\n",
    "loadings_df = pd.DataFrame(data=loadings.T, \n",
    "                           columns=pca.get_feature_names_out())\n",
    "\n",
    "# Tambahkan kolom nama variabel\n",
    "loadings_df['Variable'] = df_scaled.columns\n",
    "\n",
    "# Tampilkan loadings yang signifikan (misalnya, absolute loadings > 0.3)\n",
    "significant_loadings = loadings_df # [abs(loadings_df['pca0']) > 0.2]\n",
    "significant_loadings.sort_values(by='pca0',ascending=False)"
   ]
  },
  {
   "cell_type": "code",
   "execution_count": 21,
   "metadata": {
    "execution": {
     "iopub.execute_input": "2024-01-10T09:11:50.275642Z",
     "iopub.status.busy": "2024-01-10T09:11:50.275642Z",
     "iopub.status.idle": "2024-01-10T09:11:50.283833Z",
     "shell.execute_reply": "2024-01-10T09:11:50.282811Z",
     "shell.execute_reply.started": "2024-01-10T09:11:50.275642Z"
    }
   },
   "outputs": [
    {
     "data": {
      "text/plain": [
       "array(['pca0', 'pca1', 'pca2', 'pca3'], dtype=object)"
      ]
     },
     "execution_count": 21,
     "metadata": {},
     "output_type": "execute_result"
    }
   ],
   "source": [
    "pca.get_feature_names_out()"
   ]
  },
  {
   "cell_type": "markdown",
   "metadata": {},
   "source": [
    "3. Manakah pernyataan dibawah ini yang TIDAK TEPAT mengenai PCA\n",
    "\n",
    "- [ ] PCA dapat digunakan untuk *exploratory data analysis* dan *data preparation* sebelum modeling\n",
    "- [ ] PCA perlu scaling, sehingga mereka memiliki rentang skala pengukuran yang sama \n",
    "- [x] Komponen Utama dengan nilai eigenvalue 0.6 lebih berguna dibandingkan PC dengan eigenvalue 6.0"
   ]
  },
  {
   "cell_type": "markdown",
   "metadata": {},
   "source": [
    "4. Manakah pernyataan berikut yang TIDAK TEPAT mengenai Local Outlier Factor (LOF)?\n",
    "- [ ] Nilai LOF yang tinggi menunjukkan bahwa suatu titik cenderung menjadi outlier dibandingkan dengan sekitarnya.\n",
    "- [x] LOF mengukur seberapa sering suatu titik mendekati data sekitarnya dibandingkan dengan data sekitarnya itu sendiri.\n",
    "- [ ] Semakin kecil nilai LOF, semakin kecil kemungkinan titik tersebut menjadi outlier.\n",
    "- [ ] LOF memperhitungkan kerapatan data pada sekitar titik untuk mengidentifikasi potensi outlier."
   ]
  },
  {
   "cell_type": "markdown",
   "metadata": {},
   "source": [
    "5.Unsupervised Learning dapat mempelajari sesuatu dari inputannya sendiri (tanpa target yang perlu dicari).\n",
    "\n",
    "- [x] BENAR\n",
    "- [ ] SALAH"
   ]
  }
 ],
 "metadata": {
  "kernelspec": {
   "display_name": "Python 3 (ipykernel)",
   "language": "python",
   "name": "python3"
  },
  "language_info": {
   "codemirror_mode": {
    "name": "ipython",
    "version": 3
   },
   "file_extension": ".py",
   "mimetype": "text/x-python",
   "name": "python",
   "nbconvert_exporter": "python",
   "pygments_lexer": "ipython3",
   "version": "3.8.18"
  },
  "toc": {
   "base_numbering": 1,
   "nav_menu": {},
   "number_sections": true,
   "sideBar": true,
   "skip_h1_title": false,
   "title_cell": "Table of Contents",
   "title_sidebar": "Contents",
   "toc_cell": false,
   "toc_position": {},
   "toc_section_display": true,
   "toc_window_display": false
  }
 },
 "nbformat": 4,
 "nbformat_minor": 4
}
