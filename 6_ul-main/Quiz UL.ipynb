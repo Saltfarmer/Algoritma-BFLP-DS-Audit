{
 "cells": [
  {
   "cell_type": "markdown",
   "metadata": {},
   "source": [
    "# Quiz Unsupervised Learning "
   ]
  },
  {
   "cell_type": "markdown",
   "metadata": {},
   "source": [
    "**Import Library**"
   ]
  },
  {
   "cell_type": "code",
   "execution_count": 2,
   "metadata": {
    "ExecuteTime": {
     "end_time": "2021-10-05T10:01:12.065633Z",
     "start_time": "2021-10-05T10:01:12.045852Z"
    }
   },
   "outputs": [],
   "source": [
    "import pandas as pd \n",
    "import matplotlib.pyplot as plt\n",
    "from numpy.linalg import eig\n",
    "from pylab import rcParams\n",
    "from sklearn.preprocessing import StandardScaler\n",
    "from sklearn.decomposition import PCA\n",
    "from sklearn.cluster import KMeans\n",
    "from sklearn.metrics import silhouette_score\n",
    "import matplotlib.pyplot as plt\n",
    "import matplotlib.cm as cm\n",
    "import matplotlib.colors as colors\n",
    "import importlib\n",
    "import warnings\n",
    "warnings.simplefilter(action='ignore', category=FutureWarning)\n",
    "from helper import biplot_pca, plot_elbow, biplot_kmeans, plot_cluster_radar\n",
    "\n",
    "plt.style.use('seaborn')"
   ]
  },
  {
   "cell_type": "markdown",
   "metadata": {},
   "source": [
    "**Read Data**\n",
    "\n",
    "Data sudah tersedia pada folder `data/usarrest.csv` "
   ]
  },
  {
   "cell_type": "code",
   "execution_count": null,
   "metadata": {},
   "outputs": [],
   "source": [
    "## Code here\n",
    "\n"
   ]
  },
  {
   "cell_type": "markdown",
   "metadata": {},
   "source": [
    "**Data Cleansing and Preparation**"
   ]
  },
  {
   "cell_type": "markdown",
   "metadata": {},
   "source": [
    "- Check Missing Values dan Duplicated"
   ]
  },
  {
   "cell_type": "code",
   "execution_count": null,
   "metadata": {},
   "outputs": [],
   "source": [
    "## Code here\n",
    "\n"
   ]
  },
  {
   "cell_type": "markdown",
   "metadata": {},
   "source": [
    "- Check Data Types"
   ]
  },
  {
   "cell_type": "code",
   "execution_count": null,
   "metadata": {},
   "outputs": [],
   "source": [
    "## Code here\n",
    "\n"
   ]
  },
  {
   "cell_type": "markdown",
   "metadata": {},
   "source": [
    "- Select Numerical Values"
   ]
  },
  {
   "cell_type": "code",
   "execution_count": null,
   "metadata": {},
   "outputs": [],
   "source": [
    "## Code here\n",
    "\n"
   ]
  },
  {
   "cell_type": "markdown",
   "metadata": {},
   "source": [
    "- Cek rentang dari value setiap variable dengan menggunakan matrix covariance nya"
   ]
  },
  {
   "cell_type": "code",
   "execution_count": null,
   "metadata": {},
   "outputs": [],
   "source": [
    "## Code here\n",
    "\n"
   ]
  },
  {
   "cell_type": "markdown",
   "metadata": {},
   "source": [
    "**PCA**\n",
    "\n",
    "1. Buat PC dari dataset USArrest (jangan lupa untuk melakukan scaling data). Lalu, cek kembali informasinya, berapa banyak PC yang akan anda gunakan jika anda hanya menoleransi sekitar 20% saja informasi yang hilang?\n",
    "\n",
    "- [ ] 3 PC\n",
    "- [ ] 2 PC\n",
    "- [ ] 1 PC"
   ]
  },
  {
   "cell_type": "code",
   "execution_count": null,
   "metadata": {},
   "outputs": [],
   "source": [
    "## Code here for scaling\n",
    "\n"
   ]
  },
  {
   "cell_type": "code",
   "execution_count": null,
   "metadata": {},
   "outputs": [],
   "source": [
    "## Code here for PCA\n",
    "\n"
   ]
  },
  {
   "cell_type": "markdown",
   "metadata": {},
   "source": [
    "2. PC 1 merupakan PC yang menampung banyak variable. Sebutkan 1 variable tersebut yang berkontribusi paling banyak pada PC 1 tersebut.\n",
    "\n",
    "- [ ] Assault\n",
    "- [ ] Urbanpop\n",
    "- [ ] Rape"
   ]
  },
  {
   "cell_type": "code",
   "execution_count": 1,
   "metadata": {
    "ExecuteTime": {
     "end_time": "2023-02-27T04:47:47.399656Z",
     "start_time": "2023-02-27T04:47:47.380355Z"
    }
   },
   "outputs": [],
   "source": [
    "## Code here to check least contributes PC\n",
    "\n"
   ]
  },
  {
   "cell_type": "markdown",
   "metadata": {},
   "source": [
    "3. Manakah pernyataan dibawah ini yang TIDAK TEPAT mengenai PCA\n",
    "\n",
    "- [ ] PCA dapat digunakan untuk *exploratory data analysis* dan *data preparation* sebelum modeling\n",
    "- [ ] PCA perlu scaling, sehingga mereka memiliki rentang skala pengukuran yang sama \n",
    "- [ ] Komponen Utama dengan nilai eigenvalue 0.6 lebih berguna dibandingkan PC dengan eigenvalue 6.0"
   ]
  },
  {
   "cell_type": "markdown",
   "metadata": {},
   "source": [
    "4. Manakah pernyataan berikut yang TIDAK TEPAT mengenai Local Outlier Factor (LOF)?\n",
    "- [ ] Nilai LOF yang tinggi menunjukkan bahwa suatu titik cenderung menjadi outlier dibandingkan dengan sekitarnya.\n",
    "- [ ] LOF mengukur seberapa sering suatu titik mendekati data sekitarnya dibandingkan dengan data sekitarnya itu sendiri.\n",
    "- [ ] Semakin kecil nilai LOF, semakin kecil kemungkinan titik tersebut menjadi outlier.\n",
    "- [ ] LOF memperhitungkan kerapatan data pada sekitar titik untuk mengidentifikasi potensi outlier."
   ]
  },
  {
   "cell_type": "markdown",
   "metadata": {},
   "source": [
    "5.Unsupervised Learning dapat mempelajari sesuatu dari inputannya sendiri.\n",
    "\n",
    "- [ ] BENAR\n",
    "- [ ] SALAH"
   ]
  }
 ],
 "metadata": {
  "kernelspec": {
   "display_name": "dwv",
   "language": "python",
   "name": "dwv"
  },
  "language_info": {
   "codemirror_mode": {
    "name": "ipython",
    "version": 3
   },
   "file_extension": ".py",
   "mimetype": "text/x-python",
   "name": "python",
   "nbconvert_exporter": "python",
   "pygments_lexer": "ipython3",
   "version": "3.8.3"
  },
  "toc": {
   "base_numbering": 1,
   "nav_menu": {},
   "number_sections": true,
   "sideBar": true,
   "skip_h1_title": false,
   "title_cell": "Table of Contents",
   "title_sidebar": "Contents",
   "toc_cell": false,
   "toc_position": {},
   "toc_section_display": true,
   "toc_window_display": false
  }
 },
 "nbformat": 4,
 "nbformat_minor": 4
}
