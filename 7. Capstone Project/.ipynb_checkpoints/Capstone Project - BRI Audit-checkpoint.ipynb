{
 "cells": [
  {
   "cell_type": "markdown",
   "id": "ffff2603",
   "metadata": {},
   "source": [
    "# **Fraud Prediction**\n",
    "\n",
    "## **Problem Statement**\n",
    "\n",
    "💼 **Fraud** merupakan suatu tindakan penipuan pada transaksi keuangan. Transaksi ini bertujuan untuk memperoleh keuntungan dari suatu entitas lain dengan cara ilegal sehingga dapat menyebabkan kerugian. \n",
    "\n",
    "Transaksi fraud sering terjadi di industri perbankan. Beberapa contoh transaksi fraud pada industri perbankan antara lain adalah *pishing, skimming*, penipuan kartu kredit, penipuan pinjaman, dll.\n",
    "\n",
    "Efek negatif dari transaksi fraud adalah adanya kerugian finansial di kedua belah pihak baik customer maupun industri perbankan. Oleh karena itu diperlukan tindakan pencegahan dengan deteksi lebih dini terhadap potensi transaksi fraud. \n",
    "\n",
    "Transaksi fraud dapat dideteksi lebih awal dengan cara membangun model *machine learning* dengan metode klasifikasi. Tugas kita pada project kali ini adalah membuat model klasifikasi untuk mendeteksi transaksi fraud agar dapat dilakukan action plan berikutnya\n",
    "\n",
    "## **Rubrics Penilaian**\n",
    "\n",
    "Untuk menyelesaikan project ini, silahkan mengacu pada rubrics di bawah ini serta memberikan deskripsi dari proses yang Anda kerjakan untuk setiap bagian.\n",
    "\n",
    "***Data Preparation***\n",
    "\n",
    "(1 poin) Bagaimana melakukan persiapan data sebelum dilakukan pemodelan.\n",
    "\n",
    "- Metode apa saja yang yang dilakukan dalam proses persiapan data?\n",
    "- Apakah terdapat data yang *missing* atau *duplicate*, bagaimana cara mengatasi data tersebut?\n",
    "Referensi: [dokumentasi pandas](https://pandas.pydata.org/docs/reference/api/pandas.DataFrame.fillna.html) atau [FAQ](https://askalgo-py.netlify.app/faq/eda?highlight=fillna#missing-values)\n",
    "\n",
    "(4 poin) Bagaimana cara untuk melakukan *feature engineering* ataupun pemilihan variabel dari data yang tersedia.\n",
    "\n",
    "- Apakah terdapat variable yang dihilangkan? Jika iya, kenapa?\n",
    "- Apakah terdapat variable yang ditambahkan? Jika iya, kenapa?\n",
    "\n",
    "***Exploratory Data Analysis***\n",
    "\n",
    "(2 poin) *Exploratory Data Analysis*\n",
    "\n",
    "- Berikan penjelasan informatif dari visualisasi dan/atau segala jenis hasil eksplorasi Anda.\n",
    "- Bagaimana distribusi data pada setiap variabel?\n",
    "- Apakah terdapat informasi menarik antara variable predictor dengan variable target?\n",
    "\n",
    "***Data Pre-processing and Model Fitting***\n",
    "\n",
    "(2 poin) *Data Pre-processing*\n",
    "\n",
    "- Apakah terdapat variabel yang harus di-encoding? Kalau ada, apa saja dan kenapa?\n",
    "- Bagaimana pembagian proporsi Data Train & Test?\n",
    "\n",
    "(4 poin) Membuat model, pilih model berdasarkan model yang sudah diajarkan dikelas (logistic regression / knn)\n",
    "\n",
    "- Buatlah model yang dapat menjawab pertanyaan bisnis di atas.\n",
    "- Variable apa yang dirasa cukup penting dalam pembuatan model? Sertakan alasannya.\n",
    "- Metode evaluasi apa yang cocok digunakan untuk kasus ini? Jelaskan.\n",
    "\n",
    "***Prediction Performance***\n",
    "\n",
    "(1 poin) Metrics yang dipilih mencapai 60% pada data train \n",
    "(2 poin) Metrics yang dipilih mencapai 60% pada data test \n",
    "\n",
    "***Conclusion***\n",
    "\n",
    "(2 poin) Tuliskan kesimpulan dari project yang anda kerjakan. \n",
    "\n",
    "- Apakah model sudah dapat melakukan prediksi dengan baik? Jelaskan.\n",
    "- Apakah model sudah dapat menjawab pertanyaan bisnis yang ada? Jelaskan.\n",
    "- Action plan apa yang dapat dilakukan untuk tindakan preventif transaksi fraud?\n",
    "\n",
    "**Total Poin Capstone Project : 18**\n",
    "\n",
    "NOTE:\n",
    "\n",
    "Apabila Anda sudah berhasil mendapatkan model yang baik dan berhasil menjawab seluruh rubric di atas, Anda diperkenankan untuk melakukan eksplorasi model menggunakan metode lain di luar yang diajarkan di kelas. Hasil model yang mendapatkan metrics pengukuran paling baik akan mendapatkan bonus nilai (di luar nilai capstone)."
   ]
  },
  {
   "cell_type": "markdown",
   "id": "27827367",
   "metadata": {},
   "source": [
    "**Penjelasan Dataset**\n",
    "\n",
    "Berikut adalah penjelasan setiap kolom yang terdapat pada _dataset_ yang akan digunakan:\n",
    "\n",
    "- `X`: ID kartu\n",
    "- `id_tanggal_transaksi_awal`: ID tanggal transaksi dilakukan\n",
    "- `tanggal_transaksi_awal`: tanggal dilakukan transaksi (POSIX format)\n",
    "- `tipe_kartu`: tipe kartu yang bertransaksi\n",
    "- `id_merchant`: ID merchant kartu tersebut bertransaksi \n",
    "- `nama_merchant`: nama merchant kartu tersebut bertransaksi\n",
    "- `tipe_mesin`: tipe mesin yang digunakan untuk bertransaksi (ATM, EDC, dll) \n",
    "- `tipe_transaksi`: jenis transaksi \n",
    "- `nama_transaksi`: nama jenis transaksi \n",
    "- `nilai_transaksi`: nilai uang yang tercatat saat transaksi\n",
    "- `id_negara`: ID negara tempat terjadi transaksi \n",
    "- `nama_negara`: nama negara tempat terjadi transaksi\n",
    "- `nama_kota`: nama kota tempat terjadi transaksi\n",
    "- `lokasi_mesin` : lokasi mesin\n",
    "- `pemilik_mesin`: pemilik mesin \n",
    "- `waktu_transaksi`: waktu transaksi berlangsung\n",
    "- `kuartal_transaksi`: kuartal waktu transaksi berlangsung\n",
    "- `kepemilikan_kartu`: kepemilikan kartu\n",
    "- `nama_channel`: nama channel kartu tersebut bertransaksi\n",
    "- `id_channel`: ID channel kartu tersebut bertransaksi\n",
    "- `flag_transaksi_finansial`: jenis transaksi\n",
    "- `status_transaksi`: keberhasilan atau kegagalan transaksi\n",
    "- `bank_pemilik_kartu`: kepemilikan kartu yang dimiliki suatu bank\n",
    "- `rata_rata_nilai_transaksi`: rata - rata nilai transaksi\n",
    "- `maksimum_nilai_transaksi`: nilai maksimum transaksi\n",
    "- `minimum_nilai_transaksi`: nilai minimum transaksi\n",
    "- `rata_rata_jumlah_transaksi`: rata - rata jumlah transaksi\n",
    "- `flag_transaksi_fraud`: transaksi fraud (1) atau tidak fraud (0)"
   ]
  },
  {
   "cell_type": "markdown",
   "id": "33b9057d-71d4-406a-a009-d78892b9f8d5",
   "metadata": {},
   "source": [
    "## ***Data Preparation***\n",
    "\n",
    "(1 poin) Bagaimana melakukan persiapan data sebelum dilakukan pemodelan.\n",
    "\n",
    "- Metode apa saja yang yang dilakukan dalam proses persiapan data?\n",
    "- Apakah terdapat data yang *missing* atau *duplicate*, bagaimana cara mengatasi data tersebut?\n",
    "Referensi: [dokumentasi pandas](https://pandas.pydata.org/docs/reference/api/pandas.DataFrame.fillna.html) atau [FAQ](https://askalgo-py.netlify.app/faq/eda?highlight=fillna#missing-values)u FAQ"
   ]
  },
  {
   "cell_type": "markdown",
   "id": "e46c4106-5e19-482f-993e-9ee84401d346",
   "metadata": {},
   "source": [
    "### Import Library yang dibutuhkan"
   ]
  },
  {
   "cell_type": "code",
   "execution_count": 594,
   "id": "fc889576-534c-4bce-902b-ff97db0d47cb",
   "metadata": {
    "execution": {
     "iopub.execute_input": "2024-01-11T06:02:28.227305Z",
     "iopub.status.busy": "2024-01-11T06:02:28.226307Z",
     "iopub.status.idle": "2024-01-11T06:02:28.242307Z",
     "shell.execute_reply": "2024-01-11T06:02:28.240306Z",
     "shell.execute_reply.started": "2024-01-11T06:02:28.227305Z"
    }
   },
   "outputs": [],
   "source": [
    "import pandas as pd\n",
    "import numpy as np\n",
    "from datetime import datetime\n",
    "import seaborn as sns\n",
    "import matplotlib\n",
    "from sklearn.neighbors import KNeighborsClassifier\n",
    "from sklearn.model_selection import train_test_split\n",
    "import statsmodels.api as sm\n",
    "from sklearn.metrics import recall_score, precision_score, accuracy_score\n",
    "from sklearn.preprocessing import StandardScaler"
   ]
  },
  {
   "cell_type": "markdown",
   "id": "00b9b16b-6c52-4cf8-825c-086c6cdd1b25",
   "metadata": {},
   "source": [
    "### Read Data"
   ]
  },
  {
   "cell_type": "code",
   "execution_count": 486,
   "id": "2531e7fd-4a8d-4ef7-ac20-e3bbcbdcc417",
   "metadata": {
    "execution": {
     "iopub.execute_input": "2024-01-11T05:07:54.165567Z",
     "iopub.status.busy": "2024-01-11T05:07:54.164574Z",
     "iopub.status.idle": "2024-01-11T05:07:54.207574Z",
     "shell.execute_reply": "2024-01-11T05:07:54.206572Z",
     "shell.execute_reply.started": "2024-01-11T05:07:54.165567Z"
    }
   },
   "outputs": [
    {
     "data": {
      "text/html": [
       "<div>\n",
       "<style scoped>\n",
       "    .dataframe tbody tr th:only-of-type {\n",
       "        vertical-align: middle;\n",
       "    }\n",
       "\n",
       "    .dataframe tbody tr th {\n",
       "        vertical-align: top;\n",
       "    }\n",
       "\n",
       "    .dataframe thead th {\n",
       "        text-align: right;\n",
       "    }\n",
       "</style>\n",
       "<table border=\"1\" class=\"dataframe\">\n",
       "  <thead>\n",
       "    <tr style=\"text-align: right;\">\n",
       "      <th></th>\n",
       "      <th>0</th>\n",
       "      <th>1</th>\n",
       "      <th>2</th>\n",
       "      <th>3</th>\n",
       "      <th>4</th>\n",
       "    </tr>\n",
       "  </thead>\n",
       "  <tbody>\n",
       "    <tr>\n",
       "      <th>X</th>\n",
       "      <td>4676</td>\n",
       "      <td>788</td>\n",
       "      <td>1520</td>\n",
       "      <td>9346</td>\n",
       "      <td>2914</td>\n",
       "    </tr>\n",
       "    <tr>\n",
       "      <th>id_tanggal_transaksi_awal</th>\n",
       "      <td>2457646</td>\n",
       "      <td>2457419</td>\n",
       "      <td>2457521</td>\n",
       "      <td>2457659</td>\n",
       "      <td>2457311</td>\n",
       "    </tr>\n",
       "    <tr>\n",
       "      <th>tanggal_transaksi_awal</th>\n",
       "      <td>2457726</td>\n",
       "      <td>2457507</td>\n",
       "      <td>2457612</td>\n",
       "      <td>2457746</td>\n",
       "      <td>2457385</td>\n",
       "    </tr>\n",
       "    <tr>\n",
       "      <th>tipe_kartu</th>\n",
       "      <td>111</td>\n",
       "      <td>111</td>\n",
       "      <td>2</td>\n",
       "      <td>103</td>\n",
       "      <td>0</td>\n",
       "    </tr>\n",
       "    <tr>\n",
       "      <th>id_merchant</th>\n",
       "      <td>-2</td>\n",
       "      <td>-2</td>\n",
       "      <td>-2</td>\n",
       "      <td>75336</td>\n",
       "      <td>-2</td>\n",
       "    </tr>\n",
       "    <tr>\n",
       "      <th>nama_merchant</th>\n",
       "      <td>1798</td>\n",
       "      <td>1798</td>\n",
       "      <td>1798</td>\n",
       "      <td>249</td>\n",
       "      <td>1798</td>\n",
       "    </tr>\n",
       "    <tr>\n",
       "      <th>tipe_mesin</th>\n",
       "      <td>2605127</td>\n",
       "      <td>-3</td>\n",
       "      <td>-3</td>\n",
       "      <td>2806174</td>\n",
       "      <td>2334932</td>\n",
       "    </tr>\n",
       "    <tr>\n",
       "      <th>tipe_transaksi</th>\n",
       "      <td>26</td>\n",
       "      <td>156</td>\n",
       "      <td>156</td>\n",
       "      <td>58</td>\n",
       "      <td>26</td>\n",
       "    </tr>\n",
       "    <tr>\n",
       "      <th>nama_transaksi</th>\n",
       "      <td>10</td>\n",
       "      <td>12</td>\n",
       "      <td>12</td>\n",
       "      <td>6</td>\n",
       "      <td>10</td>\n",
       "    </tr>\n",
       "    <tr>\n",
       "      <th>nilai_transaksi</th>\n",
       "      <td>2200000.0</td>\n",
       "      <td>2500000.0</td>\n",
       "      <td>1200000.0</td>\n",
       "      <td>320000.0</td>\n",
       "      <td>150000.0</td>\n",
       "    </tr>\n",
       "    <tr>\n",
       "      <th>id_negara</th>\n",
       "      <td>96</td>\n",
       "      <td>96</td>\n",
       "      <td>96</td>\n",
       "      <td>96</td>\n",
       "      <td>96</td>\n",
       "    </tr>\n",
       "    <tr>\n",
       "      <th>nama_negara</th>\n",
       "      <td>5</td>\n",
       "      <td>5</td>\n",
       "      <td>5</td>\n",
       "      <td>5</td>\n",
       "      <td>5</td>\n",
       "    </tr>\n",
       "    <tr>\n",
       "      <th>nama_kota</th>\n",
       "      <td>265</td>\n",
       "      <td>121</td>\n",
       "      <td>101</td>\n",
       "      <td>239</td>\n",
       "      <td>69</td>\n",
       "    </tr>\n",
       "    <tr>\n",
       "      <th>lokasi_mesin</th>\n",
       "      <td>4137</td>\n",
       "      <td>1264</td>\n",
       "      <td>1283</td>\n",
       "      <td>7049</td>\n",
       "      <td>3425</td>\n",
       "    </tr>\n",
       "    <tr>\n",
       "      <th>pemilik_mesin</th>\n",
       "      <td>613</td>\n",
       "      <td>2196</td>\n",
       "      <td>2049</td>\n",
       "      <td>588</td>\n",
       "      <td>613</td>\n",
       "    </tr>\n",
       "    <tr>\n",
       "      <th>waktu_transaksi</th>\n",
       "      <td>193955</td>\n",
       "      <td>73140</td>\n",
       "      <td>140216</td>\n",
       "      <td>155117</td>\n",
       "      <td>143339</td>\n",
       "    </tr>\n",
       "    <tr>\n",
       "      <th>kuartal_transaksi</th>\n",
       "      <td>4</td>\n",
       "      <td>2</td>\n",
       "      <td>3</td>\n",
       "      <td>3</td>\n",
       "      <td>3</td>\n",
       "    </tr>\n",
       "    <tr>\n",
       "      <th>kepemilikan_kartu</th>\n",
       "      <td>2</td>\n",
       "      <td>1</td>\n",
       "      <td>1</td>\n",
       "      <td>2</td>\n",
       "      <td>2</td>\n",
       "    </tr>\n",
       "    <tr>\n",
       "      <th>nama_channel</th>\n",
       "      <td>1</td>\n",
       "      <td>5</td>\n",
       "      <td>5</td>\n",
       "      <td>2</td>\n",
       "      <td>1</td>\n",
       "    </tr>\n",
       "    <tr>\n",
       "      <th>id_channel</th>\n",
       "      <td>9</td>\n",
       "      <td>8</td>\n",
       "      <td>8</td>\n",
       "      <td>4</td>\n",
       "      <td>9</td>\n",
       "    </tr>\n",
       "    <tr>\n",
       "      <th>flag_transaksi_finansial</th>\n",
       "      <td>False</td>\n",
       "      <td>False</td>\n",
       "      <td>False</td>\n",
       "      <td>False</td>\n",
       "      <td>False</td>\n",
       "    </tr>\n",
       "    <tr>\n",
       "      <th>status_transaksi</th>\n",
       "      <td>3</td>\n",
       "      <td>3</td>\n",
       "      <td>3</td>\n",
       "      <td>3</td>\n",
       "      <td>3</td>\n",
       "    </tr>\n",
       "    <tr>\n",
       "      <th>bank_pemilik_kartu</th>\n",
       "      <td>999</td>\n",
       "      <td>999</td>\n",
       "      <td>999</td>\n",
       "      <td>999</td>\n",
       "      <td>999</td>\n",
       "    </tr>\n",
       "    <tr>\n",
       "      <th>rata_rata_nilai_transaksi</th>\n",
       "      <td>1332292.784</td>\n",
       "      <td>1369047.619</td>\n",
       "      <td>15523460.4</td>\n",
       "      <td>711764.7059</td>\n",
       "      <td>617968.254</td>\n",
       "    </tr>\n",
       "    <tr>\n",
       "      <th>maksimum_nilai_transaksi</th>\n",
       "      <td>9750000.0</td>\n",
       "      <td>10000000.0</td>\n",
       "      <td>100000000.0</td>\n",
       "      <td>6884408.0</td>\n",
       "      <td>2500000.0</td>\n",
       "    </tr>\n",
       "    <tr>\n",
       "      <th>minimum_nilai_transaksi</th>\n",
       "      <td>10000.0</td>\n",
       "      <td>30000.0</td>\n",
       "      <td>41804.0</td>\n",
       "      <td>10000.0</td>\n",
       "      <td>100000.0</td>\n",
       "    </tr>\n",
       "    <tr>\n",
       "      <th>rata_rata_jumlah_transaksi</th>\n",
       "      <td>2.73</td>\n",
       "      <td>2.33</td>\n",
       "      <td>2.4</td>\n",
       "      <td>1.98</td>\n",
       "      <td>1.46</td>\n",
       "    </tr>\n",
       "    <tr>\n",
       "      <th>flag_transaksi_fraud</th>\n",
       "      <td>0</td>\n",
       "      <td>1</td>\n",
       "      <td>0</td>\n",
       "      <td>0</td>\n",
       "      <td>0</td>\n",
       "    </tr>\n",
       "  </tbody>\n",
       "</table>\n",
       "</div>"
      ],
      "text/plain": [
       "                                      0            1            2  \\\n",
       "X                                  4676          788         1520   \n",
       "id_tanggal_transaksi_awal       2457646      2457419      2457521   \n",
       "tanggal_transaksi_awal          2457726      2457507      2457612   \n",
       "tipe_kartu                          111          111            2   \n",
       "id_merchant                          -2           -2           -2   \n",
       "nama_merchant                      1798         1798         1798   \n",
       "tipe_mesin                      2605127           -3           -3   \n",
       "tipe_transaksi                       26          156          156   \n",
       "nama_transaksi                       10           12           12   \n",
       "nilai_transaksi               2200000.0    2500000.0    1200000.0   \n",
       "id_negara                            96           96           96   \n",
       "nama_negara                           5            5            5   \n",
       "nama_kota                           265          121          101   \n",
       "lokasi_mesin                       4137         1264         1283   \n",
       "pemilik_mesin                       613         2196         2049   \n",
       "waktu_transaksi                  193955        73140       140216   \n",
       "kuartal_transaksi                     4            2            3   \n",
       "kepemilikan_kartu                     2            1            1   \n",
       "nama_channel                          1            5            5   \n",
       "id_channel                            9            8            8   \n",
       "flag_transaksi_finansial          False        False        False   \n",
       "status_transaksi                      3            3            3   \n",
       "bank_pemilik_kartu                  999          999          999   \n",
       "rata_rata_nilai_transaksi   1332292.784  1369047.619   15523460.4   \n",
       "maksimum_nilai_transaksi      9750000.0   10000000.0  100000000.0   \n",
       "minimum_nilai_transaksi         10000.0      30000.0      41804.0   \n",
       "rata_rata_jumlah_transaksi         2.73         2.33          2.4   \n",
       "flag_transaksi_fraud                  0            1            0   \n",
       "\n",
       "                                      3           4  \n",
       "X                                  9346        2914  \n",
       "id_tanggal_transaksi_awal       2457659     2457311  \n",
       "tanggal_transaksi_awal          2457746     2457385  \n",
       "tipe_kartu                          103           0  \n",
       "id_merchant                       75336          -2  \n",
       "nama_merchant                       249        1798  \n",
       "tipe_mesin                      2806174     2334932  \n",
       "tipe_transaksi                       58          26  \n",
       "nama_transaksi                        6          10  \n",
       "nilai_transaksi                320000.0    150000.0  \n",
       "id_negara                            96          96  \n",
       "nama_negara                           5           5  \n",
       "nama_kota                           239          69  \n",
       "lokasi_mesin                       7049        3425  \n",
       "pemilik_mesin                       588         613  \n",
       "waktu_transaksi                  155117      143339  \n",
       "kuartal_transaksi                     3           3  \n",
       "kepemilikan_kartu                     2           2  \n",
       "nama_channel                          2           1  \n",
       "id_channel                            4           9  \n",
       "flag_transaksi_finansial          False       False  \n",
       "status_transaksi                      3           3  \n",
       "bank_pemilik_kartu                  999         999  \n",
       "rata_rata_nilai_transaksi   711764.7059  617968.254  \n",
       "maksimum_nilai_transaksi      6884408.0   2500000.0  \n",
       "minimum_nilai_transaksi         10000.0    100000.0  \n",
       "rata_rata_jumlah_transaksi         1.98        1.46  \n",
       "flag_transaksi_fraud                  0           0  "
      ]
     },
     "execution_count": 486,
     "metadata": {},
     "output_type": "execute_result"
    }
   ],
   "source": [
    "fraud = pd.read_csv('transaksi_fraud.csv')\n",
    "fraud.head().T"
   ]
  },
  {
   "cell_type": "markdown",
   "id": "f61c9dea-9b9f-47fc-ae48-4cbdf7bb18e0",
   "metadata": {},
   "source": [
    "### Cek keseimbangan fraudnya"
   ]
  },
  {
   "cell_type": "code",
   "execution_count": 487,
   "id": "59dd027f-0202-4739-be5d-105e9f7e60e1",
   "metadata": {
    "execution": {
     "iopub.execute_input": "2024-01-11T05:07:54.208564Z",
     "iopub.status.busy": "2024-01-11T05:07:54.208564Z",
     "iopub.status.idle": "2024-01-11T05:07:54.223575Z",
     "shell.execute_reply": "2024-01-11T05:07:54.221592Z",
     "shell.execute_reply.started": "2024-01-11T05:07:54.208564Z"
    }
   },
   "outputs": [
    {
     "data": {
      "text/plain": [
       "flag_transaksi_fraud\n",
       "0    12215\n",
       "1      910\n",
       "Name: count, dtype: int64"
      ]
     },
     "execution_count": 487,
     "metadata": {},
     "output_type": "execute_result"
    }
   ],
   "source": [
    "fraud_asli = fraud.copy()\n",
    "fraud_asli['flag_transaksi_fraud'].value_counts()"
   ]
  },
  {
   "cell_type": "markdown",
   "id": "dda388ec-5cb0-44bf-9347-206441272b31",
   "metadata": {},
   "source": [
    "### Cek informasi sekilas dan tipe data"
   ]
  },
  {
   "cell_type": "code",
   "execution_count": 488,
   "id": "37e297d7-bdea-4fdd-a015-00fff3490d77",
   "metadata": {
    "execution": {
     "iopub.execute_input": "2024-01-11T05:07:54.225577Z",
     "iopub.status.busy": "2024-01-11T05:07:54.224575Z",
     "iopub.status.idle": "2024-01-11T05:07:54.238574Z",
     "shell.execute_reply": "2024-01-11T05:07:54.237584Z",
     "shell.execute_reply.started": "2024-01-11T05:07:54.225577Z"
    },
    "scrolled": true
   },
   "outputs": [
    {
     "name": "stdout",
     "output_type": "stream",
     "text": [
      "<class 'pandas.core.frame.DataFrame'>\n",
      "RangeIndex: 13125 entries, 0 to 13124\n",
      "Data columns (total 28 columns):\n",
      " #   Column                      Non-Null Count  Dtype  \n",
      "---  ------                      --------------  -----  \n",
      " 0   X                           13125 non-null  int64  \n",
      " 1   id_tanggal_transaksi_awal   13125 non-null  int64  \n",
      " 2   tanggal_transaksi_awal      13125 non-null  int64  \n",
      " 3   tipe_kartu                  13125 non-null  int64  \n",
      " 4   id_merchant                 13125 non-null  int64  \n",
      " 5   nama_merchant               13125 non-null  int64  \n",
      " 6   tipe_mesin                  13125 non-null  int64  \n",
      " 7   tipe_transaksi              13125 non-null  int64  \n",
      " 8   nama_transaksi              13125 non-null  int64  \n",
      " 9   nilai_transaksi             13125 non-null  float64\n",
      " 10  id_negara                   13125 non-null  int64  \n",
      " 11  nama_negara                 13125 non-null  int64  \n",
      " 12  nama_kota                   13125 non-null  int64  \n",
      " 13  lokasi_mesin                13125 non-null  int64  \n",
      " 14  pemilik_mesin               13125 non-null  int64  \n",
      " 15  waktu_transaksi             13125 non-null  int64  \n",
      " 16  kuartal_transaksi           13125 non-null  int64  \n",
      " 17  kepemilikan_kartu           13125 non-null  int64  \n",
      " 18  nama_channel                13125 non-null  int64  \n",
      " 19  id_channel                  13125 non-null  int64  \n",
      " 20  flag_transaksi_finansial    13125 non-null  bool   \n",
      " 21  status_transaksi            13125 non-null  int64  \n",
      " 22  bank_pemilik_kartu          13125 non-null  int64  \n",
      " 23  rata_rata_nilai_transaksi   13104 non-null  float64\n",
      " 24  maksimum_nilai_transaksi    13104 non-null  float64\n",
      " 25  minimum_nilai_transaksi     13104 non-null  float64\n",
      " 26  rata_rata_jumlah_transaksi  13104 non-null  float64\n",
      " 27  flag_transaksi_fraud        13125 non-null  int64  \n",
      "dtypes: bool(1), float64(5), int64(22)\n",
      "memory usage: 2.7 MB\n"
     ]
    }
   ],
   "source": [
    "fraud.info()"
   ]
  },
  {
   "cell_type": "markdown",
   "id": "1c006b7f-1bae-4a1c-9ff9-245479e4d7c5",
   "metadata": {},
   "source": [
    "Berdasarkan deskripsi data sebelumnya dan `fraud.info()` maka beberapa kolom akan diubah ke tipe data lain.\n",
    "\n",
    "- `object` = ['X', 'id_tanggal_transaksi_awal', 'nama_channel', 'id_channel', 'bank_pemilik_kartu', 'id_merchant', 'nama_merchant', 'nama_transaksi']\n",
    "- `category` = ['tipe_kartu', 'tipe_mesin', 'tipe_transaksi', 'id_negara', 'nama_negara', 'nama_kota', 'lokasi_mesin', 'pemilik_mesin',  'kepemilikan_kartu', 'status_transaksi']\n",
    "- `datetime` = ['tanggal_transaksi_awal', 'waktu_transaksi']"
   ]
  },
  {
   "cell_type": "markdown",
   "id": "6194bc99-62a7-473f-a9f4-5917f4150a32",
   "metadata": {},
   "source": [
    "### Ubah datatype"
   ]
  },
  {
   "cell_type": "code",
   "execution_count": 489,
   "id": "cdd2b0de-b5c4-47d2-9ccb-955f2d127a85",
   "metadata": {
    "execution": {
     "iopub.execute_input": "2024-01-11T05:07:54.241567Z",
     "iopub.status.busy": "2024-01-11T05:07:54.241567Z",
     "iopub.status.idle": "2024-01-11T05:07:54.254564Z",
     "shell.execute_reply": "2024-01-11T05:07:54.252578Z",
     "shell.execute_reply.started": "2024-01-11T05:07:54.241567Z"
    }
   },
   "outputs": [],
   "source": [
    "obj_kolom = ['X', 'id_tanggal_transaksi_awal', 'nama_channel', 'id_channel', 'bank_pemilik_kartu', 'id_merchant', 'nama_merchant', 'nama_transaksi']\n",
    "cat_kolom = ['kuartal_transaksi', 'tipe_kartu', 'tipe_mesin', 'tipe_transaksi', 'id_negara', 'nama_negara', 'nama_kota', 'lokasi_mesin', 'pemilik_mesin', 'kepemilikan_kartu', 'status_transaksi']\n",
    "dt_kolom = ['tanggal_transaksi_awal', 'waktu_transaksi']"
   ]
  },
  {
   "cell_type": "code",
   "execution_count": 490,
   "id": "d82ed0fe-225c-4d12-b743-768e7150591b",
   "metadata": {
    "execution": {
     "iopub.execute_input": "2024-01-11T05:07:54.255565Z",
     "iopub.status.busy": "2024-01-11T05:07:54.255565Z",
     "iopub.status.idle": "2024-01-11T05:07:54.317564Z",
     "shell.execute_reply": "2024-01-11T05:07:54.316572Z",
     "shell.execute_reply.started": "2024-01-11T05:07:54.255565Z"
    }
   },
   "outputs": [],
   "source": [
    "# -> object\n",
    "fraud[obj_kolom] = fraud[obj_kolom].astype('object')\n",
    "# -> category\n",
    "fraud[cat_kolom] = fraud[cat_kolom].astype('category')\n",
    "# -> datetime\n",
    "fraud['tanggal_transaksi_awal'] = fraud['tanggal_transaksi_awal'].apply(lambda x : datetime.fromtimestamp(x))\n",
    "fraud['waktu_transaksi'] = fraud['waktu_transaksi'].apply(lambda x : datetime.fromtimestamp(x))"
   ]
  },
  {
   "cell_type": "code",
   "execution_count": 491,
   "id": "83385bd4-e2fd-40d1-88d3-0acb465ea0c1",
   "metadata": {
    "execution": {
     "iopub.execute_input": "2024-01-11T05:07:54.318573Z",
     "iopub.status.busy": "2024-01-11T05:07:54.318573Z",
     "iopub.status.idle": "2024-01-11T05:07:54.348574Z",
     "shell.execute_reply": "2024-01-11T05:07:54.347575Z",
     "shell.execute_reply.started": "2024-01-11T05:07:54.318573Z"
    }
   },
   "outputs": [
    {
     "name": "stdout",
     "output_type": "stream",
     "text": [
      "<class 'pandas.core.frame.DataFrame'>\n",
      "RangeIndex: 13125 entries, 0 to 13124\n",
      "Data columns (total 28 columns):\n",
      " #   Column                      Non-Null Count  Dtype         \n",
      "---  ------                      --------------  -----         \n",
      " 0   X                           13125 non-null  object        \n",
      " 1   id_tanggal_transaksi_awal   13125 non-null  object        \n",
      " 2   tanggal_transaksi_awal      13125 non-null  datetime64[ns]\n",
      " 3   tipe_kartu                  13125 non-null  category      \n",
      " 4   id_merchant                 13125 non-null  object        \n",
      " 5   nama_merchant               13125 non-null  object        \n",
      " 6   tipe_mesin                  13125 non-null  category      \n",
      " 7   tipe_transaksi              13125 non-null  category      \n",
      " 8   nama_transaksi              13125 non-null  object        \n",
      " 9   nilai_transaksi             13125 non-null  float64       \n",
      " 10  id_negara                   13125 non-null  category      \n",
      " 11  nama_negara                 13125 non-null  category      \n",
      " 12  nama_kota                   13125 non-null  category      \n",
      " 13  lokasi_mesin                13125 non-null  category      \n",
      " 14  pemilik_mesin               13125 non-null  category      \n",
      " 15  waktu_transaksi             13125 non-null  datetime64[ns]\n",
      " 16  kuartal_transaksi           13125 non-null  category      \n",
      " 17  kepemilikan_kartu           13125 non-null  category      \n",
      " 18  nama_channel                13125 non-null  object        \n",
      " 19  id_channel                  13125 non-null  object        \n",
      " 20  flag_transaksi_finansial    13125 non-null  bool          \n",
      " 21  status_transaksi            13125 non-null  category      \n",
      " 22  bank_pemilik_kartu          13125 non-null  object        \n",
      " 23  rata_rata_nilai_transaksi   13104 non-null  float64       \n",
      " 24  maksimum_nilai_transaksi    13104 non-null  float64       \n",
      " 25  minimum_nilai_transaksi     13104 non-null  float64       \n",
      " 26  rata_rata_jumlah_transaksi  13104 non-null  float64       \n",
      " 27  flag_transaksi_fraud        13125 non-null  int64         \n",
      "dtypes: bool(1), category(11), datetime64[ns](2), float64(5), int64(1), object(8)\n",
      "memory usage: 2.2+ MB\n"
     ]
    }
   ],
   "source": [
    "fraud.info()"
   ]
  },
  {
   "cell_type": "markdown",
   "id": "a1c089e7-966e-4ca9-bd08-2e6d5dbbbedb",
   "metadata": {},
   "source": [
    "### Cek deskripsi data numerik dan kategorik"
   ]
  },
  {
   "cell_type": "code",
   "execution_count": 492,
   "id": "4af3eb74-40a3-4f80-b482-67f2ae478fc5",
   "metadata": {
    "execution": {
     "iopub.execute_input": "2024-01-11T05:07:54.350575Z",
     "iopub.status.busy": "2024-01-11T05:07:54.349585Z",
     "iopub.status.idle": "2024-01-11T05:07:54.395677Z",
     "shell.execute_reply": "2024-01-11T05:07:54.394700Z",
     "shell.execute_reply.started": "2024-01-11T05:07:54.350575Z"
    }
   },
   "outputs": [
    {
     "data": {
      "text/html": [
       "<div>\n",
       "<style scoped>\n",
       "    .dataframe tbody tr th:only-of-type {\n",
       "        vertical-align: middle;\n",
       "    }\n",
       "\n",
       "    .dataframe tbody tr th {\n",
       "        vertical-align: top;\n",
       "    }\n",
       "\n",
       "    .dataframe thead th {\n",
       "        text-align: right;\n",
       "    }\n",
       "</style>\n",
       "<table border=\"1\" class=\"dataframe\">\n",
       "  <thead>\n",
       "    <tr style=\"text-align: right;\">\n",
       "      <th></th>\n",
       "      <th>count</th>\n",
       "      <th>mean</th>\n",
       "      <th>min</th>\n",
       "      <th>25%</th>\n",
       "      <th>50%</th>\n",
       "      <th>75%</th>\n",
       "      <th>max</th>\n",
       "      <th>std</th>\n",
       "    </tr>\n",
       "  </thead>\n",
       "  <tbody>\n",
       "    <tr>\n",
       "      <th>tanggal_transaksi_awal</th>\n",
       "      <td>13125</td>\n",
       "      <td>1970-01-29 17:39:00.576761904</td>\n",
       "      <td>1970-01-29 17:35:03</td>\n",
       "      <td>1970-01-29 17:37:31</td>\n",
       "      <td>1970-01-29 17:39:03</td>\n",
       "      <td>1970-01-29 17:40:32</td>\n",
       "      <td>1970-01-29 17:42:34</td>\n",
       "      <td>NaN</td>\n",
       "    </tr>\n",
       "    <tr>\n",
       "      <th>nilai_transaksi</th>\n",
       "      <td>13125.0</td>\n",
       "      <td>1315218.824267</td>\n",
       "      <td>1.0</td>\n",
       "      <td>200000.0</td>\n",
       "      <td>570000.0</td>\n",
       "      <td>1250000.0</td>\n",
       "      <td>75000000.0</td>\n",
       "      <td>2838050.053336</td>\n",
       "    </tr>\n",
       "    <tr>\n",
       "      <th>waktu_transaksi</th>\n",
       "      <td>13125</td>\n",
       "      <td>1970-01-02 21:34:55.669638095</td>\n",
       "      <td>1970-01-01 07:00:47</td>\n",
       "      <td>1970-01-02 11:30:22</td>\n",
       "      <td>1970-01-02 22:05:07</td>\n",
       "      <td>1970-01-03 07:43:40</td>\n",
       "      <td>1970-01-04 00:31:54</td>\n",
       "      <td>NaN</td>\n",
       "    </tr>\n",
       "    <tr>\n",
       "      <th>rata_rata_nilai_transaksi</th>\n",
       "      <td>13104.0</td>\n",
       "      <td>1364131.826769</td>\n",
       "      <td>50000.0</td>\n",
       "      <td>568563.3893</td>\n",
       "      <td>1024239.017</td>\n",
       "      <td>1679777.627</td>\n",
       "      <td>24666666.67</td>\n",
       "      <td>1448583.095472</td>\n",
       "    </tr>\n",
       "    <tr>\n",
       "      <th>maksimum_nilai_transaksi</th>\n",
       "      <td>13104.0</td>\n",
       "      <td>12287602.944063</td>\n",
       "      <td>38000.0</td>\n",
       "      <td>2500000.0</td>\n",
       "      <td>6000000.0</td>\n",
       "      <td>15000000.0</td>\n",
       "      <td>100000000.0</td>\n",
       "      <td>16459046.159531</td>\n",
       "    </tr>\n",
       "    <tr>\n",
       "      <th>minimum_nilai_transaksi</th>\n",
       "      <td>13104.0</td>\n",
       "      <td>76519.328602</td>\n",
       "      <td>1.0</td>\n",
       "      <td>25000.0</td>\n",
       "      <td>36964.0</td>\n",
       "      <td>63200.0</td>\n",
       "      <td>75000000.0</td>\n",
       "      <td>676539.058057</td>\n",
       "    </tr>\n",
       "    <tr>\n",
       "      <th>rata_rata_jumlah_transaksi</th>\n",
       "      <td>13104.0</td>\n",
       "      <td>2.436182</td>\n",
       "      <td>1.0</td>\n",
       "      <td>1.68</td>\n",
       "      <td>2.1</td>\n",
       "      <td>2.79</td>\n",
       "      <td>19.78</td>\n",
       "      <td>1.389367</td>\n",
       "    </tr>\n",
       "    <tr>\n",
       "      <th>flag_transaksi_fraud</th>\n",
       "      <td>13125.0</td>\n",
       "      <td>0.069333</td>\n",
       "      <td>0.0</td>\n",
       "      <td>0.0</td>\n",
       "      <td>0.0</td>\n",
       "      <td>0.0</td>\n",
       "      <td>1.0</td>\n",
       "      <td>0.25403</td>\n",
       "    </tr>\n",
       "  </tbody>\n",
       "</table>\n",
       "</div>"
      ],
      "text/plain": [
       "                              count                           mean  \\\n",
       "tanggal_transaksi_awal        13125  1970-01-29 17:39:00.576761904   \n",
       "nilai_transaksi             13125.0                 1315218.824267   \n",
       "waktu_transaksi               13125  1970-01-02 21:34:55.669638095   \n",
       "rata_rata_nilai_transaksi   13104.0                 1364131.826769   \n",
       "maksimum_nilai_transaksi    13104.0                12287602.944063   \n",
       "minimum_nilai_transaksi     13104.0                   76519.328602   \n",
       "rata_rata_jumlah_transaksi  13104.0                       2.436182   \n",
       "flag_transaksi_fraud        13125.0                       0.069333   \n",
       "\n",
       "                                            min                  25%  \\\n",
       "tanggal_transaksi_awal      1970-01-29 17:35:03  1970-01-29 17:37:31   \n",
       "nilai_transaksi                             1.0             200000.0   \n",
       "waktu_transaksi             1970-01-01 07:00:47  1970-01-02 11:30:22   \n",
       "rata_rata_nilai_transaksi               50000.0          568563.3893   \n",
       "maksimum_nilai_transaksi                38000.0            2500000.0   \n",
       "minimum_nilai_transaksi                     1.0              25000.0   \n",
       "rata_rata_jumlah_transaksi                  1.0                 1.68   \n",
       "flag_transaksi_fraud                        0.0                  0.0   \n",
       "\n",
       "                                            50%                  75%  \\\n",
       "tanggal_transaksi_awal      1970-01-29 17:39:03  1970-01-29 17:40:32   \n",
       "nilai_transaksi                        570000.0            1250000.0   \n",
       "waktu_transaksi             1970-01-02 22:05:07  1970-01-03 07:43:40   \n",
       "rata_rata_nilai_transaksi           1024239.017          1679777.627   \n",
       "maksimum_nilai_transaksi              6000000.0           15000000.0   \n",
       "minimum_nilai_transaksi                 36964.0              63200.0   \n",
       "rata_rata_jumlah_transaksi                  2.1                 2.79   \n",
       "flag_transaksi_fraud                        0.0                  0.0   \n",
       "\n",
       "                                            max              std  \n",
       "tanggal_transaksi_awal      1970-01-29 17:42:34              NaN  \n",
       "nilai_transaksi                      75000000.0   2838050.053336  \n",
       "waktu_transaksi             1970-01-04 00:31:54              NaN  \n",
       "rata_rata_nilai_transaksi           24666666.67   1448583.095472  \n",
       "maksimum_nilai_transaksi            100000000.0  16459046.159531  \n",
       "minimum_nilai_transaksi              75000000.0    676539.058057  \n",
       "rata_rata_jumlah_transaksi                19.78         1.389367  \n",
       "flag_transaksi_fraud                        1.0          0.25403  "
      ]
     },
     "execution_count": 492,
     "metadata": {},
     "output_type": "execute_result"
    }
   ],
   "source": [
    "# numerik\n",
    "fraud.describe().T"
   ]
  },
  {
   "cell_type": "code",
   "execution_count": 493,
   "id": "d64d1d7a-4039-426e-99f7-a942bf990baf",
   "metadata": {
    "execution": {
     "iopub.execute_input": "2024-01-11T05:07:54.397677Z",
     "iopub.status.busy": "2024-01-11T05:07:54.396722Z",
     "iopub.status.idle": "2024-01-11T05:07:54.458128Z",
     "shell.execute_reply": "2024-01-11T05:07:54.457136Z",
     "shell.execute_reply.started": "2024-01-11T05:07:54.397677Z"
    },
    "scrolled": true
   },
   "outputs": [
    {
     "data": {
      "text/html": [
       "<div>\n",
       "<style scoped>\n",
       "    .dataframe tbody tr th:only-of-type {\n",
       "        vertical-align: middle;\n",
       "    }\n",
       "\n",
       "    .dataframe tbody tr th {\n",
       "        vertical-align: top;\n",
       "    }\n",
       "\n",
       "    .dataframe thead th {\n",
       "        text-align: right;\n",
       "    }\n",
       "</style>\n",
       "<table border=\"1\" class=\"dataframe\">\n",
       "  <thead>\n",
       "    <tr style=\"text-align: right;\">\n",
       "      <th></th>\n",
       "      <th>count</th>\n",
       "      <th>unique</th>\n",
       "      <th>top</th>\n",
       "      <th>freq</th>\n",
       "    </tr>\n",
       "  </thead>\n",
       "  <tbody>\n",
       "    <tr>\n",
       "      <th>X</th>\n",
       "      <td>13125</td>\n",
       "      <td>8793</td>\n",
       "      <td>2925</td>\n",
       "      <td>6</td>\n",
       "    </tr>\n",
       "    <tr>\n",
       "      <th>id_tanggal_transaksi_awal</th>\n",
       "      <td>13125</td>\n",
       "      <td>360</td>\n",
       "      <td>2457509</td>\n",
       "      <td>169</td>\n",
       "    </tr>\n",
       "    <tr>\n",
       "      <th>tipe_kartu</th>\n",
       "      <td>13125</td>\n",
       "      <td>14</td>\n",
       "      <td>111</td>\n",
       "      <td>4846</td>\n",
       "    </tr>\n",
       "    <tr>\n",
       "      <th>id_merchant</th>\n",
       "      <td>13125</td>\n",
       "      <td>1122</td>\n",
       "      <td>-2</td>\n",
       "      <td>11307</td>\n",
       "    </tr>\n",
       "    <tr>\n",
       "      <th>nama_merchant</th>\n",
       "      <td>13125</td>\n",
       "      <td>1105</td>\n",
       "      <td>1798</td>\n",
       "      <td>11307</td>\n",
       "    </tr>\n",
       "    <tr>\n",
       "      <th>tipe_mesin</th>\n",
       "      <td>13125</td>\n",
       "      <td>5341</td>\n",
       "      <td>-3</td>\n",
       "      <td>883</td>\n",
       "    </tr>\n",
       "    <tr>\n",
       "      <th>tipe_transaksi</th>\n",
       "      <td>13125</td>\n",
       "      <td>20</td>\n",
       "      <td>26</td>\n",
       "      <td>3575</td>\n",
       "    </tr>\n",
       "    <tr>\n",
       "      <th>nama_transaksi</th>\n",
       "      <td>13125</td>\n",
       "      <td>20</td>\n",
       "      <td>10</td>\n",
       "      <td>3575</td>\n",
       "    </tr>\n",
       "    <tr>\n",
       "      <th>id_negara</th>\n",
       "      <td>13125</td>\n",
       "      <td>13</td>\n",
       "      <td>96</td>\n",
       "      <td>13081</td>\n",
       "    </tr>\n",
       "    <tr>\n",
       "      <th>nama_negara</th>\n",
       "      <td>13125</td>\n",
       "      <td>12</td>\n",
       "      <td>5</td>\n",
       "      <td>13080</td>\n",
       "    </tr>\n",
       "    <tr>\n",
       "      <th>nama_kota</th>\n",
       "      <td>13125</td>\n",
       "      <td>229</td>\n",
       "      <td>128</td>\n",
       "      <td>5404</td>\n",
       "    </tr>\n",
       "    <tr>\n",
       "      <th>lokasi_mesin</th>\n",
       "      <td>13125</td>\n",
       "      <td>5814</td>\n",
       "      <td>600</td>\n",
       "      <td>21</td>\n",
       "    </tr>\n",
       "    <tr>\n",
       "      <th>pemilik_mesin</th>\n",
       "      <td>13125</td>\n",
       "      <td>1666</td>\n",
       "      <td>613</td>\n",
       "      <td>10418</td>\n",
       "    </tr>\n",
       "    <tr>\n",
       "      <th>kuartal_transaksi</th>\n",
       "      <td>13125</td>\n",
       "      <td>4</td>\n",
       "      <td>3</td>\n",
       "      <td>5224</td>\n",
       "    </tr>\n",
       "    <tr>\n",
       "      <th>kepemilikan_kartu</th>\n",
       "      <td>13125</td>\n",
       "      <td>2</td>\n",
       "      <td>2</td>\n",
       "      <td>12236</td>\n",
       "    </tr>\n",
       "    <tr>\n",
       "      <th>nama_channel</th>\n",
       "      <td>13125</td>\n",
       "      <td>5</td>\n",
       "      <td>1</td>\n",
       "      <td>10418</td>\n",
       "    </tr>\n",
       "    <tr>\n",
       "      <th>id_channel</th>\n",
       "      <td>13125</td>\n",
       "      <td>4</td>\n",
       "      <td>9</td>\n",
       "      <td>10418</td>\n",
       "    </tr>\n",
       "    <tr>\n",
       "      <th>status_transaksi</th>\n",
       "      <td>13125</td>\n",
       "      <td>1</td>\n",
       "      <td>3</td>\n",
       "      <td>13125</td>\n",
       "    </tr>\n",
       "    <tr>\n",
       "      <th>bank_pemilik_kartu</th>\n",
       "      <td>13125</td>\n",
       "      <td>1</td>\n",
       "      <td>999</td>\n",
       "      <td>13125</td>\n",
       "    </tr>\n",
       "  </tbody>\n",
       "</table>\n",
       "</div>"
      ],
      "text/plain": [
       "                           count  unique      top   freq\n",
       "X                          13125    8793     2925      6\n",
       "id_tanggal_transaksi_awal  13125     360  2457509    169\n",
       "tipe_kartu                 13125      14      111   4846\n",
       "id_merchant                13125    1122       -2  11307\n",
       "nama_merchant              13125    1105     1798  11307\n",
       "tipe_mesin                 13125    5341       -3    883\n",
       "tipe_transaksi             13125      20       26   3575\n",
       "nama_transaksi             13125      20       10   3575\n",
       "id_negara                  13125      13       96  13081\n",
       "nama_negara                13125      12        5  13080\n",
       "nama_kota                  13125     229      128   5404\n",
       "lokasi_mesin               13125    5814      600     21\n",
       "pemilik_mesin              13125    1666      613  10418\n",
       "kuartal_transaksi          13125       4        3   5224\n",
       "kepemilikan_kartu          13125       2        2  12236\n",
       "nama_channel               13125       5        1  10418\n",
       "id_channel                 13125       4        9  10418\n",
       "status_transaksi           13125       1        3  13125\n",
       "bank_pemilik_kartu         13125       1      999  13125"
      ]
     },
     "execution_count": 493,
     "metadata": {},
     "output_type": "execute_result"
    }
   ],
   "source": [
    "# numerik\n",
    "fraud.select_dtypes(include=['object', 'category']).describe().T"
   ]
  },
  {
   "cell_type": "markdown",
   "id": "6cfcc18b-16da-4905-b7df-1b535cbeccfd",
   "metadata": {},
   "source": [
    "### Cek missing atau duplicated"
   ]
  },
  {
   "cell_type": "code",
   "execution_count": 494,
   "id": "86ab28a3-2911-4ab3-823d-621931453b3a",
   "metadata": {
    "execution": {
     "iopub.execute_input": "2024-01-11T05:07:54.459128Z",
     "iopub.status.busy": "2024-01-11T05:07:54.459128Z",
     "iopub.status.idle": "2024-01-11T05:07:54.473130Z",
     "shell.execute_reply": "2024-01-11T05:07:54.472130Z",
     "shell.execute_reply.started": "2024-01-11T05:07:54.459128Z"
    }
   },
   "outputs": [
    {
     "data": {
      "text/plain": [
       "X                              0\n",
       "id_tanggal_transaksi_awal      0\n",
       "tanggal_transaksi_awal         0\n",
       "tipe_kartu                     0\n",
       "id_merchant                    0\n",
       "nama_merchant                  0\n",
       "tipe_mesin                     0\n",
       "tipe_transaksi                 0\n",
       "nama_transaksi                 0\n",
       "nilai_transaksi                0\n",
       "id_negara                      0\n",
       "nama_negara                    0\n",
       "nama_kota                      0\n",
       "lokasi_mesin                   0\n",
       "pemilik_mesin                  0\n",
       "waktu_transaksi                0\n",
       "kuartal_transaksi              0\n",
       "kepemilikan_kartu              0\n",
       "nama_channel                   0\n",
       "id_channel                     0\n",
       "flag_transaksi_finansial       0\n",
       "status_transaksi               0\n",
       "bank_pemilik_kartu             0\n",
       "rata_rata_nilai_transaksi     21\n",
       "maksimum_nilai_transaksi      21\n",
       "minimum_nilai_transaksi       21\n",
       "rata_rata_jumlah_transaksi    21\n",
       "flag_transaksi_fraud           0\n",
       "dtype: int64"
      ]
     },
     "execution_count": 494,
     "metadata": {},
     "output_type": "execute_result"
    }
   ],
   "source": [
    "fraud.isna().sum()"
   ]
  },
  {
   "cell_type": "code",
   "execution_count": 495,
   "id": "609c22e5-d7bd-41d8-af41-de7ce6172ed2",
   "metadata": {
    "execution": {
     "iopub.execute_input": "2024-01-11T05:07:54.475132Z",
     "iopub.status.busy": "2024-01-11T05:07:54.475132Z",
     "iopub.status.idle": "2024-01-11T05:07:54.521138Z",
     "shell.execute_reply": "2024-01-11T05:07:54.520147Z",
     "shell.execute_reply.started": "2024-01-11T05:07:54.475132Z"
    }
   },
   "outputs": [
    {
     "data": {
      "text/html": [
       "<div>\n",
       "<style scoped>\n",
       "    .dataframe tbody tr th:only-of-type {\n",
       "        vertical-align: middle;\n",
       "    }\n",
       "\n",
       "    .dataframe tbody tr th {\n",
       "        vertical-align: top;\n",
       "    }\n",
       "\n",
       "    .dataframe thead th {\n",
       "        text-align: right;\n",
       "    }\n",
       "</style>\n",
       "<table border=\"1\" class=\"dataframe\">\n",
       "  <thead>\n",
       "    <tr style=\"text-align: right;\">\n",
       "      <th></th>\n",
       "      <th>610</th>\n",
       "      <th>1489</th>\n",
       "      <th>1829</th>\n",
       "      <th>3069</th>\n",
       "      <th>3752</th>\n",
       "      <th>3781</th>\n",
       "      <th>6185</th>\n",
       "      <th>6501</th>\n",
       "      <th>7655</th>\n",
       "      <th>7660</th>\n",
       "      <th>...</th>\n",
       "      <th>7777</th>\n",
       "      <th>8719</th>\n",
       "      <th>8758</th>\n",
       "      <th>9147</th>\n",
       "      <th>10006</th>\n",
       "      <th>10374</th>\n",
       "      <th>10401</th>\n",
       "      <th>11142</th>\n",
       "      <th>11520</th>\n",
       "      <th>11797</th>\n",
       "    </tr>\n",
       "  </thead>\n",
       "  <tbody>\n",
       "    <tr>\n",
       "      <th>X</th>\n",
       "      <td>1039</td>\n",
       "      <td>4020</td>\n",
       "      <td>14080</td>\n",
       "      <td>1335</td>\n",
       "      <td>8871</td>\n",
       "      <td>12852</td>\n",
       "      <td>8659</td>\n",
       "      <td>7518</td>\n",
       "      <td>2557</td>\n",
       "      <td>1813</td>\n",
       "      <td>...</td>\n",
       "      <td>4192</td>\n",
       "      <td>2465</td>\n",
       "      <td>9504</td>\n",
       "      <td>342</td>\n",
       "      <td>5102</td>\n",
       "      <td>9641</td>\n",
       "      <td>14239</td>\n",
       "      <td>6907</td>\n",
       "      <td>8832</td>\n",
       "      <td>2409</td>\n",
       "    </tr>\n",
       "    <tr>\n",
       "      <th>id_tanggal_transaksi_awal</th>\n",
       "      <td>2457561</td>\n",
       "      <td>2457655</td>\n",
       "      <td>2457510</td>\n",
       "      <td>2457514</td>\n",
       "      <td>2457531</td>\n",
       "      <td>2457368</td>\n",
       "      <td>2457603</td>\n",
       "      <td>2457620</td>\n",
       "      <td>2457558</td>\n",
       "      <td>2457385</td>\n",
       "      <td>...</td>\n",
       "      <td>2457331</td>\n",
       "      <td>2457592</td>\n",
       "      <td>2457524</td>\n",
       "      <td>2457526</td>\n",
       "      <td>2457517</td>\n",
       "      <td>2457593</td>\n",
       "      <td>2457429</td>\n",
       "      <td>2457308</td>\n",
       "      <td>2457468</td>\n",
       "      <td>2457536</td>\n",
       "    </tr>\n",
       "    <tr>\n",
       "      <th>tanggal_transaksi_awal</th>\n",
       "      <td>1970-01-29 17:40:07</td>\n",
       "      <td>1970-01-29 17:40:58</td>\n",
       "      <td>1970-01-29 17:38:41</td>\n",
       "      <td>1970-01-29 17:39:33</td>\n",
       "      <td>1970-01-29 17:40:10</td>\n",
       "      <td>1970-01-29 17:36:52</td>\n",
       "      <td>1970-01-29 17:40:43</td>\n",
       "      <td>1970-01-29 17:41:37</td>\n",
       "      <td>1970-01-29 17:39:26</td>\n",
       "      <td>1970-01-29 17:37:43</td>\n",
       "      <td>...</td>\n",
       "      <td>1970-01-29 17:36:13</td>\n",
       "      <td>1970-01-29 17:40:45</td>\n",
       "      <td>1970-01-29 17:38:45</td>\n",
       "      <td>1970-01-29 17:40:21</td>\n",
       "      <td>1970-01-29 17:39:25</td>\n",
       "      <td>1970-01-29 17:40:16</td>\n",
       "      <td>1970-01-29 17:37:11</td>\n",
       "      <td>1970-01-29 17:35:48</td>\n",
       "      <td>1970-01-29 17:39:13</td>\n",
       "      <td>1970-01-29 17:39:51</td>\n",
       "    </tr>\n",
       "    <tr>\n",
       "      <th>tipe_kartu</th>\n",
       "      <td>93</td>\n",
       "      <td>103</td>\n",
       "      <td>93</td>\n",
       "      <td>111</td>\n",
       "      <td>111</td>\n",
       "      <td>111</td>\n",
       "      <td>93</td>\n",
       "      <td>111</td>\n",
       "      <td>93</td>\n",
       "      <td>111</td>\n",
       "      <td>...</td>\n",
       "      <td>111</td>\n",
       "      <td>111</td>\n",
       "      <td>111</td>\n",
       "      <td>104</td>\n",
       "      <td>93</td>\n",
       "      <td>111</td>\n",
       "      <td>93</td>\n",
       "      <td>103</td>\n",
       "      <td>111</td>\n",
       "      <td>93</td>\n",
       "    </tr>\n",
       "    <tr>\n",
       "      <th>id_merchant</th>\n",
       "      <td>-2</td>\n",
       "      <td>-2</td>\n",
       "      <td>-2</td>\n",
       "      <td>-2</td>\n",
       "      <td>-2</td>\n",
       "      <td>-2</td>\n",
       "      <td>-2</td>\n",
       "      <td>-2</td>\n",
       "      <td>-2</td>\n",
       "      <td>-2</td>\n",
       "      <td>...</td>\n",
       "      <td>-2</td>\n",
       "      <td>-2</td>\n",
       "      <td>-2</td>\n",
       "      <td>-2</td>\n",
       "      <td>388748</td>\n",
       "      <td>-2</td>\n",
       "      <td>-2</td>\n",
       "      <td>-2</td>\n",
       "      <td>-2</td>\n",
       "      <td>-2</td>\n",
       "    </tr>\n",
       "    <tr>\n",
       "      <th>nama_merchant</th>\n",
       "      <td>1798</td>\n",
       "      <td>1798</td>\n",
       "      <td>1798</td>\n",
       "      <td>1798</td>\n",
       "      <td>1798</td>\n",
       "      <td>1798</td>\n",
       "      <td>1798</td>\n",
       "      <td>1798</td>\n",
       "      <td>1798</td>\n",
       "      <td>1798</td>\n",
       "      <td>...</td>\n",
       "      <td>1798</td>\n",
       "      <td>1798</td>\n",
       "      <td>1798</td>\n",
       "      <td>1798</td>\n",
       "      <td>1574</td>\n",
       "      <td>1798</td>\n",
       "      <td>1798</td>\n",
       "      <td>1798</td>\n",
       "      <td>1798</td>\n",
       "      <td>1798</td>\n",
       "    </tr>\n",
       "    <tr>\n",
       "      <th>tipe_mesin</th>\n",
       "      <td>-3</td>\n",
       "      <td>2330</td>\n",
       "      <td>185678</td>\n",
       "      <td>2344943</td>\n",
       "      <td>2805857</td>\n",
       "      <td>2337114</td>\n",
       "      <td>288963</td>\n",
       "      <td>-3</td>\n",
       "      <td>3186008</td>\n",
       "      <td>2393471</td>\n",
       "      <td>...</td>\n",
       "      <td>1906758</td>\n",
       "      <td>2331560</td>\n",
       "      <td>181</td>\n",
       "      <td>-3</td>\n",
       "      <td>2383750</td>\n",
       "      <td>1752625</td>\n",
       "      <td>2489227</td>\n",
       "      <td>1478519</td>\n",
       "      <td>3166779</td>\n",
       "      <td>1180307</td>\n",
       "    </tr>\n",
       "    <tr>\n",
       "      <th>tipe_transaksi</th>\n",
       "      <td>156</td>\n",
       "      <td>147</td>\n",
       "      <td>159</td>\n",
       "      <td>26</td>\n",
       "      <td>26</td>\n",
       "      <td>148</td>\n",
       "      <td>26</td>\n",
       "      <td>156</td>\n",
       "      <td>238</td>\n",
       "      <td>26</td>\n",
       "      <td>...</td>\n",
       "      <td>159</td>\n",
       "      <td>26</td>\n",
       "      <td>147</td>\n",
       "      <td>156</td>\n",
       "      <td>58</td>\n",
       "      <td>385</td>\n",
       "      <td>26</td>\n",
       "      <td>385</td>\n",
       "      <td>26</td>\n",
       "      <td>159</td>\n",
       "    </tr>\n",
       "    <tr>\n",
       "      <th>nama_transaksi</th>\n",
       "      <td>12</td>\n",
       "      <td>3</td>\n",
       "      <td>19</td>\n",
       "      <td>10</td>\n",
       "      <td>10</td>\n",
       "      <td>5</td>\n",
       "      <td>10</td>\n",
       "      <td>12</td>\n",
       "      <td>9</td>\n",
       "      <td>10</td>\n",
       "      <td>...</td>\n",
       "      <td>19</td>\n",
       "      <td>10</td>\n",
       "      <td>3</td>\n",
       "      <td>12</td>\n",
       "      <td>6</td>\n",
       "      <td>11</td>\n",
       "      <td>10</td>\n",
       "      <td>11</td>\n",
       "      <td>10</td>\n",
       "      <td>19</td>\n",
       "    </tr>\n",
       "    <tr>\n",
       "      <th>nilai_transaksi</th>\n",
       "      <td>100000.0</td>\n",
       "      <td>1000000.0</td>\n",
       "      <td>6000000.0</td>\n",
       "      <td>500000.0</td>\n",
       "      <td>2500000.0</td>\n",
       "      <td>25000.0</td>\n",
       "      <td>600000.0</td>\n",
       "      <td>1200000.0</td>\n",
       "      <td>2150000.0</td>\n",
       "      <td>200000.0</td>\n",
       "      <td>...</td>\n",
       "      <td>25000.0</td>\n",
       "      <td>400000.0</td>\n",
       "      <td>500000.0</td>\n",
       "      <td>200000.0</td>\n",
       "      <td>220130.0</td>\n",
       "      <td>1200000.0</td>\n",
       "      <td>350000.0</td>\n",
       "      <td>100000.0</td>\n",
       "      <td>200000.0</td>\n",
       "      <td>13918500.0</td>\n",
       "    </tr>\n",
       "    <tr>\n",
       "      <th>id_negara</th>\n",
       "      <td>96</td>\n",
       "      <td>96</td>\n",
       "      <td>96</td>\n",
       "      <td>96</td>\n",
       "      <td>96</td>\n",
       "      <td>96</td>\n",
       "      <td>96</td>\n",
       "      <td>96</td>\n",
       "      <td>96</td>\n",
       "      <td>96</td>\n",
       "      <td>...</td>\n",
       "      <td>96</td>\n",
       "      <td>96</td>\n",
       "      <td>96</td>\n",
       "      <td>96</td>\n",
       "      <td>96</td>\n",
       "      <td>96</td>\n",
       "      <td>96</td>\n",
       "      <td>96</td>\n",
       "      <td>96</td>\n",
       "      <td>96</td>\n",
       "    </tr>\n",
       "    <tr>\n",
       "      <th>nama_negara</th>\n",
       "      <td>5</td>\n",
       "      <td>5</td>\n",
       "      <td>5</td>\n",
       "      <td>5</td>\n",
       "      <td>5</td>\n",
       "      <td>5</td>\n",
       "      <td>5</td>\n",
       "      <td>5</td>\n",
       "      <td>5</td>\n",
       "      <td>5</td>\n",
       "      <td>...</td>\n",
       "      <td>5</td>\n",
       "      <td>5</td>\n",
       "      <td>5</td>\n",
       "      <td>5</td>\n",
       "      <td>5</td>\n",
       "      <td>5</td>\n",
       "      <td>5</td>\n",
       "      <td>5</td>\n",
       "      <td>5</td>\n",
       "      <td>5</td>\n",
       "    </tr>\n",
       "    <tr>\n",
       "      <th>nama_kota</th>\n",
       "      <td>128</td>\n",
       "      <td>128</td>\n",
       "      <td>101</td>\n",
       "      <td>141</td>\n",
       "      <td>128</td>\n",
       "      <td>265</td>\n",
       "      <td>57</td>\n",
       "      <td>101</td>\n",
       "      <td>128</td>\n",
       "      <td>128</td>\n",
       "      <td>...</td>\n",
       "      <td>128</td>\n",
       "      <td>70</td>\n",
       "      <td>128</td>\n",
       "      <td>3</td>\n",
       "      <td>251</td>\n",
       "      <td>60</td>\n",
       "      <td>128</td>\n",
       "      <td>128</td>\n",
       "      <td>259</td>\n",
       "      <td>128</td>\n",
       "    </tr>\n",
       "    <tr>\n",
       "      <th>lokasi_mesin</th>\n",
       "      <td>1360</td>\n",
       "      <td>374</td>\n",
       "      <td>3988</td>\n",
       "      <td>3442</td>\n",
       "      <td>7852</td>\n",
       "      <td>3674</td>\n",
       "      <td>4759</td>\n",
       "      <td>7791</td>\n",
       "      <td>8414</td>\n",
       "      <td>3763</td>\n",
       "      <td>...</td>\n",
       "      <td>2540</td>\n",
       "      <td>3489</td>\n",
       "      <td>2979</td>\n",
       "      <td>1213</td>\n",
       "      <td>7314</td>\n",
       "      <td>2162</td>\n",
       "      <td>8212</td>\n",
       "      <td>1486</td>\n",
       "      <td>8422</td>\n",
       "      <td>503</td>\n",
       "    </tr>\n",
       "    <tr>\n",
       "      <th>pemilik_mesin</th>\n",
       "      <td>1637</td>\n",
       "      <td>613</td>\n",
       "      <td>613</td>\n",
       "      <td>613</td>\n",
       "      <td>613</td>\n",
       "      <td>613</td>\n",
       "      <td>613</td>\n",
       "      <td>496</td>\n",
       "      <td>613</td>\n",
       "      <td>613</td>\n",
       "      <td>...</td>\n",
       "      <td>613</td>\n",
       "      <td>613</td>\n",
       "      <td>613</td>\n",
       "      <td>1616</td>\n",
       "      <td>2309</td>\n",
       "      <td>613</td>\n",
       "      <td>613</td>\n",
       "      <td>613</td>\n",
       "      <td>613</td>\n",
       "      <td>613</td>\n",
       "    </tr>\n",
       "    <tr>\n",
       "      <th>waktu_transaksi</th>\n",
       "      <td>1970-01-02 17:28:42</td>\n",
       "      <td>1970-01-03 10:20:58</td>\n",
       "      <td>1970-01-02 22:08:43</td>\n",
       "      <td>1970-01-03 05:00:42</td>\n",
       "      <td>1970-01-03 07:10:21</td>\n",
       "      <td>1970-01-02 19:46:51</td>\n",
       "      <td>1970-01-03 04:43:42</td>\n",
       "      <td>1970-01-03 07:02:13</td>\n",
       "      <td>1970-01-02 11:36:56</td>\n",
       "      <td>1970-01-03 04:32:37</td>\n",
       "      <td>...</td>\n",
       "      <td>1970-01-02 11:00:30</td>\n",
       "      <td>1970-01-02 01:12:28</td>\n",
       "      <td>1970-01-03 07:44:12</td>\n",
       "      <td>1970-01-02 05:20:54</td>\n",
       "      <td>1970-01-02 23:02:10</td>\n",
       "      <td>1970-01-02 17:51:54</td>\n",
       "      <td>1970-01-02 23:25:27</td>\n",
       "      <td>1970-01-02 00:59:10</td>\n",
       "      <td>1970-01-03 04:17:08</td>\n",
       "      <td>1970-01-02 12:20:14</td>\n",
       "    </tr>\n",
       "    <tr>\n",
       "      <th>kuartal_transaksi</th>\n",
       "      <td>3</td>\n",
       "      <td>4</td>\n",
       "      <td>3</td>\n",
       "      <td>3</td>\n",
       "      <td>3</td>\n",
       "      <td>3</td>\n",
       "      <td>3</td>\n",
       "      <td>3</td>\n",
       "      <td>2</td>\n",
       "      <td>3</td>\n",
       "      <td>...</td>\n",
       "      <td>2</td>\n",
       "      <td>2</td>\n",
       "      <td>3</td>\n",
       "      <td>2</td>\n",
       "      <td>3</td>\n",
       "      <td>3</td>\n",
       "      <td>3</td>\n",
       "      <td>2</td>\n",
       "      <td>3</td>\n",
       "      <td>2</td>\n",
       "    </tr>\n",
       "    <tr>\n",
       "      <th>kepemilikan_kartu</th>\n",
       "      <td>1</td>\n",
       "      <td>2</td>\n",
       "      <td>2</td>\n",
       "      <td>2</td>\n",
       "      <td>2</td>\n",
       "      <td>2</td>\n",
       "      <td>2</td>\n",
       "      <td>1</td>\n",
       "      <td>2</td>\n",
       "      <td>2</td>\n",
       "      <td>...</td>\n",
       "      <td>2</td>\n",
       "      <td>2</td>\n",
       "      <td>2</td>\n",
       "      <td>1</td>\n",
       "      <td>2</td>\n",
       "      <td>2</td>\n",
       "      <td>2</td>\n",
       "      <td>2</td>\n",
       "      <td>2</td>\n",
       "      <td>2</td>\n",
       "    </tr>\n",
       "    <tr>\n",
       "      <th>nama_channel</th>\n",
       "      <td>5</td>\n",
       "      <td>1</td>\n",
       "      <td>1</td>\n",
       "      <td>1</td>\n",
       "      <td>1</td>\n",
       "      <td>1</td>\n",
       "      <td>1</td>\n",
       "      <td>5</td>\n",
       "      <td>1</td>\n",
       "      <td>1</td>\n",
       "      <td>...</td>\n",
       "      <td>1</td>\n",
       "      <td>1</td>\n",
       "      <td>1</td>\n",
       "      <td>5</td>\n",
       "      <td>2</td>\n",
       "      <td>1</td>\n",
       "      <td>1</td>\n",
       "      <td>1</td>\n",
       "      <td>1</td>\n",
       "      <td>1</td>\n",
       "    </tr>\n",
       "    <tr>\n",
       "      <th>id_channel</th>\n",
       "      <td>8</td>\n",
       "      <td>9</td>\n",
       "      <td>9</td>\n",
       "      <td>9</td>\n",
       "      <td>9</td>\n",
       "      <td>9</td>\n",
       "      <td>9</td>\n",
       "      <td>8</td>\n",
       "      <td>9</td>\n",
       "      <td>9</td>\n",
       "      <td>...</td>\n",
       "      <td>9</td>\n",
       "      <td>9</td>\n",
       "      <td>9</td>\n",
       "      <td>8</td>\n",
       "      <td>4</td>\n",
       "      <td>9</td>\n",
       "      <td>9</td>\n",
       "      <td>9</td>\n",
       "      <td>9</td>\n",
       "      <td>9</td>\n",
       "    </tr>\n",
       "    <tr>\n",
       "      <th>flag_transaksi_finansial</th>\n",
       "      <td>False</td>\n",
       "      <td>False</td>\n",
       "      <td>False</td>\n",
       "      <td>False</td>\n",
       "      <td>False</td>\n",
       "      <td>False</td>\n",
       "      <td>False</td>\n",
       "      <td>False</td>\n",
       "      <td>False</td>\n",
       "      <td>False</td>\n",
       "      <td>...</td>\n",
       "      <td>False</td>\n",
       "      <td>False</td>\n",
       "      <td>False</td>\n",
       "      <td>False</td>\n",
       "      <td>False</td>\n",
       "      <td>False</td>\n",
       "      <td>False</td>\n",
       "      <td>False</td>\n",
       "      <td>False</td>\n",
       "      <td>False</td>\n",
       "    </tr>\n",
       "    <tr>\n",
       "      <th>status_transaksi</th>\n",
       "      <td>3</td>\n",
       "      <td>3</td>\n",
       "      <td>3</td>\n",
       "      <td>3</td>\n",
       "      <td>3</td>\n",
       "      <td>3</td>\n",
       "      <td>3</td>\n",
       "      <td>3</td>\n",
       "      <td>3</td>\n",
       "      <td>3</td>\n",
       "      <td>...</td>\n",
       "      <td>3</td>\n",
       "      <td>3</td>\n",
       "      <td>3</td>\n",
       "      <td>3</td>\n",
       "      <td>3</td>\n",
       "      <td>3</td>\n",
       "      <td>3</td>\n",
       "      <td>3</td>\n",
       "      <td>3</td>\n",
       "      <td>3</td>\n",
       "    </tr>\n",
       "    <tr>\n",
       "      <th>bank_pemilik_kartu</th>\n",
       "      <td>999</td>\n",
       "      <td>999</td>\n",
       "      <td>999</td>\n",
       "      <td>999</td>\n",
       "      <td>999</td>\n",
       "      <td>999</td>\n",
       "      <td>999</td>\n",
       "      <td>999</td>\n",
       "      <td>999</td>\n",
       "      <td>999</td>\n",
       "      <td>...</td>\n",
       "      <td>999</td>\n",
       "      <td>999</td>\n",
       "      <td>999</td>\n",
       "      <td>999</td>\n",
       "      <td>999</td>\n",
       "      <td>999</td>\n",
       "      <td>999</td>\n",
       "      <td>999</td>\n",
       "      <td>999</td>\n",
       "      <td>999</td>\n",
       "    </tr>\n",
       "    <tr>\n",
       "      <th>rata_rata_nilai_transaksi</th>\n",
       "      <td>NaN</td>\n",
       "      <td>NaN</td>\n",
       "      <td>NaN</td>\n",
       "      <td>NaN</td>\n",
       "      <td>NaN</td>\n",
       "      <td>NaN</td>\n",
       "      <td>NaN</td>\n",
       "      <td>NaN</td>\n",
       "      <td>NaN</td>\n",
       "      <td>NaN</td>\n",
       "      <td>...</td>\n",
       "      <td>NaN</td>\n",
       "      <td>NaN</td>\n",
       "      <td>NaN</td>\n",
       "      <td>NaN</td>\n",
       "      <td>NaN</td>\n",
       "      <td>NaN</td>\n",
       "      <td>NaN</td>\n",
       "      <td>NaN</td>\n",
       "      <td>NaN</td>\n",
       "      <td>NaN</td>\n",
       "    </tr>\n",
       "    <tr>\n",
       "      <th>maksimum_nilai_transaksi</th>\n",
       "      <td>NaN</td>\n",
       "      <td>NaN</td>\n",
       "      <td>NaN</td>\n",
       "      <td>NaN</td>\n",
       "      <td>NaN</td>\n",
       "      <td>NaN</td>\n",
       "      <td>NaN</td>\n",
       "      <td>NaN</td>\n",
       "      <td>NaN</td>\n",
       "      <td>NaN</td>\n",
       "      <td>...</td>\n",
       "      <td>NaN</td>\n",
       "      <td>NaN</td>\n",
       "      <td>NaN</td>\n",
       "      <td>NaN</td>\n",
       "      <td>NaN</td>\n",
       "      <td>NaN</td>\n",
       "      <td>NaN</td>\n",
       "      <td>NaN</td>\n",
       "      <td>NaN</td>\n",
       "      <td>NaN</td>\n",
       "    </tr>\n",
       "    <tr>\n",
       "      <th>minimum_nilai_transaksi</th>\n",
       "      <td>NaN</td>\n",
       "      <td>NaN</td>\n",
       "      <td>NaN</td>\n",
       "      <td>NaN</td>\n",
       "      <td>NaN</td>\n",
       "      <td>NaN</td>\n",
       "      <td>NaN</td>\n",
       "      <td>NaN</td>\n",
       "      <td>NaN</td>\n",
       "      <td>NaN</td>\n",
       "      <td>...</td>\n",
       "      <td>NaN</td>\n",
       "      <td>NaN</td>\n",
       "      <td>NaN</td>\n",
       "      <td>NaN</td>\n",
       "      <td>NaN</td>\n",
       "      <td>NaN</td>\n",
       "      <td>NaN</td>\n",
       "      <td>NaN</td>\n",
       "      <td>NaN</td>\n",
       "      <td>NaN</td>\n",
       "    </tr>\n",
       "    <tr>\n",
       "      <th>rata_rata_jumlah_transaksi</th>\n",
       "      <td>NaN</td>\n",
       "      <td>NaN</td>\n",
       "      <td>NaN</td>\n",
       "      <td>NaN</td>\n",
       "      <td>NaN</td>\n",
       "      <td>NaN</td>\n",
       "      <td>NaN</td>\n",
       "      <td>NaN</td>\n",
       "      <td>NaN</td>\n",
       "      <td>NaN</td>\n",
       "      <td>...</td>\n",
       "      <td>NaN</td>\n",
       "      <td>NaN</td>\n",
       "      <td>NaN</td>\n",
       "      <td>NaN</td>\n",
       "      <td>NaN</td>\n",
       "      <td>NaN</td>\n",
       "      <td>NaN</td>\n",
       "      <td>NaN</td>\n",
       "      <td>NaN</td>\n",
       "      <td>NaN</td>\n",
       "    </tr>\n",
       "    <tr>\n",
       "      <th>flag_transaksi_fraud</th>\n",
       "      <td>1</td>\n",
       "      <td>1</td>\n",
       "      <td>1</td>\n",
       "      <td>1</td>\n",
       "      <td>1</td>\n",
       "      <td>0</td>\n",
       "      <td>1</td>\n",
       "      <td>0</td>\n",
       "      <td>1</td>\n",
       "      <td>1</td>\n",
       "      <td>...</td>\n",
       "      <td>0</td>\n",
       "      <td>1</td>\n",
       "      <td>1</td>\n",
       "      <td>1</td>\n",
       "      <td>1</td>\n",
       "      <td>1</td>\n",
       "      <td>1</td>\n",
       "      <td>0</td>\n",
       "      <td>1</td>\n",
       "      <td>1</td>\n",
       "    </tr>\n",
       "  </tbody>\n",
       "</table>\n",
       "<p>28 rows × 21 columns</p>\n",
       "</div>"
      ],
      "text/plain": [
       "                                          610                  1489   \\\n",
       "X                                          1039                 4020   \n",
       "id_tanggal_transaksi_awal               2457561              2457655   \n",
       "tanggal_transaksi_awal      1970-01-29 17:40:07  1970-01-29 17:40:58   \n",
       "tipe_kartu                                   93                  103   \n",
       "id_merchant                                  -2                   -2   \n",
       "nama_merchant                              1798                 1798   \n",
       "tipe_mesin                                   -3                 2330   \n",
       "tipe_transaksi                              156                  147   \n",
       "nama_transaksi                               12                    3   \n",
       "nilai_transaksi                        100000.0            1000000.0   \n",
       "id_negara                                    96                   96   \n",
       "nama_negara                                   5                    5   \n",
       "nama_kota                                   128                  128   \n",
       "lokasi_mesin                               1360                  374   \n",
       "pemilik_mesin                              1637                  613   \n",
       "waktu_transaksi             1970-01-02 17:28:42  1970-01-03 10:20:58   \n",
       "kuartal_transaksi                             3                    4   \n",
       "kepemilikan_kartu                             1                    2   \n",
       "nama_channel                                  5                    1   \n",
       "id_channel                                    8                    9   \n",
       "flag_transaksi_finansial                  False                False   \n",
       "status_transaksi                              3                    3   \n",
       "bank_pemilik_kartu                          999                  999   \n",
       "rata_rata_nilai_transaksi                   NaN                  NaN   \n",
       "maksimum_nilai_transaksi                    NaN                  NaN   \n",
       "minimum_nilai_transaksi                     NaN                  NaN   \n",
       "rata_rata_jumlah_transaksi                  NaN                  NaN   \n",
       "flag_transaksi_fraud                          1                    1   \n",
       "\n",
       "                                          1829                 3069   \\\n",
       "X                                         14080                 1335   \n",
       "id_tanggal_transaksi_awal               2457510              2457514   \n",
       "tanggal_transaksi_awal      1970-01-29 17:38:41  1970-01-29 17:39:33   \n",
       "tipe_kartu                                   93                  111   \n",
       "id_merchant                                  -2                   -2   \n",
       "nama_merchant                              1798                 1798   \n",
       "tipe_mesin                               185678              2344943   \n",
       "tipe_transaksi                              159                   26   \n",
       "nama_transaksi                               19                   10   \n",
       "nilai_transaksi                       6000000.0             500000.0   \n",
       "id_negara                                    96                   96   \n",
       "nama_negara                                   5                    5   \n",
       "nama_kota                                   101                  141   \n",
       "lokasi_mesin                               3988                 3442   \n",
       "pemilik_mesin                               613                  613   \n",
       "waktu_transaksi             1970-01-02 22:08:43  1970-01-03 05:00:42   \n",
       "kuartal_transaksi                             3                    3   \n",
       "kepemilikan_kartu                             2                    2   \n",
       "nama_channel                                  1                    1   \n",
       "id_channel                                    9                    9   \n",
       "flag_transaksi_finansial                  False                False   \n",
       "status_transaksi                              3                    3   \n",
       "bank_pemilik_kartu                          999                  999   \n",
       "rata_rata_nilai_transaksi                   NaN                  NaN   \n",
       "maksimum_nilai_transaksi                    NaN                  NaN   \n",
       "minimum_nilai_transaksi                     NaN                  NaN   \n",
       "rata_rata_jumlah_transaksi                  NaN                  NaN   \n",
       "flag_transaksi_fraud                          1                    1   \n",
       "\n",
       "                                          3752                 3781   \\\n",
       "X                                          8871                12852   \n",
       "id_tanggal_transaksi_awal               2457531              2457368   \n",
       "tanggal_transaksi_awal      1970-01-29 17:40:10  1970-01-29 17:36:52   \n",
       "tipe_kartu                                  111                  111   \n",
       "id_merchant                                  -2                   -2   \n",
       "nama_merchant                              1798                 1798   \n",
       "tipe_mesin                              2805857              2337114   \n",
       "tipe_transaksi                               26                  148   \n",
       "nama_transaksi                               10                    5   \n",
       "nilai_transaksi                       2500000.0              25000.0   \n",
       "id_negara                                    96                   96   \n",
       "nama_negara                                   5                    5   \n",
       "nama_kota                                   128                  265   \n",
       "lokasi_mesin                               7852                 3674   \n",
       "pemilik_mesin                               613                  613   \n",
       "waktu_transaksi             1970-01-03 07:10:21  1970-01-02 19:46:51   \n",
       "kuartal_transaksi                             3                    3   \n",
       "kepemilikan_kartu                             2                    2   \n",
       "nama_channel                                  1                    1   \n",
       "id_channel                                    9                    9   \n",
       "flag_transaksi_finansial                  False                False   \n",
       "status_transaksi                              3                    3   \n",
       "bank_pemilik_kartu                          999                  999   \n",
       "rata_rata_nilai_transaksi                   NaN                  NaN   \n",
       "maksimum_nilai_transaksi                    NaN                  NaN   \n",
       "minimum_nilai_transaksi                     NaN                  NaN   \n",
       "rata_rata_jumlah_transaksi                  NaN                  NaN   \n",
       "flag_transaksi_fraud                          1                    0   \n",
       "\n",
       "                                          6185                 6501   \\\n",
       "X                                          8659                 7518   \n",
       "id_tanggal_transaksi_awal               2457603              2457620   \n",
       "tanggal_transaksi_awal      1970-01-29 17:40:43  1970-01-29 17:41:37   \n",
       "tipe_kartu                                   93                  111   \n",
       "id_merchant                                  -2                   -2   \n",
       "nama_merchant                              1798                 1798   \n",
       "tipe_mesin                               288963                   -3   \n",
       "tipe_transaksi                               26                  156   \n",
       "nama_transaksi                               10                   12   \n",
       "nilai_transaksi                        600000.0            1200000.0   \n",
       "id_negara                                    96                   96   \n",
       "nama_negara                                   5                    5   \n",
       "nama_kota                                    57                  101   \n",
       "lokasi_mesin                               4759                 7791   \n",
       "pemilik_mesin                               613                  496   \n",
       "waktu_transaksi             1970-01-03 04:43:42  1970-01-03 07:02:13   \n",
       "kuartal_transaksi                             3                    3   \n",
       "kepemilikan_kartu                             2                    1   \n",
       "nama_channel                                  1                    5   \n",
       "id_channel                                    9                    8   \n",
       "flag_transaksi_finansial                  False                False   \n",
       "status_transaksi                              3                    3   \n",
       "bank_pemilik_kartu                          999                  999   \n",
       "rata_rata_nilai_transaksi                   NaN                  NaN   \n",
       "maksimum_nilai_transaksi                    NaN                  NaN   \n",
       "minimum_nilai_transaksi                     NaN                  NaN   \n",
       "rata_rata_jumlah_transaksi                  NaN                  NaN   \n",
       "flag_transaksi_fraud                          1                    0   \n",
       "\n",
       "                                          7655                 7660   ...  \\\n",
       "X                                          2557                 1813  ...   \n",
       "id_tanggal_transaksi_awal               2457558              2457385  ...   \n",
       "tanggal_transaksi_awal      1970-01-29 17:39:26  1970-01-29 17:37:43  ...   \n",
       "tipe_kartu                                   93                  111  ...   \n",
       "id_merchant                                  -2                   -2  ...   \n",
       "nama_merchant                              1798                 1798  ...   \n",
       "tipe_mesin                              3186008              2393471  ...   \n",
       "tipe_transaksi                              238                   26  ...   \n",
       "nama_transaksi                                9                   10  ...   \n",
       "nilai_transaksi                       2150000.0             200000.0  ...   \n",
       "id_negara                                    96                   96  ...   \n",
       "nama_negara                                   5                    5  ...   \n",
       "nama_kota                                   128                  128  ...   \n",
       "lokasi_mesin                               8414                 3763  ...   \n",
       "pemilik_mesin                               613                  613  ...   \n",
       "waktu_transaksi             1970-01-02 11:36:56  1970-01-03 04:32:37  ...   \n",
       "kuartal_transaksi                             2                    3  ...   \n",
       "kepemilikan_kartu                             2                    2  ...   \n",
       "nama_channel                                  1                    1  ...   \n",
       "id_channel                                    9                    9  ...   \n",
       "flag_transaksi_finansial                  False                False  ...   \n",
       "status_transaksi                              3                    3  ...   \n",
       "bank_pemilik_kartu                          999                  999  ...   \n",
       "rata_rata_nilai_transaksi                   NaN                  NaN  ...   \n",
       "maksimum_nilai_transaksi                    NaN                  NaN  ...   \n",
       "minimum_nilai_transaksi                     NaN                  NaN  ...   \n",
       "rata_rata_jumlah_transaksi                  NaN                  NaN  ...   \n",
       "flag_transaksi_fraud                          1                    1  ...   \n",
       "\n",
       "                                          7777                 8719   \\\n",
       "X                                          4192                 2465   \n",
       "id_tanggal_transaksi_awal               2457331              2457592   \n",
       "tanggal_transaksi_awal      1970-01-29 17:36:13  1970-01-29 17:40:45   \n",
       "tipe_kartu                                  111                  111   \n",
       "id_merchant                                  -2                   -2   \n",
       "nama_merchant                              1798                 1798   \n",
       "tipe_mesin                              1906758              2331560   \n",
       "tipe_transaksi                              159                   26   \n",
       "nama_transaksi                               19                   10   \n",
       "nilai_transaksi                         25000.0             400000.0   \n",
       "id_negara                                    96                   96   \n",
       "nama_negara                                   5                    5   \n",
       "nama_kota                                   128                   70   \n",
       "lokasi_mesin                               2540                 3489   \n",
       "pemilik_mesin                               613                  613   \n",
       "waktu_transaksi             1970-01-02 11:00:30  1970-01-02 01:12:28   \n",
       "kuartal_transaksi                             2                    2   \n",
       "kepemilikan_kartu                             2                    2   \n",
       "nama_channel                                  1                    1   \n",
       "id_channel                                    9                    9   \n",
       "flag_transaksi_finansial                  False                False   \n",
       "status_transaksi                              3                    3   \n",
       "bank_pemilik_kartu                          999                  999   \n",
       "rata_rata_nilai_transaksi                   NaN                  NaN   \n",
       "maksimum_nilai_transaksi                    NaN                  NaN   \n",
       "minimum_nilai_transaksi                     NaN                  NaN   \n",
       "rata_rata_jumlah_transaksi                  NaN                  NaN   \n",
       "flag_transaksi_fraud                          0                    1   \n",
       "\n",
       "                                          8758                 9147   \\\n",
       "X                                          9504                  342   \n",
       "id_tanggal_transaksi_awal               2457524              2457526   \n",
       "tanggal_transaksi_awal      1970-01-29 17:38:45  1970-01-29 17:40:21   \n",
       "tipe_kartu                                  111                  104   \n",
       "id_merchant                                  -2                   -2   \n",
       "nama_merchant                              1798                 1798   \n",
       "tipe_mesin                                  181                   -3   \n",
       "tipe_transaksi                              147                  156   \n",
       "nama_transaksi                                3                   12   \n",
       "nilai_transaksi                        500000.0             200000.0   \n",
       "id_negara                                    96                   96   \n",
       "nama_negara                                   5                    5   \n",
       "nama_kota                                   128                    3   \n",
       "lokasi_mesin                               2979                 1213   \n",
       "pemilik_mesin                               613                 1616   \n",
       "waktu_transaksi             1970-01-03 07:44:12  1970-01-02 05:20:54   \n",
       "kuartal_transaksi                             3                    2   \n",
       "kepemilikan_kartu                             2                    1   \n",
       "nama_channel                                  1                    5   \n",
       "id_channel                                    9                    8   \n",
       "flag_transaksi_finansial                  False                False   \n",
       "status_transaksi                              3                    3   \n",
       "bank_pemilik_kartu                          999                  999   \n",
       "rata_rata_nilai_transaksi                   NaN                  NaN   \n",
       "maksimum_nilai_transaksi                    NaN                  NaN   \n",
       "minimum_nilai_transaksi                     NaN                  NaN   \n",
       "rata_rata_jumlah_transaksi                  NaN                  NaN   \n",
       "flag_transaksi_fraud                          1                    1   \n",
       "\n",
       "                                          10006                10374  \\\n",
       "X                                          5102                 9641   \n",
       "id_tanggal_transaksi_awal               2457517              2457593   \n",
       "tanggal_transaksi_awal      1970-01-29 17:39:25  1970-01-29 17:40:16   \n",
       "tipe_kartu                                   93                  111   \n",
       "id_merchant                              388748                   -2   \n",
       "nama_merchant                              1574                 1798   \n",
       "tipe_mesin                              2383750              1752625   \n",
       "tipe_transaksi                               58                  385   \n",
       "nama_transaksi                                6                   11   \n",
       "nilai_transaksi                        220130.0            1200000.0   \n",
       "id_negara                                    96                   96   \n",
       "nama_negara                                   5                    5   \n",
       "nama_kota                                   251                   60   \n",
       "lokasi_mesin                               7314                 2162   \n",
       "pemilik_mesin                              2309                  613   \n",
       "waktu_transaksi             1970-01-02 23:02:10  1970-01-02 17:51:54   \n",
       "kuartal_transaksi                             3                    3   \n",
       "kepemilikan_kartu                             2                    2   \n",
       "nama_channel                                  2                    1   \n",
       "id_channel                                    4                    9   \n",
       "flag_transaksi_finansial                  False                False   \n",
       "status_transaksi                              3                    3   \n",
       "bank_pemilik_kartu                          999                  999   \n",
       "rata_rata_nilai_transaksi                   NaN                  NaN   \n",
       "maksimum_nilai_transaksi                    NaN                  NaN   \n",
       "minimum_nilai_transaksi                     NaN                  NaN   \n",
       "rata_rata_jumlah_transaksi                  NaN                  NaN   \n",
       "flag_transaksi_fraud                          1                    1   \n",
       "\n",
       "                                          10401                11142  \\\n",
       "X                                         14239                 6907   \n",
       "id_tanggal_transaksi_awal               2457429              2457308   \n",
       "tanggal_transaksi_awal      1970-01-29 17:37:11  1970-01-29 17:35:48   \n",
       "tipe_kartu                                   93                  103   \n",
       "id_merchant                                  -2                   -2   \n",
       "nama_merchant                              1798                 1798   \n",
       "tipe_mesin                              2489227              1478519   \n",
       "tipe_transaksi                               26                  385   \n",
       "nama_transaksi                               10                   11   \n",
       "nilai_transaksi                        350000.0             100000.0   \n",
       "id_negara                                    96                   96   \n",
       "nama_negara                                   5                    5   \n",
       "nama_kota                                   128                  128   \n",
       "lokasi_mesin                               8212                 1486   \n",
       "pemilik_mesin                               613                  613   \n",
       "waktu_transaksi             1970-01-02 23:25:27  1970-01-02 00:59:10   \n",
       "kuartal_transaksi                             3                    2   \n",
       "kepemilikan_kartu                             2                    2   \n",
       "nama_channel                                  1                    1   \n",
       "id_channel                                    9                    9   \n",
       "flag_transaksi_finansial                  False                False   \n",
       "status_transaksi                              3                    3   \n",
       "bank_pemilik_kartu                          999                  999   \n",
       "rata_rata_nilai_transaksi                   NaN                  NaN   \n",
       "maksimum_nilai_transaksi                    NaN                  NaN   \n",
       "minimum_nilai_transaksi                     NaN                  NaN   \n",
       "rata_rata_jumlah_transaksi                  NaN                  NaN   \n",
       "flag_transaksi_fraud                          1                    0   \n",
       "\n",
       "                                          11520                11797  \n",
       "X                                          8832                 2409  \n",
       "id_tanggal_transaksi_awal               2457468              2457536  \n",
       "tanggal_transaksi_awal      1970-01-29 17:39:13  1970-01-29 17:39:51  \n",
       "tipe_kartu                                  111                   93  \n",
       "id_merchant                                  -2                   -2  \n",
       "nama_merchant                              1798                 1798  \n",
       "tipe_mesin                              3166779              1180307  \n",
       "tipe_transaksi                               26                  159  \n",
       "nama_transaksi                               10                   19  \n",
       "nilai_transaksi                        200000.0           13918500.0  \n",
       "id_negara                                    96                   96  \n",
       "nama_negara                                   5                    5  \n",
       "nama_kota                                   259                  128  \n",
       "lokasi_mesin                               8422                  503  \n",
       "pemilik_mesin                               613                  613  \n",
       "waktu_transaksi             1970-01-03 04:17:08  1970-01-02 12:20:14  \n",
       "kuartal_transaksi                             3                    2  \n",
       "kepemilikan_kartu                             2                    2  \n",
       "nama_channel                                  1                    1  \n",
       "id_channel                                    9                    9  \n",
       "flag_transaksi_finansial                  False                False  \n",
       "status_transaksi                              3                    3  \n",
       "bank_pemilik_kartu                          999                  999  \n",
       "rata_rata_nilai_transaksi                   NaN                  NaN  \n",
       "maksimum_nilai_transaksi                    NaN                  NaN  \n",
       "minimum_nilai_transaksi                     NaN                  NaN  \n",
       "rata_rata_jumlah_transaksi                  NaN                  NaN  \n",
       "flag_transaksi_fraud                          1                    1  \n",
       "\n",
       "[28 rows x 21 columns]"
      ]
     },
     "execution_count": 495,
     "metadata": {},
     "output_type": "execute_result"
    }
   ],
   "source": [
    "fraud[fraud['rata_rata_nilai_transaksi'].isna()].T"
   ]
  },
  {
   "cell_type": "markdown",
   "id": "9cbbb1fb-a3d7-4d42-b575-a915d8250afa",
   "metadata": {},
   "source": [
    "Saya akan coba menggunakan 2 metode dalam mengatasi missing value.\n",
    "1. Drop missing value karena missing value hanya 21 dan secara kumulatif hanya 0.16 % saja kehilangan data (prioritas karena mudah)\n",
    "2. Menggunakan imputasi (singular (`mean`,`median`) atau flexible imputation (`KNNImputer` atau `IterativeImputer`))"
   ]
  },
  {
   "cell_type": "code",
   "execution_count": 496,
   "id": "9758b34d-d9a7-4d0d-8674-17f359105561",
   "metadata": {
    "execution": {
     "iopub.execute_input": "2024-01-11T05:07:54.523138Z",
     "iopub.status.busy": "2024-01-11T05:07:54.523138Z",
     "iopub.status.idle": "2024-01-11T05:07:54.554129Z",
     "shell.execute_reply": "2024-01-11T05:07:54.552125Z",
     "shell.execute_reply.started": "2024-01-11T05:07:54.523138Z"
    }
   },
   "outputs": [
    {
     "data": {
      "text/plain": [
       "X                             0\n",
       "id_tanggal_transaksi_awal     0\n",
       "tanggal_transaksi_awal        0\n",
       "tipe_kartu                    0\n",
       "id_merchant                   0\n",
       "nama_merchant                 0\n",
       "tipe_mesin                    0\n",
       "tipe_transaksi                0\n",
       "nama_transaksi                0\n",
       "nilai_transaksi               0\n",
       "id_negara                     0\n",
       "nama_negara                   0\n",
       "nama_kota                     0\n",
       "lokasi_mesin                  0\n",
       "pemilik_mesin                 0\n",
       "waktu_transaksi               0\n",
       "kuartal_transaksi             0\n",
       "kepemilikan_kartu             0\n",
       "nama_channel                  0\n",
       "id_channel                    0\n",
       "flag_transaksi_finansial      0\n",
       "status_transaksi              0\n",
       "bank_pemilik_kartu            0\n",
       "rata_rata_nilai_transaksi     0\n",
       "maksimum_nilai_transaksi      0\n",
       "minimum_nilai_transaksi       0\n",
       "rata_rata_jumlah_transaksi    0\n",
       "flag_transaksi_fraud          0\n",
       "dtype: int64"
      ]
     },
     "execution_count": 496,
     "metadata": {},
     "output_type": "execute_result"
    }
   ],
   "source": [
    "fraud = fraud.dropna()\n",
    "fraud.isna().sum()"
   ]
  },
  {
   "cell_type": "markdown",
   "id": "5a293d2a-5fee-41fc-a4ae-9f8de744b03d",
   "metadata": {},
   "source": [
    "### Cek duplikat"
   ]
  },
  {
   "cell_type": "code",
   "execution_count": 497,
   "id": "46b601af-9bba-4a68-a5db-d481a3d0aaeb",
   "metadata": {
    "execution": {
     "iopub.execute_input": "2024-01-11T05:07:54.555130Z",
     "iopub.status.busy": "2024-01-11T05:07:54.555130Z",
     "iopub.status.idle": "2024-01-11T05:07:54.583137Z",
     "shell.execute_reply": "2024-01-11T05:07:54.582136Z",
     "shell.execute_reply.started": "2024-01-11T05:07:54.555130Z"
    }
   },
   "outputs": [
    {
     "data": {
      "text/plain": [
       "False"
      ]
     },
     "execution_count": 497,
     "metadata": {},
     "output_type": "execute_result"
    }
   ],
   "source": [
    "fraud.duplicated().any()"
   ]
  },
  {
   "cell_type": "markdown",
   "id": "119387fe-b048-4ea2-b965-c07c8be80629",
   "metadata": {},
   "source": [
    "Alhamdulillah tidak ada duplikat wkwkwkwkwk"
   ]
  },
  {
   "cell_type": "markdown",
   "id": "4d1dbef9-bc17-4072-ac09-622e81451508",
   "metadata": {},
   "source": [
    "(4 poin) Bagaimana cara untuk melakukan *feature engineering* ataupun pemilihan variabel dari data yang tersedia.\n",
    "\n",
    "- Apakah terdapat variable yang dihilangkan? Jika iya, kenapa?\n",
    "- Apakah terdapat variable yang ditambahkan? Jika iya, kenapa?"
   ]
  },
  {
   "cell_type": "code",
   "execution_count": 498,
   "id": "0be22a13-fc36-4bc4-85da-5f5a9cd58611",
   "metadata": {
    "execution": {
     "iopub.execute_input": "2024-01-11T05:07:54.588127Z",
     "iopub.status.busy": "2024-01-11T05:07:54.587131Z",
     "iopub.status.idle": "2024-01-11T05:07:54.632136Z",
     "shell.execute_reply": "2024-01-11T05:07:54.630133Z",
     "shell.execute_reply.started": "2024-01-11T05:07:54.588127Z"
    }
   },
   "outputs": [
    {
     "data": {
      "text/html": [
       "<div>\n",
       "<style scoped>\n",
       "    .dataframe tbody tr th:only-of-type {\n",
       "        vertical-align: middle;\n",
       "    }\n",
       "\n",
       "    .dataframe tbody tr th {\n",
       "        vertical-align: top;\n",
       "    }\n",
       "\n",
       "    .dataframe thead th {\n",
       "        text-align: right;\n",
       "    }\n",
       "</style>\n",
       "<table border=\"1\" class=\"dataframe\">\n",
       "  <thead>\n",
       "    <tr style=\"text-align: right;\">\n",
       "      <th></th>\n",
       "      <th>count</th>\n",
       "      <th>unique</th>\n",
       "      <th>top</th>\n",
       "      <th>freq</th>\n",
       "    </tr>\n",
       "  </thead>\n",
       "  <tbody>\n",
       "    <tr>\n",
       "      <th>X</th>\n",
       "      <td>13104</td>\n",
       "      <td>8780</td>\n",
       "      <td>2925</td>\n",
       "      <td>6</td>\n",
       "    </tr>\n",
       "    <tr>\n",
       "      <th>id_tanggal_transaksi_awal</th>\n",
       "      <td>13104</td>\n",
       "      <td>360</td>\n",
       "      <td>2457509</td>\n",
       "      <td>169</td>\n",
       "    </tr>\n",
       "    <tr>\n",
       "      <th>tipe_kartu</th>\n",
       "      <td>13104</td>\n",
       "      <td>14</td>\n",
       "      <td>111</td>\n",
       "      <td>4835</td>\n",
       "    </tr>\n",
       "    <tr>\n",
       "      <th>id_merchant</th>\n",
       "      <td>13104</td>\n",
       "      <td>1121</td>\n",
       "      <td>-2</td>\n",
       "      <td>11287</td>\n",
       "    </tr>\n",
       "    <tr>\n",
       "      <th>nama_merchant</th>\n",
       "      <td>13104</td>\n",
       "      <td>1105</td>\n",
       "      <td>1798</td>\n",
       "      <td>11287</td>\n",
       "    </tr>\n",
       "    <tr>\n",
       "      <th>tipe_mesin</th>\n",
       "      <td>13104</td>\n",
       "      <td>5338</td>\n",
       "      <td>-3</td>\n",
       "      <td>880</td>\n",
       "    </tr>\n",
       "    <tr>\n",
       "      <th>tipe_transaksi</th>\n",
       "      <td>13104</td>\n",
       "      <td>20</td>\n",
       "      <td>26</td>\n",
       "      <td>3568</td>\n",
       "    </tr>\n",
       "    <tr>\n",
       "      <th>nama_transaksi</th>\n",
       "      <td>13104</td>\n",
       "      <td>20</td>\n",
       "      <td>10</td>\n",
       "      <td>3568</td>\n",
       "    </tr>\n",
       "    <tr>\n",
       "      <th>id_negara</th>\n",
       "      <td>13104</td>\n",
       "      <td>13</td>\n",
       "      <td>96</td>\n",
       "      <td>13060</td>\n",
       "    </tr>\n",
       "    <tr>\n",
       "      <th>nama_negara</th>\n",
       "      <td>13104</td>\n",
       "      <td>12</td>\n",
       "      <td>5</td>\n",
       "      <td>13059</td>\n",
       "    </tr>\n",
       "    <tr>\n",
       "      <th>nama_kota</th>\n",
       "      <td>13104</td>\n",
       "      <td>229</td>\n",
       "      <td>128</td>\n",
       "      <td>5394</td>\n",
       "    </tr>\n",
       "    <tr>\n",
       "      <th>lokasi_mesin</th>\n",
       "      <td>13104</td>\n",
       "      <td>5810</td>\n",
       "      <td>600</td>\n",
       "      <td>21</td>\n",
       "    </tr>\n",
       "    <tr>\n",
       "      <th>pemilik_mesin</th>\n",
       "      <td>13104</td>\n",
       "      <td>1665</td>\n",
       "      <td>613</td>\n",
       "      <td>10401</td>\n",
       "    </tr>\n",
       "    <tr>\n",
       "      <th>kuartal_transaksi</th>\n",
       "      <td>13104</td>\n",
       "      <td>4</td>\n",
       "      <td>3</td>\n",
       "      <td>5211</td>\n",
       "    </tr>\n",
       "    <tr>\n",
       "      <th>kepemilikan_kartu</th>\n",
       "      <td>13104</td>\n",
       "      <td>2</td>\n",
       "      <td>2</td>\n",
       "      <td>12218</td>\n",
       "    </tr>\n",
       "    <tr>\n",
       "      <th>nama_channel</th>\n",
       "      <td>13104</td>\n",
       "      <td>5</td>\n",
       "      <td>1</td>\n",
       "      <td>10401</td>\n",
       "    </tr>\n",
       "    <tr>\n",
       "      <th>id_channel</th>\n",
       "      <td>13104</td>\n",
       "      <td>4</td>\n",
       "      <td>9</td>\n",
       "      <td>10401</td>\n",
       "    </tr>\n",
       "    <tr>\n",
       "      <th>status_transaksi</th>\n",
       "      <td>13104</td>\n",
       "      <td>1</td>\n",
       "      <td>3</td>\n",
       "      <td>13104</td>\n",
       "    </tr>\n",
       "    <tr>\n",
       "      <th>bank_pemilik_kartu</th>\n",
       "      <td>13104</td>\n",
       "      <td>1</td>\n",
       "      <td>999</td>\n",
       "      <td>13104</td>\n",
       "    </tr>\n",
       "  </tbody>\n",
       "</table>\n",
       "</div>"
      ],
      "text/plain": [
       "                           count  unique      top   freq\n",
       "X                          13104    8780     2925      6\n",
       "id_tanggal_transaksi_awal  13104     360  2457509    169\n",
       "tipe_kartu                 13104      14      111   4835\n",
       "id_merchant                13104    1121       -2  11287\n",
       "nama_merchant              13104    1105     1798  11287\n",
       "tipe_mesin                 13104    5338       -3    880\n",
       "tipe_transaksi             13104      20       26   3568\n",
       "nama_transaksi             13104      20       10   3568\n",
       "id_negara                  13104      13       96  13060\n",
       "nama_negara                13104      12        5  13059\n",
       "nama_kota                  13104     229      128   5394\n",
       "lokasi_mesin               13104    5810      600     21\n",
       "pemilik_mesin              13104    1665      613  10401\n",
       "kuartal_transaksi          13104       4        3   5211\n",
       "kepemilikan_kartu          13104       2        2  12218\n",
       "nama_channel               13104       5        1  10401\n",
       "id_channel                 13104       4        9  10401\n",
       "status_transaksi           13104       1        3  13104\n",
       "bank_pemilik_kartu         13104       1      999  13104"
      ]
     },
     "execution_count": 498,
     "metadata": {},
     "output_type": "execute_result"
    }
   ],
   "source": [
    "# numerik\n",
    "fraud.select_dtypes(include=['object', 'category']).describe().T"
   ]
  },
  {
   "cell_type": "markdown",
   "id": "69acf7b3-2266-41cd-9ba7-92b2a425b0ca",
   "metadata": {},
   "source": [
    "### Apakah terdapat variable yang dihilangkan? Jika iya, kenapa?\n",
    "\n",
    "Iya, terutama variabel yang hanya menyangkut ID dan Nama yang memiliki nilai unik terlalu banyak akan dihilangkan seperti `X`, `id_tanggal_transaksi_awal`, `id_merchant`, `nama_merchant`, `tipe_mesin`, `tipe_transaksi`, `nama_transaksi`, `id_negara`, `nama_negara`,`tipe_kartu`, `nama_kota`, `lokasi_mesin`, `pemilik_mesin` lalu untuk `status_transaksi` dan `bank_pemilik_kartu` juga dihapus karena kategori yang tidak punya unique value"
   ]
  },
  {
   "cell_type": "code",
   "execution_count": 499,
   "id": "dbf2bf80-9db9-4bc0-bb1a-abd9fb0fdc98",
   "metadata": {
    "execution": {
     "iopub.execute_input": "2024-01-11T05:07:54.634133Z",
     "iopub.status.busy": "2024-01-11T05:07:54.633136Z",
     "iopub.status.idle": "2024-01-11T05:07:54.647131Z",
     "shell.execute_reply": "2024-01-11T05:07:54.646129Z",
     "shell.execute_reply.started": "2024-01-11T05:07:54.634133Z"
    }
   },
   "outputs": [
    {
     "data": {
      "text/html": [
       "<div>\n",
       "<style scoped>\n",
       "    .dataframe tbody tr th:only-of-type {\n",
       "        vertical-align: middle;\n",
       "    }\n",
       "\n",
       "    .dataframe tbody tr th {\n",
       "        vertical-align: top;\n",
       "    }\n",
       "\n",
       "    .dataframe thead th {\n",
       "        text-align: right;\n",
       "    }\n",
       "</style>\n",
       "<table border=\"1\" class=\"dataframe\">\n",
       "  <thead>\n",
       "    <tr style=\"text-align: right;\">\n",
       "      <th></th>\n",
       "      <th>nama_channel</th>\n",
       "      <th>id_channel</th>\n",
       "    </tr>\n",
       "  </thead>\n",
       "  <tbody>\n",
       "    <tr>\n",
       "      <th>nama_channel</th>\n",
       "      <td>1.000000</td>\n",
       "      <td>-0.376658</td>\n",
       "    </tr>\n",
       "    <tr>\n",
       "      <th>id_channel</th>\n",
       "      <td>-0.376658</td>\n",
       "      <td>1.000000</td>\n",
       "    </tr>\n",
       "  </tbody>\n",
       "</table>\n",
       "</div>"
      ],
      "text/plain": [
       "              nama_channel  id_channel\n",
       "nama_channel      1.000000   -0.376658\n",
       "id_channel       -0.376658    1.000000"
      ]
     },
     "execution_count": 499,
     "metadata": {},
     "output_type": "execute_result"
    }
   ],
   "source": [
    "fraud[['nama_channel', 'id_channel']].corr()"
   ]
  },
  {
   "cell_type": "markdown",
   "id": "69e30401-2001-45a9-9ef0-9cc18a95e163",
   "metadata": {},
   "source": [
    "Karena `nama_channel` dan `id_channel` tidak berkorelasi cukup kuat seperti asumsi saya diawal jadi dibiarkan saja"
   ]
  },
  {
   "cell_type": "code",
   "execution_count": 500,
   "id": "f666ccbd-cc76-4873-a5bf-ae1e1c09a5ce",
   "metadata": {
    "execution": {
     "iopub.execute_input": "2024-01-11T05:07:54.649127Z",
     "iopub.status.busy": "2024-01-11T05:07:54.648939Z",
     "iopub.status.idle": "2024-01-11T05:07:54.678155Z",
     "shell.execute_reply": "2024-01-11T05:07:54.677146Z",
     "shell.execute_reply.started": "2024-01-11T05:07:54.649127Z"
    }
   },
   "outputs": [
    {
     "data": {
      "text/html": [
       "<div>\n",
       "<style scoped>\n",
       "    .dataframe tbody tr th:only-of-type {\n",
       "        vertical-align: middle;\n",
       "    }\n",
       "\n",
       "    .dataframe tbody tr th {\n",
       "        vertical-align: top;\n",
       "    }\n",
       "\n",
       "    .dataframe thead th {\n",
       "        text-align: right;\n",
       "    }\n",
       "</style>\n",
       "<table border=\"1\" class=\"dataframe\">\n",
       "  <thead>\n",
       "    <tr style=\"text-align: right;\">\n",
       "      <th></th>\n",
       "      <th>0</th>\n",
       "      <th>1</th>\n",
       "      <th>2</th>\n",
       "      <th>3</th>\n",
       "      <th>4</th>\n",
       "    </tr>\n",
       "  </thead>\n",
       "  <tbody>\n",
       "    <tr>\n",
       "      <th>tanggal_transaksi_awal</th>\n",
       "      <td>1970-01-29 17:42:06</td>\n",
       "      <td>1970-01-29 17:38:27</td>\n",
       "      <td>1970-01-29 17:40:12</td>\n",
       "      <td>1970-01-29 17:42:26</td>\n",
       "      <td>1970-01-29 17:36:25</td>\n",
       "    </tr>\n",
       "    <tr>\n",
       "      <th>nilai_transaksi</th>\n",
       "      <td>2200000.0</td>\n",
       "      <td>2500000.0</td>\n",
       "      <td>1200000.0</td>\n",
       "      <td>320000.0</td>\n",
       "      <td>150000.0</td>\n",
       "    </tr>\n",
       "    <tr>\n",
       "      <th>waktu_transaksi</th>\n",
       "      <td>1970-01-03 12:52:35</td>\n",
       "      <td>1970-01-02 03:19:00</td>\n",
       "      <td>1970-01-02 21:56:56</td>\n",
       "      <td>1970-01-03 02:05:17</td>\n",
       "      <td>1970-01-02 22:48:59</td>\n",
       "    </tr>\n",
       "    <tr>\n",
       "      <th>kuartal_transaksi</th>\n",
       "      <td>4</td>\n",
       "      <td>2</td>\n",
       "      <td>3</td>\n",
       "      <td>3</td>\n",
       "      <td>3</td>\n",
       "    </tr>\n",
       "    <tr>\n",
       "      <th>kepemilikan_kartu</th>\n",
       "      <td>2</td>\n",
       "      <td>1</td>\n",
       "      <td>1</td>\n",
       "      <td>2</td>\n",
       "      <td>2</td>\n",
       "    </tr>\n",
       "    <tr>\n",
       "      <th>nama_channel</th>\n",
       "      <td>1</td>\n",
       "      <td>5</td>\n",
       "      <td>5</td>\n",
       "      <td>2</td>\n",
       "      <td>1</td>\n",
       "    </tr>\n",
       "    <tr>\n",
       "      <th>id_channel</th>\n",
       "      <td>9</td>\n",
       "      <td>8</td>\n",
       "      <td>8</td>\n",
       "      <td>4</td>\n",
       "      <td>9</td>\n",
       "    </tr>\n",
       "    <tr>\n",
       "      <th>flag_transaksi_finansial</th>\n",
       "      <td>False</td>\n",
       "      <td>False</td>\n",
       "      <td>False</td>\n",
       "      <td>False</td>\n",
       "      <td>False</td>\n",
       "    </tr>\n",
       "    <tr>\n",
       "      <th>rata_rata_nilai_transaksi</th>\n",
       "      <td>1332292.784</td>\n",
       "      <td>1369047.619</td>\n",
       "      <td>15523460.4</td>\n",
       "      <td>711764.7059</td>\n",
       "      <td>617968.254</td>\n",
       "    </tr>\n",
       "    <tr>\n",
       "      <th>maksimum_nilai_transaksi</th>\n",
       "      <td>9750000.0</td>\n",
       "      <td>10000000.0</td>\n",
       "      <td>100000000.0</td>\n",
       "      <td>6884408.0</td>\n",
       "      <td>2500000.0</td>\n",
       "    </tr>\n",
       "    <tr>\n",
       "      <th>minimum_nilai_transaksi</th>\n",
       "      <td>10000.0</td>\n",
       "      <td>30000.0</td>\n",
       "      <td>41804.0</td>\n",
       "      <td>10000.0</td>\n",
       "      <td>100000.0</td>\n",
       "    </tr>\n",
       "    <tr>\n",
       "      <th>rata_rata_jumlah_transaksi</th>\n",
       "      <td>2.73</td>\n",
       "      <td>2.33</td>\n",
       "      <td>2.4</td>\n",
       "      <td>1.98</td>\n",
       "      <td>1.46</td>\n",
       "    </tr>\n",
       "    <tr>\n",
       "      <th>flag_transaksi_fraud</th>\n",
       "      <td>0</td>\n",
       "      <td>1</td>\n",
       "      <td>0</td>\n",
       "      <td>0</td>\n",
       "      <td>0</td>\n",
       "    </tr>\n",
       "  </tbody>\n",
       "</table>\n",
       "</div>"
      ],
      "text/plain": [
       "                                              0                    1  \\\n",
       "tanggal_transaksi_awal      1970-01-29 17:42:06  1970-01-29 17:38:27   \n",
       "nilai_transaksi                       2200000.0            2500000.0   \n",
       "waktu_transaksi             1970-01-03 12:52:35  1970-01-02 03:19:00   \n",
       "kuartal_transaksi                             4                    2   \n",
       "kepemilikan_kartu                             2                    1   \n",
       "nama_channel                                  1                    5   \n",
       "id_channel                                    9                    8   \n",
       "flag_transaksi_finansial                  False                False   \n",
       "rata_rata_nilai_transaksi           1332292.784          1369047.619   \n",
       "maksimum_nilai_transaksi              9750000.0           10000000.0   \n",
       "minimum_nilai_transaksi                 10000.0              30000.0   \n",
       "rata_rata_jumlah_transaksi                 2.73                 2.33   \n",
       "flag_transaksi_fraud                          0                    1   \n",
       "\n",
       "                                              2                    3  \\\n",
       "tanggal_transaksi_awal      1970-01-29 17:40:12  1970-01-29 17:42:26   \n",
       "nilai_transaksi                       1200000.0             320000.0   \n",
       "waktu_transaksi             1970-01-02 21:56:56  1970-01-03 02:05:17   \n",
       "kuartal_transaksi                             3                    3   \n",
       "kepemilikan_kartu                             1                    2   \n",
       "nama_channel                                  5                    2   \n",
       "id_channel                                    8                    4   \n",
       "flag_transaksi_finansial                  False                False   \n",
       "rata_rata_nilai_transaksi            15523460.4          711764.7059   \n",
       "maksimum_nilai_transaksi            100000000.0            6884408.0   \n",
       "minimum_nilai_transaksi                 41804.0              10000.0   \n",
       "rata_rata_jumlah_transaksi                  2.4                 1.98   \n",
       "flag_transaksi_fraud                          0                    0   \n",
       "\n",
       "                                              4  \n",
       "tanggal_transaksi_awal      1970-01-29 17:36:25  \n",
       "nilai_transaksi                        150000.0  \n",
       "waktu_transaksi             1970-01-02 22:48:59  \n",
       "kuartal_transaksi                             3  \n",
       "kepemilikan_kartu                             2  \n",
       "nama_channel                                  1  \n",
       "id_channel                                    9  \n",
       "flag_transaksi_finansial                  False  \n",
       "rata_rata_nilai_transaksi            617968.254  \n",
       "maksimum_nilai_transaksi              2500000.0  \n",
       "minimum_nilai_transaksi                100000.0  \n",
       "rata_rata_jumlah_transaksi                 1.46  \n",
       "flag_transaksi_fraud                          0  "
      ]
     },
     "execution_count": 500,
     "metadata": {},
     "output_type": "execute_result"
    }
   ],
   "source": [
    "fraud_clean = fraud.drop(columns=['X', 'id_tanggal_transaksi_awal', 'id_merchant', 'nama_merchant', 'tipe_mesin', 'tipe_transaksi', 'nama_transaksi', 'id_negara','tipe_kartu', 'nama_negara', 'nama_kota', 'lokasi_mesin', 'pemilik_mesin', 'status_transaksi', 'bank_pemilik_kartu'])\n",
    "fraud_clean.head().T"
   ]
  },
  {
   "cell_type": "markdown",
   "id": "8cad30a8-be93-4550-8d21-f89210454be0",
   "metadata": {
    "execution": {
     "iopub.execute_input": "2024-01-11T02:03:10.044361Z",
     "iopub.status.busy": "2024-01-11T02:03:10.043363Z",
     "iopub.status.idle": "2024-01-11T02:03:10.067363Z",
     "shell.execute_reply": "2024-01-11T02:03:10.065359Z",
     "shell.execute_reply.started": "2024-01-11T02:03:10.044361Z"
    }
   },
   "source": [
    "### Apakah terdapat variable yang ditambahkan? Jika iya, kenapa?\n",
    "Sepertinya belum ada variable yang perlu ditambahkan dikarenakan belum diperlukannya. **Namun** ada kemungkinan penambahan variabel berdasarkan waktu seperti jam, hari, tanggal dan sebagainya. Beberapa dari variabel kategori atau objek akan ditambahkan untuk keperluan encoding agar input dapat dibaca oleh model. Namun akan dilakukan di cell lain. Lalu untuk variabel tanggal (`tanggal_transaksi_awal`, `waktu_transaksi`) akan diubah ke dalam bentuk `timestamp` agar dapat diproses model juga"
   ]
  },
  {
   "cell_type": "markdown",
   "id": "2a027f00-e86f-423e-893c-b02498ce64b9",
   "metadata": {},
   "source": [
    "Untuk analisis saya akan fokus menggunakan `fraud_clean` sedangkan untuk modelling akan menggunakan `fraud_clean_enc`"
   ]
  },
  {
   "cell_type": "markdown",
   "id": "fedeba9b-fc67-4fb8-8888-629d397f4d73",
   "metadata": {},
   "source": [
    "## Exploratory Data Analysis\r\n",
    "\r\n",
    "(2 poin) Exploratory Data Analyss- \r\n",
    "\r\n",
    "Berikan penjelasan informatif dari visualisasi dan/atau segala jenis hasil eksplorasi An- da.\r\n",
    "Bagaimana distribusi data pada setiap varia- bel?\r\n",
    "Apakah terdapat informasi menarik antara variable predictor dengan variable target?"
   ]
  },
  {
   "cell_type": "markdown",
   "id": "7c163eec-fda9-4bee-8cee-cc5ac4b22b63",
   "metadata": {},
   "source": [
    "Multivariate analysis"
   ]
  },
  {
   "cell_type": "code",
   "execution_count": 501,
   "id": "3b518146-4383-46c2-978d-e318dad644ac",
   "metadata": {
    "execution": {
     "iopub.execute_input": "2024-01-11T05:07:54.680153Z",
     "iopub.status.busy": "2024-01-11T05:07:54.680153Z",
     "iopub.status.idle": "2024-01-11T05:07:55.039735Z",
     "shell.execute_reply": "2024-01-11T05:07:55.038745Z",
     "shell.execute_reply.started": "2024-01-11T05:07:54.680153Z"
    }
   },
   "outputs": [
    {
     "data": {
      "image/png": "[encoded data removed]",
      "text/plain": [
       "<Figure size 1000x500 with 2 Axes>"
      ]
     },
     "metadata": {},
     "output_type": "display_data"
    }
   ],
   "source": [
    "matplotlib.rc('figure', figsize=(10, 5)) # Buat melebarkan gambar\n",
    "\n",
    "sns.heatmap(fraud_clean.select_dtypes(include=['int64', 'float64']).corr(), # nilai korelasi\n",
    "            annot=True,   # anotasi angka di dalam kotak heatmap\n",
    "            fmt=\".3f\",    # format 3 angka dibelakang koma \n",
    "            cmap='Blues'); # warna heatmap"
   ]
  },
  {
   "cell_type": "markdown",
   "id": "c30aabda-598a-40cc-acaf-2eaa37664992",
   "metadata": {},
   "source": [
    "Terlihat insight menarik bahwa korelasi antar prediktor `nilai_transaksi`, `rata_rata_nilai_transaksi`, dan `maksimum_nilai_transaksi` cukup tinggi. Ini akan cukup mempengaruhi model karena redundansi yang tinggi. Mari kita lihat distribusi ketiga variabel tersebut"
   ]
  },
  {
   "cell_type": "markdown",
   "id": "908e6058-964e-427b-b334-c59eb6832b74",
   "metadata": {
    "execution": {
     "iopub.execute_input": "2024-01-11T02:52:32.021882Z",
     "iopub.status.busy": "2024-01-11T02:52:32.020878Z",
     "iopub.status.idle": "2024-01-11T02:52:32.033875Z",
     "shell.execute_reply": "2024-01-11T02:52:32.032876Z",
     "shell.execute_reply.started": "2024-01-11T02:52:32.021882Z"
    }
   },
   "source": [
    "### Distribusi `nilai_transaksi` terhadap `flag_transaksi_fraud`"
   ]
  },
  {
   "cell_type": "code",
   "execution_count": 502,
   "id": "00dcb4f5-dba3-4f4b-9b2b-8bdefce85e69",
   "metadata": {
    "execution": {
     "iopub.execute_input": "2024-01-11T05:07:55.041731Z",
     "iopub.status.busy": "2024-01-11T05:07:55.040733Z",
     "iopub.status.idle": "2024-01-11T05:07:56.620487Z",
     "shell.execute_reply": "2024-01-11T05:07:56.618485Z",
     "shell.execute_reply.started": "2024-01-11T05:07:55.041731Z"
    }
   },
   "outputs": [
    {
     "data": {
      "text/plain": [
       "<Axes: xlabel='nilai_transaksi', ylabel='Count'>"
      ]
     },
     "execution_count": 502,
     "metadata": {},
     "output_type": "execute_result"
    },
    {
     "data": {
      "image/png": "[encoded data removed]",
      "text/plain": [
       "<Figure size 1000x500 with 1 Axes>"
      ]
     },
     "metadata": {},
     "output_type": "display_data"
    }
   ],
   "source": [
    "sns.histplot(data=fraud_clean, x='nilai_transaksi', log_scale=True, kde=True, hue='flag_transaksi_fraud')"
   ]
  },
  {
   "cell_type": "code",
   "execution_count": 503,
   "id": "5d97d147-b89d-446f-aafc-9f6c04685efa",
   "metadata": {
    "execution": {
     "iopub.execute_input": "2024-01-11T05:07:56.622478Z",
     "iopub.status.busy": "2024-01-11T05:07:56.621477Z",
     "iopub.status.idle": "2024-01-11T05:07:56.871259Z",
     "shell.execute_reply": "2024-01-11T05:07:56.870257Z",
     "shell.execute_reply.started": "2024-01-11T05:07:56.622478Z"
    }
   },
   "outputs": [
    {
     "data": {
      "text/plain": [
       "<Axes: xlabel='nilai_transaksi'>"
      ]
     },
     "execution_count": 503,
     "metadata": {},
     "output_type": "execute_result"
    },
    {
     "data": {
      "image/png": "[encoded data removed]",
      "text/plain": [
       "<Figure size 1000x500 with 1 Axes>"
      ]
     },
     "metadata": {},
     "output_type": "display_data"
    }
   ],
   "source": [
    "sns.boxplot(data=fraud_clean, x='nilai_transaksi', log_scale=True, hue='flag_transaksi_fraud')"
   ]
  },
  {
   "cell_type": "markdown",
   "id": "684d40cb-c9dd-4910-ac32-cef7354b0db7",
   "metadata": {
    "execution": {
     "iopub.execute_input": "2024-01-11T02:52:32.021882Z",
     "iopub.status.busy": "2024-01-11T02:52:32.020878Z",
     "iopub.status.idle": "2024-01-11T02:52:32.033875Z",
     "shell.execute_reply": "2024-01-11T02:52:32.032876Z",
     "shell.execute_reply.started": "2024-01-11T02:52:32.021882Z"
    }
   },
   "source": [
    "### Distribusi `rata_rata_nilai_transaksi` terhadap `flag_transaksi_fraud`"
   ]
  },
  {
   "cell_type": "code",
   "execution_count": 504,
   "id": "caba2cf1-f568-4abf-8161-972e30f1de8a",
   "metadata": {
    "execution": {
     "iopub.execute_input": "2024-01-11T05:07:56.873259Z",
     "iopub.status.busy": "2024-01-11T05:07:56.872259Z",
     "iopub.status.idle": "2024-01-11T05:07:57.594453Z",
     "shell.execute_reply": "2024-01-11T05:07:57.593452Z",
     "shell.execute_reply.started": "2024-01-11T05:07:56.873259Z"
    }
   },
   "outputs": [
    {
     "data": {
      "text/plain": [
       "<Axes: xlabel='rata_rata_nilai_transaksi', ylabel='Count'>"
      ]
     },
     "execution_count": 504,
     "metadata": {},
     "output_type": "execute_result"
    },
    {
     "data": {
      "image/png": "[encoded data removed]",
      "text/plain": [
       "<Figure size 1000x500 with 1 Axes>"
      ]
     },
     "metadata": {},
     "output_type": "display_data"
    }
   ],
   "source": [
    "sns.histplot(data=fraud_clean, x='rata_rata_nilai_transaksi', log_scale=True, kde=True, hue='flag_transaksi_fraud')"
   ]
  },
  {
   "cell_type": "code",
   "execution_count": 505,
   "id": "f8cdd14e-7167-4f94-82bb-d4707e96fb02",
   "metadata": {
    "execution": {
     "iopub.execute_input": "2024-01-11T05:07:57.596462Z",
     "iopub.status.busy": "2024-01-11T05:07:57.596462Z",
     "iopub.status.idle": "2024-01-11T05:07:57.972999Z",
     "shell.execute_reply": "2024-01-11T05:07:57.971011Z",
     "shell.execute_reply.started": "2024-01-11T05:07:57.596462Z"
    }
   },
   "outputs": [
    {
     "data": {
      "text/plain": [
       "<Axes: xlabel='rata_rata_nilai_transaksi'>"
      ]
     },
     "execution_count": 505,
     "metadata": {},
     "output_type": "execute_result"
    },
    {
     "data": {
      "image/png": "[encoded data removed]",
      "text/plain": [
       "<Figure size 1000x500 with 1 Axes>"
      ]
     },
     "metadata": {},
     "output_type": "display_data"
    }
   ],
   "source": [
    "sns.boxplot(data=fraud_clean, x='rata_rata_nilai_transaksi', log_scale=True, hue='flag_transaksi_fraud')"
   ]
  },
  {
   "cell_type": "markdown",
   "id": "1e2fd252-642e-4e0e-b1c2-6b6f7b0ac026",
   "metadata": {
    "execution": {
     "iopub.execute_input": "2024-01-11T02:52:32.021882Z",
     "iopub.status.busy": "2024-01-11T02:52:32.020878Z",
     "iopub.status.idle": "2024-01-11T02:52:32.033875Z",
     "shell.execute_reply": "2024-01-11T02:52:32.032876Z",
     "shell.execute_reply.started": "2024-01-11T02:52:32.021882Z"
    }
   },
   "source": [
    "### Distribusi `maksimum_nilai_transaksi` terhadap `flag_transaksi_fraud`"
   ]
  },
  {
   "cell_type": "code",
   "execution_count": 506,
   "id": "be4d0b54-f24b-429f-adba-fe8690a5a6b7",
   "metadata": {
    "execution": {
     "iopub.execute_input": "2024-01-11T05:07:57.975000Z",
     "iopub.status.busy": "2024-01-11T05:07:57.973994Z",
     "iopub.status.idle": "2024-01-11T05:07:58.654565Z",
     "shell.execute_reply": "2024-01-11T05:07:58.652572Z",
     "shell.execute_reply.started": "2024-01-11T05:07:57.975000Z"
    },
    "scrolled": true
   },
   "outputs": [
    {
     "data": {
      "text/plain": [
       "<Axes: xlabel='maksimum_nilai_transaksi', ylabel='Count'>"
      ]
     },
     "execution_count": 506,
     "metadata": {},
     "output_type": "execute_result"
    },
    {
     "data": {
      "image/png": "[encoded data removed]",
      "text/plain": [
       "<Figure size 1000x500 with 1 Axes>"
      ]
     },
     "metadata": {},
     "output_type": "display_data"
    }
   ],
   "source": [
    "sns.histplot(data=fraud_clean, x='maksimum_nilai_transaksi', log_scale=True, kde=True, hue='flag_transaksi_fraud')"
   ]
  },
  {
   "cell_type": "code",
   "execution_count": 507,
   "id": "cabe4cbe-4064-468c-bd54-5314c5e691ab",
   "metadata": {
    "execution": {
     "iopub.execute_input": "2024-01-11T05:07:58.656553Z",
     "iopub.status.busy": "2024-01-11T05:07:58.655554Z",
     "iopub.status.idle": "2024-01-11T05:07:59.063263Z",
     "shell.execute_reply": "2024-01-11T05:07:59.062251Z",
     "shell.execute_reply.started": "2024-01-11T05:07:58.656553Z"
    }
   },
   "outputs": [
    {
     "data": {
      "text/plain": [
       "<Axes: xlabel='maksimum_nilai_transaksi'>"
      ]
     },
     "execution_count": 507,
     "metadata": {},
     "output_type": "execute_result"
    },
    {
     "data": {
      "image/png": "[encoded data removed]",
      "text/plain": [
       "<Figure size 1000x500 with 1 Axes>"
      ]
     },
     "metadata": {},
     "output_type": "display_data"
    }
   ],
   "source": [
    "sns.boxplot(data=fraud_clean, x='maksimum_nilai_transaksi', log_scale=True, hue='flag_transaksi_fraud')"
   ]
  },
  {
   "cell_type": "markdown",
   "id": "b5a70f42-8399-4e82-bb5a-50a97d93c35a",
   "metadata": {
    "execution": {
     "iopub.execute_input": "2024-01-11T02:52:32.021882Z",
     "iopub.status.busy": "2024-01-11T02:52:32.020878Z",
     "iopub.status.idle": "2024-01-11T02:52:32.033875Z",
     "shell.execute_reply": "2024-01-11T02:52:32.032876Z",
     "shell.execute_reply.started": "2024-01-11T02:52:32.021882Z"
    }
   },
   "source": [
    "### Distribusi `minimum_nilai_transaksi` terhadap `flag_transaksi_fraud`"
   ]
  },
  {
   "cell_type": "code",
   "execution_count": 508,
   "id": "5864bbb6-a775-4293-a7bc-b5310fe24b7e",
   "metadata": {
    "execution": {
     "iopub.execute_input": "2024-01-11T05:07:59.065255Z",
     "iopub.status.busy": "2024-01-11T05:07:59.065255Z",
     "iopub.status.idle": "2024-01-11T05:08:00.250727Z",
     "shell.execute_reply": "2024-01-11T05:08:00.249736Z",
     "shell.execute_reply.started": "2024-01-11T05:07:59.065255Z"
    }
   },
   "outputs": [
    {
     "data": {
      "text/plain": [
       "<Axes: xlabel='minimum_nilai_transaksi', ylabel='Count'>"
      ]
     },
     "execution_count": 508,
     "metadata": {},
     "output_type": "execute_result"
    },
    {
     "data": {
      "image/png": "[encoded data removed]",
      "text/plain": [
       "<Figure size 1000x500 with 1 Axes>"
      ]
     },
     "metadata": {},
     "output_type": "display_data"
    }
   ],
   "source": [
    "sns.histplot(data=fraud_clean, x='minimum_nilai_transaksi', log_scale=True, kde=True, hue='flag_transaksi_fraud')"
   ]
  },
  {
   "cell_type": "code",
   "execution_count": 509,
   "id": "94e8c031-ee71-4c1e-8992-a0451b3fe8a5",
   "metadata": {
    "execution": {
     "iopub.execute_input": "2024-01-11T05:08:00.253720Z",
     "iopub.status.busy": "2024-01-11T05:08:00.252717Z",
     "iopub.status.idle": "2024-01-11T05:08:00.501654Z",
     "shell.execute_reply": "2024-01-11T05:08:00.500679Z",
     "shell.execute_reply.started": "2024-01-11T05:08:00.252717Z"
    }
   },
   "outputs": [
    {
     "data": {
      "text/plain": [
       "<Axes: xlabel='minimum_nilai_transaksi'>"
      ]
     },
     "execution_count": 509,
     "metadata": {},
     "output_type": "execute_result"
    },
    {
     "data": {
      "image/png": "[encoded data removed]",
      "text/plain": [
       "<Figure size 1000x500 with 1 Axes>"
      ]
     },
     "metadata": {},
     "output_type": "display_data"
    }
   ],
   "source": [
    "sns.boxplot(data=fraud_clean, x='minimum_nilai_transaksi', log_scale=True, hue='flag_transaksi_fraud')"
   ]
  },
  {
   "cell_type": "markdown",
   "id": "6956a6ce-5ef6-4e27-9e89-a981a7a44119",
   "metadata": {
    "execution": {
     "iopub.execute_input": "2024-01-11T02:52:32.021882Z",
     "iopub.status.busy": "2024-01-11T02:52:32.020878Z",
     "iopub.status.idle": "2024-01-11T02:52:32.033875Z",
     "shell.execute_reply": "2024-01-11T02:52:32.032876Z",
     "shell.execute_reply.started": "2024-01-11T02:52:32.021882Z"
    }
   },
   "source": [
    "### Distribusi `rata_rata_jumlah_transaksi` terhadap `flag_transaksi_fraud`"
   ]
  },
  {
   "cell_type": "code",
   "execution_count": 510,
   "id": "48e9b011-0487-4555-a204-6d71ae10522a",
   "metadata": {
    "execution": {
     "iopub.execute_input": "2024-01-11T05:08:00.503656Z",
     "iopub.status.busy": "2024-01-11T05:08:00.502663Z",
     "iopub.status.idle": "2024-01-11T05:08:01.149528Z",
     "shell.execute_reply": "2024-01-11T05:08:01.148540Z",
     "shell.execute_reply.started": "2024-01-11T05:08:00.503656Z"
    }
   },
   "outputs": [
    {
     "data": {
      "text/plain": [
       "<Axes: xlabel='rata_rata_jumlah_transaksi', ylabel='Count'>"
      ]
     },
     "execution_count": 510,
     "metadata": {},
     "output_type": "execute_result"
    },
    {
     "data": {
      "image/png": "[encoded data removed]",
      "text/plain": [
       "<Figure size 1000x500 with 1 Axes>"
      ]
     },
     "metadata": {},
     "output_type": "display_data"
    }
   ],
   "source": [
    "sns.histplot(data=fraud_clean, x='rata_rata_jumlah_transaksi', log_scale=True, kde=True, hue='flag_transaksi_fraud')"
   ]
  },
  {
   "cell_type": "code",
   "execution_count": 511,
   "id": "1aa5e90f-05c6-4603-9e5b-89a480b8f785",
   "metadata": {
    "execution": {
     "iopub.execute_input": "2024-01-11T05:08:01.151537Z",
     "iopub.status.busy": "2024-01-11T05:08:01.150537Z",
     "iopub.status.idle": "2024-01-11T05:08:01.498384Z",
     "shell.execute_reply": "2024-01-11T05:08:01.497380Z",
     "shell.execute_reply.started": "2024-01-11T05:08:01.151537Z"
    }
   },
   "outputs": [
    {
     "data": {
      "text/plain": [
       "<Axes: xlabel='rata_rata_jumlah_transaksi'>"
      ]
     },
     "execution_count": 511,
     "metadata": {},
     "output_type": "execute_result"
    },
    {
     "data": {
      "image/png": "[encoded data removed]",
      "text/plain": [
       "<Figure size 1000x500 with 1 Axes>"
      ]
     },
     "metadata": {},
     "output_type": "display_data"
    }
   ],
   "source": [
    "sns.boxplot(data=fraud_clean, x='rata_rata_jumlah_transaksi', log_scale=True, hue='flag_transaksi_fraud')"
   ]
  },
  {
   "cell_type": "markdown",
   "id": "32748ca2-442b-42b2-85c2-6e8f7eab7766",
   "metadata": {},
   "source": [
    "### Kesimpulan yang didapat pada data kontinu\n",
    "- Terdapat persebaran yang sangat luas pada `nilai_transaksi` dan `minimum_nilai_transaksi`.\n",
    "- Untuk `rata_rata_nilai_transaksi` distribusinya cukup normal\n",
    "- Untuk `maksimum_jumlah_transaksi` dan `rata_rata_jumlah_transaksi` mempunyai skewness yang berlawanan\n",
    "- Untuk `rata_rata_jumlah_transaksi` mempunyai skala yang berbeda dengan yang lain (karena hanya menghitung banyaknya transaksi jadi tidak banyak nilainya dibanding yang lain\n",
    "- Melihat dari boxplot, sepertinya `rata_rata_jumlah_transaksi` dan `nilai_transaksi` bisa menjadi prediktor yang baik untuk memprediksi target"
   ]
  },
  {
   "cell_type": "markdown",
   "id": "e0c1d772-8064-4c21-87d9-8d01ffec55c0",
   "metadata": {},
   "source": [
    "### Analysis tanggal dan transaksi fraud"
   ]
  },
  {
   "cell_type": "code",
   "execution_count": 512,
   "id": "4cf1a8dd-f0b9-4a15-a34e-7166d45e12a4",
   "metadata": {
    "execution": {
     "iopub.execute_input": "2024-01-11T05:08:01.501382Z",
     "iopub.status.busy": "2024-01-11T05:08:01.500384Z",
     "iopub.status.idle": "2024-01-11T05:08:01.939296Z",
     "shell.execute_reply": "2024-01-11T05:08:01.937295Z",
     "shell.execute_reply.started": "2024-01-11T05:08:01.501382Z"
    }
   },
   "outputs": [
    {
     "data": {
      "text/plain": [
       "<Axes: xlabel='tanggal_transaksi_awal', ylabel='Count'>"
      ]
     },
     "execution_count": 512,
     "metadata": {},
     "output_type": "execute_result"
    },
    {
     "data": {
      "image/png": "[encoded data removed]",
      "text/plain": [
       "<Figure size 1000x500 with 1 Axes>"
      ]
     },
     "metadata": {},
     "output_type": "display_data"
    }
   ],
   "source": [
    "sns.histplot(data=fraud_clean, x='tanggal_transaksi_awal', hue='flag_transaksi_fraud')"
   ]
  },
  {
   "cell_type": "code",
   "execution_count": 513,
   "id": "49beac60-c467-44ac-9bfb-764d3eb37950",
   "metadata": {
    "execution": {
     "iopub.execute_input": "2024-01-11T05:08:01.941298Z",
     "iopub.status.busy": "2024-01-11T05:08:01.940291Z",
     "iopub.status.idle": "2024-01-11T05:08:02.253996Z",
     "shell.execute_reply": "2024-01-11T05:08:02.252994Z",
     "shell.execute_reply.started": "2024-01-11T05:08:01.941298Z"
    }
   },
   "outputs": [
    {
     "data": {
      "text/plain": [
       "<Axes: xlabel='tanggal_transaksi_awal'>"
      ]
     },
     "execution_count": 513,
     "metadata": {},
     "output_type": "execute_result"
    },
    {
     "data": {
      "image/png": "[encoded data removed]",
      "text/plain": [
       "<Figure size 1000x500 with 1 Axes>"
      ]
     },
     "metadata": {},
     "output_type": "display_data"
    }
   ],
   "source": [
    "sns.boxplot(data=fraud_clean, x='tanggal_transaksi_awal', hue='flag_transaksi_fraud')"
   ]
  },
  {
   "cell_type": "markdown",
   "id": "bf926d5e-eb56-497f-a1f8-f639f8846266",
   "metadata": {},
   "source": [
    "Kesimpulan dari sini fraud lebih banyak terjadi waktu di waktu yang lebih sore/malam"
   ]
  },
  {
   "cell_type": "code",
   "execution_count": 514,
   "id": "5e5a10a3-c53d-479b-b049-66a9f194c100",
   "metadata": {
    "execution": {
     "iopub.execute_input": "2024-01-11T05:08:02.255993Z",
     "iopub.status.busy": "2024-01-11T05:08:02.254994Z",
     "iopub.status.idle": "2024-01-11T05:08:02.667237Z",
     "shell.execute_reply": "2024-01-11T05:08:02.666234Z",
     "shell.execute_reply.started": "2024-01-11T05:08:02.255993Z"
    }
   },
   "outputs": [
    {
     "data": {
      "text/plain": [
       "<Axes: xlabel='waktu_transaksi', ylabel='Count'>"
      ]
     },
     "execution_count": 514,
     "metadata": {},
     "output_type": "execute_result"
    },
    {
     "data": {
      "image/png": "[encoded data removed]",
      "text/plain": [
       "<Figure size 1000x500 with 1 Axes>"
      ]
     },
     "metadata": {},
     "output_type": "display_data"
    }
   ],
   "source": [
    "sns.histplot(data=fraud_clean, x='waktu_transaksi', hue='flag_transaksi_fraud')"
   ]
  },
  {
   "cell_type": "code",
   "execution_count": 515,
   "id": "ad52bf83-9bb6-486d-96f6-434bc3e9051a",
   "metadata": {
    "execution": {
     "iopub.execute_input": "2024-01-11T05:08:02.670237Z",
     "iopub.status.busy": "2024-01-11T05:08:02.669244Z",
     "iopub.status.idle": "2024-01-11T05:08:02.953238Z",
     "shell.execute_reply": "2024-01-11T05:08:02.952257Z",
     "shell.execute_reply.started": "2024-01-11T05:08:02.670237Z"
    }
   },
   "outputs": [
    {
     "data": {
      "text/plain": [
       "<Axes: xlabel='waktu_transaksi'>"
      ]
     },
     "execution_count": 515,
     "metadata": {},
     "output_type": "execute_result"
    },
    {
     "data": {
      "image/png": "[encoded data removed]",
      "text/plain": [
       "<Figure size 1000x500 with 1 Axes>"
      ]
     },
     "metadata": {},
     "output_type": "display_data"
    }
   ],
   "source": [
    "sns.boxplot(data=fraud_clean, x='waktu_transaksi', hue='flag_transaksi_fraud')"
   ]
  },
  {
   "cell_type": "markdown",
   "id": "dbe09f09-9a48-429b-b66a-bf82c34aa681",
   "metadata": {},
   "source": [
    "### Analysis kategorikal data dengan target"
   ]
  },
  {
   "cell_type": "code",
   "execution_count": 516,
   "id": "f26c1d3a-5936-487d-8c55-ef48abf7660c",
   "metadata": {
    "execution": {
     "iopub.execute_input": "2024-01-11T05:08:02.955241Z",
     "iopub.status.busy": "2024-01-11T05:08:02.955241Z",
     "iopub.status.idle": "2024-01-11T05:08:02.969235Z",
     "shell.execute_reply": "2024-01-11T05:08:02.968237Z",
     "shell.execute_reply.started": "2024-01-11T05:08:02.955241Z"
    }
   },
   "outputs": [
    {
     "data": {
      "text/plain": [
       "['kuartal_transaksi', 'kepemilikan_kartu', 'nama_channel', 'id_channel']"
      ]
     },
     "execution_count": 516,
     "metadata": {},
     "output_type": "execute_result"
    }
   ],
   "source": [
    "non_num_kolom"
   ]
  },
  {
   "cell_type": "code",
   "execution_count": 517,
   "id": "303c6222-c15c-4f45-99ab-74912f9deff7",
   "metadata": {
    "execution": {
     "iopub.execute_input": "2024-01-11T05:08:02.971236Z",
     "iopub.status.busy": "2024-01-11T05:08:02.970235Z",
     "iopub.status.idle": "2024-01-11T05:08:03.313696Z",
     "shell.execute_reply": "2024-01-11T05:08:03.311768Z",
     "shell.execute_reply.started": "2024-01-11T05:08:02.971236Z"
    }
   },
   "outputs": [
    {
     "data": {
      "text/plain": [
       "<Axes: xlabel='kuartal_transaksi', ylabel='flag_transaksi_fraud'>"
      ]
     },
     "execution_count": 517,
     "metadata": {},
     "output_type": "execute_result"
    },
    {
     "data": {
      "image/png": "[encoded data removed]",
      "text/plain": [
       "<Figure size 1000x500 with 1 Axes>"
      ]
     },
     "metadata": {},
     "output_type": "display_data"
    }
   ],
   "source": [
    "sns.barplot(data=fraud_clean, x='kuartal_transaksi', y='flag_transaksi_fraud' )"
   ]
  },
  {
   "cell_type": "markdown",
   "id": "70cc8961-34e0-429f-82b2-10b966d4df7c",
   "metadata": {},
   "source": [
    "Dapat dilihat bahwa transaksi fraud lebih condong ke awal awal kuartal transaksi"
   ]
  },
  {
   "cell_type": "code",
   "execution_count": 518,
   "id": "8966c011-013a-4247-b698-9476deda1268",
   "metadata": {
    "execution": {
     "iopub.execute_input": "2024-01-11T05:08:03.315680Z",
     "iopub.status.busy": "2024-01-11T05:08:03.314677Z",
     "iopub.status.idle": "2024-01-11T05:08:03.626163Z",
     "shell.execute_reply": "2024-01-11T05:08:03.625163Z",
     "shell.execute_reply.started": "2024-01-11T05:08:03.315680Z"
    }
   },
   "outputs": [
    {
     "data": {
      "text/plain": [
       "<Axes: xlabel='kepemilikan_kartu', ylabel='flag_transaksi_fraud'>"
      ]
     },
     "execution_count": 518,
     "metadata": {},
     "output_type": "execute_result"
    },
    {
     "data": {
      "image/png": "[encoded data removed]",
      "text/plain": [
       "<Figure size 1000x500 with 1 Axes>"
      ]
     },
     "metadata": {},
     "output_type": "display_data"
    }
   ],
   "source": [
    "sns.barplot(data=fraud_clean, x='kepemilikan_kartu', y='flag_transaksi_fraud' )"
   ]
  },
  {
   "cell_type": "markdown",
   "id": "b2c288c3-9af3-4c21-8920-d7918e678ba1",
   "metadata": {},
   "source": [
    "Lalu untuk `kepemilikan_kartu` = 1 lebih condong melakukan fraud"
   ]
  },
  {
   "cell_type": "code",
   "execution_count": 519,
   "id": "accf781f-a927-4390-b041-686d07f50836",
   "metadata": {
    "execution": {
     "iopub.execute_input": "2024-01-11T05:08:03.628162Z",
     "iopub.status.busy": "2024-01-11T05:08:03.627162Z",
     "iopub.status.idle": "2024-01-11T05:08:04.024083Z",
     "shell.execute_reply": "2024-01-11T05:08:04.022093Z",
     "shell.execute_reply.started": "2024-01-11T05:08:03.628162Z"
    },
    "scrolled": true
   },
   "outputs": [
    {
     "data": {
      "text/plain": [
       "<Axes: xlabel='nama_channel', ylabel='flag_transaksi_fraud'>"
      ]
     },
     "execution_count": 519,
     "metadata": {},
     "output_type": "execute_result"
    },
    {
     "data": {
      "image/png": "[encoded data removed]",
      "text/plain": [
       "<Figure size 1000x500 with 1 Axes>"
      ]
     },
     "metadata": {},
     "output_type": "display_data"
    }
   ],
   "source": [
    "sns.barplot(data=fraud_clean, x='nama_channel', y='flag_transaksi_fraud' )"
   ]
  },
  {
   "cell_type": "markdown",
   "id": "58ce5d0d-1948-4a43-95f3-332392566a45",
   "metadata": {},
   "source": [
    "Lalu untuk `nama_channel` 3 dan 5 lebih condong fraud dibanding yang lain"
   ]
  },
  {
   "cell_type": "code",
   "execution_count": 520,
   "id": "aa568ed6-7764-4bf0-a095-9a2bd302a4de",
   "metadata": {
    "execution": {
     "iopub.execute_input": "2024-01-11T05:08:04.025095Z",
     "iopub.status.busy": "2024-01-11T05:08:04.024083Z",
     "iopub.status.idle": "2024-01-11T05:08:04.431730Z",
     "shell.execute_reply": "2024-01-11T05:08:04.429725Z",
     "shell.execute_reply.started": "2024-01-11T05:08:04.025095Z"
    }
   },
   "outputs": [
    {
     "data": {
      "text/plain": [
       "<Axes: xlabel='id_channel', ylabel='flag_transaksi_fraud'>"
      ]
     },
     "execution_count": 520,
     "metadata": {},
     "output_type": "execute_result"
    },
    {
     "data": {
      "image/png": "[encoded data removed]",
      "text/plain": [
       "<Figure size 1000x500 with 1 Axes>"
      ]
     },
     "metadata": {},
     "output_type": "display_data"
    }
   ],
   "source": [
    "sns.barplot(data=fraud_clean, x='id_channel', y='flag_transaksi_fraud' )"
   ]
  },
  {
   "cell_type": "markdown",
   "id": "61151057-4ad5-4073-9a58-bf5b815f633c",
   "metadata": {},
   "source": [
    "Lalu untuk `id_channel` 8 lebih condong fraud dibanding yang lain"
   ]
  },
  {
   "cell_type": "markdown",
   "id": "7a55b62f-29ba-425f-9b74-87f935d62804",
   "metadata": {},
   "source": [
    "## Data Pre-processing and Model Fitting\n",
    "\n",
    "(2 poin) Data Pre-processing\n",
    "\n",
    "- Apakah terdapat variabel yang harus di-encoding? Kalau ada, apa saja dan kenapa?"
   ]
  },
  {
   "cell_type": "markdown",
   "id": "91be5917-3bf2-4be1-9896-66def2d08211",
   "metadata": {},
   "source": [
    "Ada yaitu data-data yang masih bersifat kategorikal dan boolean. Alasannya adalah karena model tidak dapat membaca data yang bersifat `object` atau `categorical` (untuk `boolean` masih diperdebatkan karena terkadang ada beberapa model yang bisa membaca `boolean` sebagai 1 atau 0).\n",
    "\n",
    "Untuk kolom yang perlu di encoding adalah `kuartal_transaksi`, `kepemilikan_kartu`, `nama_channel`, `id_channel`, `flag_transaksi_finansial`\n",
    "\n",
    "Oh iya jangan lupa `datetimens[64]` juga terkadang tidak bisa dibaca mode makanya sebaiknya diubah lagi dalam bentuk `timestamp`"
   ]
  },
  {
   "cell_type": "code",
   "execution_count": 521,
   "id": "dc0f4103-ed5f-4f3b-9b9a-d1da4447ff19",
   "metadata": {
    "execution": {
     "iopub.execute_input": "2024-01-11T05:08:04.433734Z",
     "iopub.status.busy": "2024-01-11T05:08:04.432728Z",
     "iopub.status.idle": "2024-01-11T05:08:04.447729Z",
     "shell.execute_reply": "2024-01-11T05:08:04.445738Z",
     "shell.execute_reply.started": "2024-01-11T05:08:04.433734Z"
    }
   },
   "outputs": [
    {
     "data": {
      "text/plain": [
       "flag_transaksi_finansial\n",
       "False    13125\n",
       "Name: count, dtype: int64"
      ]
     },
     "execution_count": 521,
     "metadata": {},
     "output_type": "execute_result"
    }
   ],
   "source": [
    "fraud_asli['flag_transaksi_finansial'].value_counts()"
   ]
  },
  {
   "cell_type": "code",
   "execution_count": 522,
   "id": "0c5a9ac1-7832-49e0-b028-53c91bf1d200",
   "metadata": {
    "execution": {
     "iopub.execute_input": "2024-01-11T05:08:04.449730Z",
     "iopub.status.busy": "2024-01-11T05:08:04.448729Z",
     "iopub.status.idle": "2024-01-11T05:08:04.462727Z",
     "shell.execute_reply": "2024-01-11T05:08:04.461726Z",
     "shell.execute_reply.started": "2024-01-11T05:08:04.449730Z"
    }
   },
   "outputs": [],
   "source": [
    "# Ternyata False semua WKWKWKWKWKWWKK\n",
    "fraud_clean = fraud_clean.drop(columns='flag_transaksi_finansial')"
   ]
  },
  {
   "cell_type": "markdown",
   "id": "b90e84df-f661-4dd4-b612-9b7d12970839",
   "metadata": {},
   "source": [
    "Dikarenakan variabel `nama_channel` dan `id_channel` nilai encoding nya punya korelasi tinggi maka salah satu kolom dihapus dan diambillah `id_channel`.\n",
    "Lalu untuk `tanggal_transaksi_awal` karena banyak sekali keanehan saat dalam bentuk `datettimens(64)` (cuma 1 hari) maka di drop untuk menghindari kesalahan data "
   ]
  },
  {
   "cell_type": "code",
   "execution_count": 585,
   "id": "5f05197f-71f4-4b71-81f7-73bec1ca8cb0",
   "metadata": {
    "execution": {
     "iopub.execute_input": "2024-01-11T05:53:02.095459Z",
     "iopub.status.busy": "2024-01-11T05:53:02.095459Z",
     "iopub.status.idle": "2024-01-11T05:53:02.136457Z",
     "shell.execute_reply": "2024-01-11T05:53:02.135458Z",
     "shell.execute_reply.started": "2024-01-11T05:53:02.095459Z"
    }
   },
   "outputs": [
    {
     "data": {
      "text/html": [
       "<div>\n",
       "<style scoped>\n",
       "    .dataframe tbody tr th:only-of-type {\n",
       "        vertical-align: middle;\n",
       "    }\n",
       "\n",
       "    .dataframe tbody tr th {\n",
       "        vertical-align: top;\n",
       "    }\n",
       "\n",
       "    .dataframe thead th {\n",
       "        text-align: right;\n",
       "    }\n",
       "</style>\n",
       "<table border=\"1\" class=\"dataframe\">\n",
       "  <thead>\n",
       "    <tr style=\"text-align: right;\">\n",
       "      <th></th>\n",
       "      <th>0</th>\n",
       "      <th>1</th>\n",
       "      <th>2</th>\n",
       "      <th>3</th>\n",
       "      <th>4</th>\n",
       "    </tr>\n",
       "  </thead>\n",
       "  <tbody>\n",
       "    <tr>\n",
       "      <th>nilai_transaksi</th>\n",
       "      <td>2200000.000</td>\n",
       "      <td>2.500000e+06</td>\n",
       "      <td>1200000.0</td>\n",
       "      <td>3.200000e+05</td>\n",
       "      <td>150000.000</td>\n",
       "    </tr>\n",
       "    <tr>\n",
       "      <th>waktu_transaksi</th>\n",
       "      <td>193955.000</td>\n",
       "      <td>7.314000e+04</td>\n",
       "      <td>140216.0</td>\n",
       "      <td>1.551170e+05</td>\n",
       "      <td>143339.000</td>\n",
       "    </tr>\n",
       "    <tr>\n",
       "      <th>rata_rata_nilai_transaksi</th>\n",
       "      <td>1332292.784</td>\n",
       "      <td>1.369048e+06</td>\n",
       "      <td>15523460.4</td>\n",
       "      <td>7.117647e+05</td>\n",
       "      <td>617968.254</td>\n",
       "    </tr>\n",
       "    <tr>\n",
       "      <th>maksimum_nilai_transaksi</th>\n",
       "      <td>9750000.000</td>\n",
       "      <td>1.000000e+07</td>\n",
       "      <td>100000000.0</td>\n",
       "      <td>6.884408e+06</td>\n",
       "      <td>2500000.000</td>\n",
       "    </tr>\n",
       "    <tr>\n",
       "      <th>minimum_nilai_transaksi</th>\n",
       "      <td>10000.000</td>\n",
       "      <td>3.000000e+04</td>\n",
       "      <td>41804.0</td>\n",
       "      <td>1.000000e+04</td>\n",
       "      <td>100000.000</td>\n",
       "    </tr>\n",
       "    <tr>\n",
       "      <th>rata_rata_jumlah_transaksi</th>\n",
       "      <td>2.730</td>\n",
       "      <td>2.330000e+00</td>\n",
       "      <td>2.4</td>\n",
       "      <td>1.980000e+00</td>\n",
       "      <td>1.460</td>\n",
       "    </tr>\n",
       "    <tr>\n",
       "      <th>flag_transaksi_fraud</th>\n",
       "      <td>0.000</td>\n",
       "      <td>1.000000e+00</td>\n",
       "      <td>0.0</td>\n",
       "      <td>0.000000e+00</td>\n",
       "      <td>0.000</td>\n",
       "    </tr>\n",
       "    <tr>\n",
       "      <th>kuartal_transaksi_2</th>\n",
       "      <td>0.000</td>\n",
       "      <td>1.000000e+00</td>\n",
       "      <td>0.0</td>\n",
       "      <td>0.000000e+00</td>\n",
       "      <td>0.000</td>\n",
       "    </tr>\n",
       "    <tr>\n",
       "      <th>kuartal_transaksi_3</th>\n",
       "      <td>0.000</td>\n",
       "      <td>0.000000e+00</td>\n",
       "      <td>1.0</td>\n",
       "      <td>1.000000e+00</td>\n",
       "      <td>1.000</td>\n",
       "    </tr>\n",
       "    <tr>\n",
       "      <th>kuartal_transaksi_4</th>\n",
       "      <td>1.000</td>\n",
       "      <td>0.000000e+00</td>\n",
       "      <td>0.0</td>\n",
       "      <td>0.000000e+00</td>\n",
       "      <td>0.000</td>\n",
       "    </tr>\n",
       "    <tr>\n",
       "      <th>kepemilikan_kartu_2</th>\n",
       "      <td>1.000</td>\n",
       "      <td>0.000000e+00</td>\n",
       "      <td>0.0</td>\n",
       "      <td>1.000000e+00</td>\n",
       "      <td>1.000</td>\n",
       "    </tr>\n",
       "    <tr>\n",
       "      <th>id_channel_4</th>\n",
       "      <td>0.000</td>\n",
       "      <td>0.000000e+00</td>\n",
       "      <td>0.0</td>\n",
       "      <td>1.000000e+00</td>\n",
       "      <td>0.000</td>\n",
       "    </tr>\n",
       "    <tr>\n",
       "      <th>id_channel_8</th>\n",
       "      <td>0.000</td>\n",
       "      <td>1.000000e+00</td>\n",
       "      <td>1.0</td>\n",
       "      <td>0.000000e+00</td>\n",
       "      <td>0.000</td>\n",
       "    </tr>\n",
       "    <tr>\n",
       "      <th>id_channel_9</th>\n",
       "      <td>1.000</td>\n",
       "      <td>0.000000e+00</td>\n",
       "      <td>0.0</td>\n",
       "      <td>0.000000e+00</td>\n",
       "      <td>1.000</td>\n",
       "    </tr>\n",
       "  </tbody>\n",
       "</table>\n",
       "</div>"
      ],
      "text/plain": [
       "                                      0             1            2  \\\n",
       "nilai_transaksi             2200000.000  2.500000e+06    1200000.0   \n",
       "waktu_transaksi              193955.000  7.314000e+04     140216.0   \n",
       "rata_rata_nilai_transaksi   1332292.784  1.369048e+06   15523460.4   \n",
       "maksimum_nilai_transaksi    9750000.000  1.000000e+07  100000000.0   \n",
       "minimum_nilai_transaksi       10000.000  3.000000e+04      41804.0   \n",
       "rata_rata_jumlah_transaksi        2.730  2.330000e+00          2.4   \n",
       "flag_transaksi_fraud              0.000  1.000000e+00          0.0   \n",
       "kuartal_transaksi_2               0.000  1.000000e+00          0.0   \n",
       "kuartal_transaksi_3               0.000  0.000000e+00          1.0   \n",
       "kuartal_transaksi_4               1.000  0.000000e+00          0.0   \n",
       "kepemilikan_kartu_2               1.000  0.000000e+00          0.0   \n",
       "id_channel_4                      0.000  0.000000e+00          0.0   \n",
       "id_channel_8                      0.000  1.000000e+00          1.0   \n",
       "id_channel_9                      1.000  0.000000e+00          0.0   \n",
       "\n",
       "                                       3            4  \n",
       "nilai_transaksi             3.200000e+05   150000.000  \n",
       "waktu_transaksi             1.551170e+05   143339.000  \n",
       "rata_rata_nilai_transaksi   7.117647e+05   617968.254  \n",
       "maksimum_nilai_transaksi    6.884408e+06  2500000.000  \n",
       "minimum_nilai_transaksi     1.000000e+04   100000.000  \n",
       "rata_rata_jumlah_transaksi  1.980000e+00        1.460  \n",
       "flag_transaksi_fraud        0.000000e+00        0.000  \n",
       "kuartal_transaksi_2         0.000000e+00        0.000  \n",
       "kuartal_transaksi_3         1.000000e+00        1.000  \n",
       "kuartal_transaksi_4         0.000000e+00        0.000  \n",
       "kepemilikan_kartu_2         1.000000e+00        1.000  \n",
       "id_channel_4                1.000000e+00        0.000  \n",
       "id_channel_8                0.000000e+00        0.000  \n",
       "id_channel_9                0.000000e+00        1.000  "
      ]
     },
     "execution_count": 585,
     "metadata": {},
     "output_type": "execute_result"
    }
   ],
   "source": [
    "non_num_kolom = ['kuartal_transaksi', 'kepemilikan_kartu', 'id_channel'] \n",
    "fraud_clean_enc = pd.get_dummies(fraud_clean,columns=non_num_kolom,drop_first=True,dtype='int')\n",
    "fraud_clean_enc[dt_kolom] = fraud_asli[dt_kolom]\n",
    "fraud_clean_enc = fraud_clean_enc.drop(columns=['tanggal_transaksi_awal', 'nama_channel'])\n",
    "fraud_clean_enc.head().T"
   ]
  },
  {
   "cell_type": "markdown",
   "id": "2d9549bf-9e1e-4a79-879d-14e81b478576",
   "metadata": {},
   "source": [
    "### (4 poin) Membuat model, pilih model berdasarkan model yang sudah diajarkan dikelas (logistic regression / knn)\n",
    "\n",
    "- Buatlah model yang dapat menjawab pertanyaan bisnis di atas. : \n",
    "Untuk Capstone, saya akan mencoba menggunakan kedua model `Logit()` dan `KNN`\n",
    "\n",
    "- Variable apa yang dirasa cukup penting dalam pembuatan model? Sertakan alasannya. : \n",
    "Untuk model `Logit()` saya akan mencoba menggunakan semua data yang ada, namun ada beberapa prediktor kategorikal akan dihapus karena memiliki korelasi tinggi. Lalu untuk `KNN`, saya mencoba menggunakan semua nilai numerik yang ada dan melakukan scaling  \n",
    "\n",
    "- Metode evaluasi apa yang cocok digunakan untuk kasus ini? Jelaskan. : \n",
    "Evaluasi yang digunakan adalah `precision` karena target tidak seimbang dan dalam business case ini difokuskan untuk mencari True Positive dengan menurunkan dan menghindari False Positive sebanyak mungkin"
   ]
  },
  {
   "cell_type": "markdown",
   "id": "d202a497-2a03-4034-8d44-fb7d8df29dc0",
   "metadata": {},
   "source": [
    "### Uji coba menggunakan Logistic Regression"
   ]
  },
  {
   "cell_type": "markdown",
   "id": "03088af7-2647-4836-87ea-15e0db6c9c2e",
   "metadata": {},
   "source": [
    "### Train Test split"
   ]
  },
  {
   "cell_type": "code",
   "execution_count": 679,
   "id": "265001d2-1c9c-41e2-9cc4-ce2768c2bea2",
   "metadata": {
    "execution": {
     "iopub.execute_input": "2024-01-11T06:21:25.114626Z",
     "iopub.status.busy": "2024-01-11T06:21:25.113626Z",
     "iopub.status.idle": "2024-01-11T06:21:25.140636Z",
     "shell.execute_reply": "2024-01-11T06:21:25.138622Z",
     "shell.execute_reply.started": "2024-01-11T06:21:25.114626Z"
    }
   },
   "outputs": [],
   "source": [
    "X = sm.add_constant(fraud_clean_enc.drop(columns='flag_transaksi_fraud'))\n",
    "y = fraud_clean_enc['flag_transaksi_fraud']"
   ]
  },
  {
   "cell_type": "code",
   "execution_count": 680,
   "id": "b4abafa4-e776-4db1-b68a-2798d3eaf365",
   "metadata": {
    "execution": {
     "iopub.execute_input": "2024-01-11T06:21:25.579022Z",
     "iopub.status.busy": "2024-01-11T06:21:25.579022Z",
     "iopub.status.idle": "2024-01-11T06:21:25.594099Z",
     "shell.execute_reply": "2024-01-11T06:21:25.592112Z",
     "shell.execute_reply.started": "2024-01-11T06:21:25.579022Z"
    }
   },
   "outputs": [
    {
     "name": "stdout",
     "output_type": "stream",
     "text": [
      "<class 'pandas.core.frame.DataFrame'>\n",
      "Index: 13104 entries, 0 to 13124\n",
      "Data columns (total 14 columns):\n",
      " #   Column                      Non-Null Count  Dtype  \n",
      "---  ------                      --------------  -----  \n",
      " 0   const                       13104 non-null  float64\n",
      " 1   nilai_transaksi             13104 non-null  float64\n",
      " 2   waktu_transaksi             13104 non-null  int64  \n",
      " 3   rata_rata_nilai_transaksi   13104 non-null  float64\n",
      " 4   maksimum_nilai_transaksi    13104 non-null  float64\n",
      " 5   minimum_nilai_transaksi     13104 non-null  float64\n",
      " 6   rata_rata_jumlah_transaksi  13104 non-null  float64\n",
      " 7   kuartal_transaksi_2         13104 non-null  int32  \n",
      " 8   kuartal_transaksi_3         13104 non-null  int32  \n",
      " 9   kuartal_transaksi_4         13104 non-null  int32  \n",
      " 10  kepemilikan_kartu_2         13104 non-null  int32  \n",
      " 11  id_channel_4                13104 non-null  int32  \n",
      " 12  id_channel_8                13104 non-null  int32  \n",
      " 13  id_channel_9                13104 non-null  int32  \n",
      "dtypes: float64(6), int32(7), int64(1)\n",
      "memory usage: 1.1 MB\n"
     ]
    }
   ],
   "source": [
    "X.info()"
   ]
  },
  {
   "cell_type": "code",
   "execution_count": 681,
   "id": "9833737e-2af5-485e-b10f-00494fc30f22",
   "metadata": {
    "execution": {
     "iopub.execute_input": "2024-01-11T06:21:26.154032Z",
     "iopub.status.busy": "2024-01-11T06:21:26.154032Z",
     "iopub.status.idle": "2024-01-11T06:21:26.168109Z",
     "shell.execute_reply": "2024-01-11T06:21:26.167106Z",
     "shell.execute_reply.started": "2024-01-11T06:21:26.154032Z"
    }
   },
   "outputs": [],
   "source": [
    "# X = X.iloc[:, :12]"
   ]
  },
  {
   "cell_type": "code",
   "execution_count": 682,
   "id": "bdcc9f40-42f9-486d-ba5b-71e4312ab0b6",
   "metadata": {
    "execution": {
     "iopub.execute_input": "2024-01-11T06:21:27.377538Z",
     "iopub.status.busy": "2024-01-11T06:21:27.376522Z",
     "iopub.status.idle": "2024-01-11T06:21:27.417564Z",
     "shell.execute_reply": "2024-01-11T06:21:27.415561Z",
     "shell.execute_reply.started": "2024-01-11T06:21:27.377538Z"
    },
    "scrolled": true
   },
   "outputs": [
    {
     "data": {
      "text/html": [
       "<div>\n",
       "<style scoped>\n",
       "    .dataframe tbody tr th:only-of-type {\n",
       "        vertical-align: middle;\n",
       "    }\n",
       "\n",
       "    .dataframe tbody tr th {\n",
       "        vertical-align: top;\n",
       "    }\n",
       "\n",
       "    .dataframe thead th {\n",
       "        text-align: right;\n",
       "    }\n",
       "</style>\n",
       "<table border=\"1\" class=\"dataframe\">\n",
       "  <thead>\n",
       "    <tr style=\"text-align: right;\">\n",
       "      <th></th>\n",
       "      <th>const</th>\n",
       "      <th>nilai_transaksi</th>\n",
       "      <th>waktu_transaksi</th>\n",
       "      <th>rata_rata_nilai_transaksi</th>\n",
       "      <th>maksimum_nilai_transaksi</th>\n",
       "      <th>minimum_nilai_transaksi</th>\n",
       "      <th>rata_rata_jumlah_transaksi</th>\n",
       "      <th>kuartal_transaksi_2</th>\n",
       "      <th>kuartal_transaksi_3</th>\n",
       "      <th>kuartal_transaksi_4</th>\n",
       "      <th>kepemilikan_kartu_2</th>\n",
       "      <th>id_channel_4</th>\n",
       "      <th>id_channel_8</th>\n",
       "      <th>id_channel_9</th>\n",
       "    </tr>\n",
       "  </thead>\n",
       "  <tbody>\n",
       "    <tr>\n",
       "      <th>const</th>\n",
       "      <td>NaN</td>\n",
       "      <td>NaN</td>\n",
       "      <td>NaN</td>\n",
       "      <td>NaN</td>\n",
       "      <td>NaN</td>\n",
       "      <td>NaN</td>\n",
       "      <td>NaN</td>\n",
       "      <td>NaN</td>\n",
       "      <td>NaN</td>\n",
       "      <td>NaN</td>\n",
       "      <td>NaN</td>\n",
       "      <td>NaN</td>\n",
       "      <td>NaN</td>\n",
       "      <td>NaN</td>\n",
       "    </tr>\n",
       "    <tr>\n",
       "      <th>nilai_transaksi</th>\n",
       "      <td>NaN</td>\n",
       "      <td>1.000000</td>\n",
       "      <td>-0.019857</td>\n",
       "      <td>0.419086</td>\n",
       "      <td>0.219751</td>\n",
       "      <td>0.025245</td>\n",
       "      <td>0.092394</td>\n",
       "      <td>0.018400</td>\n",
       "      <td>0.002426</td>\n",
       "      <td>-0.022916</td>\n",
       "      <td>-0.019989</td>\n",
       "      <td>-0.095767</td>\n",
       "      <td>0.020400</td>\n",
       "      <td>0.069391</td>\n",
       "    </tr>\n",
       "    <tr>\n",
       "      <th>waktu_transaksi</th>\n",
       "      <td>NaN</td>\n",
       "      <td>-0.019857</td>\n",
       "      <td>1.000000</td>\n",
       "      <td>-0.026441</td>\n",
       "      <td>-0.019929</td>\n",
       "      <td>-0.004055</td>\n",
       "      <td>0.000056</td>\n",
       "      <td>-0.661371</td>\n",
       "      <td>0.152606</td>\n",
       "      <td>0.725364</td>\n",
       "      <td>0.028756</td>\n",
       "      <td>0.081363</td>\n",
       "      <td>-0.027334</td>\n",
       "      <td>-0.051648</td>\n",
       "    </tr>\n",
       "    <tr>\n",
       "      <th>rata_rata_nilai_transaksi</th>\n",
       "      <td>NaN</td>\n",
       "      <td>0.419086</td>\n",
       "      <td>-0.026441</td>\n",
       "      <td>1.000000</td>\n",
       "      <td>0.674542</td>\n",
       "      <td>0.183931</td>\n",
       "      <td>0.223442</td>\n",
       "      <td>0.021902</td>\n",
       "      <td>-0.003942</td>\n",
       "      <td>-0.021849</td>\n",
       "      <td>-0.015058</td>\n",
       "      <td>-0.052375</td>\n",
       "      <td>0.015319</td>\n",
       "      <td>0.035389</td>\n",
       "    </tr>\n",
       "    <tr>\n",
       "      <th>maksimum_nilai_transaksi</th>\n",
       "      <td>NaN</td>\n",
       "      <td>0.219751</td>\n",
       "      <td>-0.019929</td>\n",
       "      <td>0.674542</td>\n",
       "      <td>1.000000</td>\n",
       "      <td>0.045452</td>\n",
       "      <td>0.309681</td>\n",
       "      <td>0.016373</td>\n",
       "      <td>-0.008148</td>\n",
       "      <td>-0.009549</td>\n",
       "      <td>0.005384</td>\n",
       "      <td>-0.015978</td>\n",
       "      <td>-0.004986</td>\n",
       "      <td>0.016988</td>\n",
       "    </tr>\n",
       "    <tr>\n",
       "      <th>minimum_nilai_transaksi</th>\n",
       "      <td>NaN</td>\n",
       "      <td>0.025245</td>\n",
       "      <td>-0.004055</td>\n",
       "      <td>0.183931</td>\n",
       "      <td>0.045452</td>\n",
       "      <td>1.000000</td>\n",
       "      <td>-0.003797</td>\n",
       "      <td>-0.001714</td>\n",
       "      <td>0.007160</td>\n",
       "      <td>-0.006077</td>\n",
       "      <td>-0.008944</td>\n",
       "      <td>-0.010199</td>\n",
       "      <td>0.008779</td>\n",
       "      <td>0.003161</td>\n",
       "    </tr>\n",
       "    <tr>\n",
       "      <th>rata_rata_jumlah_transaksi</th>\n",
       "      <td>NaN</td>\n",
       "      <td>0.092394</td>\n",
       "      <td>0.000056</td>\n",
       "      <td>0.223442</td>\n",
       "      <td>0.309681</td>\n",
       "      <td>-0.003797</td>\n",
       "      <td>1.000000</td>\n",
       "      <td>-0.005349</td>\n",
       "      <td>0.002426</td>\n",
       "      <td>0.002915</td>\n",
       "      <td>0.012259</td>\n",
       "      <td>-0.024747</td>\n",
       "      <td>-0.011278</td>\n",
       "      <td>0.028744</td>\n",
       "    </tr>\n",
       "    <tr>\n",
       "      <th>kuartal_transaksi_2</th>\n",
       "      <td>NaN</td>\n",
       "      <td>0.018400</td>\n",
       "      <td>-0.661371</td>\n",
       "      <td>0.021902</td>\n",
       "      <td>0.016373</td>\n",
       "      <td>-0.001714</td>\n",
       "      <td>-0.005349</td>\n",
       "      <td>1.000000</td>\n",
       "      <td>-0.561865</td>\n",
       "      <td>-0.394363</td>\n",
       "      <td>-0.013247</td>\n",
       "      <td>-0.081556</td>\n",
       "      <td>0.012598</td>\n",
       "      <td>0.061437</td>\n",
       "    </tr>\n",
       "    <tr>\n",
       "      <th>kuartal_transaksi_3</th>\n",
       "      <td>NaN</td>\n",
       "      <td>0.002426</td>\n",
       "      <td>0.152606</td>\n",
       "      <td>-0.003942</td>\n",
       "      <td>-0.008148</td>\n",
       "      <td>0.007160</td>\n",
       "      <td>0.002426</td>\n",
       "      <td>-0.561865</td>\n",
       "      <td>1.000000</td>\n",
       "      <td>-0.463386</td>\n",
       "      <td>0.002069</td>\n",
       "      <td>0.037197</td>\n",
       "      <td>-0.001212</td>\n",
       "      <td>-0.030486</td>\n",
       "    </tr>\n",
       "    <tr>\n",
       "      <th>kuartal_transaksi_4</th>\n",
       "      <td>NaN</td>\n",
       "      <td>-0.022916</td>\n",
       "      <td>0.725364</td>\n",
       "      <td>-0.021849</td>\n",
       "      <td>-0.009549</td>\n",
       "      <td>-0.006077</td>\n",
       "      <td>0.002915</td>\n",
       "      <td>-0.394363</td>\n",
       "      <td>-0.463386</td>\n",
       "      <td>1.000000</td>\n",
       "      <td>0.022208</td>\n",
       "      <td>0.050322</td>\n",
       "      <td>-0.021943</td>\n",
       "      <td>-0.029200</td>\n",
       "    </tr>\n",
       "    <tr>\n",
       "      <th>kepemilikan_kartu_2</th>\n",
       "      <td>NaN</td>\n",
       "      <td>-0.019989</td>\n",
       "      <td>0.028756</td>\n",
       "      <td>-0.015058</td>\n",
       "      <td>0.005384</td>\n",
       "      <td>-0.008944</td>\n",
       "      <td>0.012259</td>\n",
       "      <td>-0.013247</td>\n",
       "      <td>0.002069</td>\n",
       "      <td>0.022208</td>\n",
       "      <td>1.000000</td>\n",
       "      <td>0.108045</td>\n",
       "      <td>-0.996364</td>\n",
       "      <td>0.528240</td>\n",
       "    </tr>\n",
       "    <tr>\n",
       "      <th>id_channel_4</th>\n",
       "      <td>NaN</td>\n",
       "      <td>-0.095767</td>\n",
       "      <td>0.081363</td>\n",
       "      <td>-0.052375</td>\n",
       "      <td>-0.015978</td>\n",
       "      <td>-0.010199</td>\n",
       "      <td>-0.024747</td>\n",
       "      <td>-0.081556</td>\n",
       "      <td>0.037197</td>\n",
       "      <td>0.050322</td>\n",
       "      <td>0.108045</td>\n",
       "      <td>1.000000</td>\n",
       "      <td>-0.107652</td>\n",
       "      <td>-0.787051</td>\n",
       "    </tr>\n",
       "    <tr>\n",
       "      <th>id_channel_8</th>\n",
       "      <td>NaN</td>\n",
       "      <td>0.020400</td>\n",
       "      <td>-0.027334</td>\n",
       "      <td>0.015319</td>\n",
       "      <td>-0.004986</td>\n",
       "      <td>0.008779</td>\n",
       "      <td>-0.011278</td>\n",
       "      <td>0.012598</td>\n",
       "      <td>-0.001212</td>\n",
       "      <td>-0.021943</td>\n",
       "      <td>-0.996364</td>\n",
       "      <td>-0.107652</td>\n",
       "      <td>1.000000</td>\n",
       "      <td>-0.526319</td>\n",
       "    </tr>\n",
       "    <tr>\n",
       "      <th>id_channel_9</th>\n",
       "      <td>NaN</td>\n",
       "      <td>0.069391</td>\n",
       "      <td>-0.051648</td>\n",
       "      <td>0.035389</td>\n",
       "      <td>0.016988</td>\n",
       "      <td>0.003161</td>\n",
       "      <td>0.028744</td>\n",
       "      <td>0.061437</td>\n",
       "      <td>-0.030486</td>\n",
       "      <td>-0.029200</td>\n",
       "      <td>0.528240</td>\n",
       "      <td>-0.787051</td>\n",
       "      <td>-0.526319</td>\n",
       "      <td>1.000000</td>\n",
       "    </tr>\n",
       "  </tbody>\n",
       "</table>\n",
       "</div>"
      ],
      "text/plain": [
       "                            const  nilai_transaksi  waktu_transaksi  \\\n",
       "const                         NaN              NaN              NaN   \n",
       "nilai_transaksi               NaN         1.000000        -0.019857   \n",
       "waktu_transaksi               NaN        -0.019857         1.000000   \n",
       "rata_rata_nilai_transaksi     NaN         0.419086        -0.026441   \n",
       "maksimum_nilai_transaksi      NaN         0.219751        -0.019929   \n",
       "minimum_nilai_transaksi       NaN         0.025245        -0.004055   \n",
       "rata_rata_jumlah_transaksi    NaN         0.092394         0.000056   \n",
       "kuartal_transaksi_2           NaN         0.018400        -0.661371   \n",
       "kuartal_transaksi_3           NaN         0.002426         0.152606   \n",
       "kuartal_transaksi_4           NaN        -0.022916         0.725364   \n",
       "kepemilikan_kartu_2           NaN        -0.019989         0.028756   \n",
       "id_channel_4                  NaN        -0.095767         0.081363   \n",
       "id_channel_8                  NaN         0.020400        -0.027334   \n",
       "id_channel_9                  NaN         0.069391        -0.051648   \n",
       "\n",
       "                            rata_rata_nilai_transaksi  \\\n",
       "const                                             NaN   \n",
       "nilai_transaksi                              0.419086   \n",
       "waktu_transaksi                             -0.026441   \n",
       "rata_rata_nilai_transaksi                    1.000000   \n",
       "maksimum_nilai_transaksi                     0.674542   \n",
       "minimum_nilai_transaksi                      0.183931   \n",
       "rata_rata_jumlah_transaksi                   0.223442   \n",
       "kuartal_transaksi_2                          0.021902   \n",
       "kuartal_transaksi_3                         -0.003942   \n",
       "kuartal_transaksi_4                         -0.021849   \n",
       "kepemilikan_kartu_2                         -0.015058   \n",
       "id_channel_4                                -0.052375   \n",
       "id_channel_8                                 0.015319   \n",
       "id_channel_9                                 0.035389   \n",
       "\n",
       "                            maksimum_nilai_transaksi  minimum_nilai_transaksi  \\\n",
       "const                                            NaN                      NaN   \n",
       "nilai_transaksi                             0.219751                 0.025245   \n",
       "waktu_transaksi                            -0.019929                -0.004055   \n",
       "rata_rata_nilai_transaksi                   0.674542                 0.183931   \n",
       "maksimum_nilai_transaksi                    1.000000                 0.045452   \n",
       "minimum_nilai_transaksi                     0.045452                 1.000000   \n",
       "rata_rata_jumlah_transaksi                  0.309681                -0.003797   \n",
       "kuartal_transaksi_2                         0.016373                -0.001714   \n",
       "kuartal_transaksi_3                        -0.008148                 0.007160   \n",
       "kuartal_transaksi_4                        -0.009549                -0.006077   \n",
       "kepemilikan_kartu_2                         0.005384                -0.008944   \n",
       "id_channel_4                               -0.015978                -0.010199   \n",
       "id_channel_8                               -0.004986                 0.008779   \n",
       "id_channel_9                                0.016988                 0.003161   \n",
       "\n",
       "                            rata_rata_jumlah_transaksi  kuartal_transaksi_2  \\\n",
       "const                                              NaN                  NaN   \n",
       "nilai_transaksi                               0.092394             0.018400   \n",
       "waktu_transaksi                               0.000056            -0.661371   \n",
       "rata_rata_nilai_transaksi                     0.223442             0.021902   \n",
       "maksimum_nilai_transaksi                      0.309681             0.016373   \n",
       "minimum_nilai_transaksi                      -0.003797            -0.001714   \n",
       "rata_rata_jumlah_transaksi                    1.000000            -0.005349   \n",
       "kuartal_transaksi_2                          -0.005349             1.000000   \n",
       "kuartal_transaksi_3                           0.002426            -0.561865   \n",
       "kuartal_transaksi_4                           0.002915            -0.394363   \n",
       "kepemilikan_kartu_2                           0.012259            -0.013247   \n",
       "id_channel_4                                 -0.024747            -0.081556   \n",
       "id_channel_8                                 -0.011278             0.012598   \n",
       "id_channel_9                                  0.028744             0.061437   \n",
       "\n",
       "                            kuartal_transaksi_3  kuartal_transaksi_4  \\\n",
       "const                                       NaN                  NaN   \n",
       "nilai_transaksi                        0.002426            -0.022916   \n",
       "waktu_transaksi                        0.152606             0.725364   \n",
       "rata_rata_nilai_transaksi             -0.003942            -0.021849   \n",
       "maksimum_nilai_transaksi              -0.008148            -0.009549   \n",
       "minimum_nilai_transaksi                0.007160            -0.006077   \n",
       "rata_rata_jumlah_transaksi             0.002426             0.002915   \n",
       "kuartal_transaksi_2                   -0.561865            -0.394363   \n",
       "kuartal_transaksi_3                    1.000000            -0.463386   \n",
       "kuartal_transaksi_4                   -0.463386             1.000000   \n",
       "kepemilikan_kartu_2                    0.002069             0.022208   \n",
       "id_channel_4                           0.037197             0.050322   \n",
       "id_channel_8                          -0.001212            -0.021943   \n",
       "id_channel_9                          -0.030486            -0.029200   \n",
       "\n",
       "                            kepemilikan_kartu_2  id_channel_4  id_channel_8  \\\n",
       "const                                       NaN           NaN           NaN   \n",
       "nilai_transaksi                       -0.019989     -0.095767      0.020400   \n",
       "waktu_transaksi                        0.028756      0.081363     -0.027334   \n",
       "rata_rata_nilai_transaksi             -0.015058     -0.052375      0.015319   \n",
       "maksimum_nilai_transaksi               0.005384     -0.015978     -0.004986   \n",
       "minimum_nilai_transaksi               -0.008944     -0.010199      0.008779   \n",
       "rata_rata_jumlah_transaksi             0.012259     -0.024747     -0.011278   \n",
       "kuartal_transaksi_2                   -0.013247     -0.081556      0.012598   \n",
       "kuartal_transaksi_3                    0.002069      0.037197     -0.001212   \n",
       "kuartal_transaksi_4                    0.022208      0.050322     -0.021943   \n",
       "kepemilikan_kartu_2                    1.000000      0.108045     -0.996364   \n",
       "id_channel_4                           0.108045      1.000000     -0.107652   \n",
       "id_channel_8                          -0.996364     -0.107652      1.000000   \n",
       "id_channel_9                           0.528240     -0.787051     -0.526319   \n",
       "\n",
       "                            id_channel_9  \n",
       "const                                NaN  \n",
       "nilai_transaksi                 0.069391  \n",
       "waktu_transaksi                -0.051648  \n",
       "rata_rata_nilai_transaksi       0.035389  \n",
       "maksimum_nilai_transaksi        0.016988  \n",
       "minimum_nilai_transaksi         0.003161  \n",
       "rata_rata_jumlah_transaksi      0.028744  \n",
       "kuartal_transaksi_2             0.061437  \n",
       "kuartal_transaksi_3            -0.030486  \n",
       "kuartal_transaksi_4            -0.029200  \n",
       "kepemilikan_kartu_2             0.528240  \n",
       "id_channel_4                   -0.787051  \n",
       "id_channel_8                   -0.526319  \n",
       "id_channel_9                    1.000000  "
      ]
     },
     "execution_count": 682,
     "metadata": {},
     "output_type": "execute_result"
    }
   ],
   "source": [
    "X.corr()"
   ]
  },
  {
   "cell_type": "markdown",
   "id": "40674783-c741-46a6-9172-486125e58945",
   "metadata": {},
   "source": [
    "#### Membuat kolom dengan korelasi tinggi"
   ]
  },
  {
   "cell_type": "code",
   "execution_count": 683,
   "id": "c25caab0-ec17-458d-a456-961db996ae7c",
   "metadata": {
    "execution": {
     "iopub.execute_input": "2024-01-11T06:21:28.479881Z",
     "iopub.status.busy": "2024-01-11T06:21:28.479881Z",
     "iopub.status.idle": "2024-01-11T06:21:28.511721Z",
     "shell.execute_reply": "2024-01-11T06:21:28.510735Z",
     "shell.execute_reply.started": "2024-01-11T06:21:28.479881Z"
    }
   },
   "outputs": [
    {
     "data": {
      "text/html": [
       "<div>\n",
       "<style scoped>\n",
       "    .dataframe tbody tr th:only-of-type {\n",
       "        vertical-align: middle;\n",
       "    }\n",
       "\n",
       "    .dataframe tbody tr th {\n",
       "        vertical-align: top;\n",
       "    }\n",
       "\n",
       "    .dataframe thead th {\n",
       "        text-align: right;\n",
       "    }\n",
       "</style>\n",
       "<table border=\"1\" class=\"dataframe\">\n",
       "  <thead>\n",
       "    <tr style=\"text-align: right;\">\n",
       "      <th></th>\n",
       "      <th>const</th>\n",
       "      <th>nilai_transaksi</th>\n",
       "      <th>waktu_transaksi</th>\n",
       "      <th>rata_rata_nilai_transaksi</th>\n",
       "      <th>maksimum_nilai_transaksi</th>\n",
       "      <th>minimum_nilai_transaksi</th>\n",
       "      <th>rata_rata_jumlah_transaksi</th>\n",
       "      <th>kuartal_transaksi_2</th>\n",
       "      <th>kuartal_transaksi_3</th>\n",
       "      <th>kuartal_transaksi_4</th>\n",
       "      <th>kepemilikan_kartu_2</th>\n",
       "      <th>id_channel_4</th>\n",
       "      <th>id_channel_8</th>\n",
       "      <th>id_channel_9</th>\n",
       "    </tr>\n",
       "  </thead>\n",
       "  <tbody>\n",
       "    <tr>\n",
       "      <th>0</th>\n",
       "      <td>1.0</td>\n",
       "      <td>2200000.0</td>\n",
       "      <td>193955</td>\n",
       "      <td>1.332293e+06</td>\n",
       "      <td>9750000.0</td>\n",
       "      <td>10000.0</td>\n",
       "      <td>2.73</td>\n",
       "      <td>0</td>\n",
       "      <td>0</td>\n",
       "      <td>1</td>\n",
       "      <td>1</td>\n",
       "      <td>0</td>\n",
       "      <td>0</td>\n",
       "      <td>1</td>\n",
       "    </tr>\n",
       "    <tr>\n",
       "      <th>1</th>\n",
       "      <td>1.0</td>\n",
       "      <td>2500000.0</td>\n",
       "      <td>73140</td>\n",
       "      <td>1.369048e+06</td>\n",
       "      <td>10000000.0</td>\n",
       "      <td>30000.0</td>\n",
       "      <td>2.33</td>\n",
       "      <td>1</td>\n",
       "      <td>0</td>\n",
       "      <td>0</td>\n",
       "      <td>0</td>\n",
       "      <td>0</td>\n",
       "      <td>1</td>\n",
       "      <td>0</td>\n",
       "    </tr>\n",
       "    <tr>\n",
       "      <th>2</th>\n",
       "      <td>1.0</td>\n",
       "      <td>1200000.0</td>\n",
       "      <td>140216</td>\n",
       "      <td>1.552346e+07</td>\n",
       "      <td>100000000.0</td>\n",
       "      <td>41804.0</td>\n",
       "      <td>2.40</td>\n",
       "      <td>0</td>\n",
       "      <td>1</td>\n",
       "      <td>0</td>\n",
       "      <td>0</td>\n",
       "      <td>0</td>\n",
       "      <td>1</td>\n",
       "      <td>0</td>\n",
       "    </tr>\n",
       "    <tr>\n",
       "      <th>3</th>\n",
       "      <td>1.0</td>\n",
       "      <td>320000.0</td>\n",
       "      <td>155117</td>\n",
       "      <td>7.117647e+05</td>\n",
       "      <td>6884408.0</td>\n",
       "      <td>10000.0</td>\n",
       "      <td>1.98</td>\n",
       "      <td>0</td>\n",
       "      <td>1</td>\n",
       "      <td>0</td>\n",
       "      <td>1</td>\n",
       "      <td>1</td>\n",
       "      <td>0</td>\n",
       "      <td>0</td>\n",
       "    </tr>\n",
       "    <tr>\n",
       "      <th>4</th>\n",
       "      <td>1.0</td>\n",
       "      <td>150000.0</td>\n",
       "      <td>143339</td>\n",
       "      <td>6.179683e+05</td>\n",
       "      <td>2500000.0</td>\n",
       "      <td>100000.0</td>\n",
       "      <td>1.46</td>\n",
       "      <td>0</td>\n",
       "      <td>1</td>\n",
       "      <td>0</td>\n",
       "      <td>1</td>\n",
       "      <td>0</td>\n",
       "      <td>0</td>\n",
       "      <td>1</td>\n",
       "    </tr>\n",
       "  </tbody>\n",
       "</table>\n",
       "</div>"
      ],
      "text/plain": [
       "   const  nilai_transaksi  waktu_transaksi  rata_rata_nilai_transaksi  \\\n",
       "0    1.0        2200000.0           193955               1.332293e+06   \n",
       "1    1.0        2500000.0            73140               1.369048e+06   \n",
       "2    1.0        1200000.0           140216               1.552346e+07   \n",
       "3    1.0         320000.0           155117               7.117647e+05   \n",
       "4    1.0         150000.0           143339               6.179683e+05   \n",
       "\n",
       "   maksimum_nilai_transaksi  minimum_nilai_transaksi  \\\n",
       "0                 9750000.0                  10000.0   \n",
       "1                10000000.0                  30000.0   \n",
       "2               100000000.0                  41804.0   \n",
       "3                 6884408.0                  10000.0   \n",
       "4                 2500000.0                 100000.0   \n",
       "\n",
       "   rata_rata_jumlah_transaksi  kuartal_transaksi_2  kuartal_transaksi_3  \\\n",
       "0                        2.73                    0                    0   \n",
       "1                        2.33                    1                    0   \n",
       "2                        2.40                    0                    1   \n",
       "3                        1.98                    0                    1   \n",
       "4                        1.46                    0                    1   \n",
       "\n",
       "   kuartal_transaksi_4  kepemilikan_kartu_2  id_channel_4  id_channel_8  \\\n",
       "0                    1                    1             0             0   \n",
       "1                    0                    0             0             1   \n",
       "2                    0                    0             0             1   \n",
       "3                    0                    1             1             0   \n",
       "4                    0                    1             0             0   \n",
       "\n",
       "   id_channel_9  \n",
       "0             1  \n",
       "1             0  \n",
       "2             0  \n",
       "3             0  \n",
       "4             1  "
      ]
     },
     "execution_count": 683,
     "metadata": {},
     "output_type": "execute_result"
    }
   ],
   "source": [
    "X.head()"
   ]
  },
  {
   "cell_type": "code",
   "execution_count": 684,
   "id": "4a3a8220-f79a-4613-a247-3c8538fbff7b",
   "metadata": {
    "execution": {
     "iopub.execute_input": "2024-01-11T06:21:29.130265Z",
     "iopub.status.busy": "2024-01-11T06:21:29.129282Z",
     "iopub.status.idle": "2024-01-11T06:21:29.201257Z",
     "shell.execute_reply": "2024-01-11T06:21:29.199251Z",
     "shell.execute_reply.started": "2024-01-11T06:21:29.130265Z"
    }
   },
   "outputs": [
    {
     "data": {
      "text/html": [
       "<div>\n",
       "<style scoped>\n",
       "    .dataframe tbody tr th:only-of-type {\n",
       "        vertical-align: middle;\n",
       "    }\n",
       "\n",
       "    .dataframe tbody tr th {\n",
       "        vertical-align: top;\n",
       "    }\n",
       "\n",
       "    .dataframe thead th {\n",
       "        text-align: right;\n",
       "    }\n",
       "</style>\n",
       "<table border=\"1\" class=\"dataframe\">\n",
       "  <thead>\n",
       "    <tr style=\"text-align: right;\">\n",
       "      <th></th>\n",
       "      <th>count</th>\n",
       "      <th>mean</th>\n",
       "      <th>std</th>\n",
       "      <th>min</th>\n",
       "      <th>25%</th>\n",
       "      <th>50%</th>\n",
       "      <th>75%</th>\n",
       "      <th>max</th>\n",
       "    </tr>\n",
       "  </thead>\n",
       "  <tbody>\n",
       "    <tr>\n",
       "      <th>nilai_transaksi</th>\n",
       "      <td>13104.0</td>\n",
       "      <td>1.314923e+06</td>\n",
       "      <td>2.837644e+06</td>\n",
       "      <td>1.0</td>\n",
       "      <td>2.000000e+05</td>\n",
       "      <td>572575.000</td>\n",
       "      <td>1.251524e+06</td>\n",
       "      <td>7.500000e+07</td>\n",
       "    </tr>\n",
       "    <tr>\n",
       "      <th>waktu_transaksi</th>\n",
       "      <td>13104.0</td>\n",
       "      <td>1.389062e+05</td>\n",
       "      <td>4.788674e+04</td>\n",
       "      <td>47.0</td>\n",
       "      <td>1.026220e+05</td>\n",
       "      <td>140707.000</td>\n",
       "      <td>1.754315e+05</td>\n",
       "      <td>2.359140e+05</td>\n",
       "    </tr>\n",
       "    <tr>\n",
       "      <th>rata_rata_nilai_transaksi</th>\n",
       "      <td>13104.0</td>\n",
       "      <td>1.364132e+06</td>\n",
       "      <td>1.448583e+06</td>\n",
       "      <td>50000.0</td>\n",
       "      <td>5.685634e+05</td>\n",
       "      <td>1024239.017</td>\n",
       "      <td>1.679778e+06</td>\n",
       "      <td>2.466667e+07</td>\n",
       "    </tr>\n",
       "    <tr>\n",
       "      <th>maksimum_nilai_transaksi</th>\n",
       "      <td>13104.0</td>\n",
       "      <td>1.228760e+07</td>\n",
       "      <td>1.645905e+07</td>\n",
       "      <td>38000.0</td>\n",
       "      <td>2.500000e+06</td>\n",
       "      <td>6000000.000</td>\n",
       "      <td>1.500000e+07</td>\n",
       "      <td>1.000000e+08</td>\n",
       "    </tr>\n",
       "    <tr>\n",
       "      <th>minimum_nilai_transaksi</th>\n",
       "      <td>13104.0</td>\n",
       "      <td>7.651933e+04</td>\n",
       "      <td>6.765391e+05</td>\n",
       "      <td>1.0</td>\n",
       "      <td>2.500000e+04</td>\n",
       "      <td>36964.000</td>\n",
       "      <td>6.320000e+04</td>\n",
       "      <td>7.500000e+07</td>\n",
       "    </tr>\n",
       "    <tr>\n",
       "      <th>rata_rata_jumlah_transaksi</th>\n",
       "      <td>13104.0</td>\n",
       "      <td>2.436182e+00</td>\n",
       "      <td>1.389367e+00</td>\n",
       "      <td>1.0</td>\n",
       "      <td>1.680000e+00</td>\n",
       "      <td>2.100</td>\n",
       "      <td>2.790000e+00</td>\n",
       "      <td>1.978000e+01</td>\n",
       "    </tr>\n",
       "    <tr>\n",
       "      <th>flag_transaksi_fraud</th>\n",
       "      <td>13104.0</td>\n",
       "      <td>6.822344e-02</td>\n",
       "      <td>2.521386e-01</td>\n",
       "      <td>0.0</td>\n",
       "      <td>0.000000e+00</td>\n",
       "      <td>0.000</td>\n",
       "      <td>0.000000e+00</td>\n",
       "      <td>1.000000e+00</td>\n",
       "    </tr>\n",
       "    <tr>\n",
       "      <th>kuartal_transaksi_2</th>\n",
       "      <td>13104.0</td>\n",
       "      <td>3.234890e-01</td>\n",
       "      <td>4.678254e-01</td>\n",
       "      <td>0.0</td>\n",
       "      <td>0.000000e+00</td>\n",
       "      <td>0.000</td>\n",
       "      <td>1.000000e+00</td>\n",
       "      <td>1.000000e+00</td>\n",
       "    </tr>\n",
       "    <tr>\n",
       "      <th>kuartal_transaksi_3</th>\n",
       "      <td>13104.0</td>\n",
       "      <td>3.976648e-01</td>\n",
       "      <td>4.894342e-01</td>\n",
       "      <td>0.0</td>\n",
       "      <td>0.000000e+00</td>\n",
       "      <td>0.000</td>\n",
       "      <td>1.000000e+00</td>\n",
       "      <td>1.000000e+00</td>\n",
       "    </tr>\n",
       "    <tr>\n",
       "      <th>kuartal_transaksi_4</th>\n",
       "      <td>13104.0</td>\n",
       "      <td>2.454212e-01</td>\n",
       "      <td>4.303531e-01</td>\n",
       "      <td>0.0</td>\n",
       "      <td>0.000000e+00</td>\n",
       "      <td>0.000</td>\n",
       "      <td>0.000000e+00</td>\n",
       "      <td>1.000000e+00</td>\n",
       "    </tr>\n",
       "    <tr>\n",
       "      <th>kepemilikan_kartu_2</th>\n",
       "      <td>13104.0</td>\n",
       "      <td>9.323871e-01</td>\n",
       "      <td>2.510901e-01</td>\n",
       "      <td>0.0</td>\n",
       "      <td>1.000000e+00</td>\n",
       "      <td>1.000</td>\n",
       "      <td>1.000000e+00</td>\n",
       "      <td>1.000000e+00</td>\n",
       "    </tr>\n",
       "    <tr>\n",
       "      <th>id_channel_4</th>\n",
       "      <td>13104.0</td>\n",
       "      <td>1.386600e-01</td>\n",
       "      <td>3.456045e-01</td>\n",
       "      <td>0.0</td>\n",
       "      <td>0.000000e+00</td>\n",
       "      <td>0.000</td>\n",
       "      <td>0.000000e+00</td>\n",
       "      <td>1.000000e+00</td>\n",
       "    </tr>\n",
       "    <tr>\n",
       "      <th>id_channel_8</th>\n",
       "      <td>13104.0</td>\n",
       "      <td>6.715507e-02</td>\n",
       "      <td>2.502999e-01</td>\n",
       "      <td>0.0</td>\n",
       "      <td>0.000000e+00</td>\n",
       "      <td>0.000</td>\n",
       "      <td>0.000000e+00</td>\n",
       "      <td>1.000000e+00</td>\n",
       "    </tr>\n",
       "    <tr>\n",
       "      <th>id_channel_9</th>\n",
       "      <td>13104.0</td>\n",
       "      <td>7.937271e-01</td>\n",
       "      <td>4.046441e-01</td>\n",
       "      <td>0.0</td>\n",
       "      <td>1.000000e+00</td>\n",
       "      <td>1.000</td>\n",
       "      <td>1.000000e+00</td>\n",
       "      <td>1.000000e+00</td>\n",
       "    </tr>\n",
       "  </tbody>\n",
       "</table>\n",
       "</div>"
      ],
      "text/plain": [
       "                              count          mean           std      min  \\\n",
       "nilai_transaksi             13104.0  1.314923e+06  2.837644e+06      1.0   \n",
       "waktu_transaksi             13104.0  1.389062e+05  4.788674e+04     47.0   \n",
       "rata_rata_nilai_transaksi   13104.0  1.364132e+06  1.448583e+06  50000.0   \n",
       "maksimum_nilai_transaksi    13104.0  1.228760e+07  1.645905e+07  38000.0   \n",
       "minimum_nilai_transaksi     13104.0  7.651933e+04  6.765391e+05      1.0   \n",
       "rata_rata_jumlah_transaksi  13104.0  2.436182e+00  1.389367e+00      1.0   \n",
       "flag_transaksi_fraud        13104.0  6.822344e-02  2.521386e-01      0.0   \n",
       "kuartal_transaksi_2         13104.0  3.234890e-01  4.678254e-01      0.0   \n",
       "kuartal_transaksi_3         13104.0  3.976648e-01  4.894342e-01      0.0   \n",
       "kuartal_transaksi_4         13104.0  2.454212e-01  4.303531e-01      0.0   \n",
       "kepemilikan_kartu_2         13104.0  9.323871e-01  2.510901e-01      0.0   \n",
       "id_channel_4                13104.0  1.386600e-01  3.456045e-01      0.0   \n",
       "id_channel_8                13104.0  6.715507e-02  2.502999e-01      0.0   \n",
       "id_channel_9                13104.0  7.937271e-01  4.046441e-01      0.0   \n",
       "\n",
       "                                     25%          50%           75%  \\\n",
       "nilai_transaksi             2.000000e+05   572575.000  1.251524e+06   \n",
       "waktu_transaksi             1.026220e+05   140707.000  1.754315e+05   \n",
       "rata_rata_nilai_transaksi   5.685634e+05  1024239.017  1.679778e+06   \n",
       "maksimum_nilai_transaksi    2.500000e+06  6000000.000  1.500000e+07   \n",
       "minimum_nilai_transaksi     2.500000e+04    36964.000  6.320000e+04   \n",
       "rata_rata_jumlah_transaksi  1.680000e+00        2.100  2.790000e+00   \n",
       "flag_transaksi_fraud        0.000000e+00        0.000  0.000000e+00   \n",
       "kuartal_transaksi_2         0.000000e+00        0.000  1.000000e+00   \n",
       "kuartal_transaksi_3         0.000000e+00        0.000  1.000000e+00   \n",
       "kuartal_transaksi_4         0.000000e+00        0.000  0.000000e+00   \n",
       "kepemilikan_kartu_2         1.000000e+00        1.000  1.000000e+00   \n",
       "id_channel_4                0.000000e+00        0.000  0.000000e+00   \n",
       "id_channel_8                0.000000e+00        0.000  0.000000e+00   \n",
       "id_channel_9                1.000000e+00        1.000  1.000000e+00   \n",
       "\n",
       "                                     max  \n",
       "nilai_transaksi             7.500000e+07  \n",
       "waktu_transaksi             2.359140e+05  \n",
       "rata_rata_nilai_transaksi   2.466667e+07  \n",
       "maksimum_nilai_transaksi    1.000000e+08  \n",
       "minimum_nilai_transaksi     7.500000e+07  \n",
       "rata_rata_jumlah_transaksi  1.978000e+01  \n",
       "flag_transaksi_fraud        1.000000e+00  \n",
       "kuartal_transaksi_2         1.000000e+00  \n",
       "kuartal_transaksi_3         1.000000e+00  \n",
       "kuartal_transaksi_4         1.000000e+00  \n",
       "kepemilikan_kartu_2         1.000000e+00  \n",
       "id_channel_4                1.000000e+00  \n",
       "id_channel_8                1.000000e+00  \n",
       "id_channel_9                1.000000e+00  "
      ]
     },
     "execution_count": 684,
     "metadata": {},
     "output_type": "execute_result"
    }
   ],
   "source": [
    "fraud_clean_enc.describe().T"
   ]
  },
  {
   "cell_type": "code",
   "execution_count": 685,
   "id": "f09969e2-d1f0-46a2-bd6f-1ab0f51ae4ff",
   "metadata": {
    "execution": {
     "iopub.execute_input": "2024-01-11T06:21:29.792557Z",
     "iopub.status.busy": "2024-01-11T06:21:29.791585Z",
     "iopub.status.idle": "2024-01-11T06:21:29.809575Z",
     "shell.execute_reply": "2024-01-11T06:21:29.808573Z",
     "shell.execute_reply.started": "2024-01-11T06:21:29.792557Z"
    }
   },
   "outputs": [],
   "source": [
    "X_train, X_test, y_train, y_test = train_test_split(X, \n",
    "                                                   y, # kolom target\n",
    "                                                   test_size = 0.2, # 80% training and 20% test\n",
    "                                                   random_state = 10,\n",
    "                                                   stratify=y)"
   ]
  },
  {
   "cell_type": "code",
   "execution_count": 686,
   "id": "f4f2a5f8-93f1-4a29-8e23-b22506c820af",
   "metadata": {
    "execution": {
     "iopub.execute_input": "2024-01-11T06:21:31.197410Z",
     "iopub.status.busy": "2024-01-11T06:21:31.196423Z",
     "iopub.status.idle": "2024-01-11T06:21:31.214240Z",
     "shell.execute_reply": "2024-01-11T06:21:31.212224Z",
     "shell.execute_reply.started": "2024-01-11T06:21:31.197410Z"
    }
   },
   "outputs": [
    {
     "data": {
      "text/plain": [
       "const                         float64\n",
       "nilai_transaksi               float64\n",
       "waktu_transaksi                 int64\n",
       "rata_rata_nilai_transaksi     float64\n",
       "maksimum_nilai_transaksi      float64\n",
       "minimum_nilai_transaksi       float64\n",
       "rata_rata_jumlah_transaksi    float64\n",
       "kuartal_transaksi_2             int32\n",
       "kuartal_transaksi_3             int32\n",
       "kuartal_transaksi_4             int32\n",
       "kepemilikan_kartu_2             int32\n",
       "id_channel_4                    int32\n",
       "id_channel_8                    int32\n",
       "id_channel_9                    int32\n",
       "dtype: object"
      ]
     },
     "execution_count": 686,
     "metadata": {},
     "output_type": "execute_result"
    }
   ],
   "source": [
    "X_train.dtypes"
   ]
  },
  {
   "cell_type": "markdown",
   "id": "05a74f27-0ebc-49ff-a274-a0cd24c63956",
   "metadata": {},
   "source": [
    "### Modelling menggunakan Logistic Regression"
   ]
  },
  {
   "cell_type": "code",
   "execution_count": 687,
   "id": "2a84a4b9-464e-4c54-9ab4-7fa4e15e5578",
   "metadata": {
    "execution": {
     "iopub.execute_input": "2024-01-11T06:21:36.098125Z",
     "iopub.status.busy": "2024-01-11T06:21:36.097126Z",
     "iopub.status.idle": "2024-01-11T06:21:36.246115Z",
     "shell.execute_reply": "2024-01-11T06:21:36.245110Z",
     "shell.execute_reply.started": "2024-01-11T06:21:36.098125Z"
    }
   },
   "outputs": [
    {
     "name": "stdout",
     "output_type": "stream",
     "text": [
      "Warning: Maximum number of iterations has been exceeded.\n",
      "         Current function value: 0.209745\n",
      "         Iterations: 35\n"
     ]
    },
    {
     "name": "stderr",
     "output_type": "stream",
     "text": [
      "C:\\Users\\SaltFarmer\\miniconda3\\envs\\algoritma\\lib\\site-packages\\statsmodels\\base\\model.py:607: ConvergenceWarning: Maximum Likelihood optimization failed to converge. Check mle_retvals\n",
      "  warnings.warn(\"Maximum Likelihood optimization failed to \"\n"
     ]
    },
    {
     "data": {
      "text/html": [
       "<table class=\"simpletable\">\n",
       "<caption>Logit Regression Results</caption>\n",
       "<tr>\n",
       "  <th>Dep. Variable:</th>   <td>flag_transaksi_fraud</td> <th>  No. Observations:  </th>   <td> 10483</td>  \n",
       "</tr>\n",
       "<tr>\n",
       "  <th>Model:</th>                   <td>Logit</td>        <th>  Df Residuals:      </th>   <td> 10469</td>  \n",
       "</tr>\n",
       "<tr>\n",
       "  <th>Method:</th>                   <td>MLE</td>         <th>  Df Model:          </th>   <td>    13</td>  \n",
       "</tr>\n",
       "<tr>\n",
       "  <th>Date:</th>              <td>Thu, 11 Jan 2024</td>   <th>  Pseudo R-squ.:     </th>   <td>0.1576</td>  \n",
       "</tr>\n",
       "<tr>\n",
       "  <th>Time:</th>                  <td>13:21:36</td>       <th>  Log-Likelihood:    </th>  <td> -2198.8</td> \n",
       "</tr>\n",
       "<tr>\n",
       "  <th>converged:</th>               <td>False</td>        <th>  LL-Null:           </th>  <td> -2610.0</td> \n",
       "</tr>\n",
       "<tr>\n",
       "  <th>Covariance Type:</th>       <td>nonrobust</td>      <th>  LLR p-value:       </th> <td>2.158e-167</td>\n",
       "</tr>\n",
       "</table>\n",
       "<table class=\"simpletable\">\n",
       "<tr>\n",
       "               <td></td>                 <th>coef</th>     <th>std err</th>      <th>z</th>      <th>P>|z|</th>  <th>[0.025</th>    <th>0.975]</th>  \n",
       "</tr>\n",
       "<tr>\n",
       "  <th>const</th>                      <td>  -19.0997</td> <td> 8660.347</td> <td>   -0.002</td> <td> 0.998</td> <td> -1.7e+04</td> <td>  1.7e+04</td>\n",
       "</tr>\n",
       "<tr>\n",
       "  <th>nilai_transaksi</th>            <td> 8.383e-08</td> <td> 1.15e-08</td> <td>    7.266</td> <td> 0.000</td> <td> 6.12e-08</td> <td> 1.06e-07</td>\n",
       "</tr>\n",
       "<tr>\n",
       "  <th>waktu_transaksi</th>            <td>-1.875e-06</td> <td> 2.53e-06</td> <td>   -0.741</td> <td> 0.459</td> <td>-6.83e-06</td> <td> 3.08e-06</td>\n",
       "</tr>\n",
       "<tr>\n",
       "  <th>rata_rata_nilai_transaksi</th>  <td>-1.908e-08</td> <td> 3.87e-08</td> <td>   -0.492</td> <td> 0.622</td> <td> -9.5e-08</td> <td> 5.69e-08</td>\n",
       "</tr>\n",
       "<tr>\n",
       "  <th>maksimum_nilai_transaksi</th>   <td>-1.298e-09</td> <td> 3.82e-09</td> <td>   -0.340</td> <td> 0.734</td> <td>-8.79e-09</td> <td> 6.19e-09</td>\n",
       "</tr>\n",
       "<tr>\n",
       "  <th>minimum_nilai_transaksi</th>    <td> 1.112e-06</td> <td> 2.02e-07</td> <td>    5.505</td> <td> 0.000</td> <td> 7.16e-07</td> <td> 1.51e-06</td>\n",
       "</tr>\n",
       "<tr>\n",
       "  <th>rata_rata_jumlah_transaksi</th> <td>   -0.2769</td> <td>    0.050</td> <td>   -5.553</td> <td> 0.000</td> <td>   -0.375</td> <td>   -0.179</td>\n",
       "</tr>\n",
       "<tr>\n",
       "  <th>kuartal_transaksi_2</th>        <td>   -0.4941</td> <td>    0.250</td> <td>   -1.974</td> <td> 0.048</td> <td>   -0.985</td> <td>   -0.004</td>\n",
       "</tr>\n",
       "<tr>\n",
       "  <th>kuartal_transaksi_3</th>        <td>   -0.4149</td> <td>    0.356</td> <td>   -1.166</td> <td> 0.244</td> <td>   -1.112</td> <td>    0.283</td>\n",
       "</tr>\n",
       "<tr>\n",
       "  <th>kuartal_transaksi_4</th>        <td>   -0.5087</td> <td>    0.475</td> <td>   -1.071</td> <td> 0.284</td> <td>   -1.440</td> <td>    0.422</td>\n",
       "</tr>\n",
       "<tr>\n",
       "  <th>kepemilikan_kartu_2</th>        <td>   11.3593</td> <td>      nan</td> <td>      nan</td> <td>   nan</td> <td>      nan</td> <td>      nan</td>\n",
       "</tr>\n",
       "<tr>\n",
       "  <th>id_channel_4</th>               <td>    5.4534</td> <td>      nan</td> <td>      nan</td> <td>   nan</td> <td>      nan</td> <td>      nan</td>\n",
       "</tr>\n",
       "<tr>\n",
       "  <th>id_channel_8</th>               <td>   19.7843</td> <td> 8660.347</td> <td>    0.002</td> <td> 0.998</td> <td> -1.7e+04</td> <td>  1.7e+04</td>\n",
       "</tr>\n",
       "<tr>\n",
       "  <th>id_channel_9</th>               <td>    5.9059</td> <td>      nan</td> <td>      nan</td> <td>   nan</td> <td>      nan</td> <td>      nan</td>\n",
       "</tr>\n",
       "</table>"
      ],
      "text/latex": [
       "\\begin{center}\n",
       "\\begin{tabular}{lclc}\n",
       "\\toprule\n",
       "\\textbf{Dep. Variable:}                & flag\\_transaksi\\_fraud & \\textbf{  No. Observations:  } &    10483    \\\\\n",
       "\\textbf{Model:}                        &         Logit          & \\textbf{  Df Residuals:      } &    10469    \\\\\n",
       "\\textbf{Method:}                       &          MLE           & \\textbf{  Df Model:          } &       13    \\\\\n",
       "\\textbf{Date:}                         &    Thu, 11 Jan 2024    & \\textbf{  Pseudo R-squ.:     } &   0.1576    \\\\\n",
       "\\textbf{Time:}                         &        13:21:36        & \\textbf{  Log-Likelihood:    } &   -2198.8   \\\\\n",
       "\\textbf{converged:}                    &         False          & \\textbf{  LL-Null:           } &   -2610.0   \\\\\n",
       "\\textbf{Covariance Type:}              &       nonrobust        & \\textbf{  LLR p-value:       } & 2.158e-167  \\\\\n",
       "\\bottomrule\n",
       "\\end{tabular}\n",
       "\\begin{tabular}{lcccccc}\n",
       "                                       & \\textbf{coef} & \\textbf{std err} & \\textbf{z} & \\textbf{P$> |$z$|$} & \\textbf{[0.025} & \\textbf{0.975]}  \\\\\n",
       "\\midrule\n",
       "\\textbf{const}                         &     -19.0997  &     8660.347     &    -0.002  &         0.998        &     -1.7e+04    &      1.7e+04     \\\\\n",
       "\\textbf{nilai\\_transaksi}              &    8.383e-08  &     1.15e-08     &     7.266  &         0.000        &     6.12e-08    &     1.06e-07     \\\\\n",
       "\\textbf{waktu\\_transaksi}              &   -1.875e-06  &     2.53e-06     &    -0.741  &         0.459        &    -6.83e-06    &     3.08e-06     \\\\\n",
       "\\textbf{rata\\_rata\\_nilai\\_transaksi}  &   -1.908e-08  &     3.87e-08     &    -0.492  &         0.622        &     -9.5e-08    &     5.69e-08     \\\\\n",
       "\\textbf{maksimum\\_nilai\\_transaksi}    &   -1.298e-09  &     3.82e-09     &    -0.340  &         0.734        &    -8.79e-09    &     6.19e-09     \\\\\n",
       "\\textbf{minimum\\_nilai\\_transaksi}     &    1.112e-06  &     2.02e-07     &     5.505  &         0.000        &     7.16e-07    &     1.51e-06     \\\\\n",
       "\\textbf{rata\\_rata\\_jumlah\\_transaksi} &      -0.2769  &        0.050     &    -5.553  &         0.000        &       -0.375    &       -0.179     \\\\\n",
       "\\textbf{kuartal\\_transaksi\\_2}         &      -0.4941  &        0.250     &    -1.974  &         0.048        &       -0.985    &       -0.004     \\\\\n",
       "\\textbf{kuartal\\_transaksi\\_3}         &      -0.4149  &        0.356     &    -1.166  &         0.244        &       -1.112    &        0.283     \\\\\n",
       "\\textbf{kuartal\\_transaksi\\_4}         &      -0.5087  &        0.475     &    -1.071  &         0.284        &       -1.440    &        0.422     \\\\\n",
       "\\textbf{kepemilikan\\_kartu\\_2}         &      11.3593  &          nan     &       nan  &           nan        &          nan    &          nan     \\\\\n",
       "\\textbf{id\\_channel\\_4}                &       5.4534  &          nan     &       nan  &           nan        &          nan    &          nan     \\\\\n",
       "\\textbf{id\\_channel\\_8}                &      19.7843  &     8660.347     &     0.002  &         0.998        &     -1.7e+04    &      1.7e+04     \\\\\n",
       "\\textbf{id\\_channel\\_9}                &       5.9059  &          nan     &       nan  &           nan        &          nan    &          nan     \\\\\n",
       "\\bottomrule\n",
       "\\end{tabular}\n",
       "%\\caption{Logit Regression Results}\n",
       "\\end{center}"
      ],
      "text/plain": [
       "<class 'statsmodels.iolib.summary.Summary'>\n",
       "\"\"\"\n",
       "                            Logit Regression Results                            \n",
       "================================================================================\n",
       "Dep. Variable:     flag_transaksi_fraud   No. Observations:                10483\n",
       "Model:                            Logit   Df Residuals:                    10469\n",
       "Method:                             MLE   Df Model:                           13\n",
       "Date:                  Thu, 11 Jan 2024   Pseudo R-squ.:                  0.1576\n",
       "Time:                          13:21:36   Log-Likelihood:                -2198.8\n",
       "converged:                        False   LL-Null:                       -2610.0\n",
       "Covariance Type:              nonrobust   LLR p-value:                2.158e-167\n",
       "==============================================================================================\n",
       "                                 coef    std err          z      P>|z|      [0.025      0.975]\n",
       "----------------------------------------------------------------------------------------------\n",
       "const                        -19.0997   8660.347     -0.002      0.998    -1.7e+04     1.7e+04\n",
       "nilai_transaksi             8.383e-08   1.15e-08      7.266      0.000    6.12e-08    1.06e-07\n",
       "waktu_transaksi            -1.875e-06   2.53e-06     -0.741      0.459   -6.83e-06    3.08e-06\n",
       "rata_rata_nilai_transaksi  -1.908e-08   3.87e-08     -0.492      0.622    -9.5e-08    5.69e-08\n",
       "maksimum_nilai_transaksi   -1.298e-09   3.82e-09     -0.340      0.734   -8.79e-09    6.19e-09\n",
       "minimum_nilai_transaksi     1.112e-06   2.02e-07      5.505      0.000    7.16e-07    1.51e-06\n",
       "rata_rata_jumlah_transaksi    -0.2769      0.050     -5.553      0.000      -0.375      -0.179\n",
       "kuartal_transaksi_2           -0.4941      0.250     -1.974      0.048      -0.985      -0.004\n",
       "kuartal_transaksi_3           -0.4149      0.356     -1.166      0.244      -1.112       0.283\n",
       "kuartal_transaksi_4           -0.5087      0.475     -1.071      0.284      -1.440       0.422\n",
       "kepemilikan_kartu_2           11.3593        nan        nan        nan         nan         nan\n",
       "id_channel_4                   5.4534        nan        nan        nan         nan         nan\n",
       "id_channel_8                  19.7843   8660.347      0.002      0.998    -1.7e+04     1.7e+04\n",
       "id_channel_9                   5.9059        nan        nan        nan         nan         nan\n",
       "==============================================================================================\n",
       "\"\"\""
      ]
     },
     "execution_count": 687,
     "metadata": {},
     "output_type": "execute_result"
    }
   ],
   "source": [
    "model_logit = sm.Logit(y_train, X_train)\n",
    "model_logit.fit().summary()"
   ]
  },
  {
   "cell_type": "markdown",
   "id": "8bcba2be-aa53-469b-a72c-da03489bc6e8",
   "metadata": {},
   "source": [
    "### Prediction Performance\n",
    "\n",
    "- (1 poin) Metrics yang dipilih mencapai 60% pada data train (2 poin) Metrics yang dipilih mencapai 60% pada data test"
   ]
  },
  {
   "cell_type": "markdown",
   "id": "3b2ca93f-72a8-46e0-a61b-54c0752eb492",
   "metadata": {},
   "source": [
    "#### Hasil metric data train"
   ]
  },
  {
   "cell_type": "code",
   "execution_count": 691,
   "id": "e18b38ac-6da1-4ce2-9e40-cbd37bbcc123",
   "metadata": {
    "execution": {
     "iopub.execute_input": "2024-01-11T06:23:05.329962Z",
     "iopub.status.busy": "2024-01-11T06:23:05.328991Z",
     "iopub.status.idle": "2024-01-11T06:23:05.428653Z",
     "shell.execute_reply": "2024-01-11T06:23:05.427652Z",
     "shell.execute_reply.started": "2024-01-11T06:23:05.328991Z"
    }
   },
   "outputs": [
    {
     "name": "stdout",
     "output_type": "stream",
     "text": [
      "Warning: Maximum number of iterations has been exceeded.\n",
      "         Current function value: 0.209745\n",
      "         Iterations: 35\n"
     ]
    },
    {
     "name": "stderr",
     "output_type": "stream",
     "text": [
      "C:\\Users\\SaltFarmer\\miniconda3\\envs\\algoritma\\lib\\site-packages\\statsmodels\\base\\model.py:607: ConvergenceWarning: Maximum Likelihood optimization failed to converge. Check mle_retvals\n",
      "  warnings.warn(\"Maximum Likelihood optimization failed to \"\n"
     ]
    },
    {
     "data": {
      "text/plain": [
       "11191    0.037380\n",
       "1027     0.056526\n",
       "10908    0.057065\n",
       "4404     0.057710\n",
       "5958     0.027605\n",
       "           ...   \n",
       "3071     0.380087\n",
       "4977     0.050986\n",
       "574      0.048985\n",
       "1717     0.049682\n",
       "203      0.048698\n",
       "Length: 10483, dtype: float64"
      ]
     },
     "execution_count": 691,
     "metadata": {},
     "output_type": "execute_result"
    }
   ],
   "source": [
    "logit_pred_tr = model_logit.fit().predict(X_train)\n",
    "logit_pred_tr"
   ]
  },
  {
   "cell_type": "code",
   "execution_count": 716,
   "id": "a31b9202-c100-442e-b00f-e548fcd0a9c9",
   "metadata": {
    "execution": {
     "iopub.execute_input": "2024-01-11T06:25:33.962364Z",
     "iopub.status.busy": "2024-01-11T06:25:33.961350Z",
     "iopub.status.idle": "2024-01-11T06:25:33.983881Z",
     "shell.execute_reply": "2024-01-11T06:25:33.981905Z",
     "shell.execute_reply.started": "2024-01-11T06:25:33.962364Z"
    }
   },
   "outputs": [
    {
     "data": {
      "text/plain": [
       "0    10416\n",
       "1       67\n",
       "Name: count, dtype: int64"
      ]
     },
     "execution_count": 716,
     "metadata": {},
     "output_type": "execute_result"
    }
   ],
   "source": [
    "pred_label_tr = logit_pred_tr.apply(lambda x: 1 if x > 0.5 else 0)\n",
    "pred_label_tr.value_counts()"
   ]
  },
  {
   "cell_type": "code",
   "execution_count": 717,
   "id": "77e63335-ede8-4f5b-aace-98c55397728d",
   "metadata": {
    "execution": {
     "iopub.execute_input": "2024-01-11T06:25:36.561374Z",
     "iopub.status.busy": "2024-01-11T06:25:36.560377Z",
     "iopub.status.idle": "2024-01-11T06:25:36.589372Z",
     "shell.execute_reply": "2024-01-11T06:25:36.588371Z",
     "shell.execute_reply.started": "2024-01-11T06:25:36.561374Z"
    }
   },
   "outputs": [
    {
     "name": "stdout",
     "output_type": "stream",
     "text": [
      "Accuracy score: 0.9311265859009825\n",
      "Recall score: 0.04195804195804196\n",
      "Precision score: 0.44776119402985076\n"
     ]
    }
   ],
   "source": [
    "print(f'Accuracy score: {accuracy_score(y_train, pred_label_tr)}')\n",
    "print(f'Recall score: {recall_score(y_train, pred_label_tr)}')\n",
    "print(f'Precision score: {precision_score(y_train, pred_label_tr)}')"
   ]
  },
  {
   "cell_type": "markdown",
   "id": "e0b1f830-c6bb-4640-9615-6508a140c7f9",
   "metadata": {},
   "source": [
    "Karena Precision belum lebih dari 60% maka saya atur lagi thresholdnya"
   ]
  },
  {
   "cell_type": "code",
   "execution_count": 722,
   "id": "a22fd343-3371-44da-96dd-42223a25d204",
   "metadata": {
    "execution": {
     "iopub.execute_input": "2024-01-11T06:26:51.507663Z",
     "iopub.status.busy": "2024-01-11T06:26:51.506691Z",
     "iopub.status.idle": "2024-01-11T06:26:51.527445Z",
     "shell.execute_reply": "2024-01-11T06:26:51.525443Z",
     "shell.execute_reply.started": "2024-01-11T06:26:51.507663Z"
    }
   },
   "outputs": [
    {
     "data": {
      "text/plain": [
       "0    10470\n",
       "1       13\n",
       "Name: count, dtype: int64"
      ]
     },
     "execution_count": 722,
     "metadata": {},
     "output_type": "execute_result"
    }
   ],
   "source": [
    "pred_label_tr = logit_pred_tr.apply(lambda x: 1 if x > 0.8 else 0)\n",
    "pred_label_tr.value_counts()"
   ]
  },
  {
   "cell_type": "code",
   "execution_count": 723,
   "id": "61d272b4-979d-47f4-b035-1df56787a595",
   "metadata": {
    "execution": {
     "iopub.execute_input": "2024-01-11T06:26:52.474139Z",
     "iopub.status.busy": "2024-01-11T06:26:52.473143Z",
     "iopub.status.idle": "2024-01-11T06:26:52.509131Z",
     "shell.execute_reply": "2024-01-11T06:26:52.508131Z",
     "shell.execute_reply.started": "2024-01-11T06:26:52.474139Z"
    }
   },
   "outputs": [
    {
     "name": "stdout",
     "output_type": "stream",
     "text": [
      "Accuracy score: 0.9322712963846227\n",
      "Recall score: 0.012587412587412588\n",
      "Precision score: 0.6923076923076923\n"
     ]
    }
   ],
   "source": [
    "print(f'Accuracy score: {accuracy_score(y_train, pred_label_tr)}')\n",
    "print(f'Recall score: {recall_score(y_train, pred_label_tr)}')\n",
    "print(f'Precision score: {precision_score(y_train, pred_label_tr)}')"
   ]
  },
  {
   "cell_type": "markdown",
   "id": "be7579d8-a32f-45a6-a6c7-7d1aadaed35b",
   "metadata": {},
   "source": [
    "Sudah ditemukan threshold yang tepat untuk Data Train melebihi nilai threshold 60%"
   ]
  },
  {
   "cell_type": "markdown",
   "id": "d76c57ac-dc06-4c76-888c-3c8a2e992d92",
   "metadata": {},
   "source": [
    "#### Hasil metric data Test"
   ]
  },
  {
   "cell_type": "code",
   "execution_count": 724,
   "id": "a0662823-0c6d-4e77-84ea-fb54cd148c9e",
   "metadata": {
    "execution": {
     "iopub.execute_input": "2024-01-11T06:27:26.045560Z",
     "iopub.status.busy": "2024-01-11T06:27:26.045560Z",
     "iopub.status.idle": "2024-01-11T06:27:26.154560Z",
     "shell.execute_reply": "2024-01-11T06:27:26.152557Z",
     "shell.execute_reply.started": "2024-01-11T06:27:26.045560Z"
    }
   },
   "outputs": [
    {
     "name": "stdout",
     "output_type": "stream",
     "text": [
      "Warning: Maximum number of iterations has been exceeded.\n",
      "         Current function value: 0.209745\n",
      "         Iterations: 35\n"
     ]
    },
    {
     "name": "stderr",
     "output_type": "stream",
     "text": [
      "C:\\Users\\SaltFarmer\\miniconda3\\envs\\algoritma\\lib\\site-packages\\statsmodels\\base\\model.py:607: ConvergenceWarning: Maximum Likelihood optimization failed to converge. Check mle_retvals\n",
      "  warnings.warn(\"Maximum Likelihood optimization failed to \"\n"
     ]
    },
    {
     "data": {
      "text/plain": [
       "12431    0.057628\n",
       "4523     0.049031\n",
       "8211     0.011157\n",
       "4172     0.048879\n",
       "5746     0.389036\n",
       "           ...   \n",
       "11842    0.048245\n",
       "9454     0.046732\n",
       "2449     0.055409\n",
       "3865     0.036163\n",
       "5465     0.051302\n",
       "Length: 2621, dtype: float64"
      ]
     },
     "execution_count": 724,
     "metadata": {},
     "output_type": "execute_result"
    }
   ],
   "source": [
    "logit_pred = model_logit.fit().predict(X_test)\n",
    "logit_pred"
   ]
  },
  {
   "cell_type": "code",
   "execution_count": 725,
   "id": "c8549d05-7ca8-4033-a01e-c2bff198169f",
   "metadata": {
    "execution": {
     "iopub.execute_input": "2024-01-11T06:27:27.678001Z",
     "iopub.status.busy": "2024-01-11T06:27:27.677001Z",
     "iopub.status.idle": "2024-01-11T06:27:27.709430Z",
     "shell.execute_reply": "2024-01-11T06:27:27.708435Z",
     "shell.execute_reply.started": "2024-01-11T06:27:27.678001Z"
    }
   },
   "outputs": [
    {
     "data": {
      "text/plain": [
       "0    2602\n",
       "1      19\n",
       "Name: count, dtype: int64"
      ]
     },
     "execution_count": 725,
     "metadata": {},
     "output_type": "execute_result"
    }
   ],
   "source": [
    "pred_label = logit_pred.apply(lambda x: 1 if x > 0.5 else 0)\n",
    "pred_label.value_counts()"
   ]
  },
  {
   "cell_type": "code",
   "execution_count": 726,
   "id": "6abe7996-1353-47f3-aabb-007b8147c5e7",
   "metadata": {
    "execution": {
     "iopub.execute_input": "2024-01-11T06:27:30.179409Z",
     "iopub.status.busy": "2024-01-11T06:27:30.178408Z",
     "iopub.status.idle": "2024-01-11T06:27:30.201178Z",
     "shell.execute_reply": "2024-01-11T06:27:30.200185Z",
     "shell.execute_reply.started": "2024-01-11T06:27:30.179409Z"
    }
   },
   "outputs": [
    {
     "name": "stdout",
     "output_type": "stream",
     "text": [
      "Accuracy score: 0.9320869896985883\n",
      "Recall score: 0.055865921787709494\n",
      "Precision score: 0.5263157894736842\n"
     ]
    }
   ],
   "source": [
    "print(f'Accuracy score: {accuracy_score(y_test, pred_label)}')\n",
    "print(f'Recall score: {recall_score(y_test, pred_label)}')\n",
    "print(f'Precision score: {precision_score(y_test, pred_label)}')"
   ]
  },
  {
   "cell_type": "markdown",
   "id": "2af51e66-adc6-4766-b045-fc885605e35e",
   "metadata": {},
   "source": [
    "Saya coba atur sedikit threshold nya agar mendapatkan nilai presisi yang diinginkan"
   ]
  },
  {
   "cell_type": "code",
   "execution_count": 727,
   "id": "a9cd09d1-31ff-406e-8bc6-a04fc07e754a",
   "metadata": {
    "execution": {
     "iopub.execute_input": "2024-01-11T06:27:34.083008Z",
     "iopub.status.busy": "2024-01-11T06:27:34.082009Z",
     "iopub.status.idle": "2024-01-11T06:27:34.103009Z",
     "shell.execute_reply": "2024-01-11T06:27:34.102009Z",
     "shell.execute_reply.started": "2024-01-11T06:27:34.083008Z"
    }
   },
   "outputs": [
    {
     "data": {
      "text/plain": [
       "0    2615\n",
       "1       6\n",
       "Name: count, dtype: int64"
      ]
     },
     "execution_count": 727,
     "metadata": {},
     "output_type": "execute_result"
    }
   ],
   "source": [
    "pred_label = logit_pred.apply(lambda x: 1 if x > 0.6 else 0)\n",
    "pred_label.value_counts()"
   ]
  },
  {
   "cell_type": "code",
   "execution_count": 728,
   "id": "8431006a-44d8-45cb-9d3d-412471deb550",
   "metadata": {
    "execution": {
     "iopub.execute_input": "2024-01-11T06:27:34.991455Z",
     "iopub.status.busy": "2024-01-11T06:27:34.990454Z",
     "iopub.status.idle": "2024-01-11T06:27:35.022254Z",
     "shell.execute_reply": "2024-01-11T06:27:35.021258Z",
     "shell.execute_reply.started": "2024-01-11T06:27:34.991455Z"
    }
   },
   "outputs": [
    {
     "name": "stdout",
     "output_type": "stream",
     "text": [
      "Accuracy score: 0.9324685234643266\n",
      "Recall score: 0.0223463687150838\n",
      "Precision score: 0.6666666666666666\n"
     ]
    }
   ],
   "source": [
    "print(f'Accuracy score: {accuracy_score(y_test, pred_label)}')\n",
    "print(f'Recall score: {recall_score(y_test, pred_label)}')\n",
    "print(f'Precision score: {precision_score(y_test, pred_label)}')"
   ]
  },
  {
   "cell_type": "markdown",
   "id": "66d60a11-ffcf-4134-b32a-f7c579091f70",
   "metadata": {},
   "source": [
    "Melihat hasil metric dari data train dan data test maka model bisa dianggap **overfitting** (hasil train > hasil test)"
   ]
  },
  {
   "cell_type": "markdown",
   "id": "d9392415-7067-4455-b026-d241fbbcd6a0",
   "metadata": {
    "jp-MarkdownHeadingCollapsed": true
   },
   "source": [
    "# Angka Haram\n",
    "\n",
    "Hasil dengan presisi 1 dan terbaik"
   ]
  },
  {
   "cell_type": "code",
   "execution_count": 543,
   "id": "418332f1-a144-41a5-9285-b6f76223ba53",
   "metadata": {
    "execution": {
     "iopub.execute_input": "2024-01-11T05:11:00.267930Z",
     "iopub.status.busy": "2024-01-11T05:11:00.267930Z",
     "iopub.status.idle": "2024-01-11T05:11:00.288325Z",
     "shell.execute_reply": "2024-01-11T05:11:00.287321Z",
     "shell.execute_reply.started": "2024-01-11T05:11:00.267930Z"
    }
   },
   "outputs": [],
   "source": [
    "# fraud_asli = fraud_asli.dropna()\n",
    "# X = sm.add_constant(fraud_asli.drop(columns='flag_transaksi_fraud')[['nilai_transaksi', 'waktu_transaksi', 'rata_rata_nilai_transaksi', 'maksimum_nilai_transaksi', 'minimum_nilai_transaksi', 'rata_rata_jumlah_transaksi']])\n",
    "# y = fraud_asli['flag_transaksi_fraud']"
   ]
  },
  {
   "cell_type": "code",
   "execution_count": 545,
   "id": "cf422b64-a84e-4860-ba71-b301b9fc16f2",
   "metadata": {
    "execution": {
     "iopub.execute_input": "2024-01-11T05:11:03.858602Z",
     "iopub.status.busy": "2024-01-11T05:11:03.858602Z",
     "iopub.status.idle": "2024-01-11T05:11:03.872601Z",
     "shell.execute_reply": "2024-01-11T05:11:03.871599Z",
     "shell.execute_reply.started": "2024-01-11T05:11:03.858602Z"
    }
   },
   "outputs": [],
   "source": [
    "# X_train, X_test, y_train, y_test = train_test_split(X, \n",
    "#                                                    y, # kolom target\n",
    "#                                                    test_size = 0.2, # 80% training and 20% test\n",
    "#                                                    random_state = 10,\n",
    "#                                                    stratify=y)"
   ]
  },
  {
   "cell_type": "code",
   "execution_count": 546,
   "id": "9b482817-fd97-4c39-8742-c0f5cc31643a",
   "metadata": {
    "execution": {
     "iopub.execute_input": "2024-01-11T05:11:06.619892Z",
     "iopub.status.busy": "2024-01-11T05:11:06.618897Z",
     "iopub.status.idle": "2024-01-11T05:11:06.645615Z",
     "shell.execute_reply": "2024-01-11T05:11:06.643617Z",
     "shell.execute_reply.started": "2024-01-11T05:11:06.619892Z"
    }
   },
   "outputs": [
    {
     "data": {
      "text/html": [
       "<div>\n",
       "<style scoped>\n",
       "    .dataframe tbody tr th:only-of-type {\n",
       "        vertical-align: middle;\n",
       "    }\n",
       "\n",
       "    .dataframe tbody tr th {\n",
       "        vertical-align: top;\n",
       "    }\n",
       "\n",
       "    .dataframe thead th {\n",
       "        text-align: right;\n",
       "    }\n",
       "</style>\n",
       "<table border=\"1\" class=\"dataframe\">\n",
       "  <thead>\n",
       "    <tr style=\"text-align: right;\">\n",
       "      <th></th>\n",
       "      <th>const</th>\n",
       "      <th>nilai_transaksi</th>\n",
       "      <th>waktu_transaksi</th>\n",
       "      <th>rata_rata_nilai_transaksi</th>\n",
       "      <th>maksimum_nilai_transaksi</th>\n",
       "      <th>minimum_nilai_transaksi</th>\n",
       "      <th>rata_rata_jumlah_transaksi</th>\n",
       "    </tr>\n",
       "  </thead>\n",
       "  <tbody>\n",
       "    <tr>\n",
       "      <th>11191</th>\n",
       "      <td>1.0</td>\n",
       "      <td>1250000.0</td>\n",
       "      <td>155818</td>\n",
       "      <td>5.527200e+06</td>\n",
       "      <td>75000000.0</td>\n",
       "      <td>50000.0</td>\n",
       "      <td>2.40</td>\n",
       "    </tr>\n",
       "    <tr>\n",
       "      <th>1027</th>\n",
       "      <td>1.0</td>\n",
       "      <td>2500000.0</td>\n",
       "      <td>142017</td>\n",
       "      <td>1.303347e+06</td>\n",
       "      <td>9000000.0</td>\n",
       "      <td>33500.0</td>\n",
       "      <td>1.84</td>\n",
       "    </tr>\n",
       "    <tr>\n",
       "      <th>10908</th>\n",
       "      <td>1.0</td>\n",
       "      <td>100000.0</td>\n",
       "      <td>102021</td>\n",
       "      <td>3.992588e+05</td>\n",
       "      <td>2500000.0</td>\n",
       "      <td>22400.0</td>\n",
       "      <td>1.11</td>\n",
       "    </tr>\n",
       "    <tr>\n",
       "      <th>4404</th>\n",
       "      <td>1.0</td>\n",
       "      <td>2500000.0</td>\n",
       "      <td>172626</td>\n",
       "      <td>8.525882e+05</td>\n",
       "      <td>7000000.0</td>\n",
       "      <td>50000.0</td>\n",
       "      <td>1.66</td>\n",
       "    </tr>\n",
       "    <tr>\n",
       "      <th>5958</th>\n",
       "      <td>1.0</td>\n",
       "      <td>498813.0</td>\n",
       "      <td>154446</td>\n",
       "      <td>5.185913e+05</td>\n",
       "      <td>4318765.0</td>\n",
       "      <td>21200.0</td>\n",
       "      <td>2.24</td>\n",
       "    </tr>\n",
       "    <tr>\n",
       "      <th>...</th>\n",
       "      <td>...</td>\n",
       "      <td>...</td>\n",
       "      <td>...</td>\n",
       "      <td>...</td>\n",
       "      <td>...</td>\n",
       "      <td>...</td>\n",
       "      <td>...</td>\n",
       "    </tr>\n",
       "    <tr>\n",
       "      <th>3071</th>\n",
       "      <td>1.0</td>\n",
       "      <td>1300000.0</td>\n",
       "      <td>151541</td>\n",
       "      <td>1.184368e+06</td>\n",
       "      <td>10000000.0</td>\n",
       "      <td>25000.0</td>\n",
       "      <td>2.08</td>\n",
       "    </tr>\n",
       "    <tr>\n",
       "      <th>4977</th>\n",
       "      <td>1.0</td>\n",
       "      <td>1250000.0</td>\n",
       "      <td>171957</td>\n",
       "      <td>1.275961e+06</td>\n",
       "      <td>7000000.0</td>\n",
       "      <td>50000.0</td>\n",
       "      <td>1.73</td>\n",
       "    </tr>\n",
       "    <tr>\n",
       "      <th>574</th>\n",
       "      <td>1.0</td>\n",
       "      <td>2499000.0</td>\n",
       "      <td>102907</td>\n",
       "      <td>2.917987e+06</td>\n",
       "      <td>7328969.0</td>\n",
       "      <td>500000.0</td>\n",
       "      <td>2.50</td>\n",
       "    </tr>\n",
       "    <tr>\n",
       "      <th>1717</th>\n",
       "      <td>1.0</td>\n",
       "      <td>1000000.0</td>\n",
       "      <td>133843</td>\n",
       "      <td>6.063348e+05</td>\n",
       "      <td>3500000.0</td>\n",
       "      <td>31700.0</td>\n",
       "      <td>2.00</td>\n",
       "    </tr>\n",
       "    <tr>\n",
       "      <th>203</th>\n",
       "      <td>1.0</td>\n",
       "      <td>300000.0</td>\n",
       "      <td>195601</td>\n",
       "      <td>5.033857e+05</td>\n",
       "      <td>1000000.0</td>\n",
       "      <td>100000.0</td>\n",
       "      <td>1.40</td>\n",
       "    </tr>\n",
       "  </tbody>\n",
       "</table>\n",
       "<p>10483 rows × 7 columns</p>\n",
       "</div>"
      ],
      "text/plain": [
       "       const  nilai_transaksi  waktu_transaksi  rata_rata_nilai_transaksi  \\\n",
       "11191    1.0        1250000.0           155818               5.527200e+06   \n",
       "1027     1.0        2500000.0           142017               1.303347e+06   \n",
       "10908    1.0         100000.0           102021               3.992588e+05   \n",
       "4404     1.0        2500000.0           172626               8.525882e+05   \n",
       "5958     1.0         498813.0           154446               5.185913e+05   \n",
       "...      ...              ...              ...                        ...   \n",
       "3071     1.0        1300000.0           151541               1.184368e+06   \n",
       "4977     1.0        1250000.0           171957               1.275961e+06   \n",
       "574      1.0        2499000.0           102907               2.917987e+06   \n",
       "1717     1.0        1000000.0           133843               6.063348e+05   \n",
       "203      1.0         300000.0           195601               5.033857e+05   \n",
       "\n",
       "       maksimum_nilai_transaksi  minimum_nilai_transaksi  \\\n",
       "11191                75000000.0                  50000.0   \n",
       "1027                  9000000.0                  33500.0   \n",
       "10908                 2500000.0                  22400.0   \n",
       "4404                  7000000.0                  50000.0   \n",
       "5958                  4318765.0                  21200.0   \n",
       "...                         ...                      ...   \n",
       "3071                 10000000.0                  25000.0   \n",
       "4977                  7000000.0                  50000.0   \n",
       "574                   7328969.0                 500000.0   \n",
       "1717                  3500000.0                  31700.0   \n",
       "203                   1000000.0                 100000.0   \n",
       "\n",
       "       rata_rata_jumlah_transaksi  \n",
       "11191                        2.40  \n",
       "1027                         1.84  \n",
       "10908                        1.11  \n",
       "4404                         1.66  \n",
       "5958                         2.24  \n",
       "...                           ...  \n",
       "3071                         2.08  \n",
       "4977                         1.73  \n",
       "574                          2.50  \n",
       "1717                         2.00  \n",
       "203                          1.40  \n",
       "\n",
       "[10483 rows x 7 columns]"
      ]
     },
     "execution_count": 546,
     "metadata": {},
     "output_type": "execute_result"
    }
   ],
   "source": [
    "# X_train"
   ]
  },
  {
   "cell_type": "code",
   "execution_count": 547,
   "id": "e0938d4a-aebb-4329-98d4-6330a48846a5",
   "metadata": {
    "execution": {
     "iopub.execute_input": "2024-01-11T05:11:09.451900Z",
     "iopub.status.busy": "2024-01-11T05:11:09.450902Z",
     "iopub.status.idle": "2024-01-11T05:11:09.526897Z",
     "shell.execute_reply": "2024-01-11T05:11:09.525889Z",
     "shell.execute_reply.started": "2024-01-11T05:11:09.451900Z"
    }
   },
   "outputs": [
    {
     "name": "stdout",
     "output_type": "stream",
     "text": [
      "Optimization terminated successfully.\n",
      "         Current function value: 0.240125\n",
      "         Iterations 7\n"
     ]
    },
    {
     "data": {
      "text/html": [
       "<table class=\"simpletable\">\n",
       "<caption>Logit Regression Results</caption>\n",
       "<tr>\n",
       "  <th>Dep. Variable:</th>   <td>flag_transaksi_fraud</td> <th>  No. Observations:  </th>  <td> 10483</td>  \n",
       "</tr>\n",
       "<tr>\n",
       "  <th>Model:</th>                   <td>Logit</td>        <th>  Df Residuals:      </th>  <td> 10476</td>  \n",
       "</tr>\n",
       "<tr>\n",
       "  <th>Method:</th>                   <td>MLE</td>         <th>  Df Model:          </th>  <td>     6</td>  \n",
       "</tr>\n",
       "<tr>\n",
       "  <th>Date:</th>              <td>Thu, 11 Jan 2024</td>   <th>  Pseudo R-squ.:     </th>  <td>0.03554</td> \n",
       "</tr>\n",
       "<tr>\n",
       "  <th>Time:</th>                  <td>12:11:09</td>       <th>  Log-Likelihood:    </th> <td> -2517.2</td> \n",
       "</tr>\n",
       "<tr>\n",
       "  <th>converged:</th>               <td>True</td>         <th>  LL-Null:           </th> <td> -2610.0</td> \n",
       "</tr>\n",
       "<tr>\n",
       "  <th>Covariance Type:</th>       <td>nonrobust</td>      <th>  LLR p-value:       </th> <td>2.302e-37</td>\n",
       "</tr>\n",
       "</table>\n",
       "<table class=\"simpletable\">\n",
       "<tr>\n",
       "               <td></td>                 <th>coef</th>     <th>std err</th>      <th>z</th>      <th>P>|z|</th>  <th>[0.025</th>    <th>0.975]</th>  \n",
       "</tr>\n",
       "<tr>\n",
       "  <th>const</th>                      <td>   -1.7497</td> <td>    0.153</td> <td>  -11.472</td> <td> 0.000</td> <td>   -2.049</td> <td>   -1.451</td>\n",
       "</tr>\n",
       "<tr>\n",
       "  <th>nilai_transaksi</th>            <td> 7.637e-08</td> <td> 1.05e-08</td> <td>    7.274</td> <td> 0.000</td> <td> 5.58e-08</td> <td>  9.7e-08</td>\n",
       "</tr>\n",
       "<tr>\n",
       "  <th>waktu_transaksi</th>            <td>-3.296e-06</td> <td> 8.14e-07</td> <td>   -4.047</td> <td> 0.000</td> <td>-4.89e-06</td> <td> -1.7e-06</td>\n",
       "</tr>\n",
       "<tr>\n",
       "  <th>rata_rata_nilai_transaksi</th>  <td>-3.895e-10</td> <td> 3.67e-08</td> <td>   -0.011</td> <td> 0.992</td> <td>-7.24e-08</td> <td> 7.16e-08</td>\n",
       "</tr>\n",
       "<tr>\n",
       "  <th>maksimum_nilai_transaksi</th>   <td>-2.108e-09</td> <td> 3.59e-09</td> <td>   -0.588</td> <td> 0.557</td> <td>-9.14e-09</td> <td> 4.92e-09</td>\n",
       "</tr>\n",
       "<tr>\n",
       "  <th>minimum_nilai_transaksi</th>    <td> 1.101e-06</td> <td> 2.02e-07</td> <td>    5.447</td> <td> 0.000</td> <td> 7.05e-07</td> <td>  1.5e-06</td>\n",
       "</tr>\n",
       "<tr>\n",
       "  <th>rata_rata_jumlah_transaksi</th> <td>   -0.2684</td> <td>    0.047</td> <td>   -5.669</td> <td> 0.000</td> <td>   -0.361</td> <td>   -0.176</td>\n",
       "</tr>\n",
       "</table>"
      ],
      "text/latex": [
       "\\begin{center}\n",
       "\\begin{tabular}{lclc}\n",
       "\\toprule\n",
       "\\textbf{Dep. Variable:}                & flag\\_transaksi\\_fraud & \\textbf{  No. Observations:  } &    10483    \\\\\n",
       "\\textbf{Model:}                        &         Logit          & \\textbf{  Df Residuals:      } &    10476    \\\\\n",
       "\\textbf{Method:}                       &          MLE           & \\textbf{  Df Model:          } &        6    \\\\\n",
       "\\textbf{Date:}                         &    Thu, 11 Jan 2024    & \\textbf{  Pseudo R-squ.:     } &  0.03554    \\\\\n",
       "\\textbf{Time:}                         &        12:11:09        & \\textbf{  Log-Likelihood:    } &   -2517.2   \\\\\n",
       "\\textbf{converged:}                    &          True          & \\textbf{  LL-Null:           } &   -2610.0   \\\\\n",
       "\\textbf{Covariance Type:}              &       nonrobust        & \\textbf{  LLR p-value:       } & 2.302e-37   \\\\\n",
       "\\bottomrule\n",
       "\\end{tabular}\n",
       "\\begin{tabular}{lcccccc}\n",
       "                                       & \\textbf{coef} & \\textbf{std err} & \\textbf{z} & \\textbf{P$> |$z$|$} & \\textbf{[0.025} & \\textbf{0.975]}  \\\\\n",
       "\\midrule\n",
       "\\textbf{const}                         &      -1.7497  &        0.153     &   -11.472  &         0.000        &       -2.049    &       -1.451     \\\\\n",
       "\\textbf{nilai\\_transaksi}              &    7.637e-08  &     1.05e-08     &     7.274  &         0.000        &     5.58e-08    &      9.7e-08     \\\\\n",
       "\\textbf{waktu\\_transaksi}              &   -3.296e-06  &     8.14e-07     &    -4.047  &         0.000        &    -4.89e-06    &     -1.7e-06     \\\\\n",
       "\\textbf{rata\\_rata\\_nilai\\_transaksi}  &   -3.895e-10  &     3.67e-08     &    -0.011  &         0.992        &    -7.24e-08    &     7.16e-08     \\\\\n",
       "\\textbf{maksimum\\_nilai\\_transaksi}    &   -2.108e-09  &     3.59e-09     &    -0.588  &         0.557        &    -9.14e-09    &     4.92e-09     \\\\\n",
       "\\textbf{minimum\\_nilai\\_transaksi}     &    1.101e-06  &     2.02e-07     &     5.447  &         0.000        &     7.05e-07    &      1.5e-06     \\\\\n",
       "\\textbf{rata\\_rata\\_jumlah\\_transaksi} &      -0.2684  &        0.047     &    -5.669  &         0.000        &       -0.361    &       -0.176     \\\\\n",
       "\\bottomrule\n",
       "\\end{tabular}\n",
       "%\\caption{Logit Regression Results}\n",
       "\\end{center}"
      ],
      "text/plain": [
       "<class 'statsmodels.iolib.summary.Summary'>\n",
       "\"\"\"\n",
       "                            Logit Regression Results                            \n",
       "================================================================================\n",
       "Dep. Variable:     flag_transaksi_fraud   No. Observations:                10483\n",
       "Model:                            Logit   Df Residuals:                    10476\n",
       "Method:                             MLE   Df Model:                            6\n",
       "Date:                  Thu, 11 Jan 2024   Pseudo R-squ.:                 0.03554\n",
       "Time:                          12:11:09   Log-Likelihood:                -2517.2\n",
       "converged:                         True   LL-Null:                       -2610.0\n",
       "Covariance Type:              nonrobust   LLR p-value:                 2.302e-37\n",
       "==============================================================================================\n",
       "                                 coef    std err          z      P>|z|      [0.025      0.975]\n",
       "----------------------------------------------------------------------------------------------\n",
       "const                         -1.7497      0.153    -11.472      0.000      -2.049      -1.451\n",
       "nilai_transaksi             7.637e-08   1.05e-08      7.274      0.000    5.58e-08     9.7e-08\n",
       "waktu_transaksi            -3.296e-06   8.14e-07     -4.047      0.000   -4.89e-06    -1.7e-06\n",
       "rata_rata_nilai_transaksi  -3.895e-10   3.67e-08     -0.011      0.992   -7.24e-08    7.16e-08\n",
       "maksimum_nilai_transaksi   -2.108e-09   3.59e-09     -0.588      0.557   -9.14e-09    4.92e-09\n",
       "minimum_nilai_transaksi     1.101e-06   2.02e-07      5.447      0.000    7.05e-07     1.5e-06\n",
       "rata_rata_jumlah_transaksi    -0.2684      0.047     -5.669      0.000      -0.361      -0.176\n",
       "==============================================================================================\n",
       "\"\"\""
      ]
     },
     "execution_count": 547,
     "metadata": {},
     "output_type": "execute_result"
    }
   ],
   "source": [
    "# model_logit2 = sm.Logit(y_train, X_train)\n",
    "# model_logit2.fit().summary()"
   ]
  },
  {
   "cell_type": "code",
   "execution_count": 548,
   "id": "b3decb9a-46f9-4562-ae18-fa47bd25be87",
   "metadata": {
    "execution": {
     "iopub.execute_input": "2024-01-11T05:11:12.577634Z",
     "iopub.status.busy": "2024-01-11T05:11:12.577634Z",
     "iopub.status.idle": "2024-01-11T05:11:12.605634Z",
     "shell.execute_reply": "2024-01-11T05:11:12.604632Z",
     "shell.execute_reply.started": "2024-01-11T05:11:12.577634Z"
    }
   },
   "outputs": [
    {
     "name": "stdout",
     "output_type": "stream",
     "text": [
      "Optimization terminated successfully.\n",
      "         Current function value: 0.240125\n",
      "         Iterations 7\n"
     ]
    },
    {
     "data": {
      "text/plain": [
       "12431    0.075937\n",
       "4523     0.082749\n",
       "8211     0.015727\n",
       "4172     0.065997\n",
       "5746     0.081120\n",
       "           ...   \n",
       "11842    0.062634\n",
       "9454     0.071733\n",
       "2449     0.072522\n",
       "3865     0.049655\n",
       "5465     0.078226\n",
       "Length: 2621, dtype: float64"
      ]
     },
     "execution_count": 548,
     "metadata": {},
     "output_type": "execute_result"
    }
   ],
   "source": [
    "# logit_pred2 = model_logit2.fit().predict(X_test)\n",
    "# logit_pred2"
   ]
  },
  {
   "cell_type": "code",
   "execution_count": 551,
   "id": "470f2d9f-4a85-4eaf-bead-692de750bb82",
   "metadata": {
    "execution": {
     "iopub.execute_input": "2024-01-11T05:11:24.666578Z",
     "iopub.status.busy": "2024-01-11T05:11:24.665578Z",
     "iopub.status.idle": "2024-01-11T05:11:24.690030Z",
     "shell.execute_reply": "2024-01-11T05:11:24.689033Z",
     "shell.execute_reply.started": "2024-01-11T05:11:24.666578Z"
    }
   },
   "outputs": [
    {
     "data": {
      "text/plain": [
       "0    2618\n",
       "1       3\n",
       "Name: count, dtype: int64"
      ]
     },
     "execution_count": 551,
     "metadata": {},
     "output_type": "execute_result"
    }
   ],
   "source": [
    "# pred_label2 = logit_pred2.apply(lambda x: 1 if x > 0.5 else 0)\n",
    "# pred_label2.value_counts()"
   ]
  },
  {
   "cell_type": "code",
   "execution_count": 552,
   "id": "3971c89f-2690-4632-b108-53e0b41f78a8",
   "metadata": {
    "execution": {
     "iopub.execute_input": "2024-01-11T05:11:26.558873Z",
     "iopub.status.busy": "2024-01-11T05:11:26.558873Z",
     "iopub.status.idle": "2024-01-11T05:11:26.582871Z",
     "shell.execute_reply": "2024-01-11T05:11:26.581869Z",
     "shell.execute_reply.started": "2024-01-11T05:11:26.558873Z"
    }
   },
   "outputs": [
    {
     "name": "stdout",
     "output_type": "stream",
     "text": [
      "Accuracy score: 0.9320869896985883\n",
      "Recall score: 0.0111731843575419\n",
      "Precision score: 0.6666666666666666\n"
     ]
    }
   ],
   "source": [
    "# print(f'Accuracy score: {accuracy_score(y_test, pred_label2)}')\n",
    "# print(f'Recall score: {recall_score(y_test, pred_label2)}')\n",
    "# print(f'Precision score: {precision_score(y_test, pred_label2)}')"
   ]
  },
  {
   "cell_type": "markdown",
   "id": "d3f22883-762e-4db9-8074-cf45654d5e88",
   "metadata": {},
   "source": [
    "# Coba KNN"
   ]
  },
  {
   "cell_type": "code",
   "execution_count": 729,
   "id": "022b3907-f945-43c7-b990-8defd4edf42d",
   "metadata": {
    "execution": {
     "iopub.execute_input": "2024-01-11T06:27:38.094327Z",
     "iopub.status.busy": "2024-01-11T06:27:38.093328Z",
     "iopub.status.idle": "2024-01-11T06:27:38.099330Z",
     "shell.execute_reply": "2024-01-11T06:27:38.098330Z",
     "shell.execute_reply.started": "2024-01-11T06:27:38.094327Z"
    }
   },
   "outputs": [],
   "source": [
    "KNN_model = KNeighborsClassifier(n_neighbors=10)\n",
    "scaler = StandardScaler()"
   ]
  },
  {
   "cell_type": "code",
   "execution_count": 730,
   "id": "9a51c27e-a0b6-4baf-826b-504a60fe6190",
   "metadata": {
    "execution": {
     "iopub.execute_input": "2024-01-11T06:27:41.938248Z",
     "iopub.status.busy": "2024-01-11T06:27:41.938248Z",
     "iopub.status.idle": "2024-01-11T06:27:41.957730Z",
     "shell.execute_reply": "2024-01-11T06:27:41.955716Z",
     "shell.execute_reply.started": "2024-01-11T06:27:41.938248Z"
    }
   },
   "outputs": [
    {
     "data": {
      "text/html": [
       "<style>#sk-container-id-7 {color: black;}#sk-container-id-7 pre{padding: 0;}#sk-container-id-7 div.sk-toggleable {background-color: white;}#sk-container-id-7 label.sk-toggleable__label {cursor: pointer;display: block;width: 100%;margin-bottom: 0;padding: 0.3em;box-sizing: border-box;text-align: center;}#sk-container-id-7 label.sk-toggleable__label-arrow:before {content: \"▸\";float: left;margin-right: 0.25em;color: #696969;}#sk-container-id-7 label.sk-toggleable__label-arrow:hover:before {color: black;}#sk-container-id-7 div.sk-estimator:hover label.sk-toggleable__label-arrow:before {color: black;}#sk-container-id-7 div.sk-toggleable__content {max-height: 0;max-width: 0;overflow: hidden;text-align: left;background-color: #f0f8ff;}#sk-container-id-7 div.sk-toggleable__content pre {margin: 0.2em;color: black;border-radius: 0.25em;background-color: #f0f8ff;}#sk-container-id-7 input.sk-toggleable__control:checked~div.sk-toggleable__content {max-height: 200px;max-width: 100%;overflow: auto;}#sk-container-id-7 input.sk-toggleable__control:checked~label.sk-toggleable__label-arrow:before {content: \"▾\";}#sk-container-id-7 div.sk-estimator input.sk-toggleable__control:checked~label.sk-toggleable__label {background-color: #d4ebff;}#sk-container-id-7 div.sk-label input.sk-toggleable__control:checked~label.sk-toggleable__label {background-color: #d4ebff;}#sk-container-id-7 input.sk-hidden--visually {border: 0;clip: rect(1px 1px 1px 1px);clip: rect(1px, 1px, 1px, 1px);height: 1px;margin: -1px;overflow: hidden;padding: 0;position: absolute;width: 1px;}#sk-container-id-7 div.sk-estimator {font-family: monospace;background-color: #f0f8ff;border: 1px dotted black;border-radius: 0.25em;box-sizing: border-box;margin-bottom: 0.5em;}#sk-container-id-7 div.sk-estimator:hover {background-color: #d4ebff;}#sk-container-id-7 div.sk-parallel-item::after {content: \"\";width: 100%;border-bottom: 1px solid gray;flex-grow: 1;}#sk-container-id-7 div.sk-label:hover label.sk-toggleable__label {background-color: #d4ebff;}#sk-container-id-7 div.sk-serial::before {content: \"\";position: absolute;border-left: 1px solid gray;box-sizing: border-box;top: 0;bottom: 0;left: 50%;z-index: 0;}#sk-container-id-7 div.sk-serial {display: flex;flex-direction: column;align-items: center;background-color: white;padding-right: 0.2em;padding-left: 0.2em;position: relative;}#sk-container-id-7 div.sk-item {position: relative;z-index: 1;}#sk-container-id-7 div.sk-parallel {display: flex;align-items: stretch;justify-content: center;background-color: white;position: relative;}#sk-container-id-7 div.sk-item::before, #sk-container-id-7 div.sk-parallel-item::before {content: \"\";position: absolute;border-left: 1px solid gray;box-sizing: border-box;top: 0;bottom: 0;left: 50%;z-index: -1;}#sk-container-id-7 div.sk-parallel-item {display: flex;flex-direction: column;z-index: 1;position: relative;background-color: white;}#sk-container-id-7 div.sk-parallel-item:first-child::after {align-self: flex-end;width: 50%;}#sk-container-id-7 div.sk-parallel-item:last-child::after {align-self: flex-start;width: 50%;}#sk-container-id-7 div.sk-parallel-item:only-child::after {width: 0;}#sk-container-id-7 div.sk-dashed-wrapped {border: 1px dashed gray;margin: 0 0.4em 0.5em 0.4em;box-sizing: border-box;padding-bottom: 0.4em;background-color: white;}#sk-container-id-7 div.sk-label label {font-family: monospace;font-weight: bold;display: inline-block;line-height: 1.2em;}#sk-container-id-7 div.sk-label-container {text-align: center;}#sk-container-id-7 div.sk-container {/* jupyter's `normalize.less` sets `[hidden] { display: none; }` but bootstrap.min.css set `[hidden] { display: none !important; }` so we also need the `!important` here to be able to override the default hidden behavior on the sphinx rendered scikit-learn.org. See: https://github.com/scikit-learn/scikit-learn/issues/21755 */display: inline-block !important;position: relative;}#sk-container-id-7 div.sk-text-repr-fallback {display: none;}</style><div id=\"sk-container-id-7\" class=\"sk-top-container\"><div class=\"sk-text-repr-fallback\"><pre>KNeighborsClassifier(n_neighbors=10)</pre><b>In a Jupyter environment, please rerun this cell to show the HTML representation or trust the notebook. <br />On GitHub, the HTML representation is unable to render, please try loading this page with nbviewer.org.</b></div><div class=\"sk-container\" hidden><div class=\"sk-item\"><div class=\"sk-estimator sk-toggleable\"><input class=\"sk-toggleable__control sk-hidden--visually\" id=\"sk-estimator-id-7\" type=\"checkbox\" checked><label for=\"sk-estimator-id-7\" class=\"sk-toggleable__label sk-toggleable__label-arrow\">KNeighborsClassifier</label><div class=\"sk-toggleable__content\"><pre>KNeighborsClassifier(n_neighbors=10)</pre></div></div></div></div></div>"
      ],
      "text/plain": [
       "KNeighborsClassifier(n_neighbors=10)"
      ]
     },
     "execution_count": 730,
     "metadata": {},
     "output_type": "execute_result"
    }
   ],
   "source": [
    "KNN_model"
   ]
  },
  {
   "cell_type": "code",
   "execution_count": 731,
   "id": "7857a924-ac95-426d-a853-533c796c3b46",
   "metadata": {
    "execution": {
     "iopub.execute_input": "2024-01-11T06:27:42.652629Z",
     "iopub.status.busy": "2024-01-11T06:27:42.651626Z",
     "iopub.status.idle": "2024-01-11T06:27:42.691636Z",
     "shell.execute_reply": "2024-01-11T06:27:42.689636Z",
     "shell.execute_reply.started": "2024-01-11T06:27:42.652629Z"
    }
   },
   "outputs": [
    {
     "data": {
      "text/html": [
       "<div>\n",
       "<style scoped>\n",
       "    .dataframe tbody tr th:only-of-type {\n",
       "        vertical-align: middle;\n",
       "    }\n",
       "\n",
       "    .dataframe tbody tr th {\n",
       "        vertical-align: top;\n",
       "    }\n",
       "\n",
       "    .dataframe thead th {\n",
       "        text-align: right;\n",
       "    }\n",
       "</style>\n",
       "<table border=\"1\" class=\"dataframe\">\n",
       "  <thead>\n",
       "    <tr style=\"text-align: right;\">\n",
       "      <th></th>\n",
       "      <th>nilai_transaksi</th>\n",
       "      <th>waktu_transaksi</th>\n",
       "      <th>rata_rata_nilai_transaksi</th>\n",
       "      <th>maksimum_nilai_transaksi</th>\n",
       "      <th>minimum_nilai_transaksi</th>\n",
       "      <th>rata_rata_jumlah_transaksi</th>\n",
       "    </tr>\n",
       "  </thead>\n",
       "  <tbody>\n",
       "    <tr>\n",
       "      <th>0</th>\n",
       "      <td>2200000.0</td>\n",
       "      <td>193955</td>\n",
       "      <td>1.332293e+06</td>\n",
       "      <td>9750000.0</td>\n",
       "      <td>10000.0</td>\n",
       "      <td>2.73</td>\n",
       "    </tr>\n",
       "    <tr>\n",
       "      <th>1</th>\n",
       "      <td>2500000.0</td>\n",
       "      <td>73140</td>\n",
       "      <td>1.369048e+06</td>\n",
       "      <td>10000000.0</td>\n",
       "      <td>30000.0</td>\n",
       "      <td>2.33</td>\n",
       "    </tr>\n",
       "    <tr>\n",
       "      <th>2</th>\n",
       "      <td>1200000.0</td>\n",
       "      <td>140216</td>\n",
       "      <td>1.552346e+07</td>\n",
       "      <td>100000000.0</td>\n",
       "      <td>41804.0</td>\n",
       "      <td>2.40</td>\n",
       "    </tr>\n",
       "    <tr>\n",
       "      <th>3</th>\n",
       "      <td>320000.0</td>\n",
       "      <td>155117</td>\n",
       "      <td>7.117647e+05</td>\n",
       "      <td>6884408.0</td>\n",
       "      <td>10000.0</td>\n",
       "      <td>1.98</td>\n",
       "    </tr>\n",
       "    <tr>\n",
       "      <th>4</th>\n",
       "      <td>150000.0</td>\n",
       "      <td>143339</td>\n",
       "      <td>6.179683e+05</td>\n",
       "      <td>2500000.0</td>\n",
       "      <td>100000.0</td>\n",
       "      <td>1.46</td>\n",
       "    </tr>\n",
       "    <tr>\n",
       "      <th>...</th>\n",
       "      <td>...</td>\n",
       "      <td>...</td>\n",
       "      <td>...</td>\n",
       "      <td>...</td>\n",
       "      <td>...</td>\n",
       "      <td>...</td>\n",
       "    </tr>\n",
       "    <tr>\n",
       "      <th>13120</th>\n",
       "      <td>100000.0</td>\n",
       "      <td>140547</td>\n",
       "      <td>2.917987e+06</td>\n",
       "      <td>7400000.0</td>\n",
       "      <td>26500.0</td>\n",
       "      <td>2.57</td>\n",
       "    </tr>\n",
       "    <tr>\n",
       "      <th>13121</th>\n",
       "      <td>2500000.0</td>\n",
       "      <td>172446</td>\n",
       "      <td>1.914437e+06</td>\n",
       "      <td>20000000.0</td>\n",
       "      <td>100000.0</td>\n",
       "      <td>2.73</td>\n",
       "    </tr>\n",
       "    <tr>\n",
       "      <th>13122</th>\n",
       "      <td>1250000.0</td>\n",
       "      <td>141836</td>\n",
       "      <td>3.417045e+05</td>\n",
       "      <td>1000000.0</td>\n",
       "      <td>100000.0</td>\n",
       "      <td>1.33</td>\n",
       "    </tr>\n",
       "    <tr>\n",
       "      <th>13123</th>\n",
       "      <td>500000.0</td>\n",
       "      <td>71451</td>\n",
       "      <td>7.644508e+05</td>\n",
       "      <td>3000000.0</td>\n",
       "      <td>25000.0</td>\n",
       "      <td>1.62</td>\n",
       "    </tr>\n",
       "    <tr>\n",
       "      <th>13124</th>\n",
       "      <td>300000.0</td>\n",
       "      <td>175350</td>\n",
       "      <td>8.483696e+05</td>\n",
       "      <td>6375000.0</td>\n",
       "      <td>25000.0</td>\n",
       "      <td>1.79</td>\n",
       "    </tr>\n",
       "  </tbody>\n",
       "</table>\n",
       "<p>13104 rows × 6 columns</p>\n",
       "</div>"
      ],
      "text/plain": [
       "       nilai_transaksi  waktu_transaksi  rata_rata_nilai_transaksi  \\\n",
       "0            2200000.0           193955               1.332293e+06   \n",
       "1            2500000.0            73140               1.369048e+06   \n",
       "2            1200000.0           140216               1.552346e+07   \n",
       "3             320000.0           155117               7.117647e+05   \n",
       "4             150000.0           143339               6.179683e+05   \n",
       "...                ...              ...                        ...   \n",
       "13120         100000.0           140547               2.917987e+06   \n",
       "13121        2500000.0           172446               1.914437e+06   \n",
       "13122        1250000.0           141836               3.417045e+05   \n",
       "13123         500000.0            71451               7.644508e+05   \n",
       "13124         300000.0           175350               8.483696e+05   \n",
       "\n",
       "       maksimum_nilai_transaksi  minimum_nilai_transaksi  \\\n",
       "0                     9750000.0                  10000.0   \n",
       "1                    10000000.0                  30000.0   \n",
       "2                   100000000.0                  41804.0   \n",
       "3                     6884408.0                  10000.0   \n",
       "4                     2500000.0                 100000.0   \n",
       "...                         ...                      ...   \n",
       "13120                 7400000.0                  26500.0   \n",
       "13121                20000000.0                 100000.0   \n",
       "13122                 1000000.0                 100000.0   \n",
       "13123                 3000000.0                  25000.0   \n",
       "13124                 6375000.0                  25000.0   \n",
       "\n",
       "       rata_rata_jumlah_transaksi  \n",
       "0                            2.73  \n",
       "1                            2.33  \n",
       "2                            2.40  \n",
       "3                            1.98  \n",
       "4                            1.46  \n",
       "...                           ...  \n",
       "13120                        2.57  \n",
       "13121                        2.73  \n",
       "13122                        1.33  \n",
       "13123                        1.62  \n",
       "13124                        1.79  \n",
       "\n",
       "[13104 rows x 6 columns]"
      ]
     },
     "execution_count": 731,
     "metadata": {},
     "output_type": "execute_result"
    }
   ],
   "source": [
    "fraud_clean_num = fraud_clean_enc.iloc[:, :6]\n",
    "fraud_clean_num"
   ]
  },
  {
   "cell_type": "code",
   "execution_count": 732,
   "id": "fd29b95a-2719-4001-a363-d00a6c75dd1a",
   "metadata": {
    "execution": {
     "iopub.execute_input": "2024-01-11T06:27:45.178869Z",
     "iopub.status.busy": "2024-01-11T06:27:45.178869Z",
     "iopub.status.idle": "2024-01-11T06:27:45.207706Z",
     "shell.execute_reply": "2024-01-11T06:27:45.205700Z",
     "shell.execute_reply.started": "2024-01-11T06:27:45.178869Z"
    }
   },
   "outputs": [],
   "source": [
    "# prediktor\n",
    "X = fraud_clean_num\n",
    "# target\n",
    "y = fraud_clean_enc['flag_transaksi_fraud']\n",
    "\n",
    "# Split dataset\n",
    "X_train, X_test, y_train, y_test = train_test_split(X, # kolom prediktor\n",
    "                                                   y, # kolom target\n",
    "                                                   test_size = 0.2, # 80% training and 20% test\n",
    "                                                   random_state = 10,\n",
    "                                                   stratify = y)"
   ]
  },
  {
   "cell_type": "markdown",
   "id": "eabdaeb7-3de4-45f7-b9a5-c688ad27cf31",
   "metadata": {},
   "source": [
    "### Scaling"
   ]
  },
  {
   "cell_type": "code",
   "execution_count": 733,
   "id": "2263718e-baee-48e4-b738-550b0410d562",
   "metadata": {
    "execution": {
     "iopub.execute_input": "2024-01-11T06:27:51.978957Z",
     "iopub.status.busy": "2024-01-11T06:27:51.977965Z",
     "iopub.status.idle": "2024-01-11T06:27:52.005957Z",
     "shell.execute_reply": "2024-01-11T06:27:52.003955Z",
     "shell.execute_reply.started": "2024-01-11T06:27:51.978957Z"
    }
   },
   "outputs": [],
   "source": [
    "cols = X_train.columns\n",
    "\n",
    "scaler.fit(X_train)\n",
    "\n",
    "X_train_scale = scaler.transform(X_train)\n",
    "X_test_scale = scaler.transform(X_test)"
   ]
  },
  {
   "cell_type": "code",
   "execution_count": 734,
   "id": "5bb41afe-f231-4a45-b758-ded6977497dd",
   "metadata": {
    "execution": {
     "iopub.execute_input": "2024-01-11T06:28:17.667342Z",
     "iopub.status.busy": "2024-01-11T06:28:17.666335Z",
     "iopub.status.idle": "2024-01-11T06:28:18.472487Z",
     "shell.execute_reply": "2024-01-11T06:28:18.470489Z",
     "shell.execute_reply.started": "2024-01-11T06:28:17.667342Z"
    }
   },
   "outputs": [],
   "source": [
    "KNN_model.fit(X_train_scale, y_train)\n",
    "pred_knn_tr = KNN_model.predict(X_train_scale)"
   ]
  },
  {
   "cell_type": "code",
   "execution_count": 735,
   "id": "23c0a2ad-79d5-41df-999b-55e9f84c93e0",
   "metadata": {
    "execution": {
     "iopub.execute_input": "2024-01-11T06:28:39.038496Z",
     "iopub.status.busy": "2024-01-11T06:28:39.037499Z",
     "iopub.status.idle": "2024-01-11T06:28:39.060493Z",
     "shell.execute_reply": "2024-01-11T06:28:39.058499Z",
     "shell.execute_reply.started": "2024-01-11T06:28:39.038496Z"
    }
   },
   "outputs": [
    {
     "name": "stdout",
     "output_type": "stream",
     "text": [
      "Accuracy score: 0.9324620814652295\n",
      "Recall score: 0.013986013986013986\n",
      "Precision score: 0.7692307692307693\n"
     ]
    }
   ],
   "source": [
    "print(f'Accuracy score: {accuracy_score(y_train, pred_knn_tr)}')\n",
    "print(f'Recall score: {recall_score(y_train, pred_knn_tr)}')\n",
    "print(f'Precision score: {precision_score(y_train, pred_knn_tr)}')"
   ]
  },
  {
   "cell_type": "markdown",
   "id": "0898929a-6bab-4984-a9a0-ef8b78e04bd0",
   "metadata": {},
   "source": [
    "Precision score dari KNN sudah cukup memuaskan karena sudah diatas 60%"
   ]
  },
  {
   "cell_type": "code",
   "execution_count": 736,
   "id": "403ada2a-471e-4957-9bb0-155a6d5615df",
   "metadata": {
    "execution": {
     "iopub.execute_input": "2024-01-11T06:29:02.147081Z",
     "iopub.status.busy": "2024-01-11T06:29:02.147081Z",
     "iopub.status.idle": "2024-01-11T06:29:02.371400Z",
     "shell.execute_reply": "2024-01-11T06:29:02.369408Z",
     "shell.execute_reply.started": "2024-01-11T06:29:02.147081Z"
    }
   },
   "outputs": [],
   "source": [
    "KNN_model.fit(X_train_scale, y_train)\n",
    "pred_knn_label = KNN_model.predict(X_test_scale)"
   ]
  },
  {
   "cell_type": "code",
   "execution_count": 737,
   "id": "c667b3c8-155f-4272-899f-41f5f666842f",
   "metadata": {
    "execution": {
     "iopub.execute_input": "2024-01-11T06:29:02.966809Z",
     "iopub.status.busy": "2024-01-11T06:29:02.966809Z",
     "iopub.status.idle": "2024-01-11T06:29:02.997074Z",
     "shell.execute_reply": "2024-01-11T06:29:02.996105Z",
     "shell.execute_reply.started": "2024-01-11T06:29:02.966809Z"
    }
   },
   "outputs": [
    {
     "name": "stdout",
     "output_type": "stream",
     "text": [
      "Accuracy score: 0.9328500572300649\n",
      "Recall score: 0.01675977653631285\n",
      "Precision score: 1.0\n"
     ]
    }
   ],
   "source": [
    "print(f'Accuracy score: {accuracy_score(y_test, pred_knn_label)}')\n",
    "print(f'Recall score: {recall_score(y_test, pred_knn_label)}')\n",
    "print(f'Precision score: {precision_score(y_test, pred_knn_label)}')"
   ]
  },
  {
   "cell_type": "markdown",
   "id": "230aff19-f34c-4753-bbd7-b52100dd7eb7",
   "metadata": {},
   "source": [
    "Didapatkan score precisision dari Data Test yang lebih tinggi lagi sehingga dianggap modelnya **underfitting** (hasil train < hasil test) "
   ]
  },
  {
   "cell_type": "markdown",
   "id": "f96aac34-baab-4a91-9378-dbcf3918f8a8",
   "metadata": {},
   "source": [
    "## Conclusion\n",
    "\n",
    "### (2 poin) Tuliskan kesimpulan dari project yang anda kerjakan.\n",
    "\n",
    "- Apakah model sudah dapat melakukan prediksi dengan baik? Jelaskan\n",
    "\n",
    "Sudah cukup baik karena memenuhi pertanyaan bisnis untuk metric `precision` diatas 60%. Untuk kedua model `Logit()` dan `KNN()` sudah cukup memuaskan dengan hasil `KNN()` yang lebih baik pada Data Test. Kedua model tersebut juga perlu dilakukan tuning parameter seperti `threshold` di logit dan `n_neighbor` di KNN agar mendapatkan hasil yang diinginkan\n",
    "\n",
    "- Apakah model sudah dapat menjawab pertanyaan bisnis yang ada? Jelaskan.\n",
    "\n",
    "Sudah, karena pertanyaan bisnisnya mendeteksi fraud sebaik mungkin. Dikarenakan ketidakseimbangan jumlah target, maka metric yang digunakan pun harus tepat untuk fokus melihat True Positive sebaik mungkin dan melihat False Negative sesedikit mungkin. Dari hasil diatas, model Logit dan KNN sudah bekerja dengan baik sudah memenuhi standar presisi yang diinginkan.\n",
    "\n",
    "- Action plan apa yang dapat dilakukan untuk tindakan preventif transaksi fraud?\n",
    "  \n",
    "Berdasarkan hasil dari model Logit, maka perlu diwaspadai saat ada momen `nilai_transaksi`, `minimum_nilai_transaksi`, tinggi serta mempunyai `kepemilikan_kartu` 2 dan melakukan `id_channel` selain 3 dikarenakan variabel - variabel ber koefisiensi positive terhadap model dalam memberikan peluang positif Fraud "
   ]
  },
  {
   "cell_type": "markdown",
   "id": "896dc5b8-ddd6-4edc-8da9-95b5de2c417e",
   "metadata": {},
   "source": [
    "## Freestyle SMOTE dan XGBoost"
   ]
  },
  {
   "cell_type": "code",
   "execution_count": 739,
   "id": "3c20621d-faf2-4ee3-8fb9-40a835f921c0",
   "metadata": {
    "execution": {
     "iopub.execute_input": "2024-01-11T07:06:20.510935Z",
     "iopub.status.busy": "2024-01-11T07:06:20.509946Z",
     "iopub.status.idle": "2024-01-11T07:06:20.521756Z",
     "shell.execute_reply": "2024-01-11T07:06:20.519744Z",
     "shell.execute_reply.started": "2024-01-11T07:06:20.510935Z"
    }
   },
   "outputs": [
    {
     "data": {
      "text/plain": [
       "Index(['nilai_transaksi', 'waktu_transaksi', 'rata_rata_nilai_transaksi',\n",
       "       'maksimum_nilai_transaksi', 'minimum_nilai_transaksi',\n",
       "       'rata_rata_jumlah_transaksi', 'flag_transaksi_fraud',\n",
       "       'kuartal_transaksi_2', 'kuartal_transaksi_3', 'kuartal_transaksi_4',\n",
       "       'kepemilikan_kartu_2', 'id_channel_4', 'id_channel_8', 'id_channel_9'],\n",
       "      dtype='object')"
      ]
     },
     "execution_count": 739,
     "metadata": {},
     "output_type": "execute_result"
    }
   ],
   "source": [
    "fraud_clean_enc"
   ]
  },
  {
   "cell_type": "code",
   "execution_count": 740,
   "id": "f0a550e9-efc7-4650-81ad-2e54ee02aacc",
   "metadata": {
    "execution": {
     "iopub.execute_input": "2024-01-11T07:08:07.492001Z",
     "iopub.status.busy": "2024-01-11T07:08:07.491002Z",
     "iopub.status.idle": "2024-01-11T07:08:07.874994Z",
     "shell.execute_reply": "2024-01-11T07:08:07.873991Z",
     "shell.execute_reply.started": "2024-01-11T07:08:07.492001Z"
    }
   },
   "outputs": [],
   "source": [
    "from imblearn.combine import SMOTEENN\n",
    "\n",
    "sme = SMOTEENN(random_state=10)"
   ]
  },
  {
   "cell_type": "code",
   "execution_count": 742,
   "id": "51f65f02-54f0-4e6a-9a95-cbb867a0d363",
   "metadata": {
    "execution": {
     "iopub.execute_input": "2024-01-11T07:09:13.686846Z",
     "iopub.status.busy": "2024-01-11T07:09:13.685829Z",
     "iopub.status.idle": "2024-01-11T07:09:13.696834Z",
     "shell.execute_reply": "2024-01-11T07:09:13.695833Z",
     "shell.execute_reply.started": "2024-01-11T07:09:13.686846Z"
    }
   },
   "outputs": [],
   "source": [
    "X_0 = fraud_clean_enc.drop(columns='flag_transaksi_fraud')\n",
    "y_0 = fraud_clean_enc['flag_transaksi_fraud']"
   ]
  },
  {
   "cell_type": "code",
   "execution_count": 743,
   "id": "4e4bbbf4-590a-4732-a0c0-a77c936d7c3b",
   "metadata": {
    "execution": {
     "iopub.execute_input": "2024-01-11T07:09:28.660813Z",
     "iopub.status.busy": "2024-01-11T07:09:28.659810Z",
     "iopub.status.idle": "2024-01-11T07:09:29.171741Z",
     "shell.execute_reply": "2024-01-11T07:09:29.169756Z",
     "shell.execute_reply.started": "2024-01-11T07:09:28.660813Z"
    }
   },
   "outputs": [],
   "source": [
    "X_res, y_res = sme.fit_resample(X_0, y_0)"
   ]
  },
  {
   "cell_type": "code",
   "execution_count": 744,
   "id": "9329c83d-7a48-4002-bc3b-6ff419ad6517",
   "metadata": {
    "execution": {
     "iopub.execute_input": "2024-01-11T07:09:42.835877Z",
     "iopub.status.busy": "2024-01-11T07:09:42.835877Z",
     "iopub.status.idle": "2024-01-11T07:09:42.847052Z",
     "shell.execute_reply": "2024-01-11T07:09:42.846051Z",
     "shell.execute_reply.started": "2024-01-11T07:09:42.835877Z"
    }
   },
   "outputs": [
    {
     "data": {
      "text/plain": [
       "flag_transaksi_fraud\n",
       "1    10106\n",
       "0     8553\n",
       "Name: count, dtype: int64"
      ]
     },
     "execution_count": 744,
     "metadata": {},
     "output_type": "execute_result"
    }
   ],
   "source": [
    "y_res.value_counts()"
   ]
  },
  {
   "cell_type": "code",
   "execution_count": 755,
   "id": "b0645058-f3e5-40d9-85c2-f2ca2e765225",
   "metadata": {
    "execution": {
     "iopub.execute_input": "2024-01-11T07:15:58.630940Z",
     "iopub.status.busy": "2024-01-11T07:15:58.630940Z",
     "iopub.status.idle": "2024-01-11T07:15:58.652941Z",
     "shell.execute_reply": "2024-01-11T07:15:58.649969Z",
     "shell.execute_reply.started": "2024-01-11T07:15:58.630940Z"
    }
   },
   "outputs": [
    {
     "data": {
      "text/plain": [
       "(18659, 13)"
      ]
     },
     "execution_count": 755,
     "metadata": {},
     "output_type": "execute_result"
    }
   ],
   "source": [
    "X_res.shape"
   ]
  },
  {
   "cell_type": "code",
   "execution_count": 758,
   "id": "86b63391-8590-4a27-a3e3-ef5bffeda394",
   "metadata": {
    "execution": {
     "iopub.execute_input": "2024-01-11T07:16:57.437062Z",
     "iopub.status.busy": "2024-01-11T07:16:57.437062Z",
     "iopub.status.idle": "2024-01-11T07:16:57.456053Z",
     "shell.execute_reply": "2024-01-11T07:16:57.455055Z",
     "shell.execute_reply.started": "2024-01-11T07:16:57.437062Z"
    }
   },
   "outputs": [
    {
     "data": {
      "text/plain": [
       "flag_transaksi_fraud\n",
       "0    12210\n",
       "1      894\n",
       "Name: count, dtype: int64"
      ]
     },
     "execution_count": 758,
     "metadata": {},
     "output_type": "execute_result"
    }
   ],
   "source": [
    "fraud_clean_enc['flag_transaksi_fraud'].value_counts()"
   ]
  },
  {
   "cell_type": "code",
   "execution_count": 748,
   "id": "134fb2f5-c47a-4e56-8b27-533f67418566",
   "metadata": {
    "execution": {
     "iopub.execute_input": "2024-01-11T07:12:28.249296Z",
     "iopub.status.busy": "2024-01-11T07:12:28.248288Z",
     "iopub.status.idle": "2024-01-11T07:12:28.261289Z",
     "shell.execute_reply": "2024-01-11T07:12:28.260306Z",
     "shell.execute_reply.started": "2024-01-11T07:12:28.249296Z"
    }
   },
   "outputs": [],
   "source": [
    "from xgboost import XGBClassifier\n",
    "\n",
    "xgb = XGBClassifier(random_state=10)"
   ]
  },
  {
   "cell_type": "code",
   "execution_count": 749,
   "id": "159200c3-4489-4cf8-942d-1070728954fd",
   "metadata": {
    "execution": {
     "iopub.execute_input": "2024-01-11T07:12:31.018137Z",
     "iopub.status.busy": "2024-01-11T07:12:31.018137Z",
     "iopub.status.idle": "2024-01-11T07:12:31.052132Z",
     "shell.execute_reply": "2024-01-11T07:12:31.051131Z",
     "shell.execute_reply.started": "2024-01-11T07:12:31.018137Z"
    }
   },
   "outputs": [],
   "source": [
    "X_train, X_test, y_train, y_test = train_test_split(X_res, # kolom prediktor\n",
    "                                                   y_res, # kolom target\n",
    "                                                   test_size = 0.2, # 80% training and 20% test\n",
    "                                                   random_state = 10,\n",
    "                                                   stratify = y_res)"
   ]
  },
  {
   "cell_type": "code",
   "execution_count": 750,
   "id": "ff2ac445-d512-4c28-9da8-e39ae2d16481",
   "metadata": {
    "execution": {
     "iopub.execute_input": "2024-01-11T07:12:44.385526Z",
     "iopub.status.busy": "2024-01-11T07:12:44.385526Z",
     "iopub.status.idle": "2024-01-11T07:12:44.721522Z",
     "shell.execute_reply": "2024-01-11T07:12:44.720519Z",
     "shell.execute_reply.started": "2024-01-11T07:12:44.385526Z"
    }
   },
   "outputs": [
    {
     "data": {
      "text/html": [
       "<style>#sk-container-id-8 {color: black;}#sk-container-id-8 pre{padding: 0;}#sk-container-id-8 div.sk-toggleable {background-color: white;}#sk-container-id-8 label.sk-toggleable__label {cursor: pointer;display: block;width: 100%;margin-bottom: 0;padding: 0.3em;box-sizing: border-box;text-align: center;}#sk-container-id-8 label.sk-toggleable__label-arrow:before {content: \"▸\";float: left;margin-right: 0.25em;color: #696969;}#sk-container-id-8 label.sk-toggleable__label-arrow:hover:before {color: black;}#sk-container-id-8 div.sk-estimator:hover label.sk-toggleable__label-arrow:before {color: black;}#sk-container-id-8 div.sk-toggleable__content {max-height: 0;max-width: 0;overflow: hidden;text-align: left;background-color: #f0f8ff;}#sk-container-id-8 div.sk-toggleable__content pre {margin: 0.2em;color: black;border-radius: 0.25em;background-color: #f0f8ff;}#sk-container-id-8 input.sk-toggleable__control:checked~div.sk-toggleable__content {max-height: 200px;max-width: 100%;overflow: auto;}#sk-container-id-8 input.sk-toggleable__control:checked~label.sk-toggleable__label-arrow:before {content: \"▾\";}#sk-container-id-8 div.sk-estimator input.sk-toggleable__control:checked~label.sk-toggleable__label {background-color: #d4ebff;}#sk-container-id-8 div.sk-label input.sk-toggleable__control:checked~label.sk-toggleable__label {background-color: #d4ebff;}#sk-container-id-8 input.sk-hidden--visually {border: 0;clip: rect(1px 1px 1px 1px);clip: rect(1px, 1px, 1px, 1px);height: 1px;margin: -1px;overflow: hidden;padding: 0;position: absolute;width: 1px;}#sk-container-id-8 div.sk-estimator {font-family: monospace;background-color: #f0f8ff;border: 1px dotted black;border-radius: 0.25em;box-sizing: border-box;margin-bottom: 0.5em;}#sk-container-id-8 div.sk-estimator:hover {background-color: #d4ebff;}#sk-container-id-8 div.sk-parallel-item::after {content: \"\";width: 100%;border-bottom: 1px solid gray;flex-grow: 1;}#sk-container-id-8 div.sk-label:hover label.sk-toggleable__label {background-color: #d4ebff;}#sk-container-id-8 div.sk-serial::before {content: \"\";position: absolute;border-left: 1px solid gray;box-sizing: border-box;top: 0;bottom: 0;left: 50%;z-index: 0;}#sk-container-id-8 div.sk-serial {display: flex;flex-direction: column;align-items: center;background-color: white;padding-right: 0.2em;padding-left: 0.2em;position: relative;}#sk-container-id-8 div.sk-item {position: relative;z-index: 1;}#sk-container-id-8 div.sk-parallel {display: flex;align-items: stretch;justify-content: center;background-color: white;position: relative;}#sk-container-id-8 div.sk-item::before, #sk-container-id-8 div.sk-parallel-item::before {content: \"\";position: absolute;border-left: 1px solid gray;box-sizing: border-box;top: 0;bottom: 0;left: 50%;z-index: -1;}#sk-container-id-8 div.sk-parallel-item {display: flex;flex-direction: column;z-index: 1;position: relative;background-color: white;}#sk-container-id-8 div.sk-parallel-item:first-child::after {align-self: flex-end;width: 50%;}#sk-container-id-8 div.sk-parallel-item:last-child::after {align-self: flex-start;width: 50%;}#sk-container-id-8 div.sk-parallel-item:only-child::after {width: 0;}#sk-container-id-8 div.sk-dashed-wrapped {border: 1px dashed gray;margin: 0 0.4em 0.5em 0.4em;box-sizing: border-box;padding-bottom: 0.4em;background-color: white;}#sk-container-id-8 div.sk-label label {font-family: monospace;font-weight: bold;display: inline-block;line-height: 1.2em;}#sk-container-id-8 div.sk-label-container {text-align: center;}#sk-container-id-8 div.sk-container {/* jupyter's `normalize.less` sets `[hidden] { display: none; }` but bootstrap.min.css set `[hidden] { display: none !important; }` so we also need the `!important` here to be able to override the default hidden behavior on the sphinx rendered scikit-learn.org. See: https://github.com/scikit-learn/scikit-learn/issues/21755 */display: inline-block !important;position: relative;}#sk-container-id-8 div.sk-text-repr-fallback {display: none;}</style><div id=\"sk-container-id-8\" class=\"sk-top-container\"><div class=\"sk-text-repr-fallback\"><pre>XGBClassifier(base_score=None, booster=None, callbacks=None,\n",
       "              colsample_bylevel=None, colsample_bynode=None,\n",
       "              colsample_bytree=None, device=None, early_stopping_rounds=None,\n",
       "              enable_categorical=False, eval_metric=None, feature_types=None,\n",
       "              gamma=None, grow_policy=None, importance_type=None,\n",
       "              interaction_constraints=None, learning_rate=None, max_bin=None,\n",
       "              max_cat_threshold=None, max_cat_to_onehot=None,\n",
       "              max_delta_step=None, max_depth=None, max_leaves=None,\n",
       "              min_child_weight=None, missing=nan, monotone_constraints=None,\n",
       "              multi_strategy=None, n_estimators=None, n_jobs=None,\n",
       "              num_parallel_tree=None, random_state=10, ...)</pre><b>In a Jupyter environment, please rerun this cell to show the HTML representation or trust the notebook. <br />On GitHub, the HTML representation is unable to render, please try loading this page with nbviewer.org.</b></div><div class=\"sk-container\" hidden><div class=\"sk-item\"><div class=\"sk-estimator sk-toggleable\"><input class=\"sk-toggleable__control sk-hidden--visually\" id=\"sk-estimator-id-8\" type=\"checkbox\" checked><label for=\"sk-estimator-id-8\" class=\"sk-toggleable__label sk-toggleable__label-arrow\">XGBClassifier</label><div class=\"sk-toggleable__content\"><pre>XGBClassifier(base_score=None, booster=None, callbacks=None,\n",
       "              colsample_bylevel=None, colsample_bynode=None,\n",
       "              colsample_bytree=None, device=None, early_stopping_rounds=None,\n",
       "              enable_categorical=False, eval_metric=None, feature_types=None,\n",
       "              gamma=None, grow_policy=None, importance_type=None,\n",
       "              interaction_constraints=None, learning_rate=None, max_bin=None,\n",
       "              max_cat_threshold=None, max_cat_to_onehot=None,\n",
       "              max_delta_step=None, max_depth=None, max_leaves=None,\n",
       "              min_child_weight=None, missing=nan, monotone_constraints=None,\n",
       "              multi_strategy=None, n_estimators=None, n_jobs=None,\n",
       "              num_parallel_tree=None, random_state=10, ...)</pre></div></div></div></div></div>"
      ],
      "text/plain": [
       "XGBClassifier(base_score=None, booster=None, callbacks=None,\n",
       "              colsample_bylevel=None, colsample_bynode=None,\n",
       "              colsample_bytree=None, device=None, early_stopping_rounds=None,\n",
       "              enable_categorical=False, eval_metric=None, feature_types=None,\n",
       "              gamma=None, grow_policy=None, importance_type=None,\n",
       "              interaction_constraints=None, learning_rate=None, max_bin=None,\n",
       "              max_cat_threshold=None, max_cat_to_onehot=None,\n",
       "              max_delta_step=None, max_depth=None, max_leaves=None,\n",
       "              min_child_weight=None, missing=nan, monotone_constraints=None,\n",
       "              multi_strategy=None, n_estimators=None, n_jobs=None,\n",
       "              num_parallel_tree=None, random_state=10, ...)"
      ]
     },
     "execution_count": 750,
     "metadata": {},
     "output_type": "execute_result"
    }
   ],
   "source": [
    "xgb.fit(X_train, y_train)"
   ]
  },
  {
   "cell_type": "code",
   "execution_count": 751,
   "id": "81234ba1-95ce-446d-bd4e-e0d0569e804f",
   "metadata": {
    "execution": {
     "iopub.execute_input": "2024-01-11T07:13:18.311275Z",
     "iopub.status.busy": "2024-01-11T07:13:18.310278Z",
     "iopub.status.idle": "2024-01-11T07:13:18.355802Z",
     "shell.execute_reply": "2024-01-11T07:13:18.353803Z",
     "shell.execute_reply.started": "2024-01-11T07:13:18.311275Z"
    }
   },
   "outputs": [
    {
     "data": {
      "text/plain": [
       "array([0, 1, 0, ..., 1, 1, 0])"
      ]
     },
     "execution_count": 751,
     "metadata": {},
     "output_type": "execute_result"
    }
   ],
   "source": [
    "pred_tr = xgb.predict(X_train)\n",
    "pred_tr"
   ]
  },
  {
   "cell_type": "code",
   "execution_count": 752,
   "id": "a57a4cdc-9fad-42ec-8954-5a5afa93d08e",
   "metadata": {
    "execution": {
     "iopub.execute_input": "2024-01-11T07:13:39.760147Z",
     "iopub.status.busy": "2024-01-11T07:13:39.759148Z",
     "iopub.status.idle": "2024-01-11T07:13:39.787144Z",
     "shell.execute_reply": "2024-01-11T07:13:39.786141Z",
     "shell.execute_reply.started": "2024-01-11T07:13:39.760147Z"
    }
   },
   "outputs": [
    {
     "name": "stdout",
     "output_type": "stream",
     "text": [
      "Accuracy score: 0.9952435184564883\n",
      "Recall score: 0.9922077922077922\n",
      "Precision score: 0.9990037359900373\n"
     ]
    }
   ],
   "source": [
    "print(f'Accuracy score: {accuracy_score(y_train, pred_tr)}')\n",
    "print(f'Recall score: {recall_score(y_train, pred_tr)}')\n",
    "print(f'Precision score: {precision_score(y_train, pred_tr)}')"
   ]
  },
  {
   "cell_type": "code",
   "execution_count": 753,
   "id": "6a72f345-6b7b-4a39-832b-f7de5bacb9b0",
   "metadata": {
    "execution": {
     "iopub.execute_input": "2024-01-11T07:14:28.247936Z",
     "iopub.status.busy": "2024-01-11T07:14:28.246942Z",
     "iopub.status.idle": "2024-01-11T07:14:28.281054Z",
     "shell.execute_reply": "2024-01-11T07:14:28.279046Z",
     "shell.execute_reply.started": "2024-01-11T07:14:28.247936Z"
    },
    "scrolled": true
   },
   "outputs": [
    {
     "data": {
      "text/plain": [
       "array([1, 1, 1, ..., 0, 0, 1])"
      ]
     },
     "execution_count": 753,
     "metadata": {},
     "output_type": "execute_result"
    }
   ],
   "source": [
    "pred_ts = xgb.predict(X_test)\n",
    "pred_ts"
   ]
  },
  {
   "cell_type": "code",
   "execution_count": 754,
   "id": "6cd669a0-7f11-4784-b04d-34fac9f3c3ae",
   "metadata": {
    "execution": {
     "iopub.execute_input": "2024-01-11T07:14:52.871106Z",
     "iopub.status.busy": "2024-01-11T07:14:52.870107Z",
     "iopub.status.idle": "2024-01-11T07:14:52.892105Z",
     "shell.execute_reply": "2024-01-11T07:14:52.889105Z",
     "shell.execute_reply.started": "2024-01-11T07:14:52.871106Z"
    }
   },
   "outputs": [
    {
     "name": "stdout",
     "output_type": "stream",
     "text": [
      "Accuracy score: 0.964898177920686\n",
      "Recall score: 0.9609104403760514\n",
      "Precision score: 0.9739217652958877\n"
     ]
    }
   ],
   "source": [
    "print(f'Accuracy score: {accuracy_score(y_test, pred_ts)}')\n",
    "print(f'Recall score: {recall_score(y_test, pred_ts)}')\n",
    "print(f'Precision score: {precision_score(y_test, pred_ts)}')"
   ]
  },
  {
   "cell_type": "code",
   "execution_count": 765,
   "id": "944784b7-a57a-489c-b1ad-6b1fcbb55076",
   "metadata": {
    "execution": {
     "iopub.execute_input": "2024-01-11T07:25:01.172951Z",
     "iopub.status.busy": "2024-01-11T07:25:01.171955Z",
     "iopub.status.idle": "2024-01-11T07:25:01.369966Z",
     "shell.execute_reply": "2024-01-11T07:25:01.367960Z",
     "shell.execute_reply.started": "2024-01-11T07:25:01.171955Z"
    }
   },
   "outputs": [
    {
     "name": "stdout",
     "output_type": "stream",
     "text": [
      "Warning: Maximum number of iterations has been exceeded.\n",
      "         Current function value: 0.290377\n",
      "         Iterations: 35\n"
     ]
    },
    {
     "name": "stderr",
     "output_type": "stream",
     "text": [
      "C:\\Users\\SaltFarmer\\miniconda3\\envs\\algoritma\\lib\\site-packages\\statsmodels\\base\\model.py:607: ConvergenceWarning: Maximum Likelihood optimization failed to converge. Check mle_retvals\n",
      "  warnings.warn(\"Maximum Likelihood optimization failed to \"\n"
     ]
    },
    {
     "data": {
      "text/html": [
       "<table class=\"simpletable\">\n",
       "<caption>Logit Regression Results</caption>\n",
       "<tr>\n",
       "  <th>Dep. Variable:</th>   <td>flag_transaksi_fraud</td> <th>  No. Observations:  </th>  <td> 14927</td> \n",
       "</tr>\n",
       "<tr>\n",
       "  <th>Model:</th>                   <td>Logit</td>        <th>  Df Residuals:      </th>  <td> 14914</td> \n",
       "</tr>\n",
       "<tr>\n",
       "  <th>Method:</th>                   <td>MLE</td>         <th>  Df Model:          </th>  <td>    12</td> \n",
       "</tr>\n",
       "<tr>\n",
       "  <th>Date:</th>              <td>Thu, 11 Jan 2024</td>   <th>  Pseudo R-squ.:     </th>  <td>0.5790</td> \n",
       "</tr>\n",
       "<tr>\n",
       "  <th>Time:</th>                  <td>14:25:01</td>       <th>  Log-Likelihood:    </th> <td> -4334.5</td>\n",
       "</tr>\n",
       "<tr>\n",
       "  <th>converged:</th>               <td>False</td>        <th>  LL-Null:           </th> <td> -10295.</td>\n",
       "</tr>\n",
       "<tr>\n",
       "  <th>Covariance Type:</th>       <td>nonrobust</td>      <th>  LLR p-value:       </th>  <td> 0.000</td> \n",
       "</tr>\n",
       "</table>\n",
       "<table class=\"simpletable\">\n",
       "<tr>\n",
       "               <td></td>                 <th>coef</th>     <th>std err</th>      <th>z</th>      <th>P>|z|</th>  <th>[0.025</th>    <th>0.975]</th>  \n",
       "</tr>\n",
       "<tr>\n",
       "  <th>nilai_transaksi</th>            <td> 2.549e-07</td> <td> 1.37e-08</td> <td>   18.650</td> <td> 0.000</td> <td> 2.28e-07</td> <td> 2.82e-07</td>\n",
       "</tr>\n",
       "<tr>\n",
       "  <th>waktu_transaksi</th>            <td> 4.549e-05</td> <td> 1.14e-06</td> <td>   39.752</td> <td> 0.000</td> <td> 4.32e-05</td> <td> 4.77e-05</td>\n",
       "</tr>\n",
       "<tr>\n",
       "  <th>rata_rata_nilai_transaksi</th>  <td> 6.933e-08</td> <td> 3.18e-08</td> <td>    2.182</td> <td> 0.029</td> <td> 7.07e-09</td> <td> 1.32e-07</td>\n",
       "</tr>\n",
       "<tr>\n",
       "  <th>maksimum_nilai_transaksi</th>   <td>-1.684e-08</td> <td> 2.85e-09</td> <td>   -5.909</td> <td> 0.000</td> <td>-2.24e-08</td> <td>-1.13e-08</td>\n",
       "</tr>\n",
       "<tr>\n",
       "  <th>minimum_nilai_transaksi</th>    <td> 2.725e-06</td> <td> 2.21e-07</td> <td>   12.346</td> <td> 0.000</td> <td> 2.29e-06</td> <td> 3.16e-06</td>\n",
       "</tr>\n",
       "<tr>\n",
       "  <th>rata_rata_jumlah_transaksi</th> <td>   -0.0988</td> <td>    0.024</td> <td>   -4.099</td> <td> 0.000</td> <td>   -0.146</td> <td>   -0.052</td>\n",
       "</tr>\n",
       "<tr>\n",
       "  <th>kuartal_transaksi_2</th>        <td>   -2.9516</td> <td>    0.095</td> <td>  -31.185</td> <td> 0.000</td> <td>   -3.137</td> <td>   -2.766</td>\n",
       "</tr>\n",
       "<tr>\n",
       "  <th>kuartal_transaksi_3</th>        <td>   -5.2644</td> <td>    0.138</td> <td>  -38.187</td> <td> 0.000</td> <td>   -5.535</td> <td>   -4.994</td>\n",
       "</tr>\n",
       "<tr>\n",
       "  <th>kuartal_transaksi_4</th>        <td>   -8.5689</td> <td>    0.202</td> <td>  -42.511</td> <td> 0.000</td> <td>   -8.964</td> <td>   -8.174</td>\n",
       "</tr>\n",
       "<tr>\n",
       "  <th>kepemilikan_kartu_2</th>        <td>   19.4428</td> <td> 2287.246</td> <td>    0.009</td> <td> 0.993</td> <td>-4463.477</td> <td> 4502.362</td>\n",
       "</tr>\n",
       "<tr>\n",
       "  <th>id_channel_4</th>               <td>  -23.9954</td> <td> 2287.246</td> <td>   -0.010</td> <td> 0.992</td> <td>-4506.915</td> <td> 4458.924</td>\n",
       "</tr>\n",
       "<tr>\n",
       "  <th>id_channel_8</th>               <td>   -0.3650</td> <td>    0.106</td> <td>   -3.455</td> <td> 0.001</td> <td>   -0.572</td> <td>   -0.158</td>\n",
       "</tr>\n",
       "<tr>\n",
       "  <th>id_channel_9</th>               <td>  -22.4858</td> <td> 2287.246</td> <td>   -0.010</td> <td> 0.992</td> <td>-4505.405</td> <td> 4460.434</td>\n",
       "</tr>\n",
       "</table>"
      ],
      "text/latex": [
       "\\begin{center}\n",
       "\\begin{tabular}{lclc}\n",
       "\\toprule\n",
       "\\textbf{Dep. Variable:}                & flag\\_transaksi\\_fraud & \\textbf{  No. Observations:  } &    14927    \\\\\n",
       "\\textbf{Model:}                        &         Logit          & \\textbf{  Df Residuals:      } &    14914    \\\\\n",
       "\\textbf{Method:}                       &          MLE           & \\textbf{  Df Model:          } &       12    \\\\\n",
       "\\textbf{Date:}                         &    Thu, 11 Jan 2024    & \\textbf{  Pseudo R-squ.:     } &   0.5790    \\\\\n",
       "\\textbf{Time:}                         &        14:25:01        & \\textbf{  Log-Likelihood:    } &   -4334.5   \\\\\n",
       "\\textbf{converged:}                    &         False          & \\textbf{  LL-Null:           } &   -10295.   \\\\\n",
       "\\textbf{Covariance Type:}              &       nonrobust        & \\textbf{  LLR p-value:       } &    0.000    \\\\\n",
       "\\bottomrule\n",
       "\\end{tabular}\n",
       "\\begin{tabular}{lcccccc}\n",
       "                                       & \\textbf{coef} & \\textbf{std err} & \\textbf{z} & \\textbf{P$> |$z$|$} & \\textbf{[0.025} & \\textbf{0.975]}  \\\\\n",
       "\\midrule\n",
       "\\textbf{nilai\\_transaksi}              &    2.549e-07  &     1.37e-08     &    18.650  &         0.000        &     2.28e-07    &     2.82e-07     \\\\\n",
       "\\textbf{waktu\\_transaksi}              &    4.549e-05  &     1.14e-06     &    39.752  &         0.000        &     4.32e-05    &     4.77e-05     \\\\\n",
       "\\textbf{rata\\_rata\\_nilai\\_transaksi}  &    6.933e-08  &     3.18e-08     &     2.182  &         0.029        &     7.07e-09    &     1.32e-07     \\\\\n",
       "\\textbf{maksimum\\_nilai\\_transaksi}    &   -1.684e-08  &     2.85e-09     &    -5.909  &         0.000        &    -2.24e-08    &    -1.13e-08     \\\\\n",
       "\\textbf{minimum\\_nilai\\_transaksi}     &    2.725e-06  &     2.21e-07     &    12.346  &         0.000        &     2.29e-06    &     3.16e-06     \\\\\n",
       "\\textbf{rata\\_rata\\_jumlah\\_transaksi} &      -0.0988  &        0.024     &    -4.099  &         0.000        &       -0.146    &       -0.052     \\\\\n",
       "\\textbf{kuartal\\_transaksi\\_2}         &      -2.9516  &        0.095     &   -31.185  &         0.000        &       -3.137    &       -2.766     \\\\\n",
       "\\textbf{kuartal\\_transaksi\\_3}         &      -5.2644  &        0.138     &   -38.187  &         0.000        &       -5.535    &       -4.994     \\\\\n",
       "\\textbf{kuartal\\_transaksi\\_4}         &      -8.5689  &        0.202     &   -42.511  &         0.000        &       -8.964    &       -8.174     \\\\\n",
       "\\textbf{kepemilikan\\_kartu\\_2}         &      19.4428  &     2287.246     &     0.009  &         0.993        &    -4463.477    &     4502.362     \\\\\n",
       "\\textbf{id\\_channel\\_4}                &     -23.9954  &     2287.246     &    -0.010  &         0.992        &    -4506.915    &     4458.924     \\\\\n",
       "\\textbf{id\\_channel\\_8}                &      -0.3650  &        0.106     &    -3.455  &         0.001        &       -0.572    &       -0.158     \\\\\n",
       "\\textbf{id\\_channel\\_9}                &     -22.4858  &     2287.246     &    -0.010  &         0.992        &    -4505.405    &     4460.434     \\\\\n",
       "\\bottomrule\n",
       "\\end{tabular}\n",
       "%\\caption{Logit Regression Results}\n",
       "\\end{center}"
      ],
      "text/plain": [
       "<class 'statsmodels.iolib.summary.Summary'>\n",
       "\"\"\"\n",
       "                            Logit Regression Results                            \n",
       "================================================================================\n",
       "Dep. Variable:     flag_transaksi_fraud   No. Observations:                14927\n",
       "Model:                            Logit   Df Residuals:                    14914\n",
       "Method:                             MLE   Df Model:                           12\n",
       "Date:                  Thu, 11 Jan 2024   Pseudo R-squ.:                  0.5790\n",
       "Time:                          14:25:01   Log-Likelihood:                -4334.5\n",
       "converged:                        False   LL-Null:                       -10295.\n",
       "Covariance Type:              nonrobust   LLR p-value:                     0.000\n",
       "==============================================================================================\n",
       "                                 coef    std err          z      P>|z|      [0.025      0.975]\n",
       "----------------------------------------------------------------------------------------------\n",
       "nilai_transaksi             2.549e-07   1.37e-08     18.650      0.000    2.28e-07    2.82e-07\n",
       "waktu_transaksi             4.549e-05   1.14e-06     39.752      0.000    4.32e-05    4.77e-05\n",
       "rata_rata_nilai_transaksi   6.933e-08   3.18e-08      2.182      0.029    7.07e-09    1.32e-07\n",
       "maksimum_nilai_transaksi   -1.684e-08   2.85e-09     -5.909      0.000   -2.24e-08   -1.13e-08\n",
       "minimum_nilai_transaksi     2.725e-06   2.21e-07     12.346      0.000    2.29e-06    3.16e-06\n",
       "rata_rata_jumlah_transaksi    -0.0988      0.024     -4.099      0.000      -0.146      -0.052\n",
       "kuartal_transaksi_2           -2.9516      0.095    -31.185      0.000      -3.137      -2.766\n",
       "kuartal_transaksi_3           -5.2644      0.138    -38.187      0.000      -5.535      -4.994\n",
       "kuartal_transaksi_4           -8.5689      0.202    -42.511      0.000      -8.964      -8.174\n",
       "kepemilikan_kartu_2           19.4428   2287.246      0.009      0.993   -4463.477    4502.362\n",
       "id_channel_4                 -23.9954   2287.246     -0.010      0.992   -4506.915    4458.924\n",
       "id_channel_8                  -0.3650      0.106     -3.455      0.001      -0.572      -0.158\n",
       "id_channel_9                 -22.4858   2287.246     -0.010      0.992   -4505.405    4460.434\n",
       "==============================================================================================\n",
       "\"\"\""
      ]
     },
     "execution_count": 765,
     "metadata": {},
     "output_type": "execute_result"
    }
   ],
   "source": [
    "model_logit3 = sm.Logit(y_train, X_train)\n",
    "model_logit3.fit().summary()"
   ]
  },
  {
   "cell_type": "code",
   "execution_count": 767,
   "id": "1547d72a-9ba9-4fc1-98c5-51134e68c258",
   "metadata": {
    "execution": {
     "iopub.execute_input": "2024-01-11T07:26:34.818161Z",
     "iopub.status.busy": "2024-01-11T07:26:34.818161Z",
     "iopub.status.idle": "2024-01-11T07:26:34.947436Z",
     "shell.execute_reply": "2024-01-11T07:26:34.946439Z",
     "shell.execute_reply.started": "2024-01-11T07:26:34.818161Z"
    }
   },
   "outputs": [
    {
     "name": "stdout",
     "output_type": "stream",
     "text": [
      "Warning: Maximum number of iterations has been exceeded.\n",
      "         Current function value: 0.290377\n",
      "         Iterations: 35\n"
     ]
    },
    {
     "name": "stderr",
     "output_type": "stream",
     "text": [
      "C:\\Users\\SaltFarmer\\miniconda3\\envs\\algoritma\\lib\\site-packages\\statsmodels\\base\\model.py:607: ConvergenceWarning: Maximum Likelihood optimization failed to converge. Check mle_retvals\n",
      "  warnings.warn(\"Maximum Likelihood optimization failed to \"\n"
     ]
    },
    {
     "data": {
      "text/plain": [
       "4595     0.475110\n",
       "15122    0.978847\n",
       "5773     0.342949\n",
       "10132    0.853132\n",
       "18484    0.757783\n",
       "           ...   \n",
       "2803     0.415036\n",
       "14465    0.998638\n",
       "12002    0.999722\n",
       "12342    0.887879\n",
       "3115     0.110515\n",
       "Length: 14927, dtype: float64"
      ]
     },
     "execution_count": 767,
     "metadata": {},
     "output_type": "execute_result"
    }
   ],
   "source": [
    "logit_pred_tr2 = model_logit3.fit().predict(X_train)\n",
    "logit_pred_tr2"
   ]
  },
  {
   "cell_type": "code",
   "execution_count": 768,
   "id": "922461b9-647c-4c89-aa2c-f22317fdb534",
   "metadata": {
    "execution": {
     "iopub.execute_input": "2024-01-11T07:26:45.281845Z",
     "iopub.status.busy": "2024-01-11T07:26:45.281845Z",
     "iopub.status.idle": "2024-01-11T07:26:45.301749Z",
     "shell.execute_reply": "2024-01-11T07:26:45.300746Z",
     "shell.execute_reply.started": "2024-01-11T07:26:45.281845Z"
    }
   },
   "outputs": [
    {
     "data": {
      "text/plain": [
       "0    7604\n",
       "1    7323\n",
       "Name: count, dtype: int64"
      ]
     },
     "execution_count": 768,
     "metadata": {},
     "output_type": "execute_result"
    }
   ],
   "source": [
    "pred_label = logit_pred_tr2.apply(lambda x: 1 if x > 0.5 else 0)\n",
    "pred_label.value_counts()"
   ]
  },
  {
   "cell_type": "code",
   "execution_count": 770,
   "id": "b2c8843d-1922-4b95-96c8-b411bfd9fe92",
   "metadata": {
    "execution": {
     "iopub.execute_input": "2024-01-11T07:27:06.603384Z",
     "iopub.status.busy": "2024-01-11T07:27:06.602384Z",
     "iopub.status.idle": "2024-01-11T07:27:06.643380Z",
     "shell.execute_reply": "2024-01-11T07:27:06.642384Z",
     "shell.execute_reply.started": "2024-01-11T07:27:06.603384Z"
    }
   },
   "outputs": [
    {
     "name": "stdout",
     "output_type": "stream",
     "text": [
      "Accuracy score: 0.8929456689220875\n",
      "Recall score: 0.8540507111935683\n",
      "Precision score: 0.9429195684828622\n"
     ]
    }
   ],
   "source": [
    "print(f'Accuracy score: {accuracy_score(y_train, pred_label)}')\n",
    "print(f'Recall score: {recall_score(y_train, pred_label)}')\n",
    "print(f'Precision score: {precision_score(y_train, pred_label)}')"
   ]
  }
 ],
 "metadata": {
  "kernelspec": {
   "display_name": "Python 3 (ipykernel)",
   "language": "python",
   "name": "python3"
  },
  "language_info": {
   "codemirror_mode": {
    "name": "ipython",
    "version": 3
   },
   "file_extension": ".py",
   "mimetype": "text/x-python",
   "name": "python",
   "nbconvert_exporter": "python",
   "pygments_lexer": "ipython3",
   "version": "3.8.18"
  },
  "toc": {
   "base_numbering": 1,
   "nav_menu": {},
   "number_sections": false,
   "sideBar": true,
   "skip_h1_title": false,
   "title_cell": "Table of Contents",
   "title_sidebar": "Contents",
   "toc_cell": false,
   "toc_position": {},
   "toc_section_display": true,
   "toc_window_display": false
  }
 },
 "nbformat": 4,
 "nbformat_minor": 5
}
